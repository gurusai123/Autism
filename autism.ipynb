{
  "nbformat": 4,
  "nbformat_minor": 0,
  "metadata": {
    "kernelspec": {
      "display_name": "Python 3",
      "language": "python",
      "name": "python3"
    },
    "language_info": {
      "codemirror_mode": {
        "name": "ipython",
        "version": 3
      },
      "file_extension": ".py",
      "mimetype": "text/x-python",
      "name": "python",
      "nbconvert_exporter": "python",
      "pygments_lexer": "ipython3",
      "version": "3.7.4"
    },
    "colab": {
      "name": "autism.ipynb",
      "provenance": []
    }
  },
  "cells": [
    {
      "cell_type": "code",
      "metadata": {
        "id": "IgbqH5xPTVxq"
      },
      "source": [
        "import os\n",
        "import pandas as pd\n",
        "data = pd.read_csv('data_autism.csv')"
      ],
      "execution_count": null,
      "outputs": []
    },
    {
      "cell_type": "code",
      "metadata": {
        "id": "8zLn9QxdsI7W",
        "outputId": "7dce189c-0a6d-47fd-ebdf-6769c2525d7f",
        "colab": {
          "base_uri": "https://localhost:8080/"
        }
      },
      "source": [
        "pip install bayesian-optimization"
      ],
      "execution_count": null,
      "outputs": [
        {
          "output_type": "stream",
          "text": [
            "Requirement already satisfied: bayesian-optimization in /usr/local/lib/python3.6/dist-packages (1.2.0)\n",
            "Requirement already satisfied: numpy>=1.9.0 in /usr/local/lib/python3.6/dist-packages (from bayesian-optimization) (1.18.5)\n",
            "Requirement already satisfied: scipy>=0.14.0 in /usr/local/lib/python3.6/dist-packages (from bayesian-optimization) (1.4.1)\n",
            "Requirement already satisfied: scikit-learn>=0.18.0 in /usr/local/lib/python3.6/dist-packages (from bayesian-optimization) (0.22.2.post1)\n",
            "Requirement already satisfied: joblib>=0.11 in /usr/local/lib/python3.6/dist-packages (from scikit-learn>=0.18.0->bayesian-optimization) (0.17.0)\n"
          ],
          "name": "stdout"
        }
      ]
    },
    {
      "cell_type": "code",
      "metadata": {
        "id": "vXF1pMUzTVxv",
        "outputId": "785195f3-d19a-4473-c77f-bbad87615850",
        "colab": {
          "base_uri": "https://localhost:8080/",
          "height": 419
        }
      },
      "source": [
        "data"
      ],
      "execution_count": null,
      "outputs": [
        {
          "output_type": "execute_result",
          "data": {
            "text/html": [
              "<div>\n",
              "<style scoped>\n",
              "    .dataframe tbody tr th:only-of-type {\n",
              "        vertical-align: middle;\n",
              "    }\n",
              "\n",
              "    .dataframe tbody tr th {\n",
              "        vertical-align: top;\n",
              "    }\n",
              "\n",
              "    .dataframe thead th {\n",
              "        text-align: right;\n",
              "    }\n",
              "</style>\n",
              "<table border=\"1\" class=\"dataframe\">\n",
              "  <thead>\n",
              "    <tr style=\"text-align: right;\">\n",
              "      <th></th>\n",
              "      <th>id</th>\n",
              "      <th>A1_Score</th>\n",
              "      <th>A2_Score</th>\n",
              "      <th>A3_Score</th>\n",
              "      <th>A4_Score</th>\n",
              "      <th>A5_Score</th>\n",
              "      <th>A6_Score</th>\n",
              "      <th>A7_Score</th>\n",
              "      <th>A8_Score</th>\n",
              "      <th>A9_Score</th>\n",
              "      <th>A10_Score</th>\n",
              "      <th>age</th>\n",
              "      <th>gender</th>\n",
              "      <th>ethnicity</th>\n",
              "      <th>jundice</th>\n",
              "      <th>austim</th>\n",
              "      <th>contry_of_res</th>\n",
              "      <th>used_app_before</th>\n",
              "      <th>result</th>\n",
              "      <th>age_desc</th>\n",
              "      <th>relation</th>\n",
              "      <th>Class/ASD</th>\n",
              "    </tr>\n",
              "  </thead>\n",
              "  <tbody>\n",
              "    <tr>\n",
              "      <th>0</th>\n",
              "      <td>1</td>\n",
              "      <td>1</td>\n",
              "      <td>1</td>\n",
              "      <td>1</td>\n",
              "      <td>1</td>\n",
              "      <td>0</td>\n",
              "      <td>0</td>\n",
              "      <td>1</td>\n",
              "      <td>1</td>\n",
              "      <td>0</td>\n",
              "      <td>0</td>\n",
              "      <td>26</td>\n",
              "      <td>f</td>\n",
              "      <td>White-European</td>\n",
              "      <td>no</td>\n",
              "      <td>no</td>\n",
              "      <td>United States</td>\n",
              "      <td>no</td>\n",
              "      <td>6</td>\n",
              "      <td>18 and more</td>\n",
              "      <td>Self</td>\n",
              "      <td>NO</td>\n",
              "    </tr>\n",
              "    <tr>\n",
              "      <th>1</th>\n",
              "      <td>2</td>\n",
              "      <td>1</td>\n",
              "      <td>1</td>\n",
              "      <td>0</td>\n",
              "      <td>1</td>\n",
              "      <td>0</td>\n",
              "      <td>0</td>\n",
              "      <td>0</td>\n",
              "      <td>1</td>\n",
              "      <td>0</td>\n",
              "      <td>1</td>\n",
              "      <td>24</td>\n",
              "      <td>m</td>\n",
              "      <td>Latino</td>\n",
              "      <td>no</td>\n",
              "      <td>yes</td>\n",
              "      <td>Brazil</td>\n",
              "      <td>no</td>\n",
              "      <td>5</td>\n",
              "      <td>18 and more</td>\n",
              "      <td>Self</td>\n",
              "      <td>NO</td>\n",
              "    </tr>\n",
              "    <tr>\n",
              "      <th>2</th>\n",
              "      <td>3</td>\n",
              "      <td>1</td>\n",
              "      <td>1</td>\n",
              "      <td>0</td>\n",
              "      <td>1</td>\n",
              "      <td>1</td>\n",
              "      <td>0</td>\n",
              "      <td>1</td>\n",
              "      <td>1</td>\n",
              "      <td>1</td>\n",
              "      <td>1</td>\n",
              "      <td>27</td>\n",
              "      <td>m</td>\n",
              "      <td>Latino</td>\n",
              "      <td>yes</td>\n",
              "      <td>yes</td>\n",
              "      <td>Spain</td>\n",
              "      <td>no</td>\n",
              "      <td>8</td>\n",
              "      <td>18 and more</td>\n",
              "      <td>Parent</td>\n",
              "      <td>YES</td>\n",
              "    </tr>\n",
              "    <tr>\n",
              "      <th>3</th>\n",
              "      <td>4</td>\n",
              "      <td>1</td>\n",
              "      <td>1</td>\n",
              "      <td>0</td>\n",
              "      <td>1</td>\n",
              "      <td>0</td>\n",
              "      <td>0</td>\n",
              "      <td>1</td>\n",
              "      <td>1</td>\n",
              "      <td>0</td>\n",
              "      <td>1</td>\n",
              "      <td>35</td>\n",
              "      <td>f</td>\n",
              "      <td>White-European</td>\n",
              "      <td>no</td>\n",
              "      <td>yes</td>\n",
              "      <td>United States</td>\n",
              "      <td>no</td>\n",
              "      <td>6</td>\n",
              "      <td>18 and more</td>\n",
              "      <td>Self</td>\n",
              "      <td>NO</td>\n",
              "    </tr>\n",
              "    <tr>\n",
              "      <th>4</th>\n",
              "      <td>5</td>\n",
              "      <td>1</td>\n",
              "      <td>0</td>\n",
              "      <td>0</td>\n",
              "      <td>0</td>\n",
              "      <td>0</td>\n",
              "      <td>0</td>\n",
              "      <td>0</td>\n",
              "      <td>1</td>\n",
              "      <td>0</td>\n",
              "      <td>0</td>\n",
              "      <td>40</td>\n",
              "      <td>f</td>\n",
              "      <td>?</td>\n",
              "      <td>no</td>\n",
              "      <td>no</td>\n",
              "      <td>Egypt</td>\n",
              "      <td>no</td>\n",
              "      <td>2</td>\n",
              "      <td>18 and more</td>\n",
              "      <td>?</td>\n",
              "      <td>NO</td>\n",
              "    </tr>\n",
              "    <tr>\n",
              "      <th>...</th>\n",
              "      <td>...</td>\n",
              "      <td>...</td>\n",
              "      <td>...</td>\n",
              "      <td>...</td>\n",
              "      <td>...</td>\n",
              "      <td>...</td>\n",
              "      <td>...</td>\n",
              "      <td>...</td>\n",
              "      <td>...</td>\n",
              "      <td>...</td>\n",
              "      <td>...</td>\n",
              "      <td>...</td>\n",
              "      <td>...</td>\n",
              "      <td>...</td>\n",
              "      <td>...</td>\n",
              "      <td>...</td>\n",
              "      <td>...</td>\n",
              "      <td>...</td>\n",
              "      <td>...</td>\n",
              "      <td>...</td>\n",
              "      <td>...</td>\n",
              "      <td>...</td>\n",
              "    </tr>\n",
              "    <tr>\n",
              "      <th>699</th>\n",
              "      <td>700</td>\n",
              "      <td>0</td>\n",
              "      <td>1</td>\n",
              "      <td>0</td>\n",
              "      <td>1</td>\n",
              "      <td>1</td>\n",
              "      <td>0</td>\n",
              "      <td>1</td>\n",
              "      <td>1</td>\n",
              "      <td>1</td>\n",
              "      <td>1</td>\n",
              "      <td>25</td>\n",
              "      <td>f</td>\n",
              "      <td>White-European</td>\n",
              "      <td>no</td>\n",
              "      <td>no</td>\n",
              "      <td>Russia</td>\n",
              "      <td>no</td>\n",
              "      <td>7</td>\n",
              "      <td>18 and more</td>\n",
              "      <td>Self</td>\n",
              "      <td>YES</td>\n",
              "    </tr>\n",
              "    <tr>\n",
              "      <th>700</th>\n",
              "      <td>701</td>\n",
              "      <td>1</td>\n",
              "      <td>0</td>\n",
              "      <td>0</td>\n",
              "      <td>0</td>\n",
              "      <td>0</td>\n",
              "      <td>0</td>\n",
              "      <td>0</td>\n",
              "      <td>1</td>\n",
              "      <td>0</td>\n",
              "      <td>1</td>\n",
              "      <td>34</td>\n",
              "      <td>m</td>\n",
              "      <td>Hispanic</td>\n",
              "      <td>no</td>\n",
              "      <td>no</td>\n",
              "      <td>Mexico</td>\n",
              "      <td>no</td>\n",
              "      <td>3</td>\n",
              "      <td>18 and more</td>\n",
              "      <td>Parent</td>\n",
              "      <td>NO</td>\n",
              "    </tr>\n",
              "    <tr>\n",
              "      <th>701</th>\n",
              "      <td>702</td>\n",
              "      <td>1</td>\n",
              "      <td>0</td>\n",
              "      <td>1</td>\n",
              "      <td>1</td>\n",
              "      <td>1</td>\n",
              "      <td>0</td>\n",
              "      <td>1</td>\n",
              "      <td>1</td>\n",
              "      <td>0</td>\n",
              "      <td>1</td>\n",
              "      <td>24</td>\n",
              "      <td>f</td>\n",
              "      <td>?</td>\n",
              "      <td>no</td>\n",
              "      <td>no</td>\n",
              "      <td>Russia</td>\n",
              "      <td>no</td>\n",
              "      <td>7</td>\n",
              "      <td>18 and more</td>\n",
              "      <td>?</td>\n",
              "      <td>YES</td>\n",
              "    </tr>\n",
              "    <tr>\n",
              "      <th>702</th>\n",
              "      <td>703</td>\n",
              "      <td>1</td>\n",
              "      <td>0</td>\n",
              "      <td>0</td>\n",
              "      <td>1</td>\n",
              "      <td>1</td>\n",
              "      <td>0</td>\n",
              "      <td>1</td>\n",
              "      <td>0</td>\n",
              "      <td>1</td>\n",
              "      <td>1</td>\n",
              "      <td>35</td>\n",
              "      <td>m</td>\n",
              "      <td>South Asian</td>\n",
              "      <td>no</td>\n",
              "      <td>no</td>\n",
              "      <td>Pakistan</td>\n",
              "      <td>no</td>\n",
              "      <td>6</td>\n",
              "      <td>18 and more</td>\n",
              "      <td>Self</td>\n",
              "      <td>NO</td>\n",
              "    </tr>\n",
              "    <tr>\n",
              "      <th>703</th>\n",
              "      <td>704</td>\n",
              "      <td>1</td>\n",
              "      <td>0</td>\n",
              "      <td>1</td>\n",
              "      <td>1</td>\n",
              "      <td>1</td>\n",
              "      <td>0</td>\n",
              "      <td>1</td>\n",
              "      <td>1</td>\n",
              "      <td>1</td>\n",
              "      <td>1</td>\n",
              "      <td>26</td>\n",
              "      <td>f</td>\n",
              "      <td>White-European</td>\n",
              "      <td>no</td>\n",
              "      <td>no</td>\n",
              "      <td>Cyprus</td>\n",
              "      <td>no</td>\n",
              "      <td>8</td>\n",
              "      <td>18 and more</td>\n",
              "      <td>Self</td>\n",
              "      <td>YES</td>\n",
              "    </tr>\n",
              "  </tbody>\n",
              "</table>\n",
              "<p>704 rows × 22 columns</p>\n",
              "</div>"
            ],
            "text/plain": [
              "      id  A1_Score  A2_Score  A3_Score  ...  result     age_desc  relation  Class/ASD\n",
              "0      1         1         1         1  ...       6  18 and more      Self         NO\n",
              "1      2         1         1         0  ...       5  18 and more      Self         NO\n",
              "2      3         1         1         0  ...       8  18 and more    Parent        YES\n",
              "3      4         1         1         0  ...       6  18 and more      Self         NO\n",
              "4      5         1         0         0  ...       2  18 and more         ?         NO\n",
              "..   ...       ...       ...       ...  ...     ...          ...       ...        ...\n",
              "699  700         0         1         0  ...       7  18 and more      Self        YES\n",
              "700  701         1         0         0  ...       3  18 and more    Parent         NO\n",
              "701  702         1         0         1  ...       7  18 and more         ?        YES\n",
              "702  703         1         0         0  ...       6  18 and more      Self         NO\n",
              "703  704         1         0         1  ...       8  18 and more      Self        YES\n",
              "\n",
              "[704 rows x 22 columns]"
            ]
          },
          "metadata": {
            "tags": []
          },
          "execution_count": 34
        }
      ]
    },
    {
      "cell_type": "code",
      "metadata": {
        "id": "oxnwY-s0TVx0"
      },
      "source": [
        "data.drop(['id','used_app_before','age_desc'],axis = 1,inplace = True)"
      ],
      "execution_count": null,
      "outputs": []
    },
    {
      "cell_type": "code",
      "metadata": {
        "id": "SPl_x0BFTVx3",
        "outputId": "5233f86d-3f2d-419c-f89f-50099ac95439",
        "colab": {
          "base_uri": "https://localhost:8080/",
          "height": 297
        }
      },
      "source": [
        "data.describe()"
      ],
      "execution_count": null,
      "outputs": [
        {
          "output_type": "execute_result",
          "data": {
            "text/html": [
              "<div>\n",
              "<style scoped>\n",
              "    .dataframe tbody tr th:only-of-type {\n",
              "        vertical-align: middle;\n",
              "    }\n",
              "\n",
              "    .dataframe tbody tr th {\n",
              "        vertical-align: top;\n",
              "    }\n",
              "\n",
              "    .dataframe thead th {\n",
              "        text-align: right;\n",
              "    }\n",
              "</style>\n",
              "<table border=\"1\" class=\"dataframe\">\n",
              "  <thead>\n",
              "    <tr style=\"text-align: right;\">\n",
              "      <th></th>\n",
              "      <th>A1_Score</th>\n",
              "      <th>A2_Score</th>\n",
              "      <th>A3_Score</th>\n",
              "      <th>A4_Score</th>\n",
              "      <th>A5_Score</th>\n",
              "      <th>A6_Score</th>\n",
              "      <th>A7_Score</th>\n",
              "      <th>A8_Score</th>\n",
              "      <th>A9_Score</th>\n",
              "      <th>A10_Score</th>\n",
              "      <th>result</th>\n",
              "    </tr>\n",
              "  </thead>\n",
              "  <tbody>\n",
              "    <tr>\n",
              "      <th>count</th>\n",
              "      <td>704.000000</td>\n",
              "      <td>704.000000</td>\n",
              "      <td>704.000000</td>\n",
              "      <td>704.000000</td>\n",
              "      <td>704.000000</td>\n",
              "      <td>704.000000</td>\n",
              "      <td>704.000000</td>\n",
              "      <td>704.000000</td>\n",
              "      <td>704.000000</td>\n",
              "      <td>704.000000</td>\n",
              "      <td>704.000000</td>\n",
              "    </tr>\n",
              "    <tr>\n",
              "      <th>mean</th>\n",
              "      <td>0.721591</td>\n",
              "      <td>0.453125</td>\n",
              "      <td>0.457386</td>\n",
              "      <td>0.495739</td>\n",
              "      <td>0.498580</td>\n",
              "      <td>0.284091</td>\n",
              "      <td>0.417614</td>\n",
              "      <td>0.649148</td>\n",
              "      <td>0.323864</td>\n",
              "      <td>0.573864</td>\n",
              "      <td>4.875000</td>\n",
              "    </tr>\n",
              "    <tr>\n",
              "      <th>std</th>\n",
              "      <td>0.448535</td>\n",
              "      <td>0.498152</td>\n",
              "      <td>0.498535</td>\n",
              "      <td>0.500337</td>\n",
              "      <td>0.500353</td>\n",
              "      <td>0.451301</td>\n",
              "      <td>0.493516</td>\n",
              "      <td>0.477576</td>\n",
              "      <td>0.468281</td>\n",
              "      <td>0.494866</td>\n",
              "      <td>2.501493</td>\n",
              "    </tr>\n",
              "    <tr>\n",
              "      <th>min</th>\n",
              "      <td>0.000000</td>\n",
              "      <td>0.000000</td>\n",
              "      <td>0.000000</td>\n",
              "      <td>0.000000</td>\n",
              "      <td>0.000000</td>\n",
              "      <td>0.000000</td>\n",
              "      <td>0.000000</td>\n",
              "      <td>0.000000</td>\n",
              "      <td>0.000000</td>\n",
              "      <td>0.000000</td>\n",
              "      <td>0.000000</td>\n",
              "    </tr>\n",
              "    <tr>\n",
              "      <th>25%</th>\n",
              "      <td>0.000000</td>\n",
              "      <td>0.000000</td>\n",
              "      <td>0.000000</td>\n",
              "      <td>0.000000</td>\n",
              "      <td>0.000000</td>\n",
              "      <td>0.000000</td>\n",
              "      <td>0.000000</td>\n",
              "      <td>0.000000</td>\n",
              "      <td>0.000000</td>\n",
              "      <td>0.000000</td>\n",
              "      <td>3.000000</td>\n",
              "    </tr>\n",
              "    <tr>\n",
              "      <th>50%</th>\n",
              "      <td>1.000000</td>\n",
              "      <td>0.000000</td>\n",
              "      <td>0.000000</td>\n",
              "      <td>0.000000</td>\n",
              "      <td>0.000000</td>\n",
              "      <td>0.000000</td>\n",
              "      <td>0.000000</td>\n",
              "      <td>1.000000</td>\n",
              "      <td>0.000000</td>\n",
              "      <td>1.000000</td>\n",
              "      <td>4.000000</td>\n",
              "    </tr>\n",
              "    <tr>\n",
              "      <th>75%</th>\n",
              "      <td>1.000000</td>\n",
              "      <td>1.000000</td>\n",
              "      <td>1.000000</td>\n",
              "      <td>1.000000</td>\n",
              "      <td>1.000000</td>\n",
              "      <td>1.000000</td>\n",
              "      <td>1.000000</td>\n",
              "      <td>1.000000</td>\n",
              "      <td>1.000000</td>\n",
              "      <td>1.000000</td>\n",
              "      <td>7.000000</td>\n",
              "    </tr>\n",
              "    <tr>\n",
              "      <th>max</th>\n",
              "      <td>1.000000</td>\n",
              "      <td>1.000000</td>\n",
              "      <td>1.000000</td>\n",
              "      <td>1.000000</td>\n",
              "      <td>1.000000</td>\n",
              "      <td>1.000000</td>\n",
              "      <td>1.000000</td>\n",
              "      <td>1.000000</td>\n",
              "      <td>1.000000</td>\n",
              "      <td>1.000000</td>\n",
              "      <td>10.000000</td>\n",
              "    </tr>\n",
              "  </tbody>\n",
              "</table>\n",
              "</div>"
            ],
            "text/plain": [
              "         A1_Score    A2_Score    A3_Score  ...    A9_Score   A10_Score      result\n",
              "count  704.000000  704.000000  704.000000  ...  704.000000  704.000000  704.000000\n",
              "mean     0.721591    0.453125    0.457386  ...    0.323864    0.573864    4.875000\n",
              "std      0.448535    0.498152    0.498535  ...    0.468281    0.494866    2.501493\n",
              "min      0.000000    0.000000    0.000000  ...    0.000000    0.000000    0.000000\n",
              "25%      0.000000    0.000000    0.000000  ...    0.000000    0.000000    3.000000\n",
              "50%      1.000000    0.000000    0.000000  ...    0.000000    1.000000    4.000000\n",
              "75%      1.000000    1.000000    1.000000  ...    1.000000    1.000000    7.000000\n",
              "max      1.000000    1.000000    1.000000  ...    1.000000    1.000000   10.000000\n",
              "\n",
              "[8 rows x 11 columns]"
            ]
          },
          "metadata": {
            "tags": []
          },
          "execution_count": 36
        }
      ]
    },
    {
      "cell_type": "code",
      "metadata": {
        "id": "Bsax4TdhTVx5",
        "outputId": "0de7f7fb-11f7-4fdf-e19e-0e733b19aa03",
        "colab": {
          "base_uri": "https://localhost:8080/"
        }
      },
      "source": [
        "data.shape"
      ],
      "execution_count": null,
      "outputs": [
        {
          "output_type": "execute_result",
          "data": {
            "text/plain": [
              "(704, 19)"
            ]
          },
          "metadata": {
            "tags": []
          },
          "execution_count": 37
        }
      ]
    },
    {
      "cell_type": "code",
      "metadata": {
        "id": "DHOXljScTVx8"
      },
      "source": [
        "columns = data.columns"
      ],
      "execution_count": null,
      "outputs": []
    },
    {
      "cell_type": "code",
      "metadata": {
        "id": "Vydf2z2qTVx_",
        "outputId": "127902b8-384f-45ba-d5df-639e12fb0d71",
        "colab": {
          "base_uri": "https://localhost:8080/"
        }
      },
      "source": [
        "columns"
      ],
      "execution_count": null,
      "outputs": [
        {
          "output_type": "execute_result",
          "data": {
            "text/plain": [
              "Index(['A1_Score', 'A2_Score', 'A3_Score', 'A4_Score', 'A5_Score', 'A6_Score',\n",
              "       'A7_Score', 'A8_Score', 'A9_Score', 'A10_Score', 'age', 'gender',\n",
              "       'ethnicity', 'jundice', 'austim', 'contry_of_res', 'result', 'relation',\n",
              "       'Class/ASD'],\n",
              "      dtype='object')"
            ]
          },
          "metadata": {
            "tags": []
          },
          "execution_count": 39
        }
      ]
    },
    {
      "cell_type": "code",
      "metadata": {
        "id": "XE7avQTgTVyC",
        "outputId": "b89e53b8-6657-4ca8-b3ba-accf20343192",
        "colab": {
          "base_uri": "https://localhost:8080/"
        }
      },
      "source": [
        "data.isnull().sum()"
      ],
      "execution_count": null,
      "outputs": [
        {
          "output_type": "execute_result",
          "data": {
            "text/plain": [
              "A1_Score         0\n",
              "A2_Score         0\n",
              "A3_Score         0\n",
              "A4_Score         0\n",
              "A5_Score         0\n",
              "A6_Score         0\n",
              "A7_Score         0\n",
              "A8_Score         0\n",
              "A9_Score         0\n",
              "A10_Score        0\n",
              "age              0\n",
              "gender           0\n",
              "ethnicity        0\n",
              "jundice          0\n",
              "austim           0\n",
              "contry_of_res    0\n",
              "result           0\n",
              "relation         0\n",
              "Class/ASD        0\n",
              "dtype: int64"
            ]
          },
          "metadata": {
            "tags": []
          },
          "execution_count": 40
        }
      ]
    },
    {
      "cell_type": "code",
      "metadata": {
        "id": "QvihURRaTVyF",
        "outputId": "3b463abb-e41d-4f90-d1a2-7853e4228f4e",
        "colab": {
          "base_uri": "https://localhost:8080/"
        }
      },
      "source": [
        "data[data['ethnicity'] == '?'].shape"
      ],
      "execution_count": null,
      "outputs": [
        {
          "output_type": "execute_result",
          "data": {
            "text/plain": [
              "(95, 19)"
            ]
          },
          "metadata": {
            "tags": []
          },
          "execution_count": 41
        }
      ]
    },
    {
      "cell_type": "code",
      "metadata": {
        "id": "r7FWGO6ZTVyJ",
        "outputId": "09974688-916a-4fdc-dc2a-a4a13922ffdf",
        "colab": {
          "base_uri": "https://localhost:8080/"
        }
      },
      "source": [
        "data[data['relation'] == '?'].shape"
      ],
      "execution_count": null,
      "outputs": [
        {
          "output_type": "execute_result",
          "data": {
            "text/plain": [
              "(95, 19)"
            ]
          },
          "metadata": {
            "tags": []
          },
          "execution_count": 42
        }
      ]
    },
    {
      "cell_type": "code",
      "metadata": {
        "id": "01fRSslITVyM"
      },
      "source": [
        "import numpy as np\n",
        "from sklearn.impute import SimpleImputer\n",
        "imp = SimpleImputer(missing_values='?', strategy='most_frequent')\n",
        "data = pd.DataFrame(imp.fit_transform(data),columns = columns)"
      ],
      "execution_count": null,
      "outputs": []
    },
    {
      "cell_type": "code",
      "metadata": {
        "id": "yhf0n0utTVyP",
        "outputId": "474e497b-263f-49d0-d106-359c1d190763",
        "colab": {
          "base_uri": "https://localhost:8080/"
        }
      },
      "source": [
        "data[data['ethnicity'] == '?'].shape"
      ],
      "execution_count": null,
      "outputs": [
        {
          "output_type": "execute_result",
          "data": {
            "text/plain": [
              "(0, 19)"
            ]
          },
          "metadata": {
            "tags": []
          },
          "execution_count": 44
        }
      ]
    },
    {
      "cell_type": "code",
      "metadata": {
        "id": "Uz6lL32wTVyS",
        "outputId": "2fa0c37b-86e9-4912-b062-5c99c27e530a",
        "colab": {
          "base_uri": "https://localhost:8080/"
        }
      },
      "source": [
        "data[data['relation'] == '?'].shape"
      ],
      "execution_count": null,
      "outputs": [
        {
          "output_type": "execute_result",
          "data": {
            "text/plain": [
              "(0, 19)"
            ]
          },
          "metadata": {
            "tags": []
          },
          "execution_count": 45
        }
      ]
    },
    {
      "cell_type": "code",
      "metadata": {
        "id": "-eWGLV_eTVyV",
        "outputId": "d41da3f3-62ff-42ae-9cb3-91aa849e5468",
        "colab": {
          "base_uri": "https://localhost:8080/"
        }
      },
      "source": [
        "data['Class/ASD'].unique()"
      ],
      "execution_count": null,
      "outputs": [
        {
          "output_type": "execute_result",
          "data": {
            "text/plain": [
              "array(['NO', 'YES'], dtype=object)"
            ]
          },
          "metadata": {
            "tags": []
          },
          "execution_count": 46
        }
      ]
    },
    {
      "cell_type": "code",
      "metadata": {
        "id": "j90pAnfSTVyZ"
      },
      "source": [
        "data['Class/ASD'].replace(['NO', 'YES'],[0,1],inplace = True)"
      ],
      "execution_count": null,
      "outputs": []
    },
    {
      "cell_type": "code",
      "metadata": {
        "id": "kQiFznU-TVyc",
        "outputId": "e8c83baf-20f6-4ae0-e9d9-88ebf155509c",
        "colab": {
          "base_uri": "https://localhost:8080/"
        }
      },
      "source": [
        "data['Class/ASD'].unique()"
      ],
      "execution_count": null,
      "outputs": [
        {
          "output_type": "execute_result",
          "data": {
            "text/plain": [
              "array([0, 1])"
            ]
          },
          "metadata": {
            "tags": []
          },
          "execution_count": 48
        }
      ]
    },
    {
      "cell_type": "code",
      "metadata": {
        "id": "g0TW8e8hTVyf"
      },
      "source": [
        "data['gender'].replace(['f', 'm'],[0,1],inplace = True)"
      ],
      "execution_count": null,
      "outputs": []
    },
    {
      "cell_type": "code",
      "metadata": {
        "id": "jvWma0MmTVyi"
      },
      "source": [
        "data['jundice'].replace(['no', 'yes'],[0,1],inplace = True)"
      ],
      "execution_count": null,
      "outputs": []
    },
    {
      "cell_type": "code",
      "metadata": {
        "id": "HMtW6m53TVyl"
      },
      "source": [
        "data['austim'].replace(['no', 'yes'],[0,1],inplace = True)"
      ],
      "execution_count": null,
      "outputs": []
    },
    {
      "cell_type": "code",
      "metadata": {
        "id": "BT-INbzMTVyo"
      },
      "source": [
        "#data['relation'].replace(['self', 'Parent'],[0,1],inplace = True)"
      ],
      "execution_count": null,
      "outputs": []
    },
    {
      "cell_type": "code",
      "metadata": {
        "id": "YuE2vgu_TVyq",
        "outputId": "0d1586fc-f36d-45a0-d97a-50ea6eb35363",
        "colab": {
          "base_uri": "https://localhost:8080/",
          "height": 419
        }
      },
      "source": [
        "data"
      ],
      "execution_count": null,
      "outputs": [
        {
          "output_type": "execute_result",
          "data": {
            "text/html": [
              "<div>\n",
              "<style scoped>\n",
              "    .dataframe tbody tr th:only-of-type {\n",
              "        vertical-align: middle;\n",
              "    }\n",
              "\n",
              "    .dataframe tbody tr th {\n",
              "        vertical-align: top;\n",
              "    }\n",
              "\n",
              "    .dataframe thead th {\n",
              "        text-align: right;\n",
              "    }\n",
              "</style>\n",
              "<table border=\"1\" class=\"dataframe\">\n",
              "  <thead>\n",
              "    <tr style=\"text-align: right;\">\n",
              "      <th></th>\n",
              "      <th>A1_Score</th>\n",
              "      <th>A2_Score</th>\n",
              "      <th>A3_Score</th>\n",
              "      <th>A4_Score</th>\n",
              "      <th>A5_Score</th>\n",
              "      <th>A6_Score</th>\n",
              "      <th>A7_Score</th>\n",
              "      <th>A8_Score</th>\n",
              "      <th>A9_Score</th>\n",
              "      <th>A10_Score</th>\n",
              "      <th>age</th>\n",
              "      <th>gender</th>\n",
              "      <th>ethnicity</th>\n",
              "      <th>jundice</th>\n",
              "      <th>austim</th>\n",
              "      <th>contry_of_res</th>\n",
              "      <th>result</th>\n",
              "      <th>relation</th>\n",
              "      <th>Class/ASD</th>\n",
              "    </tr>\n",
              "  </thead>\n",
              "  <tbody>\n",
              "    <tr>\n",
              "      <th>0</th>\n",
              "      <td>1</td>\n",
              "      <td>1</td>\n",
              "      <td>1</td>\n",
              "      <td>1</td>\n",
              "      <td>0</td>\n",
              "      <td>0</td>\n",
              "      <td>1</td>\n",
              "      <td>1</td>\n",
              "      <td>0</td>\n",
              "      <td>0</td>\n",
              "      <td>26</td>\n",
              "      <td>0</td>\n",
              "      <td>White-European</td>\n",
              "      <td>0</td>\n",
              "      <td>0</td>\n",
              "      <td>United States</td>\n",
              "      <td>6</td>\n",
              "      <td>Self</td>\n",
              "      <td>0</td>\n",
              "    </tr>\n",
              "    <tr>\n",
              "      <th>1</th>\n",
              "      <td>1</td>\n",
              "      <td>1</td>\n",
              "      <td>0</td>\n",
              "      <td>1</td>\n",
              "      <td>0</td>\n",
              "      <td>0</td>\n",
              "      <td>0</td>\n",
              "      <td>1</td>\n",
              "      <td>0</td>\n",
              "      <td>1</td>\n",
              "      <td>24</td>\n",
              "      <td>1</td>\n",
              "      <td>Latino</td>\n",
              "      <td>0</td>\n",
              "      <td>1</td>\n",
              "      <td>Brazil</td>\n",
              "      <td>5</td>\n",
              "      <td>Self</td>\n",
              "      <td>0</td>\n",
              "    </tr>\n",
              "    <tr>\n",
              "      <th>2</th>\n",
              "      <td>1</td>\n",
              "      <td>1</td>\n",
              "      <td>0</td>\n",
              "      <td>1</td>\n",
              "      <td>1</td>\n",
              "      <td>0</td>\n",
              "      <td>1</td>\n",
              "      <td>1</td>\n",
              "      <td>1</td>\n",
              "      <td>1</td>\n",
              "      <td>27</td>\n",
              "      <td>1</td>\n",
              "      <td>Latino</td>\n",
              "      <td>1</td>\n",
              "      <td>1</td>\n",
              "      <td>Spain</td>\n",
              "      <td>8</td>\n",
              "      <td>Parent</td>\n",
              "      <td>1</td>\n",
              "    </tr>\n",
              "    <tr>\n",
              "      <th>3</th>\n",
              "      <td>1</td>\n",
              "      <td>1</td>\n",
              "      <td>0</td>\n",
              "      <td>1</td>\n",
              "      <td>0</td>\n",
              "      <td>0</td>\n",
              "      <td>1</td>\n",
              "      <td>1</td>\n",
              "      <td>0</td>\n",
              "      <td>1</td>\n",
              "      <td>35</td>\n",
              "      <td>0</td>\n",
              "      <td>White-European</td>\n",
              "      <td>0</td>\n",
              "      <td>1</td>\n",
              "      <td>United States</td>\n",
              "      <td>6</td>\n",
              "      <td>Self</td>\n",
              "      <td>0</td>\n",
              "    </tr>\n",
              "    <tr>\n",
              "      <th>4</th>\n",
              "      <td>1</td>\n",
              "      <td>0</td>\n",
              "      <td>0</td>\n",
              "      <td>0</td>\n",
              "      <td>0</td>\n",
              "      <td>0</td>\n",
              "      <td>0</td>\n",
              "      <td>1</td>\n",
              "      <td>0</td>\n",
              "      <td>0</td>\n",
              "      <td>40</td>\n",
              "      <td>0</td>\n",
              "      <td>White-European</td>\n",
              "      <td>0</td>\n",
              "      <td>0</td>\n",
              "      <td>Egypt</td>\n",
              "      <td>2</td>\n",
              "      <td>Self</td>\n",
              "      <td>0</td>\n",
              "    </tr>\n",
              "    <tr>\n",
              "      <th>...</th>\n",
              "      <td>...</td>\n",
              "      <td>...</td>\n",
              "      <td>...</td>\n",
              "      <td>...</td>\n",
              "      <td>...</td>\n",
              "      <td>...</td>\n",
              "      <td>...</td>\n",
              "      <td>...</td>\n",
              "      <td>...</td>\n",
              "      <td>...</td>\n",
              "      <td>...</td>\n",
              "      <td>...</td>\n",
              "      <td>...</td>\n",
              "      <td>...</td>\n",
              "      <td>...</td>\n",
              "      <td>...</td>\n",
              "      <td>...</td>\n",
              "      <td>...</td>\n",
              "      <td>...</td>\n",
              "    </tr>\n",
              "    <tr>\n",
              "      <th>699</th>\n",
              "      <td>0</td>\n",
              "      <td>1</td>\n",
              "      <td>0</td>\n",
              "      <td>1</td>\n",
              "      <td>1</td>\n",
              "      <td>0</td>\n",
              "      <td>1</td>\n",
              "      <td>1</td>\n",
              "      <td>1</td>\n",
              "      <td>1</td>\n",
              "      <td>25</td>\n",
              "      <td>0</td>\n",
              "      <td>White-European</td>\n",
              "      <td>0</td>\n",
              "      <td>0</td>\n",
              "      <td>Russia</td>\n",
              "      <td>7</td>\n",
              "      <td>Self</td>\n",
              "      <td>1</td>\n",
              "    </tr>\n",
              "    <tr>\n",
              "      <th>700</th>\n",
              "      <td>1</td>\n",
              "      <td>0</td>\n",
              "      <td>0</td>\n",
              "      <td>0</td>\n",
              "      <td>0</td>\n",
              "      <td>0</td>\n",
              "      <td>0</td>\n",
              "      <td>1</td>\n",
              "      <td>0</td>\n",
              "      <td>1</td>\n",
              "      <td>34</td>\n",
              "      <td>1</td>\n",
              "      <td>Hispanic</td>\n",
              "      <td>0</td>\n",
              "      <td>0</td>\n",
              "      <td>Mexico</td>\n",
              "      <td>3</td>\n",
              "      <td>Parent</td>\n",
              "      <td>0</td>\n",
              "    </tr>\n",
              "    <tr>\n",
              "      <th>701</th>\n",
              "      <td>1</td>\n",
              "      <td>0</td>\n",
              "      <td>1</td>\n",
              "      <td>1</td>\n",
              "      <td>1</td>\n",
              "      <td>0</td>\n",
              "      <td>1</td>\n",
              "      <td>1</td>\n",
              "      <td>0</td>\n",
              "      <td>1</td>\n",
              "      <td>24</td>\n",
              "      <td>0</td>\n",
              "      <td>White-European</td>\n",
              "      <td>0</td>\n",
              "      <td>0</td>\n",
              "      <td>Russia</td>\n",
              "      <td>7</td>\n",
              "      <td>Self</td>\n",
              "      <td>1</td>\n",
              "    </tr>\n",
              "    <tr>\n",
              "      <th>702</th>\n",
              "      <td>1</td>\n",
              "      <td>0</td>\n",
              "      <td>0</td>\n",
              "      <td>1</td>\n",
              "      <td>1</td>\n",
              "      <td>0</td>\n",
              "      <td>1</td>\n",
              "      <td>0</td>\n",
              "      <td>1</td>\n",
              "      <td>1</td>\n",
              "      <td>35</td>\n",
              "      <td>1</td>\n",
              "      <td>South Asian</td>\n",
              "      <td>0</td>\n",
              "      <td>0</td>\n",
              "      <td>Pakistan</td>\n",
              "      <td>6</td>\n",
              "      <td>Self</td>\n",
              "      <td>0</td>\n",
              "    </tr>\n",
              "    <tr>\n",
              "      <th>703</th>\n",
              "      <td>1</td>\n",
              "      <td>0</td>\n",
              "      <td>1</td>\n",
              "      <td>1</td>\n",
              "      <td>1</td>\n",
              "      <td>0</td>\n",
              "      <td>1</td>\n",
              "      <td>1</td>\n",
              "      <td>1</td>\n",
              "      <td>1</td>\n",
              "      <td>26</td>\n",
              "      <td>0</td>\n",
              "      <td>White-European</td>\n",
              "      <td>0</td>\n",
              "      <td>0</td>\n",
              "      <td>Cyprus</td>\n",
              "      <td>8</td>\n",
              "      <td>Self</td>\n",
              "      <td>1</td>\n",
              "    </tr>\n",
              "  </tbody>\n",
              "</table>\n",
              "<p>704 rows × 19 columns</p>\n",
              "</div>"
            ],
            "text/plain": [
              "    A1_Score A2_Score A3_Score  ... result relation Class/ASD\n",
              "0          1        1        1  ...      6     Self         0\n",
              "1          1        1        0  ...      5     Self         0\n",
              "2          1        1        0  ...      8   Parent         1\n",
              "3          1        1        0  ...      6     Self         0\n",
              "4          1        0        0  ...      2     Self         0\n",
              "..       ...      ...      ...  ...    ...      ...       ...\n",
              "699        0        1        0  ...      7     Self         1\n",
              "700        1        0        0  ...      3   Parent         0\n",
              "701        1        0        1  ...      7     Self         1\n",
              "702        1        0        0  ...      6     Self         0\n",
              "703        1        0        1  ...      8     Self         1\n",
              "\n",
              "[704 rows x 19 columns]"
            ]
          },
          "metadata": {
            "tags": []
          },
          "execution_count": 53
        }
      ]
    },
    {
      "cell_type": "code",
      "metadata": {
        "id": "bjyvC_fNTVyt"
      },
      "source": [
        "import matplotlib.pyplot as plt\n",
        "import seaborn as sns\n",
        "def plot_e(e):\n",
        "    plt.figure(figsize=(15,6))\n",
        "    sns.countplot(x='contry_of_res',data=data[data['ethnicity']==e],order=data[data['ethnicity']==e]['contry_of_res'].value_counts().index[:10],palette='viridis')\n",
        "    plt.title(f'Positive ASD of {e} Ethnicities country wise distribution')\n",
        "    plt.xlabel('Countries')\n",
        "    plt.tight_layout()"
      ],
      "execution_count": null,
      "outputs": []
    },
    {
      "cell_type": "code",
      "metadata": {
        "id": "eN4cuC3LTVyw",
        "outputId": "493f0834-39f4-4cf7-9d06-788d65e1bac3",
        "colab": {
          "base_uri": "https://localhost:8080/",
          "height": 1000
        }
      },
      "source": [
        "for i in data['ethnicity'].unique():\n",
        "    plot_e(i)"
      ],
      "execution_count": null,
      "outputs": [
        {
          "output_type": "display_data",
          "data": {
            "image/png": "[encoded data removed]",
            "text/plain": [
              "<Figure size 1080x432 with 1 Axes>"
            ]
          },
          "metadata": {
            "tags": [],
            "needs_background": "light"
          }
        },
        {
          "output_type": "display_data",
          "data": {
            "image/png": "[encoded data removed]",
            "text/plain": [
              "<Figure size 1080x432 with 1 Axes>"
            ]
          },
          "metadata": {
            "tags": [],
            "needs_background": "light"
          }
        },
        {
          "output_type": "display_data",
          "data": {
            "image/png": "[encoded data removed]",
            "text/plain": [
              "<Figure size 1080x432 with 1 Axes>"
            ]
          },
          "metadata": {
            "tags": [],
            "needs_background": "light"
          }
        },
        {
          "output_type": "display_data",
          "data": {
            "image/png": "[encoded data removed]",
            "text/plain": [
              "<Figure size 1080x432 with 1 Axes>"
            ]
          },
          "metadata": {
            "tags": [],
            "needs_background": "light"
          }
        },
        {
          "output_type": "display_data",
          "data": {
            "image/png": "[encoded data removed]",
            "text/plain": [
              "<Figure size 1080x432 with 1 Axes>"
            ]
          },
          "metadata": {
            "tags": [],
            "needs_background": "light"
          }
        },
        {
          "output_type": "display_data",
          "data": {
            "image/png": "[encoded data removed]",
            "text/plain": [
              "<Figure size 1080x432 with 1 Axes>"
            ]
          },
          "metadata": {
            "tags": [],
            "needs_background": "light"
          }
        },
        {
          "output_type": "display_data",
          "data": {
            "image/png": "[encoded data removed]",
            "text/plain": [
              "<Figure size 1080x432 with 1 Axes>"
            ]
          },
          "metadata": {
            "tags": [],
            "needs_background": "light"
          }
        },
        {
          "output_type": "display_data",
          "data": {
            "image/png": "[encoded data removed]",
            "text/plain": [
              "<Figure size 1080x432 with 1 Axes>"
            ]
          },
          "metadata": {
            "tags": [],
            "needs_background": "light"
          }
        },
        {
          "output_type": "display_data",
          "data": {
            "image/png": "[encoded data removed]",
            "text/plain": [
              "<Figure size 1080x432 with 1 Axes>"
            ]
          },
          "metadata": {
            "tags": [],
            "needs_background": "light"
          }
        },
        {
          "output_type": "display_data",
          "data": {
            "image/png": "[encoded data removed]",
            "text/plain": [
              "<Figure size 1080x432 with 1 Axes>"
            ]
          },
          "metadata": {
            "tags": [],
            "needs_background": "light"
          }
        },
        {
          "output_type": "display_data",
          "data": {
            "image/png": "[encoded data removed]",
            "text/plain": [
              "<Figure size 1080x432 with 1 Axes>"
            ]
          },
          "metadata": {
            "tags": [],
            "needs_background": "light"
          }
        }
      ]
    },
    {
      "cell_type": "code",
      "metadata": {
        "id": "ln5g9WXbTVyz",
        "outputId": "146a99d4-d6f7-486b-bf29-74fb843b13fc",
        "colab": {
          "base_uri": "https://localhost:8080/",
          "height": 441
        }
      },
      "source": [
        "fig, ax = plt.subplots(1,2,figsize=(20,6))\n",
        "sns.countplot(x='austim',data=data,hue='ethnicity',palette='rainbow',ax=ax[0])\n",
        "ax[0].set_title('Positive ASD Adult relatives with Autism distribution for different ethnicities')\n",
        "ax[0].set_xlabel('Adult Relatives with ASD')\n",
        "#sns.countplot(x='Family_mem_with_ASD',data=data2,hue='Ethnicity',palette='rainbow',ax=ax[1])\n",
        "#ax[1].set_title('Positive ASD Toddler relatives with Autism distribution for different ethnicities')\n",
        "#ax[1].set_xlabel('Toddler Relatives with ASD')\n",
        "plt.tight_layout()"
      ],
      "execution_count": null,
      "outputs": [
        {
          "output_type": "display_data",
          "data": {
            "image/png": "[encoded data removed]",
            "text/plain": [
              "<Figure size 1440x432 with 2 Axes>"
            ]
          },
          "metadata": {
            "tags": [],
            "needs_background": "light"
          }
        }
      ]
    },
    {
      "cell_type": "code",
      "metadata": {
        "id": "pOEztwifTVy2",
        "outputId": "a84c9ffb-6012-4b9e-ad01-b4a34ff5c141",
        "colab": {
          "base_uri": "https://localhost:8080/"
        }
      },
      "source": [
        "data['contry_of_res'].unique()"
      ],
      "execution_count": null,
      "outputs": [
        {
          "output_type": "execute_result",
          "data": {
            "text/plain": [
              "array(['United States', 'Brazil', 'Spain', 'Egypt', 'New Zealand',\n",
              "       'Bahamas', 'Burundi', 'Austria', 'Argentina', 'Jordan', 'Ireland',\n",
              "       'United Arab Emirates', 'Afghanistan', 'Lebanon', 'United Kingdom',\n",
              "       'South Africa', 'Italy', 'Pakistan', 'Bangladesh', 'Chile',\n",
              "       'France', 'China', 'Australia', 'Canada', 'Saudi Arabia',\n",
              "       'Netherlands', 'Romania', 'Sweden', 'Tonga', 'Oman', 'India',\n",
              "       'Philippines', 'Sri Lanka', 'Sierra Leone', 'Ethiopia', 'Viet Nam',\n",
              "       'Iran', 'Costa Rica', 'Germany', 'Mexico', 'Russia', 'Armenia',\n",
              "       'Iceland', 'Nicaragua', 'Hong Kong', 'Japan', 'Ukraine',\n",
              "       'Kazakhstan', 'AmericanSamoa', 'Uruguay', 'Serbia', 'Portugal',\n",
              "       'Malaysia', 'Ecuador', 'Niger', 'Belgium', 'Bolivia', 'Aruba',\n",
              "       'Finland', 'Turkey', 'Nepal', 'Indonesia', 'Angola', 'Azerbaijan',\n",
              "       'Iraq', 'Czech Republic', 'Cyprus'], dtype=object)"
            ]
          },
          "metadata": {
            "tags": []
          },
          "execution_count": 57
        }
      ]
    },
    {
      "cell_type": "code",
      "metadata": {
        "id": "4bgK2ePJTVy5",
        "outputId": "8cc841fe-4ac6-4edd-a9e9-16ef7f0f0b12",
        "colab": {
          "base_uri": "https://localhost:8080/"
        }
      },
      "source": [
        "data['ethnicity'].unique()"
      ],
      "execution_count": null,
      "outputs": [
        {
          "output_type": "execute_result",
          "data": {
            "text/plain": [
              "array(['White-European', 'Latino', 'Others', 'Black', 'Asian',\n",
              "       'Middle Eastern ', 'Pasifika', 'South Asian', 'Hispanic',\n",
              "       'Turkish', 'others'], dtype=object)"
            ]
          },
          "metadata": {
            "tags": []
          },
          "execution_count": 58
        }
      ]
    },
    {
      "cell_type": "code",
      "metadata": {
        "id": "I7-xGG4bTVy8",
        "outputId": "c1f7dfd7-0d27-4b26-8f33-d97c62cbdb88",
        "colab": {
          "base_uri": "https://localhost:8080/"
        }
      },
      "source": [
        "data['relation'].unique()"
      ],
      "execution_count": null,
      "outputs": [
        {
          "output_type": "execute_result",
          "data": {
            "text/plain": [
              "array(['Self', 'Parent', 'Health care professional', 'Relative', 'Others'],\n",
              "      dtype=object)"
            ]
          },
          "metadata": {
            "tags": []
          },
          "execution_count": 59
        }
      ]
    },
    {
      "cell_type": "code",
      "metadata": {
        "id": "9fumfLNGTVy_",
        "outputId": "54f68d04-bbe0-4492-aea8-9f026fcf3fc7",
        "colab": {
          "base_uri": "https://localhost:8080/"
        }
      },
      "source": [
        "data['age'].unique()"
      ],
      "execution_count": null,
      "outputs": [
        {
          "output_type": "execute_result",
          "data": {
            "text/plain": [
              "array(['26', '24', '27', '35', '40', '36', '17', '64', '29', '33', '18',\n",
              "       '31', '30', '34', '38', '42', '43', '48', '37', '55', '50', '53',\n",
              "       '20', '28', '21', '383', '47', '32', '44', '19', '58', '45', '22',\n",
              "       '39', '25', '23', '54', '60', '41', '46', '56', '61', '59', '52',\n",
              "       '49', '51'], dtype=object)"
            ]
          },
          "metadata": {
            "tags": []
          },
          "execution_count": 60
        }
      ]
    },
    {
      "cell_type": "code",
      "metadata": {
        "id": "rzTKEGZ2TVzB"
      },
      "source": [
        "#data['']"
      ],
      "execution_count": null,
      "outputs": []
    },
    {
      "cell_type": "code",
      "metadata": {
        "id": "uzl0byumTVzE"
      },
      "source": [
        "data1 = pd.read_csv('datasets_38367_58429_Toddler Autism dataset July 2018.csv',na_values = '?')"
      ],
      "execution_count": null,
      "outputs": []
    },
    {
      "cell_type": "code",
      "metadata": {
        "id": "Lw9ZjiTmTVzH",
        "outputId": "a6a5279c-8a11-4c7c-fbd7-bce7a27b36ac",
        "colab": {
          "base_uri": "https://localhost:8080/",
          "height": 204
        }
      },
      "source": [
        "data1.head()"
      ],
      "execution_count": null,
      "outputs": [
        {
          "output_type": "execute_result",
          "data": {
            "text/html": [
              "<div>\n",
              "<style scoped>\n",
              "    .dataframe tbody tr th:only-of-type {\n",
              "        vertical-align: middle;\n",
              "    }\n",
              "\n",
              "    .dataframe tbody tr th {\n",
              "        vertical-align: top;\n",
              "    }\n",
              "\n",
              "    .dataframe thead th {\n",
              "        text-align: right;\n",
              "    }\n",
              "</style>\n",
              "<table border=\"1\" class=\"dataframe\">\n",
              "  <thead>\n",
              "    <tr style=\"text-align: right;\">\n",
              "      <th></th>\n",
              "      <th>Case_No</th>\n",
              "      <th>A1</th>\n",
              "      <th>A2</th>\n",
              "      <th>A3</th>\n",
              "      <th>A4</th>\n",
              "      <th>A5</th>\n",
              "      <th>A6</th>\n",
              "      <th>A7</th>\n",
              "      <th>A8</th>\n",
              "      <th>A9</th>\n",
              "      <th>A10</th>\n",
              "      <th>Age_Mons</th>\n",
              "      <th>Qchat-10-Score</th>\n",
              "      <th>Sex</th>\n",
              "      <th>Ethnicity</th>\n",
              "      <th>Jaundice</th>\n",
              "      <th>Family_mem_with_ASD</th>\n",
              "      <th>Who completed the test</th>\n",
              "      <th>Class/ASD Traits</th>\n",
              "    </tr>\n",
              "  </thead>\n",
              "  <tbody>\n",
              "    <tr>\n",
              "      <th>0</th>\n",
              "      <td>1</td>\n",
              "      <td>0</td>\n",
              "      <td>0</td>\n",
              "      <td>0</td>\n",
              "      <td>0</td>\n",
              "      <td>0</td>\n",
              "      <td>0</td>\n",
              "      <td>1</td>\n",
              "      <td>1</td>\n",
              "      <td>0</td>\n",
              "      <td>1</td>\n",
              "      <td>28</td>\n",
              "      <td>3</td>\n",
              "      <td>f</td>\n",
              "      <td>middle eastern</td>\n",
              "      <td>yes</td>\n",
              "      <td>no</td>\n",
              "      <td>family member</td>\n",
              "      <td>No</td>\n",
              "    </tr>\n",
              "    <tr>\n",
              "      <th>1</th>\n",
              "      <td>2</td>\n",
              "      <td>1</td>\n",
              "      <td>1</td>\n",
              "      <td>0</td>\n",
              "      <td>0</td>\n",
              "      <td>0</td>\n",
              "      <td>1</td>\n",
              "      <td>1</td>\n",
              "      <td>0</td>\n",
              "      <td>0</td>\n",
              "      <td>0</td>\n",
              "      <td>36</td>\n",
              "      <td>4</td>\n",
              "      <td>m</td>\n",
              "      <td>White European</td>\n",
              "      <td>yes</td>\n",
              "      <td>no</td>\n",
              "      <td>family member</td>\n",
              "      <td>Yes</td>\n",
              "    </tr>\n",
              "    <tr>\n",
              "      <th>2</th>\n",
              "      <td>3</td>\n",
              "      <td>1</td>\n",
              "      <td>0</td>\n",
              "      <td>0</td>\n",
              "      <td>0</td>\n",
              "      <td>0</td>\n",
              "      <td>0</td>\n",
              "      <td>1</td>\n",
              "      <td>1</td>\n",
              "      <td>0</td>\n",
              "      <td>1</td>\n",
              "      <td>36</td>\n",
              "      <td>4</td>\n",
              "      <td>m</td>\n",
              "      <td>middle eastern</td>\n",
              "      <td>yes</td>\n",
              "      <td>no</td>\n",
              "      <td>family member</td>\n",
              "      <td>Yes</td>\n",
              "    </tr>\n",
              "    <tr>\n",
              "      <th>3</th>\n",
              "      <td>4</td>\n",
              "      <td>1</td>\n",
              "      <td>1</td>\n",
              "      <td>1</td>\n",
              "      <td>1</td>\n",
              "      <td>1</td>\n",
              "      <td>1</td>\n",
              "      <td>1</td>\n",
              "      <td>1</td>\n",
              "      <td>1</td>\n",
              "      <td>1</td>\n",
              "      <td>24</td>\n",
              "      <td>10</td>\n",
              "      <td>m</td>\n",
              "      <td>Hispanic</td>\n",
              "      <td>no</td>\n",
              "      <td>no</td>\n",
              "      <td>family member</td>\n",
              "      <td>Yes</td>\n",
              "    </tr>\n",
              "    <tr>\n",
              "      <th>4</th>\n",
              "      <td>5</td>\n",
              "      <td>1</td>\n",
              "      <td>1</td>\n",
              "      <td>0</td>\n",
              "      <td>1</td>\n",
              "      <td>1</td>\n",
              "      <td>1</td>\n",
              "      <td>1</td>\n",
              "      <td>1</td>\n",
              "      <td>1</td>\n",
              "      <td>1</td>\n",
              "      <td>20</td>\n",
              "      <td>9</td>\n",
              "      <td>f</td>\n",
              "      <td>White European</td>\n",
              "      <td>no</td>\n",
              "      <td>yes</td>\n",
              "      <td>family member</td>\n",
              "      <td>Yes</td>\n",
              "    </tr>\n",
              "  </tbody>\n",
              "</table>\n",
              "</div>"
            ],
            "text/plain": [
              "   Case_No  A1  A2  ...  Family_mem_with_ASD  Who completed the test  Class/ASD Traits \n",
              "0        1   0   0  ...                   no           family member                 No\n",
              "1        2   1   1  ...                   no           family member                Yes\n",
              "2        3   1   0  ...                   no           family member                Yes\n",
              "3        4   1   1  ...                   no           family member                Yes\n",
              "4        5   1   1  ...                  yes           family member                Yes\n",
              "\n",
              "[5 rows x 19 columns]"
            ]
          },
          "metadata": {
            "tags": []
          },
          "execution_count": 63
        }
      ]
    },
    {
      "cell_type": "code",
      "metadata": {
        "id": "urxo4zEiTVzL"
      },
      "source": [
        "data1.drop('Case_No',inplace = True,axis = 1)"
      ],
      "execution_count": null,
      "outputs": []
    },
    {
      "cell_type": "code",
      "metadata": {
        "id": "Q3sd-t1MTVzO",
        "outputId": "35ce2185-4810-4b9c-c797-9e797e462b57",
        "colab": {
          "base_uri": "https://localhost:8080/",
          "height": 204
        }
      },
      "source": [
        "data1.head()"
      ],
      "execution_count": null,
      "outputs": [
        {
          "output_type": "execute_result",
          "data": {
            "text/html": [
              "<div>\n",
              "<style scoped>\n",
              "    .dataframe tbody tr th:only-of-type {\n",
              "        vertical-align: middle;\n",
              "    }\n",
              "\n",
              "    .dataframe tbody tr th {\n",
              "        vertical-align: top;\n",
              "    }\n",
              "\n",
              "    .dataframe thead th {\n",
              "        text-align: right;\n",
              "    }\n",
              "</style>\n",
              "<table border=\"1\" class=\"dataframe\">\n",
              "  <thead>\n",
              "    <tr style=\"text-align: right;\">\n",
              "      <th></th>\n",
              "      <th>A1</th>\n",
              "      <th>A2</th>\n",
              "      <th>A3</th>\n",
              "      <th>A4</th>\n",
              "      <th>A5</th>\n",
              "      <th>A6</th>\n",
              "      <th>A7</th>\n",
              "      <th>A8</th>\n",
              "      <th>A9</th>\n",
              "      <th>A10</th>\n",
              "      <th>Age_Mons</th>\n",
              "      <th>Qchat-10-Score</th>\n",
              "      <th>Sex</th>\n",
              "      <th>Ethnicity</th>\n",
              "      <th>Jaundice</th>\n",
              "      <th>Family_mem_with_ASD</th>\n",
              "      <th>Who completed the test</th>\n",
              "      <th>Class/ASD Traits</th>\n",
              "    </tr>\n",
              "  </thead>\n",
              "  <tbody>\n",
              "    <tr>\n",
              "      <th>0</th>\n",
              "      <td>0</td>\n",
              "      <td>0</td>\n",
              "      <td>0</td>\n",
              "      <td>0</td>\n",
              "      <td>0</td>\n",
              "      <td>0</td>\n",
              "      <td>1</td>\n",
              "      <td>1</td>\n",
              "      <td>0</td>\n",
              "      <td>1</td>\n",
              "      <td>28</td>\n",
              "      <td>3</td>\n",
              "      <td>f</td>\n",
              "      <td>middle eastern</td>\n",
              "      <td>yes</td>\n",
              "      <td>no</td>\n",
              "      <td>family member</td>\n",
              "      <td>No</td>\n",
              "    </tr>\n",
              "    <tr>\n",
              "      <th>1</th>\n",
              "      <td>1</td>\n",
              "      <td>1</td>\n",
              "      <td>0</td>\n",
              "      <td>0</td>\n",
              "      <td>0</td>\n",
              "      <td>1</td>\n",
              "      <td>1</td>\n",
              "      <td>0</td>\n",
              "      <td>0</td>\n",
              "      <td>0</td>\n",
              "      <td>36</td>\n",
              "      <td>4</td>\n",
              "      <td>m</td>\n",
              "      <td>White European</td>\n",
              "      <td>yes</td>\n",
              "      <td>no</td>\n",
              "      <td>family member</td>\n",
              "      <td>Yes</td>\n",
              "    </tr>\n",
              "    <tr>\n",
              "      <th>2</th>\n",
              "      <td>1</td>\n",
              "      <td>0</td>\n",
              "      <td>0</td>\n",
              "      <td>0</td>\n",
              "      <td>0</td>\n",
              "      <td>0</td>\n",
              "      <td>1</td>\n",
              "      <td>1</td>\n",
              "      <td>0</td>\n",
              "      <td>1</td>\n",
              "      <td>36</td>\n",
              "      <td>4</td>\n",
              "      <td>m</td>\n",
              "      <td>middle eastern</td>\n",
              "      <td>yes</td>\n",
              "      <td>no</td>\n",
              "      <td>family member</td>\n",
              "      <td>Yes</td>\n",
              "    </tr>\n",
              "    <tr>\n",
              "      <th>3</th>\n",
              "      <td>1</td>\n",
              "      <td>1</td>\n",
              "      <td>1</td>\n",
              "      <td>1</td>\n",
              "      <td>1</td>\n",
              "      <td>1</td>\n",
              "      <td>1</td>\n",
              "      <td>1</td>\n",
              "      <td>1</td>\n",
              "      <td>1</td>\n",
              "      <td>24</td>\n",
              "      <td>10</td>\n",
              "      <td>m</td>\n",
              "      <td>Hispanic</td>\n",
              "      <td>no</td>\n",
              "      <td>no</td>\n",
              "      <td>family member</td>\n",
              "      <td>Yes</td>\n",
              "    </tr>\n",
              "    <tr>\n",
              "      <th>4</th>\n",
              "      <td>1</td>\n",
              "      <td>1</td>\n",
              "      <td>0</td>\n",
              "      <td>1</td>\n",
              "      <td>1</td>\n",
              "      <td>1</td>\n",
              "      <td>1</td>\n",
              "      <td>1</td>\n",
              "      <td>1</td>\n",
              "      <td>1</td>\n",
              "      <td>20</td>\n",
              "      <td>9</td>\n",
              "      <td>f</td>\n",
              "      <td>White European</td>\n",
              "      <td>no</td>\n",
              "      <td>yes</td>\n",
              "      <td>family member</td>\n",
              "      <td>Yes</td>\n",
              "    </tr>\n",
              "  </tbody>\n",
              "</table>\n",
              "</div>"
            ],
            "text/plain": [
              "   A1  A2  A3  ...  Family_mem_with_ASD  Who completed the test  Class/ASD Traits \n",
              "0   0   0   0  ...                   no           family member                 No\n",
              "1   1   1   0  ...                   no           family member                Yes\n",
              "2   1   0   0  ...                   no           family member                Yes\n",
              "3   1   1   1  ...                   no           family member                Yes\n",
              "4   1   1   0  ...                  yes           family member                Yes\n",
              "\n",
              "[5 rows x 18 columns]"
            ]
          },
          "metadata": {
            "tags": []
          },
          "execution_count": 65
        }
      ]
    },
    {
      "cell_type": "code",
      "metadata": {
        "id": "LzpTzxRvTVzR",
        "outputId": "9b42177a-f97b-4ff2-cb18-262fca1b9baf",
        "colab": {
          "base_uri": "https://localhost:8080/"
        }
      },
      "source": [
        "data1['Jaundice'].unique()"
      ],
      "execution_count": null,
      "outputs": [
        {
          "output_type": "execute_result",
          "data": {
            "text/plain": [
              "array(['yes', 'no'], dtype=object)"
            ]
          },
          "metadata": {
            "tags": []
          },
          "execution_count": 66
        }
      ]
    },
    {
      "cell_type": "code",
      "metadata": {
        "id": "EmnxlaxpTVzU",
        "outputId": "d03ecd5d-c360-4d33-e89d-b142603f686b",
        "colab": {
          "base_uri": "https://localhost:8080/"
        }
      },
      "source": [
        "data1['Who completed the test'].unique()"
      ],
      "execution_count": null,
      "outputs": [
        {
          "output_type": "execute_result",
          "data": {
            "text/plain": [
              "array(['family member', 'Health Care Professional',\n",
              "       'Health care professional', 'Self', 'Others'], dtype=object)"
            ]
          },
          "metadata": {
            "tags": []
          },
          "execution_count": 67
        }
      ]
    },
    {
      "cell_type": "code",
      "metadata": {
        "id": "Y2LolIxcTVzZ",
        "outputId": "17c8d519-97f5-4e09-fc57-63b32ca78128",
        "colab": {
          "base_uri": "https://localhost:8080/"
        }
      },
      "source": [
        "data1['Family_mem_with_ASD'].unique()"
      ],
      "execution_count": null,
      "outputs": [
        {
          "output_type": "execute_result",
          "data": {
            "text/plain": [
              "array(['no', 'yes'], dtype=object)"
            ]
          },
          "metadata": {
            "tags": []
          },
          "execution_count": 68
        }
      ]
    },
    {
      "cell_type": "code",
      "metadata": {
        "id": "b0SGBkABTVzc",
        "outputId": "88e247a0-1f5b-43fc-99fa-cac267203c08",
        "colab": {
          "base_uri": "https://localhost:8080/"
        }
      },
      "source": [
        "data1['Age_Mons'].describe()"
      ],
      "execution_count": null,
      "outputs": [
        {
          "output_type": "execute_result",
          "data": {
            "text/plain": [
              "count    1054.000000\n",
              "mean       27.867173\n",
              "std         7.980354\n",
              "min        12.000000\n",
              "25%        23.000000\n",
              "50%        30.000000\n",
              "75%        36.000000\n",
              "max        36.000000\n",
              "Name: Age_Mons, dtype: float64"
            ]
          },
          "metadata": {
            "tags": []
          },
          "execution_count": 69
        }
      ]
    },
    {
      "cell_type": "code",
      "metadata": {
        "id": "If-pxKNcTVzg"
      },
      "source": [
        "data1['Age_Mons'] = data1['Age_Mons']//12 "
      ],
      "execution_count": null,
      "outputs": []
    },
    {
      "cell_type": "code",
      "metadata": {
        "id": "1zMiD3OaTVzi",
        "outputId": "9eeaa400-97d4-41ac-e711-7d76b924546b",
        "colab": {
          "base_uri": "https://localhost:8080/"
        }
      },
      "source": [
        "data1['Age_Mons'].unique()"
      ],
      "execution_count": null,
      "outputs": [
        {
          "output_type": "execute_result",
          "data": {
            "text/plain": [
              "array([2, 3, 1])"
            ]
          },
          "metadata": {
            "tags": []
          },
          "execution_count": 71
        }
      ]
    },
    {
      "cell_type": "code",
      "metadata": {
        "id": "aSZxL0v5TVzm",
        "outputId": "d8a1afd3-7ba5-44ef-b6ed-8056f21b0ba4",
        "colab": {
          "base_uri": "https://localhost:8080/",
          "height": 204
        }
      },
      "source": [
        "data1.head()"
      ],
      "execution_count": null,
      "outputs": [
        {
          "output_type": "execute_result",
          "data": {
            "text/html": [
              "<div>\n",
              "<style scoped>\n",
              "    .dataframe tbody tr th:only-of-type {\n",
              "        vertical-align: middle;\n",
              "    }\n",
              "\n",
              "    .dataframe tbody tr th {\n",
              "        vertical-align: top;\n",
              "    }\n",
              "\n",
              "    .dataframe thead th {\n",
              "        text-align: right;\n",
              "    }\n",
              "</style>\n",
              "<table border=\"1\" class=\"dataframe\">\n",
              "  <thead>\n",
              "    <tr style=\"text-align: right;\">\n",
              "      <th></th>\n",
              "      <th>A1</th>\n",
              "      <th>A2</th>\n",
              "      <th>A3</th>\n",
              "      <th>A4</th>\n",
              "      <th>A5</th>\n",
              "      <th>A6</th>\n",
              "      <th>A7</th>\n",
              "      <th>A8</th>\n",
              "      <th>A9</th>\n",
              "      <th>A10</th>\n",
              "      <th>Age_Mons</th>\n",
              "      <th>Qchat-10-Score</th>\n",
              "      <th>Sex</th>\n",
              "      <th>Ethnicity</th>\n",
              "      <th>Jaundice</th>\n",
              "      <th>Family_mem_with_ASD</th>\n",
              "      <th>Who completed the test</th>\n",
              "      <th>Class/ASD Traits</th>\n",
              "    </tr>\n",
              "  </thead>\n",
              "  <tbody>\n",
              "    <tr>\n",
              "      <th>0</th>\n",
              "      <td>0</td>\n",
              "      <td>0</td>\n",
              "      <td>0</td>\n",
              "      <td>0</td>\n",
              "      <td>0</td>\n",
              "      <td>0</td>\n",
              "      <td>1</td>\n",
              "      <td>1</td>\n",
              "      <td>0</td>\n",
              "      <td>1</td>\n",
              "      <td>2</td>\n",
              "      <td>3</td>\n",
              "      <td>f</td>\n",
              "      <td>middle eastern</td>\n",
              "      <td>yes</td>\n",
              "      <td>no</td>\n",
              "      <td>family member</td>\n",
              "      <td>No</td>\n",
              "    </tr>\n",
              "    <tr>\n",
              "      <th>1</th>\n",
              "      <td>1</td>\n",
              "      <td>1</td>\n",
              "      <td>0</td>\n",
              "      <td>0</td>\n",
              "      <td>0</td>\n",
              "      <td>1</td>\n",
              "      <td>1</td>\n",
              "      <td>0</td>\n",
              "      <td>0</td>\n",
              "      <td>0</td>\n",
              "      <td>3</td>\n",
              "      <td>4</td>\n",
              "      <td>m</td>\n",
              "      <td>White European</td>\n",
              "      <td>yes</td>\n",
              "      <td>no</td>\n",
              "      <td>family member</td>\n",
              "      <td>Yes</td>\n",
              "    </tr>\n",
              "    <tr>\n",
              "      <th>2</th>\n",
              "      <td>1</td>\n",
              "      <td>0</td>\n",
              "      <td>0</td>\n",
              "      <td>0</td>\n",
              "      <td>0</td>\n",
              "      <td>0</td>\n",
              "      <td>1</td>\n",
              "      <td>1</td>\n",
              "      <td>0</td>\n",
              "      <td>1</td>\n",
              "      <td>3</td>\n",
              "      <td>4</td>\n",
              "      <td>m</td>\n",
              "      <td>middle eastern</td>\n",
              "      <td>yes</td>\n",
              "      <td>no</td>\n",
              "      <td>family member</td>\n",
              "      <td>Yes</td>\n",
              "    </tr>\n",
              "    <tr>\n",
              "      <th>3</th>\n",
              "      <td>1</td>\n",
              "      <td>1</td>\n",
              "      <td>1</td>\n",
              "      <td>1</td>\n",
              "      <td>1</td>\n",
              "      <td>1</td>\n",
              "      <td>1</td>\n",
              "      <td>1</td>\n",
              "      <td>1</td>\n",
              "      <td>1</td>\n",
              "      <td>2</td>\n",
              "      <td>10</td>\n",
              "      <td>m</td>\n",
              "      <td>Hispanic</td>\n",
              "      <td>no</td>\n",
              "      <td>no</td>\n",
              "      <td>family member</td>\n",
              "      <td>Yes</td>\n",
              "    </tr>\n",
              "    <tr>\n",
              "      <th>4</th>\n",
              "      <td>1</td>\n",
              "      <td>1</td>\n",
              "      <td>0</td>\n",
              "      <td>1</td>\n",
              "      <td>1</td>\n",
              "      <td>1</td>\n",
              "      <td>1</td>\n",
              "      <td>1</td>\n",
              "      <td>1</td>\n",
              "      <td>1</td>\n",
              "      <td>1</td>\n",
              "      <td>9</td>\n",
              "      <td>f</td>\n",
              "      <td>White European</td>\n",
              "      <td>no</td>\n",
              "      <td>yes</td>\n",
              "      <td>family member</td>\n",
              "      <td>Yes</td>\n",
              "    </tr>\n",
              "  </tbody>\n",
              "</table>\n",
              "</div>"
            ],
            "text/plain": [
              "   A1  A2  A3  ...  Family_mem_with_ASD  Who completed the test  Class/ASD Traits \n",
              "0   0   0   0  ...                   no           family member                 No\n",
              "1   1   1   0  ...                   no           family member                Yes\n",
              "2   1   0   0  ...                   no           family member                Yes\n",
              "3   1   1   1  ...                   no           family member                Yes\n",
              "4   1   1   0  ...                  yes           family member                Yes\n",
              "\n",
              "[5 rows x 18 columns]"
            ]
          },
          "metadata": {
            "tags": []
          },
          "execution_count": 72
        }
      ]
    },
    {
      "cell_type": "code",
      "metadata": {
        "id": "mYgigvS9TVzp"
      },
      "source": [
        "columns = data1.columns"
      ],
      "execution_count": null,
      "outputs": []
    },
    {
      "cell_type": "code",
      "metadata": {
        "id": "FDhLAgmXTVzt"
      },
      "source": [
        "import numpy as np\n",
        "from sklearn.impute import SimpleImputer\n",
        "imp = SimpleImputer(missing_values='?', strategy='most_frequent')\n",
        "data1 = pd.DataFrame(imp.fit_transform(data1),columns = columns)"
      ],
      "execution_count": null,
      "outputs": []
    },
    {
      "cell_type": "code",
      "metadata": {
        "id": "KOQwso2BTVzx",
        "outputId": "a699e264-c799-40da-cb0b-9cd561d1b848",
        "colab": {
          "base_uri": "https://localhost:8080/",
          "height": 204
        }
      },
      "source": [
        "data1.head()"
      ],
      "execution_count": null,
      "outputs": [
        {
          "output_type": "execute_result",
          "data": {
            "text/html": [
              "<div>\n",
              "<style scoped>\n",
              "    .dataframe tbody tr th:only-of-type {\n",
              "        vertical-align: middle;\n",
              "    }\n",
              "\n",
              "    .dataframe tbody tr th {\n",
              "        vertical-align: top;\n",
              "    }\n",
              "\n",
              "    .dataframe thead th {\n",
              "        text-align: right;\n",
              "    }\n",
              "</style>\n",
              "<table border=\"1\" class=\"dataframe\">\n",
              "  <thead>\n",
              "    <tr style=\"text-align: right;\">\n",
              "      <th></th>\n",
              "      <th>A1</th>\n",
              "      <th>A2</th>\n",
              "      <th>A3</th>\n",
              "      <th>A4</th>\n",
              "      <th>A5</th>\n",
              "      <th>A6</th>\n",
              "      <th>A7</th>\n",
              "      <th>A8</th>\n",
              "      <th>A9</th>\n",
              "      <th>A10</th>\n",
              "      <th>Age_Mons</th>\n",
              "      <th>Qchat-10-Score</th>\n",
              "      <th>Sex</th>\n",
              "      <th>Ethnicity</th>\n",
              "      <th>Jaundice</th>\n",
              "      <th>Family_mem_with_ASD</th>\n",
              "      <th>Who completed the test</th>\n",
              "      <th>Class/ASD Traits</th>\n",
              "    </tr>\n",
              "  </thead>\n",
              "  <tbody>\n",
              "    <tr>\n",
              "      <th>0</th>\n",
              "      <td>0</td>\n",
              "      <td>0</td>\n",
              "      <td>0</td>\n",
              "      <td>0</td>\n",
              "      <td>0</td>\n",
              "      <td>0</td>\n",
              "      <td>1</td>\n",
              "      <td>1</td>\n",
              "      <td>0</td>\n",
              "      <td>1</td>\n",
              "      <td>2</td>\n",
              "      <td>3</td>\n",
              "      <td>f</td>\n",
              "      <td>middle eastern</td>\n",
              "      <td>yes</td>\n",
              "      <td>no</td>\n",
              "      <td>family member</td>\n",
              "      <td>No</td>\n",
              "    </tr>\n",
              "    <tr>\n",
              "      <th>1</th>\n",
              "      <td>1</td>\n",
              "      <td>1</td>\n",
              "      <td>0</td>\n",
              "      <td>0</td>\n",
              "      <td>0</td>\n",
              "      <td>1</td>\n",
              "      <td>1</td>\n",
              "      <td>0</td>\n",
              "      <td>0</td>\n",
              "      <td>0</td>\n",
              "      <td>3</td>\n",
              "      <td>4</td>\n",
              "      <td>m</td>\n",
              "      <td>White European</td>\n",
              "      <td>yes</td>\n",
              "      <td>no</td>\n",
              "      <td>family member</td>\n",
              "      <td>Yes</td>\n",
              "    </tr>\n",
              "    <tr>\n",
              "      <th>2</th>\n",
              "      <td>1</td>\n",
              "      <td>0</td>\n",
              "      <td>0</td>\n",
              "      <td>0</td>\n",
              "      <td>0</td>\n",
              "      <td>0</td>\n",
              "      <td>1</td>\n",
              "      <td>1</td>\n",
              "      <td>0</td>\n",
              "      <td>1</td>\n",
              "      <td>3</td>\n",
              "      <td>4</td>\n",
              "      <td>m</td>\n",
              "      <td>middle eastern</td>\n",
              "      <td>yes</td>\n",
              "      <td>no</td>\n",
              "      <td>family member</td>\n",
              "      <td>Yes</td>\n",
              "    </tr>\n",
              "    <tr>\n",
              "      <th>3</th>\n",
              "      <td>1</td>\n",
              "      <td>1</td>\n",
              "      <td>1</td>\n",
              "      <td>1</td>\n",
              "      <td>1</td>\n",
              "      <td>1</td>\n",
              "      <td>1</td>\n",
              "      <td>1</td>\n",
              "      <td>1</td>\n",
              "      <td>1</td>\n",
              "      <td>2</td>\n",
              "      <td>10</td>\n",
              "      <td>m</td>\n",
              "      <td>Hispanic</td>\n",
              "      <td>no</td>\n",
              "      <td>no</td>\n",
              "      <td>family member</td>\n",
              "      <td>Yes</td>\n",
              "    </tr>\n",
              "    <tr>\n",
              "      <th>4</th>\n",
              "      <td>1</td>\n",
              "      <td>1</td>\n",
              "      <td>0</td>\n",
              "      <td>1</td>\n",
              "      <td>1</td>\n",
              "      <td>1</td>\n",
              "      <td>1</td>\n",
              "      <td>1</td>\n",
              "      <td>1</td>\n",
              "      <td>1</td>\n",
              "      <td>1</td>\n",
              "      <td>9</td>\n",
              "      <td>f</td>\n",
              "      <td>White European</td>\n",
              "      <td>no</td>\n",
              "      <td>yes</td>\n",
              "      <td>family member</td>\n",
              "      <td>Yes</td>\n",
              "    </tr>\n",
              "  </tbody>\n",
              "</table>\n",
              "</div>"
            ],
            "text/plain": [
              "  A1 A2 A3  ... Family_mem_with_ASD Who completed the test Class/ASD Traits \n",
              "0  0  0  0  ...                  no          family member                No\n",
              "1  1  1  0  ...                  no          family member               Yes\n",
              "2  1  0  0  ...                  no          family member               Yes\n",
              "3  1  1  1  ...                  no          family member               Yes\n",
              "4  1  1  0  ...                 yes          family member               Yes\n",
              "\n",
              "[5 rows x 18 columns]"
            ]
          },
          "metadata": {
            "tags": []
          },
          "execution_count": 75
        }
      ]
    },
    {
      "cell_type": "code",
      "metadata": {
        "id": "15d4iLMITVz0"
      },
      "source": [
        "data1['Class/ASD Traits '].replace(['No', 'Yes'],[0,1],inplace = True)"
      ],
      "execution_count": null,
      "outputs": []
    },
    {
      "cell_type": "code",
      "metadata": {
        "id": "rA7oqX2PTVz4",
        "outputId": "105df389-b17c-4030-b9df-d303b3ccd51c",
        "colab": {
          "base_uri": "https://localhost:8080/"
        }
      },
      "source": [
        "data1['Class/ASD Traits '].unique()"
      ],
      "execution_count": null,
      "outputs": [
        {
          "output_type": "execute_result",
          "data": {
            "text/plain": [
              "array([0, 1])"
            ]
          },
          "metadata": {
            "tags": []
          },
          "execution_count": 77
        }
      ]
    },
    {
      "cell_type": "code",
      "metadata": {
        "id": "KEDr2WFVTVz6"
      },
      "source": [
        "data1['Sex'].replace(['f', 'm'],[0,1],inplace = True)"
      ],
      "execution_count": null,
      "outputs": []
    },
    {
      "cell_type": "code",
      "metadata": {
        "id": "jbCYTxv9TVz9"
      },
      "source": [
        "data1['Jaundice'].replace(['yes', 'no'],[0,1],inplace = True)"
      ],
      "execution_count": null,
      "outputs": []
    },
    {
      "cell_type": "code",
      "metadata": {
        "id": "me3DTn4sTV0I"
      },
      "source": [
        "data1['Family_mem_with_ASD'].replace(['yes', 'no'],[0,1],inplace = True)"
      ],
      "execution_count": null,
      "outputs": []
    },
    {
      "cell_type": "code",
      "metadata": {
        "id": "z-9sLyxpTV0S",
        "outputId": "753e6c88-bdf8-4edf-828b-b31560d2b7b7",
        "colab": {
          "base_uri": "https://localhost:8080/"
        }
      },
      "source": [
        "data1['Who completed the test'].unique()"
      ],
      "execution_count": null,
      "outputs": [
        {
          "output_type": "execute_result",
          "data": {
            "text/plain": [
              "array(['family member', 'Health Care Professional',\n",
              "       'Health care professional', 'Self', 'Others'], dtype=object)"
            ]
          },
          "metadata": {
            "tags": []
          },
          "execution_count": 81
        }
      ]
    },
    {
      "cell_type": "code",
      "metadata": {
        "id": "OhyYbN-DTV0W",
        "outputId": "a5597322-aab7-4869-8484-40b35b3fd0e6",
        "colab": {
          "base_uri": "https://localhost:8080/"
        }
      },
      "source": [
        "from sklearn.preprocessing import LabelEncoder\n",
        "label_encoder = LabelEncoder() \n",
        "data1['Who completed the test']= label_encoder.fit_transform(data1['Who completed the test']) \n",
        "data1['Who completed the test'].unique() "
      ],
      "execution_count": null,
      "outputs": [
        {
          "output_type": "execute_result",
          "data": {
            "text/plain": [
              "array([4, 0, 1, 3, 2])"
            ]
          },
          "metadata": {
            "tags": []
          },
          "execution_count": 82
        }
      ]
    },
    {
      "cell_type": "code",
      "metadata": {
        "id": "Wn6Z6k3oTV0a",
        "outputId": "d41b37e5-b345-4404-b63c-c37d54c01924",
        "colab": {
          "base_uri": "https://localhost:8080/"
        }
      },
      "source": [
        "data1.dtypes"
      ],
      "execution_count": null,
      "outputs": [
        {
          "output_type": "execute_result",
          "data": {
            "text/plain": [
              "A1                        object\n",
              "A2                        object\n",
              "A3                        object\n",
              "A4                        object\n",
              "A5                        object\n",
              "A6                        object\n",
              "A7                        object\n",
              "A8                        object\n",
              "A9                        object\n",
              "A10                       object\n",
              "Age_Mons                  object\n",
              "Qchat-10-Score            object\n",
              "Sex                        int64\n",
              "Ethnicity                 object\n",
              "Jaundice                   int64\n",
              "Family_mem_with_ASD        int64\n",
              "Who completed the test     int64\n",
              "Class/ASD Traits           int64\n",
              "dtype: object"
            ]
          },
          "metadata": {
            "tags": []
          },
          "execution_count": 83
        }
      ]
    },
    {
      "cell_type": "code",
      "metadata": {
        "id": "N2e9D2csTV0d",
        "outputId": "c68cce28-9b31-4dfb-8a1f-25aa2e79c1f4",
        "colab": {
          "base_uri": "https://localhost:8080/"
        }
      },
      "source": [
        "columns"
      ],
      "execution_count": null,
      "outputs": [
        {
          "output_type": "execute_result",
          "data": {
            "text/plain": [
              "Index(['A1', 'A2', 'A3', 'A4', 'A5', 'A6', 'A7', 'A8', 'A9', 'A10', 'Age_Mons',\n",
              "       'Qchat-10-Score', 'Sex', 'Ethnicity', 'Jaundice', 'Family_mem_with_ASD',\n",
              "       'Who completed the test', 'Class/ASD Traits '],\n",
              "      dtype='object')"
            ]
          },
          "metadata": {
            "tags": []
          },
          "execution_count": 84
        }
      ]
    },
    {
      "cell_type": "code",
      "metadata": {
        "id": "TarH1GkXTV01",
        "outputId": "c038cdca-1f78-4472-d28f-3aa3925ea6cc",
        "colab": {
          "base_uri": "https://localhost:8080/"
        }
      },
      "source": [
        "data1['Ethnicity'].unique()"
      ],
      "execution_count": null,
      "outputs": [
        {
          "output_type": "execute_result",
          "data": {
            "text/plain": [
              "array(['middle eastern', 'White European', 'Hispanic', 'black', 'asian',\n",
              "       'south asian', 'Native Indian', 'Others', 'Latino', 'mixed',\n",
              "       'Pacifica'], dtype=object)"
            ]
          },
          "metadata": {
            "tags": []
          },
          "execution_count": 85
        }
      ]
    },
    {
      "cell_type": "code",
      "metadata": {
        "id": "apY_cRxRTV08",
        "outputId": "98f5eccd-7ba4-4594-82bc-128a0d0da6aa",
        "colab": {
          "base_uri": "https://localhost:8080/"
        }
      },
      "source": [
        "data1['Ethnicity']= label_encoder.fit_transform(data1['Ethnicity']) \n",
        "data1['Ethnicity'].unique() "
      ],
      "execution_count": null,
      "outputs": [
        {
          "output_type": "execute_result",
          "data": {
            "text/plain": [
              "array([ 8,  5,  0,  7,  6, 10,  2,  3,  1,  9,  4])"
            ]
          },
          "metadata": {
            "tags": []
          },
          "execution_count": 86
        }
      ]
    },
    {
      "cell_type": "code",
      "metadata": {
        "id": "6WCxg7iQTV0-",
        "outputId": "b81ce27d-25f3-44cc-96be-cafadcee730e",
        "colab": {
          "base_uri": "https://localhost:8080/"
        }
      },
      "source": [
        "data1.dtypes"
      ],
      "execution_count": null,
      "outputs": [
        {
          "output_type": "execute_result",
          "data": {
            "text/plain": [
              "A1                        object\n",
              "A2                        object\n",
              "A3                        object\n",
              "A4                        object\n",
              "A5                        object\n",
              "A6                        object\n",
              "A7                        object\n",
              "A8                        object\n",
              "A9                        object\n",
              "A10                       object\n",
              "Age_Mons                  object\n",
              "Qchat-10-Score            object\n",
              "Sex                        int64\n",
              "Ethnicity                  int64\n",
              "Jaundice                   int64\n",
              "Family_mem_with_ASD        int64\n",
              "Who completed the test     int64\n",
              "Class/ASD Traits           int64\n",
              "dtype: object"
            ]
          },
          "metadata": {
            "tags": []
          },
          "execution_count": 87
        }
      ]
    },
    {
      "cell_type": "code",
      "metadata": {
        "id": "Jtxtje5_TV1C"
      },
      "source": [
        "for i in range(0,11):\n",
        "    data1.iloc[:,i] = data1.iloc[:,i].astype('int')"
      ],
      "execution_count": null,
      "outputs": []
    },
    {
      "cell_type": "code",
      "metadata": {
        "id": "knyxPHOFTV1E",
        "outputId": "b4bb5d1d-8a6a-40eb-df22-77dfbd3e26d4",
        "colab": {
          "base_uri": "https://localhost:8080/"
        }
      },
      "source": [
        "data1.dtypes"
      ],
      "execution_count": null,
      "outputs": [
        {
          "output_type": "execute_result",
          "data": {
            "text/plain": [
              "A1                         int64\n",
              "A2                         int64\n",
              "A3                         int64\n",
              "A4                         int64\n",
              "A5                         int64\n",
              "A6                         int64\n",
              "A7                         int64\n",
              "A8                         int64\n",
              "A9                         int64\n",
              "A10                        int64\n",
              "Age_Mons                   int64\n",
              "Qchat-10-Score            object\n",
              "Sex                        int64\n",
              "Ethnicity                  int64\n",
              "Jaundice                   int64\n",
              "Family_mem_with_ASD        int64\n",
              "Who completed the test     int64\n",
              "Class/ASD Traits           int64\n",
              "dtype: object"
            ]
          },
          "metadata": {
            "tags": []
          },
          "execution_count": 89
        }
      ]
    },
    {
      "cell_type": "code",
      "metadata": {
        "id": "FlUHSwsrTV1I"
      },
      "source": [
        "data1['Qchat-10-Score'] = data1['Qchat-10-Score'].astype('int')"
      ],
      "execution_count": null,
      "outputs": []
    },
    {
      "cell_type": "code",
      "metadata": {
        "id": "6EONhYA7TV1K",
        "outputId": "b64be194-61bf-4b45-a833-7c311941d60e",
        "colab": {
          "base_uri": "https://localhost:8080/"
        }
      },
      "source": [
        "data1['Qchat-10-Score'].unique()"
      ],
      "execution_count": null,
      "outputs": [
        {
          "output_type": "execute_result",
          "data": {
            "text/plain": [
              "array([ 3,  4, 10,  9,  8,  5,  6,  2,  0,  7,  1])"
            ]
          },
          "metadata": {
            "tags": []
          },
          "execution_count": 91
        }
      ]
    },
    {
      "cell_type": "code",
      "metadata": {
        "id": "HY22e-MkTV1N",
        "outputId": "0df3b8ed-502a-40db-b380-0c9cf62d27a5",
        "colab": {
          "base_uri": "https://localhost:8080/"
        }
      },
      "source": [
        "data1.dtypes"
      ],
      "execution_count": null,
      "outputs": [
        {
          "output_type": "execute_result",
          "data": {
            "text/plain": [
              "A1                        int64\n",
              "A2                        int64\n",
              "A3                        int64\n",
              "A4                        int64\n",
              "A5                        int64\n",
              "A6                        int64\n",
              "A7                        int64\n",
              "A8                        int64\n",
              "A9                        int64\n",
              "A10                       int64\n",
              "Age_Mons                  int64\n",
              "Qchat-10-Score            int64\n",
              "Sex                       int64\n",
              "Ethnicity                 int64\n",
              "Jaundice                  int64\n",
              "Family_mem_with_ASD       int64\n",
              "Who completed the test    int64\n",
              "Class/ASD Traits          int64\n",
              "dtype: object"
            ]
          },
          "metadata": {
            "tags": []
          },
          "execution_count": 92
        }
      ]
    },
    {
      "cell_type": "code",
      "metadata": {
        "id": "4NvxRdsTTV1S"
      },
      "source": [
        "x1 = data1.iloc[:,0:17]\n",
        "y1 = data1.iloc[:,17]"
      ],
      "execution_count": null,
      "outputs": []
    },
    {
      "cell_type": "code",
      "metadata": {
        "id": "yt5f-fmMTV1U",
        "outputId": "6e581b2b-f055-4827-e21f-9a611d46be04",
        "colab": {
          "base_uri": "https://localhost:8080/",
          "height": 419
        }
      },
      "source": [
        "x1"
      ],
      "execution_count": null,
      "outputs": [
        {
          "output_type": "execute_result",
          "data": {
            "text/html": [
              "<div>\n",
              "<style scoped>\n",
              "    .dataframe tbody tr th:only-of-type {\n",
              "        vertical-align: middle;\n",
              "    }\n",
              "\n",
              "    .dataframe tbody tr th {\n",
              "        vertical-align: top;\n",
              "    }\n",
              "\n",
              "    .dataframe thead th {\n",
              "        text-align: right;\n",
              "    }\n",
              "</style>\n",
              "<table border=\"1\" class=\"dataframe\">\n",
              "  <thead>\n",
              "    <tr style=\"text-align: right;\">\n",
              "      <th></th>\n",
              "      <th>A1</th>\n",
              "      <th>A2</th>\n",
              "      <th>A3</th>\n",
              "      <th>A4</th>\n",
              "      <th>A5</th>\n",
              "      <th>A6</th>\n",
              "      <th>A7</th>\n",
              "      <th>A8</th>\n",
              "      <th>A9</th>\n",
              "      <th>A10</th>\n",
              "      <th>Age_Mons</th>\n",
              "      <th>Qchat-10-Score</th>\n",
              "      <th>Sex</th>\n",
              "      <th>Ethnicity</th>\n",
              "      <th>Jaundice</th>\n",
              "      <th>Family_mem_with_ASD</th>\n",
              "      <th>Who completed the test</th>\n",
              "    </tr>\n",
              "  </thead>\n",
              "  <tbody>\n",
              "    <tr>\n",
              "      <th>0</th>\n",
              "      <td>0</td>\n",
              "      <td>0</td>\n",
              "      <td>0</td>\n",
              "      <td>0</td>\n",
              "      <td>0</td>\n",
              "      <td>0</td>\n",
              "      <td>1</td>\n",
              "      <td>1</td>\n",
              "      <td>0</td>\n",
              "      <td>1</td>\n",
              "      <td>2</td>\n",
              "      <td>3</td>\n",
              "      <td>0</td>\n",
              "      <td>8</td>\n",
              "      <td>0</td>\n",
              "      <td>1</td>\n",
              "      <td>4</td>\n",
              "    </tr>\n",
              "    <tr>\n",
              "      <th>1</th>\n",
              "      <td>1</td>\n",
              "      <td>1</td>\n",
              "      <td>0</td>\n",
              "      <td>0</td>\n",
              "      <td>0</td>\n",
              "      <td>1</td>\n",
              "      <td>1</td>\n",
              "      <td>0</td>\n",
              "      <td>0</td>\n",
              "      <td>0</td>\n",
              "      <td>3</td>\n",
              "      <td>4</td>\n",
              "      <td>1</td>\n",
              "      <td>5</td>\n",
              "      <td>0</td>\n",
              "      <td>1</td>\n",
              "      <td>4</td>\n",
              "    </tr>\n",
              "    <tr>\n",
              "      <th>2</th>\n",
              "      <td>1</td>\n",
              "      <td>0</td>\n",
              "      <td>0</td>\n",
              "      <td>0</td>\n",
              "      <td>0</td>\n",
              "      <td>0</td>\n",
              "      <td>1</td>\n",
              "      <td>1</td>\n",
              "      <td>0</td>\n",
              "      <td>1</td>\n",
              "      <td>3</td>\n",
              "      <td>4</td>\n",
              "      <td>1</td>\n",
              "      <td>8</td>\n",
              "      <td>0</td>\n",
              "      <td>1</td>\n",
              "      <td>4</td>\n",
              "    </tr>\n",
              "    <tr>\n",
              "      <th>3</th>\n",
              "      <td>1</td>\n",
              "      <td>1</td>\n",
              "      <td>1</td>\n",
              "      <td>1</td>\n",
              "      <td>1</td>\n",
              "      <td>1</td>\n",
              "      <td>1</td>\n",
              "      <td>1</td>\n",
              "      <td>1</td>\n",
              "      <td>1</td>\n",
              "      <td>2</td>\n",
              "      <td>10</td>\n",
              "      <td>1</td>\n",
              "      <td>0</td>\n",
              "      <td>1</td>\n",
              "      <td>1</td>\n",
              "      <td>4</td>\n",
              "    </tr>\n",
              "    <tr>\n",
              "      <th>4</th>\n",
              "      <td>1</td>\n",
              "      <td>1</td>\n",
              "      <td>0</td>\n",
              "      <td>1</td>\n",
              "      <td>1</td>\n",
              "      <td>1</td>\n",
              "      <td>1</td>\n",
              "      <td>1</td>\n",
              "      <td>1</td>\n",
              "      <td>1</td>\n",
              "      <td>1</td>\n",
              "      <td>9</td>\n",
              "      <td>0</td>\n",
              "      <td>5</td>\n",
              "      <td>1</td>\n",
              "      <td>0</td>\n",
              "      <td>4</td>\n",
              "    </tr>\n",
              "    <tr>\n",
              "      <th>...</th>\n",
              "      <td>...</td>\n",
              "      <td>...</td>\n",
              "      <td>...</td>\n",
              "      <td>...</td>\n",
              "      <td>...</td>\n",
              "      <td>...</td>\n",
              "      <td>...</td>\n",
              "      <td>...</td>\n",
              "      <td>...</td>\n",
              "      <td>...</td>\n",
              "      <td>...</td>\n",
              "      <td>...</td>\n",
              "      <td>...</td>\n",
              "      <td>...</td>\n",
              "      <td>...</td>\n",
              "      <td>...</td>\n",
              "      <td>...</td>\n",
              "    </tr>\n",
              "    <tr>\n",
              "      <th>1049</th>\n",
              "      <td>0</td>\n",
              "      <td>0</td>\n",
              "      <td>0</td>\n",
              "      <td>0</td>\n",
              "      <td>0</td>\n",
              "      <td>0</td>\n",
              "      <td>0</td>\n",
              "      <td>0</td>\n",
              "      <td>0</td>\n",
              "      <td>1</td>\n",
              "      <td>2</td>\n",
              "      <td>1</td>\n",
              "      <td>0</td>\n",
              "      <td>5</td>\n",
              "      <td>1</td>\n",
              "      <td>0</td>\n",
              "      <td>4</td>\n",
              "    </tr>\n",
              "    <tr>\n",
              "      <th>1050</th>\n",
              "      <td>0</td>\n",
              "      <td>0</td>\n",
              "      <td>1</td>\n",
              "      <td>1</td>\n",
              "      <td>1</td>\n",
              "      <td>0</td>\n",
              "      <td>1</td>\n",
              "      <td>0</td>\n",
              "      <td>1</td>\n",
              "      <td>0</td>\n",
              "      <td>1</td>\n",
              "      <td>5</td>\n",
              "      <td>1</td>\n",
              "      <td>7</td>\n",
              "      <td>0</td>\n",
              "      <td>1</td>\n",
              "      <td>4</td>\n",
              "    </tr>\n",
              "    <tr>\n",
              "      <th>1051</th>\n",
              "      <td>1</td>\n",
              "      <td>0</td>\n",
              "      <td>1</td>\n",
              "      <td>1</td>\n",
              "      <td>1</td>\n",
              "      <td>1</td>\n",
              "      <td>1</td>\n",
              "      <td>1</td>\n",
              "      <td>1</td>\n",
              "      <td>1</td>\n",
              "      <td>1</td>\n",
              "      <td>9</td>\n",
              "      <td>1</td>\n",
              "      <td>8</td>\n",
              "      <td>0</td>\n",
              "      <td>1</td>\n",
              "      <td>4</td>\n",
              "    </tr>\n",
              "    <tr>\n",
              "      <th>1052</th>\n",
              "      <td>1</td>\n",
              "      <td>0</td>\n",
              "      <td>0</td>\n",
              "      <td>0</td>\n",
              "      <td>0</td>\n",
              "      <td>0</td>\n",
              "      <td>0</td>\n",
              "      <td>1</td>\n",
              "      <td>0</td>\n",
              "      <td>1</td>\n",
              "      <td>1</td>\n",
              "      <td>3</td>\n",
              "      <td>1</td>\n",
              "      <td>5</td>\n",
              "      <td>1</td>\n",
              "      <td>0</td>\n",
              "      <td>4</td>\n",
              "    </tr>\n",
              "    <tr>\n",
              "      <th>1053</th>\n",
              "      <td>1</td>\n",
              "      <td>1</td>\n",
              "      <td>0</td>\n",
              "      <td>0</td>\n",
              "      <td>1</td>\n",
              "      <td>1</td>\n",
              "      <td>0</td>\n",
              "      <td>1</td>\n",
              "      <td>1</td>\n",
              "      <td>0</td>\n",
              "      <td>2</td>\n",
              "      <td>6</td>\n",
              "      <td>1</td>\n",
              "      <td>6</td>\n",
              "      <td>0</td>\n",
              "      <td>0</td>\n",
              "      <td>4</td>\n",
              "    </tr>\n",
              "  </tbody>\n",
              "</table>\n",
              "<p>1054 rows × 17 columns</p>\n",
              "</div>"
            ],
            "text/plain": [
              "      A1  A2  A3  ...  Jaundice  Family_mem_with_ASD  Who completed the test\n",
              "0      0   0   0  ...         0                    1                       4\n",
              "1      1   1   0  ...         0                    1                       4\n",
              "2      1   0   0  ...         0                    1                       4\n",
              "3      1   1   1  ...         1                    1                       4\n",
              "4      1   1   0  ...         1                    0                       4\n",
              "...   ..  ..  ..  ...       ...                  ...                     ...\n",
              "1049   0   0   0  ...         1                    0                       4\n",
              "1050   0   0   1  ...         0                    1                       4\n",
              "1051   1   0   1  ...         0                    1                       4\n",
              "1052   1   0   0  ...         1                    0                       4\n",
              "1053   1   1   0  ...         0                    0                       4\n",
              "\n",
              "[1054 rows x 17 columns]"
            ]
          },
          "metadata": {
            "tags": []
          },
          "execution_count": 94
        }
      ]
    },
    {
      "cell_type": "code",
      "metadata": {
        "id": "OAljsy8bTV1X",
        "outputId": "884d0a19-f2f9-4110-c176-3bb92ae7707e",
        "colab": {
          "base_uri": "https://localhost:8080/"
        }
      },
      "source": [
        "y1"
      ],
      "execution_count": null,
      "outputs": [
        {
          "output_type": "execute_result",
          "data": {
            "text/plain": [
              "0       0\n",
              "1       1\n",
              "2       1\n",
              "3       1\n",
              "4       1\n",
              "       ..\n",
              "1049    0\n",
              "1050    1\n",
              "1051    1\n",
              "1052    0\n",
              "1053    1\n",
              "Name: Class/ASD Traits , Length: 1054, dtype: int64"
            ]
          },
          "metadata": {
            "tags": []
          },
          "execution_count": 95
        }
      ]
    },
    {
      "cell_type": "code",
      "metadata": {
        "id": "wz3IQ6waTV1b",
        "outputId": "f9670e0c-2e6a-4f03-b1b3-457ca8df7268",
        "colab": {
          "base_uri": "https://localhost:8080/"
        }
      },
      "source": [
        "from sklearn import preprocessing \n",
        "label_encoder = preprocessing.LabelEncoder() \n",
        "data['contry_of_res']= label_encoder.fit_transform(data['contry_of_res']) \n",
        "data['contry_of_res'].unique() "
      ],
      "execution_count": null,
      "outputs": [
        {
          "output_type": "execute_result",
          "data": {
            "text/plain": [
              "array([64, 13, 56, 22, 43,  9, 14,  7,  3, 36, 33, 62,  0, 38, 63, 55, 34,\n",
              "       47, 10, 16, 25, 17,  6, 15, 52, 42, 50, 58, 59, 46, 29, 48, 57, 54,\n",
              "       23, 66, 31, 18, 26, 40, 51,  4, 28, 44, 27, 35, 61, 37,  1, 65, 53,\n",
              "       49, 39, 21, 45, 11, 12,  5, 24, 60, 41, 30,  2,  8, 32, 20, 19])"
            ]
          },
          "metadata": {
            "tags": []
          },
          "execution_count": 96
        }
      ]
    },
    {
      "cell_type": "code",
      "metadata": {
        "id": "JQeSyC1eTV1e"
      },
      "source": [
        "data['ethnicity']  = label_encoder.fit_transform(data['ethnicity']) "
      ],
      "execution_count": null,
      "outputs": []
    },
    {
      "cell_type": "code",
      "metadata": {
        "id": "_9s7wU0tTV1g"
      },
      "source": [
        "data['relation'] = label_encoder.fit_transform(data['relation'])"
      ],
      "execution_count": null,
      "outputs": []
    },
    {
      "cell_type": "code",
      "metadata": {
        "id": "h9RxJES0TV1i",
        "outputId": "1b5a4391-9871-442e-eb3d-be395c991666",
        "colab": {
          "base_uri": "https://localhost:8080/"
        }
      },
      "source": [
        "data['ethnicity'].unique()"
      ],
      "execution_count": null,
      "outputs": [
        {
          "output_type": "execute_result",
          "data": {
            "text/plain": [
              "array([ 9,  3,  5,  1,  0,  4,  6,  7,  2,  8, 10])"
            ]
          },
          "metadata": {
            "tags": []
          },
          "execution_count": 99
        }
      ]
    },
    {
      "cell_type": "code",
      "metadata": {
        "id": "NmSP8PZ6TV1k",
        "outputId": "b1dce069-27b4-4dd8-f4e2-654a0e4217d2",
        "colab": {
          "base_uri": "https://localhost:8080/"
        }
      },
      "source": [
        "data['relation'].unique()"
      ],
      "execution_count": null,
      "outputs": [
        {
          "output_type": "execute_result",
          "data": {
            "text/plain": [
              "array([4, 2, 0, 3, 1])"
            ]
          },
          "metadata": {
            "tags": []
          },
          "execution_count": 100
        }
      ]
    },
    {
      "cell_type": "code",
      "metadata": {
        "id": "Btj7Qm0uTV1m"
      },
      "source": [
        "data.drop('contry_of_res',inplace = True,axis = 1)"
      ],
      "execution_count": null,
      "outputs": []
    },
    {
      "cell_type": "code",
      "metadata": {
        "id": "0iSFXxDnTV1q",
        "outputId": "659c9381-7d9c-4ec4-fb65-c5928e07e750",
        "colab": {
          "base_uri": "https://localhost:8080/"
        }
      },
      "source": [
        "data.shape"
      ],
      "execution_count": null,
      "outputs": [
        {
          "output_type": "execute_result",
          "data": {
            "text/plain": [
              "(704, 18)"
            ]
          },
          "metadata": {
            "tags": []
          },
          "execution_count": 102
        }
      ]
    },
    {
      "cell_type": "code",
      "metadata": {
        "id": "fB2xXH6_TV1r",
        "outputId": "a78fbcdd-97af-48c0-a585-4fb68cbeb1bd",
        "colab": {
          "base_uri": "https://localhost:8080/"
        }
      },
      "source": [
        "data.dtypes"
      ],
      "execution_count": null,
      "outputs": [
        {
          "output_type": "execute_result",
          "data": {
            "text/plain": [
              "A1_Score     object\n",
              "A2_Score     object\n",
              "A3_Score     object\n",
              "A4_Score     object\n",
              "A5_Score     object\n",
              "A6_Score     object\n",
              "A7_Score     object\n",
              "A8_Score     object\n",
              "A9_Score     object\n",
              "A10_Score    object\n",
              "age          object\n",
              "gender        int64\n",
              "ethnicity     int64\n",
              "jundice       int64\n",
              "austim        int64\n",
              "result       object\n",
              "relation      int64\n",
              "Class/ASD     int64\n",
              "dtype: object"
            ]
          },
          "metadata": {
            "tags": []
          },
          "execution_count": 103
        }
      ]
    },
    {
      "cell_type": "code",
      "metadata": {
        "id": "KMK-GGSKTV1t"
      },
      "source": [
        "for i in range(0,11):\n",
        "    data.iloc[:,i] = data.iloc[:,i].astype('int')"
      ],
      "execution_count": null,
      "outputs": []
    },
    {
      "cell_type": "code",
      "metadata": {
        "id": "wbJMJLPkTV1v",
        "outputId": "a9ba163e-fb88-40c9-f45e-a6af1a43e81a",
        "colab": {
          "base_uri": "https://localhost:8080/"
        }
      },
      "source": [
        "data.dtypes"
      ],
      "execution_count": null,
      "outputs": [
        {
          "output_type": "execute_result",
          "data": {
            "text/plain": [
              "A1_Score      int64\n",
              "A2_Score      int64\n",
              "A3_Score      int64\n",
              "A4_Score      int64\n",
              "A5_Score      int64\n",
              "A6_Score      int64\n",
              "A7_Score      int64\n",
              "A8_Score      int64\n",
              "A9_Score      int64\n",
              "A10_Score     int64\n",
              "age           int64\n",
              "gender        int64\n",
              "ethnicity     int64\n",
              "jundice       int64\n",
              "austim        int64\n",
              "result       object\n",
              "relation      int64\n",
              "Class/ASD     int64\n",
              "dtype: object"
            ]
          },
          "metadata": {
            "tags": []
          },
          "execution_count": 105
        }
      ]
    },
    {
      "cell_type": "code",
      "metadata": {
        "id": "KaQb-4rUTV1y"
      },
      "source": [
        "data['result'] = data['result'].astype('int') "
      ],
      "execution_count": null,
      "outputs": []
    },
    {
      "cell_type": "code",
      "metadata": {
        "id": "CvauScTrTV1z",
        "outputId": "60d63848-b807-4668-e2fe-5270601880d1",
        "colab": {
          "base_uri": "https://localhost:8080/"
        }
      },
      "source": [
        "data.dtypes"
      ],
      "execution_count": null,
      "outputs": [
        {
          "output_type": "execute_result",
          "data": {
            "text/plain": [
              "A1_Score     int64\n",
              "A2_Score     int64\n",
              "A3_Score     int64\n",
              "A4_Score     int64\n",
              "A5_Score     int64\n",
              "A6_Score     int64\n",
              "A7_Score     int64\n",
              "A8_Score     int64\n",
              "A9_Score     int64\n",
              "A10_Score    int64\n",
              "age          int64\n",
              "gender       int64\n",
              "ethnicity    int64\n",
              "jundice      int64\n",
              "austim       int64\n",
              "result       int64\n",
              "relation     int64\n",
              "Class/ASD    int64\n",
              "dtype: object"
            ]
          },
          "metadata": {
            "tags": []
          },
          "execution_count": 107
        }
      ]
    },
    {
      "cell_type": "code",
      "metadata": {
        "id": "8clu1e3ZTV11",
        "outputId": "5fd27372-7cbf-474a-fb96-6ac404202dca",
        "colab": {
          "base_uri": "https://localhost:8080/",
          "height": 419
        }
      },
      "source": [
        "data"
      ],
      "execution_count": null,
      "outputs": [
        {
          "output_type": "execute_result",
          "data": {
            "text/html": [
              "<div>\n",
              "<style scoped>\n",
              "    .dataframe tbody tr th:only-of-type {\n",
              "        vertical-align: middle;\n",
              "    }\n",
              "\n",
              "    .dataframe tbody tr th {\n",
              "        vertical-align: top;\n",
              "    }\n",
              "\n",
              "    .dataframe thead th {\n",
              "        text-align: right;\n",
              "    }\n",
              "</style>\n",
              "<table border=\"1\" class=\"dataframe\">\n",
              "  <thead>\n",
              "    <tr style=\"text-align: right;\">\n",
              "      <th></th>\n",
              "      <th>A1_Score</th>\n",
              "      <th>A2_Score</th>\n",
              "      <th>A3_Score</th>\n",
              "      <th>A4_Score</th>\n",
              "      <th>A5_Score</th>\n",
              "      <th>A6_Score</th>\n",
              "      <th>A7_Score</th>\n",
              "      <th>A8_Score</th>\n",
              "      <th>A9_Score</th>\n",
              "      <th>A10_Score</th>\n",
              "      <th>age</th>\n",
              "      <th>gender</th>\n",
              "      <th>ethnicity</th>\n",
              "      <th>jundice</th>\n",
              "      <th>austim</th>\n",
              "      <th>result</th>\n",
              "      <th>relation</th>\n",
              "      <th>Class/ASD</th>\n",
              "    </tr>\n",
              "  </thead>\n",
              "  <tbody>\n",
              "    <tr>\n",
              "      <th>0</th>\n",
              "      <td>1</td>\n",
              "      <td>1</td>\n",
              "      <td>1</td>\n",
              "      <td>1</td>\n",
              "      <td>0</td>\n",
              "      <td>0</td>\n",
              "      <td>1</td>\n",
              "      <td>1</td>\n",
              "      <td>0</td>\n",
              "      <td>0</td>\n",
              "      <td>26</td>\n",
              "      <td>0</td>\n",
              "      <td>9</td>\n",
              "      <td>0</td>\n",
              "      <td>0</td>\n",
              "      <td>6</td>\n",
              "      <td>4</td>\n",
              "      <td>0</td>\n",
              "    </tr>\n",
              "    <tr>\n",
              "      <th>1</th>\n",
              "      <td>1</td>\n",
              "      <td>1</td>\n",
              "      <td>0</td>\n",
              "      <td>1</td>\n",
              "      <td>0</td>\n",
              "      <td>0</td>\n",
              "      <td>0</td>\n",
              "      <td>1</td>\n",
              "      <td>0</td>\n",
              "      <td>1</td>\n",
              "      <td>24</td>\n",
              "      <td>1</td>\n",
              "      <td>3</td>\n",
              "      <td>0</td>\n",
              "      <td>1</td>\n",
              "      <td>5</td>\n",
              "      <td>4</td>\n",
              "      <td>0</td>\n",
              "    </tr>\n",
              "    <tr>\n",
              "      <th>2</th>\n",
              "      <td>1</td>\n",
              "      <td>1</td>\n",
              "      <td>0</td>\n",
              "      <td>1</td>\n",
              "      <td>1</td>\n",
              "      <td>0</td>\n",
              "      <td>1</td>\n",
              "      <td>1</td>\n",
              "      <td>1</td>\n",
              "      <td>1</td>\n",
              "      <td>27</td>\n",
              "      <td>1</td>\n",
              "      <td>3</td>\n",
              "      <td>1</td>\n",
              "      <td>1</td>\n",
              "      <td>8</td>\n",
              "      <td>2</td>\n",
              "      <td>1</td>\n",
              "    </tr>\n",
              "    <tr>\n",
              "      <th>3</th>\n",
              "      <td>1</td>\n",
              "      <td>1</td>\n",
              "      <td>0</td>\n",
              "      <td>1</td>\n",
              "      <td>0</td>\n",
              "      <td>0</td>\n",
              "      <td>1</td>\n",
              "      <td>1</td>\n",
              "      <td>0</td>\n",
              "      <td>1</td>\n",
              "      <td>35</td>\n",
              "      <td>0</td>\n",
              "      <td>9</td>\n",
              "      <td>0</td>\n",
              "      <td>1</td>\n",
              "      <td>6</td>\n",
              "      <td>4</td>\n",
              "      <td>0</td>\n",
              "    </tr>\n",
              "    <tr>\n",
              "      <th>4</th>\n",
              "      <td>1</td>\n",
              "      <td>0</td>\n",
              "      <td>0</td>\n",
              "      <td>0</td>\n",
              "      <td>0</td>\n",
              "      <td>0</td>\n",
              "      <td>0</td>\n",
              "      <td>1</td>\n",
              "      <td>0</td>\n",
              "      <td>0</td>\n",
              "      <td>40</td>\n",
              "      <td>0</td>\n",
              "      <td>9</td>\n",
              "      <td>0</td>\n",
              "      <td>0</td>\n",
              "      <td>2</td>\n",
              "      <td>4</td>\n",
              "      <td>0</td>\n",
              "    </tr>\n",
              "    <tr>\n",
              "      <th>...</th>\n",
              "      <td>...</td>\n",
              "      <td>...</td>\n",
              "      <td>...</td>\n",
              "      <td>...</td>\n",
              "      <td>...</td>\n",
              "      <td>...</td>\n",
              "      <td>...</td>\n",
              "      <td>...</td>\n",
              "      <td>...</td>\n",
              "      <td>...</td>\n",
              "      <td>...</td>\n",
              "      <td>...</td>\n",
              "      <td>...</td>\n",
              "      <td>...</td>\n",
              "      <td>...</td>\n",
              "      <td>...</td>\n",
              "      <td>...</td>\n",
              "      <td>...</td>\n",
              "    </tr>\n",
              "    <tr>\n",
              "      <th>699</th>\n",
              "      <td>0</td>\n",
              "      <td>1</td>\n",
              "      <td>0</td>\n",
              "      <td>1</td>\n",
              "      <td>1</td>\n",
              "      <td>0</td>\n",
              "      <td>1</td>\n",
              "      <td>1</td>\n",
              "      <td>1</td>\n",
              "      <td>1</td>\n",
              "      <td>25</td>\n",
              "      <td>0</td>\n",
              "      <td>9</td>\n",
              "      <td>0</td>\n",
              "      <td>0</td>\n",
              "      <td>7</td>\n",
              "      <td>4</td>\n",
              "      <td>1</td>\n",
              "    </tr>\n",
              "    <tr>\n",
              "      <th>700</th>\n",
              "      <td>1</td>\n",
              "      <td>0</td>\n",
              "      <td>0</td>\n",
              "      <td>0</td>\n",
              "      <td>0</td>\n",
              "      <td>0</td>\n",
              "      <td>0</td>\n",
              "      <td>1</td>\n",
              "      <td>0</td>\n",
              "      <td>1</td>\n",
              "      <td>34</td>\n",
              "      <td>1</td>\n",
              "      <td>2</td>\n",
              "      <td>0</td>\n",
              "      <td>0</td>\n",
              "      <td>3</td>\n",
              "      <td>2</td>\n",
              "      <td>0</td>\n",
              "    </tr>\n",
              "    <tr>\n",
              "      <th>701</th>\n",
              "      <td>1</td>\n",
              "      <td>0</td>\n",
              "      <td>1</td>\n",
              "      <td>1</td>\n",
              "      <td>1</td>\n",
              "      <td>0</td>\n",
              "      <td>1</td>\n",
              "      <td>1</td>\n",
              "      <td>0</td>\n",
              "      <td>1</td>\n",
              "      <td>24</td>\n",
              "      <td>0</td>\n",
              "      <td>9</td>\n",
              "      <td>0</td>\n",
              "      <td>0</td>\n",
              "      <td>7</td>\n",
              "      <td>4</td>\n",
              "      <td>1</td>\n",
              "    </tr>\n",
              "    <tr>\n",
              "      <th>702</th>\n",
              "      <td>1</td>\n",
              "      <td>0</td>\n",
              "      <td>0</td>\n",
              "      <td>1</td>\n",
              "      <td>1</td>\n",
              "      <td>0</td>\n",
              "      <td>1</td>\n",
              "      <td>0</td>\n",
              "      <td>1</td>\n",
              "      <td>1</td>\n",
              "      <td>35</td>\n",
              "      <td>1</td>\n",
              "      <td>7</td>\n",
              "      <td>0</td>\n",
              "      <td>0</td>\n",
              "      <td>6</td>\n",
              "      <td>4</td>\n",
              "      <td>0</td>\n",
              "    </tr>\n",
              "    <tr>\n",
              "      <th>703</th>\n",
              "      <td>1</td>\n",
              "      <td>0</td>\n",
              "      <td>1</td>\n",
              "      <td>1</td>\n",
              "      <td>1</td>\n",
              "      <td>0</td>\n",
              "      <td>1</td>\n",
              "      <td>1</td>\n",
              "      <td>1</td>\n",
              "      <td>1</td>\n",
              "      <td>26</td>\n",
              "      <td>0</td>\n",
              "      <td>9</td>\n",
              "      <td>0</td>\n",
              "      <td>0</td>\n",
              "      <td>8</td>\n",
              "      <td>4</td>\n",
              "      <td>1</td>\n",
              "    </tr>\n",
              "  </tbody>\n",
              "</table>\n",
              "<p>704 rows × 18 columns</p>\n",
              "</div>"
            ],
            "text/plain": [
              "     A1_Score  A2_Score  A3_Score  ...  result  relation  Class/ASD\n",
              "0           1         1         1  ...       6         4          0\n",
              "1           1         1         0  ...       5         4          0\n",
              "2           1         1         0  ...       8         2          1\n",
              "3           1         1         0  ...       6         4          0\n",
              "4           1         0         0  ...       2         4          0\n",
              "..        ...       ...       ...  ...     ...       ...        ...\n",
              "699         0         1         0  ...       7         4          1\n",
              "700         1         0         0  ...       3         2          0\n",
              "701         1         0         1  ...       7         4          1\n",
              "702         1         0         0  ...       6         4          0\n",
              "703         1         0         1  ...       8         4          1\n",
              "\n",
              "[704 rows x 18 columns]"
            ]
          },
          "metadata": {
            "tags": []
          },
          "execution_count": 108
        }
      ]
    },
    {
      "cell_type": "code",
      "metadata": {
        "id": "1aX5B8bvTV14",
        "outputId": "6f1eeeb2-830c-42e8-b384-c53176ee74ea",
        "colab": {
          "base_uri": "https://localhost:8080/",
          "height": 607
        }
      },
      "source": [
        "data.corr()"
      ],
      "execution_count": null,
      "outputs": [
        {
          "output_type": "execute_result",
          "data": {
            "text/html": [
              "<div>\n",
              "<style scoped>\n",
              "    .dataframe tbody tr th:only-of-type {\n",
              "        vertical-align: middle;\n",
              "    }\n",
              "\n",
              "    .dataframe tbody tr th {\n",
              "        vertical-align: top;\n",
              "    }\n",
              "\n",
              "    .dataframe thead th {\n",
              "        text-align: right;\n",
              "    }\n",
              "</style>\n",
              "<table border=\"1\" class=\"dataframe\">\n",
              "  <thead>\n",
              "    <tr style=\"text-align: right;\">\n",
              "      <th></th>\n",
              "      <th>A1_Score</th>\n",
              "      <th>A2_Score</th>\n",
              "      <th>A3_Score</th>\n",
              "      <th>A4_Score</th>\n",
              "      <th>A5_Score</th>\n",
              "      <th>A6_Score</th>\n",
              "      <th>A7_Score</th>\n",
              "      <th>A8_Score</th>\n",
              "      <th>A9_Score</th>\n",
              "      <th>A10_Score</th>\n",
              "      <th>age</th>\n",
              "      <th>gender</th>\n",
              "      <th>ethnicity</th>\n",
              "      <th>jundice</th>\n",
              "      <th>austim</th>\n",
              "      <th>result</th>\n",
              "      <th>relation</th>\n",
              "      <th>Class/ASD</th>\n",
              "    </tr>\n",
              "  </thead>\n",
              "  <tbody>\n",
              "    <tr>\n",
              "      <th>A1_Score</th>\n",
              "      <td>1.000000</td>\n",
              "      <td>0.011539</td>\n",
              "      <td>0.074096</td>\n",
              "      <td>0.127814</td>\n",
              "      <td>0.169369</td>\n",
              "      <td>0.110199</td>\n",
              "      <td>0.217538</td>\n",
              "      <td>0.147640</td>\n",
              "      <td>0.145452</td>\n",
              "      <td>0.118413</td>\n",
              "      <td>0.025379</td>\n",
              "      <td>-0.075011</td>\n",
              "      <td>0.053684</td>\n",
              "      <td>-0.019077</td>\n",
              "      <td>0.097630</td>\n",
              "      <td>0.397454</td>\n",
              "      <td>0.008398</td>\n",
              "      <td>0.297628</td>\n",
              "    </tr>\n",
              "    <tr>\n",
              "      <th>A2_Score</th>\n",
              "      <td>0.011539</td>\n",
              "      <td>1.000000</td>\n",
              "      <td>0.223921</td>\n",
              "      <td>0.158998</td>\n",
              "      <td>0.153821</td>\n",
              "      <td>0.185864</td>\n",
              "      <td>-0.041768</td>\n",
              "      <td>0.035408</td>\n",
              "      <td>0.205421</td>\n",
              "      <td>0.068883</td>\n",
              "      <td>0.020644</td>\n",
              "      <td>-0.047393</td>\n",
              "      <td>0.128518</td>\n",
              "      <td>0.112615</td>\n",
              "      <td>0.074555</td>\n",
              "      <td>0.392540</td>\n",
              "      <td>-0.047792</td>\n",
              "      <td>0.311382</td>\n",
              "    </tr>\n",
              "    <tr>\n",
              "      <th>A3_Score</th>\n",
              "      <td>0.074096</td>\n",
              "      <td>0.223921</td>\n",
              "      <td>1.000000</td>\n",
              "      <td>0.412722</td>\n",
              "      <td>0.264927</td>\n",
              "      <td>0.268846</td>\n",
              "      <td>0.078216</td>\n",
              "      <td>0.017771</td>\n",
              "      <td>0.315113</td>\n",
              "      <td>0.168454</td>\n",
              "      <td>0.030833</td>\n",
              "      <td>0.000795</td>\n",
              "      <td>0.110339</td>\n",
              "      <td>0.061760</td>\n",
              "      <td>0.113697</td>\n",
              "      <td>0.552356</td>\n",
              "      <td>0.029318</td>\n",
              "      <td>0.441074</td>\n",
              "    </tr>\n",
              "    <tr>\n",
              "      <th>A4_Score</th>\n",
              "      <td>0.127814</td>\n",
              "      <td>0.158998</td>\n",
              "      <td>0.412722</td>\n",
              "      <td>1.000000</td>\n",
              "      <td>0.306806</td>\n",
              "      <td>0.295152</td>\n",
              "      <td>0.151236</td>\n",
              "      <td>0.008617</td>\n",
              "      <td>0.327673</td>\n",
              "      <td>0.210968</td>\n",
              "      <td>0.033967</td>\n",
              "      <td>-0.056508</td>\n",
              "      <td>0.140787</td>\n",
              "      <td>0.064918</td>\n",
              "      <td>0.193820</td>\n",
              "      <td>0.586025</td>\n",
              "      <td>-0.013804</td>\n",
              "      <td>0.469945</td>\n",
              "    </tr>\n",
              "    <tr>\n",
              "      <th>A5_Score</th>\n",
              "      <td>0.169369</td>\n",
              "      <td>0.153821</td>\n",
              "      <td>0.264927</td>\n",
              "      <td>0.306806</td>\n",
              "      <td>1.000000</td>\n",
              "      <td>0.392354</td>\n",
              "      <td>0.238589</td>\n",
              "      <td>0.102086</td>\n",
              "      <td>0.396582</td>\n",
              "      <td>0.267561</td>\n",
              "      <td>-0.025054</td>\n",
              "      <td>-0.039688</td>\n",
              "      <td>0.009535</td>\n",
              "      <td>0.034378</td>\n",
              "      <td>0.090009</td>\n",
              "      <td>0.639706</td>\n",
              "      <td>0.048976</td>\n",
              "      <td>0.537004</td>\n",
              "    </tr>\n",
              "    <tr>\n",
              "      <th>A6_Score</th>\n",
              "      <td>0.110199</td>\n",
              "      <td>0.185864</td>\n",
              "      <td>0.268846</td>\n",
              "      <td>0.295152</td>\n",
              "      <td>0.392354</td>\n",
              "      <td>1.000000</td>\n",
              "      <td>0.175489</td>\n",
              "      <td>0.100123</td>\n",
              "      <td>0.479422</td>\n",
              "      <td>0.294435</td>\n",
              "      <td>0.035617</td>\n",
              "      <td>-0.083615</td>\n",
              "      <td>0.108745</td>\n",
              "      <td>0.078366</td>\n",
              "      <td>0.114048</td>\n",
              "      <td>0.630012</td>\n",
              "      <td>-0.090688</td>\n",
              "      <td>0.592091</td>\n",
              "    </tr>\n",
              "    <tr>\n",
              "      <th>A7_Score</th>\n",
              "      <td>0.217538</td>\n",
              "      <td>-0.041768</td>\n",
              "      <td>0.078216</td>\n",
              "      <td>0.151236</td>\n",
              "      <td>0.238589</td>\n",
              "      <td>0.175489</td>\n",
              "      <td>1.000000</td>\n",
              "      <td>0.085403</td>\n",
              "      <td>0.189480</td>\n",
              "      <td>0.252107</td>\n",
              "      <td>-0.026734</td>\n",
              "      <td>0.061900</td>\n",
              "      <td>-0.002004</td>\n",
              "      <td>0.030850</td>\n",
              "      <td>-0.008610</td>\n",
              "      <td>0.454848</td>\n",
              "      <td>0.032594</td>\n",
              "      <td>0.351429</td>\n",
              "    </tr>\n",
              "    <tr>\n",
              "      <th>A8_Score</th>\n",
              "      <td>0.147640</td>\n",
              "      <td>0.035408</td>\n",
              "      <td>0.017771</td>\n",
              "      <td>0.008617</td>\n",
              "      <td>0.102086</td>\n",
              "      <td>0.100123</td>\n",
              "      <td>0.085403</td>\n",
              "      <td>1.000000</td>\n",
              "      <td>0.101733</td>\n",
              "      <td>0.100782</td>\n",
              "      <td>-0.078154</td>\n",
              "      <td>0.064127</td>\n",
              "      <td>-0.048702</td>\n",
              "      <td>0.012101</td>\n",
              "      <td>0.034845</td>\n",
              "      <td>0.324020</td>\n",
              "      <td>0.051040</td>\n",
              "      <td>0.237161</td>\n",
              "    </tr>\n",
              "    <tr>\n",
              "      <th>A9_Score</th>\n",
              "      <td>0.145452</td>\n",
              "      <td>0.205421</td>\n",
              "      <td>0.315113</td>\n",
              "      <td>0.327673</td>\n",
              "      <td>0.396582</td>\n",
              "      <td>0.479422</td>\n",
              "      <td>0.189480</td>\n",
              "      <td>0.101733</td>\n",
              "      <td>1.000000</td>\n",
              "      <td>0.283340</td>\n",
              "      <td>0.054984</td>\n",
              "      <td>0.006940</td>\n",
              "      <td>0.081052</td>\n",
              "      <td>0.057717</td>\n",
              "      <td>0.167644</td>\n",
              "      <td>0.661205</td>\n",
              "      <td>-0.058046</td>\n",
              "      <td>0.635576</td>\n",
              "    </tr>\n",
              "    <tr>\n",
              "      <th>A10_Score</th>\n",
              "      <td>0.118413</td>\n",
              "      <td>0.068883</td>\n",
              "      <td>0.168454</td>\n",
              "      <td>0.210968</td>\n",
              "      <td>0.267561</td>\n",
              "      <td>0.294435</td>\n",
              "      <td>0.252107</td>\n",
              "      <td>0.100782</td>\n",
              "      <td>0.283340</td>\n",
              "      <td>1.000000</td>\n",
              "      <td>-0.007846</td>\n",
              "      <td>-0.055246</td>\n",
              "      <td>0.059843</td>\n",
              "      <td>0.052201</td>\n",
              "      <td>0.117969</td>\n",
              "      <td>0.537205</td>\n",
              "      <td>0.027427</td>\n",
              "      <td>0.385917</td>\n",
              "    </tr>\n",
              "    <tr>\n",
              "      <th>age</th>\n",
              "      <td>0.025379</td>\n",
              "      <td>0.020644</td>\n",
              "      <td>0.030833</td>\n",
              "      <td>0.033967</td>\n",
              "      <td>-0.025054</td>\n",
              "      <td>0.035617</td>\n",
              "      <td>-0.026734</td>\n",
              "      <td>-0.078154</td>\n",
              "      <td>0.054984</td>\n",
              "      <td>-0.007846</td>\n",
              "      <td>1.000000</td>\n",
              "      <td>-0.051266</td>\n",
              "      <td>0.083560</td>\n",
              "      <td>0.065387</td>\n",
              "      <td>0.095511</td>\n",
              "      <td>0.011561</td>\n",
              "      <td>-0.028200</td>\n",
              "      <td>0.060054</td>\n",
              "    </tr>\n",
              "    <tr>\n",
              "      <th>gender</th>\n",
              "      <td>-0.075011</td>\n",
              "      <td>-0.047393</td>\n",
              "      <td>0.000795</td>\n",
              "      <td>-0.056508</td>\n",
              "      <td>-0.039688</td>\n",
              "      <td>-0.083615</td>\n",
              "      <td>0.061900</td>\n",
              "      <td>0.064127</td>\n",
              "      <td>0.006940</td>\n",
              "      <td>-0.055246</td>\n",
              "      <td>-0.051266</td>\n",
              "      <td>1.000000</td>\n",
              "      <td>-0.091333</td>\n",
              "      <td>-0.018842</td>\n",
              "      <td>-0.088477</td>\n",
              "      <td>-0.042231</td>\n",
              "      <td>-0.065708</td>\n",
              "      <td>-0.080378</td>\n",
              "    </tr>\n",
              "    <tr>\n",
              "      <th>ethnicity</th>\n",
              "      <td>0.053684</td>\n",
              "      <td>0.128518</td>\n",
              "      <td>0.110339</td>\n",
              "      <td>0.140787</td>\n",
              "      <td>0.009535</td>\n",
              "      <td>0.108745</td>\n",
              "      <td>-0.002004</td>\n",
              "      <td>-0.048702</td>\n",
              "      <td>0.081052</td>\n",
              "      <td>0.059843</td>\n",
              "      <td>0.083560</td>\n",
              "      <td>-0.091333</td>\n",
              "      <td>1.000000</td>\n",
              "      <td>0.074951</td>\n",
              "      <td>0.117392</td>\n",
              "      <td>0.124213</td>\n",
              "      <td>0.093633</td>\n",
              "      <td>0.144476</td>\n",
              "    </tr>\n",
              "    <tr>\n",
              "      <th>jundice</th>\n",
              "      <td>-0.019077</td>\n",
              "      <td>0.112615</td>\n",
              "      <td>0.061760</td>\n",
              "      <td>0.064918</td>\n",
              "      <td>0.034378</td>\n",
              "      <td>0.078366</td>\n",
              "      <td>0.030850</td>\n",
              "      <td>0.012101</td>\n",
              "      <td>0.057717</td>\n",
              "      <td>0.052201</td>\n",
              "      <td>0.065387</td>\n",
              "      <td>-0.018842</td>\n",
              "      <td>0.074951</td>\n",
              "      <td>1.000000</td>\n",
              "      <td>0.157793</td>\n",
              "      <td>0.094842</td>\n",
              "      <td>-0.098007</td>\n",
              "      <td>0.102152</td>\n",
              "    </tr>\n",
              "    <tr>\n",
              "      <th>austim</th>\n",
              "      <td>0.097630</td>\n",
              "      <td>0.074555</td>\n",
              "      <td>0.113697</td>\n",
              "      <td>0.193820</td>\n",
              "      <td>0.090009</td>\n",
              "      <td>0.114048</td>\n",
              "      <td>-0.008610</td>\n",
              "      <td>0.034845</td>\n",
              "      <td>0.167644</td>\n",
              "      <td>0.117969</td>\n",
              "      <td>0.095511</td>\n",
              "      <td>-0.088477</td>\n",
              "      <td>0.117392</td>\n",
              "      <td>0.157793</td>\n",
              "      <td>1.000000</td>\n",
              "      <td>0.192033</td>\n",
              "      <td>-0.119433</td>\n",
              "      <td>0.177415</td>\n",
              "    </tr>\n",
              "    <tr>\n",
              "      <th>result</th>\n",
              "      <td>0.397454</td>\n",
              "      <td>0.392540</td>\n",
              "      <td>0.552356</td>\n",
              "      <td>0.586025</td>\n",
              "      <td>0.639706</td>\n",
              "      <td>0.630012</td>\n",
              "      <td>0.454848</td>\n",
              "      <td>0.324020</td>\n",
              "      <td>0.661205</td>\n",
              "      <td>0.537205</td>\n",
              "      <td>0.011561</td>\n",
              "      <td>-0.042231</td>\n",
              "      <td>0.124213</td>\n",
              "      <td>0.094842</td>\n",
              "      <td>0.192033</td>\n",
              "      <td>1.000000</td>\n",
              "      <td>-0.000760</td>\n",
              "      <td>0.821445</td>\n",
              "    </tr>\n",
              "    <tr>\n",
              "      <th>relation</th>\n",
              "      <td>0.008398</td>\n",
              "      <td>-0.047792</td>\n",
              "      <td>0.029318</td>\n",
              "      <td>-0.013804</td>\n",
              "      <td>0.048976</td>\n",
              "      <td>-0.090688</td>\n",
              "      <td>0.032594</td>\n",
              "      <td>0.051040</td>\n",
              "      <td>-0.058046</td>\n",
              "      <td>0.027427</td>\n",
              "      <td>-0.028200</td>\n",
              "      <td>-0.065708</td>\n",
              "      <td>0.093633</td>\n",
              "      <td>-0.098007</td>\n",
              "      <td>-0.119433</td>\n",
              "      <td>-0.000760</td>\n",
              "      <td>1.000000</td>\n",
              "      <td>0.013165</td>\n",
              "    </tr>\n",
              "    <tr>\n",
              "      <th>Class/ASD</th>\n",
              "      <td>0.297628</td>\n",
              "      <td>0.311382</td>\n",
              "      <td>0.441074</td>\n",
              "      <td>0.469945</td>\n",
              "      <td>0.537004</td>\n",
              "      <td>0.592091</td>\n",
              "      <td>0.351429</td>\n",
              "      <td>0.237161</td>\n",
              "      <td>0.635576</td>\n",
              "      <td>0.385917</td>\n",
              "      <td>0.060054</td>\n",
              "      <td>-0.080378</td>\n",
              "      <td>0.144476</td>\n",
              "      <td>0.102152</td>\n",
              "      <td>0.177415</td>\n",
              "      <td>0.821445</td>\n",
              "      <td>0.013165</td>\n",
              "      <td>1.000000</td>\n",
              "    </tr>\n",
              "  </tbody>\n",
              "</table>\n",
              "</div>"
            ],
            "text/plain": [
              "           A1_Score  A2_Score  A3_Score  ...    result  relation  Class/ASD\n",
              "A1_Score   1.000000  0.011539  0.074096  ...  0.397454  0.008398   0.297628\n",
              "A2_Score   0.011539  1.000000  0.223921  ...  0.392540 -0.047792   0.311382\n",
              "A3_Score   0.074096  0.223921  1.000000  ...  0.552356  0.029318   0.441074\n",
              "A4_Score   0.127814  0.158998  0.412722  ...  0.586025 -0.013804   0.469945\n",
              "A5_Score   0.169369  0.153821  0.264927  ...  0.639706  0.048976   0.537004\n",
              "A6_Score   0.110199  0.185864  0.268846  ...  0.630012 -0.090688   0.592091\n",
              "A7_Score   0.217538 -0.041768  0.078216  ...  0.454848  0.032594   0.351429\n",
              "A8_Score   0.147640  0.035408  0.017771  ...  0.324020  0.051040   0.237161\n",
              "A9_Score   0.145452  0.205421  0.315113  ...  0.661205 -0.058046   0.635576\n",
              "A10_Score  0.118413  0.068883  0.168454  ...  0.537205  0.027427   0.385917\n",
              "age        0.025379  0.020644  0.030833  ...  0.011561 -0.028200   0.060054\n",
              "gender    -0.075011 -0.047393  0.000795  ... -0.042231 -0.065708  -0.080378\n",
              "ethnicity  0.053684  0.128518  0.110339  ...  0.124213  0.093633   0.144476\n",
              "jundice   -0.019077  0.112615  0.061760  ...  0.094842 -0.098007   0.102152\n",
              "austim     0.097630  0.074555  0.113697  ...  0.192033 -0.119433   0.177415\n",
              "result     0.397454  0.392540  0.552356  ...  1.000000 -0.000760   0.821445\n",
              "relation   0.008398 -0.047792  0.029318  ... -0.000760  1.000000   0.013165\n",
              "Class/ASD  0.297628  0.311382  0.441074  ...  0.821445  0.013165   1.000000\n",
              "\n",
              "[18 rows x 18 columns]"
            ]
          },
          "metadata": {
            "tags": []
          },
          "execution_count": 109
        }
      ]
    },
    {
      "cell_type": "code",
      "metadata": {
        "id": "14E8gdumTV17"
      },
      "source": [
        "x = data.iloc[:,0:17]\n",
        "y = data.iloc[:,17]"
      ],
      "execution_count": null,
      "outputs": []
    },
    {
      "cell_type": "code",
      "metadata": {
        "id": "BvsLBOLcTV18",
        "outputId": "dc051ff5-3fcf-491d-fe3f-6b29ccf2d86f",
        "colab": {
          "base_uri": "https://localhost:8080/",
          "height": 419
        }
      },
      "source": [
        "x"
      ],
      "execution_count": null,
      "outputs": [
        {
          "output_type": "execute_result",
          "data": {
            "text/html": [
              "<div>\n",
              "<style scoped>\n",
              "    .dataframe tbody tr th:only-of-type {\n",
              "        vertical-align: middle;\n",
              "    }\n",
              "\n",
              "    .dataframe tbody tr th {\n",
              "        vertical-align: top;\n",
              "    }\n",
              "\n",
              "    .dataframe thead th {\n",
              "        text-align: right;\n",
              "    }\n",
              "</style>\n",
              "<table border=\"1\" class=\"dataframe\">\n",
              "  <thead>\n",
              "    <tr style=\"text-align: right;\">\n",
              "      <th></th>\n",
              "      <th>A1_Score</th>\n",
              "      <th>A2_Score</th>\n",
              "      <th>A3_Score</th>\n",
              "      <th>A4_Score</th>\n",
              "      <th>A5_Score</th>\n",
              "      <th>A6_Score</th>\n",
              "      <th>A7_Score</th>\n",
              "      <th>A8_Score</th>\n",
              "      <th>A9_Score</th>\n",
              "      <th>A10_Score</th>\n",
              "      <th>age</th>\n",
              "      <th>gender</th>\n",
              "      <th>ethnicity</th>\n",
              "      <th>jundice</th>\n",
              "      <th>austim</th>\n",
              "      <th>result</th>\n",
              "      <th>relation</th>\n",
              "    </tr>\n",
              "  </thead>\n",
              "  <tbody>\n",
              "    <tr>\n",
              "      <th>0</th>\n",
              "      <td>1</td>\n",
              "      <td>1</td>\n",
              "      <td>1</td>\n",
              "      <td>1</td>\n",
              "      <td>0</td>\n",
              "      <td>0</td>\n",
              "      <td>1</td>\n",
              "      <td>1</td>\n",
              "      <td>0</td>\n",
              "      <td>0</td>\n",
              "      <td>26</td>\n",
              "      <td>0</td>\n",
              "      <td>9</td>\n",
              "      <td>0</td>\n",
              "      <td>0</td>\n",
              "      <td>6</td>\n",
              "      <td>4</td>\n",
              "    </tr>\n",
              "    <tr>\n",
              "      <th>1</th>\n",
              "      <td>1</td>\n",
              "      <td>1</td>\n",
              "      <td>0</td>\n",
              "      <td>1</td>\n",
              "      <td>0</td>\n",
              "      <td>0</td>\n",
              "      <td>0</td>\n",
              "      <td>1</td>\n",
              "      <td>0</td>\n",
              "      <td>1</td>\n",
              "      <td>24</td>\n",
              "      <td>1</td>\n",
              "      <td>3</td>\n",
              "      <td>0</td>\n",
              "      <td>1</td>\n",
              "      <td>5</td>\n",
              "      <td>4</td>\n",
              "    </tr>\n",
              "    <tr>\n",
              "      <th>2</th>\n",
              "      <td>1</td>\n",
              "      <td>1</td>\n",
              "      <td>0</td>\n",
              "      <td>1</td>\n",
              "      <td>1</td>\n",
              "      <td>0</td>\n",
              "      <td>1</td>\n",
              "      <td>1</td>\n",
              "      <td>1</td>\n",
              "      <td>1</td>\n",
              "      <td>27</td>\n",
              "      <td>1</td>\n",
              "      <td>3</td>\n",
              "      <td>1</td>\n",
              "      <td>1</td>\n",
              "      <td>8</td>\n",
              "      <td>2</td>\n",
              "    </tr>\n",
              "    <tr>\n",
              "      <th>3</th>\n",
              "      <td>1</td>\n",
              "      <td>1</td>\n",
              "      <td>0</td>\n",
              "      <td>1</td>\n",
              "      <td>0</td>\n",
              "      <td>0</td>\n",
              "      <td>1</td>\n",
              "      <td>1</td>\n",
              "      <td>0</td>\n",
              "      <td>1</td>\n",
              "      <td>35</td>\n",
              "      <td>0</td>\n",
              "      <td>9</td>\n",
              "      <td>0</td>\n",
              "      <td>1</td>\n",
              "      <td>6</td>\n",
              "      <td>4</td>\n",
              "    </tr>\n",
              "    <tr>\n",
              "      <th>4</th>\n",
              "      <td>1</td>\n",
              "      <td>0</td>\n",
              "      <td>0</td>\n",
              "      <td>0</td>\n",
              "      <td>0</td>\n",
              "      <td>0</td>\n",
              "      <td>0</td>\n",
              "      <td>1</td>\n",
              "      <td>0</td>\n",
              "      <td>0</td>\n",
              "      <td>40</td>\n",
              "      <td>0</td>\n",
              "      <td>9</td>\n",
              "      <td>0</td>\n",
              "      <td>0</td>\n",
              "      <td>2</td>\n",
              "      <td>4</td>\n",
              "    </tr>\n",
              "    <tr>\n",
              "      <th>...</th>\n",
              "      <td>...</td>\n",
              "      <td>...</td>\n",
              "      <td>...</td>\n",
              "      <td>...</td>\n",
              "      <td>...</td>\n",
              "      <td>...</td>\n",
              "      <td>...</td>\n",
              "      <td>...</td>\n",
              "      <td>...</td>\n",
              "      <td>...</td>\n",
              "      <td>...</td>\n",
              "      <td>...</td>\n",
              "      <td>...</td>\n",
              "      <td>...</td>\n",
              "      <td>...</td>\n",
              "      <td>...</td>\n",
              "      <td>...</td>\n",
              "    </tr>\n",
              "    <tr>\n",
              "      <th>699</th>\n",
              "      <td>0</td>\n",
              "      <td>1</td>\n",
              "      <td>0</td>\n",
              "      <td>1</td>\n",
              "      <td>1</td>\n",
              "      <td>0</td>\n",
              "      <td>1</td>\n",
              "      <td>1</td>\n",
              "      <td>1</td>\n",
              "      <td>1</td>\n",
              "      <td>25</td>\n",
              "      <td>0</td>\n",
              "      <td>9</td>\n",
              "      <td>0</td>\n",
              "      <td>0</td>\n",
              "      <td>7</td>\n",
              "      <td>4</td>\n",
              "    </tr>\n",
              "    <tr>\n",
              "      <th>700</th>\n",
              "      <td>1</td>\n",
              "      <td>0</td>\n",
              "      <td>0</td>\n",
              "      <td>0</td>\n",
              "      <td>0</td>\n",
              "      <td>0</td>\n",
              "      <td>0</td>\n",
              "      <td>1</td>\n",
              "      <td>0</td>\n",
              "      <td>1</td>\n",
              "      <td>34</td>\n",
              "      <td>1</td>\n",
              "      <td>2</td>\n",
              "      <td>0</td>\n",
              "      <td>0</td>\n",
              "      <td>3</td>\n",
              "      <td>2</td>\n",
              "    </tr>\n",
              "    <tr>\n",
              "      <th>701</th>\n",
              "      <td>1</td>\n",
              "      <td>0</td>\n",
              "      <td>1</td>\n",
              "      <td>1</td>\n",
              "      <td>1</td>\n",
              "      <td>0</td>\n",
              "      <td>1</td>\n",
              "      <td>1</td>\n",
              "      <td>0</td>\n",
              "      <td>1</td>\n",
              "      <td>24</td>\n",
              "      <td>0</td>\n",
              "      <td>9</td>\n",
              "      <td>0</td>\n",
              "      <td>0</td>\n",
              "      <td>7</td>\n",
              "      <td>4</td>\n",
              "    </tr>\n",
              "    <tr>\n",
              "      <th>702</th>\n",
              "      <td>1</td>\n",
              "      <td>0</td>\n",
              "      <td>0</td>\n",
              "      <td>1</td>\n",
              "      <td>1</td>\n",
              "      <td>0</td>\n",
              "      <td>1</td>\n",
              "      <td>0</td>\n",
              "      <td>1</td>\n",
              "      <td>1</td>\n",
              "      <td>35</td>\n",
              "      <td>1</td>\n",
              "      <td>7</td>\n",
              "      <td>0</td>\n",
              "      <td>0</td>\n",
              "      <td>6</td>\n",
              "      <td>4</td>\n",
              "    </tr>\n",
              "    <tr>\n",
              "      <th>703</th>\n",
              "      <td>1</td>\n",
              "      <td>0</td>\n",
              "      <td>1</td>\n",
              "      <td>1</td>\n",
              "      <td>1</td>\n",
              "      <td>0</td>\n",
              "      <td>1</td>\n",
              "      <td>1</td>\n",
              "      <td>1</td>\n",
              "      <td>1</td>\n",
              "      <td>26</td>\n",
              "      <td>0</td>\n",
              "      <td>9</td>\n",
              "      <td>0</td>\n",
              "      <td>0</td>\n",
              "      <td>8</td>\n",
              "      <td>4</td>\n",
              "    </tr>\n",
              "  </tbody>\n",
              "</table>\n",
              "<p>704 rows × 17 columns</p>\n",
              "</div>"
            ],
            "text/plain": [
              "     A1_Score  A2_Score  A3_Score  A4_Score  ...  jundice  austim  result  relation\n",
              "0           1         1         1         1  ...        0       0       6         4\n",
              "1           1         1         0         1  ...        0       1       5         4\n",
              "2           1         1         0         1  ...        1       1       8         2\n",
              "3           1         1         0         1  ...        0       1       6         4\n",
              "4           1         0         0         0  ...        0       0       2         4\n",
              "..        ...       ...       ...       ...  ...      ...     ...     ...       ...\n",
              "699         0         1         0         1  ...        0       0       7         4\n",
              "700         1         0         0         0  ...        0       0       3         2\n",
              "701         1         0         1         1  ...        0       0       7         4\n",
              "702         1         0         0         1  ...        0       0       6         4\n",
              "703         1         0         1         1  ...        0       0       8         4\n",
              "\n",
              "[704 rows x 17 columns]"
            ]
          },
          "metadata": {
            "tags": []
          },
          "execution_count": 170
        }
      ]
    },
    {
      "cell_type": "code",
      "metadata": {
        "id": "ek7cNzm-TV2A",
        "outputId": "3cb54e63-baa8-4593-8c4b-97081483240c",
        "colab": {
          "base_uri": "https://localhost:8080/"
        }
      },
      "source": [
        "y"
      ],
      "execution_count": null,
      "outputs": [
        {
          "output_type": "execute_result",
          "data": {
            "text/plain": [
              "0      0\n",
              "1      0\n",
              "2      1\n",
              "3      0\n",
              "4      0\n",
              "      ..\n",
              "699    1\n",
              "700    0\n",
              "701    1\n",
              "702    0\n",
              "703    1\n",
              "Name: Class/ASD, Length: 704, dtype: int64"
            ]
          },
          "metadata": {
            "tags": []
          },
          "execution_count": 171
        }
      ]
    },
    {
      "cell_type": "code",
      "metadata": {
        "id": "oB2BP9VITV2C",
        "outputId": "9fb987c2-d5eb-48bd-da55-e2ba03e474da",
        "colab": {
          "base_uri": "https://localhost:8080/",
          "height": 396
        }
      },
      "source": [
        "import seaborn as sns\n",
        "sns.heatmap(data1)"
      ],
      "execution_count": null,
      "outputs": [
        {
          "output_type": "execute_result",
          "data": {
            "text/plain": [
              "<matplotlib.axes._subplots.AxesSubplot at 0x7f0cfeef1630>"
            ]
          },
          "metadata": {
            "tags": []
          },
          "execution_count": 113
        },
        {
          "output_type": "display_data",
          "data": {
            "image/png": "[encoded data removed]",
            "text/plain": [
              "<Figure size 432x288 with 2 Axes>"
            ]
          },
          "metadata": {
            "tags": [],
            "needs_background": "light"
          }
        }
      ]
    },
    {
      "cell_type": "code",
      "metadata": {
        "id": "_j3JFHYqTV2H"
      },
      "source": [
        "import matplotlib\n",
        "import matplotlib.pyplot as plt"
      ],
      "execution_count": null,
      "outputs": []
    },
    {
      "cell_type": "code",
      "metadata": {
        "id": "4J8S-7t4TV2J",
        "outputId": "838f9e43-7c6a-4356-ad92-9a52ff430875",
        "colab": {
          "base_uri": "https://localhost:8080/"
        }
      },
      "source": [
        "data['Class/ASD'].value_counts()"
      ],
      "execution_count": null,
      "outputs": [
        {
          "output_type": "execute_result",
          "data": {
            "text/plain": [
              "0    515\n",
              "1    189\n",
              "Name: Class/ASD, dtype: int64"
            ]
          },
          "metadata": {
            "tags": []
          },
          "execution_count": 115
        }
      ]
    },
    {
      "cell_type": "code",
      "metadata": {
        "id": "90V7JNzSTV2L",
        "outputId": "f8d8985d-a5f6-4d0d-9a89-566c45800d8c",
        "colab": {
          "base_uri": "https://localhost:8080/",
          "height": 350
        }
      },
      "source": [
        "sns.distplot(data['Class/ASD'])"
      ],
      "execution_count": null,
      "outputs": [
        {
          "output_type": "stream",
          "text": [
            "/usr/local/lib/python3.6/dist-packages/seaborn/distributions.py:2551: FutureWarning: `distplot` is a deprecated function and will be removed in a future version. Please adapt your code to use either `displot` (a figure-level function with similar flexibility) or `histplot` (an axes-level function for histograms).\n",
            "  warnings.warn(msg, FutureWarning)\n"
          ],
          "name": "stderr"
        },
        {
          "output_type": "execute_result",
          "data": {
            "text/plain": [
              "<matplotlib.axes._subplots.AxesSubplot at 0x7f0cff8b0a58>"
            ]
          },
          "metadata": {
            "tags": []
          },
          "execution_count": 116
        },
        {
          "output_type": "display_data",
          "data": {
            "image/png": "[encoded data removed]",
            "text/plain": [
              "<Figure size 432x288 with 1 Axes>"
            ]
          },
          "metadata": {
            "tags": [],
            "needs_background": "light"
          }
        }
      ]
    },
    {
      "cell_type": "code",
      "metadata": {
        "id": "80N6VIWgTV2O"
      },
      "source": [
        "from sklearn.linear_model import LogisticRegression\n",
        "from sklearn.metrics import accuracy_score,confusion_matrix,classification_report\n",
        "from sklearn.model_selection import KFold\n",
        "import numpy as np\n",
        "from sklearn.model_selection import GridSearchCV,train_test_split"
      ],
      "execution_count": null,
      "outputs": []
    },
    {
      "cell_type": "code",
      "metadata": {
        "id": "rTvIkwiXTV2Q"
      },
      "source": [
        "log = LogisticRegression(max_iter = 500)\n",
        "grid = {'C':[0.001,0.01,0.1],'penalty':['l1','l2'],'solver' : ['saga']}\n",
        "cv = KFold(n_splits = 5,random_state = None,shuffle = True)"
      ],
      "execution_count": null,
      "outputs": []
    },
    {
      "cell_type": "code",
      "metadata": {
        "id": "z3niKGbhTV2T"
      },
      "source": [
        "x_train,x_test,y_train,y_test = x1,x,y1,y "
      ],
      "execution_count": null,
      "outputs": []
    },
    {
      "cell_type": "code",
      "metadata": {
        "id": "LB5YuAv1TV2V",
        "outputId": "f43effa8-2cc7-4edf-a406-45c69f849ee0",
        "colab": {
          "base_uri": "https://localhost:8080/"
        }
      },
      "source": [
        "y.value_counts()"
      ],
      "execution_count": null,
      "outputs": [
        {
          "output_type": "execute_result",
          "data": {
            "text/plain": [
              "0    515\n",
              "1    189\n",
              "Name: Class/ASD, dtype: int64"
            ]
          },
          "metadata": {
            "tags": []
          },
          "execution_count": 120
        }
      ]
    },
    {
      "cell_type": "code",
      "metadata": {
        "id": "taK4weU5TV2X",
        "outputId": "c9478f2d-5f07-4635-8c33-b6a0a15350e7",
        "colab": {
          "base_uri": "https://localhost:8080/"
        }
      },
      "source": [
        "y1.value_counts()"
      ],
      "execution_count": null,
      "outputs": [
        {
          "output_type": "execute_result",
          "data": {
            "text/plain": [
              "1    728\n",
              "0    326\n",
              "Name: Class/ASD Traits , dtype: int64"
            ]
          },
          "metadata": {
            "tags": []
          },
          "execution_count": 121
        }
      ]
    },
    {
      "cell_type": "code",
      "metadata": {
        "id": "fchgt9xeTV2Z",
        "outputId": "78ff3c7b-64cd-46fd-9ced-182b0d9e1d5f",
        "colab": {
          "base_uri": "https://localhost:8080/",
          "height": 419
        }
      },
      "source": [
        "x_train"
      ],
      "execution_count": null,
      "outputs": [
        {
          "output_type": "execute_result",
          "data": {
            "text/html": [
              "<div>\n",
              "<style scoped>\n",
              "    .dataframe tbody tr th:only-of-type {\n",
              "        vertical-align: middle;\n",
              "    }\n",
              "\n",
              "    .dataframe tbody tr th {\n",
              "        vertical-align: top;\n",
              "    }\n",
              "\n",
              "    .dataframe thead th {\n",
              "        text-align: right;\n",
              "    }\n",
              "</style>\n",
              "<table border=\"1\" class=\"dataframe\">\n",
              "  <thead>\n",
              "    <tr style=\"text-align: right;\">\n",
              "      <th></th>\n",
              "      <th>A1</th>\n",
              "      <th>A2</th>\n",
              "      <th>A3</th>\n",
              "      <th>A4</th>\n",
              "      <th>A5</th>\n",
              "      <th>A6</th>\n",
              "      <th>A7</th>\n",
              "      <th>A8</th>\n",
              "      <th>A9</th>\n",
              "      <th>A10</th>\n",
              "      <th>Age_Mons</th>\n",
              "      <th>Qchat-10-Score</th>\n",
              "      <th>Sex</th>\n",
              "      <th>Ethnicity</th>\n",
              "      <th>Jaundice</th>\n",
              "      <th>Family_mem_with_ASD</th>\n",
              "      <th>Who completed the test</th>\n",
              "    </tr>\n",
              "  </thead>\n",
              "  <tbody>\n",
              "    <tr>\n",
              "      <th>0</th>\n",
              "      <td>0</td>\n",
              "      <td>0</td>\n",
              "      <td>0</td>\n",
              "      <td>0</td>\n",
              "      <td>0</td>\n",
              "      <td>0</td>\n",
              "      <td>1</td>\n",
              "      <td>1</td>\n",
              "      <td>0</td>\n",
              "      <td>1</td>\n",
              "      <td>2</td>\n",
              "      <td>3</td>\n",
              "      <td>0</td>\n",
              "      <td>8</td>\n",
              "      <td>0</td>\n",
              "      <td>1</td>\n",
              "      <td>4</td>\n",
              "    </tr>\n",
              "    <tr>\n",
              "      <th>1</th>\n",
              "      <td>1</td>\n",
              "      <td>1</td>\n",
              "      <td>0</td>\n",
              "      <td>0</td>\n",
              "      <td>0</td>\n",
              "      <td>1</td>\n",
              "      <td>1</td>\n",
              "      <td>0</td>\n",
              "      <td>0</td>\n",
              "      <td>0</td>\n",
              "      <td>3</td>\n",
              "      <td>4</td>\n",
              "      <td>1</td>\n",
              "      <td>5</td>\n",
              "      <td>0</td>\n",
              "      <td>1</td>\n",
              "      <td>4</td>\n",
              "    </tr>\n",
              "    <tr>\n",
              "      <th>2</th>\n",
              "      <td>1</td>\n",
              "      <td>0</td>\n",
              "      <td>0</td>\n",
              "      <td>0</td>\n",
              "      <td>0</td>\n",
              "      <td>0</td>\n",
              "      <td>1</td>\n",
              "      <td>1</td>\n",
              "      <td>0</td>\n",
              "      <td>1</td>\n",
              "      <td>3</td>\n",
              "      <td>4</td>\n",
              "      <td>1</td>\n",
              "      <td>8</td>\n",
              "      <td>0</td>\n",
              "      <td>1</td>\n",
              "      <td>4</td>\n",
              "    </tr>\n",
              "    <tr>\n",
              "      <th>3</th>\n",
              "      <td>1</td>\n",
              "      <td>1</td>\n",
              "      <td>1</td>\n",
              "      <td>1</td>\n",
              "      <td>1</td>\n",
              "      <td>1</td>\n",
              "      <td>1</td>\n",
              "      <td>1</td>\n",
              "      <td>1</td>\n",
              "      <td>1</td>\n",
              "      <td>2</td>\n",
              "      <td>10</td>\n",
              "      <td>1</td>\n",
              "      <td>0</td>\n",
              "      <td>1</td>\n",
              "      <td>1</td>\n",
              "      <td>4</td>\n",
              "    </tr>\n",
              "    <tr>\n",
              "      <th>4</th>\n",
              "      <td>1</td>\n",
              "      <td>1</td>\n",
              "      <td>0</td>\n",
              "      <td>1</td>\n",
              "      <td>1</td>\n",
              "      <td>1</td>\n",
              "      <td>1</td>\n",
              "      <td>1</td>\n",
              "      <td>1</td>\n",
              "      <td>1</td>\n",
              "      <td>1</td>\n",
              "      <td>9</td>\n",
              "      <td>0</td>\n",
              "      <td>5</td>\n",
              "      <td>1</td>\n",
              "      <td>0</td>\n",
              "      <td>4</td>\n",
              "    </tr>\n",
              "    <tr>\n",
              "      <th>...</th>\n",
              "      <td>...</td>\n",
              "      <td>...</td>\n",
              "      <td>...</td>\n",
              "      <td>...</td>\n",
              "      <td>...</td>\n",
              "      <td>...</td>\n",
              "      <td>...</td>\n",
              "      <td>...</td>\n",
              "      <td>...</td>\n",
              "      <td>...</td>\n",
              "      <td>...</td>\n",
              "      <td>...</td>\n",
              "      <td>...</td>\n",
              "      <td>...</td>\n",
              "      <td>...</td>\n",
              "      <td>...</td>\n",
              "      <td>...</td>\n",
              "    </tr>\n",
              "    <tr>\n",
              "      <th>1049</th>\n",
              "      <td>0</td>\n",
              "      <td>0</td>\n",
              "      <td>0</td>\n",
              "      <td>0</td>\n",
              "      <td>0</td>\n",
              "      <td>0</td>\n",
              "      <td>0</td>\n",
              "      <td>0</td>\n",
              "      <td>0</td>\n",
              "      <td>1</td>\n",
              "      <td>2</td>\n",
              "      <td>1</td>\n",
              "      <td>0</td>\n",
              "      <td>5</td>\n",
              "      <td>1</td>\n",
              "      <td>0</td>\n",
              "      <td>4</td>\n",
              "    </tr>\n",
              "    <tr>\n",
              "      <th>1050</th>\n",
              "      <td>0</td>\n",
              "      <td>0</td>\n",
              "      <td>1</td>\n",
              "      <td>1</td>\n",
              "      <td>1</td>\n",
              "      <td>0</td>\n",
              "      <td>1</td>\n",
              "      <td>0</td>\n",
              "      <td>1</td>\n",
              "      <td>0</td>\n",
              "      <td>1</td>\n",
              "      <td>5</td>\n",
              "      <td>1</td>\n",
              "      <td>7</td>\n",
              "      <td>0</td>\n",
              "      <td>1</td>\n",
              "      <td>4</td>\n",
              "    </tr>\n",
              "    <tr>\n",
              "      <th>1051</th>\n",
              "      <td>1</td>\n",
              "      <td>0</td>\n",
              "      <td>1</td>\n",
              "      <td>1</td>\n",
              "      <td>1</td>\n",
              "      <td>1</td>\n",
              "      <td>1</td>\n",
              "      <td>1</td>\n",
              "      <td>1</td>\n",
              "      <td>1</td>\n",
              "      <td>1</td>\n",
              "      <td>9</td>\n",
              "      <td>1</td>\n",
              "      <td>8</td>\n",
              "      <td>0</td>\n",
              "      <td>1</td>\n",
              "      <td>4</td>\n",
              "    </tr>\n",
              "    <tr>\n",
              "      <th>1052</th>\n",
              "      <td>1</td>\n",
              "      <td>0</td>\n",
              "      <td>0</td>\n",
              "      <td>0</td>\n",
              "      <td>0</td>\n",
              "      <td>0</td>\n",
              "      <td>0</td>\n",
              "      <td>1</td>\n",
              "      <td>0</td>\n",
              "      <td>1</td>\n",
              "      <td>1</td>\n",
              "      <td>3</td>\n",
              "      <td>1</td>\n",
              "      <td>5</td>\n",
              "      <td>1</td>\n",
              "      <td>0</td>\n",
              "      <td>4</td>\n",
              "    </tr>\n",
              "    <tr>\n",
              "      <th>1053</th>\n",
              "      <td>1</td>\n",
              "      <td>1</td>\n",
              "      <td>0</td>\n",
              "      <td>0</td>\n",
              "      <td>1</td>\n",
              "      <td>1</td>\n",
              "      <td>0</td>\n",
              "      <td>1</td>\n",
              "      <td>1</td>\n",
              "      <td>0</td>\n",
              "      <td>2</td>\n",
              "      <td>6</td>\n",
              "      <td>1</td>\n",
              "      <td>6</td>\n",
              "      <td>0</td>\n",
              "      <td>0</td>\n",
              "      <td>4</td>\n",
              "    </tr>\n",
              "  </tbody>\n",
              "</table>\n",
              "<p>1054 rows × 17 columns</p>\n",
              "</div>"
            ],
            "text/plain": [
              "      A1  A2  A3  ...  Jaundice  Family_mem_with_ASD  Who completed the test\n",
              "0      0   0   0  ...         0                    1                       4\n",
              "1      1   1   0  ...         0                    1                       4\n",
              "2      1   0   0  ...         0                    1                       4\n",
              "3      1   1   1  ...         1                    1                       4\n",
              "4      1   1   0  ...         1                    0                       4\n",
              "...   ..  ..  ..  ...       ...                  ...                     ...\n",
              "1049   0   0   0  ...         1                    0                       4\n",
              "1050   0   0   1  ...         0                    1                       4\n",
              "1051   1   0   1  ...         0                    1                       4\n",
              "1052   1   0   0  ...         1                    0                       4\n",
              "1053   1   1   0  ...         0                    0                       4\n",
              "\n",
              "[1054 rows x 17 columns]"
            ]
          },
          "metadata": {
            "tags": []
          },
          "execution_count": 122
        }
      ]
    },
    {
      "cell_type": "code",
      "metadata": {
        "id": "DESbOwpRTV2b",
        "outputId": "630ce033-381f-451d-968c-e8ee13b5b96a",
        "colab": {
          "base_uri": "https://localhost:8080/"
        }
      },
      "source": [
        "y_train"
      ],
      "execution_count": null,
      "outputs": [
        {
          "output_type": "execute_result",
          "data": {
            "text/plain": [
              "0       0\n",
              "1       1\n",
              "2       1\n",
              "3       1\n",
              "4       1\n",
              "       ..\n",
              "1049    0\n",
              "1050    1\n",
              "1051    1\n",
              "1052    0\n",
              "1053    1\n",
              "Name: Class/ASD Traits , Length: 1054, dtype: int64"
            ]
          },
          "metadata": {
            "tags": []
          },
          "execution_count": 123
        }
      ]
    },
    {
      "cell_type": "code",
      "metadata": {
        "id": "z0Gw3bCbTV2e",
        "outputId": "b767ad69-e703-4d7e-d43b-d19fad889fdf",
        "colab": {
          "base_uri": "https://localhost:8080/"
        }
      },
      "source": [
        "clf = GridSearchCV(log,grid,cv = cv,n_jobs = -1,refit=True)\n",
        "clf.fit(x_train,y_train)"
      ],
      "execution_count": null,
      "outputs": [
        {
          "output_type": "execute_result",
          "data": {
            "text/plain": [
              "GridSearchCV(cv=KFold(n_splits=5, random_state=None, shuffle=True),\n",
              "             error_score=nan,\n",
              "             estimator=LogisticRegression(C=1.0, class_weight=None, dual=False,\n",
              "                                          fit_intercept=True,\n",
              "                                          intercept_scaling=1, l1_ratio=None,\n",
              "                                          max_iter=500, multi_class='auto',\n",
              "                                          n_jobs=None, penalty='l2',\n",
              "                                          random_state=None, solver='lbfgs',\n",
              "                                          tol=0.0001, verbose=0,\n",
              "                                          warm_start=False),\n",
              "             iid='deprecated', n_jobs=-1,\n",
              "             param_grid={'C': [0.001, 0.01, 0.1], 'penalty': ['l1', 'l2'],\n",
              "                         'solver': ['saga']},\n",
              "             pre_dispatch='2*n_jobs', refit=True, return_train_score=False,\n",
              "             scoring=None, verbose=0)"
            ]
          },
          "metadata": {
            "tags": []
          },
          "execution_count": 124
        }
      ]
    },
    {
      "cell_type": "code",
      "metadata": {
        "id": "gMUjTfiBTV2f"
      },
      "source": [
        "y_pred = clf.predict(x_test)"
      ],
      "execution_count": null,
      "outputs": []
    },
    {
      "cell_type": "code",
      "metadata": {
        "id": "WZ9MdhnqTV2j",
        "outputId": "07469719-69e8-4d33-ef81-3102e679c7e8",
        "colab": {
          "base_uri": "https://localhost:8080/"
        }
      },
      "source": [
        "y_pred"
      ],
      "execution_count": null,
      "outputs": [
        {
          "output_type": "execute_result",
          "data": {
            "text/plain": [
              "array([0, 0, 0, 0, 0, 0, 0, 0, 0, 0, 0, 0, 0, 0, 0, 0, 0, 0, 0, 0, 0, 0,\n",
              "       0, 0, 0, 0, 0, 0, 0, 0, 0, 0, 0, 0, 0, 0, 0, 0, 0, 0, 0, 0, 0, 0,\n",
              "       0, 0, 0, 0, 0, 0, 0, 0, 0, 0, 0, 0, 0, 0, 0, 0, 0, 0, 0, 0, 0, 0,\n",
              "       0, 0, 0, 0, 0, 0, 0, 0, 0, 0, 0, 0, 0, 0, 0, 0, 0, 0, 0, 0, 0, 0,\n",
              "       0, 0, 0, 0, 0, 0, 0, 0, 0, 0, 0, 0, 0, 0, 0, 0, 0, 0, 0, 0, 0, 0,\n",
              "       0, 0, 0, 0, 0, 0, 0, 0, 0, 0, 0, 0, 0, 0, 0, 0, 0, 0, 0, 0, 0, 0,\n",
              "       0, 0, 0, 0, 0, 0, 0, 0, 0, 0, 0, 0, 0, 0, 0, 0, 0, 0, 0, 0, 0, 0,\n",
              "       0, 0, 0, 0, 0, 0, 0, 0, 0, 0, 0, 0, 0, 0, 0, 0, 0, 0, 0, 0, 0, 0,\n",
              "       0, 0, 0, 0, 0, 0, 0, 0, 0, 0, 0, 0, 0, 0, 0, 0, 0, 0, 0, 0, 0, 0,\n",
              "       0, 0, 0, 0, 0, 0, 0, 0, 0, 0, 0, 0, 0, 0, 0, 0, 0, 0, 0, 0, 0, 0,\n",
              "       0, 0, 0, 0, 0, 0, 0, 0, 0, 0, 0, 0, 0, 0, 0, 0, 0, 0, 0, 0, 0, 0,\n",
              "       0, 0, 0, 0, 0, 0, 0, 0, 0, 0, 0, 0, 0, 0, 0, 0, 0, 0, 0, 0, 0, 0,\n",
              "       0, 0, 0, 0, 0, 0, 0, 0, 0, 0, 0, 0, 0, 0, 0, 0, 0, 0, 0, 0, 0, 0,\n",
              "       0, 0, 0, 0, 0, 0, 0, 0, 0, 0, 0, 0, 0, 0, 0, 0, 0, 0, 0, 0, 0, 0,\n",
              "       0, 0, 0, 0, 0, 0, 0, 0, 0, 0, 0, 0, 0, 0, 0, 0, 0, 0, 0, 0, 0, 0,\n",
              "       0, 0, 0, 0, 0, 0, 0, 0, 0, 0, 0, 0, 0, 0, 0, 0, 0, 0, 0, 0, 0, 0,\n",
              "       0, 0, 0, 0, 0, 0, 0, 0, 0, 0, 0, 0, 0, 0, 0, 0, 0, 0, 0, 0, 0, 0,\n",
              "       0, 0, 0, 0, 0, 0, 0, 0, 0, 0, 0, 0, 0, 0, 0, 0, 0, 0, 0, 0, 0, 0,\n",
              "       0, 0, 0, 0, 0, 0, 0, 0, 0, 0, 0, 0, 0, 0, 0, 0, 0, 0, 0, 0, 0, 0,\n",
              "       0, 0, 0, 0, 0, 0, 0, 0, 0, 0, 0, 0, 0, 0, 0, 0, 0, 0, 0, 0, 0, 0,\n",
              "       0, 0, 0, 0, 0, 0, 0, 0, 0, 0, 0, 0, 0, 0, 0, 0, 0, 0, 0, 0, 0, 0,\n",
              "       0, 0, 0, 0, 0, 0, 0, 0, 0, 0, 0, 0, 0, 0, 0, 0, 0, 0, 0, 0, 0, 0,\n",
              "       0, 0, 0, 0, 0, 0, 0, 0, 0, 0, 0, 0, 0, 0, 0, 0, 0, 0, 0, 0, 0, 0,\n",
              "       0, 0, 0, 0, 0, 0, 0, 0, 0, 0, 0, 0, 0, 0, 0, 0, 0, 0, 0, 0, 0, 0,\n",
              "       0, 0, 0, 0, 0, 0, 0, 0, 0, 0, 0, 0, 0, 0, 0, 0, 0, 0, 0, 0, 0, 0,\n",
              "       0, 0, 0, 0, 0, 0, 0, 0, 0, 0, 0, 0, 0, 0, 0, 0, 0, 0, 0, 0, 0, 0,\n",
              "       0, 0, 0, 0, 0, 0, 0, 0, 0, 0, 0, 0, 0, 0, 0, 0, 0, 0, 0, 0, 0, 0,\n",
              "       0, 0, 0, 0, 0, 0, 0, 0, 0, 0, 0, 0, 0, 0, 0, 0, 0, 0, 0, 0, 0, 0,\n",
              "       0, 0, 0, 0, 0, 0, 0, 0, 0, 0, 0, 0, 0, 0, 0, 0, 0, 0, 0, 0, 0, 0,\n",
              "       0, 0, 0, 0, 0, 0, 0, 0, 0, 0, 0, 0, 0, 0, 0, 0, 0, 0, 0, 0, 0, 0,\n",
              "       0, 0, 0, 0, 0, 0, 0, 0, 0, 0, 0, 0, 0, 0, 0, 0, 0, 0, 0, 0, 0, 0,\n",
              "       0, 0, 0, 0, 0, 0, 0, 0, 0, 0, 0, 0, 0, 0, 0, 0, 0, 0, 0, 0, 0, 0])"
            ]
          },
          "metadata": {
            "tags": []
          },
          "execution_count": 126
        }
      ]
    },
    {
      "cell_type": "code",
      "metadata": {
        "id": "s9HD_AZtTV2k",
        "outputId": "43a444a7-026d-4f0a-d79d-0f5c6ece0eff",
        "colab": {
          "base_uri": "https://localhost:8080/"
        }
      },
      "source": [
        "print(confusion_matrix(y_test,y_pred))"
      ],
      "execution_count": null,
      "outputs": [
        {
          "output_type": "stream",
          "text": [
            "[[515   0]\n",
            " [189   0]]\n"
          ],
          "name": "stdout"
        }
      ]
    },
    {
      "cell_type": "code",
      "metadata": {
        "id": "gfasWinGTV2m",
        "outputId": "a4c0ed00-3a96-4855-982f-5b53a0281ca9",
        "colab": {
          "base_uri": "https://localhost:8080/"
        }
      },
      "source": [
        "print(accuracy_score(y_test,y_pred))"
      ],
      "execution_count": null,
      "outputs": [
        {
          "output_type": "stream",
          "text": [
            "0.7315340909090909\n"
          ],
          "name": "stdout"
        }
      ]
    },
    {
      "cell_type": "code",
      "metadata": {
        "id": "je2UrFk4TV2r",
        "outputId": "50b234fb-21a6-4e96-fefb-0fa036bd0f13",
        "colab": {
          "base_uri": "https://localhost:8080/"
        }
      },
      "source": [
        "print(classification_report(y_test,y_pred))"
      ],
      "execution_count": null,
      "outputs": [
        {
          "output_type": "stream",
          "text": [
            "              precision    recall  f1-score   support\n",
            "\n",
            "           0       0.73      1.00      0.84       515\n",
            "           1       0.00      0.00      0.00       189\n",
            "\n",
            "    accuracy                           0.73       704\n",
            "   macro avg       0.37      0.50      0.42       704\n",
            "weighted avg       0.54      0.73      0.62       704\n",
            "\n"
          ],
          "name": "stdout"
        },
        {
          "output_type": "stream",
          "text": [
            "/usr/local/lib/python3.6/dist-packages/sklearn/metrics/_classification.py:1272: UndefinedMetricWarning: Precision and F-score are ill-defined and being set to 0.0 in labels with no predicted samples. Use `zero_division` parameter to control this behavior.\n",
            "  _warn_prf(average, modifier, msg_start, len(result))\n"
          ],
          "name": "stderr"
        }
      ]
    },
    {
      "cell_type": "code",
      "metadata": {
        "id": "2Bj-HXzQTV2t",
        "outputId": "dc36a743-4b70-422d-e326-252d08af3168",
        "colab": {
          "base_uri": "https://localhost:8080/"
        }
      },
      "source": [
        "from sklearn.svm import SVC\n",
        "clf_svc = SVC(kernel = 'rbf',gamma = 1000)\n",
        "clf_svc.fit(x_train,y_train)"
      ],
      "execution_count": null,
      "outputs": [
        {
          "output_type": "execute_result",
          "data": {
            "text/plain": [
              "SVC(C=1.0, break_ties=False, cache_size=200, class_weight=None, coef0=0.0,\n",
              "    decision_function_shape='ovr', degree=3, gamma=1000, kernel='rbf',\n",
              "    max_iter=-1, probability=False, random_state=None, shrinking=True,\n",
              "    tol=0.001, verbose=False)"
            ]
          },
          "metadata": {
            "tags": []
          },
          "execution_count": 130
        }
      ]
    },
    {
      "cell_type": "code",
      "metadata": {
        "id": "UrtNrX-qTV2w",
        "outputId": "7e1e0ba9-fefe-4bfc-a127-6ca1412179c6",
        "colab": {
          "base_uri": "https://localhost:8080/"
        }
      },
      "source": [
        "param_grid = {'C': [0.1, 1, 10, 100, 1000], \n",
        "'gamma': [1, 0.1, 0.01, 0.001, 100],\n",
        "'degree':[2,3,4],\n",
        "'kernel': ['rbf','poly']} \n",
        "cv = KFold(n_splits = 5,random_state = None,shuffle = True)\n",
        "grid = GridSearchCV(SVC(cache_size = 300,max_iter = 700,), param_grid, cv = cv,refit = True, verbose = 3) \n",
        "\n",
        "grid.fit(x_train, y_train) \n"
      ],
      "execution_count": null,
      "outputs": [
        {
          "output_type": "stream",
          "text": [
            "Fitting 5 folds for each of 150 candidates, totalling 750 fits\n",
            "[CV] C=0.1, degree=2, gamma=1, kernel=rbf ............................\n",
            "[CV]  C=0.1, degree=2, gamma=1, kernel=rbf, score=0.739, total=   0.1s\n",
            "[CV] C=0.1, degree=2, gamma=1, kernel=rbf ............................\n"
          ],
          "name": "stdout"
        },
        {
          "output_type": "stream",
          "text": [
            "[Parallel(n_jobs=1)]: Using backend SequentialBackend with 1 concurrent workers.\n",
            "/usr/local/lib/python3.6/dist-packages/sklearn/svm/_base.py:231: ConvergenceWarning: Solver terminated early (max_iter=700).  Consider pre-processing your data with StandardScaler or MinMaxScaler.\n",
            "  % self.max_iter, ConvergenceWarning)\n",
            "[Parallel(n_jobs=1)]: Done   1 out of   1 | elapsed:    0.1s remaining:    0.0s\n"
          ],
          "name": "stderr"
        },
        {
          "output_type": "stream",
          "text": [
            "[CV]  C=0.1, degree=2, gamma=1, kernel=rbf, score=0.682, total=   0.1s\n",
            "[CV] C=0.1, degree=2, gamma=1, kernel=rbf ............................\n",
            "[CV]  C=0.1, degree=2, gamma=1, kernel=rbf, score=0.701, total=   0.1s\n",
            "[CV] C=0.1, degree=2, gamma=1, kernel=rbf ............................\n"
          ],
          "name": "stdout"
        },
        {
          "output_type": "stream",
          "text": [
            "/usr/local/lib/python3.6/dist-packages/sklearn/svm/_base.py:231: ConvergenceWarning: Solver terminated early (max_iter=700).  Consider pre-processing your data with StandardScaler or MinMaxScaler.\n",
            "  % self.max_iter, ConvergenceWarning)\n",
            "[Parallel(n_jobs=1)]: Done   2 out of   2 | elapsed:    0.1s remaining:    0.0s\n",
            "/usr/local/lib/python3.6/dist-packages/sklearn/svm/_base.py:231: ConvergenceWarning: Solver terminated early (max_iter=700).  Consider pre-processing your data with StandardScaler or MinMaxScaler.\n",
            "  % self.max_iter, ConvergenceWarning)\n",
            "/usr/local/lib/python3.6/dist-packages/sklearn/svm/_base.py:231: ConvergenceWarning: Solver terminated early (max_iter=700).  Consider pre-processing your data with StandardScaler or MinMaxScaler.\n",
            "  % self.max_iter, ConvergenceWarning)\n",
            "/usr/local/lib/python3.6/dist-packages/sklearn/svm/_base.py:231: ConvergenceWarning: Solver terminated early (max_iter=700).  Consider pre-processing your data with StandardScaler or MinMaxScaler.\n",
            "  % self.max_iter, ConvergenceWarning)\n",
            "/usr/local/lib/python3.6/dist-packages/sklearn/svm/_base.py:231: ConvergenceWarning: Solver terminated early (max_iter=700).  Consider pre-processing your data with StandardScaler or MinMaxScaler.\n",
            "  % self.max_iter, ConvergenceWarning)\n",
            "/usr/local/lib/python3.6/dist-packages/sklearn/svm/_base.py:231: ConvergenceWarning: Solver terminated early (max_iter=700).  Consider pre-processing your data with StandardScaler or MinMaxScaler.\n",
            "  % self.max_iter, ConvergenceWarning)\n"
          ],
          "name": "stderr"
        },
        {
          "output_type": "stream",
          "text": [
            "[CV]  C=0.1, degree=2, gamma=1, kernel=rbf, score=0.697, total=   0.1s\n",
            "[CV] C=0.1, degree=2, gamma=1, kernel=rbf ............................\n",
            "[CV]  C=0.1, degree=2, gamma=1, kernel=rbf, score=0.695, total=   0.1s\n",
            "[CV] C=0.1, degree=2, gamma=1, kernel=poly ...........................\n",
            "[CV]  C=0.1, degree=2, gamma=1, kernel=poly, score=1.000, total=   0.0s\n",
            "[CV] C=0.1, degree=2, gamma=1, kernel=poly ...........................\n",
            "[CV]  C=0.1, degree=2, gamma=1, kernel=poly, score=1.000, total=   0.0s\n",
            "[CV] C=0.1, degree=2, gamma=1, kernel=poly ...........................\n",
            "[CV]  C=0.1, degree=2, gamma=1, kernel=poly, score=1.000, total=   0.0s\n",
            "[CV] C=0.1, degree=2, gamma=1, kernel=poly ...........................\n",
            "[CV]  C=0.1, degree=2, gamma=1, kernel=poly, score=1.000, total=   0.0s\n",
            "[CV] C=0.1, degree=2, gamma=1, kernel=poly ...........................\n"
          ],
          "name": "stdout"
        },
        {
          "output_type": "stream",
          "text": [
            "/usr/local/lib/python3.6/dist-packages/sklearn/svm/_base.py:231: ConvergenceWarning: Solver terminated early (max_iter=700).  Consider pre-processing your data with StandardScaler or MinMaxScaler.\n",
            "  % self.max_iter, ConvergenceWarning)\n",
            "/usr/local/lib/python3.6/dist-packages/sklearn/svm/_base.py:231: ConvergenceWarning: Solver terminated early (max_iter=700).  Consider pre-processing your data with StandardScaler or MinMaxScaler.\n",
            "  % self.max_iter, ConvergenceWarning)\n"
          ],
          "name": "stderr"
        },
        {
          "output_type": "stream",
          "text": [
            "[CV]  C=0.1, degree=2, gamma=1, kernel=poly, score=1.000, total=   0.0s\n",
            "[CV] C=0.1, degree=2, gamma=0.1, kernel=rbf ..........................\n",
            "[CV]  C=0.1, degree=2, gamma=0.1, kernel=rbf, score=0.976, total=   0.0s\n",
            "[CV] C=0.1, degree=2, gamma=0.1, kernel=rbf ..........................\n",
            "[CV]  C=0.1, degree=2, gamma=0.1, kernel=rbf, score=0.976, total=   0.0s\n",
            "[CV] C=0.1, degree=2, gamma=0.1, kernel=rbf ..........................\n",
            "[CV]  C=0.1, degree=2, gamma=0.1, kernel=rbf, score=0.995, total=   0.0s\n",
            "[CV] C=0.1, degree=2, gamma=0.1, kernel=rbf ..........................\n",
            "[CV]  C=0.1, degree=2, gamma=0.1, kernel=rbf, score=0.995, total=   0.0s\n",
            "[CV] C=0.1, degree=2, gamma=0.1, kernel=rbf ..........................\n"
          ],
          "name": "stdout"
        },
        {
          "output_type": "stream",
          "text": [
            "/usr/local/lib/python3.6/dist-packages/sklearn/svm/_base.py:231: ConvergenceWarning: Solver terminated early (max_iter=700).  Consider pre-processing your data with StandardScaler or MinMaxScaler.\n",
            "  % self.max_iter, ConvergenceWarning)\n",
            "/usr/local/lib/python3.6/dist-packages/sklearn/svm/_base.py:231: ConvergenceWarning: Solver terminated early (max_iter=700).  Consider pre-processing your data with StandardScaler or MinMaxScaler.\n",
            "  % self.max_iter, ConvergenceWarning)\n",
            "/usr/local/lib/python3.6/dist-packages/sklearn/svm/_base.py:231: ConvergenceWarning: Solver terminated early (max_iter=700).  Consider pre-processing your data with StandardScaler or MinMaxScaler.\n",
            "  % self.max_iter, ConvergenceWarning)\n"
          ],
          "name": "stderr"
        },
        {
          "output_type": "stream",
          "text": [
            "[CV]  C=0.1, degree=2, gamma=0.1, kernel=rbf, score=1.000, total=   0.0s\n",
            "[CV] C=0.1, degree=2, gamma=0.1, kernel=poly .........................\n",
            "[CV]  C=0.1, degree=2, gamma=0.1, kernel=poly, score=1.000, total=   0.0s\n",
            "[CV] C=0.1, degree=2, gamma=0.1, kernel=poly .........................\n",
            "[CV]  C=0.1, degree=2, gamma=0.1, kernel=poly, score=1.000, total=   0.0s\n",
            "[CV] C=0.1, degree=2, gamma=0.1, kernel=poly .........................\n",
            "[CV]  C=0.1, degree=2, gamma=0.1, kernel=poly, score=1.000, total=   0.0s\n",
            "[CV] C=0.1, degree=2, gamma=0.1, kernel=poly .........................\n",
            "[CV]  C=0.1, degree=2, gamma=0.1, kernel=poly, score=1.000, total=   0.0s\n",
            "[CV] C=0.1, degree=2, gamma=0.1, kernel=poly .........................\n",
            "[CV]  C=0.1, degree=2, gamma=0.1, kernel=poly, score=1.000, total=   0.0s\n",
            "[CV] C=0.1, degree=2, gamma=0.01, kernel=rbf .........................\n",
            "[CV]  C=0.1, degree=2, gamma=0.01, kernel=rbf, score=0.981, total=   0.0s\n",
            "[CV] C=0.1, degree=2, gamma=0.01, kernel=rbf .........................\n",
            "[CV]  C=0.1, degree=2, gamma=0.01, kernel=rbf, score=0.986, total=   0.0s\n",
            "[CV] C=0.1, degree=2, gamma=0.01, kernel=rbf .........................\n",
            "[CV]  C=0.1, degree=2, gamma=0.01, kernel=rbf, score=1.000, total=   0.0s\n",
            "[CV] C=0.1, degree=2, gamma=0.01, kernel=rbf .........................\n",
            "[CV]  C=0.1, degree=2, gamma=0.01, kernel=rbf, score=1.000, total=   0.0s\n",
            "[CV] C=0.1, degree=2, gamma=0.01, kernel=rbf .........................\n",
            "[CV]  C=0.1, degree=2, gamma=0.01, kernel=rbf, score=1.000, total=   0.0s\n",
            "[CV] C=0.1, degree=2, gamma=0.01, kernel=poly ........................\n",
            "[CV]  C=0.1, degree=2, gamma=0.01, kernel=poly, score=1.000, total=   0.0s\n",
            "[CV] C=0.1, degree=2, gamma=0.01, kernel=poly ........................\n",
            "[CV]  C=0.1, degree=2, gamma=0.01, kernel=poly, score=1.000, total=   0.0s\n",
            "[CV] C=0.1, degree=2, gamma=0.01, kernel=poly ........................\n",
            "[CV]  C=0.1, degree=2, gamma=0.01, kernel=poly, score=1.000, total=   0.0s\n",
            "[CV] C=0.1, degree=2, gamma=0.01, kernel=poly ........................\n",
            "[CV]  C=0.1, degree=2, gamma=0.01, kernel=poly, score=1.000, total=   0.0s\n",
            "[CV] C=0.1, degree=2, gamma=0.01, kernel=poly ........................\n",
            "[CV]  C=0.1, degree=2, gamma=0.01, kernel=poly, score=1.000, total=   0.0s\n",
            "[CV] C=0.1, degree=2, gamma=0.001, kernel=rbf ........................\n",
            "[CV]  C=0.1, degree=2, gamma=0.001, kernel=rbf, score=0.858, total=   0.0s\n",
            "[CV] C=0.1, degree=2, gamma=0.001, kernel=rbf ........................\n",
            "[CV]  C=0.1, degree=2, gamma=0.001, kernel=rbf, score=0.744, total=   0.0s\n",
            "[CV] C=0.1, degree=2, gamma=0.001, kernel=rbf ........................\n",
            "[CV]  C=0.1, degree=2, gamma=0.001, kernel=rbf, score=0.787, total=   0.0s\n",
            "[CV] C=0.1, degree=2, gamma=0.001, kernel=rbf ........................\n",
            "[CV]  C=0.1, degree=2, gamma=0.001, kernel=rbf, score=0.825, total=   0.0s\n",
            "[CV] C=0.1, degree=2, gamma=0.001, kernel=rbf ........................\n",
            "[CV]  C=0.1, degree=2, gamma=0.001, kernel=rbf, score=0.781, total=   0.0s\n",
            "[CV] C=0.1, degree=2, gamma=0.001, kernel=poly .......................\n",
            "[CV]  C=0.1, degree=2, gamma=0.001, kernel=poly, score=0.735, total=   0.0s\n",
            "[CV] C=0.1, degree=2, gamma=0.001, kernel=poly .......................\n",
            "[CV]  C=0.1, degree=2, gamma=0.001, kernel=poly, score=0.678, total=   0.0s\n",
            "[CV] C=0.1, degree=2, gamma=0.001, kernel=poly .......................\n",
            "[CV]  C=0.1, degree=2, gamma=0.001, kernel=poly, score=0.682, total=   0.0s\n",
            "[CV] C=0.1, degree=2, gamma=0.001, kernel=poly .......................\n",
            "[CV]  C=0.1, degree=2, gamma=0.001, kernel=poly, score=0.673, total=   0.0s\n",
            "[CV] C=0.1, degree=2, gamma=0.001, kernel=poly .......................\n",
            "[CV]  C=0.1, degree=2, gamma=0.001, kernel=poly, score=0.686, total=   0.0s\n",
            "[CV] C=0.1, degree=2, gamma=100, kernel=rbf ..........................\n",
            "[CV]  C=0.1, degree=2, gamma=100, kernel=rbf, score=0.739, total=   0.0s\n",
            "[CV] C=0.1, degree=2, gamma=100, kernel=rbf ..........................\n",
            "[CV]  C=0.1, degree=2, gamma=100, kernel=rbf, score=0.682, total=   0.0s\n",
            "[CV] C=0.1, degree=2, gamma=100, kernel=rbf ..........................\n"
          ],
          "name": "stdout"
        },
        {
          "output_type": "stream",
          "text": [
            "/usr/local/lib/python3.6/dist-packages/sklearn/svm/_base.py:231: ConvergenceWarning: Solver terminated early (max_iter=700).  Consider pre-processing your data with StandardScaler or MinMaxScaler.\n",
            "  % self.max_iter, ConvergenceWarning)\n",
            "/usr/local/lib/python3.6/dist-packages/sklearn/svm/_base.py:231: ConvergenceWarning: Solver terminated early (max_iter=700).  Consider pre-processing your data with StandardScaler or MinMaxScaler.\n",
            "  % self.max_iter, ConvergenceWarning)\n",
            "/usr/local/lib/python3.6/dist-packages/sklearn/svm/_base.py:231: ConvergenceWarning: Solver terminated early (max_iter=700).  Consider pre-processing your data with StandardScaler or MinMaxScaler.\n",
            "  % self.max_iter, ConvergenceWarning)\n",
            "/usr/local/lib/python3.6/dist-packages/sklearn/svm/_base.py:231: ConvergenceWarning: Solver terminated early (max_iter=700).  Consider pre-processing your data with StandardScaler or MinMaxScaler.\n",
            "  % self.max_iter, ConvergenceWarning)\n",
            "/usr/local/lib/python3.6/dist-packages/sklearn/svm/_base.py:231: ConvergenceWarning: Solver terminated early (max_iter=700).  Consider pre-processing your data with StandardScaler or MinMaxScaler.\n",
            "  % self.max_iter, ConvergenceWarning)\n",
            "/usr/local/lib/python3.6/dist-packages/sklearn/svm/_base.py:231: ConvergenceWarning: Solver terminated early (max_iter=700).  Consider pre-processing your data with StandardScaler or MinMaxScaler.\n",
            "  % self.max_iter, ConvergenceWarning)\n"
          ],
          "name": "stderr"
        },
        {
          "output_type": "stream",
          "text": [
            "[CV]  C=0.1, degree=2, gamma=100, kernel=rbf, score=0.682, total=   0.0s\n",
            "[CV] C=0.1, degree=2, gamma=100, kernel=rbf ..........................\n",
            "[CV]  C=0.1, degree=2, gamma=100, kernel=rbf, score=0.673, total=   0.0s\n",
            "[CV] C=0.1, degree=2, gamma=100, kernel=rbf ..........................\n",
            "[CV]  C=0.1, degree=2, gamma=100, kernel=rbf, score=0.695, total=   0.0s\n",
            "[CV] C=0.1, degree=2, gamma=100, kernel=poly .........................\n",
            "[CV]  C=0.1, degree=2, gamma=100, kernel=poly, score=1.000, total=   0.0s\n",
            "[CV] C=0.1, degree=2, gamma=100, kernel=poly .........................\n",
            "[CV]  C=0.1, degree=2, gamma=100, kernel=poly, score=1.000, total=   0.0s\n",
            "[CV] C=0.1, degree=2, gamma=100, kernel=poly .........................\n",
            "[CV]  C=0.1, degree=2, gamma=100, kernel=poly, score=1.000, total=   0.0s\n",
            "[CV] C=0.1, degree=2, gamma=100, kernel=poly .........................\n",
            "[CV]  C=0.1, degree=2, gamma=100, kernel=poly, score=1.000, total=   0.0s\n",
            "[CV] C=0.1, degree=2, gamma=100, kernel=poly .........................\n",
            "[CV]  C=0.1, degree=2, gamma=100, kernel=poly, score=1.000, total=   0.0s\n",
            "[CV] C=0.1, degree=3, gamma=1, kernel=rbf ............................\n",
            "[CV]  C=0.1, degree=3, gamma=1, kernel=rbf, score=0.739, total=   0.0s\n",
            "[CV] C=0.1, degree=3, gamma=1, kernel=rbf ............................\n"
          ],
          "name": "stdout"
        },
        {
          "output_type": "stream",
          "text": [
            "/usr/local/lib/python3.6/dist-packages/sklearn/svm/_base.py:231: ConvergenceWarning: Solver terminated early (max_iter=700).  Consider pre-processing your data with StandardScaler or MinMaxScaler.\n",
            "  % self.max_iter, ConvergenceWarning)\n",
            "/usr/local/lib/python3.6/dist-packages/sklearn/svm/_base.py:231: ConvergenceWarning: Solver terminated early (max_iter=700).  Consider pre-processing your data with StandardScaler or MinMaxScaler.\n",
            "  % self.max_iter, ConvergenceWarning)\n",
            "/usr/local/lib/python3.6/dist-packages/sklearn/svm/_base.py:231: ConvergenceWarning: Solver terminated early (max_iter=700).  Consider pre-processing your data with StandardScaler or MinMaxScaler.\n",
            "  % self.max_iter, ConvergenceWarning)\n",
            "/usr/local/lib/python3.6/dist-packages/sklearn/svm/_base.py:231: ConvergenceWarning: Solver terminated early (max_iter=700).  Consider pre-processing your data with StandardScaler or MinMaxScaler.\n",
            "  % self.max_iter, ConvergenceWarning)\n",
            "/usr/local/lib/python3.6/dist-packages/sklearn/svm/_base.py:231: ConvergenceWarning: Solver terminated early (max_iter=700).  Consider pre-processing your data with StandardScaler or MinMaxScaler.\n",
            "  % self.max_iter, ConvergenceWarning)\n",
            "/usr/local/lib/python3.6/dist-packages/sklearn/svm/_base.py:231: ConvergenceWarning: Solver terminated early (max_iter=700).  Consider pre-processing your data with StandardScaler or MinMaxScaler.\n",
            "  % self.max_iter, ConvergenceWarning)\n"
          ],
          "name": "stderr"
        },
        {
          "output_type": "stream",
          "text": [
            "[CV]  C=0.1, degree=3, gamma=1, kernel=rbf, score=0.682, total=   0.1s\n",
            "[CV] C=0.1, degree=3, gamma=1, kernel=rbf ............................\n",
            "[CV]  C=0.1, degree=3, gamma=1, kernel=rbf, score=0.701, total=   0.1s\n",
            "[CV] C=0.1, degree=3, gamma=1, kernel=rbf ............................\n",
            "[CV]  C=0.1, degree=3, gamma=1, kernel=rbf, score=0.697, total=   0.1s\n",
            "[CV] C=0.1, degree=3, gamma=1, kernel=rbf ............................\n",
            "[CV]  C=0.1, degree=3, gamma=1, kernel=rbf, score=0.695, total=   0.1s\n",
            "[CV] C=0.1, degree=3, gamma=1, kernel=poly ...........................\n",
            "[CV]  C=0.1, degree=3, gamma=1, kernel=poly, score=1.000, total=   0.0s\n",
            "[CV] C=0.1, degree=3, gamma=1, kernel=poly ...........................\n",
            "[CV]  C=0.1, degree=3, gamma=1, kernel=poly, score=0.991, total=   0.0s\n",
            "[CV] C=0.1, degree=3, gamma=1, kernel=poly ...........................\n",
            "[CV]  C=0.1, degree=3, gamma=1, kernel=poly, score=1.000, total=   0.0s\n",
            "[CV] C=0.1, degree=3, gamma=1, kernel=poly ...........................\n",
            "[CV]  C=0.1, degree=3, gamma=1, kernel=poly, score=1.000, total=   0.0s\n",
            "[CV] C=0.1, degree=3, gamma=1, kernel=poly ...........................\n"
          ],
          "name": "stdout"
        },
        {
          "output_type": "stream",
          "text": [
            "/usr/local/lib/python3.6/dist-packages/sklearn/svm/_base.py:231: ConvergenceWarning: Solver terminated early (max_iter=700).  Consider pre-processing your data with StandardScaler or MinMaxScaler.\n",
            "  % self.max_iter, ConvergenceWarning)\n",
            "/usr/local/lib/python3.6/dist-packages/sklearn/svm/_base.py:231: ConvergenceWarning: Solver terminated early (max_iter=700).  Consider pre-processing your data with StandardScaler or MinMaxScaler.\n",
            "  % self.max_iter, ConvergenceWarning)\n",
            "/usr/local/lib/python3.6/dist-packages/sklearn/svm/_base.py:231: ConvergenceWarning: Solver terminated early (max_iter=700).  Consider pre-processing your data with StandardScaler or MinMaxScaler.\n",
            "  % self.max_iter, ConvergenceWarning)\n"
          ],
          "name": "stderr"
        },
        {
          "output_type": "stream",
          "text": [
            "[CV]  C=0.1, degree=3, gamma=1, kernel=poly, score=1.000, total=   0.0s\n",
            "[CV] C=0.1, degree=3, gamma=0.1, kernel=rbf ..........................\n",
            "[CV]  C=0.1, degree=3, gamma=0.1, kernel=rbf, score=0.976, total=   0.0s\n",
            "[CV] C=0.1, degree=3, gamma=0.1, kernel=rbf ..........................\n",
            "[CV]  C=0.1, degree=3, gamma=0.1, kernel=rbf, score=0.976, total=   0.0s\n",
            "[CV] C=0.1, degree=3, gamma=0.1, kernel=rbf ..........................\n",
            "[CV]  C=0.1, degree=3, gamma=0.1, kernel=rbf, score=0.995, total=   0.0s\n",
            "[CV] C=0.1, degree=3, gamma=0.1, kernel=rbf ..........................\n",
            "[CV]  C=0.1, degree=3, gamma=0.1, kernel=rbf, score=0.995, total=   0.0s\n",
            "[CV] C=0.1, degree=3, gamma=0.1, kernel=rbf ..........................\n",
            "[CV]  C=0.1, degree=3, gamma=0.1, kernel=rbf, score=1.000, total=   0.0s\n",
            "[CV] C=0.1, degree=3, gamma=0.1, kernel=poly .........................\n",
            "[CV]  C=0.1, degree=3, gamma=0.1, kernel=poly, score=1.000, total=   0.0s\n",
            "[CV] C=0.1, degree=3, gamma=0.1, kernel=poly .........................\n",
            "[CV]  C=0.1, degree=3, gamma=0.1, kernel=poly, score=0.991, total=   0.0s\n",
            "[CV] C=0.1, degree=3, gamma=0.1, kernel=poly .........................\n",
            "[CV]  C=0.1, degree=3, gamma=0.1, kernel=poly, score=1.000, total=   0.0s\n",
            "[CV] C=0.1, degree=3, gamma=0.1, kernel=poly .........................\n",
            "[CV]  C=0.1, degree=3, gamma=0.1, kernel=poly, score=1.000, total=   0.0s\n",
            "[CV] C=0.1, degree=3, gamma=0.1, kernel=poly .........................\n",
            "[CV]  C=0.1, degree=3, gamma=0.1, kernel=poly, score=1.000, total=   0.0s\n",
            "[CV] C=0.1, degree=3, gamma=0.01, kernel=rbf .........................\n",
            "[CV]  C=0.1, degree=3, gamma=0.01, kernel=rbf, score=0.981, total=   0.0s\n",
            "[CV] C=0.1, degree=3, gamma=0.01, kernel=rbf .........................\n",
            "[CV]  C=0.1, degree=3, gamma=0.01, kernel=rbf, score=0.986, total=   0.0s\n",
            "[CV] C=0.1, degree=3, gamma=0.01, kernel=rbf .........................\n"
          ],
          "name": "stdout"
        },
        {
          "output_type": "stream",
          "text": [
            "/usr/local/lib/python3.6/dist-packages/sklearn/svm/_base.py:231: ConvergenceWarning: Solver terminated early (max_iter=700).  Consider pre-processing your data with StandardScaler or MinMaxScaler.\n",
            "  % self.max_iter, ConvergenceWarning)\n"
          ],
          "name": "stderr"
        },
        {
          "output_type": "stream",
          "text": [
            "[CV]  C=0.1, degree=3, gamma=0.01, kernel=rbf, score=1.000, total=   0.0s\n",
            "[CV] C=0.1, degree=3, gamma=0.01, kernel=rbf .........................\n",
            "[CV]  C=0.1, degree=3, gamma=0.01, kernel=rbf, score=1.000, total=   0.0s\n",
            "[CV] C=0.1, degree=3, gamma=0.01, kernel=rbf .........................\n",
            "[CV]  C=0.1, degree=3, gamma=0.01, kernel=rbf, score=1.000, total=   0.0s\n",
            "[CV] C=0.1, degree=3, gamma=0.01, kernel=poly ........................\n",
            "[CV]  C=0.1, degree=3, gamma=0.01, kernel=poly, score=0.986, total=   0.0s\n",
            "[CV] C=0.1, degree=3, gamma=0.01, kernel=poly ........................\n",
            "[CV]  C=0.1, degree=3, gamma=0.01, kernel=poly, score=0.995, total=   0.0s\n",
            "[CV] C=0.1, degree=3, gamma=0.01, kernel=poly ........................\n",
            "[CV]  C=0.1, degree=3, gamma=0.01, kernel=poly, score=0.995, total=   0.0s\n",
            "[CV] C=0.1, degree=3, gamma=0.01, kernel=poly ........................\n",
            "[CV]  C=0.1, degree=3, gamma=0.01, kernel=poly, score=0.981, total=   0.0s\n",
            "[CV] C=0.1, degree=3, gamma=0.01, kernel=poly ........................\n",
            "[CV]  C=0.1, degree=3, gamma=0.01, kernel=poly, score=0.967, total=   0.0s\n",
            "[CV] C=0.1, degree=3, gamma=0.001, kernel=rbf ........................\n",
            "[CV]  C=0.1, degree=3, gamma=0.001, kernel=rbf, score=0.858, total=   0.0s\n",
            "[CV] C=0.1, degree=3, gamma=0.001, kernel=rbf ........................\n",
            "[CV]  C=0.1, degree=3, gamma=0.001, kernel=rbf, score=0.744, total=   0.0s\n",
            "[CV] C=0.1, degree=3, gamma=0.001, kernel=rbf ........................\n",
            "[CV]  C=0.1, degree=3, gamma=0.001, kernel=rbf, score=0.787, total=   0.0s\n",
            "[CV] C=0.1, degree=3, gamma=0.001, kernel=rbf ........................\n",
            "[CV]  C=0.1, degree=3, gamma=0.001, kernel=rbf, score=0.825, total=   0.0s\n",
            "[CV] C=0.1, degree=3, gamma=0.001, kernel=rbf ........................\n",
            "[CV]  C=0.1, degree=3, gamma=0.001, kernel=rbf, score=0.781, total=   0.0s\n",
            "[CV] C=0.1, degree=3, gamma=0.001, kernel=poly .......................\n",
            "[CV]  C=0.1, degree=3, gamma=0.001, kernel=poly, score=0.735, total=   0.0s\n",
            "[CV] C=0.1, degree=3, gamma=0.001, kernel=poly .......................\n",
            "[CV]  C=0.1, degree=3, gamma=0.001, kernel=poly, score=0.678, total=   0.0s\n",
            "[CV] C=0.1, degree=3, gamma=0.001, kernel=poly .......................\n",
            "[CV]  C=0.1, degree=3, gamma=0.001, kernel=poly, score=0.682, total=   0.0s\n",
            "[CV] C=0.1, degree=3, gamma=0.001, kernel=poly .......................\n",
            "[CV]  C=0.1, degree=3, gamma=0.001, kernel=poly, score=0.673, total=   0.0s\n",
            "[CV] C=0.1, degree=3, gamma=0.001, kernel=poly .......................\n",
            "[CV]  C=0.1, degree=3, gamma=0.001, kernel=poly, score=0.686, total=   0.0s\n",
            "[CV] C=0.1, degree=3, gamma=100, kernel=rbf ..........................\n",
            "[CV]  C=0.1, degree=3, gamma=100, kernel=rbf, score=0.739, total=   0.0s\n",
            "[CV] C=0.1, degree=3, gamma=100, kernel=rbf ..........................\n",
            "[CV]  C=0.1, degree=3, gamma=100, kernel=rbf, score=0.682, total=   0.0s\n",
            "[CV] C=0.1, degree=3, gamma=100, kernel=rbf ..........................\n"
          ],
          "name": "stdout"
        },
        {
          "output_type": "stream",
          "text": [
            "/usr/local/lib/python3.6/dist-packages/sklearn/svm/_base.py:231: ConvergenceWarning: Solver terminated early (max_iter=700).  Consider pre-processing your data with StandardScaler or MinMaxScaler.\n",
            "  % self.max_iter, ConvergenceWarning)\n",
            "/usr/local/lib/python3.6/dist-packages/sklearn/svm/_base.py:231: ConvergenceWarning: Solver terminated early (max_iter=700).  Consider pre-processing your data with StandardScaler or MinMaxScaler.\n",
            "  % self.max_iter, ConvergenceWarning)\n",
            "/usr/local/lib/python3.6/dist-packages/sklearn/svm/_base.py:231: ConvergenceWarning: Solver terminated early (max_iter=700).  Consider pre-processing your data with StandardScaler or MinMaxScaler.\n",
            "  % self.max_iter, ConvergenceWarning)\n",
            "/usr/local/lib/python3.6/dist-packages/sklearn/svm/_base.py:231: ConvergenceWarning: Solver terminated early (max_iter=700).  Consider pre-processing your data with StandardScaler or MinMaxScaler.\n",
            "  % self.max_iter, ConvergenceWarning)\n",
            "/usr/local/lib/python3.6/dist-packages/sklearn/svm/_base.py:231: ConvergenceWarning: Solver terminated early (max_iter=700).  Consider pre-processing your data with StandardScaler or MinMaxScaler.\n",
            "  % self.max_iter, ConvergenceWarning)\n",
            "/usr/local/lib/python3.6/dist-packages/sklearn/svm/_base.py:231: ConvergenceWarning: Solver terminated early (max_iter=700).  Consider pre-processing your data with StandardScaler or MinMaxScaler.\n",
            "  % self.max_iter, ConvergenceWarning)\n"
          ],
          "name": "stderr"
        },
        {
          "output_type": "stream",
          "text": [
            "[CV]  C=0.1, degree=3, gamma=100, kernel=rbf, score=0.682, total=   0.0s\n",
            "[CV] C=0.1, degree=3, gamma=100, kernel=rbf ..........................\n",
            "[CV]  C=0.1, degree=3, gamma=100, kernel=rbf, score=0.673, total=   0.0s\n",
            "[CV] C=0.1, degree=3, gamma=100, kernel=rbf ..........................\n",
            "[CV]  C=0.1, degree=3, gamma=100, kernel=rbf, score=0.695, total=   0.0s\n",
            "[CV] C=0.1, degree=3, gamma=100, kernel=poly .........................\n",
            "[CV]  C=0.1, degree=3, gamma=100, kernel=poly, score=1.000, total=   0.0s\n",
            "[CV] C=0.1, degree=3, gamma=100, kernel=poly .........................\n",
            "[CV]  C=0.1, degree=3, gamma=100, kernel=poly, score=0.991, total=   0.0s\n",
            "[CV] C=0.1, degree=3, gamma=100, kernel=poly .........................\n",
            "[CV]  C=0.1, degree=3, gamma=100, kernel=poly, score=1.000, total=   0.0s\n",
            "[CV] C=0.1, degree=3, gamma=100, kernel=poly .........................\n",
            "[CV]  C=0.1, degree=3, gamma=100, kernel=poly, score=1.000, total=   0.0s\n",
            "[CV] C=0.1, degree=3, gamma=100, kernel=poly .........................\n",
            "[CV]  C=0.1, degree=3, gamma=100, kernel=poly, score=1.000, total=   0.0s\n",
            "[CV] C=0.1, degree=4, gamma=1, kernel=rbf ............................\n",
            "[CV]  C=0.1, degree=4, gamma=1, kernel=rbf, score=0.739, total=   0.1s\n",
            "[CV] C=0.1, degree=4, gamma=1, kernel=rbf ............................\n"
          ],
          "name": "stdout"
        },
        {
          "output_type": "stream",
          "text": [
            "/usr/local/lib/python3.6/dist-packages/sklearn/svm/_base.py:231: ConvergenceWarning: Solver terminated early (max_iter=700).  Consider pre-processing your data with StandardScaler or MinMaxScaler.\n",
            "  % self.max_iter, ConvergenceWarning)\n",
            "/usr/local/lib/python3.6/dist-packages/sklearn/svm/_base.py:231: ConvergenceWarning: Solver terminated early (max_iter=700).  Consider pre-processing your data with StandardScaler or MinMaxScaler.\n",
            "  % self.max_iter, ConvergenceWarning)\n",
            "/usr/local/lib/python3.6/dist-packages/sklearn/svm/_base.py:231: ConvergenceWarning: Solver terminated early (max_iter=700).  Consider pre-processing your data with StandardScaler or MinMaxScaler.\n",
            "  % self.max_iter, ConvergenceWarning)\n",
            "/usr/local/lib/python3.6/dist-packages/sklearn/svm/_base.py:231: ConvergenceWarning: Solver terminated early (max_iter=700).  Consider pre-processing your data with StandardScaler or MinMaxScaler.\n",
            "  % self.max_iter, ConvergenceWarning)\n"
          ],
          "name": "stderr"
        },
        {
          "output_type": "stream",
          "text": [
            "[CV]  C=0.1, degree=4, gamma=1, kernel=rbf, score=0.682, total=   0.1s\n",
            "[CV] C=0.1, degree=4, gamma=1, kernel=rbf ............................\n",
            "[CV]  C=0.1, degree=4, gamma=1, kernel=rbf, score=0.701, total=   0.1s\n",
            "[CV] C=0.1, degree=4, gamma=1, kernel=rbf ............................\n",
            "[CV]  C=0.1, degree=4, gamma=1, kernel=rbf, score=0.697, total=   0.1s\n",
            "[CV] C=0.1, degree=4, gamma=1, kernel=rbf ............................\n",
            "[CV]  C=0.1, degree=4, gamma=1, kernel=rbf, score=0.695, total=   0.1s\n",
            "[CV] C=0.1, degree=4, gamma=1, kernel=poly ...........................\n",
            "[CV]  C=0.1, degree=4, gamma=1, kernel=poly, score=1.000, total=   0.0s\n",
            "[CV] C=0.1, degree=4, gamma=1, kernel=poly ...........................\n",
            "[CV]  C=0.1, degree=4, gamma=1, kernel=poly, score=0.991, total=   0.0s\n",
            "[CV] C=0.1, degree=4, gamma=1, kernel=poly ...........................\n",
            "[CV]  C=0.1, degree=4, gamma=1, kernel=poly, score=1.000, total=   0.0s\n",
            "[CV] C=0.1, degree=4, gamma=1, kernel=poly ...........................\n",
            "[CV]  C=0.1, degree=4, gamma=1, kernel=poly, score=1.000, total=   0.0s\n",
            "[CV] C=0.1, degree=4, gamma=1, kernel=poly ...........................\n",
            "[CV]  C=0.1, degree=4, gamma=1, kernel=poly, score=1.000, total=   0.0s\n",
            "[CV] C=0.1, degree=4, gamma=0.1, kernel=rbf ..........................\n"
          ],
          "name": "stdout"
        },
        {
          "output_type": "stream",
          "text": [
            "/usr/local/lib/python3.6/dist-packages/sklearn/svm/_base.py:231: ConvergenceWarning: Solver terminated early (max_iter=700).  Consider pre-processing your data with StandardScaler or MinMaxScaler.\n",
            "  % self.max_iter, ConvergenceWarning)\n",
            "/usr/local/lib/python3.6/dist-packages/sklearn/svm/_base.py:231: ConvergenceWarning: Solver terminated early (max_iter=700).  Consider pre-processing your data with StandardScaler or MinMaxScaler.\n",
            "  % self.max_iter, ConvergenceWarning)\n"
          ],
          "name": "stderr"
        },
        {
          "output_type": "stream",
          "text": [
            "[CV]  C=0.1, degree=4, gamma=0.1, kernel=rbf, score=0.976, total=   0.0s\n",
            "[CV] C=0.1, degree=4, gamma=0.1, kernel=rbf ..........................\n",
            "[CV]  C=0.1, degree=4, gamma=0.1, kernel=rbf, score=0.976, total=   0.0s\n",
            "[CV] C=0.1, degree=4, gamma=0.1, kernel=rbf ..........................\n",
            "[CV]  C=0.1, degree=4, gamma=0.1, kernel=rbf, score=0.995, total=   0.0s\n",
            "[CV] C=0.1, degree=4, gamma=0.1, kernel=rbf ..........................\n",
            "[CV]  C=0.1, degree=4, gamma=0.1, kernel=rbf, score=0.995, total=   0.0s\n",
            "[CV] C=0.1, degree=4, gamma=0.1, kernel=rbf ..........................\n",
            "[CV]  C=0.1, degree=4, gamma=0.1, kernel=rbf, score=1.000, total=   0.0s\n",
            "[CV] C=0.1, degree=4, gamma=0.1, kernel=poly .........................\n",
            "[CV]  C=0.1, degree=4, gamma=0.1, kernel=poly, score=1.000, total=   0.0s\n",
            "[CV] C=0.1, degree=4, gamma=0.1, kernel=poly .........................\n",
            "[CV]  C=0.1, degree=4, gamma=0.1, kernel=poly, score=0.991, total=   0.0s\n",
            "[CV] C=0.1, degree=4, gamma=0.1, kernel=poly .........................\n",
            "[CV]  C=0.1, degree=4, gamma=0.1, kernel=poly, score=1.000, total=   0.0s\n",
            "[CV] C=0.1, degree=4, gamma=0.1, kernel=poly .........................\n",
            "[CV]  C=0.1, degree=4, gamma=0.1, kernel=poly, score=1.000, total=   0.0s\n",
            "[CV] C=0.1, degree=4, gamma=0.1, kernel=poly .........................\n",
            "[CV]  C=0.1, degree=4, gamma=0.1, kernel=poly, score=1.000, total=   0.0s\n",
            "[CV] C=0.1, degree=4, gamma=0.01, kernel=rbf .........................\n",
            "[CV]  C=0.1, degree=4, gamma=0.01, kernel=rbf, score=0.981, total=   0.0s\n",
            "[CV] C=0.1, degree=4, gamma=0.01, kernel=rbf .........................\n",
            "[CV]  C=0.1, degree=4, gamma=0.01, kernel=rbf, score=0.986, total=   0.0s\n",
            "[CV] C=0.1, degree=4, gamma=0.01, kernel=rbf .........................\n",
            "[CV]  C=0.1, degree=4, gamma=0.01, kernel=rbf, score=1.000, total=   0.0s\n",
            "[CV] C=0.1, degree=4, gamma=0.01, kernel=rbf .........................\n",
            "[CV]  C=0.1, degree=4, gamma=0.01, kernel=rbf, score=1.000, total=   0.0s\n",
            "[CV] C=0.1, degree=4, gamma=0.01, kernel=rbf .........................\n",
            "[CV]  C=0.1, degree=4, gamma=0.01, kernel=rbf, score=1.000, total=   0.0s\n",
            "[CV] C=0.1, degree=4, gamma=0.01, kernel=poly ........................\n",
            "[CV]  C=0.1, degree=4, gamma=0.01, kernel=poly, score=0.957, total=   0.0s\n",
            "[CV] C=0.1, degree=4, gamma=0.01, kernel=poly ........................\n",
            "[CV]  C=0.1, degree=4, gamma=0.01, kernel=poly, score=0.981, total=   0.0s\n",
            "[CV] C=0.1, degree=4, gamma=0.01, kernel=poly ........................\n",
            "[CV]  C=0.1, degree=4, gamma=0.01, kernel=poly, score=0.991, total=   0.0s\n",
            "[CV] C=0.1, degree=4, gamma=0.01, kernel=poly ........................\n",
            "[CV]  C=0.1, degree=4, gamma=0.01, kernel=poly, score=0.962, total=   0.0s\n",
            "[CV] C=0.1, degree=4, gamma=0.01, kernel=poly ........................\n",
            "[CV]  C=0.1, degree=4, gamma=0.01, kernel=poly, score=0.967, total=   0.0s\n",
            "[CV] C=0.1, degree=4, gamma=0.001, kernel=rbf ........................\n",
            "[CV]  C=0.1, degree=4, gamma=0.001, kernel=rbf, score=0.858, total=   0.0s\n",
            "[CV] C=0.1, degree=4, gamma=0.001, kernel=rbf ........................\n",
            "[CV]  C=0.1, degree=4, gamma=0.001, kernel=rbf, score=0.744, total=   0.0s\n",
            "[CV] C=0.1, degree=4, gamma=0.001, kernel=rbf ........................\n",
            "[CV]  C=0.1, degree=4, gamma=0.001, kernel=rbf, score=0.787, total=   0.0s\n",
            "[CV] C=0.1, degree=4, gamma=0.001, kernel=rbf ........................\n",
            "[CV]  C=0.1, degree=4, gamma=0.001, kernel=rbf, score=0.825, total=   0.0s\n",
            "[CV] C=0.1, degree=4, gamma=0.001, kernel=rbf ........................\n",
            "[CV]  C=0.1, degree=4, gamma=0.001, kernel=rbf, score=0.781, total=   0.0s\n",
            "[CV] C=0.1, degree=4, gamma=0.001, kernel=poly .......................\n",
            "[CV]  C=0.1, degree=4, gamma=0.001, kernel=poly, score=0.735, total=   0.0s\n",
            "[CV] C=0.1, degree=4, gamma=0.001, kernel=poly .......................\n",
            "[CV]  C=0.1, degree=4, gamma=0.001, kernel=poly, score=0.678, total=   0.0s\n",
            "[CV] C=0.1, degree=4, gamma=0.001, kernel=poly .......................\n",
            "[CV]  C=0.1, degree=4, gamma=0.001, kernel=poly, score=0.682, total=   0.0s\n",
            "[CV] C=0.1, degree=4, gamma=0.001, kernel=poly .......................\n",
            "[CV]  C=0.1, degree=4, gamma=0.001, kernel=poly, score=0.673, total=   0.0s\n",
            "[CV] C=0.1, degree=4, gamma=0.001, kernel=poly .......................\n",
            "[CV]  C=0.1, degree=4, gamma=0.001, kernel=poly, score=0.686, total=   0.0s\n",
            "[CV] C=0.1, degree=4, gamma=100, kernel=rbf ..........................\n",
            "[CV]  C=0.1, degree=4, gamma=100, kernel=rbf, score=0.739, total=   0.0s\n",
            "[CV] C=0.1, degree=4, gamma=100, kernel=rbf ..........................\n",
            "[CV]  C=0.1, degree=4, gamma=100, kernel=rbf, score=0.682, total=   0.0s\n",
            "[CV] C=0.1, degree=4, gamma=100, kernel=rbf ..........................\n",
            "[CV]  C=0.1, degree=4, gamma=100, kernel=rbf, score=0.682, total=   0.0s\n",
            "[CV] C=0.1, degree=4, gamma=100, kernel=rbf ..........................\n"
          ],
          "name": "stdout"
        },
        {
          "output_type": "stream",
          "text": [
            "/usr/local/lib/python3.6/dist-packages/sklearn/svm/_base.py:231: ConvergenceWarning: Solver terminated early (max_iter=700).  Consider pre-processing your data with StandardScaler or MinMaxScaler.\n",
            "  % self.max_iter, ConvergenceWarning)\n",
            "/usr/local/lib/python3.6/dist-packages/sklearn/svm/_base.py:231: ConvergenceWarning: Solver terminated early (max_iter=700).  Consider pre-processing your data with StandardScaler or MinMaxScaler.\n",
            "  % self.max_iter, ConvergenceWarning)\n",
            "/usr/local/lib/python3.6/dist-packages/sklearn/svm/_base.py:231: ConvergenceWarning: Solver terminated early (max_iter=700).  Consider pre-processing your data with StandardScaler or MinMaxScaler.\n",
            "  % self.max_iter, ConvergenceWarning)\n",
            "/usr/local/lib/python3.6/dist-packages/sklearn/svm/_base.py:231: ConvergenceWarning: Solver terminated early (max_iter=700).  Consider pre-processing your data with StandardScaler or MinMaxScaler.\n",
            "  % self.max_iter, ConvergenceWarning)\n",
            "/usr/local/lib/python3.6/dist-packages/sklearn/svm/_base.py:231: ConvergenceWarning: Solver terminated early (max_iter=700).  Consider pre-processing your data with StandardScaler or MinMaxScaler.\n",
            "  % self.max_iter, ConvergenceWarning)\n"
          ],
          "name": "stderr"
        },
        {
          "output_type": "stream",
          "text": [
            "[CV]  C=0.1, degree=4, gamma=100, kernel=rbf, score=0.673, total=   0.0s\n",
            "[CV] C=0.1, degree=4, gamma=100, kernel=rbf ..........................\n",
            "[CV]  C=0.1, degree=4, gamma=100, kernel=rbf, score=0.695, total=   0.0s\n",
            "[CV] C=0.1, degree=4, gamma=100, kernel=poly .........................\n",
            "[CV]  C=0.1, degree=4, gamma=100, kernel=poly, score=1.000, total=   0.0s\n",
            "[CV] C=0.1, degree=4, gamma=100, kernel=poly .........................\n",
            "[CV]  C=0.1, degree=4, gamma=100, kernel=poly, score=0.991, total=   0.0s\n",
            "[CV] C=0.1, degree=4, gamma=100, kernel=poly .........................\n",
            "[CV]  C=0.1, degree=4, gamma=100, kernel=poly, score=1.000, total=   0.0s\n",
            "[CV] C=0.1, degree=4, gamma=100, kernel=poly .........................\n",
            "[CV]  C=0.1, degree=4, gamma=100, kernel=poly, score=1.000, total=   0.0s\n",
            "[CV] C=0.1, degree=4, gamma=100, kernel=poly .........................\n",
            "[CV]  C=0.1, degree=4, gamma=100, kernel=poly, score=1.000, total=   0.0s\n",
            "[CV] C=1, degree=2, gamma=1, kernel=rbf ..............................\n",
            "[CV] .. C=1, degree=2, gamma=1, kernel=rbf, score=0.886, total=   0.0s\n",
            "[CV] C=1, degree=2, gamma=1, kernel=rbf ..............................\n",
            "[CV] .. C=1, degree=2, gamma=1, kernel=rbf, score=0.867, total=   0.0s\n",
            "[CV] C=1, degree=2, gamma=1, kernel=rbf ..............................\n",
            "[CV] .. C=1, degree=2, gamma=1, kernel=rbf, score=0.896, total=   0.1s\n",
            "[CV] C=1, degree=2, gamma=1, kernel=rbf ..............................\n"
          ],
          "name": "stdout"
        },
        {
          "output_type": "stream",
          "text": [
            "/usr/local/lib/python3.6/dist-packages/sklearn/svm/_base.py:231: ConvergenceWarning: Solver terminated early (max_iter=700).  Consider pre-processing your data with StandardScaler or MinMaxScaler.\n",
            "  % self.max_iter, ConvergenceWarning)\n",
            "/usr/local/lib/python3.6/dist-packages/sklearn/svm/_base.py:231: ConvergenceWarning: Solver terminated early (max_iter=700).  Consider pre-processing your data with StandardScaler or MinMaxScaler.\n",
            "  % self.max_iter, ConvergenceWarning)\n",
            "/usr/local/lib/python3.6/dist-packages/sklearn/svm/_base.py:231: ConvergenceWarning: Solver terminated early (max_iter=700).  Consider pre-processing your data with StandardScaler or MinMaxScaler.\n",
            "  % self.max_iter, ConvergenceWarning)\n",
            "/usr/local/lib/python3.6/dist-packages/sklearn/svm/_base.py:231: ConvergenceWarning: Solver terminated early (max_iter=700).  Consider pre-processing your data with StandardScaler or MinMaxScaler.\n",
            "  % self.max_iter, ConvergenceWarning)\n"
          ],
          "name": "stderr"
        },
        {
          "output_type": "stream",
          "text": [
            "[CV] .. C=1, degree=2, gamma=1, kernel=rbf, score=0.872, total=   0.1s\n",
            "[CV] C=1, degree=2, gamma=1, kernel=rbf ..............................\n",
            "[CV] .. C=1, degree=2, gamma=1, kernel=rbf, score=0.886, total=   0.1s\n",
            "[CV] C=1, degree=2, gamma=1, kernel=poly .............................\n",
            "[CV] . C=1, degree=2, gamma=1, kernel=poly, score=1.000, total=   0.0s\n",
            "[CV] C=1, degree=2, gamma=1, kernel=poly .............................\n",
            "[CV] . C=1, degree=2, gamma=1, kernel=poly, score=1.000, total=   0.0s\n",
            "[CV] C=1, degree=2, gamma=1, kernel=poly .............................\n",
            "[CV] . C=1, degree=2, gamma=1, kernel=poly, score=1.000, total=   0.0s\n",
            "[CV] C=1, degree=2, gamma=1, kernel=poly .............................\n",
            "[CV] . C=1, degree=2, gamma=1, kernel=poly, score=1.000, total=   0.0s\n",
            "[CV] C=1, degree=2, gamma=1, kernel=poly .............................\n",
            "[CV] . C=1, degree=2, gamma=1, kernel=poly, score=1.000, total=   0.0s\n",
            "[CV] C=1, degree=2, gamma=0.1, kernel=rbf ............................\n",
            "[CV]  C=1, degree=2, gamma=0.1, kernel=rbf, score=0.991, total=   0.0s\n",
            "[CV] C=1, degree=2, gamma=0.1, kernel=rbf ............................\n",
            "[CV]  C=1, degree=2, gamma=0.1, kernel=rbf, score=1.000, total=   0.0s\n",
            "[CV] C=1, degree=2, gamma=0.1, kernel=rbf ............................\n",
            "[CV]  C=1, degree=2, gamma=0.1, kernel=rbf, score=1.000, total=   0.0s\n",
            "[CV] C=1, degree=2, gamma=0.1, kernel=rbf ............................\n",
            "[CV]  C=1, degree=2, gamma=0.1, kernel=rbf, score=1.000, total=   0.0s\n",
            "[CV] C=1, degree=2, gamma=0.1, kernel=rbf ............................\n",
            "[CV]  C=1, degree=2, gamma=0.1, kernel=rbf, score=1.000, total=   0.0s\n",
            "[CV] C=1, degree=2, gamma=0.1, kernel=poly ...........................\n",
            "[CV]  C=1, degree=2, gamma=0.1, kernel=poly, score=1.000, total=   0.0s\n",
            "[CV] C=1, degree=2, gamma=0.1, kernel=poly ...........................\n",
            "[CV]  C=1, degree=2, gamma=0.1, kernel=poly, score=1.000, total=   0.0s\n",
            "[CV] C=1, degree=2, gamma=0.1, kernel=poly ...........................\n"
          ],
          "name": "stdout"
        },
        {
          "output_type": "stream",
          "text": [
            "/usr/local/lib/python3.6/dist-packages/sklearn/svm/_base.py:231: ConvergenceWarning: Solver terminated early (max_iter=700).  Consider pre-processing your data with StandardScaler or MinMaxScaler.\n",
            "  % self.max_iter, ConvergenceWarning)\n",
            "/usr/local/lib/python3.6/dist-packages/sklearn/svm/_base.py:231: ConvergenceWarning: Solver terminated early (max_iter=700).  Consider pre-processing your data with StandardScaler or MinMaxScaler.\n",
            "  % self.max_iter, ConvergenceWarning)\n",
            "/usr/local/lib/python3.6/dist-packages/sklearn/svm/_base.py:231: ConvergenceWarning: Solver terminated early (max_iter=700).  Consider pre-processing your data with StandardScaler or MinMaxScaler.\n",
            "  % self.max_iter, ConvergenceWarning)\n",
            "/usr/local/lib/python3.6/dist-packages/sklearn/svm/_base.py:231: ConvergenceWarning: Solver terminated early (max_iter=700).  Consider pre-processing your data with StandardScaler or MinMaxScaler.\n",
            "  % self.max_iter, ConvergenceWarning)\n",
            "/usr/local/lib/python3.6/dist-packages/sklearn/svm/_base.py:231: ConvergenceWarning: Solver terminated early (max_iter=700).  Consider pre-processing your data with StandardScaler or MinMaxScaler.\n",
            "  % self.max_iter, ConvergenceWarning)\n",
            "/usr/local/lib/python3.6/dist-packages/sklearn/svm/_base.py:231: ConvergenceWarning: Solver terminated early (max_iter=700).  Consider pre-processing your data with StandardScaler or MinMaxScaler.\n",
            "  % self.max_iter, ConvergenceWarning)\n",
            "/usr/local/lib/python3.6/dist-packages/sklearn/svm/_base.py:231: ConvergenceWarning: Solver terminated early (max_iter=700).  Consider pre-processing your data with StandardScaler or MinMaxScaler.\n",
            "  % self.max_iter, ConvergenceWarning)\n",
            "/usr/local/lib/python3.6/dist-packages/sklearn/svm/_base.py:231: ConvergenceWarning: Solver terminated early (max_iter=700).  Consider pre-processing your data with StandardScaler or MinMaxScaler.\n",
            "  % self.max_iter, ConvergenceWarning)\n",
            "/usr/local/lib/python3.6/dist-packages/sklearn/svm/_base.py:231: ConvergenceWarning: Solver terminated early (max_iter=700).  Consider pre-processing your data with StandardScaler or MinMaxScaler.\n",
            "  % self.max_iter, ConvergenceWarning)\n"
          ],
          "name": "stderr"
        },
        {
          "output_type": "stream",
          "text": [
            "[CV]  C=1, degree=2, gamma=0.1, kernel=poly, score=1.000, total=   0.0s\n",
            "[CV] C=1, degree=2, gamma=0.1, kernel=poly ...........................\n",
            "[CV]  C=1, degree=2, gamma=0.1, kernel=poly, score=1.000, total=   0.0s\n",
            "[CV] C=1, degree=2, gamma=0.1, kernel=poly ...........................\n",
            "[CV]  C=1, degree=2, gamma=0.1, kernel=poly, score=1.000, total=   0.0s\n",
            "[CV] C=1, degree=2, gamma=0.01, kernel=rbf ...........................\n",
            "[CV]  C=1, degree=2, gamma=0.01, kernel=rbf, score=0.991, total=   0.0s\n",
            "[CV] C=1, degree=2, gamma=0.01, kernel=rbf ...........................\n",
            "[CV]  C=1, degree=2, gamma=0.01, kernel=rbf, score=0.991, total=   0.0s\n",
            "[CV] C=1, degree=2, gamma=0.01, kernel=rbf ...........................\n",
            "[CV]  C=1, degree=2, gamma=0.01, kernel=rbf, score=1.000, total=   0.0s\n",
            "[CV] C=1, degree=2, gamma=0.01, kernel=rbf ...........................\n",
            "[CV]  C=1, degree=2, gamma=0.01, kernel=rbf, score=1.000, total=   0.0s\n",
            "[CV] C=1, degree=2, gamma=0.01, kernel=rbf ...........................\n",
            "[CV]  C=1, degree=2, gamma=0.01, kernel=rbf, score=1.000, total=   0.0s\n",
            "[CV] C=1, degree=2, gamma=0.01, kernel=poly ..........................\n",
            "[CV]  C=1, degree=2, gamma=0.01, kernel=poly, score=1.000, total=   0.0s\n",
            "[CV] C=1, degree=2, gamma=0.01, kernel=poly ..........................\n",
            "[CV]  C=1, degree=2, gamma=0.01, kernel=poly, score=1.000, total=   0.0s\n",
            "[CV] C=1, degree=2, gamma=0.01, kernel=poly ..........................\n",
            "[CV]  C=1, degree=2, gamma=0.01, kernel=poly, score=1.000, total=   0.0s\n",
            "[CV] C=1, degree=2, gamma=0.01, kernel=poly ..........................\n",
            "[CV]  C=1, degree=2, gamma=0.01, kernel=poly, score=1.000, total=   0.0s\n",
            "[CV] C=1, degree=2, gamma=0.01, kernel=poly ..........................\n",
            "[CV]  C=1, degree=2, gamma=0.01, kernel=poly, score=1.000, total=   0.0s\n",
            "[CV] C=1, degree=2, gamma=0.001, kernel=rbf ..........................\n",
            "[CV]  C=1, degree=2, gamma=0.001, kernel=rbf, score=0.986, total=   0.0s\n",
            "[CV] C=1, degree=2, gamma=0.001, kernel=rbf ..........................\n",
            "[CV]  C=1, degree=2, gamma=0.001, kernel=rbf, score=0.991, total=   0.0s\n",
            "[CV] C=1, degree=2, gamma=0.001, kernel=rbf ..........................\n",
            "[CV]  C=1, degree=2, gamma=0.001, kernel=rbf, score=1.000, total=   0.0s\n",
            "[CV] C=1, degree=2, gamma=0.001, kernel=rbf ..........................\n",
            "[CV]  C=1, degree=2, gamma=0.001, kernel=rbf, score=1.000, total=   0.0s\n",
            "[CV] C=1, degree=2, gamma=0.001, kernel=rbf ..........................\n",
            "[CV]  C=1, degree=2, gamma=0.001, kernel=rbf, score=1.000, total=   0.0s\n",
            "[CV] C=1, degree=2, gamma=0.001, kernel=poly .........................\n",
            "[CV]  C=1, degree=2, gamma=0.001, kernel=poly, score=0.791, total=   0.0s\n",
            "[CV] C=1, degree=2, gamma=0.001, kernel=poly .........................\n",
            "[CV]  C=1, degree=2, gamma=0.001, kernel=poly, score=0.678, total=   0.0s\n",
            "[CV] C=1, degree=2, gamma=0.001, kernel=poly .........................\n",
            "[CV]  C=1, degree=2, gamma=0.001, kernel=poly, score=0.682, total=   0.0s\n",
            "[CV] C=1, degree=2, gamma=0.001, kernel=poly .........................\n",
            "[CV]  C=1, degree=2, gamma=0.001, kernel=poly, score=0.673, total=   0.0s\n",
            "[CV] C=1, degree=2, gamma=0.001, kernel=poly .........................\n",
            "[CV]  C=1, degree=2, gamma=0.001, kernel=poly, score=0.695, total=   0.0s\n",
            "[CV] C=1, degree=2, gamma=100, kernel=rbf ............................\n",
            "[CV]  C=1, degree=2, gamma=100, kernel=rbf, score=0.801, total=   0.0s\n",
            "[CV] C=1, degree=2, gamma=100, kernel=rbf ............................\n"
          ],
          "name": "stdout"
        },
        {
          "output_type": "stream",
          "text": [
            "/usr/local/lib/python3.6/dist-packages/sklearn/svm/_base.py:231: ConvergenceWarning: Solver terminated early (max_iter=700).  Consider pre-processing your data with StandardScaler or MinMaxScaler.\n",
            "  % self.max_iter, ConvergenceWarning)\n",
            "/usr/local/lib/python3.6/dist-packages/sklearn/svm/_base.py:231: ConvergenceWarning: Solver terminated early (max_iter=700).  Consider pre-processing your data with StandardScaler or MinMaxScaler.\n",
            "  % self.max_iter, ConvergenceWarning)\n",
            "/usr/local/lib/python3.6/dist-packages/sklearn/svm/_base.py:231: ConvergenceWarning: Solver terminated early (max_iter=700).  Consider pre-processing your data with StandardScaler or MinMaxScaler.\n",
            "  % self.max_iter, ConvergenceWarning)\n",
            "/usr/local/lib/python3.6/dist-packages/sklearn/svm/_base.py:231: ConvergenceWarning: Solver terminated early (max_iter=700).  Consider pre-processing your data with StandardScaler or MinMaxScaler.\n",
            "  % self.max_iter, ConvergenceWarning)\n",
            "/usr/local/lib/python3.6/dist-packages/sklearn/svm/_base.py:231: ConvergenceWarning: Solver terminated early (max_iter=700).  Consider pre-processing your data with StandardScaler or MinMaxScaler.\n",
            "  % self.max_iter, ConvergenceWarning)\n",
            "/usr/local/lib/python3.6/dist-packages/sklearn/svm/_base.py:231: ConvergenceWarning: Solver terminated early (max_iter=700).  Consider pre-processing your data with StandardScaler or MinMaxScaler.\n",
            "  % self.max_iter, ConvergenceWarning)\n"
          ],
          "name": "stderr"
        },
        {
          "output_type": "stream",
          "text": [
            "[CV]  C=1, degree=2, gamma=100, kernel=rbf, score=0.744, total=   0.0s\n",
            "[CV] C=1, degree=2, gamma=100, kernel=rbf ............................\n",
            "[CV]  C=1, degree=2, gamma=100, kernel=rbf, score=0.773, total=   0.0s\n",
            "[CV] C=1, degree=2, gamma=100, kernel=rbf ............................\n",
            "[CV]  C=1, degree=2, gamma=100, kernel=rbf, score=0.782, total=   0.0s\n",
            "[CV] C=1, degree=2, gamma=100, kernel=rbf ............................\n",
            "[CV]  C=1, degree=2, gamma=100, kernel=rbf, score=0.762, total=   0.0s\n",
            "[CV] C=1, degree=2, gamma=100, kernel=poly ...........................\n",
            "[CV]  C=1, degree=2, gamma=100, kernel=poly, score=1.000, total=   0.0s\n",
            "[CV] C=1, degree=2, gamma=100, kernel=poly ...........................\n",
            "[CV]  C=1, degree=2, gamma=100, kernel=poly, score=1.000, total=   0.0s\n",
            "[CV] C=1, degree=2, gamma=100, kernel=poly ...........................\n",
            "[CV]  C=1, degree=2, gamma=100, kernel=poly, score=1.000, total=   0.0s\n",
            "[CV] C=1, degree=2, gamma=100, kernel=poly ...........................\n",
            "[CV]  C=1, degree=2, gamma=100, kernel=poly, score=1.000, total=   0.0s\n",
            "[CV] C=1, degree=2, gamma=100, kernel=poly ...........................\n",
            "[CV]  C=1, degree=2, gamma=100, kernel=poly, score=1.000, total=   0.0s\n",
            "[CV] C=1, degree=3, gamma=1, kernel=rbf ..............................\n"
          ],
          "name": "stdout"
        },
        {
          "output_type": "stream",
          "text": [
            "/usr/local/lib/python3.6/dist-packages/sklearn/svm/_base.py:231: ConvergenceWarning: Solver terminated early (max_iter=700).  Consider pre-processing your data with StandardScaler or MinMaxScaler.\n",
            "  % self.max_iter, ConvergenceWarning)\n",
            "/usr/local/lib/python3.6/dist-packages/sklearn/svm/_base.py:231: ConvergenceWarning: Solver terminated early (max_iter=700).  Consider pre-processing your data with StandardScaler or MinMaxScaler.\n",
            "  % self.max_iter, ConvergenceWarning)\n",
            "/usr/local/lib/python3.6/dist-packages/sklearn/svm/_base.py:231: ConvergenceWarning: Solver terminated early (max_iter=700).  Consider pre-processing your data with StandardScaler or MinMaxScaler.\n",
            "  % self.max_iter, ConvergenceWarning)\n",
            "/usr/local/lib/python3.6/dist-packages/sklearn/svm/_base.py:231: ConvergenceWarning: Solver terminated early (max_iter=700).  Consider pre-processing your data with StandardScaler or MinMaxScaler.\n",
            "  % self.max_iter, ConvergenceWarning)\n",
            "/usr/local/lib/python3.6/dist-packages/sklearn/svm/_base.py:231: ConvergenceWarning: Solver terminated early (max_iter=700).  Consider pre-processing your data with StandardScaler or MinMaxScaler.\n",
            "  % self.max_iter, ConvergenceWarning)\n",
            "/usr/local/lib/python3.6/dist-packages/sklearn/svm/_base.py:231: ConvergenceWarning: Solver terminated early (max_iter=700).  Consider pre-processing your data with StandardScaler or MinMaxScaler.\n",
            "  % self.max_iter, ConvergenceWarning)\n"
          ],
          "name": "stderr"
        },
        {
          "output_type": "stream",
          "text": [
            "[CV] .. C=1, degree=3, gamma=1, kernel=rbf, score=0.886, total=   0.0s\n",
            "[CV] C=1, degree=3, gamma=1, kernel=rbf ..............................\n",
            "[CV] .. C=1, degree=3, gamma=1, kernel=rbf, score=0.867, total=   0.0s\n",
            "[CV] C=1, degree=3, gamma=1, kernel=rbf ..............................\n",
            "[CV] .. C=1, degree=3, gamma=1, kernel=rbf, score=0.896, total=   0.0s\n",
            "[CV] C=1, degree=3, gamma=1, kernel=rbf ..............................\n",
            "[CV] .. C=1, degree=3, gamma=1, kernel=rbf, score=0.872, total=   0.1s\n",
            "[CV] C=1, degree=3, gamma=1, kernel=rbf ..............................\n",
            "[CV] .. C=1, degree=3, gamma=1, kernel=rbf, score=0.886, total=   0.0s\n",
            "[CV] C=1, degree=3, gamma=1, kernel=poly .............................\n"
          ],
          "name": "stdout"
        },
        {
          "output_type": "stream",
          "text": [
            "/usr/local/lib/python3.6/dist-packages/sklearn/svm/_base.py:231: ConvergenceWarning: Solver terminated early (max_iter=700).  Consider pre-processing your data with StandardScaler or MinMaxScaler.\n",
            "  % self.max_iter, ConvergenceWarning)\n",
            "/usr/local/lib/python3.6/dist-packages/sklearn/svm/_base.py:231: ConvergenceWarning: Solver terminated early (max_iter=700).  Consider pre-processing your data with StandardScaler or MinMaxScaler.\n",
            "  % self.max_iter, ConvergenceWarning)\n",
            "/usr/local/lib/python3.6/dist-packages/sklearn/svm/_base.py:231: ConvergenceWarning: Solver terminated early (max_iter=700).  Consider pre-processing your data with StandardScaler or MinMaxScaler.\n",
            "  % self.max_iter, ConvergenceWarning)\n",
            "/usr/local/lib/python3.6/dist-packages/sklearn/svm/_base.py:231: ConvergenceWarning: Solver terminated early (max_iter=700).  Consider pre-processing your data with StandardScaler or MinMaxScaler.\n",
            "  % self.max_iter, ConvergenceWarning)\n"
          ],
          "name": "stderr"
        },
        {
          "output_type": "stream",
          "text": [
            "[CV] . C=1, degree=3, gamma=1, kernel=poly, score=1.000, total=   0.0s\n",
            "[CV] C=1, degree=3, gamma=1, kernel=poly .............................\n",
            "[CV] . C=1, degree=3, gamma=1, kernel=poly, score=0.991, total=   0.0s\n",
            "[CV] C=1, degree=3, gamma=1, kernel=poly .............................\n",
            "[CV] . C=1, degree=3, gamma=1, kernel=poly, score=1.000, total=   0.0s\n",
            "[CV] C=1, degree=3, gamma=1, kernel=poly .............................\n",
            "[CV] . C=1, degree=3, gamma=1, kernel=poly, score=1.000, total=   0.0s\n",
            "[CV] C=1, degree=3, gamma=1, kernel=poly .............................\n",
            "[CV] . C=1, degree=3, gamma=1, kernel=poly, score=1.000, total=   0.0s\n",
            "[CV] C=1, degree=3, gamma=0.1, kernel=rbf ............................\n",
            "[CV]  C=1, degree=3, gamma=0.1, kernel=rbf, score=0.991, total=   0.0s\n",
            "[CV] C=1, degree=3, gamma=0.1, kernel=rbf ............................\n",
            "[CV]  C=1, degree=3, gamma=0.1, kernel=rbf, score=1.000, total=   0.0s\n",
            "[CV] C=1, degree=3, gamma=0.1, kernel=rbf ............................\n",
            "[CV]  C=1, degree=3, gamma=0.1, kernel=rbf, score=1.000, total=   0.0s\n",
            "[CV] C=1, degree=3, gamma=0.1, kernel=rbf ............................\n",
            "[CV]  C=1, degree=3, gamma=0.1, kernel=rbf, score=1.000, total=   0.0s\n",
            "[CV] C=1, degree=3, gamma=0.1, kernel=rbf ............................\n",
            "[CV]  C=1, degree=3, gamma=0.1, kernel=rbf, score=1.000, total=   0.0s\n",
            "[CV] C=1, degree=3, gamma=0.1, kernel=poly ...........................\n",
            "[CV]  C=1, degree=3, gamma=0.1, kernel=poly, score=1.000, total=   0.0s\n",
            "[CV] C=1, degree=3, gamma=0.1, kernel=poly ...........................\n",
            "[CV]  C=1, degree=3, gamma=0.1, kernel=poly, score=0.991, total=   0.0s\n",
            "[CV] C=1, degree=3, gamma=0.1, kernel=poly ...........................\n",
            "[CV]  C=1, degree=3, gamma=0.1, kernel=poly, score=1.000, total=   0.0s\n",
            "[CV] C=1, degree=3, gamma=0.1, kernel=poly ...........................\n",
            "[CV]  C=1, degree=3, gamma=0.1, kernel=poly, score=1.000, total=   0.0s\n",
            "[CV] C=1, degree=3, gamma=0.1, kernel=poly ...........................\n",
            "[CV]  C=1, degree=3, gamma=0.1, kernel=poly, score=1.000, total=   0.0s\n",
            "[CV] C=1, degree=3, gamma=0.01, kernel=rbf ...........................\n",
            "[CV]  C=1, degree=3, gamma=0.01, kernel=rbf, score=0.991, total=   0.0s\n",
            "[CV] C=1, degree=3, gamma=0.01, kernel=rbf ...........................\n",
            "[CV]  C=1, degree=3, gamma=0.01, kernel=rbf, score=0.991, total=   0.0s\n",
            "[CV] C=1, degree=3, gamma=0.01, kernel=rbf ...........................\n",
            "[CV]  C=1, degree=3, gamma=0.01, kernel=rbf, score=1.000, total=   0.0s\n",
            "[CV] C=1, degree=3, gamma=0.01, kernel=rbf ...........................\n",
            "[CV]  C=1, degree=3, gamma=0.01, kernel=rbf, score=1.000, total=   0.0s\n",
            "[CV] C=1, degree=3, gamma=0.01, kernel=rbf ...........................\n",
            "[CV]  C=1, degree=3, gamma=0.01, kernel=rbf, score=1.000, total=   0.0s\n",
            "[CV] C=1, degree=3, gamma=0.01, kernel=poly ..........................\n",
            "[CV]  C=1, degree=3, gamma=0.01, kernel=poly, score=0.995, total=   0.0s\n",
            "[CV] C=1, degree=3, gamma=0.01, kernel=poly ..........................\n",
            "[CV]  C=1, degree=3, gamma=0.01, kernel=poly, score=0.991, total=   0.0s\n",
            "[CV] C=1, degree=3, gamma=0.01, kernel=poly ..........................\n",
            "[CV]  C=1, degree=3, gamma=0.01, kernel=poly, score=1.000, total=   0.0s\n",
            "[CV] C=1, degree=3, gamma=0.01, kernel=poly ..........................\n",
            "[CV]  C=1, degree=3, gamma=0.01, kernel=poly, score=0.995, total=   0.0s\n",
            "[CV] C=1, degree=3, gamma=0.01, kernel=poly ..........................\n",
            "[CV]  C=1, degree=3, gamma=0.01, kernel=poly, score=0.995, total=   0.0s\n",
            "[CV] C=1, degree=3, gamma=0.001, kernel=rbf ..........................\n",
            "[CV]  C=1, degree=3, gamma=0.001, kernel=rbf, score=0.986, total=   0.0s\n",
            "[CV] C=1, degree=3, gamma=0.001, kernel=rbf ..........................\n",
            "[CV]  C=1, degree=3, gamma=0.001, kernel=rbf, score=0.991, total=   0.0s\n",
            "[CV] C=1, degree=3, gamma=0.001, kernel=rbf ..........................\n",
            "[CV]  C=1, degree=3, gamma=0.001, kernel=rbf, score=1.000, total=   0.0s\n",
            "[CV] C=1, degree=3, gamma=0.001, kernel=rbf ..........................\n",
            "[CV]  C=1, degree=3, gamma=0.001, kernel=rbf, score=1.000, total=   0.0s\n",
            "[CV] C=1, degree=3, gamma=0.001, kernel=rbf ..........................\n",
            "[CV]  C=1, degree=3, gamma=0.001, kernel=rbf, score=1.000, total=   0.0s\n",
            "[CV] C=1, degree=3, gamma=0.001, kernel=poly .........................\n",
            "[CV]  C=1, degree=3, gamma=0.001, kernel=poly, score=0.735, total=   0.0s\n",
            "[CV] C=1, degree=3, gamma=0.001, kernel=poly .........................\n",
            "[CV]  C=1, degree=3, gamma=0.001, kernel=poly, score=0.678, total=   0.0s\n",
            "[CV] C=1, degree=3, gamma=0.001, kernel=poly .........................\n",
            "[CV]  C=1, degree=3, gamma=0.001, kernel=poly, score=0.682, total=   0.0s\n",
            "[CV] C=1, degree=3, gamma=0.001, kernel=poly .........................\n",
            "[CV]  C=1, degree=3, gamma=0.001, kernel=poly, score=0.673, total=   0.0s\n",
            "[CV] C=1, degree=3, gamma=0.001, kernel=poly .........................\n",
            "[CV]  C=1, degree=3, gamma=0.001, kernel=poly, score=0.686, total=   0.0s\n",
            "[CV] C=1, degree=3, gamma=100, kernel=rbf ............................\n",
            "[CV]  C=1, degree=3, gamma=100, kernel=rbf, score=0.801, total=   0.0s\n",
            "[CV] C=1, degree=3, gamma=100, kernel=rbf ............................\n",
            "[CV]  C=1, degree=3, gamma=100, kernel=rbf, score=0.744, total=   0.0s\n",
            "[CV] C=1, degree=3, gamma=100, kernel=rbf ............................\n",
            "[CV]  C=1, degree=3, gamma=100, kernel=rbf, score=0.773, total=   0.0s\n",
            "[CV] C=1, degree=3, gamma=100, kernel=rbf ............................\n"
          ],
          "name": "stdout"
        },
        {
          "output_type": "stream",
          "text": [
            "/usr/local/lib/python3.6/dist-packages/sklearn/svm/_base.py:231: ConvergenceWarning: Solver terminated early (max_iter=700).  Consider pre-processing your data with StandardScaler or MinMaxScaler.\n",
            "  % self.max_iter, ConvergenceWarning)\n",
            "/usr/local/lib/python3.6/dist-packages/sklearn/svm/_base.py:231: ConvergenceWarning: Solver terminated early (max_iter=700).  Consider pre-processing your data with StandardScaler or MinMaxScaler.\n",
            "  % self.max_iter, ConvergenceWarning)\n",
            "/usr/local/lib/python3.6/dist-packages/sklearn/svm/_base.py:231: ConvergenceWarning: Solver terminated early (max_iter=700).  Consider pre-processing your data with StandardScaler or MinMaxScaler.\n",
            "  % self.max_iter, ConvergenceWarning)\n",
            "/usr/local/lib/python3.6/dist-packages/sklearn/svm/_base.py:231: ConvergenceWarning: Solver terminated early (max_iter=700).  Consider pre-processing your data with StandardScaler or MinMaxScaler.\n",
            "  % self.max_iter, ConvergenceWarning)\n",
            "/usr/local/lib/python3.6/dist-packages/sklearn/svm/_base.py:231: ConvergenceWarning: Solver terminated early (max_iter=700).  Consider pre-processing your data with StandardScaler or MinMaxScaler.\n",
            "  % self.max_iter, ConvergenceWarning)\n",
            "/usr/local/lib/python3.6/dist-packages/sklearn/svm/_base.py:231: ConvergenceWarning: Solver terminated early (max_iter=700).  Consider pre-processing your data with StandardScaler or MinMaxScaler.\n",
            "  % self.max_iter, ConvergenceWarning)\n"
          ],
          "name": "stderr"
        },
        {
          "output_type": "stream",
          "text": [
            "[CV]  C=1, degree=3, gamma=100, kernel=rbf, score=0.782, total=   0.0s\n",
            "[CV] C=1, degree=3, gamma=100, kernel=rbf ............................\n",
            "[CV]  C=1, degree=3, gamma=100, kernel=rbf, score=0.762, total=   0.0s\n",
            "[CV] C=1, degree=3, gamma=100, kernel=poly ...........................\n",
            "[CV]  C=1, degree=3, gamma=100, kernel=poly, score=1.000, total=   0.0s\n",
            "[CV] C=1, degree=3, gamma=100, kernel=poly ...........................\n",
            "[CV]  C=1, degree=3, gamma=100, kernel=poly, score=0.991, total=   0.0s\n",
            "[CV] C=1, degree=3, gamma=100, kernel=poly ...........................\n",
            "[CV]  C=1, degree=3, gamma=100, kernel=poly, score=1.000, total=   0.0s\n",
            "[CV] C=1, degree=3, gamma=100, kernel=poly ...........................\n",
            "[CV]  C=1, degree=3, gamma=100, kernel=poly, score=1.000, total=   0.0s\n",
            "[CV] C=1, degree=3, gamma=100, kernel=poly ...........................\n",
            "[CV]  C=1, degree=3, gamma=100, kernel=poly, score=1.000, total=   0.0s\n",
            "[CV] C=1, degree=4, gamma=1, kernel=rbf ..............................\n",
            "[CV] .. C=1, degree=4, gamma=1, kernel=rbf, score=0.886, total=   0.0s\n",
            "[CV] C=1, degree=4, gamma=1, kernel=rbf ..............................\n",
            "[CV] .. C=1, degree=4, gamma=1, kernel=rbf, score=0.867, total=   0.0s\n",
            "[CV] C=1, degree=4, gamma=1, kernel=rbf ..............................\n"
          ],
          "name": "stdout"
        },
        {
          "output_type": "stream",
          "text": [
            "/usr/local/lib/python3.6/dist-packages/sklearn/svm/_base.py:231: ConvergenceWarning: Solver terminated early (max_iter=700).  Consider pre-processing your data with StandardScaler or MinMaxScaler.\n",
            "  % self.max_iter, ConvergenceWarning)\n",
            "/usr/local/lib/python3.6/dist-packages/sklearn/svm/_base.py:231: ConvergenceWarning: Solver terminated early (max_iter=700).  Consider pre-processing your data with StandardScaler or MinMaxScaler.\n",
            "  % self.max_iter, ConvergenceWarning)\n",
            "/usr/local/lib/python3.6/dist-packages/sklearn/svm/_base.py:231: ConvergenceWarning: Solver terminated early (max_iter=700).  Consider pre-processing your data with StandardScaler or MinMaxScaler.\n",
            "  % self.max_iter, ConvergenceWarning)\n",
            "/usr/local/lib/python3.6/dist-packages/sklearn/svm/_base.py:231: ConvergenceWarning: Solver terminated early (max_iter=700).  Consider pre-processing your data with StandardScaler or MinMaxScaler.\n",
            "  % self.max_iter, ConvergenceWarning)\n",
            "/usr/local/lib/python3.6/dist-packages/sklearn/svm/_base.py:231: ConvergenceWarning: Solver terminated early (max_iter=700).  Consider pre-processing your data with StandardScaler or MinMaxScaler.\n",
            "  % self.max_iter, ConvergenceWarning)\n"
          ],
          "name": "stderr"
        },
        {
          "output_type": "stream",
          "text": [
            "[CV] .. C=1, degree=4, gamma=1, kernel=rbf, score=0.896, total=   0.1s\n",
            "[CV] C=1, degree=4, gamma=1, kernel=rbf ..............................\n",
            "[CV] .. C=1, degree=4, gamma=1, kernel=rbf, score=0.872, total=   0.1s\n",
            "[CV] C=1, degree=4, gamma=1, kernel=rbf ..............................\n",
            "[CV] .. C=1, degree=4, gamma=1, kernel=rbf, score=0.886, total=   0.0s\n",
            "[CV] C=1, degree=4, gamma=1, kernel=poly .............................\n",
            "[CV] . C=1, degree=4, gamma=1, kernel=poly, score=1.000, total=   0.0s\n",
            "[CV] C=1, degree=4, gamma=1, kernel=poly .............................\n",
            "[CV] . C=1, degree=4, gamma=1, kernel=poly, score=0.991, total=   0.0s\n",
            "[CV] C=1, degree=4, gamma=1, kernel=poly .............................\n",
            "[CV] . C=1, degree=4, gamma=1, kernel=poly, score=1.000, total=   0.0s\n",
            "[CV] C=1, degree=4, gamma=1, kernel=poly .............................\n",
            "[CV] . C=1, degree=4, gamma=1, kernel=poly, score=1.000, total=   0.0s\n",
            "[CV] C=1, degree=4, gamma=1, kernel=poly .............................\n",
            "[CV] . C=1, degree=4, gamma=1, kernel=poly, score=1.000, total=   0.0s\n",
            "[CV] C=1, degree=4, gamma=0.1, kernel=rbf ............................\n",
            "[CV]  C=1, degree=4, gamma=0.1, kernel=rbf, score=0.991, total=   0.0s\n",
            "[CV] C=1, degree=4, gamma=0.1, kernel=rbf ............................\n",
            "[CV]  C=1, degree=4, gamma=0.1, kernel=rbf, score=1.000, total=   0.0s\n",
            "[CV] C=1, degree=4, gamma=0.1, kernel=rbf ............................\n",
            "[CV]  C=1, degree=4, gamma=0.1, kernel=rbf, score=1.000, total=   0.0s\n",
            "[CV] C=1, degree=4, gamma=0.1, kernel=rbf ............................\n",
            "[CV]  C=1, degree=4, gamma=0.1, kernel=rbf, score=1.000, total=   0.0s\n",
            "[CV] C=1, degree=4, gamma=0.1, kernel=rbf ............................\n"
          ],
          "name": "stdout"
        },
        {
          "output_type": "stream",
          "text": [
            "/usr/local/lib/python3.6/dist-packages/sklearn/svm/_base.py:231: ConvergenceWarning: Solver terminated early (max_iter=700).  Consider pre-processing your data with StandardScaler or MinMaxScaler.\n",
            "  % self.max_iter, ConvergenceWarning)\n"
          ],
          "name": "stderr"
        },
        {
          "output_type": "stream",
          "text": [
            "[CV]  C=1, degree=4, gamma=0.1, kernel=rbf, score=1.000, total=   0.0s\n",
            "[CV] C=1, degree=4, gamma=0.1, kernel=poly ...........................\n",
            "[CV]  C=1, degree=4, gamma=0.1, kernel=poly, score=1.000, total=   0.0s\n",
            "[CV] C=1, degree=4, gamma=0.1, kernel=poly ...........................\n",
            "[CV]  C=1, degree=4, gamma=0.1, kernel=poly, score=0.991, total=   0.0s\n",
            "[CV] C=1, degree=4, gamma=0.1, kernel=poly ...........................\n",
            "[CV]  C=1, degree=4, gamma=0.1, kernel=poly, score=1.000, total=   0.0s\n",
            "[CV] C=1, degree=4, gamma=0.1, kernel=poly ...........................\n",
            "[CV]  C=1, degree=4, gamma=0.1, kernel=poly, score=1.000, total=   0.0s\n",
            "[CV] C=1, degree=4, gamma=0.1, kernel=poly ...........................\n",
            "[CV]  C=1, degree=4, gamma=0.1, kernel=poly, score=1.000, total=   0.0s\n",
            "[CV] C=1, degree=4, gamma=0.01, kernel=rbf ...........................\n",
            "[CV]  C=1, degree=4, gamma=0.01, kernel=rbf, score=0.991, total=   0.0s\n",
            "[CV] C=1, degree=4, gamma=0.01, kernel=rbf ...........................\n",
            "[CV]  C=1, degree=4, gamma=0.01, kernel=rbf, score=0.991, total=   0.0s\n",
            "[CV] C=1, degree=4, gamma=0.01, kernel=rbf ...........................\n",
            "[CV]  C=1, degree=4, gamma=0.01, kernel=rbf, score=1.000, total=   0.0s\n",
            "[CV] C=1, degree=4, gamma=0.01, kernel=rbf ...........................\n",
            "[CV]  C=1, degree=4, gamma=0.01, kernel=rbf, score=1.000, total=   0.0s\n",
            "[CV] C=1, degree=4, gamma=0.01, kernel=rbf ...........................\n",
            "[CV]  C=1, degree=4, gamma=0.01, kernel=rbf, score=1.000, total=   0.0s\n",
            "[CV] C=1, degree=4, gamma=0.01, kernel=poly ..........................\n",
            "[CV]  C=1, degree=4, gamma=0.01, kernel=poly, score=0.991, total=   0.0s\n",
            "[CV] C=1, degree=4, gamma=0.01, kernel=poly ..........................\n",
            "[CV]  C=1, degree=4, gamma=0.01, kernel=poly, score=0.995, total=   0.0s\n",
            "[CV] C=1, degree=4, gamma=0.01, kernel=poly ..........................\n",
            "[CV]  C=1, degree=4, gamma=0.01, kernel=poly, score=0.995, total=   0.0s\n",
            "[CV] C=1, degree=4, gamma=0.01, kernel=poly ..........................\n",
            "[CV]  C=1, degree=4, gamma=0.01, kernel=poly, score=0.986, total=   0.0s\n",
            "[CV] C=1, degree=4, gamma=0.01, kernel=poly ..........................\n",
            "[CV]  C=1, degree=4, gamma=0.01, kernel=poly, score=0.976, total=   0.0s\n",
            "[CV] C=1, degree=4, gamma=0.001, kernel=rbf ..........................\n",
            "[CV]  C=1, degree=4, gamma=0.001, kernel=rbf, score=0.986, total=   0.0s\n",
            "[CV] C=1, degree=4, gamma=0.001, kernel=rbf ..........................\n",
            "[CV]  C=1, degree=4, gamma=0.001, kernel=rbf, score=0.991, total=   0.0s\n",
            "[CV] C=1, degree=4, gamma=0.001, kernel=rbf ..........................\n",
            "[CV]  C=1, degree=4, gamma=0.001, kernel=rbf, score=1.000, total=   0.0s\n",
            "[CV] C=1, degree=4, gamma=0.001, kernel=rbf ..........................\n",
            "[CV]  C=1, degree=4, gamma=0.001, kernel=rbf, score=1.000, total=   0.0s\n",
            "[CV] C=1, degree=4, gamma=0.001, kernel=rbf ..........................\n",
            "[CV]  C=1, degree=4, gamma=0.001, kernel=rbf, score=1.000, total=   0.0s\n",
            "[CV] C=1, degree=4, gamma=0.001, kernel=poly .........................\n",
            "[CV]  C=1, degree=4, gamma=0.001, kernel=poly, score=0.735, total=   0.0s\n",
            "[CV] C=1, degree=4, gamma=0.001, kernel=poly .........................\n",
            "[CV]  C=1, degree=4, gamma=0.001, kernel=poly, score=0.678, total=   0.0s\n",
            "[CV] C=1, degree=4, gamma=0.001, kernel=poly .........................\n",
            "[CV]  C=1, degree=4, gamma=0.001, kernel=poly, score=0.682, total=   0.0s\n",
            "[CV] C=1, degree=4, gamma=0.001, kernel=poly .........................\n",
            "[CV]  C=1, degree=4, gamma=0.001, kernel=poly, score=0.673, total=   0.0s\n",
            "[CV] C=1, degree=4, gamma=0.001, kernel=poly .........................\n",
            "[CV]  C=1, degree=4, gamma=0.001, kernel=poly, score=0.686, total=   0.0s\n",
            "[CV] C=1, degree=4, gamma=100, kernel=rbf ............................\n",
            "[CV]  C=1, degree=4, gamma=100, kernel=rbf, score=0.801, total=   0.0s\n",
            "[CV] C=1, degree=4, gamma=100, kernel=rbf ............................\n",
            "[CV]  C=1, degree=4, gamma=100, kernel=rbf, score=0.744, total=   0.0s\n",
            "[CV] C=1, degree=4, gamma=100, kernel=rbf ............................\n",
            "[CV]  C=1, degree=4, gamma=100, kernel=rbf, score=0.773, total=   0.0s\n",
            "[CV] C=1, degree=4, gamma=100, kernel=rbf ............................\n"
          ],
          "name": "stdout"
        },
        {
          "output_type": "stream",
          "text": [
            "/usr/local/lib/python3.6/dist-packages/sklearn/svm/_base.py:231: ConvergenceWarning: Solver terminated early (max_iter=700).  Consider pre-processing your data with StandardScaler or MinMaxScaler.\n",
            "  % self.max_iter, ConvergenceWarning)\n",
            "/usr/local/lib/python3.6/dist-packages/sklearn/svm/_base.py:231: ConvergenceWarning: Solver terminated early (max_iter=700).  Consider pre-processing your data with StandardScaler or MinMaxScaler.\n",
            "  % self.max_iter, ConvergenceWarning)\n",
            "/usr/local/lib/python3.6/dist-packages/sklearn/svm/_base.py:231: ConvergenceWarning: Solver terminated early (max_iter=700).  Consider pre-processing your data with StandardScaler or MinMaxScaler.\n",
            "  % self.max_iter, ConvergenceWarning)\n",
            "/usr/local/lib/python3.6/dist-packages/sklearn/svm/_base.py:231: ConvergenceWarning: Solver terminated early (max_iter=700).  Consider pre-processing your data with StandardScaler or MinMaxScaler.\n",
            "  % self.max_iter, ConvergenceWarning)\n",
            "/usr/local/lib/python3.6/dist-packages/sklearn/svm/_base.py:231: ConvergenceWarning: Solver terminated early (max_iter=700).  Consider pre-processing your data with StandardScaler or MinMaxScaler.\n",
            "  % self.max_iter, ConvergenceWarning)\n"
          ],
          "name": "stderr"
        },
        {
          "output_type": "stream",
          "text": [
            "[CV]  C=1, degree=4, gamma=100, kernel=rbf, score=0.782, total=   0.0s\n",
            "[CV] C=1, degree=4, gamma=100, kernel=rbf ............................\n",
            "[CV]  C=1, degree=4, gamma=100, kernel=rbf, score=0.762, total=   0.0s\n",
            "[CV] C=1, degree=4, gamma=100, kernel=poly ...........................\n",
            "[CV]  C=1, degree=4, gamma=100, kernel=poly, score=1.000, total=   0.0s\n",
            "[CV] C=1, degree=4, gamma=100, kernel=poly ...........................\n",
            "[CV]  C=1, degree=4, gamma=100, kernel=poly, score=0.991, total=   0.0s\n",
            "[CV] C=1, degree=4, gamma=100, kernel=poly ...........................\n",
            "[CV]  C=1, degree=4, gamma=100, kernel=poly, score=1.000, total=   0.0s\n",
            "[CV] C=1, degree=4, gamma=100, kernel=poly ...........................\n",
            "[CV]  C=1, degree=4, gamma=100, kernel=poly, score=1.000, total=   0.0s\n",
            "[CV] C=1, degree=4, gamma=100, kernel=poly ...........................\n",
            "[CV]  C=1, degree=4, gamma=100, kernel=poly, score=1.000, total=   0.0s\n",
            "[CV] C=10, degree=2, gamma=1, kernel=rbf .............................\n",
            "[CV] . C=10, degree=2, gamma=1, kernel=rbf, score=0.905, total=   0.0s\n",
            "[CV] C=10, degree=2, gamma=1, kernel=rbf .............................\n",
            "[CV] . C=10, degree=2, gamma=1, kernel=rbf, score=0.877, total=   0.0s\n",
            "[CV] C=10, degree=2, gamma=1, kernel=rbf .............................\n",
            "[CV] . C=10, degree=2, gamma=1, kernel=rbf, score=0.900, total=   0.0s\n",
            "[CV] C=10, degree=2, gamma=1, kernel=rbf .............................\n",
            "[CV] . C=10, degree=2, gamma=1, kernel=rbf, score=0.886, total=   0.0s\n",
            "[CV] C=10, degree=2, gamma=1, kernel=rbf .............................\n"
          ],
          "name": "stdout"
        },
        {
          "output_type": "stream",
          "text": [
            "/usr/local/lib/python3.6/dist-packages/sklearn/svm/_base.py:231: ConvergenceWarning: Solver terminated early (max_iter=700).  Consider pre-processing your data with StandardScaler or MinMaxScaler.\n",
            "  % self.max_iter, ConvergenceWarning)\n",
            "/usr/local/lib/python3.6/dist-packages/sklearn/svm/_base.py:231: ConvergenceWarning: Solver terminated early (max_iter=700).  Consider pre-processing your data with StandardScaler or MinMaxScaler.\n",
            "  % self.max_iter, ConvergenceWarning)\n",
            "/usr/local/lib/python3.6/dist-packages/sklearn/svm/_base.py:231: ConvergenceWarning: Solver terminated early (max_iter=700).  Consider pre-processing your data with StandardScaler or MinMaxScaler.\n",
            "  % self.max_iter, ConvergenceWarning)\n",
            "/usr/local/lib/python3.6/dist-packages/sklearn/svm/_base.py:231: ConvergenceWarning: Solver terminated early (max_iter=700).  Consider pre-processing your data with StandardScaler or MinMaxScaler.\n",
            "  % self.max_iter, ConvergenceWarning)\n",
            "/usr/local/lib/python3.6/dist-packages/sklearn/svm/_base.py:231: ConvergenceWarning: Solver terminated early (max_iter=700).  Consider pre-processing your data with StandardScaler or MinMaxScaler.\n",
            "  % self.max_iter, ConvergenceWarning)\n"
          ],
          "name": "stderr"
        },
        {
          "output_type": "stream",
          "text": [
            "[CV] . C=10, degree=2, gamma=1, kernel=rbf, score=0.900, total=   0.0s\n",
            "[CV] C=10, degree=2, gamma=1, kernel=poly ............................\n",
            "[CV]  C=10, degree=2, gamma=1, kernel=poly, score=1.000, total=   0.0s\n",
            "[CV] C=10, degree=2, gamma=1, kernel=poly ............................\n",
            "[CV]  C=10, degree=2, gamma=1, kernel=poly, score=1.000, total=   0.0s\n",
            "[CV] C=10, degree=2, gamma=1, kernel=poly ............................\n",
            "[CV]  C=10, degree=2, gamma=1, kernel=poly, score=1.000, total=   0.0s\n",
            "[CV] C=10, degree=2, gamma=1, kernel=poly ............................\n",
            "[CV]  C=10, degree=2, gamma=1, kernel=poly, score=1.000, total=   0.0s\n",
            "[CV] C=10, degree=2, gamma=1, kernel=poly ............................\n",
            "[CV]  C=10, degree=2, gamma=1, kernel=poly, score=1.000, total=   0.0s\n",
            "[CV] C=10, degree=2, gamma=0.1, kernel=rbf ...........................\n",
            "[CV]  C=10, degree=2, gamma=0.1, kernel=rbf, score=0.995, total=   0.0s\n",
            "[CV] C=10, degree=2, gamma=0.1, kernel=rbf ...........................\n",
            "[CV]  C=10, degree=2, gamma=0.1, kernel=rbf, score=1.000, total=   0.0s\n",
            "[CV] C=10, degree=2, gamma=0.1, kernel=rbf ...........................\n",
            "[CV]  C=10, degree=2, gamma=0.1, kernel=rbf, score=1.000, total=   0.0s\n",
            "[CV] C=10, degree=2, gamma=0.1, kernel=rbf ...........................\n",
            "[CV]  C=10, degree=2, gamma=0.1, kernel=rbf, score=1.000, total=   0.0s\n",
            "[CV] C=10, degree=2, gamma=0.1, kernel=rbf ...........................\n",
            "[CV]  C=10, degree=2, gamma=0.1, kernel=rbf, score=1.000, total=   0.0s\n",
            "[CV] C=10, degree=2, gamma=0.1, kernel=poly ..........................\n",
            "[CV]  C=10, degree=2, gamma=0.1, kernel=poly, score=1.000, total=   0.0s\n",
            "[CV] C=10, degree=2, gamma=0.1, kernel=poly ..........................\n",
            "[CV]  C=10, degree=2, gamma=0.1, kernel=poly, score=1.000, total=   0.0s\n",
            "[CV] C=10, degree=2, gamma=0.1, kernel=poly ..........................\n",
            "[CV]  C=10, degree=2, gamma=0.1, kernel=poly, score=1.000, total=   0.0s\n",
            "[CV] C=10, degree=2, gamma=0.1, kernel=poly ..........................\n",
            "[CV]  C=10, degree=2, gamma=0.1, kernel=poly, score=1.000, total=   0.0s\n",
            "[CV] C=10, degree=2, gamma=0.1, kernel=poly ..........................\n",
            "[CV]  C=10, degree=2, gamma=0.1, kernel=poly, score=1.000, total=   0.0s\n",
            "[CV] C=10, degree=2, gamma=0.01, kernel=rbf ..........................\n",
            "[CV]  C=10, degree=2, gamma=0.01, kernel=rbf, score=1.000, total=   0.0s\n",
            "[CV] C=10, degree=2, gamma=0.01, kernel=rbf ..........................\n",
            "[CV]  C=10, degree=2, gamma=0.01, kernel=rbf, score=1.000, total=   0.0s\n",
            "[CV] C=10, degree=2, gamma=0.01, kernel=rbf ..........................\n",
            "[CV]  C=10, degree=2, gamma=0.01, kernel=rbf, score=1.000, total=   0.0s\n",
            "[CV] C=10, degree=2, gamma=0.01, kernel=rbf ..........................\n"
          ],
          "name": "stdout"
        },
        {
          "output_type": "stream",
          "text": [
            "/usr/local/lib/python3.6/dist-packages/sklearn/svm/_base.py:231: ConvergenceWarning: Solver terminated early (max_iter=700).  Consider pre-processing your data with StandardScaler or MinMaxScaler.\n",
            "  % self.max_iter, ConvergenceWarning)\n",
            "/usr/local/lib/python3.6/dist-packages/sklearn/svm/_base.py:231: ConvergenceWarning: Solver terminated early (max_iter=700).  Consider pre-processing your data with StandardScaler or MinMaxScaler.\n",
            "  % self.max_iter, ConvergenceWarning)\n",
            "/usr/local/lib/python3.6/dist-packages/sklearn/svm/_base.py:231: ConvergenceWarning: Solver terminated early (max_iter=700).  Consider pre-processing your data with StandardScaler or MinMaxScaler.\n",
            "  % self.max_iter, ConvergenceWarning)\n",
            "/usr/local/lib/python3.6/dist-packages/sklearn/svm/_base.py:231: ConvergenceWarning: Solver terminated early (max_iter=700).  Consider pre-processing your data with StandardScaler or MinMaxScaler.\n",
            "  % self.max_iter, ConvergenceWarning)\n",
            "/usr/local/lib/python3.6/dist-packages/sklearn/svm/_base.py:231: ConvergenceWarning: Solver terminated early (max_iter=700).  Consider pre-processing your data with StandardScaler or MinMaxScaler.\n",
            "  % self.max_iter, ConvergenceWarning)\n",
            "/usr/local/lib/python3.6/dist-packages/sklearn/svm/_base.py:231: ConvergenceWarning: Solver terminated early (max_iter=700).  Consider pre-processing your data with StandardScaler or MinMaxScaler.\n",
            "  % self.max_iter, ConvergenceWarning)\n",
            "/usr/local/lib/python3.6/dist-packages/sklearn/svm/_base.py:231: ConvergenceWarning: Solver terminated early (max_iter=700).  Consider pre-processing your data with StandardScaler or MinMaxScaler.\n",
            "  % self.max_iter, ConvergenceWarning)\n",
            "/usr/local/lib/python3.6/dist-packages/sklearn/svm/_base.py:231: ConvergenceWarning: Solver terminated early (max_iter=700).  Consider pre-processing your data with StandardScaler or MinMaxScaler.\n",
            "  % self.max_iter, ConvergenceWarning)\n",
            "/usr/local/lib/python3.6/dist-packages/sklearn/svm/_base.py:231: ConvergenceWarning: Solver terminated early (max_iter=700).  Consider pre-processing your data with StandardScaler or MinMaxScaler.\n",
            "  % self.max_iter, ConvergenceWarning)\n",
            "/usr/local/lib/python3.6/dist-packages/sklearn/svm/_base.py:231: ConvergenceWarning: Solver terminated early (max_iter=700).  Consider pre-processing your data with StandardScaler or MinMaxScaler.\n",
            "  % self.max_iter, ConvergenceWarning)\n",
            "/usr/local/lib/python3.6/dist-packages/sklearn/svm/_base.py:231: ConvergenceWarning: Solver terminated early (max_iter=700).  Consider pre-processing your data with StandardScaler or MinMaxScaler.\n",
            "  % self.max_iter, ConvergenceWarning)\n"
          ],
          "name": "stderr"
        },
        {
          "output_type": "stream",
          "text": [
            "[CV]  C=10, degree=2, gamma=0.01, kernel=rbf, score=1.000, total=   0.0s\n",
            "[CV] C=10, degree=2, gamma=0.01, kernel=rbf ..........................\n",
            "[CV]  C=10, degree=2, gamma=0.01, kernel=rbf, score=1.000, total=   0.0s\n",
            "[CV] C=10, degree=2, gamma=0.01, kernel=poly .........................\n",
            "[CV]  C=10, degree=2, gamma=0.01, kernel=poly, score=1.000, total=   0.0s\n",
            "[CV] C=10, degree=2, gamma=0.01, kernel=poly .........................\n",
            "[CV]  C=10, degree=2, gamma=0.01, kernel=poly, score=1.000, total=   0.0s\n",
            "[CV] C=10, degree=2, gamma=0.01, kernel=poly .........................\n",
            "[CV]  C=10, degree=2, gamma=0.01, kernel=poly, score=1.000, total=   0.0s\n",
            "[CV] C=10, degree=2, gamma=0.01, kernel=poly .........................\n",
            "[CV]  C=10, degree=2, gamma=0.01, kernel=poly, score=1.000, total=   0.0s\n",
            "[CV] C=10, degree=2, gamma=0.01, kernel=poly .........................\n",
            "[CV]  C=10, degree=2, gamma=0.01, kernel=poly, score=1.000, total=   0.0s\n",
            "[CV] C=10, degree=2, gamma=0.001, kernel=rbf .........................\n",
            "[CV]  C=10, degree=2, gamma=0.001, kernel=rbf, score=1.000, total=   0.0s\n",
            "[CV] C=10, degree=2, gamma=0.001, kernel=rbf .........................\n",
            "[CV]  C=10, degree=2, gamma=0.001, kernel=rbf, score=1.000, total=   0.0s\n",
            "[CV] C=10, degree=2, gamma=0.001, kernel=rbf .........................\n",
            "[CV]  C=10, degree=2, gamma=0.001, kernel=rbf, score=1.000, total=   0.0s\n",
            "[CV] C=10, degree=2, gamma=0.001, kernel=rbf .........................\n",
            "[CV]  C=10, degree=2, gamma=0.001, kernel=rbf, score=1.000, total=   0.0s\n",
            "[CV] C=10, degree=2, gamma=0.001, kernel=rbf .........................\n",
            "[CV]  C=10, degree=2, gamma=0.001, kernel=rbf, score=1.000, total=   0.0s\n",
            "[CV] C=10, degree=2, gamma=0.001, kernel=poly ........................\n",
            "[CV]  C=10, degree=2, gamma=0.001, kernel=poly, score=1.000, total=   0.0s\n",
            "[CV] C=10, degree=2, gamma=0.001, kernel=poly ........................\n",
            "[CV]  C=10, degree=2, gamma=0.001, kernel=poly, score=1.000, total=   0.0s\n",
            "[CV] C=10, degree=2, gamma=0.001, kernel=poly ........................\n",
            "[CV]  C=10, degree=2, gamma=0.001, kernel=poly, score=1.000, total=   0.0s\n",
            "[CV] C=10, degree=2, gamma=0.001, kernel=poly ........................\n",
            "[CV]  C=10, degree=2, gamma=0.001, kernel=poly, score=1.000, total=   0.0s\n",
            "[CV] C=10, degree=2, gamma=0.001, kernel=poly ........................\n",
            "[CV]  C=10, degree=2, gamma=0.001, kernel=poly, score=1.000, total=   0.0s\n",
            "[CV] C=10, degree=2, gamma=100, kernel=rbf ...........................\n"
          ],
          "name": "stdout"
        },
        {
          "output_type": "stream",
          "text": [
            "/usr/local/lib/python3.6/dist-packages/sklearn/svm/_base.py:231: ConvergenceWarning: Solver terminated early (max_iter=700).  Consider pre-processing your data with StandardScaler or MinMaxScaler.\n",
            "  % self.max_iter, ConvergenceWarning)\n",
            "/usr/local/lib/python3.6/dist-packages/sklearn/svm/_base.py:231: ConvergenceWarning: Solver terminated early (max_iter=700).  Consider pre-processing your data with StandardScaler or MinMaxScaler.\n",
            "  % self.max_iter, ConvergenceWarning)\n",
            "/usr/local/lib/python3.6/dist-packages/sklearn/svm/_base.py:231: ConvergenceWarning: Solver terminated early (max_iter=700).  Consider pre-processing your data with StandardScaler or MinMaxScaler.\n",
            "  % self.max_iter, ConvergenceWarning)\n"
          ],
          "name": "stderr"
        },
        {
          "output_type": "stream",
          "text": [
            "[CV]  C=10, degree=2, gamma=100, kernel=rbf, score=0.801, total=   0.0s\n",
            "[CV] C=10, degree=2, gamma=100, kernel=rbf ...........................\n",
            "[CV]  C=10, degree=2, gamma=100, kernel=rbf, score=0.744, total=   0.0s\n",
            "[CV] C=10, degree=2, gamma=100, kernel=rbf ...........................\n"
          ],
          "name": "stdout"
        },
        {
          "output_type": "stream",
          "text": [
            "/usr/local/lib/python3.6/dist-packages/sklearn/svm/_base.py:231: ConvergenceWarning: Solver terminated early (max_iter=700).  Consider pre-processing your data with StandardScaler or MinMaxScaler.\n",
            "  % self.max_iter, ConvergenceWarning)\n",
            "/usr/local/lib/python3.6/dist-packages/sklearn/svm/_base.py:231: ConvergenceWarning: Solver terminated early (max_iter=700).  Consider pre-processing your data with StandardScaler or MinMaxScaler.\n",
            "  % self.max_iter, ConvergenceWarning)\n",
            "/usr/local/lib/python3.6/dist-packages/sklearn/svm/_base.py:231: ConvergenceWarning: Solver terminated early (max_iter=700).  Consider pre-processing your data with StandardScaler or MinMaxScaler.\n",
            "  % self.max_iter, ConvergenceWarning)\n",
            "/usr/local/lib/python3.6/dist-packages/sklearn/svm/_base.py:231: ConvergenceWarning: Solver terminated early (max_iter=700).  Consider pre-processing your data with StandardScaler or MinMaxScaler.\n",
            "  % self.max_iter, ConvergenceWarning)\n",
            "/usr/local/lib/python3.6/dist-packages/sklearn/svm/_base.py:231: ConvergenceWarning: Solver terminated early (max_iter=700).  Consider pre-processing your data with StandardScaler or MinMaxScaler.\n",
            "  % self.max_iter, ConvergenceWarning)\n",
            "/usr/local/lib/python3.6/dist-packages/sklearn/svm/_base.py:231: ConvergenceWarning: Solver terminated early (max_iter=700).  Consider pre-processing your data with StandardScaler or MinMaxScaler.\n",
            "  % self.max_iter, ConvergenceWarning)\n",
            "/usr/local/lib/python3.6/dist-packages/sklearn/svm/_base.py:231: ConvergenceWarning: Solver terminated early (max_iter=700).  Consider pre-processing your data with StandardScaler or MinMaxScaler.\n",
            "  % self.max_iter, ConvergenceWarning)\n"
          ],
          "name": "stderr"
        },
        {
          "output_type": "stream",
          "text": [
            "[CV]  C=10, degree=2, gamma=100, kernel=rbf, score=0.773, total=   0.0s\n",
            "[CV] C=10, degree=2, gamma=100, kernel=rbf ...........................\n",
            "[CV]  C=10, degree=2, gamma=100, kernel=rbf, score=0.782, total=   0.0s\n",
            "[CV] C=10, degree=2, gamma=100, kernel=rbf ...........................\n",
            "[CV]  C=10, degree=2, gamma=100, kernel=rbf, score=0.762, total=   0.0s\n",
            "[CV] C=10, degree=2, gamma=100, kernel=poly ..........................\n",
            "[CV]  C=10, degree=2, gamma=100, kernel=poly, score=1.000, total=   0.0s\n",
            "[CV] C=10, degree=2, gamma=100, kernel=poly ..........................\n",
            "[CV]  C=10, degree=2, gamma=100, kernel=poly, score=1.000, total=   0.0s\n",
            "[CV] C=10, degree=2, gamma=100, kernel=poly ..........................\n",
            "[CV]  C=10, degree=2, gamma=100, kernel=poly, score=1.000, total=   0.0s\n",
            "[CV] C=10, degree=2, gamma=100, kernel=poly ..........................\n",
            "[CV]  C=10, degree=2, gamma=100, kernel=poly, score=1.000, total=   0.0s\n",
            "[CV] C=10, degree=2, gamma=100, kernel=poly ..........................\n",
            "[CV]  C=10, degree=2, gamma=100, kernel=poly, score=1.000, total=   0.0s\n",
            "[CV] C=10, degree=3, gamma=1, kernel=rbf .............................\n",
            "[CV] . C=10, degree=3, gamma=1, kernel=rbf, score=0.905, total=   0.0s\n",
            "[CV] C=10, degree=3, gamma=1, kernel=rbf .............................\n"
          ],
          "name": "stdout"
        },
        {
          "output_type": "stream",
          "text": [
            "/usr/local/lib/python3.6/dist-packages/sklearn/svm/_base.py:231: ConvergenceWarning: Solver terminated early (max_iter=700).  Consider pre-processing your data with StandardScaler or MinMaxScaler.\n",
            "  % self.max_iter, ConvergenceWarning)\n",
            "/usr/local/lib/python3.6/dist-packages/sklearn/svm/_base.py:231: ConvergenceWarning: Solver terminated early (max_iter=700).  Consider pre-processing your data with StandardScaler or MinMaxScaler.\n",
            "  % self.max_iter, ConvergenceWarning)\n",
            "/usr/local/lib/python3.6/dist-packages/sklearn/svm/_base.py:231: ConvergenceWarning: Solver terminated early (max_iter=700).  Consider pre-processing your data with StandardScaler or MinMaxScaler.\n",
            "  % self.max_iter, ConvergenceWarning)\n",
            "/usr/local/lib/python3.6/dist-packages/sklearn/svm/_base.py:231: ConvergenceWarning: Solver terminated early (max_iter=700).  Consider pre-processing your data with StandardScaler or MinMaxScaler.\n",
            "  % self.max_iter, ConvergenceWarning)\n",
            "/usr/local/lib/python3.6/dist-packages/sklearn/svm/_base.py:231: ConvergenceWarning: Solver terminated early (max_iter=700).  Consider pre-processing your data with StandardScaler or MinMaxScaler.\n",
            "  % self.max_iter, ConvergenceWarning)\n",
            "/usr/local/lib/python3.6/dist-packages/sklearn/svm/_base.py:231: ConvergenceWarning: Solver terminated early (max_iter=700).  Consider pre-processing your data with StandardScaler or MinMaxScaler.\n",
            "  % self.max_iter, ConvergenceWarning)\n"
          ],
          "name": "stderr"
        },
        {
          "output_type": "stream",
          "text": [
            "[CV] . C=10, degree=3, gamma=1, kernel=rbf, score=0.877, total=   0.0s\n",
            "[CV] C=10, degree=3, gamma=1, kernel=rbf .............................\n",
            "[CV] . C=10, degree=3, gamma=1, kernel=rbf, score=0.900, total=   0.0s\n",
            "[CV] C=10, degree=3, gamma=1, kernel=rbf .............................\n",
            "[CV] . C=10, degree=3, gamma=1, kernel=rbf, score=0.886, total=   0.1s\n",
            "[CV] C=10, degree=3, gamma=1, kernel=rbf .............................\n",
            "[CV] . C=10, degree=3, gamma=1, kernel=rbf, score=0.900, total=   0.0s\n",
            "[CV] C=10, degree=3, gamma=1, kernel=poly ............................\n",
            "[CV]  C=10, degree=3, gamma=1, kernel=poly, score=1.000, total=   0.0s\n",
            "[CV] C=10, degree=3, gamma=1, kernel=poly ............................\n",
            "[CV]  C=10, degree=3, gamma=1, kernel=poly, score=0.991, total=   0.0s\n",
            "[CV] C=10, degree=3, gamma=1, kernel=poly ............................\n",
            "[CV]  C=10, degree=3, gamma=1, kernel=poly, score=1.000, total=   0.0s\n",
            "[CV] C=10, degree=3, gamma=1, kernel=poly ............................\n",
            "[CV]  C=10, degree=3, gamma=1, kernel=poly, score=1.000, total=   0.0s\n",
            "[CV] C=10, degree=3, gamma=1, kernel=poly ............................\n",
            "[CV]  C=10, degree=3, gamma=1, kernel=poly, score=1.000, total=   0.0s\n",
            "[CV] C=10, degree=3, gamma=0.1, kernel=rbf ...........................\n",
            "[CV]  C=10, degree=3, gamma=0.1, kernel=rbf, score=0.995, total=   0.0s\n",
            "[CV] C=10, degree=3, gamma=0.1, kernel=rbf ...........................\n",
            "[CV]  C=10, degree=3, gamma=0.1, kernel=rbf, score=1.000, total=   0.0s\n",
            "[CV] C=10, degree=3, gamma=0.1, kernel=rbf ...........................\n",
            "[CV]  C=10, degree=3, gamma=0.1, kernel=rbf, score=1.000, total=   0.0s\n",
            "[CV] C=10, degree=3, gamma=0.1, kernel=rbf ...........................\n",
            "[CV]  C=10, degree=3, gamma=0.1, kernel=rbf, score=1.000, total=   0.0s\n",
            "[CV] C=10, degree=3, gamma=0.1, kernel=rbf ...........................\n",
            "[CV]  C=10, degree=3, gamma=0.1, kernel=rbf, score=1.000, total=   0.0s\n",
            "[CV] C=10, degree=3, gamma=0.1, kernel=poly ..........................\n",
            "[CV]  C=10, degree=3, gamma=0.1, kernel=poly, score=1.000, total=   0.0s\n",
            "[CV] C=10, degree=3, gamma=0.1, kernel=poly ..........................\n",
            "[CV]  C=10, degree=3, gamma=0.1, kernel=poly, score=0.991, total=   0.0s\n",
            "[CV] C=10, degree=3, gamma=0.1, kernel=poly ..........................\n",
            "[CV]  C=10, degree=3, gamma=0.1, kernel=poly, score=1.000, total=   0.0s\n",
            "[CV] C=10, degree=3, gamma=0.1, kernel=poly ..........................\n"
          ],
          "name": "stdout"
        },
        {
          "output_type": "stream",
          "text": [
            "/usr/local/lib/python3.6/dist-packages/sklearn/svm/_base.py:231: ConvergenceWarning: Solver terminated early (max_iter=700).  Consider pre-processing your data with StandardScaler or MinMaxScaler.\n",
            "  % self.max_iter, ConvergenceWarning)\n",
            "/usr/local/lib/python3.6/dist-packages/sklearn/svm/_base.py:231: ConvergenceWarning: Solver terminated early (max_iter=700).  Consider pre-processing your data with StandardScaler or MinMaxScaler.\n",
            "  % self.max_iter, ConvergenceWarning)\n",
            "/usr/local/lib/python3.6/dist-packages/sklearn/svm/_base.py:231: ConvergenceWarning: Solver terminated early (max_iter=700).  Consider pre-processing your data with StandardScaler or MinMaxScaler.\n",
            "  % self.max_iter, ConvergenceWarning)\n",
            "/usr/local/lib/python3.6/dist-packages/sklearn/svm/_base.py:231: ConvergenceWarning: Solver terminated early (max_iter=700).  Consider pre-processing your data with StandardScaler or MinMaxScaler.\n",
            "  % self.max_iter, ConvergenceWarning)\n",
            "/usr/local/lib/python3.6/dist-packages/sklearn/svm/_base.py:231: ConvergenceWarning: Solver terminated early (max_iter=700).  Consider pre-processing your data with StandardScaler or MinMaxScaler.\n",
            "  % self.max_iter, ConvergenceWarning)\n"
          ],
          "name": "stderr"
        },
        {
          "output_type": "stream",
          "text": [
            "[CV]  C=10, degree=3, gamma=0.1, kernel=poly, score=1.000, total=   0.0s\n",
            "[CV] C=10, degree=3, gamma=0.1, kernel=poly ..........................\n",
            "[CV]  C=10, degree=3, gamma=0.1, kernel=poly, score=1.000, total=   0.0s\n",
            "[CV] C=10, degree=3, gamma=0.01, kernel=rbf ..........................\n",
            "[CV]  C=10, degree=3, gamma=0.01, kernel=rbf, score=1.000, total=   0.0s\n",
            "[CV] C=10, degree=3, gamma=0.01, kernel=rbf ..........................\n",
            "[CV]  C=10, degree=3, gamma=0.01, kernel=rbf, score=1.000, total=   0.0s\n",
            "[CV] C=10, degree=3, gamma=0.01, kernel=rbf ..........................\n",
            "[CV]  C=10, degree=3, gamma=0.01, kernel=rbf, score=1.000, total=   0.0s\n",
            "[CV] C=10, degree=3, gamma=0.01, kernel=rbf ..........................\n",
            "[CV]  C=10, degree=3, gamma=0.01, kernel=rbf, score=1.000, total=   0.0s\n",
            "[CV] C=10, degree=3, gamma=0.01, kernel=rbf ..........................\n",
            "[CV]  C=10, degree=3, gamma=0.01, kernel=rbf, score=1.000, total=   0.0s\n",
            "[CV] C=10, degree=3, gamma=0.01, kernel=poly .........................\n",
            "[CV]  C=10, degree=3, gamma=0.01, kernel=poly, score=1.000, total=   0.0s\n",
            "[CV] C=10, degree=3, gamma=0.01, kernel=poly .........................\n",
            "[CV]  C=10, degree=3, gamma=0.01, kernel=poly, score=0.991, total=   0.0s\n",
            "[CV] C=10, degree=3, gamma=0.01, kernel=poly .........................\n",
            "[CV]  C=10, degree=3, gamma=0.01, kernel=poly, score=1.000, total=   0.0s\n",
            "[CV] C=10, degree=3, gamma=0.01, kernel=poly .........................\n",
            "[CV]  C=10, degree=3, gamma=0.01, kernel=poly, score=1.000, total=   0.0s\n",
            "[CV] C=10, degree=3, gamma=0.01, kernel=poly .........................\n",
            "[CV]  C=10, degree=3, gamma=0.01, kernel=poly, score=1.000, total=   0.0s\n",
            "[CV] C=10, degree=3, gamma=0.001, kernel=rbf .........................\n",
            "[CV]  C=10, degree=3, gamma=0.001, kernel=rbf, score=1.000, total=   0.0s\n",
            "[CV] C=10, degree=3, gamma=0.001, kernel=rbf .........................\n",
            "[CV]  C=10, degree=3, gamma=0.001, kernel=rbf, score=1.000, total=   0.0s\n",
            "[CV] C=10, degree=3, gamma=0.001, kernel=rbf .........................\n",
            "[CV]  C=10, degree=3, gamma=0.001, kernel=rbf, score=1.000, total=   0.0s\n",
            "[CV] C=10, degree=3, gamma=0.001, kernel=rbf .........................\n",
            "[CV]  C=10, degree=3, gamma=0.001, kernel=rbf, score=1.000, total=   0.0s\n",
            "[CV] C=10, degree=3, gamma=0.001, kernel=rbf .........................\n",
            "[CV]  C=10, degree=3, gamma=0.001, kernel=rbf, score=1.000, total=   0.0s\n",
            "[CV] C=10, degree=3, gamma=0.001, kernel=poly ........................\n"
          ],
          "name": "stdout"
        },
        {
          "output_type": "stream",
          "text": [
            "/usr/local/lib/python3.6/dist-packages/sklearn/svm/_base.py:231: ConvergenceWarning: Solver terminated early (max_iter=700).  Consider pre-processing your data with StandardScaler or MinMaxScaler.\n",
            "  % self.max_iter, ConvergenceWarning)\n"
          ],
          "name": "stderr"
        },
        {
          "output_type": "stream",
          "text": [
            "[CV]  C=10, degree=3, gamma=0.001, kernel=poly, score=0.815, total=   0.0s\n",
            "[CV] C=10, degree=3, gamma=0.001, kernel=poly ........................\n",
            "[CV]  C=10, degree=3, gamma=0.001, kernel=poly, score=0.711, total=   0.0s\n",
            "[CV] C=10, degree=3, gamma=0.001, kernel=poly ........................\n",
            "[CV]  C=10, degree=3, gamma=0.001, kernel=poly, score=0.706, total=   0.0s\n",
            "[CV] C=10, degree=3, gamma=0.001, kernel=poly ........................\n",
            "[CV]  C=10, degree=3, gamma=0.001, kernel=poly, score=0.711, total=   0.0s\n",
            "[CV] C=10, degree=3, gamma=0.001, kernel=poly ........................\n",
            "[CV]  C=10, degree=3, gamma=0.001, kernel=poly, score=0.695, total=   0.0s\n",
            "[CV] C=10, degree=3, gamma=100, kernel=rbf ...........................\n",
            "[CV]  C=10, degree=3, gamma=100, kernel=rbf, score=0.801, total=   0.0s\n",
            "[CV] C=10, degree=3, gamma=100, kernel=rbf ...........................\n",
            "[CV]  C=10, degree=3, gamma=100, kernel=rbf, score=0.744, total=   0.0s\n",
            "[CV] C=10, degree=3, gamma=100, kernel=rbf ...........................\n"
          ],
          "name": "stdout"
        },
        {
          "output_type": "stream",
          "text": [
            "/usr/local/lib/python3.6/dist-packages/sklearn/svm/_base.py:231: ConvergenceWarning: Solver terminated early (max_iter=700).  Consider pre-processing your data with StandardScaler or MinMaxScaler.\n",
            "  % self.max_iter, ConvergenceWarning)\n",
            "/usr/local/lib/python3.6/dist-packages/sklearn/svm/_base.py:231: ConvergenceWarning: Solver terminated early (max_iter=700).  Consider pre-processing your data with StandardScaler or MinMaxScaler.\n",
            "  % self.max_iter, ConvergenceWarning)\n",
            "/usr/local/lib/python3.6/dist-packages/sklearn/svm/_base.py:231: ConvergenceWarning: Solver terminated early (max_iter=700).  Consider pre-processing your data with StandardScaler or MinMaxScaler.\n",
            "  % self.max_iter, ConvergenceWarning)\n",
            "/usr/local/lib/python3.6/dist-packages/sklearn/svm/_base.py:231: ConvergenceWarning: Solver terminated early (max_iter=700).  Consider pre-processing your data with StandardScaler or MinMaxScaler.\n",
            "  % self.max_iter, ConvergenceWarning)\n",
            "/usr/local/lib/python3.6/dist-packages/sklearn/svm/_base.py:231: ConvergenceWarning: Solver terminated early (max_iter=700).  Consider pre-processing your data with StandardScaler or MinMaxScaler.\n",
            "  % self.max_iter, ConvergenceWarning)\n",
            "/usr/local/lib/python3.6/dist-packages/sklearn/svm/_base.py:231: ConvergenceWarning: Solver terminated early (max_iter=700).  Consider pre-processing your data with StandardScaler or MinMaxScaler.\n",
            "  % self.max_iter, ConvergenceWarning)\n"
          ],
          "name": "stderr"
        },
        {
          "output_type": "stream",
          "text": [
            "[CV]  C=10, degree=3, gamma=100, kernel=rbf, score=0.773, total=   0.0s\n",
            "[CV] C=10, degree=3, gamma=100, kernel=rbf ...........................\n",
            "[CV]  C=10, degree=3, gamma=100, kernel=rbf, score=0.782, total=   0.0s\n",
            "[CV] C=10, degree=3, gamma=100, kernel=rbf ...........................\n",
            "[CV]  C=10, degree=3, gamma=100, kernel=rbf, score=0.762, total=   0.0s\n",
            "[CV] C=10, degree=3, gamma=100, kernel=poly ..........................\n",
            "[CV]  C=10, degree=3, gamma=100, kernel=poly, score=1.000, total=   0.0s\n",
            "[CV] C=10, degree=3, gamma=100, kernel=poly ..........................\n",
            "[CV]  C=10, degree=3, gamma=100, kernel=poly, score=0.991, total=   0.0s\n",
            "[CV] C=10, degree=3, gamma=100, kernel=poly ..........................\n",
            "[CV]  C=10, degree=3, gamma=100, kernel=poly, score=1.000, total=   0.0s\n",
            "[CV] C=10, degree=3, gamma=100, kernel=poly ..........................\n",
            "[CV]  C=10, degree=3, gamma=100, kernel=poly, score=1.000, total=   0.0s\n",
            "[CV] C=10, degree=3, gamma=100, kernel=poly ..........................\n",
            "[CV]  C=10, degree=3, gamma=100, kernel=poly, score=1.000, total=   0.0s\n",
            "[CV] C=10, degree=4, gamma=1, kernel=rbf .............................\n",
            "[CV] . C=10, degree=4, gamma=1, kernel=rbf, score=0.905, total=   0.0s\n",
            "[CV] C=10, degree=4, gamma=1, kernel=rbf .............................\n"
          ],
          "name": "stdout"
        },
        {
          "output_type": "stream",
          "text": [
            "/usr/local/lib/python3.6/dist-packages/sklearn/svm/_base.py:231: ConvergenceWarning: Solver terminated early (max_iter=700).  Consider pre-processing your data with StandardScaler or MinMaxScaler.\n",
            "  % self.max_iter, ConvergenceWarning)\n",
            "/usr/local/lib/python3.6/dist-packages/sklearn/svm/_base.py:231: ConvergenceWarning: Solver terminated early (max_iter=700).  Consider pre-processing your data with StandardScaler or MinMaxScaler.\n",
            "  % self.max_iter, ConvergenceWarning)\n",
            "/usr/local/lib/python3.6/dist-packages/sklearn/svm/_base.py:231: ConvergenceWarning: Solver terminated early (max_iter=700).  Consider pre-processing your data with StandardScaler or MinMaxScaler.\n",
            "  % self.max_iter, ConvergenceWarning)\n",
            "/usr/local/lib/python3.6/dist-packages/sklearn/svm/_base.py:231: ConvergenceWarning: Solver terminated early (max_iter=700).  Consider pre-processing your data with StandardScaler or MinMaxScaler.\n",
            "  % self.max_iter, ConvergenceWarning)\n",
            "/usr/local/lib/python3.6/dist-packages/sklearn/svm/_base.py:231: ConvergenceWarning: Solver terminated early (max_iter=700).  Consider pre-processing your data with StandardScaler or MinMaxScaler.\n",
            "  % self.max_iter, ConvergenceWarning)\n"
          ],
          "name": "stderr"
        },
        {
          "output_type": "stream",
          "text": [
            "[CV] . C=10, degree=4, gamma=1, kernel=rbf, score=0.877, total=   0.1s\n",
            "[CV] C=10, degree=4, gamma=1, kernel=rbf .............................\n",
            "[CV] . C=10, degree=4, gamma=1, kernel=rbf, score=0.900, total=   0.0s\n",
            "[CV] C=10, degree=4, gamma=1, kernel=rbf .............................\n",
            "[CV] . C=10, degree=4, gamma=1, kernel=rbf, score=0.886, total=   0.1s\n",
            "[CV] C=10, degree=4, gamma=1, kernel=rbf .............................\n",
            "[CV] . C=10, degree=4, gamma=1, kernel=rbf, score=0.900, total=   0.0s\n",
            "[CV] C=10, degree=4, gamma=1, kernel=poly ............................\n",
            "[CV]  C=10, degree=4, gamma=1, kernel=poly, score=1.000, total=   0.0s\n",
            "[CV] C=10, degree=4, gamma=1, kernel=poly ............................\n",
            "[CV]  C=10, degree=4, gamma=1, kernel=poly, score=0.991, total=   0.0s\n",
            "[CV] C=10, degree=4, gamma=1, kernel=poly ............................\n",
            "[CV]  C=10, degree=4, gamma=1, kernel=poly, score=1.000, total=   0.0s\n",
            "[CV] C=10, degree=4, gamma=1, kernel=poly ............................\n",
            "[CV]  C=10, degree=4, gamma=1, kernel=poly, score=1.000, total=   0.0s\n",
            "[CV] C=10, degree=4, gamma=1, kernel=poly ............................\n",
            "[CV]  C=10, degree=4, gamma=1, kernel=poly, score=1.000, total=   0.0s\n",
            "[CV] C=10, degree=4, gamma=0.1, kernel=rbf ...........................\n",
            "[CV]  C=10, degree=4, gamma=0.1, kernel=rbf, score=0.995, total=   0.0s\n",
            "[CV] C=10, degree=4, gamma=0.1, kernel=rbf ...........................\n",
            "[CV]  C=10, degree=4, gamma=0.1, kernel=rbf, score=1.000, total=   0.0s\n",
            "[CV] C=10, degree=4, gamma=0.1, kernel=rbf ...........................\n",
            "[CV]  C=10, degree=4, gamma=0.1, kernel=rbf, score=1.000, total=   0.0s\n",
            "[CV] C=10, degree=4, gamma=0.1, kernel=rbf ...........................\n",
            "[CV]  C=10, degree=4, gamma=0.1, kernel=rbf, score=1.000, total=   0.0s\n",
            "[CV] C=10, degree=4, gamma=0.1, kernel=rbf ...........................\n",
            "[CV]  C=10, degree=4, gamma=0.1, kernel=rbf, score=1.000, total=   0.0s\n",
            "[CV] C=10, degree=4, gamma=0.1, kernel=poly ..........................\n",
            "[CV]  C=10, degree=4, gamma=0.1, kernel=poly, score=1.000, total=   0.0s\n",
            "[CV] C=10, degree=4, gamma=0.1, kernel=poly ..........................\n",
            "[CV]  C=10, degree=4, gamma=0.1, kernel=poly, score=0.991, total=   0.0s\n",
            "[CV] C=10, degree=4, gamma=0.1, kernel=poly ..........................\n",
            "[CV]  C=10, degree=4, gamma=0.1, kernel=poly, score=1.000, total=   0.0s\n",
            "[CV] C=10, degree=4, gamma=0.1, kernel=poly ..........................\n",
            "[CV]  C=10, degree=4, gamma=0.1, kernel=poly, score=1.000, total=   0.0s\n",
            "[CV] C=10, degree=4, gamma=0.1, kernel=poly ..........................\n"
          ],
          "name": "stdout"
        },
        {
          "output_type": "stream",
          "text": [
            "/usr/local/lib/python3.6/dist-packages/sklearn/svm/_base.py:231: ConvergenceWarning: Solver terminated early (max_iter=700).  Consider pre-processing your data with StandardScaler or MinMaxScaler.\n",
            "  % self.max_iter, ConvergenceWarning)\n",
            "/usr/local/lib/python3.6/dist-packages/sklearn/svm/_base.py:231: ConvergenceWarning: Solver terminated early (max_iter=700).  Consider pre-processing your data with StandardScaler or MinMaxScaler.\n",
            "  % self.max_iter, ConvergenceWarning)\n",
            "/usr/local/lib/python3.6/dist-packages/sklearn/svm/_base.py:231: ConvergenceWarning: Solver terminated early (max_iter=700).  Consider pre-processing your data with StandardScaler or MinMaxScaler.\n",
            "  % self.max_iter, ConvergenceWarning)\n"
          ],
          "name": "stderr"
        },
        {
          "output_type": "stream",
          "text": [
            "[CV]  C=10, degree=4, gamma=0.1, kernel=poly, score=1.000, total=   0.0s\n",
            "[CV] C=10, degree=4, gamma=0.01, kernel=rbf ..........................\n",
            "[CV]  C=10, degree=4, gamma=0.01, kernel=rbf, score=1.000, total=   0.0s\n",
            "[CV] C=10, degree=4, gamma=0.01, kernel=rbf ..........................\n",
            "[CV]  C=10, degree=4, gamma=0.01, kernel=rbf, score=1.000, total=   0.0s\n",
            "[CV] C=10, degree=4, gamma=0.01, kernel=rbf ..........................\n",
            "[CV]  C=10, degree=4, gamma=0.01, kernel=rbf, score=1.000, total=   0.0s\n",
            "[CV] C=10, degree=4, gamma=0.01, kernel=rbf ..........................\n",
            "[CV]  C=10, degree=4, gamma=0.01, kernel=rbf, score=1.000, total=   0.0s\n",
            "[CV] C=10, degree=4, gamma=0.01, kernel=rbf ..........................\n",
            "[CV]  C=10, degree=4, gamma=0.01, kernel=rbf, score=1.000, total=   0.0s\n",
            "[CV] C=10, degree=4, gamma=0.01, kernel=poly .........................\n",
            "[CV]  C=10, degree=4, gamma=0.01, kernel=poly, score=1.000, total=   0.0s\n",
            "[CV] C=10, degree=4, gamma=0.01, kernel=poly .........................\n",
            "[CV]  C=10, degree=4, gamma=0.01, kernel=poly, score=0.991, total=   0.0s\n",
            "[CV] C=10, degree=4, gamma=0.01, kernel=poly .........................\n",
            "[CV]  C=10, degree=4, gamma=0.01, kernel=poly, score=1.000, total=   0.0s\n",
            "[CV] C=10, degree=4, gamma=0.01, kernel=poly .........................\n",
            "[CV]  C=10, degree=4, gamma=0.01, kernel=poly, score=1.000, total=   0.0s\n",
            "[CV] C=10, degree=4, gamma=0.01, kernel=poly .........................\n",
            "[CV]  C=10, degree=4, gamma=0.01, kernel=poly, score=1.000, total=   0.0s\n",
            "[CV] C=10, degree=4, gamma=0.001, kernel=rbf .........................\n",
            "[CV]  C=10, degree=4, gamma=0.001, kernel=rbf, score=1.000, total=   0.0s\n",
            "[CV] C=10, degree=4, gamma=0.001, kernel=rbf .........................\n",
            "[CV]  C=10, degree=4, gamma=0.001, kernel=rbf, score=1.000, total=   0.0s\n",
            "[CV] C=10, degree=4, gamma=0.001, kernel=rbf .........................\n",
            "[CV]  C=10, degree=4, gamma=0.001, kernel=rbf, score=1.000, total=   0.0s\n",
            "[CV] C=10, degree=4, gamma=0.001, kernel=rbf .........................\n",
            "[CV]  C=10, degree=4, gamma=0.001, kernel=rbf, score=1.000, total=   0.0s\n",
            "[CV] C=10, degree=4, gamma=0.001, kernel=rbf .........................\n",
            "[CV]  C=10, degree=4, gamma=0.001, kernel=rbf, score=1.000, total=   0.0s\n",
            "[CV] C=10, degree=4, gamma=0.001, kernel=poly ........................\n"
          ],
          "name": "stdout"
        },
        {
          "output_type": "stream",
          "text": [
            "/usr/local/lib/python3.6/dist-packages/sklearn/svm/_base.py:231: ConvergenceWarning: Solver terminated early (max_iter=700).  Consider pre-processing your data with StandardScaler or MinMaxScaler.\n",
            "  % self.max_iter, ConvergenceWarning)\n"
          ],
          "name": "stderr"
        },
        {
          "output_type": "stream",
          "text": [
            "[CV]  C=10, degree=4, gamma=0.001, kernel=poly, score=0.735, total=   0.0s\n",
            "[CV] C=10, degree=4, gamma=0.001, kernel=poly ........................\n",
            "[CV]  C=10, degree=4, gamma=0.001, kernel=poly, score=0.678, total=   0.0s\n",
            "[CV] C=10, degree=4, gamma=0.001, kernel=poly ........................\n",
            "[CV]  C=10, degree=4, gamma=0.001, kernel=poly, score=0.682, total=   0.0s\n",
            "[CV] C=10, degree=4, gamma=0.001, kernel=poly ........................\n",
            "[CV]  C=10, degree=4, gamma=0.001, kernel=poly, score=0.673, total=   0.0s\n",
            "[CV] C=10, degree=4, gamma=0.001, kernel=poly ........................\n",
            "[CV]  C=10, degree=4, gamma=0.001, kernel=poly, score=0.686, total=   0.0s\n",
            "[CV] C=10, degree=4, gamma=100, kernel=rbf ...........................\n",
            "[CV]  C=10, degree=4, gamma=100, kernel=rbf, score=0.801, total=   0.0s\n",
            "[CV] C=10, degree=4, gamma=100, kernel=rbf ...........................\n",
            "[CV]  C=10, degree=4, gamma=100, kernel=rbf, score=0.744, total=   0.0s\n",
            "[CV] C=10, degree=4, gamma=100, kernel=rbf ...........................\n"
          ],
          "name": "stdout"
        },
        {
          "output_type": "stream",
          "text": [
            "/usr/local/lib/python3.6/dist-packages/sklearn/svm/_base.py:231: ConvergenceWarning: Solver terminated early (max_iter=700).  Consider pre-processing your data with StandardScaler or MinMaxScaler.\n",
            "  % self.max_iter, ConvergenceWarning)\n",
            "/usr/local/lib/python3.6/dist-packages/sklearn/svm/_base.py:231: ConvergenceWarning: Solver terminated early (max_iter=700).  Consider pre-processing your data with StandardScaler or MinMaxScaler.\n",
            "  % self.max_iter, ConvergenceWarning)\n",
            "/usr/local/lib/python3.6/dist-packages/sklearn/svm/_base.py:231: ConvergenceWarning: Solver terminated early (max_iter=700).  Consider pre-processing your data with StandardScaler or MinMaxScaler.\n",
            "  % self.max_iter, ConvergenceWarning)\n",
            "/usr/local/lib/python3.6/dist-packages/sklearn/svm/_base.py:231: ConvergenceWarning: Solver terminated early (max_iter=700).  Consider pre-processing your data with StandardScaler or MinMaxScaler.\n",
            "  % self.max_iter, ConvergenceWarning)\n",
            "/usr/local/lib/python3.6/dist-packages/sklearn/svm/_base.py:231: ConvergenceWarning: Solver terminated early (max_iter=700).  Consider pre-processing your data with StandardScaler or MinMaxScaler.\n",
            "  % self.max_iter, ConvergenceWarning)\n"
          ],
          "name": "stderr"
        },
        {
          "output_type": "stream",
          "text": [
            "[CV]  C=10, degree=4, gamma=100, kernel=rbf, score=0.773, total=   0.0s\n",
            "[CV] C=10, degree=4, gamma=100, kernel=rbf ...........................\n",
            "[CV]  C=10, degree=4, gamma=100, kernel=rbf, score=0.782, total=   0.0s\n",
            "[CV] C=10, degree=4, gamma=100, kernel=rbf ...........................\n",
            "[CV]  C=10, degree=4, gamma=100, kernel=rbf, score=0.762, total=   0.0s\n",
            "[CV] C=10, degree=4, gamma=100, kernel=poly ..........................\n",
            "[CV]  C=10, degree=4, gamma=100, kernel=poly, score=1.000, total=   0.0s\n",
            "[CV] C=10, degree=4, gamma=100, kernel=poly ..........................\n",
            "[CV]  C=10, degree=4, gamma=100, kernel=poly, score=0.991, total=   0.0s\n",
            "[CV] C=10, degree=4, gamma=100, kernel=poly ..........................\n",
            "[CV]  C=10, degree=4, gamma=100, kernel=poly, score=1.000, total=   0.0s\n",
            "[CV] C=10, degree=4, gamma=100, kernel=poly ..........................\n",
            "[CV]  C=10, degree=4, gamma=100, kernel=poly, score=1.000, total=   0.0s\n",
            "[CV] C=10, degree=4, gamma=100, kernel=poly ..........................\n",
            "[CV]  C=10, degree=4, gamma=100, kernel=poly, score=1.000, total=   0.0s\n",
            "[CV] C=100, degree=2, gamma=1, kernel=rbf ............................\n",
            "[CV]  C=100, degree=2, gamma=1, kernel=rbf, score=0.905, total=   0.0s\n",
            "[CV] C=100, degree=2, gamma=1, kernel=rbf ............................\n",
            "[CV]  C=100, degree=2, gamma=1, kernel=rbf, score=0.877, total=   0.1s\n",
            "[CV] C=100, degree=2, gamma=1, kernel=rbf ............................\n",
            "[CV]  C=100, degree=2, gamma=1, kernel=rbf, score=0.900, total=   0.0s\n",
            "[CV] C=100, degree=2, gamma=1, kernel=rbf ............................\n"
          ],
          "name": "stdout"
        },
        {
          "output_type": "stream",
          "text": [
            "/usr/local/lib/python3.6/dist-packages/sklearn/svm/_base.py:231: ConvergenceWarning: Solver terminated early (max_iter=700).  Consider pre-processing your data with StandardScaler or MinMaxScaler.\n",
            "  % self.max_iter, ConvergenceWarning)\n",
            "/usr/local/lib/python3.6/dist-packages/sklearn/svm/_base.py:231: ConvergenceWarning: Solver terminated early (max_iter=700).  Consider pre-processing your data with StandardScaler or MinMaxScaler.\n",
            "  % self.max_iter, ConvergenceWarning)\n",
            "/usr/local/lib/python3.6/dist-packages/sklearn/svm/_base.py:231: ConvergenceWarning: Solver terminated early (max_iter=700).  Consider pre-processing your data with StandardScaler or MinMaxScaler.\n",
            "  % self.max_iter, ConvergenceWarning)\n",
            "/usr/local/lib/python3.6/dist-packages/sklearn/svm/_base.py:231: ConvergenceWarning: Solver terminated early (max_iter=700).  Consider pre-processing your data with StandardScaler or MinMaxScaler.\n",
            "  % self.max_iter, ConvergenceWarning)\n"
          ],
          "name": "stderr"
        },
        {
          "output_type": "stream",
          "text": [
            "[CV]  C=100, degree=2, gamma=1, kernel=rbf, score=0.886, total=   0.1s\n",
            "[CV] C=100, degree=2, gamma=1, kernel=rbf ............................\n",
            "[CV]  C=100, degree=2, gamma=1, kernel=rbf, score=0.900, total=   0.1s\n",
            "[CV] C=100, degree=2, gamma=1, kernel=poly ...........................\n",
            "[CV]  C=100, degree=2, gamma=1, kernel=poly, score=1.000, total=   0.0s\n",
            "[CV] C=100, degree=2, gamma=1, kernel=poly ...........................\n",
            "[CV]  C=100, degree=2, gamma=1, kernel=poly, score=1.000, total=   0.0s\n",
            "[CV] C=100, degree=2, gamma=1, kernel=poly ...........................\n",
            "[CV]  C=100, degree=2, gamma=1, kernel=poly, score=1.000, total=   0.0s\n",
            "[CV] C=100, degree=2, gamma=1, kernel=poly ...........................\n",
            "[CV]  C=100, degree=2, gamma=1, kernel=poly, score=1.000, total=   0.0s\n",
            "[CV] C=100, degree=2, gamma=1, kernel=poly ...........................\n",
            "[CV]  C=100, degree=2, gamma=1, kernel=poly, score=1.000, total=   0.0s\n",
            "[CV] C=100, degree=2, gamma=0.1, kernel=rbf ..........................\n",
            "[CV]  C=100, degree=2, gamma=0.1, kernel=rbf, score=0.995, total=   0.0s\n",
            "[CV] C=100, degree=2, gamma=0.1, kernel=rbf ..........................\n",
            "[CV]  C=100, degree=2, gamma=0.1, kernel=rbf, score=1.000, total=   0.0s\n",
            "[CV] C=100, degree=2, gamma=0.1, kernel=rbf ..........................\n",
            "[CV]  C=100, degree=2, gamma=0.1, kernel=rbf, score=1.000, total=   0.0s\n",
            "[CV] C=100, degree=2, gamma=0.1, kernel=rbf ..........................\n",
            "[CV]  C=100, degree=2, gamma=0.1, kernel=rbf, score=1.000, total=   0.0s\n",
            "[CV] C=100, degree=2, gamma=0.1, kernel=rbf ..........................\n",
            "[CV]  C=100, degree=2, gamma=0.1, kernel=rbf, score=1.000, total=   0.0s\n",
            "[CV] C=100, degree=2, gamma=0.1, kernel=poly .........................\n",
            "[CV]  C=100, degree=2, gamma=0.1, kernel=poly, score=1.000, total=   0.0s\n",
            "[CV] C=100, degree=2, gamma=0.1, kernel=poly .........................\n",
            "[CV]  C=100, degree=2, gamma=0.1, kernel=poly, score=1.000, total=   0.0s\n",
            "[CV] C=100, degree=2, gamma=0.1, kernel=poly .........................\n"
          ],
          "name": "stdout"
        },
        {
          "output_type": "stream",
          "text": [
            "/usr/local/lib/python3.6/dist-packages/sklearn/svm/_base.py:231: ConvergenceWarning: Solver terminated early (max_iter=700).  Consider pre-processing your data with StandardScaler or MinMaxScaler.\n",
            "  % self.max_iter, ConvergenceWarning)\n",
            "/usr/local/lib/python3.6/dist-packages/sklearn/svm/_base.py:231: ConvergenceWarning: Solver terminated early (max_iter=700).  Consider pre-processing your data with StandardScaler or MinMaxScaler.\n",
            "  % self.max_iter, ConvergenceWarning)\n",
            "/usr/local/lib/python3.6/dist-packages/sklearn/svm/_base.py:231: ConvergenceWarning: Solver terminated early (max_iter=700).  Consider pre-processing your data with StandardScaler or MinMaxScaler.\n",
            "  % self.max_iter, ConvergenceWarning)\n",
            "/usr/local/lib/python3.6/dist-packages/sklearn/svm/_base.py:231: ConvergenceWarning: Solver terminated early (max_iter=700).  Consider pre-processing your data with StandardScaler or MinMaxScaler.\n",
            "  % self.max_iter, ConvergenceWarning)\n",
            "/usr/local/lib/python3.6/dist-packages/sklearn/svm/_base.py:231: ConvergenceWarning: Solver terminated early (max_iter=700).  Consider pre-processing your data with StandardScaler or MinMaxScaler.\n",
            "  % self.max_iter, ConvergenceWarning)\n",
            "/usr/local/lib/python3.6/dist-packages/sklearn/svm/_base.py:231: ConvergenceWarning: Solver terminated early (max_iter=700).  Consider pre-processing your data with StandardScaler or MinMaxScaler.\n",
            "  % self.max_iter, ConvergenceWarning)\n",
            "/usr/local/lib/python3.6/dist-packages/sklearn/svm/_base.py:231: ConvergenceWarning: Solver terminated early (max_iter=700).  Consider pre-processing your data with StandardScaler or MinMaxScaler.\n",
            "  % self.max_iter, ConvergenceWarning)\n",
            "/usr/local/lib/python3.6/dist-packages/sklearn/svm/_base.py:231: ConvergenceWarning: Solver terminated early (max_iter=700).  Consider pre-processing your data with StandardScaler or MinMaxScaler.\n",
            "  % self.max_iter, ConvergenceWarning)\n",
            "/usr/local/lib/python3.6/dist-packages/sklearn/svm/_base.py:231: ConvergenceWarning: Solver terminated early (max_iter=700).  Consider pre-processing your data with StandardScaler or MinMaxScaler.\n",
            "  % self.max_iter, ConvergenceWarning)\n"
          ],
          "name": "stderr"
        },
        {
          "output_type": "stream",
          "text": [
            "[CV]  C=100, degree=2, gamma=0.1, kernel=poly, score=1.000, total=   0.0s\n",
            "[CV] C=100, degree=2, gamma=0.1, kernel=poly .........................\n",
            "[CV]  C=100, degree=2, gamma=0.1, kernel=poly, score=1.000, total=   0.0s\n",
            "[CV] C=100, degree=2, gamma=0.1, kernel=poly .........................\n",
            "[CV]  C=100, degree=2, gamma=0.1, kernel=poly, score=1.000, total=   0.0s\n",
            "[CV] C=100, degree=2, gamma=0.01, kernel=rbf .........................\n",
            "[CV]  C=100, degree=2, gamma=0.01, kernel=rbf, score=1.000, total=   0.0s\n",
            "[CV] C=100, degree=2, gamma=0.01, kernel=rbf .........................\n",
            "[CV]  C=100, degree=2, gamma=0.01, kernel=rbf, score=1.000, total=   0.0s\n",
            "[CV] C=100, degree=2, gamma=0.01, kernel=rbf .........................\n",
            "[CV]  C=100, degree=2, gamma=0.01, kernel=rbf, score=1.000, total=   0.0s\n",
            "[CV] C=100, degree=2, gamma=0.01, kernel=rbf .........................\n",
            "[CV]  C=100, degree=2, gamma=0.01, kernel=rbf, score=1.000, total=   0.0s\n",
            "[CV] C=100, degree=2, gamma=0.01, kernel=rbf .........................\n",
            "[CV]  C=100, degree=2, gamma=0.01, kernel=rbf, score=1.000, total=   0.0s\n",
            "[CV] C=100, degree=2, gamma=0.01, kernel=poly ........................\n",
            "[CV]  C=100, degree=2, gamma=0.01, kernel=poly, score=1.000, total=   0.0s\n",
            "[CV] C=100, degree=2, gamma=0.01, kernel=poly ........................\n",
            "[CV]  C=100, degree=2, gamma=0.01, kernel=poly, score=1.000, total=   0.0s\n",
            "[CV] C=100, degree=2, gamma=0.01, kernel=poly ........................\n",
            "[CV]  C=100, degree=2, gamma=0.01, kernel=poly, score=1.000, total=   0.0s\n",
            "[CV] C=100, degree=2, gamma=0.01, kernel=poly ........................\n",
            "[CV]  C=100, degree=2, gamma=0.01, kernel=poly, score=1.000, total=   0.0s\n",
            "[CV] C=100, degree=2, gamma=0.01, kernel=poly ........................\n",
            "[CV]  C=100, degree=2, gamma=0.01, kernel=poly, score=1.000, total=   0.0s\n",
            "[CV] C=100, degree=2, gamma=0.001, kernel=rbf ........................\n",
            "[CV]  C=100, degree=2, gamma=0.001, kernel=rbf, score=1.000, total=   0.0s\n",
            "[CV] C=100, degree=2, gamma=0.001, kernel=rbf ........................\n",
            "[CV]  C=100, degree=2, gamma=0.001, kernel=rbf, score=1.000, total=   0.0s\n",
            "[CV] C=100, degree=2, gamma=0.001, kernel=rbf ........................\n",
            "[CV]  C=100, degree=2, gamma=0.001, kernel=rbf, score=1.000, total=   0.0s\n",
            "[CV] C=100, degree=2, gamma=0.001, kernel=rbf ........................\n",
            "[CV]  C=100, degree=2, gamma=0.001, kernel=rbf, score=1.000, total=   0.0s\n",
            "[CV] C=100, degree=2, gamma=0.001, kernel=rbf ........................\n",
            "[CV]  C=100, degree=2, gamma=0.001, kernel=rbf, score=1.000, total=   0.0s\n",
            "[CV] C=100, degree=2, gamma=0.001, kernel=poly .......................\n"
          ],
          "name": "stdout"
        },
        {
          "output_type": "stream",
          "text": [
            "/usr/local/lib/python3.6/dist-packages/sklearn/svm/_base.py:231: ConvergenceWarning: Solver terminated early (max_iter=700).  Consider pre-processing your data with StandardScaler or MinMaxScaler.\n",
            "  % self.max_iter, ConvergenceWarning)\n",
            "/usr/local/lib/python3.6/dist-packages/sklearn/svm/_base.py:231: ConvergenceWarning: Solver terminated early (max_iter=700).  Consider pre-processing your data with StandardScaler or MinMaxScaler.\n",
            "  % self.max_iter, ConvergenceWarning)\n",
            "/usr/local/lib/python3.6/dist-packages/sklearn/svm/_base.py:231: ConvergenceWarning: Solver terminated early (max_iter=700).  Consider pre-processing your data with StandardScaler or MinMaxScaler.\n",
            "  % self.max_iter, ConvergenceWarning)\n",
            "/usr/local/lib/python3.6/dist-packages/sklearn/svm/_base.py:231: ConvergenceWarning: Solver terminated early (max_iter=700).  Consider pre-processing your data with StandardScaler or MinMaxScaler.\n",
            "  % self.max_iter, ConvergenceWarning)\n",
            "/usr/local/lib/python3.6/dist-packages/sklearn/svm/_base.py:231: ConvergenceWarning: Solver terminated early (max_iter=700).  Consider pre-processing your data with StandardScaler or MinMaxScaler.\n",
            "  % self.max_iter, ConvergenceWarning)\n",
            "/usr/local/lib/python3.6/dist-packages/sklearn/svm/_base.py:231: ConvergenceWarning: Solver terminated early (max_iter=700).  Consider pre-processing your data with StandardScaler or MinMaxScaler.\n",
            "  % self.max_iter, ConvergenceWarning)\n",
            "/usr/local/lib/python3.6/dist-packages/sklearn/svm/_base.py:231: ConvergenceWarning: Solver terminated early (max_iter=700).  Consider pre-processing your data with StandardScaler or MinMaxScaler.\n",
            "  % self.max_iter, ConvergenceWarning)\n",
            "/usr/local/lib/python3.6/dist-packages/sklearn/svm/_base.py:231: ConvergenceWarning: Solver terminated early (max_iter=700).  Consider pre-processing your data with StandardScaler or MinMaxScaler.\n",
            "  % self.max_iter, ConvergenceWarning)\n",
            "/usr/local/lib/python3.6/dist-packages/sklearn/svm/_base.py:231: ConvergenceWarning: Solver terminated early (max_iter=700).  Consider pre-processing your data with StandardScaler or MinMaxScaler.\n",
            "  % self.max_iter, ConvergenceWarning)\n",
            "/usr/local/lib/python3.6/dist-packages/sklearn/svm/_base.py:231: ConvergenceWarning: Solver terminated early (max_iter=700).  Consider pre-processing your data with StandardScaler or MinMaxScaler.\n",
            "  % self.max_iter, ConvergenceWarning)\n"
          ],
          "name": "stderr"
        },
        {
          "output_type": "stream",
          "text": [
            "[CV]  C=100, degree=2, gamma=0.001, kernel=poly, score=1.000, total=   0.0s\n",
            "[CV] C=100, degree=2, gamma=0.001, kernel=poly .......................\n",
            "[CV]  C=100, degree=2, gamma=0.001, kernel=poly, score=1.000, total=   0.0s\n",
            "[CV] C=100, degree=2, gamma=0.001, kernel=poly .......................\n",
            "[CV]  C=100, degree=2, gamma=0.001, kernel=poly, score=1.000, total=   0.0s\n",
            "[CV] C=100, degree=2, gamma=0.001, kernel=poly .......................\n",
            "[CV]  C=100, degree=2, gamma=0.001, kernel=poly, score=1.000, total=   0.0s\n",
            "[CV] C=100, degree=2, gamma=0.001, kernel=poly .......................\n",
            "[CV]  C=100, degree=2, gamma=0.001, kernel=poly, score=1.000, total=   0.0s\n",
            "[CV] C=100, degree=2, gamma=100, kernel=rbf ..........................\n",
            "[CV]  C=100, degree=2, gamma=100, kernel=rbf, score=0.801, total=   0.1s\n",
            "[CV] C=100, degree=2, gamma=100, kernel=rbf ..........................\n",
            "[CV]  C=100, degree=2, gamma=100, kernel=rbf, score=0.744, total=   0.0s\n",
            "[CV] C=100, degree=2, gamma=100, kernel=rbf ..........................\n",
            "[CV]  C=100, degree=2, gamma=100, kernel=rbf, score=0.773, total=   0.0s\n",
            "[CV] C=100, degree=2, gamma=100, kernel=rbf ..........................\n"
          ],
          "name": "stdout"
        },
        {
          "output_type": "stream",
          "text": [
            "/usr/local/lib/python3.6/dist-packages/sklearn/svm/_base.py:231: ConvergenceWarning: Solver terminated early (max_iter=700).  Consider pre-processing your data with StandardScaler or MinMaxScaler.\n",
            "  % self.max_iter, ConvergenceWarning)\n",
            "/usr/local/lib/python3.6/dist-packages/sklearn/svm/_base.py:231: ConvergenceWarning: Solver terminated early (max_iter=700).  Consider pre-processing your data with StandardScaler or MinMaxScaler.\n",
            "  % self.max_iter, ConvergenceWarning)\n",
            "/usr/local/lib/python3.6/dist-packages/sklearn/svm/_base.py:231: ConvergenceWarning: Solver terminated early (max_iter=700).  Consider pre-processing your data with StandardScaler or MinMaxScaler.\n",
            "  % self.max_iter, ConvergenceWarning)\n",
            "/usr/local/lib/python3.6/dist-packages/sklearn/svm/_base.py:231: ConvergenceWarning: Solver terminated early (max_iter=700).  Consider pre-processing your data with StandardScaler or MinMaxScaler.\n",
            "  % self.max_iter, ConvergenceWarning)\n",
            "/usr/local/lib/python3.6/dist-packages/sklearn/svm/_base.py:231: ConvergenceWarning: Solver terminated early (max_iter=700).  Consider pre-processing your data with StandardScaler or MinMaxScaler.\n",
            "  % self.max_iter, ConvergenceWarning)\n",
            "/usr/local/lib/python3.6/dist-packages/sklearn/svm/_base.py:231: ConvergenceWarning: Solver terminated early (max_iter=700).  Consider pre-processing your data with StandardScaler or MinMaxScaler.\n",
            "  % self.max_iter, ConvergenceWarning)\n",
            "/usr/local/lib/python3.6/dist-packages/sklearn/svm/_base.py:231: ConvergenceWarning: Solver terminated early (max_iter=700).  Consider pre-processing your data with StandardScaler or MinMaxScaler.\n",
            "  % self.max_iter, ConvergenceWarning)\n",
            "/usr/local/lib/python3.6/dist-packages/sklearn/svm/_base.py:231: ConvergenceWarning: Solver terminated early (max_iter=700).  Consider pre-processing your data with StandardScaler or MinMaxScaler.\n",
            "  % self.max_iter, ConvergenceWarning)\n"
          ],
          "name": "stderr"
        },
        {
          "output_type": "stream",
          "text": [
            "[CV]  C=100, degree=2, gamma=100, kernel=rbf, score=0.782, total=   0.0s\n",
            "[CV] C=100, degree=2, gamma=100, kernel=rbf ..........................\n",
            "[CV]  C=100, degree=2, gamma=100, kernel=rbf, score=0.762, total=   0.0s\n",
            "[CV] C=100, degree=2, gamma=100, kernel=poly .........................\n",
            "[CV]  C=100, degree=2, gamma=100, kernel=poly, score=1.000, total=   0.0s\n",
            "[CV] C=100, degree=2, gamma=100, kernel=poly .........................\n",
            "[CV]  C=100, degree=2, gamma=100, kernel=poly, score=1.000, total=   0.0s\n",
            "[CV] C=100, degree=2, gamma=100, kernel=poly .........................\n",
            "[CV]  C=100, degree=2, gamma=100, kernel=poly, score=1.000, total=   0.0s\n",
            "[CV] C=100, degree=2, gamma=100, kernel=poly .........................\n",
            "[CV]  C=100, degree=2, gamma=100, kernel=poly, score=1.000, total=   0.0s\n",
            "[CV] C=100, degree=2, gamma=100, kernel=poly .........................\n",
            "[CV]  C=100, degree=2, gamma=100, kernel=poly, score=1.000, total=   0.0s\n",
            "[CV] C=100, degree=3, gamma=1, kernel=rbf ............................\n",
            "[CV]  C=100, degree=3, gamma=1, kernel=rbf, score=0.905, total=   0.1s\n",
            "[CV] C=100, degree=3, gamma=1, kernel=rbf ............................\n",
            "[CV]  C=100, degree=3, gamma=1, kernel=rbf, score=0.877, total=   0.0s\n",
            "[CV] C=100, degree=3, gamma=1, kernel=rbf ............................\n"
          ],
          "name": "stdout"
        },
        {
          "output_type": "stream",
          "text": [
            "/usr/local/lib/python3.6/dist-packages/sklearn/svm/_base.py:231: ConvergenceWarning: Solver terminated early (max_iter=700).  Consider pre-processing your data with StandardScaler or MinMaxScaler.\n",
            "  % self.max_iter, ConvergenceWarning)\n",
            "/usr/local/lib/python3.6/dist-packages/sklearn/svm/_base.py:231: ConvergenceWarning: Solver terminated early (max_iter=700).  Consider pre-processing your data with StandardScaler or MinMaxScaler.\n",
            "  % self.max_iter, ConvergenceWarning)\n",
            "/usr/local/lib/python3.6/dist-packages/sklearn/svm/_base.py:231: ConvergenceWarning: Solver terminated early (max_iter=700).  Consider pre-processing your data with StandardScaler or MinMaxScaler.\n",
            "  % self.max_iter, ConvergenceWarning)\n",
            "/usr/local/lib/python3.6/dist-packages/sklearn/svm/_base.py:231: ConvergenceWarning: Solver terminated early (max_iter=700).  Consider pre-processing your data with StandardScaler or MinMaxScaler.\n",
            "  % self.max_iter, ConvergenceWarning)\n",
            "/usr/local/lib/python3.6/dist-packages/sklearn/svm/_base.py:231: ConvergenceWarning: Solver terminated early (max_iter=700).  Consider pre-processing your data with StandardScaler or MinMaxScaler.\n",
            "  % self.max_iter, ConvergenceWarning)\n"
          ],
          "name": "stderr"
        },
        {
          "output_type": "stream",
          "text": [
            "[CV]  C=100, degree=3, gamma=1, kernel=rbf, score=0.900, total=   0.0s\n",
            "[CV] C=100, degree=3, gamma=1, kernel=rbf ............................\n",
            "[CV]  C=100, degree=3, gamma=1, kernel=rbf, score=0.886, total=   0.0s\n",
            "[CV] C=100, degree=3, gamma=1, kernel=rbf ............................\n",
            "[CV]  C=100, degree=3, gamma=1, kernel=rbf, score=0.900, total=   0.0s\n",
            "[CV] C=100, degree=3, gamma=1, kernel=poly ...........................\n",
            "[CV]  C=100, degree=3, gamma=1, kernel=poly, score=1.000, total=   0.0s\n",
            "[CV] C=100, degree=3, gamma=1, kernel=poly ...........................\n",
            "[CV]  C=100, degree=3, gamma=1, kernel=poly, score=0.991, total=   0.0s\n",
            "[CV] C=100, degree=3, gamma=1, kernel=poly ...........................\n",
            "[CV]  C=100, degree=3, gamma=1, kernel=poly, score=1.000, total=   0.0s\n",
            "[CV] C=100, degree=3, gamma=1, kernel=poly ...........................\n",
            "[CV]  C=100, degree=3, gamma=1, kernel=poly, score=1.000, total=   0.0s\n",
            "[CV] C=100, degree=3, gamma=1, kernel=poly ...........................\n",
            "[CV]  C=100, degree=3, gamma=1, kernel=poly, score=1.000, total=   0.0s\n",
            "[CV] C=100, degree=3, gamma=0.1, kernel=rbf ..........................\n",
            "[CV]  C=100, degree=3, gamma=0.1, kernel=rbf, score=0.995, total=   0.0s\n",
            "[CV] C=100, degree=3, gamma=0.1, kernel=rbf ..........................\n",
            "[CV]  C=100, degree=3, gamma=0.1, kernel=rbf, score=1.000, total=   0.0s\n",
            "[CV] C=100, degree=3, gamma=0.1, kernel=rbf ..........................\n",
            "[CV]  C=100, degree=3, gamma=0.1, kernel=rbf, score=1.000, total=   0.0s\n",
            "[CV] C=100, degree=3, gamma=0.1, kernel=rbf ..........................\n"
          ],
          "name": "stdout"
        },
        {
          "output_type": "stream",
          "text": [
            "/usr/local/lib/python3.6/dist-packages/sklearn/svm/_base.py:231: ConvergenceWarning: Solver terminated early (max_iter=700).  Consider pre-processing your data with StandardScaler or MinMaxScaler.\n",
            "  % self.max_iter, ConvergenceWarning)\n",
            "/usr/local/lib/python3.6/dist-packages/sklearn/svm/_base.py:231: ConvergenceWarning: Solver terminated early (max_iter=700).  Consider pre-processing your data with StandardScaler or MinMaxScaler.\n",
            "  % self.max_iter, ConvergenceWarning)\n"
          ],
          "name": "stderr"
        },
        {
          "output_type": "stream",
          "text": [
            "[CV]  C=100, degree=3, gamma=0.1, kernel=rbf, score=1.000, total=   0.0s\n",
            "[CV] C=100, degree=3, gamma=0.1, kernel=rbf ..........................\n",
            "[CV]  C=100, degree=3, gamma=0.1, kernel=rbf, score=1.000, total=   0.0s\n",
            "[CV] C=100, degree=3, gamma=0.1, kernel=poly .........................\n",
            "[CV]  C=100, degree=3, gamma=0.1, kernel=poly, score=1.000, total=   0.0s\n",
            "[CV] C=100, degree=3, gamma=0.1, kernel=poly .........................\n",
            "[CV]  C=100, degree=3, gamma=0.1, kernel=poly, score=0.991, total=   0.0s\n",
            "[CV] C=100, degree=3, gamma=0.1, kernel=poly .........................\n",
            "[CV]  C=100, degree=3, gamma=0.1, kernel=poly, score=1.000, total=   0.0s\n",
            "[CV] C=100, degree=3, gamma=0.1, kernel=poly .........................\n",
            "[CV]  C=100, degree=3, gamma=0.1, kernel=poly, score=1.000, total=   0.0s\n",
            "[CV] C=100, degree=3, gamma=0.1, kernel=poly .........................\n",
            "[CV]  C=100, degree=3, gamma=0.1, kernel=poly, score=1.000, total=   0.0s\n",
            "[CV] C=100, degree=3, gamma=0.01, kernel=rbf .........................\n",
            "[CV]  C=100, degree=3, gamma=0.01, kernel=rbf, score=1.000, total=   0.0s\n",
            "[CV] C=100, degree=3, gamma=0.01, kernel=rbf .........................\n",
            "[CV]  C=100, degree=3, gamma=0.01, kernel=rbf, score=1.000, total=   0.0s\n",
            "[CV] C=100, degree=3, gamma=0.01, kernel=rbf .........................\n",
            "[CV]  C=100, degree=3, gamma=0.01, kernel=rbf, score=1.000, total=   0.0s\n",
            "[CV] C=100, degree=3, gamma=0.01, kernel=rbf .........................\n",
            "[CV]  C=100, degree=3, gamma=0.01, kernel=rbf, score=1.000, total=   0.0s\n",
            "[CV] C=100, degree=3, gamma=0.01, kernel=rbf .........................\n",
            "[CV]  C=100, degree=3, gamma=0.01, kernel=rbf, score=1.000, total=   0.0s\n",
            "[CV] C=100, degree=3, gamma=0.01, kernel=poly ........................\n",
            "[CV]  C=100, degree=3, gamma=0.01, kernel=poly, score=1.000, total=   0.0s\n",
            "[CV] C=100, degree=3, gamma=0.01, kernel=poly ........................\n",
            "[CV]  C=100, degree=3, gamma=0.01, kernel=poly, score=0.991, total=   0.0s\n",
            "[CV] C=100, degree=3, gamma=0.01, kernel=poly ........................\n",
            "[CV]  C=100, degree=3, gamma=0.01, kernel=poly, score=1.000, total=   0.0s\n",
            "[CV] C=100, degree=3, gamma=0.01, kernel=poly ........................\n",
            "[CV]  C=100, degree=3, gamma=0.01, kernel=poly, score=1.000, total=   0.0s\n",
            "[CV] C=100, degree=3, gamma=0.01, kernel=poly ........................\n",
            "[CV]  C=100, degree=3, gamma=0.01, kernel=poly, score=1.000, total=   0.0s\n",
            "[CV] C=100, degree=3, gamma=0.001, kernel=rbf ........................\n",
            "[CV]  C=100, degree=3, gamma=0.001, kernel=rbf, score=1.000, total=   0.0s\n",
            "[CV] C=100, degree=3, gamma=0.001, kernel=rbf ........................\n",
            "[CV]  C=100, degree=3, gamma=0.001, kernel=rbf, score=1.000, total=   0.0s\n",
            "[CV] C=100, degree=3, gamma=0.001, kernel=rbf ........................\n",
            "[CV]  C=100, degree=3, gamma=0.001, kernel=rbf, score=1.000, total=   0.0s\n",
            "[CV] C=100, degree=3, gamma=0.001, kernel=rbf ........................\n",
            "[CV]  C=100, degree=3, gamma=0.001, kernel=rbf, score=1.000, total=   0.0s\n",
            "[CV] C=100, degree=3, gamma=0.001, kernel=rbf ........................\n",
            "[CV]  C=100, degree=3, gamma=0.001, kernel=rbf, score=1.000, total=   0.0s\n",
            "[CV] C=100, degree=3, gamma=0.001, kernel=poly .......................\n",
            "[CV]  C=100, degree=3, gamma=0.001, kernel=poly, score=0.986, total=   0.0s\n",
            "[CV] C=100, degree=3, gamma=0.001, kernel=poly .......................\n",
            "[CV]  C=100, degree=3, gamma=0.001, kernel=poly, score=0.995, total=   0.0s\n",
            "[CV] C=100, degree=3, gamma=0.001, kernel=poly .......................\n",
            "[CV]  C=100, degree=3, gamma=0.001, kernel=poly, score=0.995, total=   0.0s\n",
            "[CV] C=100, degree=3, gamma=0.001, kernel=poly .......................\n",
            "[CV]  C=100, degree=3, gamma=0.001, kernel=poly, score=0.981, total=   0.0s\n",
            "[CV] C=100, degree=3, gamma=0.001, kernel=poly .......................\n",
            "[CV]  C=100, degree=3, gamma=0.001, kernel=poly, score=0.967, total=   0.0s\n",
            "[CV] C=100, degree=3, gamma=100, kernel=rbf ..........................\n"
          ],
          "name": "stdout"
        },
        {
          "output_type": "stream",
          "text": [
            "/usr/local/lib/python3.6/dist-packages/sklearn/svm/_base.py:231: ConvergenceWarning: Solver terminated early (max_iter=700).  Consider pre-processing your data with StandardScaler or MinMaxScaler.\n",
            "  % self.max_iter, ConvergenceWarning)\n",
            "/usr/local/lib/python3.6/dist-packages/sklearn/svm/_base.py:231: ConvergenceWarning: Solver terminated early (max_iter=700).  Consider pre-processing your data with StandardScaler or MinMaxScaler.\n",
            "  % self.max_iter, ConvergenceWarning)\n",
            "/usr/local/lib/python3.6/dist-packages/sklearn/svm/_base.py:231: ConvergenceWarning: Solver terminated early (max_iter=700).  Consider pre-processing your data with StandardScaler or MinMaxScaler.\n",
            "  % self.max_iter, ConvergenceWarning)\n",
            "/usr/local/lib/python3.6/dist-packages/sklearn/svm/_base.py:231: ConvergenceWarning: Solver terminated early (max_iter=700).  Consider pre-processing your data with StandardScaler or MinMaxScaler.\n",
            "  % self.max_iter, ConvergenceWarning)\n",
            "/usr/local/lib/python3.6/dist-packages/sklearn/svm/_base.py:231: ConvergenceWarning: Solver terminated early (max_iter=700).  Consider pre-processing your data with StandardScaler or MinMaxScaler.\n",
            "  % self.max_iter, ConvergenceWarning)\n",
            "/usr/local/lib/python3.6/dist-packages/sklearn/svm/_base.py:231: ConvergenceWarning: Solver terminated early (max_iter=700).  Consider pre-processing your data with StandardScaler or MinMaxScaler.\n",
            "  % self.max_iter, ConvergenceWarning)\n"
          ],
          "name": "stderr"
        },
        {
          "output_type": "stream",
          "text": [
            "[CV]  C=100, degree=3, gamma=100, kernel=rbf, score=0.801, total=   0.0s\n",
            "[CV] C=100, degree=3, gamma=100, kernel=rbf ..........................\n",
            "[CV]  C=100, degree=3, gamma=100, kernel=rbf, score=0.744, total=   0.0s\n",
            "[CV] C=100, degree=3, gamma=100, kernel=rbf ..........................\n"
          ],
          "name": "stdout"
        },
        {
          "output_type": "stream",
          "text": [
            "/usr/local/lib/python3.6/dist-packages/sklearn/svm/_base.py:231: ConvergenceWarning: Solver terminated early (max_iter=700).  Consider pre-processing your data with StandardScaler or MinMaxScaler.\n",
            "  % self.max_iter, ConvergenceWarning)\n",
            "/usr/local/lib/python3.6/dist-packages/sklearn/svm/_base.py:231: ConvergenceWarning: Solver terminated early (max_iter=700).  Consider pre-processing your data with StandardScaler or MinMaxScaler.\n",
            "  % self.max_iter, ConvergenceWarning)\n",
            "/usr/local/lib/python3.6/dist-packages/sklearn/svm/_base.py:231: ConvergenceWarning: Solver terminated early (max_iter=700).  Consider pre-processing your data with StandardScaler or MinMaxScaler.\n",
            "  % self.max_iter, ConvergenceWarning)\n",
            "/usr/local/lib/python3.6/dist-packages/sklearn/svm/_base.py:231: ConvergenceWarning: Solver terminated early (max_iter=700).  Consider pre-processing your data with StandardScaler or MinMaxScaler.\n",
            "  % self.max_iter, ConvergenceWarning)\n",
            "/usr/local/lib/python3.6/dist-packages/sklearn/svm/_base.py:231: ConvergenceWarning: Solver terminated early (max_iter=700).  Consider pre-processing your data with StandardScaler or MinMaxScaler.\n",
            "  % self.max_iter, ConvergenceWarning)\n",
            "/usr/local/lib/python3.6/dist-packages/sklearn/svm/_base.py:231: ConvergenceWarning: Solver terminated early (max_iter=700).  Consider pre-processing your data with StandardScaler or MinMaxScaler.\n",
            "  % self.max_iter, ConvergenceWarning)\n"
          ],
          "name": "stderr"
        },
        {
          "output_type": "stream",
          "text": [
            "[CV]  C=100, degree=3, gamma=100, kernel=rbf, score=0.773, total=   0.0s\n",
            "[CV] C=100, degree=3, gamma=100, kernel=rbf ..........................\n",
            "[CV]  C=100, degree=3, gamma=100, kernel=rbf, score=0.782, total=   0.0s\n",
            "[CV] C=100, degree=3, gamma=100, kernel=rbf ..........................\n",
            "[CV]  C=100, degree=3, gamma=100, kernel=rbf, score=0.762, total=   0.0s\n",
            "[CV] C=100, degree=3, gamma=100, kernel=poly .........................\n",
            "[CV]  C=100, degree=3, gamma=100, kernel=poly, score=1.000, total=   0.0s\n",
            "[CV] C=100, degree=3, gamma=100, kernel=poly .........................\n",
            "[CV]  C=100, degree=3, gamma=100, kernel=poly, score=0.991, total=   0.0s\n",
            "[CV] C=100, degree=3, gamma=100, kernel=poly .........................\n",
            "[CV]  C=100, degree=3, gamma=100, kernel=poly, score=1.000, total=   0.0s\n",
            "[CV] C=100, degree=3, gamma=100, kernel=poly .........................\n",
            "[CV]  C=100, degree=3, gamma=100, kernel=poly, score=1.000, total=   0.0s\n",
            "[CV] C=100, degree=3, gamma=100, kernel=poly .........................\n",
            "[CV]  C=100, degree=3, gamma=100, kernel=poly, score=1.000, total=   0.0s\n",
            "[CV] C=100, degree=4, gamma=1, kernel=rbf ............................\n",
            "[CV]  C=100, degree=4, gamma=1, kernel=rbf, score=0.905, total=   0.0s\n",
            "[CV] C=100, degree=4, gamma=1, kernel=rbf ............................\n"
          ],
          "name": "stdout"
        },
        {
          "output_type": "stream",
          "text": [
            "/usr/local/lib/python3.6/dist-packages/sklearn/svm/_base.py:231: ConvergenceWarning: Solver terminated early (max_iter=700).  Consider pre-processing your data with StandardScaler or MinMaxScaler.\n",
            "  % self.max_iter, ConvergenceWarning)\n",
            "/usr/local/lib/python3.6/dist-packages/sklearn/svm/_base.py:231: ConvergenceWarning: Solver terminated early (max_iter=700).  Consider pre-processing your data with StandardScaler or MinMaxScaler.\n",
            "  % self.max_iter, ConvergenceWarning)\n",
            "/usr/local/lib/python3.6/dist-packages/sklearn/svm/_base.py:231: ConvergenceWarning: Solver terminated early (max_iter=700).  Consider pre-processing your data with StandardScaler or MinMaxScaler.\n",
            "  % self.max_iter, ConvergenceWarning)\n",
            "/usr/local/lib/python3.6/dist-packages/sklearn/svm/_base.py:231: ConvergenceWarning: Solver terminated early (max_iter=700).  Consider pre-processing your data with StandardScaler or MinMaxScaler.\n",
            "  % self.max_iter, ConvergenceWarning)\n",
            "/usr/local/lib/python3.6/dist-packages/sklearn/svm/_base.py:231: ConvergenceWarning: Solver terminated early (max_iter=700).  Consider pre-processing your data with StandardScaler or MinMaxScaler.\n",
            "  % self.max_iter, ConvergenceWarning)\n"
          ],
          "name": "stderr"
        },
        {
          "output_type": "stream",
          "text": [
            "[CV]  C=100, degree=4, gamma=1, kernel=rbf, score=0.877, total=   0.0s\n",
            "[CV] C=100, degree=4, gamma=1, kernel=rbf ............................\n",
            "[CV]  C=100, degree=4, gamma=1, kernel=rbf, score=0.900, total=   0.1s\n",
            "[CV] C=100, degree=4, gamma=1, kernel=rbf ............................\n",
            "[CV]  C=100, degree=4, gamma=1, kernel=rbf, score=0.886, total=   0.1s\n",
            "[CV] C=100, degree=4, gamma=1, kernel=rbf ............................\n",
            "[CV]  C=100, degree=4, gamma=1, kernel=rbf, score=0.900, total=   0.0s\n",
            "[CV] C=100, degree=4, gamma=1, kernel=poly ...........................\n",
            "[CV]  C=100, degree=4, gamma=1, kernel=poly, score=1.000, total=   0.0s\n",
            "[CV] C=100, degree=4, gamma=1, kernel=poly ...........................\n",
            "[CV]  C=100, degree=4, gamma=1, kernel=poly, score=0.991, total=   0.0s\n",
            "[CV] C=100, degree=4, gamma=1, kernel=poly ...........................\n",
            "[CV]  C=100, degree=4, gamma=1, kernel=poly, score=1.000, total=   0.0s\n",
            "[CV] C=100, degree=4, gamma=1, kernel=poly ...........................\n",
            "[CV]  C=100, degree=4, gamma=1, kernel=poly, score=1.000, total=   0.0s\n",
            "[CV] C=100, degree=4, gamma=1, kernel=poly ...........................\n",
            "[CV]  C=100, degree=4, gamma=1, kernel=poly, score=1.000, total=   0.0s\n",
            "[CV] C=100, degree=4, gamma=0.1, kernel=rbf ..........................\n",
            "[CV]  C=100, degree=4, gamma=0.1, kernel=rbf, score=0.995, total=   0.0s\n",
            "[CV] C=100, degree=4, gamma=0.1, kernel=rbf ..........................\n",
            "[CV]  C=100, degree=4, gamma=0.1, kernel=rbf, score=1.000, total=   0.0s\n",
            "[CV] C=100, degree=4, gamma=0.1, kernel=rbf ..........................\n",
            "[CV]  C=100, degree=4, gamma=0.1, kernel=rbf, score=1.000, total=   0.0s\n",
            "[CV] C=100, degree=4, gamma=0.1, kernel=rbf ..........................\n",
            "[CV]  C=100, degree=4, gamma=0.1, kernel=rbf, score=1.000, total=   0.0s\n",
            "[CV] C=100, degree=4, gamma=0.1, kernel=rbf ..........................\n",
            "[CV]  C=100, degree=4, gamma=0.1, kernel=rbf, score=1.000, total=   0.0s\n",
            "[CV] C=100, degree=4, gamma=0.1, kernel=poly .........................\n",
            "[CV]  C=100, degree=4, gamma=0.1, kernel=poly, score=1.000, total=   0.0s\n",
            "[CV] C=100, degree=4, gamma=0.1, kernel=poly .........................\n",
            "[CV]  C=100, degree=4, gamma=0.1, kernel=poly, score=0.991, total=   0.0s\n",
            "[CV] C=100, degree=4, gamma=0.1, kernel=poly .........................\n",
            "[CV]  C=100, degree=4, gamma=0.1, kernel=poly, score=1.000, total=   0.0s\n",
            "[CV] C=100, degree=4, gamma=0.1, kernel=poly .........................\n",
            "[CV]  C=100, degree=4, gamma=0.1, kernel=poly, score=1.000, total=   0.0s\n",
            "[CV] C=100, degree=4, gamma=0.1, kernel=poly .........................\n"
          ],
          "name": "stdout"
        },
        {
          "output_type": "stream",
          "text": [
            "/usr/local/lib/python3.6/dist-packages/sklearn/svm/_base.py:231: ConvergenceWarning: Solver terminated early (max_iter=700).  Consider pre-processing your data with StandardScaler or MinMaxScaler.\n",
            "  % self.max_iter, ConvergenceWarning)\n"
          ],
          "name": "stderr"
        },
        {
          "output_type": "stream",
          "text": [
            "[CV]  C=100, degree=4, gamma=0.1, kernel=poly, score=1.000, total=   0.0s\n",
            "[CV] C=100, degree=4, gamma=0.01, kernel=rbf .........................\n",
            "[CV]  C=100, degree=4, gamma=0.01, kernel=rbf, score=1.000, total=   0.0s\n",
            "[CV] C=100, degree=4, gamma=0.01, kernel=rbf .........................\n",
            "[CV]  C=100, degree=4, gamma=0.01, kernel=rbf, score=1.000, total=   0.0s\n",
            "[CV] C=100, degree=4, gamma=0.01, kernel=rbf .........................\n",
            "[CV]  C=100, degree=4, gamma=0.01, kernel=rbf, score=1.000, total=   0.0s\n",
            "[CV] C=100, degree=4, gamma=0.01, kernel=rbf .........................\n",
            "[CV]  C=100, degree=4, gamma=0.01, kernel=rbf, score=1.000, total=   0.0s\n",
            "[CV] C=100, degree=4, gamma=0.01, kernel=rbf .........................\n",
            "[CV]  C=100, degree=4, gamma=0.01, kernel=rbf, score=1.000, total=   0.0s\n",
            "[CV] C=100, degree=4, gamma=0.01, kernel=poly ........................\n",
            "[CV]  C=100, degree=4, gamma=0.01, kernel=poly, score=1.000, total=   0.0s\n",
            "[CV] C=100, degree=4, gamma=0.01, kernel=poly ........................\n",
            "[CV]  C=100, degree=4, gamma=0.01, kernel=poly, score=0.991, total=   0.0s\n",
            "[CV] C=100, degree=4, gamma=0.01, kernel=poly ........................\n",
            "[CV]  C=100, degree=4, gamma=0.01, kernel=poly, score=1.000, total=   0.0s\n",
            "[CV] C=100, degree=4, gamma=0.01, kernel=poly ........................\n",
            "[CV]  C=100, degree=4, gamma=0.01, kernel=poly, score=1.000, total=   0.0s\n",
            "[CV] C=100, degree=4, gamma=0.01, kernel=poly ........................\n",
            "[CV]  C=100, degree=4, gamma=0.01, kernel=poly, score=1.000, total=   0.0s\n",
            "[CV] C=100, degree=4, gamma=0.001, kernel=rbf ........................\n",
            "[CV]  C=100, degree=4, gamma=0.001, kernel=rbf, score=1.000, total=   0.0s\n",
            "[CV] C=100, degree=4, gamma=0.001, kernel=rbf ........................\n",
            "[CV]  C=100, degree=4, gamma=0.001, kernel=rbf, score=1.000, total=   0.0s\n",
            "[CV] C=100, degree=4, gamma=0.001, kernel=rbf ........................\n",
            "[CV]  C=100, degree=4, gamma=0.001, kernel=rbf, score=1.000, total=   0.0s\n",
            "[CV] C=100, degree=4, gamma=0.001, kernel=rbf ........................\n",
            "[CV]  C=100, degree=4, gamma=0.001, kernel=rbf, score=1.000, total=   0.0s\n",
            "[CV] C=100, degree=4, gamma=0.001, kernel=rbf ........................\n",
            "[CV]  C=100, degree=4, gamma=0.001, kernel=rbf, score=1.000, total=   0.0s\n",
            "[CV] C=100, degree=4, gamma=0.001, kernel=poly .......................\n",
            "[CV]  C=100, degree=4, gamma=0.001, kernel=poly, score=0.834, total=   0.0s\n",
            "[CV] C=100, degree=4, gamma=0.001, kernel=poly .......................\n"
          ],
          "name": "stdout"
        },
        {
          "output_type": "stream",
          "text": [
            "/usr/local/lib/python3.6/dist-packages/sklearn/svm/_base.py:231: ConvergenceWarning: Solver terminated early (max_iter=700).  Consider pre-processing your data with StandardScaler or MinMaxScaler.\n",
            "  % self.max_iter, ConvergenceWarning)\n",
            "/usr/local/lib/python3.6/dist-packages/sklearn/svm/_base.py:231: ConvergenceWarning: Solver terminated early (max_iter=700).  Consider pre-processing your data with StandardScaler or MinMaxScaler.\n",
            "  % self.max_iter, ConvergenceWarning)\n",
            "/usr/local/lib/python3.6/dist-packages/sklearn/svm/_base.py:231: ConvergenceWarning: Solver terminated early (max_iter=700).  Consider pre-processing your data with StandardScaler or MinMaxScaler.\n",
            "  % self.max_iter, ConvergenceWarning)\n",
            "/usr/local/lib/python3.6/dist-packages/sklearn/svm/_base.py:231: ConvergenceWarning: Solver terminated early (max_iter=700).  Consider pre-processing your data with StandardScaler or MinMaxScaler.\n",
            "  % self.max_iter, ConvergenceWarning)\n",
            "/usr/local/lib/python3.6/dist-packages/sklearn/svm/_base.py:231: ConvergenceWarning: Solver terminated early (max_iter=700).  Consider pre-processing your data with StandardScaler or MinMaxScaler.\n",
            "  % self.max_iter, ConvergenceWarning)\n",
            "/usr/local/lib/python3.6/dist-packages/sklearn/svm/_base.py:231: ConvergenceWarning: Solver terminated early (max_iter=700).  Consider pre-processing your data with StandardScaler or MinMaxScaler.\n",
            "  % self.max_iter, ConvergenceWarning)\n"
          ],
          "name": "stderr"
        },
        {
          "output_type": "stream",
          "text": [
            "[CV]  C=100, degree=4, gamma=0.001, kernel=poly, score=0.716, total=   0.0s\n",
            "[CV] C=100, degree=4, gamma=0.001, kernel=poly .......................\n",
            "[CV]  C=100, degree=4, gamma=0.001, kernel=poly, score=0.711, total=   0.0s\n",
            "[CV] C=100, degree=4, gamma=0.001, kernel=poly .......................\n",
            "[CV]  C=100, degree=4, gamma=0.001, kernel=poly, score=0.758, total=   0.0s\n",
            "[CV] C=100, degree=4, gamma=0.001, kernel=poly .......................\n",
            "[CV]  C=100, degree=4, gamma=0.001, kernel=poly, score=0.738, total=   0.0s\n",
            "[CV] C=100, degree=4, gamma=100, kernel=rbf ..........................\n",
            "[CV]  C=100, degree=4, gamma=100, kernel=rbf, score=0.801, total=   0.0s\n",
            "[CV] C=100, degree=4, gamma=100, kernel=rbf ..........................\n",
            "[CV]  C=100, degree=4, gamma=100, kernel=rbf, score=0.744, total=   0.0s\n",
            "[CV] C=100, degree=4, gamma=100, kernel=rbf ..........................\n",
            "[CV]  C=100, degree=4, gamma=100, kernel=rbf, score=0.773, total=   0.0s\n",
            "[CV] C=100, degree=4, gamma=100, kernel=rbf ..........................\n"
          ],
          "name": "stdout"
        },
        {
          "output_type": "stream",
          "text": [
            "/usr/local/lib/python3.6/dist-packages/sklearn/svm/_base.py:231: ConvergenceWarning: Solver terminated early (max_iter=700).  Consider pre-processing your data with StandardScaler or MinMaxScaler.\n",
            "  % self.max_iter, ConvergenceWarning)\n",
            "/usr/local/lib/python3.6/dist-packages/sklearn/svm/_base.py:231: ConvergenceWarning: Solver terminated early (max_iter=700).  Consider pre-processing your data with StandardScaler or MinMaxScaler.\n",
            "  % self.max_iter, ConvergenceWarning)\n",
            "/usr/local/lib/python3.6/dist-packages/sklearn/svm/_base.py:231: ConvergenceWarning: Solver terminated early (max_iter=700).  Consider pre-processing your data with StandardScaler or MinMaxScaler.\n",
            "  % self.max_iter, ConvergenceWarning)\n",
            "/usr/local/lib/python3.6/dist-packages/sklearn/svm/_base.py:231: ConvergenceWarning: Solver terminated early (max_iter=700).  Consider pre-processing your data with StandardScaler or MinMaxScaler.\n",
            "  % self.max_iter, ConvergenceWarning)\n"
          ],
          "name": "stderr"
        },
        {
          "output_type": "stream",
          "text": [
            "[CV]  C=100, degree=4, gamma=100, kernel=rbf, score=0.782, total=   0.0s\n",
            "[CV] C=100, degree=4, gamma=100, kernel=rbf ..........................\n",
            "[CV]  C=100, degree=4, gamma=100, kernel=rbf, score=0.762, total=   0.0s\n",
            "[CV] C=100, degree=4, gamma=100, kernel=poly .........................\n",
            "[CV]  C=100, degree=4, gamma=100, kernel=poly, score=1.000, total=   0.0s\n",
            "[CV] C=100, degree=4, gamma=100, kernel=poly .........................\n",
            "[CV]  C=100, degree=4, gamma=100, kernel=poly, score=0.991, total=   0.0s\n",
            "[CV] C=100, degree=4, gamma=100, kernel=poly .........................\n",
            "[CV]  C=100, degree=4, gamma=100, kernel=poly, score=1.000, total=   0.0s\n",
            "[CV] C=100, degree=4, gamma=100, kernel=poly .........................\n",
            "[CV]  C=100, degree=4, gamma=100, kernel=poly, score=1.000, total=   0.0s\n",
            "[CV] C=100, degree=4, gamma=100, kernel=poly .........................\n",
            "[CV]  C=100, degree=4, gamma=100, kernel=poly, score=1.000, total=   0.0s\n",
            "[CV] C=1000, degree=2, gamma=1, kernel=rbf ...........................\n",
            "[CV]  C=1000, degree=2, gamma=1, kernel=rbf, score=0.905, total=   0.1s\n",
            "[CV] C=1000, degree=2, gamma=1, kernel=rbf ...........................\n",
            "[CV]  C=1000, degree=2, gamma=1, kernel=rbf, score=0.877, total=   0.0s\n",
            "[CV] C=1000, degree=2, gamma=1, kernel=rbf ...........................\n"
          ],
          "name": "stdout"
        },
        {
          "output_type": "stream",
          "text": [
            "/usr/local/lib/python3.6/dist-packages/sklearn/svm/_base.py:231: ConvergenceWarning: Solver terminated early (max_iter=700).  Consider pre-processing your data with StandardScaler or MinMaxScaler.\n",
            "  % self.max_iter, ConvergenceWarning)\n",
            "/usr/local/lib/python3.6/dist-packages/sklearn/svm/_base.py:231: ConvergenceWarning: Solver terminated early (max_iter=700).  Consider pre-processing your data with StandardScaler or MinMaxScaler.\n",
            "  % self.max_iter, ConvergenceWarning)\n",
            "/usr/local/lib/python3.6/dist-packages/sklearn/svm/_base.py:231: ConvergenceWarning: Solver terminated early (max_iter=700).  Consider pre-processing your data with StandardScaler or MinMaxScaler.\n",
            "  % self.max_iter, ConvergenceWarning)\n",
            "/usr/local/lib/python3.6/dist-packages/sklearn/svm/_base.py:231: ConvergenceWarning: Solver terminated early (max_iter=700).  Consider pre-processing your data with StandardScaler or MinMaxScaler.\n",
            "  % self.max_iter, ConvergenceWarning)\n"
          ],
          "name": "stderr"
        },
        {
          "output_type": "stream",
          "text": [
            "[CV]  C=1000, degree=2, gamma=1, kernel=rbf, score=0.900, total=   0.0s\n",
            "[CV] C=1000, degree=2, gamma=1, kernel=rbf ...........................\n",
            "[CV]  C=1000, degree=2, gamma=1, kernel=rbf, score=0.886, total=   0.1s\n",
            "[CV] C=1000, degree=2, gamma=1, kernel=rbf ...........................\n",
            "[CV]  C=1000, degree=2, gamma=1, kernel=rbf, score=0.900, total=   0.1s\n",
            "[CV] C=1000, degree=2, gamma=1, kernel=poly ..........................\n",
            "[CV]  C=1000, degree=2, gamma=1, kernel=poly, score=1.000, total=   0.0s\n",
            "[CV] C=1000, degree=2, gamma=1, kernel=poly ..........................\n",
            "[CV]  C=1000, degree=2, gamma=1, kernel=poly, score=1.000, total=   0.0s\n",
            "[CV] C=1000, degree=2, gamma=1, kernel=poly ..........................\n",
            "[CV]  C=1000, degree=2, gamma=1, kernel=poly, score=1.000, total=   0.0s\n",
            "[CV] C=1000, degree=2, gamma=1, kernel=poly ..........................\n",
            "[CV]  C=1000, degree=2, gamma=1, kernel=poly, score=1.000, total=   0.0s\n",
            "[CV] C=1000, degree=2, gamma=1, kernel=poly ..........................\n",
            "[CV]  C=1000, degree=2, gamma=1, kernel=poly, score=1.000, total=   0.0s\n",
            "[CV] C=1000, degree=2, gamma=0.1, kernel=rbf .........................\n",
            "[CV]  C=1000, degree=2, gamma=0.1, kernel=rbf, score=0.995, total=   0.0s\n",
            "[CV] C=1000, degree=2, gamma=0.1, kernel=rbf .........................\n",
            "[CV]  C=1000, degree=2, gamma=0.1, kernel=rbf, score=1.000, total=   0.0s\n",
            "[CV] C=1000, degree=2, gamma=0.1, kernel=rbf .........................\n"
          ],
          "name": "stdout"
        },
        {
          "output_type": "stream",
          "text": [
            "/usr/local/lib/python3.6/dist-packages/sklearn/svm/_base.py:231: ConvergenceWarning: Solver terminated early (max_iter=700).  Consider pre-processing your data with StandardScaler or MinMaxScaler.\n",
            "  % self.max_iter, ConvergenceWarning)\n",
            "/usr/local/lib/python3.6/dist-packages/sklearn/svm/_base.py:231: ConvergenceWarning: Solver terminated early (max_iter=700).  Consider pre-processing your data with StandardScaler or MinMaxScaler.\n",
            "  % self.max_iter, ConvergenceWarning)\n",
            "/usr/local/lib/python3.6/dist-packages/sklearn/svm/_base.py:231: ConvergenceWarning: Solver terminated early (max_iter=700).  Consider pre-processing your data with StandardScaler or MinMaxScaler.\n",
            "  % self.max_iter, ConvergenceWarning)\n",
            "/usr/local/lib/python3.6/dist-packages/sklearn/svm/_base.py:231: ConvergenceWarning: Solver terminated early (max_iter=700).  Consider pre-processing your data with StandardScaler or MinMaxScaler.\n",
            "  % self.max_iter, ConvergenceWarning)\n",
            "/usr/local/lib/python3.6/dist-packages/sklearn/svm/_base.py:231: ConvergenceWarning: Solver terminated early (max_iter=700).  Consider pre-processing your data with StandardScaler or MinMaxScaler.\n",
            "  % self.max_iter, ConvergenceWarning)\n",
            "/usr/local/lib/python3.6/dist-packages/sklearn/svm/_base.py:231: ConvergenceWarning: Solver terminated early (max_iter=700).  Consider pre-processing your data with StandardScaler or MinMaxScaler.\n",
            "  % self.max_iter, ConvergenceWarning)\n",
            "/usr/local/lib/python3.6/dist-packages/sklearn/svm/_base.py:231: ConvergenceWarning: Solver terminated early (max_iter=700).  Consider pre-processing your data with StandardScaler or MinMaxScaler.\n",
            "  % self.max_iter, ConvergenceWarning)\n",
            "/usr/local/lib/python3.6/dist-packages/sklearn/svm/_base.py:231: ConvergenceWarning: Solver terminated early (max_iter=700).  Consider pre-processing your data with StandardScaler or MinMaxScaler.\n",
            "  % self.max_iter, ConvergenceWarning)\n",
            "/usr/local/lib/python3.6/dist-packages/sklearn/svm/_base.py:231: ConvergenceWarning: Solver terminated early (max_iter=700).  Consider pre-processing your data with StandardScaler or MinMaxScaler.\n",
            "  % self.max_iter, ConvergenceWarning)\n"
          ],
          "name": "stderr"
        },
        {
          "output_type": "stream",
          "text": [
            "[CV]  C=1000, degree=2, gamma=0.1, kernel=rbf, score=1.000, total=   0.0s\n",
            "[CV] C=1000, degree=2, gamma=0.1, kernel=rbf .........................\n",
            "[CV]  C=1000, degree=2, gamma=0.1, kernel=rbf, score=1.000, total=   0.0s\n",
            "[CV] C=1000, degree=2, gamma=0.1, kernel=rbf .........................\n",
            "[CV]  C=1000, degree=2, gamma=0.1, kernel=rbf, score=1.000, total=   0.0s\n",
            "[CV] C=1000, degree=2, gamma=0.1, kernel=poly ........................\n",
            "[CV]  C=1000, degree=2, gamma=0.1, kernel=poly, score=1.000, total=   0.0s\n",
            "[CV] C=1000, degree=2, gamma=0.1, kernel=poly ........................\n",
            "[CV]  C=1000, degree=2, gamma=0.1, kernel=poly, score=1.000, total=   0.0s\n",
            "[CV] C=1000, degree=2, gamma=0.1, kernel=poly ........................\n",
            "[CV]  C=1000, degree=2, gamma=0.1, kernel=poly, score=1.000, total=   0.0s\n",
            "[CV] C=1000, degree=2, gamma=0.1, kernel=poly ........................\n",
            "[CV]  C=1000, degree=2, gamma=0.1, kernel=poly, score=1.000, total=   0.0s\n",
            "[CV] C=1000, degree=2, gamma=0.1, kernel=poly ........................\n",
            "[CV]  C=1000, degree=2, gamma=0.1, kernel=poly, score=1.000, total=   0.0s\n",
            "[CV] C=1000, degree=2, gamma=0.01, kernel=rbf ........................\n",
            "[CV]  C=1000, degree=2, gamma=0.01, kernel=rbf, score=1.000, total=   0.0s\n",
            "[CV] C=1000, degree=2, gamma=0.01, kernel=rbf ........................\n",
            "[CV]  C=1000, degree=2, gamma=0.01, kernel=rbf, score=1.000, total=   0.0s\n",
            "[CV] C=1000, degree=2, gamma=0.01, kernel=rbf ........................\n",
            "[CV]  C=1000, degree=2, gamma=0.01, kernel=rbf, score=1.000, total=   0.0s\n",
            "[CV] C=1000, degree=2, gamma=0.01, kernel=rbf ........................\n",
            "[CV]  C=1000, degree=2, gamma=0.01, kernel=rbf, score=1.000, total=   0.0s\n",
            "[CV] C=1000, degree=2, gamma=0.01, kernel=rbf ........................\n",
            "[CV]  C=1000, degree=2, gamma=0.01, kernel=rbf, score=1.000, total=   0.0s\n",
            "[CV] C=1000, degree=2, gamma=0.01, kernel=poly .......................\n",
            "[CV]  C=1000, degree=2, gamma=0.01, kernel=poly, score=1.000, total=   0.0s\n",
            "[CV] C=1000, degree=2, gamma=0.01, kernel=poly .......................\n",
            "[CV]  C=1000, degree=2, gamma=0.01, kernel=poly, score=1.000, total=   0.0s\n",
            "[CV] C=1000, degree=2, gamma=0.01, kernel=poly .......................\n",
            "[CV]  C=1000, degree=2, gamma=0.01, kernel=poly, score=1.000, total=   0.0s\n",
            "[CV] C=1000, degree=2, gamma=0.01, kernel=poly .......................\n",
            "[CV]  C=1000, degree=2, gamma=0.01, kernel=poly, score=1.000, total=   0.0s\n",
            "[CV] C=1000, degree=2, gamma=0.01, kernel=poly .......................\n",
            "[CV]  C=1000, degree=2, gamma=0.01, kernel=poly, score=1.000, total=   0.0s\n",
            "[CV] C=1000, degree=2, gamma=0.001, kernel=rbf .......................\n",
            "[CV]  C=1000, degree=2, gamma=0.001, kernel=rbf, score=1.000, total=   0.0s\n",
            "[CV] C=1000, degree=2, gamma=0.001, kernel=rbf .......................\n",
            "[CV]  C=1000, degree=2, gamma=0.001, kernel=rbf, score=1.000, total=   0.0s\n",
            "[CV] C=1000, degree=2, gamma=0.001, kernel=rbf .......................\n",
            "[CV]  C=1000, degree=2, gamma=0.001, kernel=rbf, score=1.000, total=   0.0s\n",
            "[CV] C=1000, degree=2, gamma=0.001, kernel=rbf .......................\n",
            "[CV]  C=1000, degree=2, gamma=0.001, kernel=rbf, score=1.000, total=   0.0s\n",
            "[CV] C=1000, degree=2, gamma=0.001, kernel=rbf .......................\n",
            "[CV]  C=1000, degree=2, gamma=0.001, kernel=rbf, score=1.000, total=   0.0s\n",
            "[CV] C=1000, degree=2, gamma=0.001, kernel=poly ......................\n",
            "[CV]  C=1000, degree=2, gamma=0.001, kernel=poly, score=1.000, total=   0.0s\n",
            "[CV] C=1000, degree=2, gamma=0.001, kernel=poly ......................\n",
            "[CV]  C=1000, degree=2, gamma=0.001, kernel=poly, score=1.000, total=   0.0s\n",
            "[CV] C=1000, degree=2, gamma=0.001, kernel=poly ......................\n",
            "[CV]  C=1000, degree=2, gamma=0.001, kernel=poly, score=1.000, total=   0.0s\n",
            "[CV] C=1000, degree=2, gamma=0.001, kernel=poly ......................\n",
            "[CV]  C=1000, degree=2, gamma=0.001, kernel=poly, score=1.000, total=   0.0s\n",
            "[CV] C=1000, degree=2, gamma=0.001, kernel=poly ......................\n",
            "[CV]  C=1000, degree=2, gamma=0.001, kernel=poly, score=1.000, total=   0.0s\n",
            "[CV] C=1000, degree=2, gamma=100, kernel=rbf .........................\n"
          ],
          "name": "stdout"
        },
        {
          "output_type": "stream",
          "text": [
            "/usr/local/lib/python3.6/dist-packages/sklearn/svm/_base.py:231: ConvergenceWarning: Solver terminated early (max_iter=700).  Consider pre-processing your data with StandardScaler or MinMaxScaler.\n",
            "  % self.max_iter, ConvergenceWarning)\n",
            "/usr/local/lib/python3.6/dist-packages/sklearn/svm/_base.py:231: ConvergenceWarning: Solver terminated early (max_iter=700).  Consider pre-processing your data with StandardScaler or MinMaxScaler.\n",
            "  % self.max_iter, ConvergenceWarning)\n",
            "/usr/local/lib/python3.6/dist-packages/sklearn/svm/_base.py:231: ConvergenceWarning: Solver terminated early (max_iter=700).  Consider pre-processing your data with StandardScaler or MinMaxScaler.\n",
            "  % self.max_iter, ConvergenceWarning)\n",
            "/usr/local/lib/python3.6/dist-packages/sklearn/svm/_base.py:231: ConvergenceWarning: Solver terminated early (max_iter=700).  Consider pre-processing your data with StandardScaler or MinMaxScaler.\n",
            "  % self.max_iter, ConvergenceWarning)\n",
            "/usr/local/lib/python3.6/dist-packages/sklearn/svm/_base.py:231: ConvergenceWarning: Solver terminated early (max_iter=700).  Consider pre-processing your data with StandardScaler or MinMaxScaler.\n",
            "  % self.max_iter, ConvergenceWarning)\n",
            "/usr/local/lib/python3.6/dist-packages/sklearn/svm/_base.py:231: ConvergenceWarning: Solver terminated early (max_iter=700).  Consider pre-processing your data with StandardScaler or MinMaxScaler.\n",
            "  % self.max_iter, ConvergenceWarning)\n",
            "/usr/local/lib/python3.6/dist-packages/sklearn/svm/_base.py:231: ConvergenceWarning: Solver terminated early (max_iter=700).  Consider pre-processing your data with StandardScaler or MinMaxScaler.\n",
            "  % self.max_iter, ConvergenceWarning)\n",
            "/usr/local/lib/python3.6/dist-packages/sklearn/svm/_base.py:231: ConvergenceWarning: Solver terminated early (max_iter=700).  Consider pre-processing your data with StandardScaler or MinMaxScaler.\n",
            "  % self.max_iter, ConvergenceWarning)\n",
            "/usr/local/lib/python3.6/dist-packages/sklearn/svm/_base.py:231: ConvergenceWarning: Solver terminated early (max_iter=700).  Consider pre-processing your data with StandardScaler or MinMaxScaler.\n",
            "  % self.max_iter, ConvergenceWarning)\n",
            "/usr/local/lib/python3.6/dist-packages/sklearn/svm/_base.py:231: ConvergenceWarning: Solver terminated early (max_iter=700).  Consider pre-processing your data with StandardScaler or MinMaxScaler.\n",
            "  % self.max_iter, ConvergenceWarning)\n",
            "/usr/local/lib/python3.6/dist-packages/sklearn/svm/_base.py:231: ConvergenceWarning: Solver terminated early (max_iter=700).  Consider pre-processing your data with StandardScaler or MinMaxScaler.\n",
            "  % self.max_iter, ConvergenceWarning)\n",
            "/usr/local/lib/python3.6/dist-packages/sklearn/svm/_base.py:231: ConvergenceWarning: Solver terminated early (max_iter=700).  Consider pre-processing your data with StandardScaler or MinMaxScaler.\n",
            "  % self.max_iter, ConvergenceWarning)\n",
            "/usr/local/lib/python3.6/dist-packages/sklearn/svm/_base.py:231: ConvergenceWarning: Solver terminated early (max_iter=700).  Consider pre-processing your data with StandardScaler or MinMaxScaler.\n",
            "  % self.max_iter, ConvergenceWarning)\n"
          ],
          "name": "stderr"
        },
        {
          "output_type": "stream",
          "text": [
            "[CV]  C=1000, degree=2, gamma=100, kernel=rbf, score=0.801, total=   0.0s\n",
            "[CV] C=1000, degree=2, gamma=100, kernel=rbf .........................\n",
            "[CV]  C=1000, degree=2, gamma=100, kernel=rbf, score=0.744, total=   0.0s\n",
            "[CV] C=1000, degree=2, gamma=100, kernel=rbf .........................\n",
            "[CV]  C=1000, degree=2, gamma=100, kernel=rbf, score=0.773, total=   0.0s\n",
            "[CV] C=1000, degree=2, gamma=100, kernel=rbf .........................\n",
            "[CV]  C=1000, degree=2, gamma=100, kernel=rbf, score=0.782, total=   0.0s\n",
            "[CV] C=1000, degree=2, gamma=100, kernel=rbf .........................\n",
            "[CV]  C=1000, degree=2, gamma=100, kernel=rbf, score=0.762, total=   0.0s\n",
            "[CV] C=1000, degree=2, gamma=100, kernel=poly ........................\n",
            "[CV]  C=1000, degree=2, gamma=100, kernel=poly, score=1.000, total=   0.0s\n",
            "[CV] C=1000, degree=2, gamma=100, kernel=poly ........................\n",
            "[CV]  C=1000, degree=2, gamma=100, kernel=poly, score=1.000, total=   0.0s\n",
            "[CV] C=1000, degree=2, gamma=100, kernel=poly ........................\n"
          ],
          "name": "stdout"
        },
        {
          "output_type": "stream",
          "text": [
            "/usr/local/lib/python3.6/dist-packages/sklearn/svm/_base.py:231: ConvergenceWarning: Solver terminated early (max_iter=700).  Consider pre-processing your data with StandardScaler or MinMaxScaler.\n",
            "  % self.max_iter, ConvergenceWarning)\n",
            "/usr/local/lib/python3.6/dist-packages/sklearn/svm/_base.py:231: ConvergenceWarning: Solver terminated early (max_iter=700).  Consider pre-processing your data with StandardScaler or MinMaxScaler.\n",
            "  % self.max_iter, ConvergenceWarning)\n",
            "/usr/local/lib/python3.6/dist-packages/sklearn/svm/_base.py:231: ConvergenceWarning: Solver terminated early (max_iter=700).  Consider pre-processing your data with StandardScaler or MinMaxScaler.\n",
            "  % self.max_iter, ConvergenceWarning)\n",
            "/usr/local/lib/python3.6/dist-packages/sklearn/svm/_base.py:231: ConvergenceWarning: Solver terminated early (max_iter=700).  Consider pre-processing your data with StandardScaler or MinMaxScaler.\n",
            "  % self.max_iter, ConvergenceWarning)\n",
            "/usr/local/lib/python3.6/dist-packages/sklearn/svm/_base.py:231: ConvergenceWarning: Solver terminated early (max_iter=700).  Consider pre-processing your data with StandardScaler or MinMaxScaler.\n",
            "  % self.max_iter, ConvergenceWarning)\n",
            "/usr/local/lib/python3.6/dist-packages/sklearn/svm/_base.py:231: ConvergenceWarning: Solver terminated early (max_iter=700).  Consider pre-processing your data with StandardScaler or MinMaxScaler.\n",
            "  % self.max_iter, ConvergenceWarning)\n",
            "/usr/local/lib/python3.6/dist-packages/sklearn/svm/_base.py:231: ConvergenceWarning: Solver terminated early (max_iter=700).  Consider pre-processing your data with StandardScaler or MinMaxScaler.\n",
            "  % self.max_iter, ConvergenceWarning)\n",
            "/usr/local/lib/python3.6/dist-packages/sklearn/svm/_base.py:231: ConvergenceWarning: Solver terminated early (max_iter=700).  Consider pre-processing your data with StandardScaler or MinMaxScaler.\n",
            "  % self.max_iter, ConvergenceWarning)\n"
          ],
          "name": "stderr"
        },
        {
          "output_type": "stream",
          "text": [
            "[CV]  C=1000, degree=2, gamma=100, kernel=poly, score=1.000, total=   0.0s\n",
            "[CV] C=1000, degree=2, gamma=100, kernel=poly ........................\n",
            "[CV]  C=1000, degree=2, gamma=100, kernel=poly, score=1.000, total=   0.0s\n",
            "[CV] C=1000, degree=2, gamma=100, kernel=poly ........................\n",
            "[CV]  C=1000, degree=2, gamma=100, kernel=poly, score=1.000, total=   0.0s\n",
            "[CV] C=1000, degree=3, gamma=1, kernel=rbf ...........................\n",
            "[CV]  C=1000, degree=3, gamma=1, kernel=rbf, score=0.905, total=   0.0s\n",
            "[CV] C=1000, degree=3, gamma=1, kernel=rbf ...........................\n",
            "[CV]  C=1000, degree=3, gamma=1, kernel=rbf, score=0.877, total=   0.0s\n",
            "[CV] C=1000, degree=3, gamma=1, kernel=rbf ...........................\n",
            "[CV]  C=1000, degree=3, gamma=1, kernel=rbf, score=0.900, total=   0.0s\n",
            "[CV] C=1000, degree=3, gamma=1, kernel=rbf ...........................\n"
          ],
          "name": "stdout"
        },
        {
          "output_type": "stream",
          "text": [
            "/usr/local/lib/python3.6/dist-packages/sklearn/svm/_base.py:231: ConvergenceWarning: Solver terminated early (max_iter=700).  Consider pre-processing your data with StandardScaler or MinMaxScaler.\n",
            "  % self.max_iter, ConvergenceWarning)\n",
            "/usr/local/lib/python3.6/dist-packages/sklearn/svm/_base.py:231: ConvergenceWarning: Solver terminated early (max_iter=700).  Consider pre-processing your data with StandardScaler or MinMaxScaler.\n",
            "  % self.max_iter, ConvergenceWarning)\n",
            "/usr/local/lib/python3.6/dist-packages/sklearn/svm/_base.py:231: ConvergenceWarning: Solver terminated early (max_iter=700).  Consider pre-processing your data with StandardScaler or MinMaxScaler.\n",
            "  % self.max_iter, ConvergenceWarning)\n",
            "/usr/local/lib/python3.6/dist-packages/sklearn/svm/_base.py:231: ConvergenceWarning: Solver terminated early (max_iter=700).  Consider pre-processing your data with StandardScaler or MinMaxScaler.\n",
            "  % self.max_iter, ConvergenceWarning)\n",
            "/usr/local/lib/python3.6/dist-packages/sklearn/svm/_base.py:231: ConvergenceWarning: Solver terminated early (max_iter=700).  Consider pre-processing your data with StandardScaler or MinMaxScaler.\n",
            "  % self.max_iter, ConvergenceWarning)\n"
          ],
          "name": "stderr"
        },
        {
          "output_type": "stream",
          "text": [
            "[CV]  C=1000, degree=3, gamma=1, kernel=rbf, score=0.886, total=   0.1s\n",
            "[CV] C=1000, degree=3, gamma=1, kernel=rbf ...........................\n",
            "[CV]  C=1000, degree=3, gamma=1, kernel=rbf, score=0.900, total=   0.0s\n",
            "[CV] C=1000, degree=3, gamma=1, kernel=poly ..........................\n",
            "[CV]  C=1000, degree=3, gamma=1, kernel=poly, score=1.000, total=   0.0s\n",
            "[CV] C=1000, degree=3, gamma=1, kernel=poly ..........................\n",
            "[CV]  C=1000, degree=3, gamma=1, kernel=poly, score=0.991, total=   0.0s\n",
            "[CV] C=1000, degree=3, gamma=1, kernel=poly ..........................\n",
            "[CV]  C=1000, degree=3, gamma=1, kernel=poly, score=1.000, total=   0.0s\n",
            "[CV] C=1000, degree=3, gamma=1, kernel=poly ..........................\n",
            "[CV]  C=1000, degree=3, gamma=1, kernel=poly, score=1.000, total=   0.0s\n",
            "[CV] C=1000, degree=3, gamma=1, kernel=poly ..........................\n",
            "[CV]  C=1000, degree=3, gamma=1, kernel=poly, score=1.000, total=   0.0s\n",
            "[CV] C=1000, degree=3, gamma=0.1, kernel=rbf .........................\n",
            "[CV]  C=1000, degree=3, gamma=0.1, kernel=rbf, score=0.995, total=   0.0s\n",
            "[CV] C=1000, degree=3, gamma=0.1, kernel=rbf .........................\n",
            "[CV]  C=1000, degree=3, gamma=0.1, kernel=rbf, score=1.000, total=   0.0s\n",
            "[CV] C=1000, degree=3, gamma=0.1, kernel=rbf .........................\n",
            "[CV]  C=1000, degree=3, gamma=0.1, kernel=rbf, score=1.000, total=   0.0s\n",
            "[CV] C=1000, degree=3, gamma=0.1, kernel=rbf .........................\n",
            "[CV]  C=1000, degree=3, gamma=0.1, kernel=rbf, score=1.000, total=   0.0s\n",
            "[CV] C=1000, degree=3, gamma=0.1, kernel=rbf .........................\n",
            "[CV]  C=1000, degree=3, gamma=0.1, kernel=rbf, score=1.000, total=   0.0s\n",
            "[CV] C=1000, degree=3, gamma=0.1, kernel=poly ........................\n",
            "[CV]  C=1000, degree=3, gamma=0.1, kernel=poly, score=1.000, total=   0.0s\n",
            "[CV] C=1000, degree=3, gamma=0.1, kernel=poly ........................\n",
            "[CV]  C=1000, degree=3, gamma=0.1, kernel=poly, score=0.991, total=   0.0s\n",
            "[CV] C=1000, degree=3, gamma=0.1, kernel=poly ........................\n"
          ],
          "name": "stdout"
        },
        {
          "output_type": "stream",
          "text": [
            "/usr/local/lib/python3.6/dist-packages/sklearn/svm/_base.py:231: ConvergenceWarning: Solver terminated early (max_iter=700).  Consider pre-processing your data with StandardScaler or MinMaxScaler.\n",
            "  % self.max_iter, ConvergenceWarning)\n",
            "/usr/local/lib/python3.6/dist-packages/sklearn/svm/_base.py:231: ConvergenceWarning: Solver terminated early (max_iter=700).  Consider pre-processing your data with StandardScaler or MinMaxScaler.\n",
            "  % self.max_iter, ConvergenceWarning)\n"
          ],
          "name": "stderr"
        },
        {
          "output_type": "stream",
          "text": [
            "[CV]  C=1000, degree=3, gamma=0.1, kernel=poly, score=1.000, total=   0.0s\n",
            "[CV] C=1000, degree=3, gamma=0.1, kernel=poly ........................\n",
            "[CV]  C=1000, degree=3, gamma=0.1, kernel=poly, score=1.000, total=   0.0s\n",
            "[CV] C=1000, degree=3, gamma=0.1, kernel=poly ........................\n",
            "[CV]  C=1000, degree=3, gamma=0.1, kernel=poly, score=1.000, total=   0.0s\n",
            "[CV] C=1000, degree=3, gamma=0.01, kernel=rbf ........................\n",
            "[CV]  C=1000, degree=3, gamma=0.01, kernel=rbf, score=1.000, total=   0.0s\n",
            "[CV] C=1000, degree=3, gamma=0.01, kernel=rbf ........................\n",
            "[CV]  C=1000, degree=3, gamma=0.01, kernel=rbf, score=1.000, total=   0.0s\n",
            "[CV] C=1000, degree=3, gamma=0.01, kernel=rbf ........................\n",
            "[CV]  C=1000, degree=3, gamma=0.01, kernel=rbf, score=1.000, total=   0.0s\n",
            "[CV] C=1000, degree=3, gamma=0.01, kernel=rbf ........................\n",
            "[CV]  C=1000, degree=3, gamma=0.01, kernel=rbf, score=1.000, total=   0.0s\n",
            "[CV] C=1000, degree=3, gamma=0.01, kernel=rbf ........................\n",
            "[CV]  C=1000, degree=3, gamma=0.01, kernel=rbf, score=1.000, total=   0.0s\n",
            "[CV] C=1000, degree=3, gamma=0.01, kernel=poly .......................\n",
            "[CV]  C=1000, degree=3, gamma=0.01, kernel=poly, score=1.000, total=   0.0s\n",
            "[CV] C=1000, degree=3, gamma=0.01, kernel=poly .......................\n",
            "[CV]  C=1000, degree=3, gamma=0.01, kernel=poly, score=0.991, total=   0.0s\n",
            "[CV] C=1000, degree=3, gamma=0.01, kernel=poly .......................\n",
            "[CV]  C=1000, degree=3, gamma=0.01, kernel=poly, score=1.000, total=   0.0s\n",
            "[CV] C=1000, degree=3, gamma=0.01, kernel=poly .......................\n",
            "[CV]  C=1000, degree=3, gamma=0.01, kernel=poly, score=1.000, total=   0.0s\n",
            "[CV] C=1000, degree=3, gamma=0.01, kernel=poly .......................\n",
            "[CV]  C=1000, degree=3, gamma=0.01, kernel=poly, score=1.000, total=   0.0s\n",
            "[CV] C=1000, degree=3, gamma=0.001, kernel=rbf .......................\n",
            "[CV]  C=1000, degree=3, gamma=0.001, kernel=rbf, score=1.000, total=   0.0s\n",
            "[CV] C=1000, degree=3, gamma=0.001, kernel=rbf .......................\n",
            "[CV]  C=1000, degree=3, gamma=0.001, kernel=rbf, score=1.000, total=   0.0s\n",
            "[CV] C=1000, degree=3, gamma=0.001, kernel=rbf .......................\n",
            "[CV]  C=1000, degree=3, gamma=0.001, kernel=rbf, score=1.000, total=   0.0s\n",
            "[CV] C=1000, degree=3, gamma=0.001, kernel=rbf .......................\n",
            "[CV]  C=1000, degree=3, gamma=0.001, kernel=rbf, score=1.000, total=   0.0s\n",
            "[CV] C=1000, degree=3, gamma=0.001, kernel=rbf .......................\n",
            "[CV]  C=1000, degree=3, gamma=0.001, kernel=rbf, score=1.000, total=   0.0s\n",
            "[CV] C=1000, degree=3, gamma=0.001, kernel=poly ......................\n",
            "[CV]  C=1000, degree=3, gamma=0.001, kernel=poly, score=0.995, total=   0.0s\n",
            "[CV] C=1000, degree=3, gamma=0.001, kernel=poly ......................\n"
          ],
          "name": "stdout"
        },
        {
          "output_type": "stream",
          "text": [
            "/usr/local/lib/python3.6/dist-packages/sklearn/svm/_base.py:231: ConvergenceWarning: Solver terminated early (max_iter=700).  Consider pre-processing your data with StandardScaler or MinMaxScaler.\n",
            "  % self.max_iter, ConvergenceWarning)\n",
            "/usr/local/lib/python3.6/dist-packages/sklearn/svm/_base.py:231: ConvergenceWarning: Solver terminated early (max_iter=700).  Consider pre-processing your data with StandardScaler or MinMaxScaler.\n",
            "  % self.max_iter, ConvergenceWarning)\n",
            "/usr/local/lib/python3.6/dist-packages/sklearn/svm/_base.py:231: ConvergenceWarning: Solver terminated early (max_iter=700).  Consider pre-processing your data with StandardScaler or MinMaxScaler.\n",
            "  % self.max_iter, ConvergenceWarning)\n",
            "/usr/local/lib/python3.6/dist-packages/sklearn/svm/_base.py:231: ConvergenceWarning: Solver terminated early (max_iter=700).  Consider pre-processing your data with StandardScaler or MinMaxScaler.\n",
            "  % self.max_iter, ConvergenceWarning)\n",
            "/usr/local/lib/python3.6/dist-packages/sklearn/svm/_base.py:231: ConvergenceWarning: Solver terminated early (max_iter=700).  Consider pre-processing your data with StandardScaler or MinMaxScaler.\n",
            "  % self.max_iter, ConvergenceWarning)\n",
            "/usr/local/lib/python3.6/dist-packages/sklearn/svm/_base.py:231: ConvergenceWarning: Solver terminated early (max_iter=700).  Consider pre-processing your data with StandardScaler or MinMaxScaler.\n",
            "  % self.max_iter, ConvergenceWarning)\n",
            "/usr/local/lib/python3.6/dist-packages/sklearn/svm/_base.py:231: ConvergenceWarning: Solver terminated early (max_iter=700).  Consider pre-processing your data with StandardScaler or MinMaxScaler.\n",
            "  % self.max_iter, ConvergenceWarning)\n"
          ],
          "name": "stderr"
        },
        {
          "output_type": "stream",
          "text": [
            "[CV]  C=1000, degree=3, gamma=0.001, kernel=poly, score=0.991, total=   0.0s\n",
            "[CV] C=1000, degree=3, gamma=0.001, kernel=poly ......................\n",
            "[CV]  C=1000, degree=3, gamma=0.001, kernel=poly, score=1.000, total=   0.0s\n",
            "[CV] C=1000, degree=3, gamma=0.001, kernel=poly ......................\n",
            "[CV]  C=1000, degree=3, gamma=0.001, kernel=poly, score=0.995, total=   0.0s\n",
            "[CV] C=1000, degree=3, gamma=0.001, kernel=poly ......................\n",
            "[CV]  C=1000, degree=3, gamma=0.001, kernel=poly, score=0.995, total=   0.0s\n",
            "[CV] C=1000, degree=3, gamma=100, kernel=rbf .........................\n",
            "[CV]  C=1000, degree=3, gamma=100, kernel=rbf, score=0.801, total=   0.0s\n",
            "[CV] C=1000, degree=3, gamma=100, kernel=rbf .........................\n",
            "[CV]  C=1000, degree=3, gamma=100, kernel=rbf, score=0.744, total=   0.0s\n",
            "[CV] C=1000, degree=3, gamma=100, kernel=rbf .........................\n",
            "[CV]  C=1000, degree=3, gamma=100, kernel=rbf, score=0.773, total=   0.0s\n",
            "[CV] C=1000, degree=3, gamma=100, kernel=rbf .........................\n",
            "[CV]  C=1000, degree=3, gamma=100, kernel=rbf, score=0.782, total=   0.0s\n",
            "[CV] C=1000, degree=3, gamma=100, kernel=rbf .........................\n"
          ],
          "name": "stdout"
        },
        {
          "output_type": "stream",
          "text": [
            "/usr/local/lib/python3.6/dist-packages/sklearn/svm/_base.py:231: ConvergenceWarning: Solver terminated early (max_iter=700).  Consider pre-processing your data with StandardScaler or MinMaxScaler.\n",
            "  % self.max_iter, ConvergenceWarning)\n",
            "/usr/local/lib/python3.6/dist-packages/sklearn/svm/_base.py:231: ConvergenceWarning: Solver terminated early (max_iter=700).  Consider pre-processing your data with StandardScaler or MinMaxScaler.\n",
            "  % self.max_iter, ConvergenceWarning)\n",
            "/usr/local/lib/python3.6/dist-packages/sklearn/svm/_base.py:231: ConvergenceWarning: Solver terminated early (max_iter=700).  Consider pre-processing your data with StandardScaler or MinMaxScaler.\n",
            "  % self.max_iter, ConvergenceWarning)\n",
            "/usr/local/lib/python3.6/dist-packages/sklearn/svm/_base.py:231: ConvergenceWarning: Solver terminated early (max_iter=700).  Consider pre-processing your data with StandardScaler or MinMaxScaler.\n",
            "  % self.max_iter, ConvergenceWarning)\n",
            "/usr/local/lib/python3.6/dist-packages/sklearn/svm/_base.py:231: ConvergenceWarning: Solver terminated early (max_iter=700).  Consider pre-processing your data with StandardScaler or MinMaxScaler.\n",
            "  % self.max_iter, ConvergenceWarning)\n",
            "/usr/local/lib/python3.6/dist-packages/sklearn/svm/_base.py:231: ConvergenceWarning: Solver terminated early (max_iter=700).  Consider pre-processing your data with StandardScaler or MinMaxScaler.\n",
            "  % self.max_iter, ConvergenceWarning)\n"
          ],
          "name": "stderr"
        },
        {
          "output_type": "stream",
          "text": [
            "[CV]  C=1000, degree=3, gamma=100, kernel=rbf, score=0.762, total=   0.0s\n",
            "[CV] C=1000, degree=3, gamma=100, kernel=poly ........................\n",
            "[CV]  C=1000, degree=3, gamma=100, kernel=poly, score=1.000, total=   0.0s\n",
            "[CV] C=1000, degree=3, gamma=100, kernel=poly ........................\n",
            "[CV]  C=1000, degree=3, gamma=100, kernel=poly, score=0.991, total=   0.0s\n",
            "[CV] C=1000, degree=3, gamma=100, kernel=poly ........................\n",
            "[CV]  C=1000, degree=3, gamma=100, kernel=poly, score=1.000, total=   0.0s\n",
            "[CV] C=1000, degree=3, gamma=100, kernel=poly ........................\n",
            "[CV]  C=1000, degree=3, gamma=100, kernel=poly, score=1.000, total=   0.0s\n",
            "[CV] C=1000, degree=3, gamma=100, kernel=poly ........................\n",
            "[CV]  C=1000, degree=3, gamma=100, kernel=poly, score=1.000, total=   0.0s\n",
            "[CV] C=1000, degree=4, gamma=1, kernel=rbf ...........................\n",
            "[CV]  C=1000, degree=4, gamma=1, kernel=rbf, score=0.905, total=   0.1s\n",
            "[CV] C=1000, degree=4, gamma=1, kernel=rbf ...........................\n",
            "[CV]  C=1000, degree=4, gamma=1, kernel=rbf, score=0.877, total=   0.0s\n",
            "[CV] C=1000, degree=4, gamma=1, kernel=rbf ...........................\n"
          ],
          "name": "stdout"
        },
        {
          "output_type": "stream",
          "text": [
            "/usr/local/lib/python3.6/dist-packages/sklearn/svm/_base.py:231: ConvergenceWarning: Solver terminated early (max_iter=700).  Consider pre-processing your data with StandardScaler or MinMaxScaler.\n",
            "  % self.max_iter, ConvergenceWarning)\n",
            "/usr/local/lib/python3.6/dist-packages/sklearn/svm/_base.py:231: ConvergenceWarning: Solver terminated early (max_iter=700).  Consider pre-processing your data with StandardScaler or MinMaxScaler.\n",
            "  % self.max_iter, ConvergenceWarning)\n",
            "/usr/local/lib/python3.6/dist-packages/sklearn/svm/_base.py:231: ConvergenceWarning: Solver terminated early (max_iter=700).  Consider pre-processing your data with StandardScaler or MinMaxScaler.\n",
            "  % self.max_iter, ConvergenceWarning)\n",
            "/usr/local/lib/python3.6/dist-packages/sklearn/svm/_base.py:231: ConvergenceWarning: Solver terminated early (max_iter=700).  Consider pre-processing your data with StandardScaler or MinMaxScaler.\n",
            "  % self.max_iter, ConvergenceWarning)\n"
          ],
          "name": "stderr"
        },
        {
          "output_type": "stream",
          "text": [
            "[CV]  C=1000, degree=4, gamma=1, kernel=rbf, score=0.900, total=   0.1s\n",
            "[CV] C=1000, degree=4, gamma=1, kernel=rbf ...........................\n",
            "[CV]  C=1000, degree=4, gamma=1, kernel=rbf, score=0.886, total=   0.1s\n",
            "[CV] C=1000, degree=4, gamma=1, kernel=rbf ...........................\n",
            "[CV]  C=1000, degree=4, gamma=1, kernel=rbf, score=0.900, total=   0.1s\n",
            "[CV] C=1000, degree=4, gamma=1, kernel=poly ..........................\n",
            "[CV]  C=1000, degree=4, gamma=1, kernel=poly, score=1.000, total=   0.0s\n",
            "[CV] C=1000, degree=4, gamma=1, kernel=poly ..........................\n",
            "[CV]  C=1000, degree=4, gamma=1, kernel=poly, score=0.991, total=   0.0s\n",
            "[CV] C=1000, degree=4, gamma=1, kernel=poly ..........................\n",
            "[CV]  C=1000, degree=4, gamma=1, kernel=poly, score=1.000, total=   0.0s\n",
            "[CV] C=1000, degree=4, gamma=1, kernel=poly ..........................\n",
            "[CV]  C=1000, degree=4, gamma=1, kernel=poly, score=1.000, total=   0.0s\n",
            "[CV] C=1000, degree=4, gamma=1, kernel=poly ..........................\n",
            "[CV]  C=1000, degree=4, gamma=1, kernel=poly, score=1.000, total=   0.0s\n",
            "[CV] C=1000, degree=4, gamma=0.1, kernel=rbf .........................\n",
            "[CV]  C=1000, degree=4, gamma=0.1, kernel=rbf, score=0.995, total=   0.0s\n",
            "[CV] C=1000, degree=4, gamma=0.1, kernel=rbf .........................\n",
            "[CV]  C=1000, degree=4, gamma=0.1, kernel=rbf, score=1.000, total=   0.0s\n",
            "[CV] C=1000, degree=4, gamma=0.1, kernel=rbf .........................\n",
            "[CV]  C=1000, degree=4, gamma=0.1, kernel=rbf, score=1.000, total=   0.0s\n",
            "[CV] C=1000, degree=4, gamma=0.1, kernel=rbf .........................\n"
          ],
          "name": "stdout"
        },
        {
          "output_type": "stream",
          "text": [
            "/usr/local/lib/python3.6/dist-packages/sklearn/svm/_base.py:231: ConvergenceWarning: Solver terminated early (max_iter=700).  Consider pre-processing your data with StandardScaler or MinMaxScaler.\n",
            "  % self.max_iter, ConvergenceWarning)\n"
          ],
          "name": "stderr"
        },
        {
          "output_type": "stream",
          "text": [
            "[CV]  C=1000, degree=4, gamma=0.1, kernel=rbf, score=1.000, total=   0.0s\n",
            "[CV] C=1000, degree=4, gamma=0.1, kernel=rbf .........................\n",
            "[CV]  C=1000, degree=4, gamma=0.1, kernel=rbf, score=1.000, total=   0.0s\n",
            "[CV] C=1000, degree=4, gamma=0.1, kernel=poly ........................\n",
            "[CV]  C=1000, degree=4, gamma=0.1, kernel=poly, score=1.000, total=   0.0s\n",
            "[CV] C=1000, degree=4, gamma=0.1, kernel=poly ........................\n",
            "[CV]  C=1000, degree=4, gamma=0.1, kernel=poly, score=0.991, total=   0.0s\n",
            "[CV] C=1000, degree=4, gamma=0.1, kernel=poly ........................\n",
            "[CV]  C=1000, degree=4, gamma=0.1, kernel=poly, score=1.000, total=   0.0s\n",
            "[CV] C=1000, degree=4, gamma=0.1, kernel=poly ........................\n",
            "[CV]  C=1000, degree=4, gamma=0.1, kernel=poly, score=1.000, total=   0.0s\n",
            "[CV] C=1000, degree=4, gamma=0.1, kernel=poly ........................\n",
            "[CV]  C=1000, degree=4, gamma=0.1, kernel=poly, score=1.000, total=   0.0s\n",
            "[CV] C=1000, degree=4, gamma=0.01, kernel=rbf ........................\n",
            "[CV]  C=1000, degree=4, gamma=0.01, kernel=rbf, score=1.000, total=   0.0s\n",
            "[CV] C=1000, degree=4, gamma=0.01, kernel=rbf ........................\n",
            "[CV]  C=1000, degree=4, gamma=0.01, kernel=rbf, score=1.000, total=   0.0s\n",
            "[CV] C=1000, degree=4, gamma=0.01, kernel=rbf ........................\n",
            "[CV]  C=1000, degree=4, gamma=0.01, kernel=rbf, score=1.000, total=   0.0s\n",
            "[CV] C=1000, degree=4, gamma=0.01, kernel=rbf ........................\n",
            "[CV]  C=1000, degree=4, gamma=0.01, kernel=rbf, score=1.000, total=   0.0s\n",
            "[CV] C=1000, degree=4, gamma=0.01, kernel=rbf ........................\n",
            "[CV]  C=1000, degree=4, gamma=0.01, kernel=rbf, score=1.000, total=   0.0s\n",
            "[CV] C=1000, degree=4, gamma=0.01, kernel=poly .......................\n",
            "[CV]  C=1000, degree=4, gamma=0.01, kernel=poly, score=1.000, total=   0.0s\n",
            "[CV] C=1000, degree=4, gamma=0.01, kernel=poly .......................\n",
            "[CV]  C=1000, degree=4, gamma=0.01, kernel=poly, score=0.991, total=   0.0s\n",
            "[CV] C=1000, degree=4, gamma=0.01, kernel=poly .......................\n",
            "[CV]  C=1000, degree=4, gamma=0.01, kernel=poly, score=1.000, total=   0.0s\n",
            "[CV] C=1000, degree=4, gamma=0.01, kernel=poly .......................\n",
            "[CV]  C=1000, degree=4, gamma=0.01, kernel=poly, score=1.000, total=   0.0s\n",
            "[CV] C=1000, degree=4, gamma=0.01, kernel=poly .......................\n",
            "[CV]  C=1000, degree=4, gamma=0.01, kernel=poly, score=1.000, total=   0.0s\n",
            "[CV] C=1000, degree=4, gamma=0.001, kernel=rbf .......................\n",
            "[CV]  C=1000, degree=4, gamma=0.001, kernel=rbf, score=1.000, total=   0.0s\n",
            "[CV] C=1000, degree=4, gamma=0.001, kernel=rbf .......................\n",
            "[CV]  C=1000, degree=4, gamma=0.001, kernel=rbf, score=1.000, total=   0.0s\n",
            "[CV] C=1000, degree=4, gamma=0.001, kernel=rbf .......................\n",
            "[CV]  C=1000, degree=4, gamma=0.001, kernel=rbf, score=1.000, total=   0.0s\n",
            "[CV] C=1000, degree=4, gamma=0.001, kernel=rbf .......................\n",
            "[CV]  C=1000, degree=4, gamma=0.001, kernel=rbf, score=1.000, total=   0.0s\n",
            "[CV] C=1000, degree=4, gamma=0.001, kernel=rbf .......................\n",
            "[CV]  C=1000, degree=4, gamma=0.001, kernel=rbf, score=1.000, total=   0.0s\n",
            "[CV] C=1000, degree=4, gamma=0.001, kernel=poly ......................\n",
            "[CV]  C=1000, degree=4, gamma=0.001, kernel=poly, score=0.957, total=   0.0s\n",
            "[CV] C=1000, degree=4, gamma=0.001, kernel=poly ......................\n",
            "[CV]  C=1000, degree=4, gamma=0.001, kernel=poly, score=0.981, total=   0.0s\n",
            "[CV] C=1000, degree=4, gamma=0.001, kernel=poly ......................\n",
            "[CV]  C=1000, degree=4, gamma=0.001, kernel=poly, score=0.991, total=   0.0s\n",
            "[CV] C=1000, degree=4, gamma=0.001, kernel=poly ......................\n",
            "[CV]  C=1000, degree=4, gamma=0.001, kernel=poly, score=0.962, total=   0.0s\n",
            "[CV] C=1000, degree=4, gamma=0.001, kernel=poly ......................\n",
            "[CV]  C=1000, degree=4, gamma=0.001, kernel=poly, score=0.967, total=   0.0s\n",
            "[CV] C=1000, degree=4, gamma=100, kernel=rbf .........................\n"
          ],
          "name": "stdout"
        },
        {
          "output_type": "stream",
          "text": [
            "/usr/local/lib/python3.6/dist-packages/sklearn/svm/_base.py:231: ConvergenceWarning: Solver terminated early (max_iter=700).  Consider pre-processing your data with StandardScaler or MinMaxScaler.\n",
            "  % self.max_iter, ConvergenceWarning)\n",
            "/usr/local/lib/python3.6/dist-packages/sklearn/svm/_base.py:231: ConvergenceWarning: Solver terminated early (max_iter=700).  Consider pre-processing your data with StandardScaler or MinMaxScaler.\n",
            "  % self.max_iter, ConvergenceWarning)\n",
            "/usr/local/lib/python3.6/dist-packages/sklearn/svm/_base.py:231: ConvergenceWarning: Solver terminated early (max_iter=700).  Consider pre-processing your data with StandardScaler or MinMaxScaler.\n",
            "  % self.max_iter, ConvergenceWarning)\n",
            "/usr/local/lib/python3.6/dist-packages/sklearn/svm/_base.py:231: ConvergenceWarning: Solver terminated early (max_iter=700).  Consider pre-processing your data with StandardScaler or MinMaxScaler.\n",
            "  % self.max_iter, ConvergenceWarning)\n",
            "/usr/local/lib/python3.6/dist-packages/sklearn/svm/_base.py:231: ConvergenceWarning: Solver terminated early (max_iter=700).  Consider pre-processing your data with StandardScaler or MinMaxScaler.\n",
            "  % self.max_iter, ConvergenceWarning)\n",
            "/usr/local/lib/python3.6/dist-packages/sklearn/svm/_base.py:231: ConvergenceWarning: Solver terminated early (max_iter=700).  Consider pre-processing your data with StandardScaler or MinMaxScaler.\n",
            "  % self.max_iter, ConvergenceWarning)\n"
          ],
          "name": "stderr"
        },
        {
          "output_type": "stream",
          "text": [
            "[CV]  C=1000, degree=4, gamma=100, kernel=rbf, score=0.801, total=   0.0s\n",
            "[CV] C=1000, degree=4, gamma=100, kernel=rbf .........................\n",
            "[CV]  C=1000, degree=4, gamma=100, kernel=rbf, score=0.744, total=   0.0s\n",
            "[CV] C=1000, degree=4, gamma=100, kernel=rbf .........................\n",
            "[CV]  C=1000, degree=4, gamma=100, kernel=rbf, score=0.773, total=   0.0s\n",
            "[CV] C=1000, degree=4, gamma=100, kernel=rbf .........................\n",
            "[CV]  C=1000, degree=4, gamma=100, kernel=rbf, score=0.782, total=   0.0s\n",
            "[CV] C=1000, degree=4, gamma=100, kernel=rbf .........................\n",
            "[CV]  C=1000, degree=4, gamma=100, kernel=rbf, score=0.762, total=   0.0s\n",
            "[CV] C=1000, degree=4, gamma=100, kernel=poly ........................\n",
            "[CV]  C=1000, degree=4, gamma=100, kernel=poly, score=1.000, total=   0.0s\n",
            "[CV] C=1000, degree=4, gamma=100, kernel=poly ........................\n",
            "[CV]  C=1000, degree=4, gamma=100, kernel=poly, score=0.991, total=   0.0s\n",
            "[CV] C=1000, degree=4, gamma=100, kernel=poly ........................\n",
            "[CV]  C=1000, degree=4, gamma=100, kernel=poly, score=1.000, total=   0.0s\n",
            "[CV] C=1000, degree=4, gamma=100, kernel=poly ........................\n",
            "[CV]  C=1000, degree=4, gamma=100, kernel=poly, score=1.000, total=   0.0s\n",
            "[CV] C=1000, degree=4, gamma=100, kernel=poly ........................\n",
            "[CV]  C=1000, degree=4, gamma=100, kernel=poly, score=1.000, total=   0.0s\n"
          ],
          "name": "stdout"
        },
        {
          "output_type": "stream",
          "text": [
            "/usr/local/lib/python3.6/dist-packages/sklearn/svm/_base.py:231: ConvergenceWarning: Solver terminated early (max_iter=700).  Consider pre-processing your data with StandardScaler or MinMaxScaler.\n",
            "  % self.max_iter, ConvergenceWarning)\n",
            "/usr/local/lib/python3.6/dist-packages/sklearn/svm/_base.py:231: ConvergenceWarning: Solver terminated early (max_iter=700).  Consider pre-processing your data with StandardScaler or MinMaxScaler.\n",
            "  % self.max_iter, ConvergenceWarning)\n",
            "/usr/local/lib/python3.6/dist-packages/sklearn/svm/_base.py:231: ConvergenceWarning: Solver terminated early (max_iter=700).  Consider pre-processing your data with StandardScaler or MinMaxScaler.\n",
            "  % self.max_iter, ConvergenceWarning)\n",
            "/usr/local/lib/python3.6/dist-packages/sklearn/svm/_base.py:231: ConvergenceWarning: Solver terminated early (max_iter=700).  Consider pre-processing your data with StandardScaler or MinMaxScaler.\n",
            "  % self.max_iter, ConvergenceWarning)\n",
            "[Parallel(n_jobs=1)]: Done 750 out of 750 | elapsed:   15.1s finished\n",
            "/usr/local/lib/python3.6/dist-packages/sklearn/svm/_base.py:231: ConvergenceWarning: Solver terminated early (max_iter=700).  Consider pre-processing your data with StandardScaler or MinMaxScaler.\n",
            "  % self.max_iter, ConvergenceWarning)\n"
          ],
          "name": "stderr"
        },
        {
          "output_type": "execute_result",
          "data": {
            "text/plain": [
              "GridSearchCV(cv=KFold(n_splits=5, random_state=None, shuffle=True),\n",
              "             error_score=nan,\n",
              "             estimator=SVC(C=1.0, break_ties=False, cache_size=300,\n",
              "                           class_weight=None, coef0=0.0,\n",
              "                           decision_function_shape='ovr', degree=3,\n",
              "                           gamma='scale', kernel='rbf', max_iter=700,\n",
              "                           probability=False, random_state=None, shrinking=True,\n",
              "                           tol=0.001, verbose=False),\n",
              "             iid='deprecated', n_jobs=None,\n",
              "             param_grid={'C': [0.1, 1, 10, 100, 1000], 'degree': [2, 3, 4],\n",
              "                         'gamma': [1, 0.1, 0.01, 0.001, 100],\n",
              "                         'kernel': ['rbf', 'poly']},\n",
              "             pre_dispatch='2*n_jobs', refit=True, return_train_score=False,\n",
              "             scoring=None, verbose=3)"
            ]
          },
          "metadata": {
            "tags": []
          },
          "execution_count": 131
        }
      ]
    },
    {
      "cell_type": "code",
      "metadata": {
        "id": "wmw3RtqYTV20",
        "outputId": "e53d5bb3-be57-4960-a8d2-2886b8ea52c4",
        "colab": {
          "base_uri": "https://localhost:8080/"
        }
      },
      "source": [
        "grid_pred = grid.predict(x_test)\n",
        "grid_pred"
      ],
      "execution_count": null,
      "outputs": [
        {
          "output_type": "execute_result",
          "data": {
            "text/plain": [
              "array([0, 0, 0, 0, 0, 0, 0, 0, 0, 0, 0, 0, 0, 0, 0, 0, 0, 0, 0, 0, 0, 0,\n",
              "       0, 0, 0, 0, 0, 0, 0, 0, 0, 0, 0, 0, 0, 0, 0, 0, 0, 0, 0, 0, 0, 0,\n",
              "       0, 0, 0, 0, 0, 0, 0, 0, 0, 0, 0, 0, 0, 0, 0, 0, 0, 0, 0, 0, 0, 0,\n",
              "       0, 0, 0, 0, 0, 0, 0, 0, 0, 0, 0, 0, 0, 0, 0, 0, 0, 0, 0, 0, 0, 0,\n",
              "       0, 0, 0, 0, 0, 0, 0, 0, 0, 0, 0, 0, 0, 0, 0, 0, 0, 0, 0, 0, 0, 0,\n",
              "       0, 0, 0, 0, 0, 0, 0, 0, 0, 0, 0, 0, 0, 0, 0, 0, 0, 0, 0, 0, 0, 0,\n",
              "       0, 0, 0, 0, 0, 0, 0, 0, 0, 0, 0, 0, 0, 0, 0, 0, 0, 0, 0, 0, 0, 0,\n",
              "       0, 0, 0, 0, 0, 0, 0, 0, 0, 0, 0, 0, 0, 0, 0, 0, 0, 0, 0, 0, 0, 0,\n",
              "       0, 0, 0, 0, 0, 0, 0, 0, 0, 0, 0, 0, 0, 0, 0, 0, 0, 0, 0, 0, 0, 0,\n",
              "       0, 0, 0, 0, 0, 0, 0, 0, 0, 0, 0, 0, 0, 0, 0, 0, 0, 0, 0, 0, 0, 0,\n",
              "       0, 0, 0, 0, 0, 0, 0, 0, 0, 0, 0, 0, 0, 0, 0, 0, 0, 0, 0, 0, 0, 0,\n",
              "       0, 0, 0, 0, 0, 0, 0, 0, 0, 0, 0, 0, 0, 0, 0, 0, 0, 0, 0, 0, 0, 0,\n",
              "       0, 0, 0, 0, 0, 0, 0, 0, 0, 0, 0, 0, 0, 0, 0, 0, 0, 0, 0, 0, 0, 0,\n",
              "       0, 0, 0, 0, 0, 0, 0, 0, 0, 0, 0, 0, 0, 0, 0, 0, 0, 0, 0, 0, 0, 0,\n",
              "       0, 0, 0, 0, 0, 0, 0, 0, 0, 0, 0, 0, 0, 0, 0, 0, 0, 0, 0, 0, 0, 0,\n",
              "       0, 0, 0, 0, 0, 0, 0, 0, 0, 0, 0, 0, 0, 0, 0, 0, 0, 0, 0, 0, 0, 0,\n",
              "       0, 0, 0, 0, 0, 0, 0, 0, 0, 0, 0, 0, 0, 0, 0, 0, 0, 0, 0, 0, 0, 0,\n",
              "       0, 0, 0, 0, 0, 0, 0, 0, 0, 0, 0, 0, 0, 0, 0, 0, 0, 0, 0, 0, 0, 0,\n",
              "       0, 0, 0, 0, 0, 0, 0, 0, 0, 0, 0, 0, 0, 0, 0, 0, 0, 0, 0, 0, 0, 0,\n",
              "       0, 0, 0, 0, 0, 0, 0, 0, 0, 0, 0, 0, 0, 0, 0, 0, 0, 0, 0, 0, 0, 0,\n",
              "       0, 0, 0, 0, 0, 0, 0, 0, 0, 0, 0, 0, 0, 0, 0, 0, 0, 0, 0, 0, 0, 0,\n",
              "       0, 0, 0, 0, 0, 0, 0, 0, 0, 0, 0, 0, 0, 0, 0, 0, 0, 0, 0, 0, 0, 0,\n",
              "       0, 0, 0, 0, 0, 0, 0, 0, 0, 0, 0, 0, 0, 0, 0, 0, 0, 0, 0, 0, 0, 0,\n",
              "       0, 0, 0, 0, 0, 0, 0, 0, 0, 0, 0, 0, 0, 0, 0, 0, 0, 0, 0, 0, 0, 0,\n",
              "       0, 0, 0, 0, 0, 0, 0, 0, 0, 0, 0, 0, 0, 0, 0, 0, 0, 0, 0, 0, 0, 0,\n",
              "       0, 0, 0, 0, 0, 0, 0, 0, 0, 0, 0, 0, 0, 0, 0, 0, 0, 0, 0, 0, 0, 0,\n",
              "       0, 0, 0, 0, 0, 0, 0, 0, 0, 0, 0, 0, 0, 0, 0, 0, 0, 0, 0, 0, 0, 0,\n",
              "       0, 0, 0, 0, 0, 0, 0, 0, 0, 0, 0, 0, 0, 0, 0, 0, 0, 0, 0, 0, 0, 0,\n",
              "       0, 0, 0, 0, 0, 0, 0, 0, 0, 0, 0, 0, 0, 0, 0, 0, 0, 0, 0, 0, 0, 0,\n",
              "       0, 0, 0, 0, 0, 0, 0, 0, 0, 0, 0, 0, 0, 0, 0, 0, 0, 0, 0, 0, 0, 0,\n",
              "       0, 0, 0, 0, 0, 0, 0, 0, 0, 0, 0, 0, 0, 0, 0, 0, 0, 0, 0, 0, 0, 0,\n",
              "       0, 0, 0, 0, 0, 0, 0, 0, 0, 0, 0, 0, 0, 0, 0, 0, 0, 0, 0, 0, 0, 0])"
            ]
          },
          "metadata": {
            "tags": []
          },
          "execution_count": 132
        }
      ]
    },
    {
      "cell_type": "code",
      "metadata": {
        "id": "69TkGfSKTV22",
        "outputId": "9eeddfe3-a210-4eab-e3cf-f15053597538",
        "colab": {
          "base_uri": "https://localhost:8080/"
        }
      },
      "source": [
        "print(classification_report(y_test,grid_pred))\n",
        "print(confusion_matrix(y_test,grid_pred))\n",
        "print(accuracy_score(y_test,grid_pred))"
      ],
      "execution_count": null,
      "outputs": [
        {
          "output_type": "stream",
          "text": [
            "              precision    recall  f1-score   support\n",
            "\n",
            "           0       0.73      1.00      0.84       515\n",
            "           1       0.00      0.00      0.00       189\n",
            "\n",
            "    accuracy                           0.73       704\n",
            "   macro avg       0.37      0.50      0.42       704\n",
            "weighted avg       0.54      0.73      0.62       704\n",
            "\n",
            "[[515   0]\n",
            " [189   0]]\n",
            "0.7315340909090909\n"
          ],
          "name": "stdout"
        },
        {
          "output_type": "stream",
          "text": [
            "/usr/local/lib/python3.6/dist-packages/sklearn/metrics/_classification.py:1272: UndefinedMetricWarning: Precision and F-score are ill-defined and being set to 0.0 in labels with no predicted samples. Use `zero_division` parameter to control this behavior.\n",
            "  _warn_prf(average, modifier, msg_start, len(result))\n"
          ],
          "name": "stderr"
        }
      ]
    },
    {
      "cell_type": "code",
      "metadata": {
        "id": "uLhxJmRZTV24",
        "outputId": "2bb80da1-55fb-4813-b867-b010fddf16a5",
        "colab": {
          "base_uri": "https://localhost:8080/"
        }
      },
      "source": [
        "from sklearn.tree import DecisionTreeClassifier\n",
        "from sklearn.ensemble import RandomForestClassifier\n",
        "d_clf = DecisionTreeClassifier()\n",
        "d_clf.fit(x_train,y_train)"
      ],
      "execution_count": null,
      "outputs": [
        {
          "output_type": "execute_result",
          "data": {
            "text/plain": [
              "DecisionTreeClassifier(ccp_alpha=0.0, class_weight=None, criterion='gini',\n",
              "                       max_depth=None, max_features=None, max_leaf_nodes=None,\n",
              "                       min_impurity_decrease=0.0, min_impurity_split=None,\n",
              "                       min_samples_leaf=1, min_samples_split=2,\n",
              "                       min_weight_fraction_leaf=0.0, presort='deprecated',\n",
              "                       random_state=None, splitter='best')"
            ]
          },
          "metadata": {
            "tags": []
          },
          "execution_count": 134
        }
      ]
    },
    {
      "cell_type": "code",
      "metadata": {
        "id": "bIXXGKaUTV26"
      },
      "source": [
        "d_pred = d_clf.predict(x_test)"
      ],
      "execution_count": null,
      "outputs": []
    },
    {
      "cell_type": "code",
      "metadata": {
        "id": "CXplZso0TV27",
        "outputId": "7af5c883-75e5-4ecf-df98-13b78e167510",
        "colab": {
          "base_uri": "https://localhost:8080/"
        }
      },
      "source": [
        "print(classification_report(d_pred,y_test))\n",
        "print(accuracy_score(d_pred,y_test))\n",
        "print(confusion_matrix(d_pred,y_test))"
      ],
      "execution_count": null,
      "outputs": [
        {
          "output_type": "stream",
          "text": [
            "              precision    recall  f1-score   support\n",
            "\n",
            "           0       1.00      0.73      0.84       704\n",
            "           1       0.00      0.00      0.00         0\n",
            "\n",
            "    accuracy                           0.73       704\n",
            "   macro avg       0.50      0.37      0.42       704\n",
            "weighted avg       1.00      0.73      0.84       704\n",
            "\n",
            "0.7315340909090909\n",
            "[[515 189]\n",
            " [  0   0]]\n"
          ],
          "name": "stdout"
        },
        {
          "output_type": "stream",
          "text": [
            "/usr/local/lib/python3.6/dist-packages/sklearn/metrics/_classification.py:1272: UndefinedMetricWarning: Recall and F-score are ill-defined and being set to 0.0 in labels with no true samples. Use `zero_division` parameter to control this behavior.\n",
            "  _warn_prf(average, modifier, msg_start, len(result))\n"
          ],
          "name": "stderr"
        }
      ]
    },
    {
      "cell_type": "code",
      "metadata": {
        "id": "JGFq7VemTV2-"
      },
      "source": [
        "r_clf = RandomForestClassifier().fit(x_train,y_train)"
      ],
      "execution_count": null,
      "outputs": []
    },
    {
      "cell_type": "code",
      "metadata": {
        "id": "JVm2LT2GTV3B"
      },
      "source": [
        "r_pred = r_clf.predict(x_test)"
      ],
      "execution_count": null,
      "outputs": []
    },
    {
      "cell_type": "code",
      "metadata": {
        "id": "riseMoyVTV3C",
        "outputId": "c3d3d703-ab74-47c0-9656-b51683a49e94",
        "colab": {
          "base_uri": "https://localhost:8080/"
        }
      },
      "source": [
        "print(classification_report(r_pred,y_test))\n",
        "print(accuracy_score(r_pred,y_test))\n",
        "print(confusion_matrix(r_pred,y_test))"
      ],
      "execution_count": null,
      "outputs": [
        {
          "output_type": "stream",
          "text": [
            "              precision    recall  f1-score   support\n",
            "\n",
            "           0       1.00      0.73      0.84       704\n",
            "           1       0.00      0.00      0.00         0\n",
            "\n",
            "    accuracy                           0.73       704\n",
            "   macro avg       0.50      0.37      0.42       704\n",
            "weighted avg       1.00      0.73      0.84       704\n",
            "\n",
            "0.7315340909090909\n",
            "[[515 189]\n",
            " [  0   0]]\n"
          ],
          "name": "stdout"
        },
        {
          "output_type": "stream",
          "text": [
            "/usr/local/lib/python3.6/dist-packages/sklearn/metrics/_classification.py:1272: UndefinedMetricWarning: Recall and F-score are ill-defined and being set to 0.0 in labels with no true samples. Use `zero_division` parameter to control this behavior.\n",
            "  _warn_prf(average, modifier, msg_start, len(result))\n"
          ],
          "name": "stderr"
        }
      ]
    },
    {
      "cell_type": "code",
      "metadata": {
        "id": "-OglFu5BTV3E",
        "outputId": "b0dd664f-c414-4c4a-88fd-08d8b60b8a85",
        "colab": {
          "base_uri": "https://localhost:8080/"
        }
      },
      "source": [
        "data['age'].describe()"
      ],
      "execution_count": null,
      "outputs": [
        {
          "output_type": "execute_result",
          "data": {
            "text/plain": [
              "count    704.000000\n",
              "mean      29.673295\n",
              "std       16.490476\n",
              "min       17.000000\n",
              "25%       21.000000\n",
              "50%       27.000000\n",
              "75%       35.000000\n",
              "max      383.000000\n",
              "Name: age, dtype: float64"
            ]
          },
          "metadata": {
            "tags": []
          },
          "execution_count": 140
        }
      ]
    },
    {
      "cell_type": "code",
      "metadata": {
        "id": "icvjorkyTV3J",
        "outputId": "30faf9b2-09dc-4b7d-dce0-898a51880d69",
        "colab": {
          "base_uri": "https://localhost:8080/"
        }
      },
      "source": [
        "data['age']"
      ],
      "execution_count": null,
      "outputs": [
        {
          "output_type": "execute_result",
          "data": {
            "text/plain": [
              "0      26\n",
              "1      24\n",
              "2      27\n",
              "3      35\n",
              "4      40\n",
              "       ..\n",
              "699    25\n",
              "700    34\n",
              "701    24\n",
              "702    35\n",
              "703    26\n",
              "Name: age, Length: 704, dtype: int64"
            ]
          },
          "metadata": {
            "tags": []
          },
          "execution_count": 141
        }
      ]
    },
    {
      "cell_type": "code",
      "metadata": {
        "id": "w8ZZ6qrgXhrK",
        "outputId": "114f7e2f-7292-4311-d866-6a2a4cd2e236",
        "colab": {
          "base_uri": "https://localhost:8080/"
        }
      },
      "source": [
        "columns"
      ],
      "execution_count": null,
      "outputs": [
        {
          "output_type": "execute_result",
          "data": {
            "text/plain": [
              "Index(['A1', 'A2', 'A3', 'A4', 'A5', 'A6', 'A7', 'A8', 'A9', 'A10', 'Age_Mons',\n",
              "       'Qchat-10-Score', 'Sex', 'Ethnicity', 'Jaundice', 'Family_mem_with_ASD',\n",
              "       'Who completed the test', 'Class/ASD Traits '],\n",
              "      dtype='object')"
            ]
          },
          "metadata": {
            "tags": []
          },
          "execution_count": 146
        }
      ]
    },
    {
      "cell_type": "code",
      "metadata": {
        "id": "jCflnguqW81G",
        "outputId": "5fe41b47-115f-4570-d5a2-adf493d209a5",
        "colab": {
          "base_uri": "https://localhost:8080/"
        }
      },
      "source": [
        "columns.drop('Class/ASD Traits ')"
      ],
      "execution_count": null,
      "outputs": [
        {
          "output_type": "execute_result",
          "data": {
            "text/plain": [
              "Index(['A1', 'A2', 'A3', 'A4', 'A5', 'A6', 'A7', 'A8', 'A9', 'A10', 'Age_Mons',\n",
              "       'Qchat-10-Score', 'Sex', 'Ethnicity', 'Jaundice', 'Family_mem_with_ASD',\n",
              "       'Who completed the test'],\n",
              "      dtype='object')"
            ]
          },
          "metadata": {
            "tags": []
          },
          "execution_count": 148
        }
      ]
    },
    {
      "cell_type": "code",
      "metadata": {
        "id": "cvgqC0ok0287"
      },
      "source": [
        "lgb_params={\n",
        "'class_weight': 'balanced', \n",
        "'boosting_type': 'goss', \n",
        "'num_leaves': 76, \n",
        "'learning_rate': 0.055533968216953146, \n",
        "'subsample_for_bin': 80000,\n",
        "'min_child_samples': 460, \n",
        "'reg_alpha': 0.6122448979591836,\n",
        "  'reg_lambda': 1.0, 'colsample_bytree': 0.8222222222222222}"
      ],
      "execution_count": null,
      "outputs": []
    },
    {
      "cell_type": "code",
      "metadata": {
        "id": "5UHAsl71aSLU",
        "outputId": "664147f3-bca6-490d-a08d-9df61b31f7e8",
        "colab": {
          "base_uri": "https://localhost:8080/"
        }
      },
      "source": [
        "lgb_params = {\n",
        "    'task': 'train',\n",
        "    'boosting_type': 'goss',\n",
        "    'objective': 'binary',\n",
        "    'metric':'binary_logloss',\n",
        "    'metric': {'l2', 'auc','l1','binary_error','mape'},\n",
        "    'num_leaves': 256,\n",
        "    'learning_rate': 0.3,\n",
        "    'feature_fraction': 0.8,\n",
        "    'bagging_fraction': 0.8,\n",
        "    'verbose': None,\n",
        "    'max_bin':255,\n",
        "    'num_threads':7,\n",
        "    'num_iterations':500,\n",
        "    'max_depth':8,\n",
        "    'min_data_in_leaf':10,\n",
        "    'gpu_use_dp':'True',\n",
        "    'alpha':0.5}\n",
        "lgb_train = lgb.Dataset(x1, y1)\n",
        "model = lgb.train(lgb_params,lgb_train,num_boost_round=200)"
      ],
      "execution_count": null,
      "outputs": [
        {
          "output_type": "stream",
          "text": [
            "/usr/local/lib/python3.6/dist-packages/lightgbm/engine.py:118: UserWarning: Found `num_iterations` in params. Will use it instead of argument\n",
            "  warnings.warn(\"Found `{}` in params. Will use it instead of argument\".format(alias))\n"
          ],
          "name": "stderr"
        }
      ]
    },
    {
      "cell_type": "code",
      "metadata": {
        "id": "NAKa_daJbFv7",
        "outputId": "abd5d6d8-3b92-45a7-b6ec-0023a017a23d",
        "colab": {
          "base_uri": "https://localhost:8080/"
        }
      },
      "source": [
        "y_pred_lgb=model.predict(x)\n",
        "y_pred_lgb"
      ],
      "execution_count": null,
      "outputs": [
        {
          "output_type": "execute_result",
          "data": {
            "text/plain": [
              "array([2.10041667e-04, 1.45924623e-04, 1.43717026e-03, 2.91807826e-04,\n",
              "       4.72008863e-06, 1.64422376e-03, 7.81412037e-06, 1.39906447e-04,\n",
              "       4.27559105e-04, 3.48503890e-04, 1.62439680e-03, 3.44991148e-04,\n",
              "       5.18129441e-04, 9.55284651e-05, 9.54006614e-05, 2.28771653e-04,\n",
              "       3.40919510e-04, 2.37551956e-06, 3.01225976e-06, 1.36277205e-05,\n",
              "       1.03890276e-05, 5.09480746e-07, 1.27797628e-04, 2.37551956e-06,\n",
              "       9.24387458e-05, 1.43374447e-05, 1.16885561e-06, 1.16885561e-06,\n",
              "       1.16885561e-06, 7.53590808e-05, 4.87681394e-07, 6.55539736e-04,\n",
              "       2.04343232e-04, 1.62222690e-03, 1.62222690e-03, 1.26069175e-06,\n",
              "       2.30231522e-04, 8.75329954e-04, 1.15358854e-03, 8.29268288e-04,\n",
              "       6.32626974e-04, 3.89078757e-06, 1.21411318e-05, 1.94454499e-05,\n",
              "       1.14271463e-03, 1.09637045e-03, 1.08259043e-04, 1.44600489e-04,\n",
              "       7.44559809e-06, 1.10142508e-03, 1.27586261e-05, 1.62222690e-03,\n",
              "       1.23928947e-06, 7.95118743e-04, 1.62439680e-03, 1.39169974e-03,\n",
              "       1.22704910e-03, 1.44622502e-03, 1.39578581e-05, 9.29831023e-05,\n",
              "       9.08539851e-04, 6.23634958e-04, 4.87681394e-07, 1.94884656e-04,\n",
              "       1.57034713e-03, 1.19217047e-05, 7.76836983e-06, 1.65585688e-04,\n",
              "       4.84427434e-05, 1.07680846e-06, 7.00542031e-04, 2.08843347e-05,\n",
              "       2.94489931e-04, 3.85687914e-04, 2.00027770e-04, 8.71410760e-04,\n",
              "       3.06680825e-05, 1.27013473e-03, 3.04182263e-05, 7.84088495e-06,\n",
              "       2.32410609e-04, 1.47065915e-05, 1.41971870e-03, 1.37326623e-05,\n",
              "       7.84088495e-06, 9.02593094e-06, 1.26004848e-03, 1.18626354e-06,\n",
              "       3.64925522e-05, 1.44622502e-03, 1.97020931e-05, 3.53031815e-05,\n",
              "       1.13746955e-04, 1.21468434e-03, 6.74877397e-04, 1.53770344e-04,\n",
              "       1.08956096e-04, 9.76690523e-05, 6.12431246e-05, 2.05512767e-06,\n",
              "       1.43374447e-05, 4.72520818e-06, 1.00267457e-05, 4.96428400e-04,\n",
              "       6.30021948e-05, 5.22614419e-07, 4.72054968e-04, 8.74090112e-04,\n",
              "       2.55993202e-04, 2.68736326e-05, 1.35868070e-03, 5.34229005e-04,\n",
              "       5.47491198e-06, 7.38852312e-05, 1.39640165e-03, 1.09637045e-03,\n",
              "       1.14271463e-03, 6.41837003e-04, 1.44622502e-03, 9.87644411e-04,\n",
              "       1.44815984e-03, 1.55249600e-03, 1.23928947e-06, 7.49533430e-04,\n",
              "       1.35868070e-03, 1.42800174e-03, 5.09480746e-07, 3.93908943e-04,\n",
              "       1.66546766e-04, 3.44745715e-05, 6.12431246e-05, 9.03802359e-06,\n",
              "       6.08845740e-05, 8.75272830e-05, 5.45036838e-04, 3.07931496e-04,\n",
              "       2.75395673e-04, 1.53892355e-06, 1.46948793e-05, 2.04663170e-06,\n",
              "       7.08842077e-05, 4.69245311e-06, 1.19337961e-05, 3.96690574e-05,\n",
              "       1.16885561e-06, 1.44174046e-03, 1.55457277e-03, 1.62222690e-03,\n",
              "       1.42800174e-03, 1.27647149e-03, 3.82288465e-06, 6.19644171e-04,\n",
              "       3.04355599e-05, 2.85931277e-04, 4.84041652e-05, 1.47602407e-05,\n",
              "       5.44014785e-05, 6.23321097e-05, 2.13333716e-05, 3.43751705e-05,\n",
              "       5.22614419e-07, 7.81412037e-06, 1.17573944e-06, 6.09463221e-05,\n",
              "       3.81336430e-04, 2.73090067e-04, 9.05062036e-05, 1.22125305e-04,\n",
              "       2.00027770e-04, 6.74877397e-04, 2.94489931e-04, 1.22695418e-04,\n",
              "       2.02034750e-05, 4.72008863e-06, 1.26839266e-05, 1.64166834e-03,\n",
              "       1.44622502e-03, 2.00044389e-04, 3.98931769e-05, 5.72955406e-05,\n",
              "       4.83779307e-05, 5.01958014e-05, 1.63933596e-04, 2.01939501e-05,\n",
              "       2.53325298e-04, 1.39908732e-03, 4.30628067e-05, 9.54006614e-05,\n",
              "       1.44811804e-03, 2.74437254e-04, 1.44815984e-03, 1.45924623e-04,\n",
              "       9.03802359e-06, 4.72520818e-06, 1.81660745e-05, 1.55249600e-03,\n",
              "       1.62439680e-03, 1.55457277e-03, 1.01366229e-03, 1.48470601e-05,\n",
              "       1.64202742e-03, 3.67770029e-04, 4.61929890e-04, 1.11451251e-03,\n",
              "       5.89993139e-06, 1.62439680e-03, 1.41983651e-03, 6.23054035e-04,\n",
              "       2.08812151e-04, 1.43981421e-03, 1.35868070e-03, 1.06304716e-04,\n",
              "       1.10031033e-03, 3.16016858e-05, 8.05090248e-05, 1.87023338e-03,\n",
              "       9.54006614e-05, 1.31061251e-04, 8.75260175e-04, 2.46586762e-06,\n",
              "       6.08845740e-05, 1.31704461e-06, 1.60048056e-04, 9.48903179e-04,\n",
              "       1.70267942e-03, 5.07461891e-05, 1.63759824e-03, 1.77538558e-06,\n",
              "       2.54383262e-04, 1.56107641e-03, 3.06680825e-05, 3.78600025e-06,\n",
              "       2.08422259e-05, 7.39441163e-05, 2.11828658e-06, 4.69245311e-06,\n",
              "       5.16181319e-04, 2.19540972e-06, 3.38761015e-05, 4.69245311e-06,\n",
              "       2.22557248e-04, 1.13165177e-03, 2.61717299e-05, 1.86090291e-04,\n",
              "       3.81156715e-04, 1.06931639e-04, 2.22331799e-04, 5.34229005e-04,\n",
              "       2.37383438e-06, 1.44174046e-03, 3.43751705e-05, 4.47969317e-05,\n",
              "       5.91423310e-06, 4.76853980e-06, 2.44269747e-05, 1.65950032e-04,\n",
              "       7.02654419e-05, 2.97116006e-05, 2.17740267e-04, 3.81423842e-04,\n",
              "       1.47532820e-05, 3.98398025e-05, 3.43751705e-05, 4.87681394e-07,\n",
              "       9.63726794e-05, 1.13869987e-03, 1.11938016e-05, 9.03802359e-06,\n",
              "       6.07412375e-05, 4.53754630e-04, 9.78385018e-04, 4.54256091e-04,\n",
              "       1.62439680e-03, 7.50539630e-06, 7.11718984e-05, 4.75557255e-05,\n",
              "       2.51824810e-05, 5.61816452e-06, 1.55249600e-03, 4.57065536e-06,\n",
              "       9.95645878e-07, 6.74933439e-04, 8.47412256e-04, 1.62222690e-03,\n",
              "       1.43869462e-05, 7.36780584e-04, 4.87681394e-07, 7.48603947e-05,\n",
              "       5.09480746e-07, 1.85809870e-03, 1.85561721e-03, 4.61929890e-04,\n",
              "       1.11230178e-04, 1.63247665e-05, 5.09480746e-07, 9.77158342e-04,\n",
              "       1.15175016e-03, 1.04117383e-03, 1.26131769e-04, 1.70267942e-03,\n",
              "       1.26839266e-05, 1.62222690e-03, 3.83597153e-04, 7.76909464e-06,\n",
              "       3.85874007e-04, 6.38804469e-05, 1.46874530e-03, 1.43981421e-03,\n",
              "       1.15175016e-03, 4.28926388e-04, 3.10161313e-06, 3.11152970e-05,\n",
              "       9.62704088e-04, 1.08995831e-03, 7.47602399e-05, 6.08845740e-05,\n",
              "       4.98521248e-05, 5.37310260e-05, 3.52562851e-04, 4.87681394e-07,\n",
              "       7.84088495e-06, 4.75043222e-05, 1.60802528e-03, 2.66099902e-05,\n",
              "       2.19247230e-06, 1.86660681e-04, 1.86660681e-04, 3.81894725e-06,\n",
              "       8.30228060e-05, 1.04001002e-05, 8.30228060e-05, 1.62439680e-03,\n",
              "       1.15513231e-03, 4.02062126e-04, 2.22277418e-04, 2.08812151e-04,\n",
              "       5.68237410e-05, 1.52092607e-05, 7.47794455e-05, 5.93194856e-06,\n",
              "       1.88670064e-04, 1.60048056e-04, 9.89886173e-06, 3.78600025e-06,\n",
              "       6.21646444e-05, 1.18626354e-06, 6.33471959e-04, 1.16885561e-06,\n",
              "       9.47634762e-04, 2.21183768e-04, 1.89548421e-03, 2.07504084e-04,\n",
              "       7.76836983e-06, 1.84966961e-05, 5.90782531e-06, 3.81894725e-06,\n",
              "       2.44300319e-05, 4.72008863e-06, 4.27310394e-05, 2.80317264e-06,\n",
              "       2.11179134e-05, 2.24809063e-06, 9.02417098e-06, 8.70729892e-06,\n",
              "       4.75679645e-05, 5.44191692e-05, 3.98931769e-05, 1.19989363e-04,\n",
              "       3.98931769e-05, 7.72360772e-06, 7.04103983e-06, 7.48360594e-05,\n",
              "       2.04729727e-06, 9.02593094e-06, 2.17078564e-04, 4.12823728e-05,\n",
              "       4.72008863e-06, 2.59193734e-04, 4.72008863e-06, 1.76903429e-05,\n",
              "       4.98169251e-06, 4.72008863e-06, 1.72332159e-03, 9.55284651e-05,\n",
              "       6.12431246e-05, 7.04103983e-06, 3.95523383e-06, 3.95983227e-04,\n",
              "       1.66927212e-04, 7.81412037e-06, 1.38587231e-05, 1.87294529e-04,\n",
              "       3.84471892e-05, 6.12431246e-05, 2.17622274e-04, 8.45165039e-05,\n",
              "       2.17959368e-05, 1.86433331e-05, 1.42535016e-05, 1.23928947e-06,\n",
              "       1.26131769e-04, 9.02593094e-06, 4.26738683e-05, 4.26738683e-05,\n",
              "       1.54814860e-05, 3.08486930e-05, 1.48376166e-04, 1.32863892e-03,\n",
              "       7.47602399e-05, 7.84088495e-06, 6.38804469e-05, 1.81660745e-05,\n",
              "       3.12985411e-05, 2.01830049e-05, 6.32626974e-04, 3.10161313e-06,\n",
              "       9.55284651e-05, 2.22277418e-04, 1.22869002e-04, 4.84427434e-05,\n",
              "       3.40225069e-04, 5.75300735e-07, 1.79170573e-05, 9.09651172e-06,\n",
              "       1.27128126e-04, 9.55284651e-05, 1.18016347e-03, 4.47515447e-05,\n",
              "       3.19709669e-06, 8.66472884e-04, 1.70267942e-03, 1.41983651e-03,\n",
              "       1.47922523e-05, 1.29223470e-03, 1.23850730e-05, 6.10000838e-06,\n",
              "       8.04013134e-05, 1.10638945e-03, 1.53770344e-04, 7.76836983e-06,\n",
              "       3.52994063e-04, 2.96890353e-06, 2.36949423e-04, 3.02206089e-04,\n",
              "       1.84367331e-04, 9.03802359e-06, 1.46874530e-03, 4.69245311e-06,\n",
              "       1.70495674e-03, 2.21183768e-04, 6.12431246e-05, 2.08631748e-05,\n",
              "       5.13764249e-04, 2.01830049e-05, 7.88921672e-05, 9.03802359e-06,\n",
              "       4.79994753e-05, 5.70984320e-07, 7.27397597e-04, 1.60048056e-04,\n",
              "       2.35971197e-06, 1.17703441e-06, 5.18129441e-04, 1.71909725e-05,\n",
              "       1.39640165e-03, 8.28551076e-06, 6.79212110e-04, 1.26625382e-04,\n",
              "       1.56107641e-03, 1.17703441e-06, 3.21158212e-05, 7.04008240e-04,\n",
              "       2.09348415e-05, 9.03146075e-06, 1.02137892e-04, 4.63867255e-06,\n",
              "       5.09480746e-07, 4.72520818e-06, 2.61717299e-05, 1.16885561e-06,\n",
              "       1.22125305e-04, 2.37551956e-06, 1.40459974e-06, 2.08812151e-04,\n",
              "       1.08478808e-04, 3.38761015e-05, 1.70495674e-03, 1.15181250e-03,\n",
              "       7.37504149e-05, 9.29831023e-05, 2.81487129e-04, 5.09480746e-07,\n",
              "       2.44087155e-04, 1.62439680e-03, 4.62916176e-04, 9.89886173e-06,\n",
              "       1.39759234e-05, 1.00071391e-03, 1.13113915e-03, 6.08845740e-05,\n",
              "       1.08315357e-04, 1.44630328e-03, 4.47698024e-05, 1.14059100e-04,\n",
              "       1.38609880e-03, 2.97730605e-04, 6.38926964e-05, 2.97116006e-05,\n",
              "       1.41971870e-03, 2.04455802e-06, 7.38286966e-04, 1.70495674e-03,\n",
              "       1.91367225e-05, 9.89886173e-06, 1.64202742e-03, 1.44815984e-03,\n",
              "       3.64407632e-05, 1.47035978e-03, 2.49006430e-05, 1.95002644e-05,\n",
              "       6.74877397e-04, 3.01899981e-04, 1.17234699e-03, 2.10924608e-04,\n",
              "       1.04117383e-03, 9.54006614e-05, 4.74267312e-05, 9.01209687e-06,\n",
              "       1.41971870e-03, 7.76836983e-06, 3.74727556e-06, 2.08725900e-04,\n",
              "       3.11900411e-05, 1.08292446e-03, 8.87178053e-05, 6.25775026e-06,\n",
              "       4.77496273e-06, 3.32353639e-04, 1.79170573e-05, 5.51119478e-05,\n",
              "       1.44815984e-03, 1.85474518e-06, 1.04063809e-03, 9.10665412e-04,\n",
              "       1.55249600e-03, 5.11178549e-04, 1.97020931e-05, 1.11230178e-04,\n",
              "       4.62916176e-04, 1.41983651e-03, 5.61816452e-06, 4.20820832e-06,\n",
              "       1.35092147e-06, 1.27050226e-03, 1.44815984e-03, 3.99123339e-05,\n",
              "       6.08845740e-05, 4.79994753e-05, 1.57034713e-03, 5.50382128e-05,\n",
              "       1.11451251e-03, 1.44174046e-03, 5.34407744e-04, 8.52419981e-05,\n",
              "       2.84584148e-04, 7.81412037e-06, 2.85867889e-05, 2.07504084e-04,\n",
              "       1.44803968e-03, 9.89886173e-06, 6.39660272e-05, 9.03802359e-06,\n",
              "       1.26839266e-05, 1.41983651e-03, 1.08956096e-04, 1.08956096e-04,\n",
              "       1.87273439e-03, 1.64422376e-03, 6.74877397e-04, 5.22465089e-05,\n",
              "       5.83900633e-06, 3.04355599e-05, 1.01968125e-03, 1.29392642e-03,\n",
              "       3.02304338e-04, 1.66546766e-04, 1.62439680e-03, 1.44815984e-03,\n",
              "       1.55249600e-03, 9.36476434e-06, 6.28777737e-05, 5.46524919e-04,\n",
              "       1.62439680e-03, 1.18626354e-06, 3.30119708e-05, 6.08845740e-05,\n",
              "       1.53853722e-04, 2.73090067e-04, 9.02593094e-06, 3.08076697e-04,\n",
              "       1.85146070e-05, 1.20040779e-05, 3.24343248e-06, 4.72520818e-06,\n",
              "       1.47018105e-05, 2.21819271e-05, 3.43751705e-05, 1.17703441e-06,\n",
              "       1.18626354e-06, 4.47969317e-05, 9.59237853e-05, 1.21410360e-04,\n",
              "       8.04013134e-05, 1.18626354e-06, 1.71208664e-04, 5.06628358e-04,\n",
              "       2.77695175e-05, 4.82120378e-05, 2.04455802e-06, 2.44122927e-05,\n",
              "       4.48152079e-05, 1.25008987e-03, 1.22125305e-04, 1.40828356e-03,\n",
              "       9.02593094e-06, 3.81336430e-04, 1.19337961e-05, 3.43751705e-05,\n",
              "       2.43760649e-04, 1.21377264e-03, 5.44522376e-04, 1.35981679e-06,\n",
              "       4.15639271e-06, 4.26987281e-04, 1.22024582e-03, 7.37504149e-05,\n",
              "       5.09480746e-07, 1.62222690e-03, 1.42289750e-04, 1.10935331e-03,\n",
              "       8.31070044e-05, 1.24277982e-03, 3.84143841e-06, 1.23928947e-06,\n",
              "       1.14068577e-04, 5.71327408e-04, 2.79786933e-05, 2.96904542e-04,\n",
              "       2.09348415e-05, 1.03890276e-05, 7.84088495e-06, 1.47065915e-05,\n",
              "       5.69600232e-07, 1.41971870e-03, 1.57452085e-03, 5.85108297e-05,\n",
              "       5.20946785e-04, 7.49003706e-04, 3.59742785e-05, 1.15329147e-03,\n",
              "       1.14116783e-03, 1.44803968e-03, 6.18650417e-04, 9.55284651e-05,\n",
              "       1.36277205e-05, 1.70495674e-03, 1.16885561e-06, 3.22301511e-05,\n",
              "       9.55284651e-05, 1.62439680e-03, 1.64422376e-03, 3.02304338e-04,\n",
              "       1.13265292e-03, 1.89548421e-03, 1.10638945e-03, 1.46159353e-04,\n",
              "       2.04616951e-04, 1.47065915e-05, 6.74030995e-04, 1.41983651e-03,\n",
              "       1.41983651e-03, 1.62231467e-03, 6.08845740e-05, 9.25300065e-05,\n",
              "       3.24082925e-05, 5.77044679e-04, 2.44087155e-04, 1.87263310e-03,\n",
              "       1.63167553e-03, 1.10787066e-03, 1.17639884e-06, 4.47515447e-05,\n",
              "       1.60802528e-03, 2.43973457e-05, 3.02304338e-04, 1.08478808e-04,\n",
              "       1.44815984e-03, 9.86687527e-05, 1.62222690e-03, 5.40055286e-04,\n",
              "       9.03802359e-06, 6.32626974e-04, 1.04088092e-03, 1.58368768e-03])"
            ]
          },
          "metadata": {
            "tags": []
          },
          "execution_count": 178
        }
      ]
    },
    {
      "cell_type": "code",
      "metadata": {
        "id": "QJtmd0lpbXl4",
        "outputId": "6d4d36d4-5415-4a1c-9c90-02c8aa9cd0fd",
        "colab": {
          "base_uri": "https://localhost:8080/"
        }
      },
      "source": [
        "for i in range(0,len(y_pred_lgb)):\n",
        "    if y_pred_lgb[i]>=.5:       \n",
        "       y_pred_lgb[i]=1\n",
        "    else:  \n",
        "       y_pred_lgb[i]=0\n",
        "y_pred_lgb"
      ],
      "execution_count": null,
      "outputs": [
        {
          "output_type": "execute_result",
          "data": {
            "text/plain": [
              "array([0., 0., 0., 0., 0., 0., 0., 0., 0., 0., 0., 0., 0., 0., 0., 0., 0.,\n",
              "       0., 0., 0., 0., 0., 0., 0., 0., 0., 0., 0., 0., 0., 0., 0., 0., 0.,\n",
              "       0., 0., 0., 0., 0., 0., 0., 0., 0., 0., 0., 0., 0., 0., 0., 0., 0.,\n",
              "       0., 0., 0., 0., 0., 0., 0., 0., 0., 0., 0., 0., 0., 0., 0., 0., 0.,\n",
              "       0., 0., 0., 0., 0., 0., 0., 0., 0., 0., 0., 0., 0., 0., 0., 0., 0.,\n",
              "       0., 0., 0., 0., 0., 0., 0., 0., 0., 0., 0., 0., 0., 0., 0., 0., 0.,\n",
              "       0., 0., 0., 0., 0., 0., 0., 0., 0., 0., 0., 0., 0., 0., 0., 0., 0.,\n",
              "       0., 0., 0., 0., 0., 0., 0., 0., 0., 0., 0., 0., 0., 0., 0., 0., 0.,\n",
              "       0., 0., 0., 0., 0., 0., 0., 0., 0., 0., 0., 0., 0., 0., 0., 0., 0.,\n",
              "       0., 0., 0., 0., 0., 0., 0., 0., 0., 0., 0., 0., 0., 0., 0., 0., 0.,\n",
              "       0., 0., 0., 0., 0., 0., 0., 0., 0., 0., 0., 0., 0., 0., 0., 0., 0.,\n",
              "       0., 0., 0., 0., 0., 0., 0., 0., 0., 0., 0., 0., 0., 0., 0., 0., 0.,\n",
              "       0., 0., 0., 0., 0., 0., 0., 0., 0., 0., 0., 0., 0., 0., 0., 0., 0.,\n",
              "       0., 0., 0., 0., 0., 0., 0., 0., 0., 0., 0., 0., 0., 0., 0., 0., 0.,\n",
              "       0., 0., 0., 0., 0., 0., 0., 0., 0., 0., 0., 0., 0., 0., 0., 0., 0.,\n",
              "       0., 0., 0., 0., 0., 0., 0., 0., 0., 0., 0., 0., 0., 0., 0., 0., 0.,\n",
              "       0., 0., 0., 0., 0., 0., 0., 0., 0., 0., 0., 0., 0., 0., 0., 0., 0.,\n",
              "       0., 0., 0., 0., 0., 0., 0., 0., 0., 0., 0., 0., 0., 0., 0., 0., 0.,\n",
              "       0., 0., 0., 0., 0., 0., 0., 0., 0., 0., 0., 0., 0., 0., 0., 0., 0.,\n",
              "       0., 0., 0., 0., 0., 0., 0., 0., 0., 0., 0., 0., 0., 0., 0., 0., 0.,\n",
              "       0., 0., 0., 0., 0., 0., 0., 0., 0., 0., 0., 0., 0., 0., 0., 0., 0.,\n",
              "       0., 0., 0., 0., 0., 0., 0., 0., 0., 0., 0., 0., 0., 0., 0., 0., 0.,\n",
              "       0., 0., 0., 0., 0., 0., 0., 0., 0., 0., 0., 0., 0., 0., 0., 0., 0.,\n",
              "       0., 0., 0., 0., 0., 0., 0., 0., 0., 0., 0., 0., 0., 0., 0., 0., 0.,\n",
              "       0., 0., 0., 0., 0., 0., 0., 0., 0., 0., 0., 0., 0., 0., 0., 0., 0.,\n",
              "       0., 0., 0., 0., 0., 0., 0., 0., 0., 0., 0., 0., 0., 0., 0., 0., 0.,\n",
              "       0., 0., 0., 0., 0., 0., 0., 0., 0., 0., 0., 0., 0., 0., 0., 0., 0.,\n",
              "       0., 0., 0., 0., 0., 0., 0., 0., 0., 0., 0., 0., 0., 0., 0., 0., 0.,\n",
              "       0., 0., 0., 0., 0., 0., 0., 0., 0., 0., 0., 0., 0., 0., 0., 0., 0.,\n",
              "       0., 0., 0., 0., 0., 0., 0., 0., 0., 0., 0., 0., 0., 0., 0., 0., 0.,\n",
              "       0., 0., 0., 0., 0., 0., 0., 0., 0., 0., 0., 0., 0., 0., 0., 0., 0.,\n",
              "       0., 0., 0., 0., 0., 0., 0., 0., 0., 0., 0., 0., 0., 0., 0., 0., 0.,\n",
              "       0., 0., 0., 0., 0., 0., 0., 0., 0., 0., 0., 0., 0., 0., 0., 0., 0.,\n",
              "       0., 0., 0., 0., 0., 0., 0., 0., 0., 0., 0., 0., 0., 0., 0., 0., 0.,\n",
              "       0., 0., 0., 0., 0., 0., 0., 0., 0., 0., 0., 0., 0., 0., 0., 0., 0.,\n",
              "       0., 0., 0., 0., 0., 0., 0., 0., 0., 0., 0., 0., 0., 0., 0., 0., 0.,\n",
              "       0., 0., 0., 0., 0., 0., 0., 0., 0., 0., 0., 0., 0., 0., 0., 0., 0.,\n",
              "       0., 0., 0., 0., 0., 0., 0., 0., 0., 0., 0., 0., 0., 0., 0., 0., 0.,\n",
              "       0., 0., 0., 0., 0., 0., 0., 0., 0., 0., 0., 0., 0., 0., 0., 0., 0.,\n",
              "       0., 0., 0., 0., 0., 0., 0., 0., 0., 0., 0., 0., 0., 0., 0., 0., 0.,\n",
              "       0., 0., 0., 0., 0., 0., 0., 0., 0., 0., 0., 0., 0., 0., 0., 0., 0.,\n",
              "       0., 0., 0., 0., 0., 0., 0.])"
            ]
          },
          "metadata": {
            "tags": []
          },
          "execution_count": 179
        }
      ]
    },
    {
      "cell_type": "code",
      "metadata": {
        "id": "ao6FP5EseMA5",
        "outputId": "a2a8bd5f-7b6d-4bc5-e179-917bef723cde",
        "colab": {
          "base_uri": "https://localhost:8080/"
        }
      },
      "source": [
        "cm =confusion_matrix(y, y_pred_lgb)\n",
        "accuracy=accuracy_score(y,y_pred_lgb)\n",
        "print(classification_report(y,y_pred_lgb))\n",
        "print(cm,accuracy)"
      ],
      "execution_count": null,
      "outputs": [
        {
          "output_type": "stream",
          "text": [
            "              precision    recall  f1-score   support\n",
            "\n",
            "           0       0.73      1.00      0.84       515\n",
            "           1       0.00      0.00      0.00       189\n",
            "\n",
            "    accuracy                           0.73       704\n",
            "   macro avg       0.37      0.50      0.42       704\n",
            "weighted avg       0.54      0.73      0.62       704\n",
            "\n",
            "[[515   0]\n",
            " [189   0]] 0.7315340909090909\n"
          ],
          "name": "stdout"
        },
        {
          "output_type": "stream",
          "text": [
            "/usr/local/lib/python3.6/dist-packages/sklearn/metrics/_classification.py:1272: UndefinedMetricWarning: Precision and F-score are ill-defined and being set to 0.0 in labels with no predicted samples. Use `zero_division` parameter to control this behavior.\n",
            "  _warn_prf(average, modifier, msg_start, len(result))\n"
          ],
          "name": "stderr"
        }
      ]
    },
    {
      "cell_type": "code",
      "metadata": {
        "id": "Nx_H2hF1e8Vi",
        "outputId": "13dbfc57-2144-4cff-e090-e8fb459f1aaf",
        "colab": {
          "base_uri": "https://localhost:8080/"
        }
      },
      "source": [
        "import tensorflow as tf\n",
        "import tensorflow.compat.v1 as tf\n",
        "tf.disable_v2_behavior()\n",
        "from tensorflow import keras\n",
        "from sklearn.metrics import make_scorer\n",
        "from sklearn.metrics import accuracy_score, precision_score, recall_score\n",
        "from sklearn.model_selection import GridSearchCV"
      ],
      "execution_count": null,
      "outputs": [
        {
          "output_type": "stream",
          "text": [
            "WARNING:tensorflow:From /usr/local/lib/python3.6/dist-packages/tensorflow/python/compat/v2_compat.py:96: disable_resource_variables (from tensorflow.python.ops.variable_scope) is deprecated and will be removed in a future version.\n",
            "Instructions for updating:\n",
            "non-resource variables are not supported in the long term\n"
          ],
          "name": "stdout"
        }
      ]
    },
    {
      "cell_type": "code",
      "metadata": {
        "id": "nLW-au7RaPws"
      },
      "source": [
        "def create_model(optimizer):\n",
        "    model = keras.Sequential()\n",
        "    model.add(keras.layers.Dense(1054,activation='relu',input_dim = 17))\n",
        "    model.add(keras.layers.Dense(50,activation = 'sigmoid'))\n",
        "    model.add(keras.layers.Dense(1,activation = 'relu'))\n",
        "    model.compile(loss='binary_crossentropy', optimizer=optimizer, metrics=['accuracy'])\n",
        "    return model"
      ],
      "execution_count": null,
      "outputs": []
    },
    {
      "cell_type": "code",
      "metadata": {
        "id": "bIxewXZwaTJf",
        "outputId": "a9fcc4e5-327e-4cff-a838-fcaf9e1299de",
        "colab": {
          "base_uri": "https://localhost:8080/"
        }
      },
      "source": [
        "model = create_model('adam')\n",
        "model.fit(x1,y1,epochs = 300,batch_size=10)"
      ],
      "execution_count": null,
      "outputs": [
        {
          "output_type": "stream",
          "text": [
            "Train on 1054 samples\n",
            "Epoch 1/300\n",
            "1054/1054 [==============================] - 0s 159us/sample - loss: 0.1982 - acc: 0.9345\n",
            "Epoch 2/300\n",
            "1054/1054 [==============================] - 0s 153us/sample - loss: 0.1429 - acc: 0.9658\n",
            "Epoch 3/300\n",
            "1054/1054 [==============================] - 0s 163us/sample - loss: 0.0752 - acc: 0.9782\n",
            "Epoch 4/300\n",
            "1054/1054 [==============================] - 0s 156us/sample - loss: 0.0309 - acc: 0.9905\n",
            "Epoch 5/300\n",
            "1054/1054 [==============================] - 0s 161us/sample - loss: 0.0278 - acc: 0.9896\n",
            "Epoch 6/300\n",
            "1054/1054 [==============================] - 0s 150us/sample - loss: 0.0204 - acc: 0.9981\n",
            "Epoch 7/300\n",
            "1054/1054 [==============================] - 0s 152us/sample - loss: 0.0159 - acc: 0.9981\n",
            "Epoch 8/300\n",
            "1054/1054 [==============================] - 0s 149us/sample - loss: 0.0119 - acc: 0.9991\n",
            "Epoch 9/300\n",
            "1054/1054 [==============================] - 0s 152us/sample - loss: 0.0076 - acc: 1.0000\n",
            "Epoch 10/300\n",
            "1054/1054 [==============================] - 0s 150us/sample - loss: 0.0040 - acc: 1.0000\n",
            "Epoch 11/300\n",
            "1054/1054 [==============================] - 0s 141us/sample - loss: 0.0042 - acc: 1.0000\n",
            "Epoch 12/300\n",
            "1054/1054 [==============================] - 0s 150us/sample - loss: 8.4717e-04 - acc: 1.0000\n",
            "Epoch 13/300\n",
            "1054/1054 [==============================] - 0s 145us/sample - loss: 0.0010 - acc: 1.0000\n",
            "Epoch 14/300\n",
            "1054/1054 [==============================] - 0s 163us/sample - loss: 0.0012 - acc: 1.0000\n",
            "Epoch 15/300\n",
            "1054/1054 [==============================] - 0s 163us/sample - loss: 6.5832e-05 - acc: 1.0000\n",
            "Epoch 16/300\n",
            "1054/1054 [==============================] - 0s 140us/sample - loss: 8.0363e-05 - acc: 1.0000\n",
            "Epoch 17/300\n",
            "1054/1054 [==============================] - 0s 143us/sample - loss: 0.0000e+00 - acc: 1.0000\n",
            "Epoch 18/300\n",
            "1054/1054 [==============================] - 0s 151us/sample - loss: 0.0000e+00 - acc: 1.0000\n",
            "Epoch 19/300\n",
            "1054/1054 [==============================] - 0s 143us/sample - loss: 0.0000e+00 - acc: 1.0000\n",
            "Epoch 20/300\n",
            "1054/1054 [==============================] - 0s 146us/sample - loss: 0.0000e+00 - acc: 1.0000\n",
            "Epoch 21/300\n",
            "1054/1054 [==============================] - 0s 153us/sample - loss: 0.0000e+00 - acc: 1.0000\n",
            "Epoch 22/300\n",
            "1054/1054 [==============================] - 0s 150us/sample - loss: 0.0000e+00 - acc: 1.0000\n",
            "Epoch 23/300\n",
            "1054/1054 [==============================] - 0s 140us/sample - loss: 0.0000e+00 - acc: 1.0000\n",
            "Epoch 24/300\n",
            "1054/1054 [==============================] - 0s 152us/sample - loss: 0.0000e+00 - acc: 1.0000\n",
            "Epoch 25/300\n",
            "1054/1054 [==============================] - 0s 141us/sample - loss: 0.0000e+00 - acc: 1.0000\n",
            "Epoch 26/300\n",
            "1054/1054 [==============================] - 0s 142us/sample - loss: 0.0000e+00 - acc: 1.0000\n",
            "Epoch 27/300\n",
            "1054/1054 [==============================] - 0s 149us/sample - loss: 0.0000e+00 - acc: 1.0000\n",
            "Epoch 28/300\n",
            "1054/1054 [==============================] - 0s 149us/sample - loss: 0.0000e+00 - acc: 1.0000\n",
            "Epoch 29/300\n",
            "1054/1054 [==============================] - 0s 156us/sample - loss: 0.0000e+00 - acc: 1.0000\n",
            "Epoch 30/300\n",
            "1054/1054 [==============================] - 0s 151us/sample - loss: 0.0000e+00 - acc: 1.0000\n",
            "Epoch 31/300\n",
            "1054/1054 [==============================] - 0s 155us/sample - loss: 0.0000e+00 - acc: 1.0000\n",
            "Epoch 32/300\n",
            "1054/1054 [==============================] - 0s 152us/sample - loss: 0.0000e+00 - acc: 1.0000\n",
            "Epoch 33/300\n",
            "1054/1054 [==============================] - 0s 145us/sample - loss: 0.0000e+00 - acc: 1.0000\n",
            "Epoch 34/300\n",
            "1054/1054 [==============================] - 0s 152us/sample - loss: 0.0000e+00 - acc: 1.0000\n",
            "Epoch 35/300\n",
            "1054/1054 [==============================] - 0s 144us/sample - loss: 0.0000e+00 - acc: 1.0000\n",
            "Epoch 36/300\n",
            "1054/1054 [==============================] - 0s 158us/sample - loss: 0.0000e+00 - acc: 1.0000\n",
            "Epoch 37/300\n",
            "1054/1054 [==============================] - 0s 145us/sample - loss: 0.0000e+00 - acc: 1.0000\n",
            "Epoch 38/300\n",
            "1054/1054 [==============================] - 0s 141us/sample - loss: 0.0000e+00 - acc: 1.0000\n",
            "Epoch 39/300\n",
            "1054/1054 [==============================] - 0s 145us/sample - loss: 0.0000e+00 - acc: 1.0000\n",
            "Epoch 40/300\n",
            "1054/1054 [==============================] - 0s 146us/sample - loss: 0.0000e+00 - acc: 1.0000\n",
            "Epoch 41/300\n",
            "1054/1054 [==============================] - 0s 147us/sample - loss: 0.0000e+00 - acc: 1.0000\n",
            "Epoch 42/300\n",
            "1054/1054 [==============================] - 0s 144us/sample - loss: 0.0000e+00 - acc: 1.0000\n",
            "Epoch 43/300\n",
            "1054/1054 [==============================] - 0s 155us/sample - loss: 0.0000e+00 - acc: 1.0000\n",
            "Epoch 44/300\n",
            "1054/1054 [==============================] - 0s 149us/sample - loss: 0.0000e+00 - acc: 1.0000\n",
            "Epoch 45/300\n",
            "1054/1054 [==============================] - 0s 166us/sample - loss: 0.0000e+00 - acc: 1.0000\n",
            "Epoch 46/300\n",
            "1054/1054 [==============================] - 0s 144us/sample - loss: 0.0000e+00 - acc: 1.0000\n",
            "Epoch 47/300\n",
            "1054/1054 [==============================] - 0s 141us/sample - loss: 0.0000e+00 - acc: 1.0000\n",
            "Epoch 48/300\n",
            "1054/1054 [==============================] - 0s 143us/sample - loss: 0.0000e+00 - acc: 1.0000\n",
            "Epoch 49/300\n",
            "1054/1054 [==============================] - 0s 165us/sample - loss: 0.0000e+00 - acc: 1.0000\n",
            "Epoch 50/300\n",
            "1054/1054 [==============================] - 0s 151us/sample - loss: 0.0000e+00 - acc: 1.0000\n",
            "Epoch 51/300\n",
            "1054/1054 [==============================] - 0s 144us/sample - loss: 0.0000e+00 - acc: 1.0000\n",
            "Epoch 52/300\n",
            "1054/1054 [==============================] - 0s 143us/sample - loss: 0.0000e+00 - acc: 1.0000\n",
            "Epoch 53/300\n",
            "1054/1054 [==============================] - 0s 145us/sample - loss: 0.0000e+00 - acc: 1.0000\n",
            "Epoch 54/300\n",
            "1054/1054 [==============================] - 0s 154us/sample - loss: 0.0000e+00 - acc: 1.0000\n",
            "Epoch 55/300\n",
            "1054/1054 [==============================] - 0s 156us/sample - loss: 0.0000e+00 - acc: 1.0000\n",
            "Epoch 56/300\n",
            "1054/1054 [==============================] - 0s 150us/sample - loss: 0.0000e+00 - acc: 1.0000\n",
            "Epoch 57/300\n",
            "1054/1054 [==============================] - 0s 160us/sample - loss: 0.0000e+00 - acc: 1.0000\n",
            "Epoch 58/300\n",
            "1054/1054 [==============================] - 0s 154us/sample - loss: 0.0000e+00 - acc: 1.0000\n",
            "Epoch 59/300\n",
            "1054/1054 [==============================] - 0s 150us/sample - loss: 0.0000e+00 - acc: 1.0000\n",
            "Epoch 60/300\n",
            "1054/1054 [==============================] - 0s 145us/sample - loss: 0.0000e+00 - acc: 1.0000\n",
            "Epoch 61/300\n",
            "1054/1054 [==============================] - 0s 148us/sample - loss: 0.0000e+00 - acc: 1.0000\n",
            "Epoch 62/300\n",
            "1054/1054 [==============================] - 0s 158us/sample - loss: 0.0000e+00 - acc: 1.0000\n",
            "Epoch 63/300\n",
            "1054/1054 [==============================] - 0s 151us/sample - loss: 0.0000e+00 - acc: 1.0000\n",
            "Epoch 64/300\n",
            "1054/1054 [==============================] - 0s 143us/sample - loss: 0.0000e+00 - acc: 1.0000\n",
            "Epoch 65/300\n",
            "1054/1054 [==============================] - 0s 155us/sample - loss: 0.0000e+00 - acc: 1.0000\n",
            "Epoch 66/300\n",
            "1054/1054 [==============================] - 0s 153us/sample - loss: 0.0000e+00 - acc: 1.0000\n",
            "Epoch 67/300\n",
            "1054/1054 [==============================] - 0s 159us/sample - loss: 0.0000e+00 - acc: 1.0000\n",
            "Epoch 68/300\n",
            "1054/1054 [==============================] - 0s 158us/sample - loss: 0.0000e+00 - acc: 1.0000\n",
            "Epoch 69/300\n",
            "1054/1054 [==============================] - 0s 153us/sample - loss: 0.0000e+00 - acc: 1.0000\n",
            "Epoch 70/300\n",
            "1054/1054 [==============================] - 0s 140us/sample - loss: 0.0000e+00 - acc: 1.0000\n",
            "Epoch 71/300\n",
            "1054/1054 [==============================] - 0s 150us/sample - loss: 0.0000e+00 - acc: 1.0000\n",
            "Epoch 72/300\n",
            "1054/1054 [==============================] - 0s 148us/sample - loss: 0.0000e+00 - acc: 1.0000\n",
            "Epoch 73/300\n",
            "1054/1054 [==============================] - 0s 153us/sample - loss: 0.0000e+00 - acc: 1.0000\n",
            "Epoch 74/300\n",
            "1054/1054 [==============================] - 0s 166us/sample - loss: 0.0000e+00 - acc: 1.0000\n",
            "Epoch 75/300\n",
            "1054/1054 [==============================] - 0s 151us/sample - loss: 0.0000e+00 - acc: 1.0000\n",
            "Epoch 76/300\n",
            "1054/1054 [==============================] - 0s 144us/sample - loss: 0.0000e+00 - acc: 1.0000\n",
            "Epoch 77/300\n",
            "1054/1054 [==============================] - 0s 143us/sample - loss: 0.0000e+00 - acc: 1.0000\n",
            "Epoch 78/300\n",
            "1054/1054 [==============================] - 0s 148us/sample - loss: 0.0000e+00 - acc: 1.0000\n",
            "Epoch 79/300\n",
            "1054/1054 [==============================] - 0s 157us/sample - loss: 0.0000e+00 - acc: 1.0000\n",
            "Epoch 80/300\n",
            "1054/1054 [==============================] - 0s 159us/sample - loss: 0.0000e+00 - acc: 1.0000\n",
            "Epoch 81/300\n",
            "1054/1054 [==============================] - 0s 152us/sample - loss: 0.0000e+00 - acc: 1.0000\n",
            "Epoch 82/300\n",
            "1054/1054 [==============================] - 0s 153us/sample - loss: 0.0000e+00 - acc: 1.0000\n",
            "Epoch 83/300\n",
            "1054/1054 [==============================] - 0s 152us/sample - loss: 0.0000e+00 - acc: 1.0000\n",
            "Epoch 84/300\n",
            "1054/1054 [==============================] - 0s 164us/sample - loss: 0.0000e+00 - acc: 1.0000\n",
            "Epoch 85/300\n",
            "1054/1054 [==============================] - 0s 152us/sample - loss: 0.0000e+00 - acc: 1.0000\n",
            "Epoch 86/300\n",
            "1054/1054 [==============================] - 0s 181us/sample - loss: 0.0000e+00 - acc: 1.0000\n",
            "Epoch 87/300\n",
            "1054/1054 [==============================] - 0s 154us/sample - loss: 0.0000e+00 - acc: 1.0000\n",
            "Epoch 88/300\n",
            "1054/1054 [==============================] - 0s 161us/sample - loss: 0.0000e+00 - acc: 1.0000\n",
            "Epoch 89/300\n",
            "1054/1054 [==============================] - 0s 153us/sample - loss: 0.0000e+00 - acc: 1.0000\n",
            "Epoch 90/300\n",
            "1054/1054 [==============================] - 0s 159us/sample - loss: 0.0000e+00 - acc: 1.0000\n",
            "Epoch 91/300\n",
            "1054/1054 [==============================] - 0s 154us/sample - loss: 0.0000e+00 - acc: 1.0000\n",
            "Epoch 92/300\n",
            "1054/1054 [==============================] - 0s 169us/sample - loss: 0.0000e+00 - acc: 1.0000\n",
            "Epoch 93/300\n",
            "1054/1054 [==============================] - 0s 151us/sample - loss: 0.0000e+00 - acc: 1.0000\n",
            "Epoch 94/300\n",
            "1054/1054 [==============================] - 0s 170us/sample - loss: 0.0000e+00 - acc: 1.0000\n",
            "Epoch 95/300\n",
            "1054/1054 [==============================] - 0s 161us/sample - loss: 0.0000e+00 - acc: 1.0000\n",
            "Epoch 96/300\n",
            "1054/1054 [==============================] - 0s 173us/sample - loss: 0.0000e+00 - acc: 1.0000\n",
            "Epoch 97/300\n",
            "1054/1054 [==============================] - 0s 158us/sample - loss: 0.0000e+00 - acc: 1.0000\n",
            "Epoch 98/300\n",
            "1054/1054 [==============================] - 0s 150us/sample - loss: 0.0000e+00 - acc: 1.0000\n",
            "Epoch 99/300\n",
            "1054/1054 [==============================] - 0s 149us/sample - loss: 0.0000e+00 - acc: 1.0000\n",
            "Epoch 100/300\n",
            "1054/1054 [==============================] - 0s 169us/sample - loss: 0.0000e+00 - acc: 1.0000\n",
            "Epoch 101/300\n",
            "1054/1054 [==============================] - 0s 153us/sample - loss: 0.0000e+00 - acc: 1.0000\n",
            "Epoch 102/300\n",
            "1054/1054 [==============================] - 0s 147us/sample - loss: 0.0000e+00 - acc: 1.0000\n",
            "Epoch 103/300\n",
            "1054/1054 [==============================] - 0s 159us/sample - loss: 0.0000e+00 - acc: 1.0000\n",
            "Epoch 104/300\n",
            "1054/1054 [==============================] - 0s 166us/sample - loss: 0.0000e+00 - acc: 1.0000\n",
            "Epoch 105/300\n",
            "1054/1054 [==============================] - 0s 148us/sample - loss: 0.0000e+00 - acc: 1.0000\n",
            "Epoch 106/300\n",
            "1054/1054 [==============================] - 0s 146us/sample - loss: 0.0000e+00 - acc: 1.0000\n",
            "Epoch 107/300\n",
            "1054/1054 [==============================] - 0s 165us/sample - loss: 0.0000e+00 - acc: 1.0000\n",
            "Epoch 108/300\n",
            "1054/1054 [==============================] - 0s 162us/sample - loss: 0.0000e+00 - acc: 1.0000\n",
            "Epoch 109/300\n",
            "1054/1054 [==============================] - 0s 158us/sample - loss: 0.0000e+00 - acc: 1.0000\n",
            "Epoch 110/300\n",
            "1054/1054 [==============================] - 0s 156us/sample - loss: 0.0000e+00 - acc: 1.0000\n",
            "Epoch 111/300\n",
            "1054/1054 [==============================] - 0s 172us/sample - loss: 0.0000e+00 - acc: 1.0000\n",
            "Epoch 112/300\n",
            "1054/1054 [==============================] - 0s 143us/sample - loss: 0.0000e+00 - acc: 1.0000\n",
            "Epoch 113/300\n",
            "1054/1054 [==============================] - 0s 151us/sample - loss: 0.0000e+00 - acc: 1.0000\n",
            "Epoch 114/300\n",
            "1054/1054 [==============================] - 0s 150us/sample - loss: 0.0000e+00 - acc: 1.0000\n",
            "Epoch 115/300\n",
            "1054/1054 [==============================] - 0s 167us/sample - loss: 0.0000e+00 - acc: 1.0000\n",
            "Epoch 116/300\n",
            "1054/1054 [==============================] - 0s 154us/sample - loss: 0.0000e+00 - acc: 1.0000\n",
            "Epoch 117/300\n",
            "1054/1054 [==============================] - 0s 167us/sample - loss: 0.0000e+00 - acc: 1.0000\n",
            "Epoch 118/300\n",
            "1054/1054 [==============================] - 0s 161us/sample - loss: 0.0000e+00 - acc: 1.0000\n",
            "Epoch 119/300\n",
            "1054/1054 [==============================] - 0s 153us/sample - loss: 0.0000e+00 - acc: 1.0000\n",
            "Epoch 120/300\n",
            "1054/1054 [==============================] - 0s 155us/sample - loss: 0.0000e+00 - acc: 1.0000\n",
            "Epoch 121/300\n",
            "1054/1054 [==============================] - 0s 167us/sample - loss: 0.0000e+00 - acc: 1.0000\n",
            "Epoch 122/300\n",
            "1054/1054 [==============================] - 0s 150us/sample - loss: 0.0000e+00 - acc: 1.0000\n",
            "Epoch 123/300\n",
            "1054/1054 [==============================] - 0s 160us/sample - loss: 0.0000e+00 - acc: 1.0000\n",
            "Epoch 124/300\n",
            "1054/1054 [==============================] - 0s 154us/sample - loss: 0.0000e+00 - acc: 1.0000\n",
            "Epoch 125/300\n",
            "1054/1054 [==============================] - 0s 151us/sample - loss: 0.0000e+00 - acc: 1.0000\n",
            "Epoch 126/300\n",
            "1054/1054 [==============================] - 0s 147us/sample - loss: 0.0000e+00 - acc: 1.0000\n",
            "Epoch 127/300\n",
            "1054/1054 [==============================] - 0s 165us/sample - loss: 0.0000e+00 - acc: 1.0000\n",
            "Epoch 128/300\n",
            "1054/1054 [==============================] - 0s 153us/sample - loss: 0.0000e+00 - acc: 1.0000\n",
            "Epoch 129/300\n",
            "1054/1054 [==============================] - 0s 160us/sample - loss: 0.0000e+00 - acc: 1.0000\n",
            "Epoch 130/300\n",
            "1054/1054 [==============================] - 0s 148us/sample - loss: 0.0000e+00 - acc: 1.0000\n",
            "Epoch 131/300\n",
            "1054/1054 [==============================] - 0s 159us/sample - loss: 0.0000e+00 - acc: 1.0000\n",
            "Epoch 132/300\n",
            "1054/1054 [==============================] - 0s 153us/sample - loss: 0.0000e+00 - acc: 1.0000\n",
            "Epoch 133/300\n",
            "1054/1054 [==============================] - 0s 157us/sample - loss: 0.0000e+00 - acc: 1.0000\n",
            "Epoch 134/300\n",
            "1054/1054 [==============================] - 0s 156us/sample - loss: 0.0000e+00 - acc: 1.0000\n",
            "Epoch 135/300\n",
            "1054/1054 [==============================] - 0s 142us/sample - loss: 0.0000e+00 - acc: 1.0000\n",
            "Epoch 136/300\n",
            "1054/1054 [==============================] - 0s 160us/sample - loss: 0.0000e+00 - acc: 1.0000\n",
            "Epoch 137/300\n",
            "1054/1054 [==============================] - 0s 158us/sample - loss: 0.0000e+00 - acc: 1.0000\n",
            "Epoch 138/300\n",
            "1054/1054 [==============================] - 0s 157us/sample - loss: 0.0000e+00 - acc: 1.0000\n",
            "Epoch 139/300\n",
            "1054/1054 [==============================] - 0s 165us/sample - loss: 0.0000e+00 - acc: 1.0000\n",
            "Epoch 140/300\n",
            "1054/1054 [==============================] - 0s 150us/sample - loss: 0.0000e+00 - acc: 1.0000\n",
            "Epoch 141/300\n",
            "1054/1054 [==============================] - 0s 163us/sample - loss: 0.0000e+00 - acc: 1.0000\n",
            "Epoch 142/300\n",
            "1054/1054 [==============================] - 0s 152us/sample - loss: 0.0000e+00 - acc: 1.0000\n",
            "Epoch 143/300\n",
            "1054/1054 [==============================] - 0s 168us/sample - loss: 0.0000e+00 - acc: 1.0000\n",
            "Epoch 144/300\n",
            "1054/1054 [==============================] - 0s 150us/sample - loss: 0.0000e+00 - acc: 1.0000\n",
            "Epoch 145/300\n",
            "1054/1054 [==============================] - 0s 160us/sample - loss: 0.0000e+00 - acc: 1.0000\n",
            "Epoch 146/300\n",
            "1054/1054 [==============================] - 0s 164us/sample - loss: 0.0000e+00 - acc: 1.0000\n",
            "Epoch 147/300\n",
            "1054/1054 [==============================] - 0s 158us/sample - loss: 0.0000e+00 - acc: 1.0000\n",
            "Epoch 148/300\n",
            "1054/1054 [==============================] - 0s 158us/sample - loss: 0.0000e+00 - acc: 1.0000\n",
            "Epoch 149/300\n",
            "1054/1054 [==============================] - 0s 148us/sample - loss: 0.0000e+00 - acc: 1.0000\n",
            "Epoch 150/300\n",
            "1054/1054 [==============================] - 0s 155us/sample - loss: 0.0000e+00 - acc: 1.0000\n",
            "Epoch 151/300\n",
            "1054/1054 [==============================] - 0s 152us/sample - loss: 0.0000e+00 - acc: 1.0000\n",
            "Epoch 152/300\n",
            "1054/1054 [==============================] - 0s 160us/sample - loss: 0.0000e+00 - acc: 1.0000\n",
            "Epoch 153/300\n",
            "1054/1054 [==============================] - 0s 153us/sample - loss: 0.0000e+00 - acc: 1.0000\n",
            "Epoch 154/300\n",
            "1054/1054 [==============================] - 0s 159us/sample - loss: 0.0000e+00 - acc: 1.0000\n",
            "Epoch 155/300\n",
            "1054/1054 [==============================] - 0s 151us/sample - loss: 0.0000e+00 - acc: 1.0000\n",
            "Epoch 156/300\n",
            "1054/1054 [==============================] - 0s 181us/sample - loss: 0.0000e+00 - acc: 1.0000\n",
            "Epoch 157/300\n",
            "1054/1054 [==============================] - 0s 160us/sample - loss: 0.0000e+00 - acc: 1.0000\n",
            "Epoch 158/300\n",
            "1054/1054 [==============================] - 0s 168us/sample - loss: 0.0000e+00 - acc: 1.0000\n",
            "Epoch 159/300\n",
            "1054/1054 [==============================] - 0s 155us/sample - loss: 0.0000e+00 - acc: 1.0000\n",
            "Epoch 160/300\n",
            "1054/1054 [==============================] - 0s 175us/sample - loss: 0.0000e+00 - acc: 1.0000\n",
            "Epoch 161/300\n",
            "1054/1054 [==============================] - 0s 154us/sample - loss: 0.0000e+00 - acc: 1.0000\n",
            "Epoch 162/300\n",
            "1054/1054 [==============================] - 0s 178us/sample - loss: 0.0000e+00 - acc: 1.0000\n",
            "Epoch 163/300\n",
            "1054/1054 [==============================] - 0s 152us/sample - loss: 0.0000e+00 - acc: 1.0000\n",
            "Epoch 164/300\n",
            "1054/1054 [==============================] - 0s 165us/sample - loss: 0.0000e+00 - acc: 1.0000\n",
            "Epoch 165/300\n",
            "1054/1054 [==============================] - 0s 158us/sample - loss: 0.0000e+00 - acc: 1.0000\n",
            "Epoch 166/300\n",
            "1054/1054 [==============================] - 0s 162us/sample - loss: 0.0000e+00 - acc: 1.0000\n",
            "Epoch 167/300\n",
            "1054/1054 [==============================] - 0s 153us/sample - loss: 0.0000e+00 - acc: 1.0000\n",
            "Epoch 168/300\n",
            "1054/1054 [==============================] - 0s 176us/sample - loss: 0.0000e+00 - acc: 1.0000\n",
            "Epoch 169/300\n",
            "1054/1054 [==============================] - 0s 156us/sample - loss: 0.0000e+00 - acc: 1.0000\n",
            "Epoch 170/300\n",
            "1054/1054 [==============================] - 0s 160us/sample - loss: 0.0000e+00 - acc: 1.0000\n",
            "Epoch 171/300\n",
            "1054/1054 [==============================] - 0s 143us/sample - loss: 0.0000e+00 - acc: 1.0000\n",
            "Epoch 172/300\n",
            "1054/1054 [==============================] - 0s 164us/sample - loss: 0.0000e+00 - acc: 1.0000\n",
            "Epoch 173/300\n",
            "1054/1054 [==============================] - 0s 148us/sample - loss: 0.0000e+00 - acc: 1.0000\n",
            "Epoch 174/300\n",
            "1054/1054 [==============================] - 0s 167us/sample - loss: 0.0000e+00 - acc: 1.0000\n",
            "Epoch 175/300\n",
            "1054/1054 [==============================] - 0s 158us/sample - loss: 0.0000e+00 - acc: 1.0000\n",
            "Epoch 176/300\n",
            "1054/1054 [==============================] - 0s 164us/sample - loss: 0.0000e+00 - acc: 1.0000\n",
            "Epoch 177/300\n",
            "1054/1054 [==============================] - 0s 157us/sample - loss: 0.0000e+00 - acc: 1.0000\n",
            "Epoch 178/300\n",
            "1054/1054 [==============================] - 0s 167us/sample - loss: 0.0000e+00 - acc: 1.0000\n",
            "Epoch 179/300\n",
            "1054/1054 [==============================] - 0s 181us/sample - loss: 0.0000e+00 - acc: 1.0000\n",
            "Epoch 180/300\n",
            "1054/1054 [==============================] - 0s 175us/sample - loss: 0.0000e+00 - acc: 1.0000\n",
            "Epoch 181/300\n",
            "1054/1054 [==============================] - 0s 156us/sample - loss: 0.0000e+00 - acc: 1.0000\n",
            "Epoch 182/300\n",
            "1054/1054 [==============================] - 0s 141us/sample - loss: 0.0000e+00 - acc: 1.0000\n",
            "Epoch 183/300\n",
            "1054/1054 [==============================] - 0s 169us/sample - loss: 0.0000e+00 - acc: 1.0000\n",
            "Epoch 184/300\n",
            "1054/1054 [==============================] - 0s 159us/sample - loss: 0.0000e+00 - acc: 1.0000\n",
            "Epoch 185/300\n",
            "1054/1054 [==============================] - 0s 169us/sample - loss: 0.0000e+00 - acc: 1.0000\n",
            "Epoch 186/300\n",
            "1054/1054 [==============================] - 0s 160us/sample - loss: 0.0000e+00 - acc: 1.0000\n",
            "Epoch 187/300\n",
            "1054/1054 [==============================] - 0s 164us/sample - loss: 0.0000e+00 - acc: 1.0000\n",
            "Epoch 188/300\n",
            "1054/1054 [==============================] - 0s 167us/sample - loss: 0.0000e+00 - acc: 1.0000\n",
            "Epoch 189/300\n",
            "1054/1054 [==============================] - 0s 158us/sample - loss: 0.0000e+00 - acc: 1.0000\n",
            "Epoch 190/300\n",
            "1054/1054 [==============================] - 0s 161us/sample - loss: 0.0000e+00 - acc: 1.0000\n",
            "Epoch 191/300\n",
            "1054/1054 [==============================] - 0s 171us/sample - loss: 0.0000e+00 - acc: 1.0000\n",
            "Epoch 192/300\n",
            "1054/1054 [==============================] - 0s 162us/sample - loss: 0.0000e+00 - acc: 1.0000\n",
            "Epoch 193/300\n",
            "1054/1054 [==============================] - 0s 166us/sample - loss: 0.0000e+00 - acc: 1.0000\n",
            "Epoch 194/300\n",
            "1054/1054 [==============================] - 0s 156us/sample - loss: 0.0000e+00 - acc: 1.0000\n",
            "Epoch 195/300\n",
            "1054/1054 [==============================] - 0s 164us/sample - loss: 0.0000e+00 - acc: 1.0000\n",
            "Epoch 196/300\n",
            "1054/1054 [==============================] - 0s 161us/sample - loss: 0.0000e+00 - acc: 1.0000\n",
            "Epoch 197/300\n",
            "1054/1054 [==============================] - 0s 189us/sample - loss: 0.0000e+00 - acc: 1.0000\n",
            "Epoch 198/300\n",
            "1054/1054 [==============================] - 0s 156us/sample - loss: 0.0000e+00 - acc: 1.0000\n",
            "Epoch 199/300\n",
            "1054/1054 [==============================] - 0s 157us/sample - loss: 0.0000e+00 - acc: 1.0000\n",
            "Epoch 200/300\n",
            "1054/1054 [==============================] - 0s 155us/sample - loss: 0.0000e+00 - acc: 1.0000\n",
            "Epoch 201/300\n",
            "1054/1054 [==============================] - 0s 165us/sample - loss: 0.0000e+00 - acc: 1.0000\n",
            "Epoch 202/300\n",
            "1054/1054 [==============================] - 0s 162us/sample - loss: 0.0000e+00 - acc: 1.0000\n",
            "Epoch 203/300\n",
            "1054/1054 [==============================] - 0s 158us/sample - loss: 0.0000e+00 - acc: 1.0000\n",
            "Epoch 204/300\n",
            "1054/1054 [==============================] - 0s 164us/sample - loss: 0.0000e+00 - acc: 1.0000\n",
            "Epoch 205/300\n",
            "1054/1054 [==============================] - 0s 155us/sample - loss: 0.0000e+00 - acc: 1.0000\n",
            "Epoch 206/300\n",
            "1054/1054 [==============================] - 0s 150us/sample - loss: 0.0000e+00 - acc: 1.0000\n",
            "Epoch 207/300\n",
            "1054/1054 [==============================] - 0s 168us/sample - loss: 0.0000e+00 - acc: 1.0000\n",
            "Epoch 208/300\n",
            "1054/1054 [==============================] - 0s 164us/sample - loss: 0.0000e+00 - acc: 1.0000\n",
            "Epoch 209/300\n",
            "1054/1054 [==============================] - 0s 160us/sample - loss: 0.0000e+00 - acc: 1.0000\n",
            "Epoch 210/300\n",
            "1054/1054 [==============================] - 0s 156us/sample - loss: 0.0000e+00 - acc: 1.0000\n",
            "Epoch 211/300\n",
            "1054/1054 [==============================] - 0s 167us/sample - loss: 0.0000e+00 - acc: 1.0000\n",
            "Epoch 212/300\n",
            "1054/1054 [==============================] - 0s 173us/sample - loss: 0.0000e+00 - acc: 1.0000\n",
            "Epoch 213/300\n",
            "1054/1054 [==============================] - 0s 160us/sample - loss: 0.0000e+00 - acc: 1.0000\n",
            "Epoch 214/300\n",
            "1054/1054 [==============================] - 0s 152us/sample - loss: 0.0000e+00 - acc: 1.0000\n",
            "Epoch 215/300\n",
            "1054/1054 [==============================] - 0s 156us/sample - loss: 0.0000e+00 - acc: 1.0000\n",
            "Epoch 216/300\n",
            "1054/1054 [==============================] - 0s 154us/sample - loss: 0.0000e+00 - acc: 1.0000\n",
            "Epoch 217/300\n",
            "1054/1054 [==============================] - 0s 155us/sample - loss: 0.0000e+00 - acc: 1.0000\n",
            "Epoch 218/300\n",
            "1054/1054 [==============================] - 0s 168us/sample - loss: 0.0000e+00 - acc: 1.0000\n",
            "Epoch 219/300\n",
            "1054/1054 [==============================] - 0s 165us/sample - loss: 0.0000e+00 - acc: 1.0000\n",
            "Epoch 220/300\n",
            "1054/1054 [==============================] - 0s 168us/sample - loss: 0.0000e+00 - acc: 1.0000\n",
            "Epoch 221/300\n",
            "1054/1054 [==============================] - 0s 153us/sample - loss: 0.0000e+00 - acc: 1.0000\n",
            "Epoch 222/300\n",
            "1054/1054 [==============================] - 0s 164us/sample - loss: 0.0000e+00 - acc: 1.0000\n",
            "Epoch 223/300\n",
            "1054/1054 [==============================] - 0s 159us/sample - loss: 0.0000e+00 - acc: 1.0000\n",
            "Epoch 224/300\n",
            "1054/1054 [==============================] - 0s 164us/sample - loss: 0.0000e+00 - acc: 1.0000\n",
            "Epoch 225/300\n",
            "1054/1054 [==============================] - 0s 172us/sample - loss: 0.0000e+00 - acc: 1.0000\n",
            "Epoch 226/300\n",
            "1054/1054 [==============================] - 0s 151us/sample - loss: 0.0000e+00 - acc: 1.0000\n",
            "Epoch 227/300\n",
            "1054/1054 [==============================] - 0s 172us/sample - loss: 0.0000e+00 - acc: 1.0000\n",
            "Epoch 228/300\n",
            "1054/1054 [==============================] - 0s 161us/sample - loss: 0.0000e+00 - acc: 1.0000\n",
            "Epoch 229/300\n",
            "1054/1054 [==============================] - 0s 166us/sample - loss: 0.0000e+00 - acc: 1.0000\n",
            "Epoch 230/300\n",
            "1054/1054 [==============================] - 0s 163us/sample - loss: 0.0000e+00 - acc: 1.0000\n",
            "Epoch 231/300\n",
            "1054/1054 [==============================] - 0s 176us/sample - loss: 0.0000e+00 - acc: 1.0000\n",
            "Epoch 232/300\n",
            "1054/1054 [==============================] - 0s 157us/sample - loss: 0.0000e+00 - acc: 1.0000\n",
            "Epoch 233/300\n",
            "1054/1054 [==============================] - 0s 149us/sample - loss: 0.0000e+00 - acc: 1.0000\n",
            "Epoch 234/300\n",
            "1054/1054 [==============================] - 0s 159us/sample - loss: 0.0000e+00 - acc: 1.0000\n",
            "Epoch 235/300\n",
            "1054/1054 [==============================] - 0s 162us/sample - loss: 0.0000e+00 - acc: 1.0000\n",
            "Epoch 236/300\n",
            "1054/1054 [==============================] - 0s 158us/sample - loss: 0.0000e+00 - acc: 1.0000\n",
            "Epoch 237/300\n",
            "1054/1054 [==============================] - 0s 164us/sample - loss: 0.0000e+00 - acc: 1.0000\n",
            "Epoch 238/300\n",
            "1054/1054 [==============================] - 0s 160us/sample - loss: 0.0000e+00 - acc: 1.0000\n",
            "Epoch 239/300\n",
            "1054/1054 [==============================] - 0s 164us/sample - loss: 0.0000e+00 - acc: 1.0000\n",
            "Epoch 240/300\n",
            "1054/1054 [==============================] - 0s 150us/sample - loss: 0.0000e+00 - acc: 1.0000\n",
            "Epoch 241/300\n",
            "1054/1054 [==============================] - 0s 159us/sample - loss: 0.0000e+00 - acc: 1.0000\n",
            "Epoch 242/300\n",
            "1054/1054 [==============================] - 0s 156us/sample - loss: 0.0000e+00 - acc: 1.0000\n",
            "Epoch 243/300\n",
            "1054/1054 [==============================] - 0s 174us/sample - loss: 0.0000e+00 - acc: 1.0000\n",
            "Epoch 244/300\n",
            "1054/1054 [==============================] - 0s 163us/sample - loss: 0.0000e+00 - acc: 1.0000\n",
            "Epoch 245/300\n",
            "1054/1054 [==============================] - 0s 172us/sample - loss: 0.0000e+00 - acc: 1.0000\n",
            "Epoch 246/300\n",
            "1054/1054 [==============================] - 0s 157us/sample - loss: 0.0000e+00 - acc: 1.0000\n",
            "Epoch 247/300\n",
            "1054/1054 [==============================] - 0s 171us/sample - loss: 0.0000e+00 - acc: 1.0000\n",
            "Epoch 248/300\n",
            "1054/1054 [==============================] - 0s 165us/sample - loss: 0.0000e+00 - acc: 1.0000\n",
            "Epoch 249/300\n",
            "1054/1054 [==============================] - 0s 157us/sample - loss: 0.0000e+00 - acc: 1.0000\n",
            "Epoch 250/300\n",
            "1054/1054 [==============================] - 0s 162us/sample - loss: 0.0000e+00 - acc: 1.0000\n",
            "Epoch 251/300\n",
            "1054/1054 [==============================] - 0s 156us/sample - loss: 0.0000e+00 - acc: 1.0000\n",
            "Epoch 252/300\n",
            "1054/1054 [==============================] - 0s 170us/sample - loss: 0.0000e+00 - acc: 1.0000\n",
            "Epoch 253/300\n",
            "1054/1054 [==============================] - 0s 161us/sample - loss: 0.0000e+00 - acc: 1.0000\n",
            "Epoch 254/300\n",
            "1054/1054 [==============================] - 0s 163us/sample - loss: 0.0000e+00 - acc: 1.0000\n",
            "Epoch 255/300\n",
            "1054/1054 [==============================] - 0s 160us/sample - loss: 0.0000e+00 - acc: 1.0000\n",
            "Epoch 256/300\n",
            "1054/1054 [==============================] - 0s 161us/sample - loss: 0.0000e+00 - acc: 1.0000\n",
            "Epoch 257/300\n",
            "1054/1054 [==============================] - 0s 156us/sample - loss: 0.0000e+00 - acc: 1.0000\n",
            "Epoch 258/300\n",
            "1054/1054 [==============================] - 0s 162us/sample - loss: 0.0000e+00 - acc: 1.0000\n",
            "Epoch 259/300\n",
            "1054/1054 [==============================] - 0s 167us/sample - loss: 0.0000e+00 - acc: 1.0000\n",
            "Epoch 260/300\n",
            "1054/1054 [==============================] - 0s 169us/sample - loss: 0.0000e+00 - acc: 1.0000\n",
            "Epoch 261/300\n",
            "1054/1054 [==============================] - 0s 170us/sample - loss: 0.0000e+00 - acc: 1.0000\n",
            "Epoch 262/300\n",
            "1054/1054 [==============================] - 0s 155us/sample - loss: 0.0000e+00 - acc: 1.0000\n",
            "Epoch 263/300\n",
            "1054/1054 [==============================] - 0s 163us/sample - loss: 0.0000e+00 - acc: 1.0000\n",
            "Epoch 264/300\n",
            "1054/1054 [==============================] - 0s 165us/sample - loss: 0.0000e+00 - acc: 1.0000\n",
            "Epoch 265/300\n",
            "1054/1054 [==============================] - 0s 158us/sample - loss: 0.0000e+00 - acc: 1.0000\n",
            "Epoch 266/300\n",
            "1054/1054 [==============================] - 0s 159us/sample - loss: 0.0000e+00 - acc: 1.0000\n",
            "Epoch 267/300\n",
            "1054/1054 [==============================] - 0s 160us/sample - loss: 0.0000e+00 - acc: 1.0000\n",
            "Epoch 268/300\n",
            "1054/1054 [==============================] - 0s 161us/sample - loss: 0.0000e+00 - acc: 1.0000\n",
            "Epoch 269/300\n",
            "1054/1054 [==============================] - 0s 162us/sample - loss: 0.0000e+00 - acc: 1.0000\n",
            "Epoch 270/300\n",
            "1054/1054 [==============================] - 0s 164us/sample - loss: 0.0000e+00 - acc: 1.0000\n",
            "Epoch 271/300\n",
            "1054/1054 [==============================] - 0s 174us/sample - loss: 0.0000e+00 - acc: 1.0000\n",
            "Epoch 272/300\n",
            "1054/1054 [==============================] - 0s 161us/sample - loss: 0.0000e+00 - acc: 1.0000\n",
            "Epoch 273/300\n",
            "1054/1054 [==============================] - 0s 157us/sample - loss: 0.0000e+00 - acc: 1.0000\n",
            "Epoch 274/300\n",
            "1054/1054 [==============================] - 0s 160us/sample - loss: 0.0000e+00 - acc: 1.0000\n",
            "Epoch 275/300\n",
            "1054/1054 [==============================] - 0s 161us/sample - loss: 0.0000e+00 - acc: 1.0000\n",
            "Epoch 276/300\n",
            "1054/1054 [==============================] - 0s 173us/sample - loss: 0.0000e+00 - acc: 1.0000\n",
            "Epoch 277/300\n",
            "1054/1054 [==============================] - 0s 169us/sample - loss: 0.0000e+00 - acc: 1.0000\n",
            "Epoch 278/300\n",
            "1054/1054 [==============================] - 0s 170us/sample - loss: 0.0000e+00 - acc: 1.0000\n",
            "Epoch 279/300\n",
            "1054/1054 [==============================] - 0s 164us/sample - loss: 0.0000e+00 - acc: 1.0000\n",
            "Epoch 280/300\n",
            "1054/1054 [==============================] - 0s 163us/sample - loss: 0.0000e+00 - acc: 1.0000\n",
            "Epoch 281/300\n",
            "1054/1054 [==============================] - 0s 171us/sample - loss: 0.0000e+00 - acc: 1.0000\n",
            "Epoch 282/300\n",
            "1054/1054 [==============================] - 0s 161us/sample - loss: 0.0000e+00 - acc: 1.0000\n",
            "Epoch 283/300\n",
            "1054/1054 [==============================] - 0s 179us/sample - loss: 0.0000e+00 - acc: 1.0000\n",
            "Epoch 284/300\n",
            "1054/1054 [==============================] - 0s 163us/sample - loss: 0.0000e+00 - acc: 1.0000\n",
            "Epoch 285/300\n",
            "1054/1054 [==============================] - 0s 159us/sample - loss: 0.0000e+00 - acc: 1.0000\n",
            "Epoch 286/300\n",
            "1054/1054 [==============================] - 0s 165us/sample - loss: 0.0000e+00 - acc: 1.0000\n",
            "Epoch 287/300\n",
            "1054/1054 [==============================] - 0s 173us/sample - loss: 0.0000e+00 - acc: 1.0000\n",
            "Epoch 288/300\n",
            "1054/1054 [==============================] - 0s 172us/sample - loss: 0.0000e+00 - acc: 1.0000\n",
            "Epoch 289/300\n",
            "1054/1054 [==============================] - 0s 165us/sample - loss: 0.0000e+00 - acc: 1.0000\n",
            "Epoch 290/300\n",
            "1054/1054 [==============================] - 0s 158us/sample - loss: 0.0000e+00 - acc: 1.0000\n",
            "Epoch 291/300\n",
            "1054/1054 [==============================] - 0s 167us/sample - loss: 0.0000e+00 - acc: 1.0000\n",
            "Epoch 292/300\n",
            "1054/1054 [==============================] - 0s 157us/sample - loss: 0.0000e+00 - acc: 1.0000\n",
            "Epoch 293/300\n",
            "1054/1054 [==============================] - 0s 165us/sample - loss: 0.0000e+00 - acc: 1.0000\n",
            "Epoch 294/300\n",
            "1054/1054 [==============================] - 0s 170us/sample - loss: 0.0000e+00 - acc: 1.0000\n",
            "Epoch 295/300\n",
            "1054/1054 [==============================] - 0s 170us/sample - loss: 0.0000e+00 - acc: 1.0000\n",
            "Epoch 296/300\n",
            "1054/1054 [==============================] - 0s 160us/sample - loss: 0.0000e+00 - acc: 1.0000\n",
            "Epoch 297/300\n",
            "1054/1054 [==============================] - 0s 162us/sample - loss: 0.0000e+00 - acc: 1.0000\n",
            "Epoch 298/300\n",
            "1054/1054 [==============================] - 0s 158us/sample - loss: 0.0000e+00 - acc: 1.0000\n",
            "Epoch 299/300\n",
            "1054/1054 [==============================] - 0s 189us/sample - loss: 0.0000e+00 - acc: 1.0000\n",
            "Epoch 300/300\n",
            "1054/1054 [==============================] - 0s 177us/sample - loss: 0.0000e+00 - acc: 1.0000\n"
          ],
          "name": "stdout"
        },
        {
          "output_type": "execute_result",
          "data": {
            "text/plain": [
              "<tensorflow.python.keras.callbacks.History at 0x7f0d16aa4a20>"
            ]
          },
          "metadata": {
            "tags": []
          },
          "execution_count": 153
        }
      ]
    },
    {
      "cell_type": "code",
      "metadata": {
        "id": "s1UxyzXfbOQH"
      },
      "source": [
        ""
      ],
      "execution_count": null,
      "outputs": []
    },
    {
      "cell_type": "code",
      "metadata": {
        "id": "XdqpDfGov3QI"
      },
      "source": [
        ""
      ],
      "execution_count": null,
      "outputs": []
    }
  ]
}