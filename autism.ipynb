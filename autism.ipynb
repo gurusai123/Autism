{
 "cells": [
  {
   "cell_type": "code",
   "execution_count": 1,
   "metadata": {},
   "outputs": [],
   "source": [
    "import os\n",
    "import pandas as pd\n",
    "data = pd.read_csv('data sets//data_autism.csv')"
   ]
  },
  {
   "cell_type": "code",
   "execution_count": 2,
   "metadata": {},
   "outputs": [
    {
     "data": {
      "text/html": [
       "<div>\n",
       "<style scoped>\n",
       "    .dataframe tbody tr th:only-of-type {\n",
       "        vertical-align: middle;\n",
       "    }\n",
       "\n",
       "    .dataframe tbody tr th {\n",
       "        vertical-align: top;\n",
       "    }\n",
       "\n",
       "    .dataframe thead th {\n",
       "        text-align: right;\n",
       "    }\n",
       "</style>\n",
       "<table border=\"1\" class=\"dataframe\">\n",
       "  <thead>\n",
       "    <tr style=\"text-align: right;\">\n",
       "      <th></th>\n",
       "      <th>id</th>\n",
       "      <th>A1_Score</th>\n",
       "      <th>A2_Score</th>\n",
       "      <th>A3_Score</th>\n",
       "      <th>A4_Score</th>\n",
       "      <th>A5_Score</th>\n",
       "      <th>A6_Score</th>\n",
       "      <th>A7_Score</th>\n",
       "      <th>A8_Score</th>\n",
       "      <th>A9_Score</th>\n",
       "      <th>...</th>\n",
       "      <th>result</th>\n",
       "      <th>gender</th>\n",
       "      <th>ethnicity</th>\n",
       "      <th>jundice</th>\n",
       "      <th>austim</th>\n",
       "      <th>contry_of_res</th>\n",
       "      <th>used_app_before</th>\n",
       "      <th>age_desc</th>\n",
       "      <th>relation</th>\n",
       "      <th>Class/ASD</th>\n",
       "    </tr>\n",
       "  </thead>\n",
       "  <tbody>\n",
       "    <tr>\n",
       "      <th>0</th>\n",
       "      <td>1</td>\n",
       "      <td>1</td>\n",
       "      <td>1</td>\n",
       "      <td>1</td>\n",
       "      <td>1</td>\n",
       "      <td>0</td>\n",
       "      <td>0</td>\n",
       "      <td>1</td>\n",
       "      <td>1</td>\n",
       "      <td>0</td>\n",
       "      <td>...</td>\n",
       "      <td>6</td>\n",
       "      <td>f</td>\n",
       "      <td>White-European</td>\n",
       "      <td>no</td>\n",
       "      <td>no</td>\n",
       "      <td>United States</td>\n",
       "      <td>no</td>\n",
       "      <td>18 and more</td>\n",
       "      <td>Self</td>\n",
       "      <td>NO</td>\n",
       "    </tr>\n",
       "    <tr>\n",
       "      <th>1</th>\n",
       "      <td>2</td>\n",
       "      <td>1</td>\n",
       "      <td>1</td>\n",
       "      <td>0</td>\n",
       "      <td>1</td>\n",
       "      <td>0</td>\n",
       "      <td>0</td>\n",
       "      <td>0</td>\n",
       "      <td>1</td>\n",
       "      <td>0</td>\n",
       "      <td>...</td>\n",
       "      <td>5</td>\n",
       "      <td>m</td>\n",
       "      <td>Latino</td>\n",
       "      <td>no</td>\n",
       "      <td>yes</td>\n",
       "      <td>Brazil</td>\n",
       "      <td>no</td>\n",
       "      <td>18 and more</td>\n",
       "      <td>Self</td>\n",
       "      <td>NO</td>\n",
       "    </tr>\n",
       "    <tr>\n",
       "      <th>2</th>\n",
       "      <td>3</td>\n",
       "      <td>1</td>\n",
       "      <td>1</td>\n",
       "      <td>0</td>\n",
       "      <td>1</td>\n",
       "      <td>1</td>\n",
       "      <td>0</td>\n",
       "      <td>1</td>\n",
       "      <td>1</td>\n",
       "      <td>1</td>\n",
       "      <td>...</td>\n",
       "      <td>8</td>\n",
       "      <td>m</td>\n",
       "      <td>Latino</td>\n",
       "      <td>yes</td>\n",
       "      <td>yes</td>\n",
       "      <td>Spain</td>\n",
       "      <td>no</td>\n",
       "      <td>18 and more</td>\n",
       "      <td>Parent</td>\n",
       "      <td>YES</td>\n",
       "    </tr>\n",
       "    <tr>\n",
       "      <th>3</th>\n",
       "      <td>4</td>\n",
       "      <td>1</td>\n",
       "      <td>1</td>\n",
       "      <td>0</td>\n",
       "      <td>1</td>\n",
       "      <td>0</td>\n",
       "      <td>0</td>\n",
       "      <td>1</td>\n",
       "      <td>1</td>\n",
       "      <td>0</td>\n",
       "      <td>...</td>\n",
       "      <td>6</td>\n",
       "      <td>f</td>\n",
       "      <td>White-European</td>\n",
       "      <td>no</td>\n",
       "      <td>yes</td>\n",
       "      <td>United States</td>\n",
       "      <td>no</td>\n",
       "      <td>18 and more</td>\n",
       "      <td>Self</td>\n",
       "      <td>NO</td>\n",
       "    </tr>\n",
       "    <tr>\n",
       "      <th>4</th>\n",
       "      <td>5</td>\n",
       "      <td>1</td>\n",
       "      <td>0</td>\n",
       "      <td>0</td>\n",
       "      <td>0</td>\n",
       "      <td>0</td>\n",
       "      <td>0</td>\n",
       "      <td>0</td>\n",
       "      <td>1</td>\n",
       "      <td>0</td>\n",
       "      <td>...</td>\n",
       "      <td>2</td>\n",
       "      <td>f</td>\n",
       "      <td>?</td>\n",
       "      <td>no</td>\n",
       "      <td>no</td>\n",
       "      <td>Egypt</td>\n",
       "      <td>no</td>\n",
       "      <td>18 and more</td>\n",
       "      <td>?</td>\n",
       "      <td>NO</td>\n",
       "    </tr>\n",
       "    <tr>\n",
       "      <th>...</th>\n",
       "      <td>...</td>\n",
       "      <td>...</td>\n",
       "      <td>...</td>\n",
       "      <td>...</td>\n",
       "      <td>...</td>\n",
       "      <td>...</td>\n",
       "      <td>...</td>\n",
       "      <td>...</td>\n",
       "      <td>...</td>\n",
       "      <td>...</td>\n",
       "      <td>...</td>\n",
       "      <td>...</td>\n",
       "      <td>...</td>\n",
       "      <td>...</td>\n",
       "      <td>...</td>\n",
       "      <td>...</td>\n",
       "      <td>...</td>\n",
       "      <td>...</td>\n",
       "      <td>...</td>\n",
       "      <td>...</td>\n",
       "      <td>...</td>\n",
       "    </tr>\n",
       "    <tr>\n",
       "      <th>699</th>\n",
       "      <td>700</td>\n",
       "      <td>0</td>\n",
       "      <td>1</td>\n",
       "      <td>0</td>\n",
       "      <td>1</td>\n",
       "      <td>1</td>\n",
       "      <td>0</td>\n",
       "      <td>1</td>\n",
       "      <td>1</td>\n",
       "      <td>1</td>\n",
       "      <td>...</td>\n",
       "      <td>7</td>\n",
       "      <td>f</td>\n",
       "      <td>White-European</td>\n",
       "      <td>no</td>\n",
       "      <td>no</td>\n",
       "      <td>Russia</td>\n",
       "      <td>no</td>\n",
       "      <td>18 and more</td>\n",
       "      <td>Self</td>\n",
       "      <td>YES</td>\n",
       "    </tr>\n",
       "    <tr>\n",
       "      <th>700</th>\n",
       "      <td>701</td>\n",
       "      <td>1</td>\n",
       "      <td>0</td>\n",
       "      <td>0</td>\n",
       "      <td>0</td>\n",
       "      <td>0</td>\n",
       "      <td>0</td>\n",
       "      <td>0</td>\n",
       "      <td>1</td>\n",
       "      <td>0</td>\n",
       "      <td>...</td>\n",
       "      <td>3</td>\n",
       "      <td>m</td>\n",
       "      <td>Hispanic</td>\n",
       "      <td>no</td>\n",
       "      <td>no</td>\n",
       "      <td>Mexico</td>\n",
       "      <td>no</td>\n",
       "      <td>18 and more</td>\n",
       "      <td>Parent</td>\n",
       "      <td>NO</td>\n",
       "    </tr>\n",
       "    <tr>\n",
       "      <th>701</th>\n",
       "      <td>702</td>\n",
       "      <td>1</td>\n",
       "      <td>0</td>\n",
       "      <td>1</td>\n",
       "      <td>1</td>\n",
       "      <td>1</td>\n",
       "      <td>0</td>\n",
       "      <td>1</td>\n",
       "      <td>1</td>\n",
       "      <td>0</td>\n",
       "      <td>...</td>\n",
       "      <td>7</td>\n",
       "      <td>f</td>\n",
       "      <td>?</td>\n",
       "      <td>no</td>\n",
       "      <td>no</td>\n",
       "      <td>Russia</td>\n",
       "      <td>no</td>\n",
       "      <td>18 and more</td>\n",
       "      <td>?</td>\n",
       "      <td>YES</td>\n",
       "    </tr>\n",
       "    <tr>\n",
       "      <th>702</th>\n",
       "      <td>703</td>\n",
       "      <td>1</td>\n",
       "      <td>0</td>\n",
       "      <td>0</td>\n",
       "      <td>1</td>\n",
       "      <td>1</td>\n",
       "      <td>0</td>\n",
       "      <td>1</td>\n",
       "      <td>0</td>\n",
       "      <td>1</td>\n",
       "      <td>...</td>\n",
       "      <td>6</td>\n",
       "      <td>m</td>\n",
       "      <td>South Asian</td>\n",
       "      <td>no</td>\n",
       "      <td>no</td>\n",
       "      <td>Pakistan</td>\n",
       "      <td>no</td>\n",
       "      <td>18 and more</td>\n",
       "      <td>Self</td>\n",
       "      <td>NO</td>\n",
       "    </tr>\n",
       "    <tr>\n",
       "      <th>703</th>\n",
       "      <td>704</td>\n",
       "      <td>1</td>\n",
       "      <td>0</td>\n",
       "      <td>1</td>\n",
       "      <td>1</td>\n",
       "      <td>1</td>\n",
       "      <td>0</td>\n",
       "      <td>1</td>\n",
       "      <td>1</td>\n",
       "      <td>1</td>\n",
       "      <td>...</td>\n",
       "      <td>8</td>\n",
       "      <td>f</td>\n",
       "      <td>White-European</td>\n",
       "      <td>no</td>\n",
       "      <td>no</td>\n",
       "      <td>Cyprus</td>\n",
       "      <td>no</td>\n",
       "      <td>18 and more</td>\n",
       "      <td>Self</td>\n",
       "      <td>YES</td>\n",
       "    </tr>\n",
       "  </tbody>\n",
       "</table>\n",
       "<p>704 rows × 22 columns</p>\n",
       "</div>"
      ],
      "text/plain": [
       "      id  A1_Score  A2_Score  A3_Score  A4_Score  A5_Score  A6_Score  \\\n",
       "0      1         1         1         1         1         0         0   \n",
       "1      2         1         1         0         1         0         0   \n",
       "2      3         1         1         0         1         1         0   \n",
       "3      4         1         1         0         1         0         0   \n",
       "4      5         1         0         0         0         0         0   \n",
       "..   ...       ...       ...       ...       ...       ...       ...   \n",
       "699  700         0         1         0         1         1         0   \n",
       "700  701         1         0         0         0         0         0   \n",
       "701  702         1         0         1         1         1         0   \n",
       "702  703         1         0         0         1         1         0   \n",
       "703  704         1         0         1         1         1         0   \n",
       "\n",
       "     A7_Score  A8_Score  A9_Score  ...  result gender       ethnicity jundice  \\\n",
       "0           1         1         0  ...       6      f  White-European      no   \n",
       "1           0         1         0  ...       5      m          Latino      no   \n",
       "2           1         1         1  ...       8      m          Latino     yes   \n",
       "3           1         1         0  ...       6      f  White-European      no   \n",
       "4           0         1         0  ...       2      f               ?      no   \n",
       "..        ...       ...       ...  ...     ...    ...             ...     ...   \n",
       "699         1         1         1  ...       7      f  White-European      no   \n",
       "700         0         1         0  ...       3      m        Hispanic      no   \n",
       "701         1         1         0  ...       7      f               ?      no   \n",
       "702         1         0         1  ...       6      m     South Asian      no   \n",
       "703         1         1         1  ...       8      f  White-European      no   \n",
       "\n",
       "    austim  contry_of_res used_app_before     age_desc relation Class/ASD  \n",
       "0       no  United States              no  18 and more     Self        NO  \n",
       "1      yes         Brazil              no  18 and more     Self        NO  \n",
       "2      yes          Spain              no  18 and more   Parent       YES  \n",
       "3      yes  United States              no  18 and more     Self        NO  \n",
       "4       no          Egypt              no  18 and more        ?        NO  \n",
       "..     ...            ...             ...          ...      ...       ...  \n",
       "699     no         Russia              no  18 and more     Self       YES  \n",
       "700     no         Mexico              no  18 and more   Parent        NO  \n",
       "701     no         Russia              no  18 and more        ?       YES  \n",
       "702     no       Pakistan              no  18 and more     Self        NO  \n",
       "703     no         Cyprus              no  18 and more     Self       YES  \n",
       "\n",
       "[704 rows x 22 columns]"
      ]
     },
     "execution_count": 2,
     "metadata": {},
     "output_type": "execute_result"
    }
   ],
   "source": [
    "data"
   ]
  },
  {
   "cell_type": "code",
   "execution_count": 3,
   "metadata": {},
   "outputs": [],
   "source": [
    "data.drop(['id','used_app_before','age_desc'],axis = 1,inplace = True)"
   ]
  },
  {
   "cell_type": "code",
   "execution_count": 4,
   "metadata": {},
   "outputs": [
    {
     "data": {
      "text/html": [
       "<div>\n",
       "<style scoped>\n",
       "    .dataframe tbody tr th:only-of-type {\n",
       "        vertical-align: middle;\n",
       "    }\n",
       "\n",
       "    .dataframe tbody tr th {\n",
       "        vertical-align: top;\n",
       "    }\n",
       "\n",
       "    .dataframe thead th {\n",
       "        text-align: right;\n",
       "    }\n",
       "</style>\n",
       "<table border=\"1\" class=\"dataframe\">\n",
       "  <thead>\n",
       "    <tr style=\"text-align: right;\">\n",
       "      <th></th>\n",
       "      <th>A1_Score</th>\n",
       "      <th>A2_Score</th>\n",
       "      <th>A3_Score</th>\n",
       "      <th>A4_Score</th>\n",
       "      <th>A5_Score</th>\n",
       "      <th>A6_Score</th>\n",
       "      <th>A7_Score</th>\n",
       "      <th>A8_Score</th>\n",
       "      <th>A9_Score</th>\n",
       "      <th>A10_Score</th>\n",
       "      <th>result</th>\n",
       "    </tr>\n",
       "  </thead>\n",
       "  <tbody>\n",
       "    <tr>\n",
       "      <th>count</th>\n",
       "      <td>704.000000</td>\n",
       "      <td>704.000000</td>\n",
       "      <td>704.000000</td>\n",
       "      <td>704.000000</td>\n",
       "      <td>704.000000</td>\n",
       "      <td>704.000000</td>\n",
       "      <td>704.000000</td>\n",
       "      <td>704.000000</td>\n",
       "      <td>704.000000</td>\n",
       "      <td>704.000000</td>\n",
       "      <td>704.000000</td>\n",
       "    </tr>\n",
       "    <tr>\n",
       "      <th>mean</th>\n",
       "      <td>0.721591</td>\n",
       "      <td>0.453125</td>\n",
       "      <td>0.457386</td>\n",
       "      <td>0.495739</td>\n",
       "      <td>0.498580</td>\n",
       "      <td>0.284091</td>\n",
       "      <td>0.417614</td>\n",
       "      <td>0.649148</td>\n",
       "      <td>0.323864</td>\n",
       "      <td>0.573864</td>\n",
       "      <td>4.875000</td>\n",
       "    </tr>\n",
       "    <tr>\n",
       "      <th>std</th>\n",
       "      <td>0.448535</td>\n",
       "      <td>0.498152</td>\n",
       "      <td>0.498535</td>\n",
       "      <td>0.500337</td>\n",
       "      <td>0.500353</td>\n",
       "      <td>0.451301</td>\n",
       "      <td>0.493516</td>\n",
       "      <td>0.477576</td>\n",
       "      <td>0.468281</td>\n",
       "      <td>0.494866</td>\n",
       "      <td>2.501493</td>\n",
       "    </tr>\n",
       "    <tr>\n",
       "      <th>min</th>\n",
       "      <td>0.000000</td>\n",
       "      <td>0.000000</td>\n",
       "      <td>0.000000</td>\n",
       "      <td>0.000000</td>\n",
       "      <td>0.000000</td>\n",
       "      <td>0.000000</td>\n",
       "      <td>0.000000</td>\n",
       "      <td>0.000000</td>\n",
       "      <td>0.000000</td>\n",
       "      <td>0.000000</td>\n",
       "      <td>0.000000</td>\n",
       "    </tr>\n",
       "    <tr>\n",
       "      <th>25%</th>\n",
       "      <td>0.000000</td>\n",
       "      <td>0.000000</td>\n",
       "      <td>0.000000</td>\n",
       "      <td>0.000000</td>\n",
       "      <td>0.000000</td>\n",
       "      <td>0.000000</td>\n",
       "      <td>0.000000</td>\n",
       "      <td>0.000000</td>\n",
       "      <td>0.000000</td>\n",
       "      <td>0.000000</td>\n",
       "      <td>3.000000</td>\n",
       "    </tr>\n",
       "    <tr>\n",
       "      <th>50%</th>\n",
       "      <td>1.000000</td>\n",
       "      <td>0.000000</td>\n",
       "      <td>0.000000</td>\n",
       "      <td>0.000000</td>\n",
       "      <td>0.000000</td>\n",
       "      <td>0.000000</td>\n",
       "      <td>0.000000</td>\n",
       "      <td>1.000000</td>\n",
       "      <td>0.000000</td>\n",
       "      <td>1.000000</td>\n",
       "      <td>4.000000</td>\n",
       "    </tr>\n",
       "    <tr>\n",
       "      <th>75%</th>\n",
       "      <td>1.000000</td>\n",
       "      <td>1.000000</td>\n",
       "      <td>1.000000</td>\n",
       "      <td>1.000000</td>\n",
       "      <td>1.000000</td>\n",
       "      <td>1.000000</td>\n",
       "      <td>1.000000</td>\n",
       "      <td>1.000000</td>\n",
       "      <td>1.000000</td>\n",
       "      <td>1.000000</td>\n",
       "      <td>7.000000</td>\n",
       "    </tr>\n",
       "    <tr>\n",
       "      <th>max</th>\n",
       "      <td>1.000000</td>\n",
       "      <td>1.000000</td>\n",
       "      <td>1.000000</td>\n",
       "      <td>1.000000</td>\n",
       "      <td>1.000000</td>\n",
       "      <td>1.000000</td>\n",
       "      <td>1.000000</td>\n",
       "      <td>1.000000</td>\n",
       "      <td>1.000000</td>\n",
       "      <td>1.000000</td>\n",
       "      <td>10.000000</td>\n",
       "    </tr>\n",
       "  </tbody>\n",
       "</table>\n",
       "</div>"
      ],
      "text/plain": [
       "         A1_Score    A2_Score    A3_Score    A4_Score    A5_Score    A6_Score  \\\n",
       "count  704.000000  704.000000  704.000000  704.000000  704.000000  704.000000   \n",
       "mean     0.721591    0.453125    0.457386    0.495739    0.498580    0.284091   \n",
       "std      0.448535    0.498152    0.498535    0.500337    0.500353    0.451301   \n",
       "min      0.000000    0.000000    0.000000    0.000000    0.000000    0.000000   \n",
       "25%      0.000000    0.000000    0.000000    0.000000    0.000000    0.000000   \n",
       "50%      1.000000    0.000000    0.000000    0.000000    0.000000    0.000000   \n",
       "75%      1.000000    1.000000    1.000000    1.000000    1.000000    1.000000   \n",
       "max      1.000000    1.000000    1.000000    1.000000    1.000000    1.000000   \n",
       "\n",
       "         A7_Score    A8_Score    A9_Score   A10_Score      result  \n",
       "count  704.000000  704.000000  704.000000  704.000000  704.000000  \n",
       "mean     0.417614    0.649148    0.323864    0.573864    4.875000  \n",
       "std      0.493516    0.477576    0.468281    0.494866    2.501493  \n",
       "min      0.000000    0.000000    0.000000    0.000000    0.000000  \n",
       "25%      0.000000    0.000000    0.000000    0.000000    3.000000  \n",
       "50%      0.000000    1.000000    0.000000    1.000000    4.000000  \n",
       "75%      1.000000    1.000000    1.000000    1.000000    7.000000  \n",
       "max      1.000000    1.000000    1.000000    1.000000   10.000000  "
      ]
     },
     "execution_count": 4,
     "metadata": {},
     "output_type": "execute_result"
    }
   ],
   "source": [
    "data.describe()"
   ]
  },
  {
   "cell_type": "code",
   "execution_count": 5,
   "metadata": {},
   "outputs": [
    {
     "data": {
      "text/plain": [
       "(704, 19)"
      ]
     },
     "execution_count": 5,
     "metadata": {},
     "output_type": "execute_result"
    }
   ],
   "source": [
    "data.shape"
   ]
  },
  {
   "cell_type": "code",
   "execution_count": 6,
   "metadata": {},
   "outputs": [],
   "source": [
    "columns = data.columns"
   ]
  },
  {
   "cell_type": "code",
   "execution_count": null,
   "metadata": {},
   "outputs": [],
   "source": []
  },
  {
   "cell_type": "code",
   "execution_count": 7,
   "metadata": {},
   "outputs": [
    {
     "data": {
      "text/plain": [
       "A1_Score         0\n",
       "A2_Score         0\n",
       "A3_Score         0\n",
       "A4_Score         0\n",
       "A5_Score         0\n",
       "A6_Score         0\n",
       "A7_Score         0\n",
       "A8_Score         0\n",
       "A9_Score         0\n",
       "A10_Score        0\n",
       "age              0\n",
       "result           0\n",
       "gender           0\n",
       "ethnicity        0\n",
       "jundice          0\n",
       "austim           0\n",
       "contry_of_res    0\n",
       "relation         0\n",
       "Class/ASD        0\n",
       "dtype: int64"
      ]
     },
     "execution_count": 7,
     "metadata": {},
     "output_type": "execute_result"
    }
   ],
   "source": [
    "data.isnull().sum()"
   ]
  },
  {
   "cell_type": "code",
   "execution_count": 8,
   "metadata": {},
   "outputs": [
    {
     "data": {
      "text/plain": [
       "(95, 19)"
      ]
     },
     "execution_count": 8,
     "metadata": {},
     "output_type": "execute_result"
    }
   ],
   "source": [
    "data[data['ethnicity'] == '?'].shape"
   ]
  },
  {
   "cell_type": "code",
   "execution_count": 9,
   "metadata": {},
   "outputs": [
    {
     "data": {
      "text/plain": [
       "(95, 19)"
      ]
     },
     "execution_count": 9,
     "metadata": {},
     "output_type": "execute_result"
    }
   ],
   "source": [
    "data[data['relation'] == '?'].shape"
   ]
  },
  {
   "cell_type": "code",
   "execution_count": 10,
   "metadata": {},
   "outputs": [],
   "source": [
    "import numpy as np\n",
    "from sklearn.impute import SimpleImputer\n",
    "imp = SimpleImputer(missing_values='?', strategy='most_frequent')\n",
    "data = pd.DataFrame(imp.fit_transform(data),columns = columns)"
   ]
  },
  {
   "cell_type": "code",
   "execution_count": 11,
   "metadata": {},
   "outputs": [
    {
     "data": {
      "text/plain": [
       "(0, 19)"
      ]
     },
     "execution_count": 11,
     "metadata": {},
     "output_type": "execute_result"
    }
   ],
   "source": [
    "data[data['ethnicity'] == '?'].shape"
   ]
  },
  {
   "cell_type": "code",
   "execution_count": 12,
   "metadata": {},
   "outputs": [
    {
     "data": {
      "text/plain": [
       "(0, 19)"
      ]
     },
     "execution_count": 12,
     "metadata": {},
     "output_type": "execute_result"
    }
   ],
   "source": [
    "data[data['relation'] == '?'].shape"
   ]
  },
  {
   "cell_type": "code",
   "execution_count": 13,
   "metadata": {},
   "outputs": [
    {
     "data": {
      "text/plain": [
       "array(['NO', 'YES'], dtype=object)"
      ]
     },
     "execution_count": 13,
     "metadata": {},
     "output_type": "execute_result"
    }
   ],
   "source": [
    "data['Class/ASD'].unique()"
   ]
  },
  {
   "cell_type": "code",
   "execution_count": 14,
   "metadata": {},
   "outputs": [],
   "source": [
    "data['Class/ASD'].replace(['NO', 'YES'],[0,1],inplace = True)"
   ]
  },
  {
   "cell_type": "code",
   "execution_count": 15,
   "metadata": {},
   "outputs": [
    {
     "data": {
      "text/plain": [
       "array([0, 1], dtype=int64)"
      ]
     },
     "execution_count": 15,
     "metadata": {},
     "output_type": "execute_result"
    }
   ],
   "source": [
    "data['Class/ASD'].unique()"
   ]
  },
  {
   "cell_type": "code",
   "execution_count": 16,
   "metadata": {},
   "outputs": [],
   "source": [
    "data['gender'].replace(['f', 'm'],[0,1],inplace = True)"
   ]
  },
  {
   "cell_type": "code",
   "execution_count": 17,
   "metadata": {},
   "outputs": [],
   "source": [
    "data['jundice'].replace(['no', 'yes'],[0,1],inplace = True)"
   ]
  },
  {
   "cell_type": "code",
   "execution_count": 18,
   "metadata": {},
   "outputs": [],
   "source": [
    "data['austim'].replace(['no', 'yes'],[0,1],inplace = True)"
   ]
  },
  {
   "cell_type": "code",
   "execution_count": 19,
   "metadata": {},
   "outputs": [],
   "source": [
    "#data['relation'].replace(['self', 'Parent'],[0,1],inplace = True)"
   ]
  },
  {
   "cell_type": "code",
   "execution_count": 20,
   "metadata": {},
   "outputs": [
    {
     "data": {
      "text/html": [
       "<div>\n",
       "<style scoped>\n",
       "    .dataframe tbody tr th:only-of-type {\n",
       "        vertical-align: middle;\n",
       "    }\n",
       "\n",
       "    .dataframe tbody tr th {\n",
       "        vertical-align: top;\n",
       "    }\n",
       "\n",
       "    .dataframe thead th {\n",
       "        text-align: right;\n",
       "    }\n",
       "</style>\n",
       "<table border=\"1\" class=\"dataframe\">\n",
       "  <thead>\n",
       "    <tr style=\"text-align: right;\">\n",
       "      <th></th>\n",
       "      <th>A1_Score</th>\n",
       "      <th>A2_Score</th>\n",
       "      <th>A3_Score</th>\n",
       "      <th>A4_Score</th>\n",
       "      <th>A5_Score</th>\n",
       "      <th>A6_Score</th>\n",
       "      <th>A7_Score</th>\n",
       "      <th>A8_Score</th>\n",
       "      <th>A9_Score</th>\n",
       "      <th>A10_Score</th>\n",
       "      <th>age</th>\n",
       "      <th>result</th>\n",
       "      <th>gender</th>\n",
       "      <th>ethnicity</th>\n",
       "      <th>jundice</th>\n",
       "      <th>austim</th>\n",
       "      <th>contry_of_res</th>\n",
       "      <th>relation</th>\n",
       "      <th>Class/ASD</th>\n",
       "    </tr>\n",
       "  </thead>\n",
       "  <tbody>\n",
       "    <tr>\n",
       "      <th>0</th>\n",
       "      <td>1</td>\n",
       "      <td>1</td>\n",
       "      <td>1</td>\n",
       "      <td>1</td>\n",
       "      <td>0</td>\n",
       "      <td>0</td>\n",
       "      <td>1</td>\n",
       "      <td>1</td>\n",
       "      <td>0</td>\n",
       "      <td>0</td>\n",
       "      <td>26</td>\n",
       "      <td>6</td>\n",
       "      <td>0</td>\n",
       "      <td>White-European</td>\n",
       "      <td>0</td>\n",
       "      <td>0</td>\n",
       "      <td>United States</td>\n",
       "      <td>Self</td>\n",
       "      <td>0</td>\n",
       "    </tr>\n",
       "    <tr>\n",
       "      <th>1</th>\n",
       "      <td>1</td>\n",
       "      <td>1</td>\n",
       "      <td>0</td>\n",
       "      <td>1</td>\n",
       "      <td>0</td>\n",
       "      <td>0</td>\n",
       "      <td>0</td>\n",
       "      <td>1</td>\n",
       "      <td>0</td>\n",
       "      <td>1</td>\n",
       "      <td>24</td>\n",
       "      <td>5</td>\n",
       "      <td>1</td>\n",
       "      <td>Latino</td>\n",
       "      <td>0</td>\n",
       "      <td>1</td>\n",
       "      <td>Brazil</td>\n",
       "      <td>Self</td>\n",
       "      <td>0</td>\n",
       "    </tr>\n",
       "    <tr>\n",
       "      <th>2</th>\n",
       "      <td>1</td>\n",
       "      <td>1</td>\n",
       "      <td>0</td>\n",
       "      <td>1</td>\n",
       "      <td>1</td>\n",
       "      <td>0</td>\n",
       "      <td>1</td>\n",
       "      <td>1</td>\n",
       "      <td>1</td>\n",
       "      <td>1</td>\n",
       "      <td>27</td>\n",
       "      <td>8</td>\n",
       "      <td>1</td>\n",
       "      <td>Latino</td>\n",
       "      <td>1</td>\n",
       "      <td>1</td>\n",
       "      <td>Spain</td>\n",
       "      <td>Parent</td>\n",
       "      <td>1</td>\n",
       "    </tr>\n",
       "    <tr>\n",
       "      <th>3</th>\n",
       "      <td>1</td>\n",
       "      <td>1</td>\n",
       "      <td>0</td>\n",
       "      <td>1</td>\n",
       "      <td>0</td>\n",
       "      <td>0</td>\n",
       "      <td>1</td>\n",
       "      <td>1</td>\n",
       "      <td>0</td>\n",
       "      <td>1</td>\n",
       "      <td>35</td>\n",
       "      <td>6</td>\n",
       "      <td>0</td>\n",
       "      <td>White-European</td>\n",
       "      <td>0</td>\n",
       "      <td>1</td>\n",
       "      <td>United States</td>\n",
       "      <td>Self</td>\n",
       "      <td>0</td>\n",
       "    </tr>\n",
       "    <tr>\n",
       "      <th>4</th>\n",
       "      <td>1</td>\n",
       "      <td>0</td>\n",
       "      <td>0</td>\n",
       "      <td>0</td>\n",
       "      <td>0</td>\n",
       "      <td>0</td>\n",
       "      <td>0</td>\n",
       "      <td>1</td>\n",
       "      <td>0</td>\n",
       "      <td>0</td>\n",
       "      <td>40</td>\n",
       "      <td>2</td>\n",
       "      <td>0</td>\n",
       "      <td>White-European</td>\n",
       "      <td>0</td>\n",
       "      <td>0</td>\n",
       "      <td>Egypt</td>\n",
       "      <td>Self</td>\n",
       "      <td>0</td>\n",
       "    </tr>\n",
       "    <tr>\n",
       "      <th>...</th>\n",
       "      <td>...</td>\n",
       "      <td>...</td>\n",
       "      <td>...</td>\n",
       "      <td>...</td>\n",
       "      <td>...</td>\n",
       "      <td>...</td>\n",
       "      <td>...</td>\n",
       "      <td>...</td>\n",
       "      <td>...</td>\n",
       "      <td>...</td>\n",
       "      <td>...</td>\n",
       "      <td>...</td>\n",
       "      <td>...</td>\n",
       "      <td>...</td>\n",
       "      <td>...</td>\n",
       "      <td>...</td>\n",
       "      <td>...</td>\n",
       "      <td>...</td>\n",
       "      <td>...</td>\n",
       "    </tr>\n",
       "    <tr>\n",
       "      <th>699</th>\n",
       "      <td>0</td>\n",
       "      <td>1</td>\n",
       "      <td>0</td>\n",
       "      <td>1</td>\n",
       "      <td>1</td>\n",
       "      <td>0</td>\n",
       "      <td>1</td>\n",
       "      <td>1</td>\n",
       "      <td>1</td>\n",
       "      <td>1</td>\n",
       "      <td>25</td>\n",
       "      <td>7</td>\n",
       "      <td>0</td>\n",
       "      <td>White-European</td>\n",
       "      <td>0</td>\n",
       "      <td>0</td>\n",
       "      <td>Russia</td>\n",
       "      <td>Self</td>\n",
       "      <td>1</td>\n",
       "    </tr>\n",
       "    <tr>\n",
       "      <th>700</th>\n",
       "      <td>1</td>\n",
       "      <td>0</td>\n",
       "      <td>0</td>\n",
       "      <td>0</td>\n",
       "      <td>0</td>\n",
       "      <td>0</td>\n",
       "      <td>0</td>\n",
       "      <td>1</td>\n",
       "      <td>0</td>\n",
       "      <td>1</td>\n",
       "      <td>34</td>\n",
       "      <td>3</td>\n",
       "      <td>1</td>\n",
       "      <td>Hispanic</td>\n",
       "      <td>0</td>\n",
       "      <td>0</td>\n",
       "      <td>Mexico</td>\n",
       "      <td>Parent</td>\n",
       "      <td>0</td>\n",
       "    </tr>\n",
       "    <tr>\n",
       "      <th>701</th>\n",
       "      <td>1</td>\n",
       "      <td>0</td>\n",
       "      <td>1</td>\n",
       "      <td>1</td>\n",
       "      <td>1</td>\n",
       "      <td>0</td>\n",
       "      <td>1</td>\n",
       "      <td>1</td>\n",
       "      <td>0</td>\n",
       "      <td>1</td>\n",
       "      <td>24</td>\n",
       "      <td>7</td>\n",
       "      <td>0</td>\n",
       "      <td>White-European</td>\n",
       "      <td>0</td>\n",
       "      <td>0</td>\n",
       "      <td>Russia</td>\n",
       "      <td>Self</td>\n",
       "      <td>1</td>\n",
       "    </tr>\n",
       "    <tr>\n",
       "      <th>702</th>\n",
       "      <td>1</td>\n",
       "      <td>0</td>\n",
       "      <td>0</td>\n",
       "      <td>1</td>\n",
       "      <td>1</td>\n",
       "      <td>0</td>\n",
       "      <td>1</td>\n",
       "      <td>0</td>\n",
       "      <td>1</td>\n",
       "      <td>1</td>\n",
       "      <td>35</td>\n",
       "      <td>6</td>\n",
       "      <td>1</td>\n",
       "      <td>South Asian</td>\n",
       "      <td>0</td>\n",
       "      <td>0</td>\n",
       "      <td>Pakistan</td>\n",
       "      <td>Self</td>\n",
       "      <td>0</td>\n",
       "    </tr>\n",
       "    <tr>\n",
       "      <th>703</th>\n",
       "      <td>1</td>\n",
       "      <td>0</td>\n",
       "      <td>1</td>\n",
       "      <td>1</td>\n",
       "      <td>1</td>\n",
       "      <td>0</td>\n",
       "      <td>1</td>\n",
       "      <td>1</td>\n",
       "      <td>1</td>\n",
       "      <td>1</td>\n",
       "      <td>26</td>\n",
       "      <td>8</td>\n",
       "      <td>0</td>\n",
       "      <td>White-European</td>\n",
       "      <td>0</td>\n",
       "      <td>0</td>\n",
       "      <td>Cyprus</td>\n",
       "      <td>Self</td>\n",
       "      <td>1</td>\n",
       "    </tr>\n",
       "  </tbody>\n",
       "</table>\n",
       "<p>704 rows × 19 columns</p>\n",
       "</div>"
      ],
      "text/plain": [
       "    A1_Score A2_Score A3_Score A4_Score A5_Score A6_Score A7_Score A8_Score  \\\n",
       "0          1        1        1        1        0        0        1        1   \n",
       "1          1        1        0        1        0        0        0        1   \n",
       "2          1        1        0        1        1        0        1        1   \n",
       "3          1        1        0        1        0        0        1        1   \n",
       "4          1        0        0        0        0        0        0        1   \n",
       "..       ...      ...      ...      ...      ...      ...      ...      ...   \n",
       "699        0        1        0        1        1        0        1        1   \n",
       "700        1        0        0        0        0        0        0        1   \n",
       "701        1        0        1        1        1        0        1        1   \n",
       "702        1        0        0        1        1        0        1        0   \n",
       "703        1        0        1        1        1        0        1        1   \n",
       "\n",
       "    A9_Score A10_Score age result  gender       ethnicity  jundice  austim  \\\n",
       "0          0         0  26      6       0  White-European        0       0   \n",
       "1          0         1  24      5       1          Latino        0       1   \n",
       "2          1         1  27      8       1          Latino        1       1   \n",
       "3          0         1  35      6       0  White-European        0       1   \n",
       "4          0         0  40      2       0  White-European        0       0   \n",
       "..       ...       ...  ..    ...     ...             ...      ...     ...   \n",
       "699        1         1  25      7       0  White-European        0       0   \n",
       "700        0         1  34      3       1        Hispanic        0       0   \n",
       "701        0         1  24      7       0  White-European        0       0   \n",
       "702        1         1  35      6       1     South Asian        0       0   \n",
       "703        1         1  26      8       0  White-European        0       0   \n",
       "\n",
       "     contry_of_res relation  Class/ASD  \n",
       "0    United States     Self          0  \n",
       "1           Brazil     Self          0  \n",
       "2            Spain   Parent          1  \n",
       "3    United States     Self          0  \n",
       "4            Egypt     Self          0  \n",
       "..             ...      ...        ...  \n",
       "699         Russia     Self          1  \n",
       "700         Mexico   Parent          0  \n",
       "701         Russia     Self          1  \n",
       "702       Pakistan     Self          0  \n",
       "703         Cyprus     Self          1  \n",
       "\n",
       "[704 rows x 19 columns]"
      ]
     },
     "execution_count": 20,
     "metadata": {},
     "output_type": "execute_result"
    }
   ],
   "source": [
    "data"
   ]
  },
  {
   "cell_type": "code",
   "execution_count": 21,
   "metadata": {},
   "outputs": [],
   "source": [
    "import matplotlib.pyplot as plt\n",
    "import seaborn as sns\n",
    "def plot_e(e):\n",
    "    plt.figure(figsize=(15,6))\n",
    "    sns.countplot(x='contry_of_res',data=data[data['ethnicity']==e],order=data[data['ethnicity']==e]['contry_of_res'].value_counts().index[:10],palette='viridis')\n",
    "    plt.title(f'Positive ASD of {e} Ethnicities country wise distribution')\n",
    "    plt.xlabel('Countries')\n",
    "    plt.tight_layout()"
   ]
  },
  {
   "cell_type": "code",
   "execution_count": 22,
   "metadata": {},
   "outputs": [
    {
     "data": {
      "image/png": "[encoded data removed]",
      "text/plain": [
       "<Figure size 1080x432 with 1 Axes>"
      ]
     },
     "metadata": {
      "needs_background": "light"
     },
     "output_type": "display_data"
    },
    {
     "data": {
      "image/png": "[encoded data removed]",
      "text/plain": [
       "<Figure size 1080x432 with 1 Axes>"
      ]
     },
     "metadata": {
      "needs_background": "light"
     },
     "output_type": "display_data"
    },
    {
     "data": {
      "image/png": "[encoded data removed]",
      "text/plain": [
       "<Figure size 1080x432 with 1 Axes>"
      ]
     },
     "metadata": {
      "needs_background": "light"
     },
     "output_type": "display_data"
    },
    {
     "data": {
      "image/png": "[encoded data removed]",
      "text/plain": [
       "<Figure size 1080x432 with 1 Axes>"
      ]
     },
     "metadata": {
      "needs_background": "light"
     },
     "output_type": "display_data"
    },
    {
     "data": {
      "image/png": "[encoded data removed]",
      "text/plain": [
       "<Figure size 1080x432 with 1 Axes>"
      ]
     },
     "metadata": {
      "needs_background": "light"
     },
     "output_type": "display_data"
    },
    {
     "data": {
      "image/png": "[encoded data removed]",
      "text/plain": [
       "<Figure size 1080x432 with 1 Axes>"
      ]
     },
     "metadata": {
      "needs_background": "light"
     },
     "output_type": "display_data"
    },
    {
     "data": {
      "image/png": "[encoded data removed]",
      "text/plain": [
       "<Figure size 1080x432 with 1 Axes>"
      ]
     },
     "metadata": {
      "needs_background": "light"
     },
     "output_type": "display_data"
    },
    {
     "data": {
      "image/png": "[encoded data removed]",
      "text/plain": [
       "<Figure size 1080x432 with 1 Axes>"
      ]
     },
     "metadata": {
      "needs_background": "light"
     },
     "output_type": "display_data"
    },
    {
     "data": {
      "image/png": "[encoded data removed]",
      "text/plain": [
       "<Figure size 1080x432 with 1 Axes>"
      ]
     },
     "metadata": {
      "needs_background": "light"
     },
     "output_type": "display_data"
    },
    {
     "data": {
      "image/png": "[encoded data removed]",
      "text/plain": [
       "<Figure size 1080x432 with 1 Axes>"
      ]
     },
     "metadata": {
      "needs_background": "light"
     },
     "output_type": "display_data"
    },
    {
     "data": {
      "image/png": "[encoded data removed]",
      "text/plain": [
       "<Figure size 1080x432 with 1 Axes>"
      ]
     },
     "metadata": {
      "needs_background": "light"
     },
     "output_type": "display_data"
    }
   ],
   "source": [
    "for i in data['ethnicity'].unique():\n",
    "    plot_e(i)"
   ]
  },
  {
   "cell_type": "code",
   "execution_count": 23,
   "metadata": {},
   "outputs": [
    {
     "data": {
      "image/png": "[encoded data removed]",
      "text/plain": [
       "<Figure size 1440x432 with 2 Axes>"
      ]
     },
     "metadata": {
      "needs_background": "light"
     },
     "output_type": "display_data"
    }
   ],
   "source": [
    "fig, ax = plt.subplots(1,2,figsize=(20,6))\n",
    "sns.countplot(x='austim',data=data,hue='ethnicity',palette='rainbow',ax=ax[0])\n",
    "ax[0].set_title('Positive ASD Adult relatives with Autism distribution for different ethnicities')\n",
    "ax[0].set_xlabel('Adult Relatives with ASD')\n",
    "#sns.countplot(x='Family_mem_with_ASD',data=data2,hue='Ethnicity',palette='rainbow',ax=ax[1])\n",
    "#ax[1].set_title('Positive ASD Toddler relatives with Autism distribution for different ethnicities')\n",
    "#ax[1].set_xlabel('Toddler Relatives with ASD')\n",
    "plt.tight_layout()"
   ]
  },
  {
   "cell_type": "code",
   "execution_count": 24,
   "metadata": {},
   "outputs": [
    {
     "data": {
      "text/plain": [
       "array(['United States', 'Brazil', 'Spain', 'Egypt', 'New Zealand',\n",
       "       'Bahamas', 'Burundi', 'Austria', 'Argentina', 'Jordan', 'Ireland',\n",
       "       'United Arab Emirates', 'Afghanistan', 'Lebanon', 'United Kingdom',\n",
       "       'South Africa', 'Italy', 'Pakistan', 'Bangladesh', 'Chile',\n",
       "       'France', 'China', 'Australia', 'Canada', 'Saudi Arabia',\n",
       "       'Netherlands', 'Romania', 'Sweden', 'Tonga', 'Oman', 'India',\n",
       "       'Philippines', 'Sri Lanka', 'Sierra Leone', 'Ethiopia', 'Viet Nam',\n",
       "       'Iran', 'Costa Rica', 'Germany', 'Mexico', 'Russia', 'Armenia',\n",
       "       'Iceland', 'Nicaragua', 'Hong Kong', 'Japan', 'Ukraine',\n",
       "       'Kazakhstan', 'AmericanSamoa', 'Uruguay', 'Serbia', 'Portugal',\n",
       "       'Malaysia', 'Ecuador', 'Niger', 'Belgium', 'Bolivia', 'Aruba',\n",
       "       'Finland', 'Turkey', 'Nepal', 'Indonesia', 'Angola', 'Azerbaijan',\n",
       "       'Iraq', 'Czech Republic', 'Cyprus'], dtype=object)"
      ]
     },
     "execution_count": 24,
     "metadata": {},
     "output_type": "execute_result"
    }
   ],
   "source": [
    "data['contry_of_res'].unique()"
   ]
  },
  {
   "cell_type": "code",
   "execution_count": 25,
   "metadata": {},
   "outputs": [
    {
     "data": {
      "text/plain": [
       "array(['White-European', 'Latino', 'Others', 'Black', 'Asian',\n",
       "       'Middle Eastern ', 'Pasifika', 'South Asian', 'Hispanic',\n",
       "       'Turkish', 'others'], dtype=object)"
      ]
     },
     "execution_count": 25,
     "metadata": {},
     "output_type": "execute_result"
    }
   ],
   "source": [
    "data['ethnicity'].unique()"
   ]
  },
  {
   "cell_type": "code",
   "execution_count": 26,
   "metadata": {},
   "outputs": [
    {
     "data": {
      "text/plain": [
       "array(['Self', 'Parent', 'Health care professional', 'Relative', 'Others'],\n",
       "      dtype=object)"
      ]
     },
     "execution_count": 26,
     "metadata": {},
     "output_type": "execute_result"
    }
   ],
   "source": [
    "data['relation'].unique()"
   ]
  },
  {
   "cell_type": "code",
   "execution_count": 27,
   "metadata": {},
   "outputs": [
    {
     "data": {
      "text/plain": [
       "array(['26', '24', '27', '35', '40', '36', '17', '64', '29', '33', '18',\n",
       "       '31', '30', '34', '38', '42', '43', '48', '37', '55', '50', '53',\n",
       "       '20', '28', '21', '383', '47', '32', '44', '19', '58', '45', '22',\n",
       "       '39', '25', '23', '54', '60', '41', '46', '56', '61', '59', '52',\n",
       "       '49', '51'], dtype=object)"
      ]
     },
     "execution_count": 27,
     "metadata": {},
     "output_type": "execute_result"
    }
   ],
   "source": [
    "data['age'].unique()"
   ]
  },
  {
   "cell_type": "code",
   "execution_count": 28,
   "metadata": {},
   "outputs": [],
   "source": [
    "#data['']"
   ]
  },
  {
   "cell_type": "code",
   "execution_count": 29,
   "metadata": {},
   "outputs": [],
   "source": [
    "data1 = pd.read_csv('data sets//datasets_38367_58429_Toddler Autism dataset July 2018.csv',na_values = '?')"
   ]
  },
  {
   "cell_type": "code",
   "execution_count": 30,
   "metadata": {},
   "outputs": [
    {
     "data": {
      "text/html": [
       "<div>\n",
       "<style scoped>\n",
       "    .dataframe tbody tr th:only-of-type {\n",
       "        vertical-align: middle;\n",
       "    }\n",
       "\n",
       "    .dataframe tbody tr th {\n",
       "        vertical-align: top;\n",
       "    }\n",
       "\n",
       "    .dataframe thead th {\n",
       "        text-align: right;\n",
       "    }\n",
       "</style>\n",
       "<table border=\"1\" class=\"dataframe\">\n",
       "  <thead>\n",
       "    <tr style=\"text-align: right;\">\n",
       "      <th></th>\n",
       "      <th>Case_No</th>\n",
       "      <th>A1</th>\n",
       "      <th>A2</th>\n",
       "      <th>A3</th>\n",
       "      <th>A4</th>\n",
       "      <th>A5</th>\n",
       "      <th>A6</th>\n",
       "      <th>A7</th>\n",
       "      <th>A8</th>\n",
       "      <th>A9</th>\n",
       "      <th>A10</th>\n",
       "      <th>Age_Mons</th>\n",
       "      <th>Qchat-10-Score</th>\n",
       "      <th>Sex</th>\n",
       "      <th>Ethnicity</th>\n",
       "      <th>Jaundice</th>\n",
       "      <th>Family_mem_with_ASD</th>\n",
       "      <th>Who completed the test</th>\n",
       "      <th>Class/ASD Traits</th>\n",
       "    </tr>\n",
       "  </thead>\n",
       "  <tbody>\n",
       "    <tr>\n",
       "      <th>0</th>\n",
       "      <td>1</td>\n",
       "      <td>0</td>\n",
       "      <td>0</td>\n",
       "      <td>0</td>\n",
       "      <td>0</td>\n",
       "      <td>0</td>\n",
       "      <td>0</td>\n",
       "      <td>1</td>\n",
       "      <td>1</td>\n",
       "      <td>0</td>\n",
       "      <td>1</td>\n",
       "      <td>28</td>\n",
       "      <td>3</td>\n",
       "      <td>f</td>\n",
       "      <td>middle eastern</td>\n",
       "      <td>yes</td>\n",
       "      <td>no</td>\n",
       "      <td>family member</td>\n",
       "      <td>No</td>\n",
       "    </tr>\n",
       "    <tr>\n",
       "      <th>1</th>\n",
       "      <td>2</td>\n",
       "      <td>1</td>\n",
       "      <td>1</td>\n",
       "      <td>0</td>\n",
       "      <td>0</td>\n",
       "      <td>0</td>\n",
       "      <td>1</td>\n",
       "      <td>1</td>\n",
       "      <td>0</td>\n",
       "      <td>0</td>\n",
       "      <td>0</td>\n",
       "      <td>36</td>\n",
       "      <td>4</td>\n",
       "      <td>m</td>\n",
       "      <td>White European</td>\n",
       "      <td>yes</td>\n",
       "      <td>no</td>\n",
       "      <td>family member</td>\n",
       "      <td>Yes</td>\n",
       "    </tr>\n",
       "    <tr>\n",
       "      <th>2</th>\n",
       "      <td>3</td>\n",
       "      <td>1</td>\n",
       "      <td>0</td>\n",
       "      <td>0</td>\n",
       "      <td>0</td>\n",
       "      <td>0</td>\n",
       "      <td>0</td>\n",
       "      <td>1</td>\n",
       "      <td>1</td>\n",
       "      <td>0</td>\n",
       "      <td>1</td>\n",
       "      <td>36</td>\n",
       "      <td>4</td>\n",
       "      <td>m</td>\n",
       "      <td>middle eastern</td>\n",
       "      <td>yes</td>\n",
       "      <td>no</td>\n",
       "      <td>family member</td>\n",
       "      <td>Yes</td>\n",
       "    </tr>\n",
       "    <tr>\n",
       "      <th>3</th>\n",
       "      <td>4</td>\n",
       "      <td>1</td>\n",
       "      <td>1</td>\n",
       "      <td>1</td>\n",
       "      <td>1</td>\n",
       "      <td>1</td>\n",
       "      <td>1</td>\n",
       "      <td>1</td>\n",
       "      <td>1</td>\n",
       "      <td>1</td>\n",
       "      <td>1</td>\n",
       "      <td>24</td>\n",
       "      <td>10</td>\n",
       "      <td>m</td>\n",
       "      <td>Hispanic</td>\n",
       "      <td>no</td>\n",
       "      <td>no</td>\n",
       "      <td>family member</td>\n",
       "      <td>Yes</td>\n",
       "    </tr>\n",
       "    <tr>\n",
       "      <th>4</th>\n",
       "      <td>5</td>\n",
       "      <td>1</td>\n",
       "      <td>1</td>\n",
       "      <td>0</td>\n",
       "      <td>1</td>\n",
       "      <td>1</td>\n",
       "      <td>1</td>\n",
       "      <td>1</td>\n",
       "      <td>1</td>\n",
       "      <td>1</td>\n",
       "      <td>1</td>\n",
       "      <td>20</td>\n",
       "      <td>9</td>\n",
       "      <td>f</td>\n",
       "      <td>White European</td>\n",
       "      <td>no</td>\n",
       "      <td>yes</td>\n",
       "      <td>family member</td>\n",
       "      <td>Yes</td>\n",
       "    </tr>\n",
       "  </tbody>\n",
       "</table>\n",
       "</div>"
      ],
      "text/plain": [
       "   Case_No  A1  A2  A3  A4  A5  A6  A7  A8  A9  A10  Age_Mons  Qchat-10-Score  \\\n",
       "0        1   0   0   0   0   0   0   1   1   0    1        28               3   \n",
       "1        2   1   1   0   0   0   1   1   0   0    0        36               4   \n",
       "2        3   1   0   0   0   0   0   1   1   0    1        36               4   \n",
       "3        4   1   1   1   1   1   1   1   1   1    1        24              10   \n",
       "4        5   1   1   0   1   1   1   1   1   1    1        20               9   \n",
       "\n",
       "  Sex       Ethnicity Jaundice Family_mem_with_ASD Who completed the test  \\\n",
       "0   f  middle eastern      yes                  no          family member   \n",
       "1   m  White European      yes                  no          family member   \n",
       "2   m  middle eastern      yes                  no          family member   \n",
       "3   m        Hispanic       no                  no          family member   \n",
       "4   f  White European       no                 yes          family member   \n",
       "\n",
       "  Class/ASD Traits   \n",
       "0                No  \n",
       "1               Yes  \n",
       "2               Yes  \n",
       "3               Yes  \n",
       "4               Yes  "
      ]
     },
     "execution_count": 30,
     "metadata": {},
     "output_type": "execute_result"
    }
   ],
   "source": [
    "data1.head()"
   ]
  },
  {
   "cell_type": "code",
   "execution_count": 31,
   "metadata": {},
   "outputs": [],
   "source": [
    "data1.drop('Case_No',inplace = True,axis = 1)"
   ]
  },
  {
   "cell_type": "code",
   "execution_count": 32,
   "metadata": {},
   "outputs": [
    {
     "data": {
      "text/html": [
       "<div>\n",
       "<style scoped>\n",
       "    .dataframe tbody tr th:only-of-type {\n",
       "        vertical-align: middle;\n",
       "    }\n",
       "\n",
       "    .dataframe tbody tr th {\n",
       "        vertical-align: top;\n",
       "    }\n",
       "\n",
       "    .dataframe thead th {\n",
       "        text-align: right;\n",
       "    }\n",
       "</style>\n",
       "<table border=\"1\" class=\"dataframe\">\n",
       "  <thead>\n",
       "    <tr style=\"text-align: right;\">\n",
       "      <th></th>\n",
       "      <th>A1</th>\n",
       "      <th>A2</th>\n",
       "      <th>A3</th>\n",
       "      <th>A4</th>\n",
       "      <th>A5</th>\n",
       "      <th>A6</th>\n",
       "      <th>A7</th>\n",
       "      <th>A8</th>\n",
       "      <th>A9</th>\n",
       "      <th>A10</th>\n",
       "      <th>Age_Mons</th>\n",
       "      <th>Qchat-10-Score</th>\n",
       "      <th>Sex</th>\n",
       "      <th>Ethnicity</th>\n",
       "      <th>Jaundice</th>\n",
       "      <th>Family_mem_with_ASD</th>\n",
       "      <th>Who completed the test</th>\n",
       "      <th>Class/ASD Traits</th>\n",
       "    </tr>\n",
       "  </thead>\n",
       "  <tbody>\n",
       "    <tr>\n",
       "      <th>0</th>\n",
       "      <td>0</td>\n",
       "      <td>0</td>\n",
       "      <td>0</td>\n",
       "      <td>0</td>\n",
       "      <td>0</td>\n",
       "      <td>0</td>\n",
       "      <td>1</td>\n",
       "      <td>1</td>\n",
       "      <td>0</td>\n",
       "      <td>1</td>\n",
       "      <td>28</td>\n",
       "      <td>3</td>\n",
       "      <td>f</td>\n",
       "      <td>middle eastern</td>\n",
       "      <td>yes</td>\n",
       "      <td>no</td>\n",
       "      <td>family member</td>\n",
       "      <td>No</td>\n",
       "    </tr>\n",
       "    <tr>\n",
       "      <th>1</th>\n",
       "      <td>1</td>\n",
       "      <td>1</td>\n",
       "      <td>0</td>\n",
       "      <td>0</td>\n",
       "      <td>0</td>\n",
       "      <td>1</td>\n",
       "      <td>1</td>\n",
       "      <td>0</td>\n",
       "      <td>0</td>\n",
       "      <td>0</td>\n",
       "      <td>36</td>\n",
       "      <td>4</td>\n",
       "      <td>m</td>\n",
       "      <td>White European</td>\n",
       "      <td>yes</td>\n",
       "      <td>no</td>\n",
       "      <td>family member</td>\n",
       "      <td>Yes</td>\n",
       "    </tr>\n",
       "    <tr>\n",
       "      <th>2</th>\n",
       "      <td>1</td>\n",
       "      <td>0</td>\n",
       "      <td>0</td>\n",
       "      <td>0</td>\n",
       "      <td>0</td>\n",
       "      <td>0</td>\n",
       "      <td>1</td>\n",
       "      <td>1</td>\n",
       "      <td>0</td>\n",
       "      <td>1</td>\n",
       "      <td>36</td>\n",
       "      <td>4</td>\n",
       "      <td>m</td>\n",
       "      <td>middle eastern</td>\n",
       "      <td>yes</td>\n",
       "      <td>no</td>\n",
       "      <td>family member</td>\n",
       "      <td>Yes</td>\n",
       "    </tr>\n",
       "    <tr>\n",
       "      <th>3</th>\n",
       "      <td>1</td>\n",
       "      <td>1</td>\n",
       "      <td>1</td>\n",
       "      <td>1</td>\n",
       "      <td>1</td>\n",
       "      <td>1</td>\n",
       "      <td>1</td>\n",
       "      <td>1</td>\n",
       "      <td>1</td>\n",
       "      <td>1</td>\n",
       "      <td>24</td>\n",
       "      <td>10</td>\n",
       "      <td>m</td>\n",
       "      <td>Hispanic</td>\n",
       "      <td>no</td>\n",
       "      <td>no</td>\n",
       "      <td>family member</td>\n",
       "      <td>Yes</td>\n",
       "    </tr>\n",
       "    <tr>\n",
       "      <th>4</th>\n",
       "      <td>1</td>\n",
       "      <td>1</td>\n",
       "      <td>0</td>\n",
       "      <td>1</td>\n",
       "      <td>1</td>\n",
       "      <td>1</td>\n",
       "      <td>1</td>\n",
       "      <td>1</td>\n",
       "      <td>1</td>\n",
       "      <td>1</td>\n",
       "      <td>20</td>\n",
       "      <td>9</td>\n",
       "      <td>f</td>\n",
       "      <td>White European</td>\n",
       "      <td>no</td>\n",
       "      <td>yes</td>\n",
       "      <td>family member</td>\n",
       "      <td>Yes</td>\n",
       "    </tr>\n",
       "  </tbody>\n",
       "</table>\n",
       "</div>"
      ],
      "text/plain": [
       "   A1  A2  A3  A4  A5  A6  A7  A8  A9  A10  Age_Mons  Qchat-10-Score Sex  \\\n",
       "0   0   0   0   0   0   0   1   1   0    1        28               3   f   \n",
       "1   1   1   0   0   0   1   1   0   0    0        36               4   m   \n",
       "2   1   0   0   0   0   0   1   1   0    1        36               4   m   \n",
       "3   1   1   1   1   1   1   1   1   1    1        24              10   m   \n",
       "4   1   1   0   1   1   1   1   1   1    1        20               9   f   \n",
       "\n",
       "        Ethnicity Jaundice Family_mem_with_ASD Who completed the test  \\\n",
       "0  middle eastern      yes                  no          family member   \n",
       "1  White European      yes                  no          family member   \n",
       "2  middle eastern      yes                  no          family member   \n",
       "3        Hispanic       no                  no          family member   \n",
       "4  White European       no                 yes          family member   \n",
       "\n",
       "  Class/ASD Traits   \n",
       "0                No  \n",
       "1               Yes  \n",
       "2               Yes  \n",
       "3               Yes  \n",
       "4               Yes  "
      ]
     },
     "execution_count": 32,
     "metadata": {},
     "output_type": "execute_result"
    }
   ],
   "source": [
    "data1.head()"
   ]
  },
  {
   "cell_type": "code",
   "execution_count": 33,
   "metadata": {},
   "outputs": [
    {
     "data": {
      "text/plain": [
       "array(['yes', 'no'], dtype=object)"
      ]
     },
     "execution_count": 33,
     "metadata": {},
     "output_type": "execute_result"
    }
   ],
   "source": [
    "data1['Jaundice'].unique()"
   ]
  },
  {
   "cell_type": "code",
   "execution_count": 34,
   "metadata": {},
   "outputs": [
    {
     "data": {
      "text/plain": [
       "array(['family member', 'Health Care Professional',\n",
       "       'Health care professional', 'Self', 'Others'], dtype=object)"
      ]
     },
     "execution_count": 34,
     "metadata": {},
     "output_type": "execute_result"
    }
   ],
   "source": [
    "data1['Who completed the test'].unique()"
   ]
  },
  {
   "cell_type": "code",
   "execution_count": 35,
   "metadata": {},
   "outputs": [
    {
     "data": {
      "text/plain": [
       "array(['no', 'yes'], dtype=object)"
      ]
     },
     "execution_count": 35,
     "metadata": {},
     "output_type": "execute_result"
    }
   ],
   "source": [
    "data1['Family_mem_with_ASD'].unique()"
   ]
  },
  {
   "cell_type": "code",
   "execution_count": 36,
   "metadata": {},
   "outputs": [
    {
     "data": {
      "text/plain": [
       "count    1054.000000\n",
       "mean       27.867173\n",
       "std         7.980354\n",
       "min        12.000000\n",
       "25%        23.000000\n",
       "50%        30.000000\n",
       "75%        36.000000\n",
       "max        36.000000\n",
       "Name: Age_Mons, dtype: float64"
      ]
     },
     "execution_count": 36,
     "metadata": {},
     "output_type": "execute_result"
    }
   ],
   "source": [
    "data1['Age_Mons'].describe()"
   ]
  },
  {
   "cell_type": "code",
   "execution_count": 37,
   "metadata": {},
   "outputs": [],
   "source": [
    "data1['Age_Mons'] = data1['Age_Mons']//12 "
   ]
  },
  {
   "cell_type": "code",
   "execution_count": 38,
   "metadata": {},
   "outputs": [
    {
     "data": {
      "text/plain": [
       "array([2, 3, 1], dtype=int64)"
      ]
     },
     "execution_count": 38,
     "metadata": {},
     "output_type": "execute_result"
    }
   ],
   "source": [
    "data1['Age_Mons'].unique()"
   ]
  },
  {
   "cell_type": "code",
   "execution_count": 39,
   "metadata": {},
   "outputs": [
    {
     "data": {
      "text/html": [
       "<div>\n",
       "<style scoped>\n",
       "    .dataframe tbody tr th:only-of-type {\n",
       "        vertical-align: middle;\n",
       "    }\n",
       "\n",
       "    .dataframe tbody tr th {\n",
       "        vertical-align: top;\n",
       "    }\n",
       "\n",
       "    .dataframe thead th {\n",
       "        text-align: right;\n",
       "    }\n",
       "</style>\n",
       "<table border=\"1\" class=\"dataframe\">\n",
       "  <thead>\n",
       "    <tr style=\"text-align: right;\">\n",
       "      <th></th>\n",
       "      <th>A1</th>\n",
       "      <th>A2</th>\n",
       "      <th>A3</th>\n",
       "      <th>A4</th>\n",
       "      <th>A5</th>\n",
       "      <th>A6</th>\n",
       "      <th>A7</th>\n",
       "      <th>A8</th>\n",
       "      <th>A9</th>\n",
       "      <th>A10</th>\n",
       "      <th>Age_Mons</th>\n",
       "      <th>Qchat-10-Score</th>\n",
       "      <th>Sex</th>\n",
       "      <th>Ethnicity</th>\n",
       "      <th>Jaundice</th>\n",
       "      <th>Family_mem_with_ASD</th>\n",
       "      <th>Who completed the test</th>\n",
       "      <th>Class/ASD Traits</th>\n",
       "    </tr>\n",
       "  </thead>\n",
       "  <tbody>\n",
       "    <tr>\n",
       "      <th>0</th>\n",
       "      <td>0</td>\n",
       "      <td>0</td>\n",
       "      <td>0</td>\n",
       "      <td>0</td>\n",
       "      <td>0</td>\n",
       "      <td>0</td>\n",
       "      <td>1</td>\n",
       "      <td>1</td>\n",
       "      <td>0</td>\n",
       "      <td>1</td>\n",
       "      <td>2</td>\n",
       "      <td>3</td>\n",
       "      <td>f</td>\n",
       "      <td>middle eastern</td>\n",
       "      <td>yes</td>\n",
       "      <td>no</td>\n",
       "      <td>family member</td>\n",
       "      <td>No</td>\n",
       "    </tr>\n",
       "    <tr>\n",
       "      <th>1</th>\n",
       "      <td>1</td>\n",
       "      <td>1</td>\n",
       "      <td>0</td>\n",
       "      <td>0</td>\n",
       "      <td>0</td>\n",
       "      <td>1</td>\n",
       "      <td>1</td>\n",
       "      <td>0</td>\n",
       "      <td>0</td>\n",
       "      <td>0</td>\n",
       "      <td>3</td>\n",
       "      <td>4</td>\n",
       "      <td>m</td>\n",
       "      <td>White European</td>\n",
       "      <td>yes</td>\n",
       "      <td>no</td>\n",
       "      <td>family member</td>\n",
       "      <td>Yes</td>\n",
       "    </tr>\n",
       "    <tr>\n",
       "      <th>2</th>\n",
       "      <td>1</td>\n",
       "      <td>0</td>\n",
       "      <td>0</td>\n",
       "      <td>0</td>\n",
       "      <td>0</td>\n",
       "      <td>0</td>\n",
       "      <td>1</td>\n",
       "      <td>1</td>\n",
       "      <td>0</td>\n",
       "      <td>1</td>\n",
       "      <td>3</td>\n",
       "      <td>4</td>\n",
       "      <td>m</td>\n",
       "      <td>middle eastern</td>\n",
       "      <td>yes</td>\n",
       "      <td>no</td>\n",
       "      <td>family member</td>\n",
       "      <td>Yes</td>\n",
       "    </tr>\n",
       "    <tr>\n",
       "      <th>3</th>\n",
       "      <td>1</td>\n",
       "      <td>1</td>\n",
       "      <td>1</td>\n",
       "      <td>1</td>\n",
       "      <td>1</td>\n",
       "      <td>1</td>\n",
       "      <td>1</td>\n",
       "      <td>1</td>\n",
       "      <td>1</td>\n",
       "      <td>1</td>\n",
       "      <td>2</td>\n",
       "      <td>10</td>\n",
       "      <td>m</td>\n",
       "      <td>Hispanic</td>\n",
       "      <td>no</td>\n",
       "      <td>no</td>\n",
       "      <td>family member</td>\n",
       "      <td>Yes</td>\n",
       "    </tr>\n",
       "    <tr>\n",
       "      <th>4</th>\n",
       "      <td>1</td>\n",
       "      <td>1</td>\n",
       "      <td>0</td>\n",
       "      <td>1</td>\n",
       "      <td>1</td>\n",
       "      <td>1</td>\n",
       "      <td>1</td>\n",
       "      <td>1</td>\n",
       "      <td>1</td>\n",
       "      <td>1</td>\n",
       "      <td>1</td>\n",
       "      <td>9</td>\n",
       "      <td>f</td>\n",
       "      <td>White European</td>\n",
       "      <td>no</td>\n",
       "      <td>yes</td>\n",
       "      <td>family member</td>\n",
       "      <td>Yes</td>\n",
       "    </tr>\n",
       "  </tbody>\n",
       "</table>\n",
       "</div>"
      ],
      "text/plain": [
       "   A1  A2  A3  A4  A5  A6  A7  A8  A9  A10  Age_Mons  Qchat-10-Score Sex  \\\n",
       "0   0   0   0   0   0   0   1   1   0    1         2               3   f   \n",
       "1   1   1   0   0   0   1   1   0   0    0         3               4   m   \n",
       "2   1   0   0   0   0   0   1   1   0    1         3               4   m   \n",
       "3   1   1   1   1   1   1   1   1   1    1         2              10   m   \n",
       "4   1   1   0   1   1   1   1   1   1    1         1               9   f   \n",
       "\n",
       "        Ethnicity Jaundice Family_mem_with_ASD Who completed the test  \\\n",
       "0  middle eastern      yes                  no          family member   \n",
       "1  White European      yes                  no          family member   \n",
       "2  middle eastern      yes                  no          family member   \n",
       "3        Hispanic       no                  no          family member   \n",
       "4  White European       no                 yes          family member   \n",
       "\n",
       "  Class/ASD Traits   \n",
       "0                No  \n",
       "1               Yes  \n",
       "2               Yes  \n",
       "3               Yes  \n",
       "4               Yes  "
      ]
     },
     "execution_count": 39,
     "metadata": {},
     "output_type": "execute_result"
    }
   ],
   "source": [
    "data1.head()"
   ]
  },
  {
   "cell_type": "code",
   "execution_count": 40,
   "metadata": {},
   "outputs": [],
   "source": [
    "columns = data1.columns"
   ]
  },
  {
   "cell_type": "code",
   "execution_count": 41,
   "metadata": {},
   "outputs": [],
   "source": [
    "import numpy as np\n",
    "from sklearn.impute import SimpleImputer\n",
    "imp = SimpleImputer(missing_values='?', strategy='most_frequent')\n",
    "data1 = pd.DataFrame(imp.fit_transform(data1),columns = columns)"
   ]
  },
  {
   "cell_type": "code",
   "execution_count": 42,
   "metadata": {},
   "outputs": [
    {
     "data": {
      "text/html": [
       "<div>\n",
       "<style scoped>\n",
       "    .dataframe tbody tr th:only-of-type {\n",
       "        vertical-align: middle;\n",
       "    }\n",
       "\n",
       "    .dataframe tbody tr th {\n",
       "        vertical-align: top;\n",
       "    }\n",
       "\n",
       "    .dataframe thead th {\n",
       "        text-align: right;\n",
       "    }\n",
       "</style>\n",
       "<table border=\"1\" class=\"dataframe\">\n",
       "  <thead>\n",
       "    <tr style=\"text-align: right;\">\n",
       "      <th></th>\n",
       "      <th>A1</th>\n",
       "      <th>A2</th>\n",
       "      <th>A3</th>\n",
       "      <th>A4</th>\n",
       "      <th>A5</th>\n",
       "      <th>A6</th>\n",
       "      <th>A7</th>\n",
       "      <th>A8</th>\n",
       "      <th>A9</th>\n",
       "      <th>A10</th>\n",
       "      <th>Age_Mons</th>\n",
       "      <th>Qchat-10-Score</th>\n",
       "      <th>Sex</th>\n",
       "      <th>Ethnicity</th>\n",
       "      <th>Jaundice</th>\n",
       "      <th>Family_mem_with_ASD</th>\n",
       "      <th>Who completed the test</th>\n",
       "      <th>Class/ASD Traits</th>\n",
       "    </tr>\n",
       "  </thead>\n",
       "  <tbody>\n",
       "    <tr>\n",
       "      <th>0</th>\n",
       "      <td>0</td>\n",
       "      <td>0</td>\n",
       "      <td>0</td>\n",
       "      <td>0</td>\n",
       "      <td>0</td>\n",
       "      <td>0</td>\n",
       "      <td>1</td>\n",
       "      <td>1</td>\n",
       "      <td>0</td>\n",
       "      <td>1</td>\n",
       "      <td>2</td>\n",
       "      <td>3</td>\n",
       "      <td>f</td>\n",
       "      <td>middle eastern</td>\n",
       "      <td>yes</td>\n",
       "      <td>no</td>\n",
       "      <td>family member</td>\n",
       "      <td>No</td>\n",
       "    </tr>\n",
       "    <tr>\n",
       "      <th>1</th>\n",
       "      <td>1</td>\n",
       "      <td>1</td>\n",
       "      <td>0</td>\n",
       "      <td>0</td>\n",
       "      <td>0</td>\n",
       "      <td>1</td>\n",
       "      <td>1</td>\n",
       "      <td>0</td>\n",
       "      <td>0</td>\n",
       "      <td>0</td>\n",
       "      <td>3</td>\n",
       "      <td>4</td>\n",
       "      <td>m</td>\n",
       "      <td>White European</td>\n",
       "      <td>yes</td>\n",
       "      <td>no</td>\n",
       "      <td>family member</td>\n",
       "      <td>Yes</td>\n",
       "    </tr>\n",
       "    <tr>\n",
       "      <th>2</th>\n",
       "      <td>1</td>\n",
       "      <td>0</td>\n",
       "      <td>0</td>\n",
       "      <td>0</td>\n",
       "      <td>0</td>\n",
       "      <td>0</td>\n",
       "      <td>1</td>\n",
       "      <td>1</td>\n",
       "      <td>0</td>\n",
       "      <td>1</td>\n",
       "      <td>3</td>\n",
       "      <td>4</td>\n",
       "      <td>m</td>\n",
       "      <td>middle eastern</td>\n",
       "      <td>yes</td>\n",
       "      <td>no</td>\n",
       "      <td>family member</td>\n",
       "      <td>Yes</td>\n",
       "    </tr>\n",
       "    <tr>\n",
       "      <th>3</th>\n",
       "      <td>1</td>\n",
       "      <td>1</td>\n",
       "      <td>1</td>\n",
       "      <td>1</td>\n",
       "      <td>1</td>\n",
       "      <td>1</td>\n",
       "      <td>1</td>\n",
       "      <td>1</td>\n",
       "      <td>1</td>\n",
       "      <td>1</td>\n",
       "      <td>2</td>\n",
       "      <td>10</td>\n",
       "      <td>m</td>\n",
       "      <td>Hispanic</td>\n",
       "      <td>no</td>\n",
       "      <td>no</td>\n",
       "      <td>family member</td>\n",
       "      <td>Yes</td>\n",
       "    </tr>\n",
       "    <tr>\n",
       "      <th>4</th>\n",
       "      <td>1</td>\n",
       "      <td>1</td>\n",
       "      <td>0</td>\n",
       "      <td>1</td>\n",
       "      <td>1</td>\n",
       "      <td>1</td>\n",
       "      <td>1</td>\n",
       "      <td>1</td>\n",
       "      <td>1</td>\n",
       "      <td>1</td>\n",
       "      <td>1</td>\n",
       "      <td>9</td>\n",
       "      <td>f</td>\n",
       "      <td>White European</td>\n",
       "      <td>no</td>\n",
       "      <td>yes</td>\n",
       "      <td>family member</td>\n",
       "      <td>Yes</td>\n",
       "    </tr>\n",
       "  </tbody>\n",
       "</table>\n",
       "</div>"
      ],
      "text/plain": [
       "  A1 A2 A3 A4 A5 A6 A7 A8 A9 A10 Age_Mons Qchat-10-Score Sex       Ethnicity  \\\n",
       "0  0  0  0  0  0  0  1  1  0   1        2              3   f  middle eastern   \n",
       "1  1  1  0  0  0  1  1  0  0   0        3              4   m  White European   \n",
       "2  1  0  0  0  0  0  1  1  0   1        3              4   m  middle eastern   \n",
       "3  1  1  1  1  1  1  1  1  1   1        2             10   m        Hispanic   \n",
       "4  1  1  0  1  1  1  1  1  1   1        1              9   f  White European   \n",
       "\n",
       "  Jaundice Family_mem_with_ASD Who completed the test Class/ASD Traits   \n",
       "0      yes                  no          family member                No  \n",
       "1      yes                  no          family member               Yes  \n",
       "2      yes                  no          family member               Yes  \n",
       "3       no                  no          family member               Yes  \n",
       "4       no                 yes          family member               Yes  "
      ]
     },
     "execution_count": 42,
     "metadata": {},
     "output_type": "execute_result"
    }
   ],
   "source": [
    "data1.head()"
   ]
  },
  {
   "cell_type": "code",
   "execution_count": 43,
   "metadata": {},
   "outputs": [],
   "source": [
    "data1['Class/ASD Traits '].replace(['No', 'Yes'],[0,1],inplace = True)"
   ]
  },
  {
   "cell_type": "code",
   "execution_count": 44,
   "metadata": {},
   "outputs": [
    {
     "data": {
      "text/plain": [
       "array([0, 1], dtype=int64)"
      ]
     },
     "execution_count": 44,
     "metadata": {},
     "output_type": "execute_result"
    }
   ],
   "source": [
    "data1['Class/ASD Traits '].unique()"
   ]
  },
  {
   "cell_type": "code",
   "execution_count": 45,
   "metadata": {},
   "outputs": [],
   "source": [
    "data1['Sex'].replace(['f', 'm'],[0,1],inplace = True)"
   ]
  },
  {
   "cell_type": "code",
   "execution_count": 46,
   "metadata": {},
   "outputs": [],
   "source": [
    "data1['Jaundice'].replace(['yes', 'no'],[0,1],inplace = True)"
   ]
  },
  {
   "cell_type": "code",
   "execution_count": 47,
   "metadata": {},
   "outputs": [],
   "source": [
    "data1['Family_mem_with_ASD'].replace(['yes', 'no'],[0,1],inplace = True)"
   ]
  },
  {
   "cell_type": "code",
   "execution_count": 48,
   "metadata": {},
   "outputs": [
    {
     "data": {
      "text/plain": [
       "array(['family member', 'Health Care Professional',\n",
       "       'Health care professional', 'Self', 'Others'], dtype=object)"
      ]
     },
     "execution_count": 48,
     "metadata": {},
     "output_type": "execute_result"
    }
   ],
   "source": [
    "data1['Who completed the test'].unique()"
   ]
  },
  {
   "cell_type": "code",
   "execution_count": 49,
   "metadata": {},
   "outputs": [
    {
     "data": {
      "text/plain": [
       "array([4, 0, 1, 3, 2])"
      ]
     },
     "execution_count": 49,
     "metadata": {},
     "output_type": "execute_result"
    }
   ],
   "source": [
    "from sklearn import preprocessing\n",
    "label_encoder = preprocessing.LabelEncoder() \n",
    "data1['Who completed the test']= label_encoder.fit_transform(data1['Who completed the test']) \n",
    "data1['Who completed the test'].unique() "
   ]
  },
  {
   "cell_type": "code",
   "execution_count": 50,
   "metadata": {},
   "outputs": [
    {
     "data": {
      "text/plain": [
       "A1                        object\n",
       "A2                        object\n",
       "A3                        object\n",
       "A4                        object\n",
       "A5                        object\n",
       "A6                        object\n",
       "A7                        object\n",
       "A8                        object\n",
       "A9                        object\n",
       "A10                       object\n",
       "Age_Mons                  object\n",
       "Qchat-10-Score            object\n",
       "Sex                        int64\n",
       "Ethnicity                 object\n",
       "Jaundice                   int64\n",
       "Family_mem_with_ASD        int64\n",
       "Who completed the test     int32\n",
       "Class/ASD Traits           int64\n",
       "dtype: object"
      ]
     },
     "execution_count": 50,
     "metadata": {},
     "output_type": "execute_result"
    }
   ],
   "source": [
    "data1.dtypes"
   ]
  },
  {
   "cell_type": "code",
   "execution_count": 51,
   "metadata": {},
   "outputs": [
    {
     "data": {
      "text/plain": [
       "Index(['A1', 'A2', 'A3', 'A4', 'A5', 'A6', 'A7', 'A8', 'A9', 'A10', 'Age_Mons',\n",
       "       'Qchat-10-Score', 'Sex', 'Ethnicity', 'Jaundice', 'Family_mem_with_ASD',\n",
       "       'Who completed the test', 'Class/ASD Traits '],\n",
       "      dtype='object')"
      ]
     },
     "execution_count": 51,
     "metadata": {},
     "output_type": "execute_result"
    }
   ],
   "source": [
    "columns"
   ]
  },
  {
   "cell_type": "code",
   "execution_count": 52,
   "metadata": {},
   "outputs": [
    {
     "data": {
      "text/plain": [
       "array(['middle eastern', 'White European', 'Hispanic', 'black', 'asian',\n",
       "       'south asian', 'Native Indian', 'Others', 'Latino', 'mixed',\n",
       "       'Pacifica'], dtype=object)"
      ]
     },
     "execution_count": 52,
     "metadata": {},
     "output_type": "execute_result"
    }
   ],
   "source": [
    "data1['Ethnicity'].unique()"
   ]
  },
  {
   "cell_type": "code",
   "execution_count": 53,
   "metadata": {},
   "outputs": [
    {
     "data": {
      "text/plain": [
       "array([ 8,  5,  0,  7,  6, 10,  2,  3,  1,  9,  4])"
      ]
     },
     "execution_count": 53,
     "metadata": {},
     "output_type": "execute_result"
    }
   ],
   "source": [
    "data1['Ethnicity']= label_encoder.fit_transform(data1['Ethnicity']) \n",
    "data1['Ethnicity'].unique() "
   ]
  },
  {
   "cell_type": "code",
   "execution_count": 54,
   "metadata": {},
   "outputs": [
    {
     "data": {
      "text/plain": [
       "A1                        object\n",
       "A2                        object\n",
       "A3                        object\n",
       "A4                        object\n",
       "A5                        object\n",
       "A6                        object\n",
       "A7                        object\n",
       "A8                        object\n",
       "A9                        object\n",
       "A10                       object\n",
       "Age_Mons                  object\n",
       "Qchat-10-Score            object\n",
       "Sex                        int64\n",
       "Ethnicity                  int32\n",
       "Jaundice                   int64\n",
       "Family_mem_with_ASD        int64\n",
       "Who completed the test     int32\n",
       "Class/ASD Traits           int64\n",
       "dtype: object"
      ]
     },
     "execution_count": 54,
     "metadata": {},
     "output_type": "execute_result"
    }
   ],
   "source": [
    "data1.dtypes"
   ]
  },
  {
   "cell_type": "code",
   "execution_count": 55,
   "metadata": {},
   "outputs": [],
   "source": [
    "for i in range(0,11):\n",
    "    data1.iloc[:,i] = data1.iloc[:,i].astype('int')"
   ]
  },
  {
   "cell_type": "code",
   "execution_count": 56,
   "metadata": {},
   "outputs": [
    {
     "data": {
      "text/plain": [
       "A1                         int32\n",
       "A2                         int32\n",
       "A3                         int32\n",
       "A4                         int32\n",
       "A5                         int32\n",
       "A6                         int32\n",
       "A7                         int32\n",
       "A8                         int32\n",
       "A9                         int32\n",
       "A10                        int32\n",
       "Age_Mons                   int32\n",
       "Qchat-10-Score            object\n",
       "Sex                        int64\n",
       "Ethnicity                  int32\n",
       "Jaundice                   int64\n",
       "Family_mem_with_ASD        int64\n",
       "Who completed the test     int32\n",
       "Class/ASD Traits           int64\n",
       "dtype: object"
      ]
     },
     "execution_count": 56,
     "metadata": {},
     "output_type": "execute_result"
    }
   ],
   "source": [
    "data1.dtypes"
   ]
  },
  {
   "cell_type": "code",
   "execution_count": 57,
   "metadata": {},
   "outputs": [],
   "source": [
    "data1['Qchat-10-Score'] = data1['Qchat-10-Score'].astype('int')"
   ]
  },
  {
   "cell_type": "code",
   "execution_count": 58,
   "metadata": {},
   "outputs": [
    {
     "data": {
      "text/plain": [
       "array([ 3,  4, 10,  9,  8,  5,  6,  2,  0,  7,  1])"
      ]
     },
     "execution_count": 58,
     "metadata": {},
     "output_type": "execute_result"
    }
   ],
   "source": [
    "data1['Qchat-10-Score'].unique()"
   ]
  },
  {
   "cell_type": "code",
   "execution_count": 59,
   "metadata": {},
   "outputs": [
    {
     "data": {
      "text/plain": [
       "A1                        int32\n",
       "A2                        int32\n",
       "A3                        int32\n",
       "A4                        int32\n",
       "A5                        int32\n",
       "A6                        int32\n",
       "A7                        int32\n",
       "A8                        int32\n",
       "A9                        int32\n",
       "A10                       int32\n",
       "Age_Mons                  int32\n",
       "Qchat-10-Score            int32\n",
       "Sex                       int64\n",
       "Ethnicity                 int32\n",
       "Jaundice                  int64\n",
       "Family_mem_with_ASD       int64\n",
       "Who completed the test    int32\n",
       "Class/ASD Traits          int64\n",
       "dtype: object"
      ]
     },
     "execution_count": 59,
     "metadata": {},
     "output_type": "execute_result"
    }
   ],
   "source": [
    "data1.dtypes"
   ]
  },
  {
   "cell_type": "code",
   "execution_count": 60,
   "metadata": {},
   "outputs": [],
   "source": [
    "x1 = data1.iloc[:,0:17]\n",
    "y1 = data1.iloc[:,17]"
   ]
  },
  {
   "cell_type": "code",
   "execution_count": 61,
   "metadata": {},
   "outputs": [
    {
     "data": {
      "text/html": [
       "<div>\n",
       "<style scoped>\n",
       "    .dataframe tbody tr th:only-of-type {\n",
       "        vertical-align: middle;\n",
       "    }\n",
       "\n",
       "    .dataframe tbody tr th {\n",
       "        vertical-align: top;\n",
       "    }\n",
       "\n",
       "    .dataframe thead th {\n",
       "        text-align: right;\n",
       "    }\n",
       "</style>\n",
       "<table border=\"1\" class=\"dataframe\">\n",
       "  <thead>\n",
       "    <tr style=\"text-align: right;\">\n",
       "      <th></th>\n",
       "      <th>A1</th>\n",
       "      <th>A2</th>\n",
       "      <th>A3</th>\n",
       "      <th>A4</th>\n",
       "      <th>A5</th>\n",
       "      <th>A6</th>\n",
       "      <th>A7</th>\n",
       "      <th>A8</th>\n",
       "      <th>A9</th>\n",
       "      <th>A10</th>\n",
       "      <th>Age_Mons</th>\n",
       "      <th>Qchat-10-Score</th>\n",
       "      <th>Sex</th>\n",
       "      <th>Ethnicity</th>\n",
       "      <th>Jaundice</th>\n",
       "      <th>Family_mem_with_ASD</th>\n",
       "      <th>Who completed the test</th>\n",
       "    </tr>\n",
       "  </thead>\n",
       "  <tbody>\n",
       "    <tr>\n",
       "      <th>0</th>\n",
       "      <td>0</td>\n",
       "      <td>0</td>\n",
       "      <td>0</td>\n",
       "      <td>0</td>\n",
       "      <td>0</td>\n",
       "      <td>0</td>\n",
       "      <td>1</td>\n",
       "      <td>1</td>\n",
       "      <td>0</td>\n",
       "      <td>1</td>\n",
       "      <td>2</td>\n",
       "      <td>3</td>\n",
       "      <td>0</td>\n",
       "      <td>8</td>\n",
       "      <td>0</td>\n",
       "      <td>1</td>\n",
       "      <td>4</td>\n",
       "    </tr>\n",
       "    <tr>\n",
       "      <th>1</th>\n",
       "      <td>1</td>\n",
       "      <td>1</td>\n",
       "      <td>0</td>\n",
       "      <td>0</td>\n",
       "      <td>0</td>\n",
       "      <td>1</td>\n",
       "      <td>1</td>\n",
       "      <td>0</td>\n",
       "      <td>0</td>\n",
       "      <td>0</td>\n",
       "      <td>3</td>\n",
       "      <td>4</td>\n",
       "      <td>1</td>\n",
       "      <td>5</td>\n",
       "      <td>0</td>\n",
       "      <td>1</td>\n",
       "      <td>4</td>\n",
       "    </tr>\n",
       "    <tr>\n",
       "      <th>2</th>\n",
       "      <td>1</td>\n",
       "      <td>0</td>\n",
       "      <td>0</td>\n",
       "      <td>0</td>\n",
       "      <td>0</td>\n",
       "      <td>0</td>\n",
       "      <td>1</td>\n",
       "      <td>1</td>\n",
       "      <td>0</td>\n",
       "      <td>1</td>\n",
       "      <td>3</td>\n",
       "      <td>4</td>\n",
       "      <td>1</td>\n",
       "      <td>8</td>\n",
       "      <td>0</td>\n",
       "      <td>1</td>\n",
       "      <td>4</td>\n",
       "    </tr>\n",
       "    <tr>\n",
       "      <th>3</th>\n",
       "      <td>1</td>\n",
       "      <td>1</td>\n",
       "      <td>1</td>\n",
       "      <td>1</td>\n",
       "      <td>1</td>\n",
       "      <td>1</td>\n",
       "      <td>1</td>\n",
       "      <td>1</td>\n",
       "      <td>1</td>\n",
       "      <td>1</td>\n",
       "      <td>2</td>\n",
       "      <td>10</td>\n",
       "      <td>1</td>\n",
       "      <td>0</td>\n",
       "      <td>1</td>\n",
       "      <td>1</td>\n",
       "      <td>4</td>\n",
       "    </tr>\n",
       "    <tr>\n",
       "      <th>4</th>\n",
       "      <td>1</td>\n",
       "      <td>1</td>\n",
       "      <td>0</td>\n",
       "      <td>1</td>\n",
       "      <td>1</td>\n",
       "      <td>1</td>\n",
       "      <td>1</td>\n",
       "      <td>1</td>\n",
       "      <td>1</td>\n",
       "      <td>1</td>\n",
       "      <td>1</td>\n",
       "      <td>9</td>\n",
       "      <td>0</td>\n",
       "      <td>5</td>\n",
       "      <td>1</td>\n",
       "      <td>0</td>\n",
       "      <td>4</td>\n",
       "    </tr>\n",
       "    <tr>\n",
       "      <th>...</th>\n",
       "      <td>...</td>\n",
       "      <td>...</td>\n",
       "      <td>...</td>\n",
       "      <td>...</td>\n",
       "      <td>...</td>\n",
       "      <td>...</td>\n",
       "      <td>...</td>\n",
       "      <td>...</td>\n",
       "      <td>...</td>\n",
       "      <td>...</td>\n",
       "      <td>...</td>\n",
       "      <td>...</td>\n",
       "      <td>...</td>\n",
       "      <td>...</td>\n",
       "      <td>...</td>\n",
       "      <td>...</td>\n",
       "      <td>...</td>\n",
       "    </tr>\n",
       "    <tr>\n",
       "      <th>1049</th>\n",
       "      <td>0</td>\n",
       "      <td>0</td>\n",
       "      <td>0</td>\n",
       "      <td>0</td>\n",
       "      <td>0</td>\n",
       "      <td>0</td>\n",
       "      <td>0</td>\n",
       "      <td>0</td>\n",
       "      <td>0</td>\n",
       "      <td>1</td>\n",
       "      <td>2</td>\n",
       "      <td>1</td>\n",
       "      <td>0</td>\n",
       "      <td>5</td>\n",
       "      <td>1</td>\n",
       "      <td>0</td>\n",
       "      <td>4</td>\n",
       "    </tr>\n",
       "    <tr>\n",
       "      <th>1050</th>\n",
       "      <td>0</td>\n",
       "      <td>0</td>\n",
       "      <td>1</td>\n",
       "      <td>1</td>\n",
       "      <td>1</td>\n",
       "      <td>0</td>\n",
       "      <td>1</td>\n",
       "      <td>0</td>\n",
       "      <td>1</td>\n",
       "      <td>0</td>\n",
       "      <td>1</td>\n",
       "      <td>5</td>\n",
       "      <td>1</td>\n",
       "      <td>7</td>\n",
       "      <td>0</td>\n",
       "      <td>1</td>\n",
       "      <td>4</td>\n",
       "    </tr>\n",
       "    <tr>\n",
       "      <th>1051</th>\n",
       "      <td>1</td>\n",
       "      <td>0</td>\n",
       "      <td>1</td>\n",
       "      <td>1</td>\n",
       "      <td>1</td>\n",
       "      <td>1</td>\n",
       "      <td>1</td>\n",
       "      <td>1</td>\n",
       "      <td>1</td>\n",
       "      <td>1</td>\n",
       "      <td>1</td>\n",
       "      <td>9</td>\n",
       "      <td>1</td>\n",
       "      <td>8</td>\n",
       "      <td>0</td>\n",
       "      <td>1</td>\n",
       "      <td>4</td>\n",
       "    </tr>\n",
       "    <tr>\n",
       "      <th>1052</th>\n",
       "      <td>1</td>\n",
       "      <td>0</td>\n",
       "      <td>0</td>\n",
       "      <td>0</td>\n",
       "      <td>0</td>\n",
       "      <td>0</td>\n",
       "      <td>0</td>\n",
       "      <td>1</td>\n",
       "      <td>0</td>\n",
       "      <td>1</td>\n",
       "      <td>1</td>\n",
       "      <td>3</td>\n",
       "      <td>1</td>\n",
       "      <td>5</td>\n",
       "      <td>1</td>\n",
       "      <td>0</td>\n",
       "      <td>4</td>\n",
       "    </tr>\n",
       "    <tr>\n",
       "      <th>1053</th>\n",
       "      <td>1</td>\n",
       "      <td>1</td>\n",
       "      <td>0</td>\n",
       "      <td>0</td>\n",
       "      <td>1</td>\n",
       "      <td>1</td>\n",
       "      <td>0</td>\n",
       "      <td>1</td>\n",
       "      <td>1</td>\n",
       "      <td>0</td>\n",
       "      <td>2</td>\n",
       "      <td>6</td>\n",
       "      <td>1</td>\n",
       "      <td>6</td>\n",
       "      <td>0</td>\n",
       "      <td>0</td>\n",
       "      <td>4</td>\n",
       "    </tr>\n",
       "  </tbody>\n",
       "</table>\n",
       "<p>1054 rows × 17 columns</p>\n",
       "</div>"
      ],
      "text/plain": [
       "      A1  A2  A3  A4  A5  A6  A7  A8  A9  A10  Age_Mons  Qchat-10-Score  Sex  \\\n",
       "0      0   0   0   0   0   0   1   1   0    1         2               3    0   \n",
       "1      1   1   0   0   0   1   1   0   0    0         3               4    1   \n",
       "2      1   0   0   0   0   0   1   1   0    1         3               4    1   \n",
       "3      1   1   1   1   1   1   1   1   1    1         2              10    1   \n",
       "4      1   1   0   1   1   1   1   1   1    1         1               9    0   \n",
       "...   ..  ..  ..  ..  ..  ..  ..  ..  ..  ...       ...             ...  ...   \n",
       "1049   0   0   0   0   0   0   0   0   0    1         2               1    0   \n",
       "1050   0   0   1   1   1   0   1   0   1    0         1               5    1   \n",
       "1051   1   0   1   1   1   1   1   1   1    1         1               9    1   \n",
       "1052   1   0   0   0   0   0   0   1   0    1         1               3    1   \n",
       "1053   1   1   0   0   1   1   0   1   1    0         2               6    1   \n",
       "\n",
       "      Ethnicity  Jaundice  Family_mem_with_ASD  Who completed the test  \n",
       "0             8         0                    1                       4  \n",
       "1             5         0                    1                       4  \n",
       "2             8         0                    1                       4  \n",
       "3             0         1                    1                       4  \n",
       "4             5         1                    0                       4  \n",
       "...         ...       ...                  ...                     ...  \n",
       "1049          5         1                    0                       4  \n",
       "1050          7         0                    1                       4  \n",
       "1051          8         0                    1                       4  \n",
       "1052          5         1                    0                       4  \n",
       "1053          6         0                    0                       4  \n",
       "\n",
       "[1054 rows x 17 columns]"
      ]
     },
     "execution_count": 61,
     "metadata": {},
     "output_type": "execute_result"
    }
   ],
   "source": [
    "x1"
   ]
  },
  {
   "cell_type": "code",
   "execution_count": 62,
   "metadata": {},
   "outputs": [
    {
     "data": {
      "text/plain": [
       "0       0\n",
       "1       1\n",
       "2       1\n",
       "3       1\n",
       "4       1\n",
       "       ..\n",
       "1049    0\n",
       "1050    1\n",
       "1051    1\n",
       "1052    0\n",
       "1053    1\n",
       "Name: Class/ASD Traits , Length: 1054, dtype: int64"
      ]
     },
     "execution_count": 62,
     "metadata": {},
     "output_type": "execute_result"
    }
   ],
   "source": [
    "y1"
   ]
  },
  {
   "cell_type": "code",
   "execution_count": null,
   "metadata": {},
   "outputs": [],
   "source": []
  },
  {
   "cell_type": "code",
   "execution_count": 63,
   "metadata": {},
   "outputs": [
    {
     "data": {
      "text/plain": [
       "array([64, 13, 56, 22, 43,  9, 14,  7,  3, 36, 33, 62,  0, 38, 63, 55, 34,\n",
       "       47, 10, 16, 25, 17,  6, 15, 52, 42, 50, 58, 59, 46, 29, 48, 57, 54,\n",
       "       23, 66, 31, 18, 26, 40, 51,  4, 28, 44, 27, 35, 61, 37,  1, 65, 53,\n",
       "       49, 39, 21, 45, 11, 12,  5, 24, 60, 41, 30,  2,  8, 32, 20, 19])"
      ]
     },
     "execution_count": 63,
     "metadata": {},
     "output_type": "execute_result"
    }
   ],
   "source": [
    "from sklearn import preprocessing \n",
    "label_encoder = preprocessing.LabelEncoder() \n",
    "data['contry_of_res']= label_encoder.fit_transform(data['contry_of_res']) \n",
    "data['contry_of_res'].unique() "
   ]
  },
  {
   "cell_type": "code",
   "execution_count": 64,
   "metadata": {},
   "outputs": [],
   "source": [
    "data['ethnicity']  = label_encoder.fit_transform(data['ethnicity']) "
   ]
  },
  {
   "cell_type": "code",
   "execution_count": 65,
   "metadata": {},
   "outputs": [],
   "source": [
    "data['relation'] = label_encoder.fit_transform(data['relation'])"
   ]
  },
  {
   "cell_type": "code",
   "execution_count": 66,
   "metadata": {},
   "outputs": [
    {
     "data": {
      "text/plain": [
       "array([ 9,  3,  5,  1,  0,  4,  6,  7,  2,  8, 10])"
      ]
     },
     "execution_count": 66,
     "metadata": {},
     "output_type": "execute_result"
    }
   ],
   "source": [
    "data['ethnicity'].unique()"
   ]
  },
  {
   "cell_type": "code",
   "execution_count": 67,
   "metadata": {},
   "outputs": [
    {
     "data": {
      "text/plain": [
       "array([4, 2, 0, 3, 1])"
      ]
     },
     "execution_count": 67,
     "metadata": {},
     "output_type": "execute_result"
    }
   ],
   "source": [
    "data['relation'].unique()"
   ]
  },
  {
   "cell_type": "code",
   "execution_count": 68,
   "metadata": {},
   "outputs": [],
   "source": [
    "data.drop('contry_of_res',inplace = True,axis = 1)"
   ]
  },
  {
   "cell_type": "code",
   "execution_count": 69,
   "metadata": {},
   "outputs": [
    {
     "data": {
      "text/plain": [
       "(704, 18)"
      ]
     },
     "execution_count": 69,
     "metadata": {},
     "output_type": "execute_result"
    }
   ],
   "source": [
    "data.shape"
   ]
  },
  {
   "cell_type": "code",
   "execution_count": 70,
   "metadata": {},
   "outputs": [
    {
     "data": {
      "text/plain": [
       "A1_Score     object\n",
       "A2_Score     object\n",
       "A3_Score     object\n",
       "A4_Score     object\n",
       "A5_Score     object\n",
       "A6_Score     object\n",
       "A7_Score     object\n",
       "A8_Score     object\n",
       "A9_Score     object\n",
       "A10_Score    object\n",
       "age          object\n",
       "result       object\n",
       "gender        int64\n",
       "ethnicity     int32\n",
       "jundice       int64\n",
       "austim        int64\n",
       "relation      int32\n",
       "Class/ASD     int64\n",
       "dtype: object"
      ]
     },
     "execution_count": 70,
     "metadata": {},
     "output_type": "execute_result"
    }
   ],
   "source": [
    "data.dtypes"
   ]
  },
  {
   "cell_type": "code",
   "execution_count": 71,
   "metadata": {},
   "outputs": [],
   "source": [
    "for i in range(0,11):\n",
    "    data.iloc[:,i] = data.iloc[:,i].astype('int')"
   ]
  },
  {
   "cell_type": "code",
   "execution_count": 72,
   "metadata": {},
   "outputs": [
    {
     "data": {
      "text/plain": [
       "A1_Score      int32\n",
       "A2_Score      int32\n",
       "A3_Score      int32\n",
       "A4_Score      int32\n",
       "A5_Score      int32\n",
       "A6_Score      int32\n",
       "A7_Score      int32\n",
       "A8_Score      int32\n",
       "A9_Score      int32\n",
       "A10_Score     int32\n",
       "age           int32\n",
       "result       object\n",
       "gender        int64\n",
       "ethnicity     int32\n",
       "jundice       int64\n",
       "austim        int64\n",
       "relation      int32\n",
       "Class/ASD     int64\n",
       "dtype: object"
      ]
     },
     "execution_count": 72,
     "metadata": {},
     "output_type": "execute_result"
    }
   ],
   "source": [
    "data.dtypes"
   ]
  },
  {
   "cell_type": "code",
   "execution_count": 73,
   "metadata": {},
   "outputs": [],
   "source": [
    "data['result'] = data['result'].astype('int') "
   ]
  },
  {
   "cell_type": "code",
   "execution_count": 74,
   "metadata": {},
   "outputs": [
    {
     "data": {
      "text/plain": [
       "A1_Score     int32\n",
       "A2_Score     int32\n",
       "A3_Score     int32\n",
       "A4_Score     int32\n",
       "A5_Score     int32\n",
       "A6_Score     int32\n",
       "A7_Score     int32\n",
       "A8_Score     int32\n",
       "A9_Score     int32\n",
       "A10_Score    int32\n",
       "age          int32\n",
       "result       int32\n",
       "gender       int64\n",
       "ethnicity    int32\n",
       "jundice      int64\n",
       "austim       int64\n",
       "relation     int32\n",
       "Class/ASD    int64\n",
       "dtype: object"
      ]
     },
     "execution_count": 74,
     "metadata": {},
     "output_type": "execute_result"
    }
   ],
   "source": [
    "data.dtypes"
   ]
  },
  {
   "cell_type": "code",
   "execution_count": 75,
   "metadata": {},
   "outputs": [
    {
     "data": {
      "text/html": [
       "<div>\n",
       "<style scoped>\n",
       "    .dataframe tbody tr th:only-of-type {\n",
       "        vertical-align: middle;\n",
       "    }\n",
       "\n",
       "    .dataframe tbody tr th {\n",
       "        vertical-align: top;\n",
       "    }\n",
       "\n",
       "    .dataframe thead th {\n",
       "        text-align: right;\n",
       "    }\n",
       "</style>\n",
       "<table border=\"1\" class=\"dataframe\">\n",
       "  <thead>\n",
       "    <tr style=\"text-align: right;\">\n",
       "      <th></th>\n",
       "      <th>A1_Score</th>\n",
       "      <th>A2_Score</th>\n",
       "      <th>A3_Score</th>\n",
       "      <th>A4_Score</th>\n",
       "      <th>A5_Score</th>\n",
       "      <th>A6_Score</th>\n",
       "      <th>A7_Score</th>\n",
       "      <th>A8_Score</th>\n",
       "      <th>A9_Score</th>\n",
       "      <th>A10_Score</th>\n",
       "      <th>age</th>\n",
       "      <th>result</th>\n",
       "      <th>gender</th>\n",
       "      <th>ethnicity</th>\n",
       "      <th>jundice</th>\n",
       "      <th>austim</th>\n",
       "      <th>relation</th>\n",
       "      <th>Class/ASD</th>\n",
       "    </tr>\n",
       "  </thead>\n",
       "  <tbody>\n",
       "    <tr>\n",
       "      <th>0</th>\n",
       "      <td>1</td>\n",
       "      <td>1</td>\n",
       "      <td>1</td>\n",
       "      <td>1</td>\n",
       "      <td>0</td>\n",
       "      <td>0</td>\n",
       "      <td>1</td>\n",
       "      <td>1</td>\n",
       "      <td>0</td>\n",
       "      <td>0</td>\n",
       "      <td>26</td>\n",
       "      <td>6</td>\n",
       "      <td>0</td>\n",
       "      <td>9</td>\n",
       "      <td>0</td>\n",
       "      <td>0</td>\n",
       "      <td>4</td>\n",
       "      <td>0</td>\n",
       "    </tr>\n",
       "    <tr>\n",
       "      <th>1</th>\n",
       "      <td>1</td>\n",
       "      <td>1</td>\n",
       "      <td>0</td>\n",
       "      <td>1</td>\n",
       "      <td>0</td>\n",
       "      <td>0</td>\n",
       "      <td>0</td>\n",
       "      <td>1</td>\n",
       "      <td>0</td>\n",
       "      <td>1</td>\n",
       "      <td>24</td>\n",
       "      <td>5</td>\n",
       "      <td>1</td>\n",
       "      <td>3</td>\n",
       "      <td>0</td>\n",
       "      <td>1</td>\n",
       "      <td>4</td>\n",
       "      <td>0</td>\n",
       "    </tr>\n",
       "    <tr>\n",
       "      <th>2</th>\n",
       "      <td>1</td>\n",
       "      <td>1</td>\n",
       "      <td>0</td>\n",
       "      <td>1</td>\n",
       "      <td>1</td>\n",
       "      <td>0</td>\n",
       "      <td>1</td>\n",
       "      <td>1</td>\n",
       "      <td>1</td>\n",
       "      <td>1</td>\n",
       "      <td>27</td>\n",
       "      <td>8</td>\n",
       "      <td>1</td>\n",
       "      <td>3</td>\n",
       "      <td>1</td>\n",
       "      <td>1</td>\n",
       "      <td>2</td>\n",
       "      <td>1</td>\n",
       "    </tr>\n",
       "    <tr>\n",
       "      <th>3</th>\n",
       "      <td>1</td>\n",
       "      <td>1</td>\n",
       "      <td>0</td>\n",
       "      <td>1</td>\n",
       "      <td>0</td>\n",
       "      <td>0</td>\n",
       "      <td>1</td>\n",
       "      <td>1</td>\n",
       "      <td>0</td>\n",
       "      <td>1</td>\n",
       "      <td>35</td>\n",
       "      <td>6</td>\n",
       "      <td>0</td>\n",
       "      <td>9</td>\n",
       "      <td>0</td>\n",
       "      <td>1</td>\n",
       "      <td>4</td>\n",
       "      <td>0</td>\n",
       "    </tr>\n",
       "    <tr>\n",
       "      <th>4</th>\n",
       "      <td>1</td>\n",
       "      <td>0</td>\n",
       "      <td>0</td>\n",
       "      <td>0</td>\n",
       "      <td>0</td>\n",
       "      <td>0</td>\n",
       "      <td>0</td>\n",
       "      <td>1</td>\n",
       "      <td>0</td>\n",
       "      <td>0</td>\n",
       "      <td>40</td>\n",
       "      <td>2</td>\n",
       "      <td>0</td>\n",
       "      <td>9</td>\n",
       "      <td>0</td>\n",
       "      <td>0</td>\n",
       "      <td>4</td>\n",
       "      <td>0</td>\n",
       "    </tr>\n",
       "    <tr>\n",
       "      <th>...</th>\n",
       "      <td>...</td>\n",
       "      <td>...</td>\n",
       "      <td>...</td>\n",
       "      <td>...</td>\n",
       "      <td>...</td>\n",
       "      <td>...</td>\n",
       "      <td>...</td>\n",
       "      <td>...</td>\n",
       "      <td>...</td>\n",
       "      <td>...</td>\n",
       "      <td>...</td>\n",
       "      <td>...</td>\n",
       "      <td>...</td>\n",
       "      <td>...</td>\n",
       "      <td>...</td>\n",
       "      <td>...</td>\n",
       "      <td>...</td>\n",
       "      <td>...</td>\n",
       "    </tr>\n",
       "    <tr>\n",
       "      <th>699</th>\n",
       "      <td>0</td>\n",
       "      <td>1</td>\n",
       "      <td>0</td>\n",
       "      <td>1</td>\n",
       "      <td>1</td>\n",
       "      <td>0</td>\n",
       "      <td>1</td>\n",
       "      <td>1</td>\n",
       "      <td>1</td>\n",
       "      <td>1</td>\n",
       "      <td>25</td>\n",
       "      <td>7</td>\n",
       "      <td>0</td>\n",
       "      <td>9</td>\n",
       "      <td>0</td>\n",
       "      <td>0</td>\n",
       "      <td>4</td>\n",
       "      <td>1</td>\n",
       "    </tr>\n",
       "    <tr>\n",
       "      <th>700</th>\n",
       "      <td>1</td>\n",
       "      <td>0</td>\n",
       "      <td>0</td>\n",
       "      <td>0</td>\n",
       "      <td>0</td>\n",
       "      <td>0</td>\n",
       "      <td>0</td>\n",
       "      <td>1</td>\n",
       "      <td>0</td>\n",
       "      <td>1</td>\n",
       "      <td>34</td>\n",
       "      <td>3</td>\n",
       "      <td>1</td>\n",
       "      <td>2</td>\n",
       "      <td>0</td>\n",
       "      <td>0</td>\n",
       "      <td>2</td>\n",
       "      <td>0</td>\n",
       "    </tr>\n",
       "    <tr>\n",
       "      <th>701</th>\n",
       "      <td>1</td>\n",
       "      <td>0</td>\n",
       "      <td>1</td>\n",
       "      <td>1</td>\n",
       "      <td>1</td>\n",
       "      <td>0</td>\n",
       "      <td>1</td>\n",
       "      <td>1</td>\n",
       "      <td>0</td>\n",
       "      <td>1</td>\n",
       "      <td>24</td>\n",
       "      <td>7</td>\n",
       "      <td>0</td>\n",
       "      <td>9</td>\n",
       "      <td>0</td>\n",
       "      <td>0</td>\n",
       "      <td>4</td>\n",
       "      <td>1</td>\n",
       "    </tr>\n",
       "    <tr>\n",
       "      <th>702</th>\n",
       "      <td>1</td>\n",
       "      <td>0</td>\n",
       "      <td>0</td>\n",
       "      <td>1</td>\n",
       "      <td>1</td>\n",
       "      <td>0</td>\n",
       "      <td>1</td>\n",
       "      <td>0</td>\n",
       "      <td>1</td>\n",
       "      <td>1</td>\n",
       "      <td>35</td>\n",
       "      <td>6</td>\n",
       "      <td>1</td>\n",
       "      <td>7</td>\n",
       "      <td>0</td>\n",
       "      <td>0</td>\n",
       "      <td>4</td>\n",
       "      <td>0</td>\n",
       "    </tr>\n",
       "    <tr>\n",
       "      <th>703</th>\n",
       "      <td>1</td>\n",
       "      <td>0</td>\n",
       "      <td>1</td>\n",
       "      <td>1</td>\n",
       "      <td>1</td>\n",
       "      <td>0</td>\n",
       "      <td>1</td>\n",
       "      <td>1</td>\n",
       "      <td>1</td>\n",
       "      <td>1</td>\n",
       "      <td>26</td>\n",
       "      <td>8</td>\n",
       "      <td>0</td>\n",
       "      <td>9</td>\n",
       "      <td>0</td>\n",
       "      <td>0</td>\n",
       "      <td>4</td>\n",
       "      <td>1</td>\n",
       "    </tr>\n",
       "  </tbody>\n",
       "</table>\n",
       "<p>704 rows × 18 columns</p>\n",
       "</div>"
      ],
      "text/plain": [
       "     A1_Score  A2_Score  A3_Score  A4_Score  A5_Score  A6_Score  A7_Score  \\\n",
       "0           1         1         1         1         0         0         1   \n",
       "1           1         1         0         1         0         0         0   \n",
       "2           1         1         0         1         1         0         1   \n",
       "3           1         1         0         1         0         0         1   \n",
       "4           1         0         0         0         0         0         0   \n",
       "..        ...       ...       ...       ...       ...       ...       ...   \n",
       "699         0         1         0         1         1         0         1   \n",
       "700         1         0         0         0         0         0         0   \n",
       "701         1         0         1         1         1         0         1   \n",
       "702         1         0         0         1         1         0         1   \n",
       "703         1         0         1         1         1         0         1   \n",
       "\n",
       "     A8_Score  A9_Score  A10_Score  age  result  gender  ethnicity  jundice  \\\n",
       "0           1         0          0   26       6       0          9        0   \n",
       "1           1         0          1   24       5       1          3        0   \n",
       "2           1         1          1   27       8       1          3        1   \n",
       "3           1         0          1   35       6       0          9        0   \n",
       "4           1         0          0   40       2       0          9        0   \n",
       "..        ...       ...        ...  ...     ...     ...        ...      ...   \n",
       "699         1         1          1   25       7       0          9        0   \n",
       "700         1         0          1   34       3       1          2        0   \n",
       "701         1         0          1   24       7       0          9        0   \n",
       "702         0         1          1   35       6       1          7        0   \n",
       "703         1         1          1   26       8       0          9        0   \n",
       "\n",
       "     austim  relation  Class/ASD  \n",
       "0         0         4          0  \n",
       "1         1         4          0  \n",
       "2         1         2          1  \n",
       "3         1         4          0  \n",
       "4         0         4          0  \n",
       "..      ...       ...        ...  \n",
       "699       0         4          1  \n",
       "700       0         2          0  \n",
       "701       0         4          1  \n",
       "702       0         4          0  \n",
       "703       0         4          1  \n",
       "\n",
       "[704 rows x 18 columns]"
      ]
     },
     "execution_count": 75,
     "metadata": {},
     "output_type": "execute_result"
    }
   ],
   "source": [
    "data"
   ]
  },
  {
   "cell_type": "code",
   "execution_count": 76,
   "metadata": {},
   "outputs": [
    {
     "data": {
      "text/html": [
       "<div>\n",
       "<style scoped>\n",
       "    .dataframe tbody tr th:only-of-type {\n",
       "        vertical-align: middle;\n",
       "    }\n",
       "\n",
       "    .dataframe tbody tr th {\n",
       "        vertical-align: top;\n",
       "    }\n",
       "\n",
       "    .dataframe thead th {\n",
       "        text-align: right;\n",
       "    }\n",
       "</style>\n",
       "<table border=\"1\" class=\"dataframe\">\n",
       "  <thead>\n",
       "    <tr style=\"text-align: right;\">\n",
       "      <th></th>\n",
       "      <th>A1_Score</th>\n",
       "      <th>A2_Score</th>\n",
       "      <th>A3_Score</th>\n",
       "      <th>A4_Score</th>\n",
       "      <th>A5_Score</th>\n",
       "      <th>A6_Score</th>\n",
       "      <th>A7_Score</th>\n",
       "      <th>A8_Score</th>\n",
       "      <th>A9_Score</th>\n",
       "      <th>A10_Score</th>\n",
       "      <th>age</th>\n",
       "      <th>result</th>\n",
       "      <th>gender</th>\n",
       "      <th>ethnicity</th>\n",
       "      <th>jundice</th>\n",
       "      <th>austim</th>\n",
       "      <th>relation</th>\n",
       "      <th>Class/ASD</th>\n",
       "    </tr>\n",
       "  </thead>\n",
       "  <tbody>\n",
       "    <tr>\n",
       "      <th>A1_Score</th>\n",
       "      <td>1.000000</td>\n",
       "      <td>0.011539</td>\n",
       "      <td>0.074096</td>\n",
       "      <td>0.127814</td>\n",
       "      <td>0.169369</td>\n",
       "      <td>0.110199</td>\n",
       "      <td>0.217538</td>\n",
       "      <td>0.147640</td>\n",
       "      <td>0.145452</td>\n",
       "      <td>0.118413</td>\n",
       "      <td>0.025379</td>\n",
       "      <td>0.397454</td>\n",
       "      <td>-0.075011</td>\n",
       "      <td>0.053684</td>\n",
       "      <td>-0.019077</td>\n",
       "      <td>0.097630</td>\n",
       "      <td>0.008398</td>\n",
       "      <td>0.297628</td>\n",
       "    </tr>\n",
       "    <tr>\n",
       "      <th>A2_Score</th>\n",
       "      <td>0.011539</td>\n",
       "      <td>1.000000</td>\n",
       "      <td>0.223921</td>\n",
       "      <td>0.158998</td>\n",
       "      <td>0.153821</td>\n",
       "      <td>0.185864</td>\n",
       "      <td>-0.041768</td>\n",
       "      <td>0.035408</td>\n",
       "      <td>0.205421</td>\n",
       "      <td>0.068883</td>\n",
       "      <td>0.020644</td>\n",
       "      <td>0.392540</td>\n",
       "      <td>-0.047393</td>\n",
       "      <td>0.128518</td>\n",
       "      <td>0.112615</td>\n",
       "      <td>0.074555</td>\n",
       "      <td>-0.047792</td>\n",
       "      <td>0.311382</td>\n",
       "    </tr>\n",
       "    <tr>\n",
       "      <th>A3_Score</th>\n",
       "      <td>0.074096</td>\n",
       "      <td>0.223921</td>\n",
       "      <td>1.000000</td>\n",
       "      <td>0.412722</td>\n",
       "      <td>0.264927</td>\n",
       "      <td>0.268846</td>\n",
       "      <td>0.078216</td>\n",
       "      <td>0.017771</td>\n",
       "      <td>0.315113</td>\n",
       "      <td>0.168454</td>\n",
       "      <td>0.030833</td>\n",
       "      <td>0.552356</td>\n",
       "      <td>0.000795</td>\n",
       "      <td>0.110339</td>\n",
       "      <td>0.061760</td>\n",
       "      <td>0.113697</td>\n",
       "      <td>0.029318</td>\n",
       "      <td>0.441074</td>\n",
       "    </tr>\n",
       "    <tr>\n",
       "      <th>A4_Score</th>\n",
       "      <td>0.127814</td>\n",
       "      <td>0.158998</td>\n",
       "      <td>0.412722</td>\n",
       "      <td>1.000000</td>\n",
       "      <td>0.306806</td>\n",
       "      <td>0.295152</td>\n",
       "      <td>0.151236</td>\n",
       "      <td>0.008617</td>\n",
       "      <td>0.327673</td>\n",
       "      <td>0.210968</td>\n",
       "      <td>0.033967</td>\n",
       "      <td>0.586025</td>\n",
       "      <td>-0.056508</td>\n",
       "      <td>0.140787</td>\n",
       "      <td>0.064918</td>\n",
       "      <td>0.193820</td>\n",
       "      <td>-0.013804</td>\n",
       "      <td>0.469945</td>\n",
       "    </tr>\n",
       "    <tr>\n",
       "      <th>A5_Score</th>\n",
       "      <td>0.169369</td>\n",
       "      <td>0.153821</td>\n",
       "      <td>0.264927</td>\n",
       "      <td>0.306806</td>\n",
       "      <td>1.000000</td>\n",
       "      <td>0.392354</td>\n",
       "      <td>0.238589</td>\n",
       "      <td>0.102086</td>\n",
       "      <td>0.396582</td>\n",
       "      <td>0.267561</td>\n",
       "      <td>-0.025054</td>\n",
       "      <td>0.639706</td>\n",
       "      <td>-0.039688</td>\n",
       "      <td>0.009535</td>\n",
       "      <td>0.034378</td>\n",
       "      <td>0.090009</td>\n",
       "      <td>0.048976</td>\n",
       "      <td>0.537004</td>\n",
       "    </tr>\n",
       "    <tr>\n",
       "      <th>A6_Score</th>\n",
       "      <td>0.110199</td>\n",
       "      <td>0.185864</td>\n",
       "      <td>0.268846</td>\n",
       "      <td>0.295152</td>\n",
       "      <td>0.392354</td>\n",
       "      <td>1.000000</td>\n",
       "      <td>0.175489</td>\n",
       "      <td>0.100123</td>\n",
       "      <td>0.479422</td>\n",
       "      <td>0.294435</td>\n",
       "      <td>0.035617</td>\n",
       "      <td>0.630012</td>\n",
       "      <td>-0.083615</td>\n",
       "      <td>0.108745</td>\n",
       "      <td>0.078366</td>\n",
       "      <td>0.114048</td>\n",
       "      <td>-0.090688</td>\n",
       "      <td>0.592091</td>\n",
       "    </tr>\n",
       "    <tr>\n",
       "      <th>A7_Score</th>\n",
       "      <td>0.217538</td>\n",
       "      <td>-0.041768</td>\n",
       "      <td>0.078216</td>\n",
       "      <td>0.151236</td>\n",
       "      <td>0.238589</td>\n",
       "      <td>0.175489</td>\n",
       "      <td>1.000000</td>\n",
       "      <td>0.085403</td>\n",
       "      <td>0.189480</td>\n",
       "      <td>0.252107</td>\n",
       "      <td>-0.026734</td>\n",
       "      <td>0.454848</td>\n",
       "      <td>0.061900</td>\n",
       "      <td>-0.002004</td>\n",
       "      <td>0.030850</td>\n",
       "      <td>-0.008610</td>\n",
       "      <td>0.032594</td>\n",
       "      <td>0.351429</td>\n",
       "    </tr>\n",
       "    <tr>\n",
       "      <th>A8_Score</th>\n",
       "      <td>0.147640</td>\n",
       "      <td>0.035408</td>\n",
       "      <td>0.017771</td>\n",
       "      <td>0.008617</td>\n",
       "      <td>0.102086</td>\n",
       "      <td>0.100123</td>\n",
       "      <td>0.085403</td>\n",
       "      <td>1.000000</td>\n",
       "      <td>0.101733</td>\n",
       "      <td>0.100782</td>\n",
       "      <td>-0.078154</td>\n",
       "      <td>0.324020</td>\n",
       "      <td>0.064127</td>\n",
       "      <td>-0.048702</td>\n",
       "      <td>0.012101</td>\n",
       "      <td>0.034845</td>\n",
       "      <td>0.051040</td>\n",
       "      <td>0.237161</td>\n",
       "    </tr>\n",
       "    <tr>\n",
       "      <th>A9_Score</th>\n",
       "      <td>0.145452</td>\n",
       "      <td>0.205421</td>\n",
       "      <td>0.315113</td>\n",
       "      <td>0.327673</td>\n",
       "      <td>0.396582</td>\n",
       "      <td>0.479422</td>\n",
       "      <td>0.189480</td>\n",
       "      <td>0.101733</td>\n",
       "      <td>1.000000</td>\n",
       "      <td>0.283340</td>\n",
       "      <td>0.054984</td>\n",
       "      <td>0.661205</td>\n",
       "      <td>0.006940</td>\n",
       "      <td>0.081052</td>\n",
       "      <td>0.057717</td>\n",
       "      <td>0.167644</td>\n",
       "      <td>-0.058046</td>\n",
       "      <td>0.635576</td>\n",
       "    </tr>\n",
       "    <tr>\n",
       "      <th>A10_Score</th>\n",
       "      <td>0.118413</td>\n",
       "      <td>0.068883</td>\n",
       "      <td>0.168454</td>\n",
       "      <td>0.210968</td>\n",
       "      <td>0.267561</td>\n",
       "      <td>0.294435</td>\n",
       "      <td>0.252107</td>\n",
       "      <td>0.100782</td>\n",
       "      <td>0.283340</td>\n",
       "      <td>1.000000</td>\n",
       "      <td>-0.007846</td>\n",
       "      <td>0.537205</td>\n",
       "      <td>-0.055246</td>\n",
       "      <td>0.059843</td>\n",
       "      <td>0.052201</td>\n",
       "      <td>0.117969</td>\n",
       "      <td>0.027427</td>\n",
       "      <td>0.385917</td>\n",
       "    </tr>\n",
       "    <tr>\n",
       "      <th>age</th>\n",
       "      <td>0.025379</td>\n",
       "      <td>0.020644</td>\n",
       "      <td>0.030833</td>\n",
       "      <td>0.033967</td>\n",
       "      <td>-0.025054</td>\n",
       "      <td>0.035617</td>\n",
       "      <td>-0.026734</td>\n",
       "      <td>-0.078154</td>\n",
       "      <td>0.054984</td>\n",
       "      <td>-0.007846</td>\n",
       "      <td>1.000000</td>\n",
       "      <td>0.011561</td>\n",
       "      <td>-0.051266</td>\n",
       "      <td>0.083560</td>\n",
       "      <td>0.065387</td>\n",
       "      <td>0.095511</td>\n",
       "      <td>-0.028200</td>\n",
       "      <td>0.060054</td>\n",
       "    </tr>\n",
       "    <tr>\n",
       "      <th>result</th>\n",
       "      <td>0.397454</td>\n",
       "      <td>0.392540</td>\n",
       "      <td>0.552356</td>\n",
       "      <td>0.586025</td>\n",
       "      <td>0.639706</td>\n",
       "      <td>0.630012</td>\n",
       "      <td>0.454848</td>\n",
       "      <td>0.324020</td>\n",
       "      <td>0.661205</td>\n",
       "      <td>0.537205</td>\n",
       "      <td>0.011561</td>\n",
       "      <td>1.000000</td>\n",
       "      <td>-0.042231</td>\n",
       "      <td>0.124213</td>\n",
       "      <td>0.094842</td>\n",
       "      <td>0.192033</td>\n",
       "      <td>-0.000760</td>\n",
       "      <td>0.821445</td>\n",
       "    </tr>\n",
       "    <tr>\n",
       "      <th>gender</th>\n",
       "      <td>-0.075011</td>\n",
       "      <td>-0.047393</td>\n",
       "      <td>0.000795</td>\n",
       "      <td>-0.056508</td>\n",
       "      <td>-0.039688</td>\n",
       "      <td>-0.083615</td>\n",
       "      <td>0.061900</td>\n",
       "      <td>0.064127</td>\n",
       "      <td>0.006940</td>\n",
       "      <td>-0.055246</td>\n",
       "      <td>-0.051266</td>\n",
       "      <td>-0.042231</td>\n",
       "      <td>1.000000</td>\n",
       "      <td>-0.091333</td>\n",
       "      <td>-0.018842</td>\n",
       "      <td>-0.088477</td>\n",
       "      <td>-0.065708</td>\n",
       "      <td>-0.080378</td>\n",
       "    </tr>\n",
       "    <tr>\n",
       "      <th>ethnicity</th>\n",
       "      <td>0.053684</td>\n",
       "      <td>0.128518</td>\n",
       "      <td>0.110339</td>\n",
       "      <td>0.140787</td>\n",
       "      <td>0.009535</td>\n",
       "      <td>0.108745</td>\n",
       "      <td>-0.002004</td>\n",
       "      <td>-0.048702</td>\n",
       "      <td>0.081052</td>\n",
       "      <td>0.059843</td>\n",
       "      <td>0.083560</td>\n",
       "      <td>0.124213</td>\n",
       "      <td>-0.091333</td>\n",
       "      <td>1.000000</td>\n",
       "      <td>0.074951</td>\n",
       "      <td>0.117392</td>\n",
       "      <td>0.093633</td>\n",
       "      <td>0.144476</td>\n",
       "    </tr>\n",
       "    <tr>\n",
       "      <th>jundice</th>\n",
       "      <td>-0.019077</td>\n",
       "      <td>0.112615</td>\n",
       "      <td>0.061760</td>\n",
       "      <td>0.064918</td>\n",
       "      <td>0.034378</td>\n",
       "      <td>0.078366</td>\n",
       "      <td>0.030850</td>\n",
       "      <td>0.012101</td>\n",
       "      <td>0.057717</td>\n",
       "      <td>0.052201</td>\n",
       "      <td>0.065387</td>\n",
       "      <td>0.094842</td>\n",
       "      <td>-0.018842</td>\n",
       "      <td>0.074951</td>\n",
       "      <td>1.000000</td>\n",
       "      <td>0.157793</td>\n",
       "      <td>-0.098007</td>\n",
       "      <td>0.102152</td>\n",
       "    </tr>\n",
       "    <tr>\n",
       "      <th>austim</th>\n",
       "      <td>0.097630</td>\n",
       "      <td>0.074555</td>\n",
       "      <td>0.113697</td>\n",
       "      <td>0.193820</td>\n",
       "      <td>0.090009</td>\n",
       "      <td>0.114048</td>\n",
       "      <td>-0.008610</td>\n",
       "      <td>0.034845</td>\n",
       "      <td>0.167644</td>\n",
       "      <td>0.117969</td>\n",
       "      <td>0.095511</td>\n",
       "      <td>0.192033</td>\n",
       "      <td>-0.088477</td>\n",
       "      <td>0.117392</td>\n",
       "      <td>0.157793</td>\n",
       "      <td>1.000000</td>\n",
       "      <td>-0.119433</td>\n",
       "      <td>0.177415</td>\n",
       "    </tr>\n",
       "    <tr>\n",
       "      <th>relation</th>\n",
       "      <td>0.008398</td>\n",
       "      <td>-0.047792</td>\n",
       "      <td>0.029318</td>\n",
       "      <td>-0.013804</td>\n",
       "      <td>0.048976</td>\n",
       "      <td>-0.090688</td>\n",
       "      <td>0.032594</td>\n",
       "      <td>0.051040</td>\n",
       "      <td>-0.058046</td>\n",
       "      <td>0.027427</td>\n",
       "      <td>-0.028200</td>\n",
       "      <td>-0.000760</td>\n",
       "      <td>-0.065708</td>\n",
       "      <td>0.093633</td>\n",
       "      <td>-0.098007</td>\n",
       "      <td>-0.119433</td>\n",
       "      <td>1.000000</td>\n",
       "      <td>0.013165</td>\n",
       "    </tr>\n",
       "    <tr>\n",
       "      <th>Class/ASD</th>\n",
       "      <td>0.297628</td>\n",
       "      <td>0.311382</td>\n",
       "      <td>0.441074</td>\n",
       "      <td>0.469945</td>\n",
       "      <td>0.537004</td>\n",
       "      <td>0.592091</td>\n",
       "      <td>0.351429</td>\n",
       "      <td>0.237161</td>\n",
       "      <td>0.635576</td>\n",
       "      <td>0.385917</td>\n",
       "      <td>0.060054</td>\n",
       "      <td>0.821445</td>\n",
       "      <td>-0.080378</td>\n",
       "      <td>0.144476</td>\n",
       "      <td>0.102152</td>\n",
       "      <td>0.177415</td>\n",
       "      <td>0.013165</td>\n",
       "      <td>1.000000</td>\n",
       "    </tr>\n",
       "  </tbody>\n",
       "</table>\n",
       "</div>"
      ],
      "text/plain": [
       "           A1_Score  A2_Score  A3_Score  A4_Score  A5_Score  A6_Score  \\\n",
       "A1_Score   1.000000  0.011539  0.074096  0.127814  0.169369  0.110199   \n",
       "A2_Score   0.011539  1.000000  0.223921  0.158998  0.153821  0.185864   \n",
       "A3_Score   0.074096  0.223921  1.000000  0.412722  0.264927  0.268846   \n",
       "A4_Score   0.127814  0.158998  0.412722  1.000000  0.306806  0.295152   \n",
       "A5_Score   0.169369  0.153821  0.264927  0.306806  1.000000  0.392354   \n",
       "A6_Score   0.110199  0.185864  0.268846  0.295152  0.392354  1.000000   \n",
       "A7_Score   0.217538 -0.041768  0.078216  0.151236  0.238589  0.175489   \n",
       "A8_Score   0.147640  0.035408  0.017771  0.008617  0.102086  0.100123   \n",
       "A9_Score   0.145452  0.205421  0.315113  0.327673  0.396582  0.479422   \n",
       "A10_Score  0.118413  0.068883  0.168454  0.210968  0.267561  0.294435   \n",
       "age        0.025379  0.020644  0.030833  0.033967 -0.025054  0.035617   \n",
       "result     0.397454  0.392540  0.552356  0.586025  0.639706  0.630012   \n",
       "gender    -0.075011 -0.047393  0.000795 -0.056508 -0.039688 -0.083615   \n",
       "ethnicity  0.053684  0.128518  0.110339  0.140787  0.009535  0.108745   \n",
       "jundice   -0.019077  0.112615  0.061760  0.064918  0.034378  0.078366   \n",
       "austim     0.097630  0.074555  0.113697  0.193820  0.090009  0.114048   \n",
       "relation   0.008398 -0.047792  0.029318 -0.013804  0.048976 -0.090688   \n",
       "Class/ASD  0.297628  0.311382  0.441074  0.469945  0.537004  0.592091   \n",
       "\n",
       "           A7_Score  A8_Score  A9_Score  A10_Score       age    result  \\\n",
       "A1_Score   0.217538  0.147640  0.145452   0.118413  0.025379  0.397454   \n",
       "A2_Score  -0.041768  0.035408  0.205421   0.068883  0.020644  0.392540   \n",
       "A3_Score   0.078216  0.017771  0.315113   0.168454  0.030833  0.552356   \n",
       "A4_Score   0.151236  0.008617  0.327673   0.210968  0.033967  0.586025   \n",
       "A5_Score   0.238589  0.102086  0.396582   0.267561 -0.025054  0.639706   \n",
       "A6_Score   0.175489  0.100123  0.479422   0.294435  0.035617  0.630012   \n",
       "A7_Score   1.000000  0.085403  0.189480   0.252107 -0.026734  0.454848   \n",
       "A8_Score   0.085403  1.000000  0.101733   0.100782 -0.078154  0.324020   \n",
       "A9_Score   0.189480  0.101733  1.000000   0.283340  0.054984  0.661205   \n",
       "A10_Score  0.252107  0.100782  0.283340   1.000000 -0.007846  0.537205   \n",
       "age       -0.026734 -0.078154  0.054984  -0.007846  1.000000  0.011561   \n",
       "result     0.454848  0.324020  0.661205   0.537205  0.011561  1.000000   \n",
       "gender     0.061900  0.064127  0.006940  -0.055246 -0.051266 -0.042231   \n",
       "ethnicity -0.002004 -0.048702  0.081052   0.059843  0.083560  0.124213   \n",
       "jundice    0.030850  0.012101  0.057717   0.052201  0.065387  0.094842   \n",
       "austim    -0.008610  0.034845  0.167644   0.117969  0.095511  0.192033   \n",
       "relation   0.032594  0.051040 -0.058046   0.027427 -0.028200 -0.000760   \n",
       "Class/ASD  0.351429  0.237161  0.635576   0.385917  0.060054  0.821445   \n",
       "\n",
       "             gender  ethnicity   jundice    austim  relation  Class/ASD  \n",
       "A1_Score  -0.075011   0.053684 -0.019077  0.097630  0.008398   0.297628  \n",
       "A2_Score  -0.047393   0.128518  0.112615  0.074555 -0.047792   0.311382  \n",
       "A3_Score   0.000795   0.110339  0.061760  0.113697  0.029318   0.441074  \n",
       "A4_Score  -0.056508   0.140787  0.064918  0.193820 -0.013804   0.469945  \n",
       "A5_Score  -0.039688   0.009535  0.034378  0.090009  0.048976   0.537004  \n",
       "A6_Score  -0.083615   0.108745  0.078366  0.114048 -0.090688   0.592091  \n",
       "A7_Score   0.061900  -0.002004  0.030850 -0.008610  0.032594   0.351429  \n",
       "A8_Score   0.064127  -0.048702  0.012101  0.034845  0.051040   0.237161  \n",
       "A9_Score   0.006940   0.081052  0.057717  0.167644 -0.058046   0.635576  \n",
       "A10_Score -0.055246   0.059843  0.052201  0.117969  0.027427   0.385917  \n",
       "age       -0.051266   0.083560  0.065387  0.095511 -0.028200   0.060054  \n",
       "result    -0.042231   0.124213  0.094842  0.192033 -0.000760   0.821445  \n",
       "gender     1.000000  -0.091333 -0.018842 -0.088477 -0.065708  -0.080378  \n",
       "ethnicity -0.091333   1.000000  0.074951  0.117392  0.093633   0.144476  \n",
       "jundice   -0.018842   0.074951  1.000000  0.157793 -0.098007   0.102152  \n",
       "austim    -0.088477   0.117392  0.157793  1.000000 -0.119433   0.177415  \n",
       "relation  -0.065708   0.093633 -0.098007 -0.119433  1.000000   0.013165  \n",
       "Class/ASD -0.080378   0.144476  0.102152  0.177415  0.013165   1.000000  "
      ]
     },
     "execution_count": 76,
     "metadata": {},
     "output_type": "execute_result"
    }
   ],
   "source": [
    "data.corr()"
   ]
  },
  {
   "cell_type": "code",
   "execution_count": 77,
   "metadata": {},
   "outputs": [],
   "source": [
    "x = data.iloc[:,0:17]\n",
    "y = data.iloc[:,17]"
   ]
  },
  {
   "cell_type": "code",
   "execution_count": 78,
   "metadata": {},
   "outputs": [
    {
     "data": {
      "text/html": [
       "<div>\n",
       "<style scoped>\n",
       "    .dataframe tbody tr th:only-of-type {\n",
       "        vertical-align: middle;\n",
       "    }\n",
       "\n",
       "    .dataframe tbody tr th {\n",
       "        vertical-align: top;\n",
       "    }\n",
       "\n",
       "    .dataframe thead th {\n",
       "        text-align: right;\n",
       "    }\n",
       "</style>\n",
       "<table border=\"1\" class=\"dataframe\">\n",
       "  <thead>\n",
       "    <tr style=\"text-align: right;\">\n",
       "      <th></th>\n",
       "      <th>A1_Score</th>\n",
       "      <th>A2_Score</th>\n",
       "      <th>A3_Score</th>\n",
       "      <th>A4_Score</th>\n",
       "      <th>A5_Score</th>\n",
       "      <th>A6_Score</th>\n",
       "      <th>A7_Score</th>\n",
       "      <th>A8_Score</th>\n",
       "      <th>A9_Score</th>\n",
       "      <th>A10_Score</th>\n",
       "      <th>age</th>\n",
       "      <th>result</th>\n",
       "      <th>gender</th>\n",
       "      <th>ethnicity</th>\n",
       "      <th>jundice</th>\n",
       "      <th>austim</th>\n",
       "      <th>relation</th>\n",
       "    </tr>\n",
       "  </thead>\n",
       "  <tbody>\n",
       "    <tr>\n",
       "      <th>0</th>\n",
       "      <td>1</td>\n",
       "      <td>1</td>\n",
       "      <td>1</td>\n",
       "      <td>1</td>\n",
       "      <td>0</td>\n",
       "      <td>0</td>\n",
       "      <td>1</td>\n",
       "      <td>1</td>\n",
       "      <td>0</td>\n",
       "      <td>0</td>\n",
       "      <td>26</td>\n",
       "      <td>6</td>\n",
       "      <td>0</td>\n",
       "      <td>9</td>\n",
       "      <td>0</td>\n",
       "      <td>0</td>\n",
       "      <td>4</td>\n",
       "    </tr>\n",
       "    <tr>\n",
       "      <th>1</th>\n",
       "      <td>1</td>\n",
       "      <td>1</td>\n",
       "      <td>0</td>\n",
       "      <td>1</td>\n",
       "      <td>0</td>\n",
       "      <td>0</td>\n",
       "      <td>0</td>\n",
       "      <td>1</td>\n",
       "      <td>0</td>\n",
       "      <td>1</td>\n",
       "      <td>24</td>\n",
       "      <td>5</td>\n",
       "      <td>1</td>\n",
       "      <td>3</td>\n",
       "      <td>0</td>\n",
       "      <td>1</td>\n",
       "      <td>4</td>\n",
       "    </tr>\n",
       "    <tr>\n",
       "      <th>2</th>\n",
       "      <td>1</td>\n",
       "      <td>1</td>\n",
       "      <td>0</td>\n",
       "      <td>1</td>\n",
       "      <td>1</td>\n",
       "      <td>0</td>\n",
       "      <td>1</td>\n",
       "      <td>1</td>\n",
       "      <td>1</td>\n",
       "      <td>1</td>\n",
       "      <td>27</td>\n",
       "      <td>8</td>\n",
       "      <td>1</td>\n",
       "      <td>3</td>\n",
       "      <td>1</td>\n",
       "      <td>1</td>\n",
       "      <td>2</td>\n",
       "    </tr>\n",
       "    <tr>\n",
       "      <th>3</th>\n",
       "      <td>1</td>\n",
       "      <td>1</td>\n",
       "      <td>0</td>\n",
       "      <td>1</td>\n",
       "      <td>0</td>\n",
       "      <td>0</td>\n",
       "      <td>1</td>\n",
       "      <td>1</td>\n",
       "      <td>0</td>\n",
       "      <td>1</td>\n",
       "      <td>35</td>\n",
       "      <td>6</td>\n",
       "      <td>0</td>\n",
       "      <td>9</td>\n",
       "      <td>0</td>\n",
       "      <td>1</td>\n",
       "      <td>4</td>\n",
       "    </tr>\n",
       "    <tr>\n",
       "      <th>4</th>\n",
       "      <td>1</td>\n",
       "      <td>0</td>\n",
       "      <td>0</td>\n",
       "      <td>0</td>\n",
       "      <td>0</td>\n",
       "      <td>0</td>\n",
       "      <td>0</td>\n",
       "      <td>1</td>\n",
       "      <td>0</td>\n",
       "      <td>0</td>\n",
       "      <td>40</td>\n",
       "      <td>2</td>\n",
       "      <td>0</td>\n",
       "      <td>9</td>\n",
       "      <td>0</td>\n",
       "      <td>0</td>\n",
       "      <td>4</td>\n",
       "    </tr>\n",
       "    <tr>\n",
       "      <th>...</th>\n",
       "      <td>...</td>\n",
       "      <td>...</td>\n",
       "      <td>...</td>\n",
       "      <td>...</td>\n",
       "      <td>...</td>\n",
       "      <td>...</td>\n",
       "      <td>...</td>\n",
       "      <td>...</td>\n",
       "      <td>...</td>\n",
       "      <td>...</td>\n",
       "      <td>...</td>\n",
       "      <td>...</td>\n",
       "      <td>...</td>\n",
       "      <td>...</td>\n",
       "      <td>...</td>\n",
       "      <td>...</td>\n",
       "      <td>...</td>\n",
       "    </tr>\n",
       "    <tr>\n",
       "      <th>699</th>\n",
       "      <td>0</td>\n",
       "      <td>1</td>\n",
       "      <td>0</td>\n",
       "      <td>1</td>\n",
       "      <td>1</td>\n",
       "      <td>0</td>\n",
       "      <td>1</td>\n",
       "      <td>1</td>\n",
       "      <td>1</td>\n",
       "      <td>1</td>\n",
       "      <td>25</td>\n",
       "      <td>7</td>\n",
       "      <td>0</td>\n",
       "      <td>9</td>\n",
       "      <td>0</td>\n",
       "      <td>0</td>\n",
       "      <td>4</td>\n",
       "    </tr>\n",
       "    <tr>\n",
       "      <th>700</th>\n",
       "      <td>1</td>\n",
       "      <td>0</td>\n",
       "      <td>0</td>\n",
       "      <td>0</td>\n",
       "      <td>0</td>\n",
       "      <td>0</td>\n",
       "      <td>0</td>\n",
       "      <td>1</td>\n",
       "      <td>0</td>\n",
       "      <td>1</td>\n",
       "      <td>34</td>\n",
       "      <td>3</td>\n",
       "      <td>1</td>\n",
       "      <td>2</td>\n",
       "      <td>0</td>\n",
       "      <td>0</td>\n",
       "      <td>2</td>\n",
       "    </tr>\n",
       "    <tr>\n",
       "      <th>701</th>\n",
       "      <td>1</td>\n",
       "      <td>0</td>\n",
       "      <td>1</td>\n",
       "      <td>1</td>\n",
       "      <td>1</td>\n",
       "      <td>0</td>\n",
       "      <td>1</td>\n",
       "      <td>1</td>\n",
       "      <td>0</td>\n",
       "      <td>1</td>\n",
       "      <td>24</td>\n",
       "      <td>7</td>\n",
       "      <td>0</td>\n",
       "      <td>9</td>\n",
       "      <td>0</td>\n",
       "      <td>0</td>\n",
       "      <td>4</td>\n",
       "    </tr>\n",
       "    <tr>\n",
       "      <th>702</th>\n",
       "      <td>1</td>\n",
       "      <td>0</td>\n",
       "      <td>0</td>\n",
       "      <td>1</td>\n",
       "      <td>1</td>\n",
       "      <td>0</td>\n",
       "      <td>1</td>\n",
       "      <td>0</td>\n",
       "      <td>1</td>\n",
       "      <td>1</td>\n",
       "      <td>35</td>\n",
       "      <td>6</td>\n",
       "      <td>1</td>\n",
       "      <td>7</td>\n",
       "      <td>0</td>\n",
       "      <td>0</td>\n",
       "      <td>4</td>\n",
       "    </tr>\n",
       "    <tr>\n",
       "      <th>703</th>\n",
       "      <td>1</td>\n",
       "      <td>0</td>\n",
       "      <td>1</td>\n",
       "      <td>1</td>\n",
       "      <td>1</td>\n",
       "      <td>0</td>\n",
       "      <td>1</td>\n",
       "      <td>1</td>\n",
       "      <td>1</td>\n",
       "      <td>1</td>\n",
       "      <td>26</td>\n",
       "      <td>8</td>\n",
       "      <td>0</td>\n",
       "      <td>9</td>\n",
       "      <td>0</td>\n",
       "      <td>0</td>\n",
       "      <td>4</td>\n",
       "    </tr>\n",
       "  </tbody>\n",
       "</table>\n",
       "<p>704 rows × 17 columns</p>\n",
       "</div>"
      ],
      "text/plain": [
       "     A1_Score  A2_Score  A3_Score  A4_Score  A5_Score  A6_Score  A7_Score  \\\n",
       "0           1         1         1         1         0         0         1   \n",
       "1           1         1         0         1         0         0         0   \n",
       "2           1         1         0         1         1         0         1   \n",
       "3           1         1         0         1         0         0         1   \n",
       "4           1         0         0         0         0         0         0   \n",
       "..        ...       ...       ...       ...       ...       ...       ...   \n",
       "699         0         1         0         1         1         0         1   \n",
       "700         1         0         0         0         0         0         0   \n",
       "701         1         0         1         1         1         0         1   \n",
       "702         1         0         0         1         1         0         1   \n",
       "703         1         0         1         1         1         0         1   \n",
       "\n",
       "     A8_Score  A9_Score  A10_Score  age  result  gender  ethnicity  jundice  \\\n",
       "0           1         0          0   26       6       0          9        0   \n",
       "1           1         0          1   24       5       1          3        0   \n",
       "2           1         1          1   27       8       1          3        1   \n",
       "3           1         0          1   35       6       0          9        0   \n",
       "4           1         0          0   40       2       0          9        0   \n",
       "..        ...       ...        ...  ...     ...     ...        ...      ...   \n",
       "699         1         1          1   25       7       0          9        0   \n",
       "700         1         0          1   34       3       1          2        0   \n",
       "701         1         0          1   24       7       0          9        0   \n",
       "702         0         1          1   35       6       1          7        0   \n",
       "703         1         1          1   26       8       0          9        0   \n",
       "\n",
       "     austim  relation  \n",
       "0         0         4  \n",
       "1         1         4  \n",
       "2         1         2  \n",
       "3         1         4  \n",
       "4         0         4  \n",
       "..      ...       ...  \n",
       "699       0         4  \n",
       "700       0         2  \n",
       "701       0         4  \n",
       "702       0         4  \n",
       "703       0         4  \n",
       "\n",
       "[704 rows x 17 columns]"
      ]
     },
     "execution_count": 78,
     "metadata": {},
     "output_type": "execute_result"
    }
   ],
   "source": [
    "x"
   ]
  },
  {
   "cell_type": "code",
   "execution_count": 79,
   "metadata": {},
   "outputs": [
    {
     "data": {
      "text/plain": [
       "0      0\n",
       "1      0\n",
       "2      1\n",
       "3      0\n",
       "4      0\n",
       "      ..\n",
       "699    1\n",
       "700    0\n",
       "701    1\n",
       "702    0\n",
       "703    1\n",
       "Name: Class/ASD, Length: 704, dtype: int64"
      ]
     },
     "execution_count": 79,
     "metadata": {},
     "output_type": "execute_result"
    }
   ],
   "source": [
    "y"
   ]
  },
  {
   "cell_type": "code",
   "execution_count": 80,
   "metadata": {},
   "outputs": [
    {
     "data": {
      "text/plain": [
       "<matplotlib.axes._subplots.AxesSubplot at 0x1bb2602adc8>"
      ]
     },
     "execution_count": 80,
     "metadata": {},
     "output_type": "execute_result"
    },
    {
     "data": {
      "image/png": "[encoded data removed]",
      "text/plain": [
       "<Figure size 432x288 with 2 Axes>"
      ]
     },
     "metadata": {
      "needs_background": "light"
     },
     "output_type": "display_data"
    }
   ],
   "source": [
    "import seaborn as sns\n",
    "sns.heatmap(data)"
   ]
  },
  {
   "cell_type": "code",
   "execution_count": null,
   "metadata": {},
   "outputs": [],
   "source": []
  },
  {
   "cell_type": "code",
   "execution_count": 81,
   "metadata": {},
   "outputs": [],
   "source": [
    "import matplotlib\n",
    "import matplotlib.pyplot as plt"
   ]
  },
  {
   "cell_type": "code",
   "execution_count": 82,
   "metadata": {},
   "outputs": [
    {
     "data": {
      "text/plain": [
       "0    515\n",
       "1    189\n",
       "Name: Class/ASD, dtype: int64"
      ]
     },
     "execution_count": 82,
     "metadata": {},
     "output_type": "execute_result"
    }
   ],
   "source": [
    "data['Class/ASD'].value_counts()"
   ]
  },
  {
   "cell_type": "code",
   "execution_count": 83,
   "metadata": {},
   "outputs": [
    {
     "data": {
      "text/plain": [
       "<matplotlib.axes._subplots.AxesSubplot at 0x1bb2691a508>"
      ]
     },
     "execution_count": 83,
     "metadata": {},
     "output_type": "execute_result"
    },
    {
     "data": {
      "image/png": "[encoded data removed]",
      "text/plain": [
       "<Figure size 432x288 with 1 Axes>"
      ]
     },
     "metadata": {
      "needs_background": "light"
     },
     "output_type": "display_data"
    }
   ],
   "source": [
    "sns.distplot(data['Class/ASD'])"
   ]
  },
  {
   "cell_type": "code",
   "execution_count": 84,
   "metadata": {},
   "outputs": [],
   "source": [
    "from sklearn.linear_model import LogisticRegression\n",
    "from sklearn.metrics import accuracy_score,confusion_matrix,classification_report\n",
    "from sklearn.model_selection import KFold\n",
    "import numpy as np\n",
    "from sklearn.model_selection import GridSearchCV,train_test_split,RandomizedSearchCV"
   ]
  },
  {
   "cell_type": "code",
   "execution_count": 85,
   "metadata": {},
   "outputs": [],
   "source": [
    "log = LogisticRegression(max_iter = 500)\n",
    "grid = {'C':[0.001,0.01,0.1],'penalty':['l1','l2'],'solver' : ['saga']}\n",
    "cv = KFold(n_splits = 5,random_state = None,shuffle = True)"
   ]
  },
  {
   "cell_type": "code",
   "execution_count": 86,
   "metadata": {},
   "outputs": [],
   "source": [
    "x_train,x_test,y_train,y_test = x1,x,y1,y "
   ]
  },
  {
   "cell_type": "code",
   "execution_count": 87,
   "metadata": {},
   "outputs": [
    {
     "data": {
      "text/plain": [
       "0    515\n",
       "1    189\n",
       "Name: Class/ASD, dtype: int64"
      ]
     },
     "execution_count": 87,
     "metadata": {},
     "output_type": "execute_result"
    }
   ],
   "source": [
    "y.value_counts()"
   ]
  },
  {
   "cell_type": "code",
   "execution_count": 88,
   "metadata": {},
   "outputs": [
    {
     "data": {
      "text/plain": [
       "1    728\n",
       "0    326\n",
       "Name: Class/ASD Traits , dtype: int64"
      ]
     },
     "execution_count": 88,
     "metadata": {},
     "output_type": "execute_result"
    }
   ],
   "source": [
    "y1.value_counts()"
   ]
  },
  {
   "cell_type": "code",
   "execution_count": 89,
   "metadata": {},
   "outputs": [
    {
     "data": {
      "text/html": [
       "<div>\n",
       "<style scoped>\n",
       "    .dataframe tbody tr th:only-of-type {\n",
       "        vertical-align: middle;\n",
       "    }\n",
       "\n",
       "    .dataframe tbody tr th {\n",
       "        vertical-align: top;\n",
       "    }\n",
       "\n",
       "    .dataframe thead th {\n",
       "        text-align: right;\n",
       "    }\n",
       "</style>\n",
       "<table border=\"1\" class=\"dataframe\">\n",
       "  <thead>\n",
       "    <tr style=\"text-align: right;\">\n",
       "      <th></th>\n",
       "      <th>A1</th>\n",
       "      <th>A2</th>\n",
       "      <th>A3</th>\n",
       "      <th>A4</th>\n",
       "      <th>A5</th>\n",
       "      <th>A6</th>\n",
       "      <th>A7</th>\n",
       "      <th>A8</th>\n",
       "      <th>A9</th>\n",
       "      <th>A10</th>\n",
       "      <th>Age_Mons</th>\n",
       "      <th>Qchat-10-Score</th>\n",
       "      <th>Sex</th>\n",
       "      <th>Ethnicity</th>\n",
       "      <th>Jaundice</th>\n",
       "      <th>Family_mem_with_ASD</th>\n",
       "      <th>Who completed the test</th>\n",
       "    </tr>\n",
       "  </thead>\n",
       "  <tbody>\n",
       "    <tr>\n",
       "      <th>0</th>\n",
       "      <td>0</td>\n",
       "      <td>0</td>\n",
       "      <td>0</td>\n",
       "      <td>0</td>\n",
       "      <td>0</td>\n",
       "      <td>0</td>\n",
       "      <td>1</td>\n",
       "      <td>1</td>\n",
       "      <td>0</td>\n",
       "      <td>1</td>\n",
       "      <td>2</td>\n",
       "      <td>3</td>\n",
       "      <td>0</td>\n",
       "      <td>8</td>\n",
       "      <td>0</td>\n",
       "      <td>1</td>\n",
       "      <td>4</td>\n",
       "    </tr>\n",
       "    <tr>\n",
       "      <th>1</th>\n",
       "      <td>1</td>\n",
       "      <td>1</td>\n",
       "      <td>0</td>\n",
       "      <td>0</td>\n",
       "      <td>0</td>\n",
       "      <td>1</td>\n",
       "      <td>1</td>\n",
       "      <td>0</td>\n",
       "      <td>0</td>\n",
       "      <td>0</td>\n",
       "      <td>3</td>\n",
       "      <td>4</td>\n",
       "      <td>1</td>\n",
       "      <td>5</td>\n",
       "      <td>0</td>\n",
       "      <td>1</td>\n",
       "      <td>4</td>\n",
       "    </tr>\n",
       "    <tr>\n",
       "      <th>2</th>\n",
       "      <td>1</td>\n",
       "      <td>0</td>\n",
       "      <td>0</td>\n",
       "      <td>0</td>\n",
       "      <td>0</td>\n",
       "      <td>0</td>\n",
       "      <td>1</td>\n",
       "      <td>1</td>\n",
       "      <td>0</td>\n",
       "      <td>1</td>\n",
       "      <td>3</td>\n",
       "      <td>4</td>\n",
       "      <td>1</td>\n",
       "      <td>8</td>\n",
       "      <td>0</td>\n",
       "      <td>1</td>\n",
       "      <td>4</td>\n",
       "    </tr>\n",
       "    <tr>\n",
       "      <th>3</th>\n",
       "      <td>1</td>\n",
       "      <td>1</td>\n",
       "      <td>1</td>\n",
       "      <td>1</td>\n",
       "      <td>1</td>\n",
       "      <td>1</td>\n",
       "      <td>1</td>\n",
       "      <td>1</td>\n",
       "      <td>1</td>\n",
       "      <td>1</td>\n",
       "      <td>2</td>\n",
       "      <td>10</td>\n",
       "      <td>1</td>\n",
       "      <td>0</td>\n",
       "      <td>1</td>\n",
       "      <td>1</td>\n",
       "      <td>4</td>\n",
       "    </tr>\n",
       "    <tr>\n",
       "      <th>4</th>\n",
       "      <td>1</td>\n",
       "      <td>1</td>\n",
       "      <td>0</td>\n",
       "      <td>1</td>\n",
       "      <td>1</td>\n",
       "      <td>1</td>\n",
       "      <td>1</td>\n",
       "      <td>1</td>\n",
       "      <td>1</td>\n",
       "      <td>1</td>\n",
       "      <td>1</td>\n",
       "      <td>9</td>\n",
       "      <td>0</td>\n",
       "      <td>5</td>\n",
       "      <td>1</td>\n",
       "      <td>0</td>\n",
       "      <td>4</td>\n",
       "    </tr>\n",
       "    <tr>\n",
       "      <th>...</th>\n",
       "      <td>...</td>\n",
       "      <td>...</td>\n",
       "      <td>...</td>\n",
       "      <td>...</td>\n",
       "      <td>...</td>\n",
       "      <td>...</td>\n",
       "      <td>...</td>\n",
       "      <td>...</td>\n",
       "      <td>...</td>\n",
       "      <td>...</td>\n",
       "      <td>...</td>\n",
       "      <td>...</td>\n",
       "      <td>...</td>\n",
       "      <td>...</td>\n",
       "      <td>...</td>\n",
       "      <td>...</td>\n",
       "      <td>...</td>\n",
       "    </tr>\n",
       "    <tr>\n",
       "      <th>1049</th>\n",
       "      <td>0</td>\n",
       "      <td>0</td>\n",
       "      <td>0</td>\n",
       "      <td>0</td>\n",
       "      <td>0</td>\n",
       "      <td>0</td>\n",
       "      <td>0</td>\n",
       "      <td>0</td>\n",
       "      <td>0</td>\n",
       "      <td>1</td>\n",
       "      <td>2</td>\n",
       "      <td>1</td>\n",
       "      <td>0</td>\n",
       "      <td>5</td>\n",
       "      <td>1</td>\n",
       "      <td>0</td>\n",
       "      <td>4</td>\n",
       "    </tr>\n",
       "    <tr>\n",
       "      <th>1050</th>\n",
       "      <td>0</td>\n",
       "      <td>0</td>\n",
       "      <td>1</td>\n",
       "      <td>1</td>\n",
       "      <td>1</td>\n",
       "      <td>0</td>\n",
       "      <td>1</td>\n",
       "      <td>0</td>\n",
       "      <td>1</td>\n",
       "      <td>0</td>\n",
       "      <td>1</td>\n",
       "      <td>5</td>\n",
       "      <td>1</td>\n",
       "      <td>7</td>\n",
       "      <td>0</td>\n",
       "      <td>1</td>\n",
       "      <td>4</td>\n",
       "    </tr>\n",
       "    <tr>\n",
       "      <th>1051</th>\n",
       "      <td>1</td>\n",
       "      <td>0</td>\n",
       "      <td>1</td>\n",
       "      <td>1</td>\n",
       "      <td>1</td>\n",
       "      <td>1</td>\n",
       "      <td>1</td>\n",
       "      <td>1</td>\n",
       "      <td>1</td>\n",
       "      <td>1</td>\n",
       "      <td>1</td>\n",
       "      <td>9</td>\n",
       "      <td>1</td>\n",
       "      <td>8</td>\n",
       "      <td>0</td>\n",
       "      <td>1</td>\n",
       "      <td>4</td>\n",
       "    </tr>\n",
       "    <tr>\n",
       "      <th>1052</th>\n",
       "      <td>1</td>\n",
       "      <td>0</td>\n",
       "      <td>0</td>\n",
       "      <td>0</td>\n",
       "      <td>0</td>\n",
       "      <td>0</td>\n",
       "      <td>0</td>\n",
       "      <td>1</td>\n",
       "      <td>0</td>\n",
       "      <td>1</td>\n",
       "      <td>1</td>\n",
       "      <td>3</td>\n",
       "      <td>1</td>\n",
       "      <td>5</td>\n",
       "      <td>1</td>\n",
       "      <td>0</td>\n",
       "      <td>4</td>\n",
       "    </tr>\n",
       "    <tr>\n",
       "      <th>1053</th>\n",
       "      <td>1</td>\n",
       "      <td>1</td>\n",
       "      <td>0</td>\n",
       "      <td>0</td>\n",
       "      <td>1</td>\n",
       "      <td>1</td>\n",
       "      <td>0</td>\n",
       "      <td>1</td>\n",
       "      <td>1</td>\n",
       "      <td>0</td>\n",
       "      <td>2</td>\n",
       "      <td>6</td>\n",
       "      <td>1</td>\n",
       "      <td>6</td>\n",
       "      <td>0</td>\n",
       "      <td>0</td>\n",
       "      <td>4</td>\n",
       "    </tr>\n",
       "  </tbody>\n",
       "</table>\n",
       "<p>1054 rows × 17 columns</p>\n",
       "</div>"
      ],
      "text/plain": [
       "      A1  A2  A3  A4  A5  A6  A7  A8  A9  A10  Age_Mons  Qchat-10-Score  Sex  \\\n",
       "0      0   0   0   0   0   0   1   1   0    1         2               3    0   \n",
       "1      1   1   0   0   0   1   1   0   0    0         3               4    1   \n",
       "2      1   0   0   0   0   0   1   1   0    1         3               4    1   \n",
       "3      1   1   1   1   1   1   1   1   1    1         2              10    1   \n",
       "4      1   1   0   1   1   1   1   1   1    1         1               9    0   \n",
       "...   ..  ..  ..  ..  ..  ..  ..  ..  ..  ...       ...             ...  ...   \n",
       "1049   0   0   0   0   0   0   0   0   0    1         2               1    0   \n",
       "1050   0   0   1   1   1   0   1   0   1    0         1               5    1   \n",
       "1051   1   0   1   1   1   1   1   1   1    1         1               9    1   \n",
       "1052   1   0   0   0   0   0   0   1   0    1         1               3    1   \n",
       "1053   1   1   0   0   1   1   0   1   1    0         2               6    1   \n",
       "\n",
       "      Ethnicity  Jaundice  Family_mem_with_ASD  Who completed the test  \n",
       "0             8         0                    1                       4  \n",
       "1             5         0                    1                       4  \n",
       "2             8         0                    1                       4  \n",
       "3             0         1                    1                       4  \n",
       "4             5         1                    0                       4  \n",
       "...         ...       ...                  ...                     ...  \n",
       "1049          5         1                    0                       4  \n",
       "1050          7         0                    1                       4  \n",
       "1051          8         0                    1                       4  \n",
       "1052          5         1                    0                       4  \n",
       "1053          6         0                    0                       4  \n",
       "\n",
       "[1054 rows x 17 columns]"
      ]
     },
     "execution_count": 89,
     "metadata": {},
     "output_type": "execute_result"
    }
   ],
   "source": [
    "x_train"
   ]
  },
  {
   "cell_type": "code",
   "execution_count": 90,
   "metadata": {},
   "outputs": [
    {
     "data": {
      "text/plain": [
       "0       0\n",
       "1       1\n",
       "2       1\n",
       "3       1\n",
       "4       1\n",
       "       ..\n",
       "1049    0\n",
       "1050    1\n",
       "1051    1\n",
       "1052    0\n",
       "1053    1\n",
       "Name: Class/ASD Traits , Length: 1054, dtype: int64"
      ]
     },
     "execution_count": 90,
     "metadata": {},
     "output_type": "execute_result"
    }
   ],
   "source": [
    "y_train"
   ]
  },
  {
   "cell_type": "code",
   "execution_count": 91,
   "metadata": {},
   "outputs": [
    {
     "data": {
      "text/plain": [
       "GridSearchCV(cv=KFold(n_splits=5, random_state=None, shuffle=True),\n",
       "             error_score=nan,\n",
       "             estimator=LogisticRegression(C=1.0, class_weight=None, dual=False,\n",
       "                                          fit_intercept=True,\n",
       "                                          intercept_scaling=1, l1_ratio=None,\n",
       "                                          max_iter=500, multi_class='auto',\n",
       "                                          n_jobs=None, penalty='l2',\n",
       "                                          random_state=None, solver='lbfgs',\n",
       "                                          tol=0.0001, verbose=0,\n",
       "                                          warm_start=False),\n",
       "             iid='deprecated', n_jobs=-1,\n",
       "             param_grid={'C': [0.001, 0.01, 0.1], 'penalty': ['l1', 'l2'],\n",
       "                         'solver': ['saga']},\n",
       "             pre_dispatch='2*n_jobs', refit=True, return_train_score=False,\n",
       "             scoring=None, verbose=0)"
      ]
     },
     "execution_count": 91,
     "metadata": {},
     "output_type": "execute_result"
    }
   ],
   "source": [
    "clf = GridSearchCV(log,grid,cv = cv,n_jobs = -1,refit=True)\n",
    "clf.fit(x_train,y_train)"
   ]
  },
  {
   "cell_type": "code",
   "execution_count": 92,
   "metadata": {},
   "outputs": [],
   "source": [
    "y_pred = clf.predict(x_test)"
   ]
  },
  {
   "cell_type": "code",
   "execution_count": 93,
   "metadata": {},
   "outputs": [
    {
     "data": {
      "text/plain": [
       "array([1, 1, 1, 1, 0, 1, 0, 1, 1, 1, 1, 1, 1, 1, 1, 1, 1, 0, 0, 0, 0, 0,\n",
       "       1, 0, 1, 0, 0, 0, 0, 1, 0, 1, 1, 1, 1, 0, 1, 1, 1, 1, 1, 0, 0, 1,\n",
       "       1, 1, 1, 1, 0, 1, 0, 1, 0, 1, 1, 1, 1, 1, 0, 1, 1, 1, 0, 1, 1, 0,\n",
       "       0, 1, 1, 0, 1, 0, 1, 1, 1, 1, 0, 1, 1, 0, 1, 0, 1, 1, 0, 0, 1, 0,\n",
       "       1, 1, 1, 1, 1, 1, 1, 1, 1, 1, 0, 0, 0, 0, 0, 1, 1, 0, 1, 1, 1, 0,\n",
       "       1, 1, 0, 1, 1, 1, 1, 1, 1, 1, 1, 1, 0, 1, 1, 1, 0, 1, 1, 1, 0, 0,\n",
       "       0, 1, 1, 1, 1, 0, 0, 0, 1, 0, 0, 1, 0, 1, 1, 1, 1, 1, 0, 1, 1, 1,\n",
       "       1, 0, 1, 1, 1, 0, 0, 0, 0, 0, 1, 1, 1, 1, 1, 1, 1, 1, 1, 0, 0, 1,\n",
       "       1, 1, 1, 1, 1, 1, 1, 1, 1, 1, 1, 1, 1, 1, 1, 1, 0, 0, 0, 1, 1, 1,\n",
       "       1, 1, 1, 1, 1, 1, 0, 1, 1, 1, 1, 1, 1, 1, 1, 1, 1, 1, 1, 1, 1, 0,\n",
       "       0, 0, 1, 1, 1, 1, 1, 0, 1, 1, 0, 0, 0, 1, 0, 0, 1, 0, 0, 0, 1, 1,\n",
       "       1, 1, 1, 1, 1, 1, 0, 1, 0, 1, 0, 0, 0, 1, 1, 1, 1, 1, 0, 1, 0, 0,\n",
       "       1, 1, 0, 0, 1, 1, 1, 1, 1, 0, 1, 1, 0, 0, 1, 0, 0, 1, 1, 1, 0, 1,\n",
       "       0, 1, 0, 1, 1, 1, 1, 1, 0, 1, 1, 1, 1, 1, 0, 1, 1, 0, 1, 1, 1, 1,\n",
       "       1, 1, 0, 1, 1, 1, 1, 0, 1, 1, 1, 0, 0, 1, 1, 1, 0, 1, 1, 0, 1, 0,\n",
       "       1, 1, 1, 1, 1, 1, 1, 0, 1, 0, 1, 1, 0, 0, 1, 0, 1, 0, 1, 1, 1, 1,\n",
       "       0, 0, 0, 0, 1, 0, 1, 0, 1, 0, 0, 0, 1, 1, 1, 1, 1, 0, 0, 1, 0, 0,\n",
       "       1, 0, 0, 1, 0, 0, 0, 0, 1, 1, 0, 0, 0, 1, 1, 0, 0, 1, 1, 0, 1, 1,\n",
       "       1, 0, 0, 0, 1, 0, 1, 1, 0, 0, 1, 1, 1, 0, 1, 0, 1, 1, 1, 0, 1, 1,\n",
       "       1, 1, 1, 0, 1, 0, 1, 1, 1, 1, 0, 1, 1, 1, 0, 1, 0, 0, 1, 1, 1, 0,\n",
       "       1, 0, 1, 1, 1, 0, 1, 0, 1, 1, 0, 0, 1, 1, 0, 0, 1, 0, 1, 1, 0, 0,\n",
       "       1, 0, 1, 0, 1, 1, 1, 0, 0, 1, 1, 0, 1, 0, 0, 0, 1, 0, 1, 0, 0, 1,\n",
       "       1, 0, 1, 1, 1, 1, 1, 0, 1, 1, 1, 0, 0, 1, 1, 0, 1, 1, 1, 1, 1, 1,\n",
       "       1, 1, 1, 0, 1, 1, 1, 0, 1, 1, 1, 1, 0, 0, 1, 1, 1, 1, 1, 1, 1, 0,\n",
       "       1, 0, 0, 1, 1, 1, 1, 0, 0, 1, 1, 1, 1, 0, 1, 1, 1, 1, 1, 1, 1, 1,\n",
       "       0, 0, 0, 1, 1, 1, 0, 1, 1, 1, 1, 1, 1, 1, 1, 0, 1, 1, 1, 0, 1, 0,\n",
       "       0, 1, 1, 1, 1, 1, 1, 0, 0, 1, 1, 1, 1, 1, 1, 1, 1, 0, 1, 1, 1, 0,\n",
       "       1, 0, 1, 1, 0, 1, 0, 0, 0, 0, 0, 1, 0, 0, 0, 1, 1, 1, 1, 0, 1, 1,\n",
       "       0, 1, 0, 1, 1, 1, 1, 1, 0, 1, 0, 0, 1, 1, 1, 0, 0, 1, 1, 1, 0, 1,\n",
       "       1, 1, 1, 1, 0, 0, 1, 1, 1, 1, 1, 0, 0, 0, 0, 1, 1, 1, 1, 1, 0, 1,\n",
       "       1, 1, 1, 1, 0, 1, 0, 0, 1, 1, 1, 1, 1, 1, 1, 1, 1, 0, 1, 1, 1, 1,\n",
       "       0, 1, 1, 1, 1, 1, 1, 1, 0, 1, 1, 1, 1, 1, 1, 1, 1, 1, 0, 1, 1, 1],\n",
       "      dtype=int64)"
      ]
     },
     "execution_count": 93,
     "metadata": {},
     "output_type": "execute_result"
    }
   ],
   "source": [
    "y_pred"
   ]
  },
  {
   "cell_type": "code",
   "execution_count": 94,
   "metadata": {},
   "outputs": [
    {
     "name": "stdout",
     "output_type": "stream",
     "text": [
      "[[231 284]\n",
      " [  0 189]]\n"
     ]
    }
   ],
   "source": [
    "print(confusion_matrix(y_test,y_pred))"
   ]
  },
  {
   "cell_type": "code",
   "execution_count": 95,
   "metadata": {},
   "outputs": [
    {
     "name": "stdout",
     "output_type": "stream",
     "text": [
      "0.5965909090909091\n"
     ]
    }
   ],
   "source": [
    "print(accuracy_score(y_test,y_pred))"
   ]
  },
  {
   "cell_type": "code",
   "execution_count": 96,
   "metadata": {},
   "outputs": [
    {
     "name": "stdout",
     "output_type": "stream",
     "text": [
      "              precision    recall  f1-score   support\n",
      "\n",
      "           0       1.00      0.45      0.62       515\n",
      "           1       0.40      1.00      0.57       189\n",
      "\n",
      "    accuracy                           0.60       704\n",
      "   macro avg       0.70      0.72      0.60       704\n",
      "weighted avg       0.84      0.60      0.61       704\n",
      "\n"
     ]
    }
   ],
   "source": [
    "print(classification_report(y_test,y_pred))"
   ]
  },
  {
   "cell_type": "code",
   "execution_count": 100,
   "metadata": {},
   "outputs": [
    {
     "data": {
      "text/plain": [
       "RandomizedSearchCV(cv=KFold(n_splits=5, random_state=None, shuffle=True),\n",
       "                   error_score=nan,\n",
       "                   estimator=LogisticRegression(C=1.0, class_weight=None,\n",
       "                                                dual=False, fit_intercept=True,\n",
       "                                                intercept_scaling=1,\n",
       "                                                l1_ratio=None, max_iter=500,\n",
       "                                                multi_class='auto', n_jobs=None,\n",
       "                                                penalty='l2', random_state=None,\n",
       "                                                solver='lbfgs', tol=0.0001,\n",
       "                                                verbose=0, warm_start=False),\n",
       "                   iid='deprecated', n_iter=6, n_jobs=-1,\n",
       "                   param_distributions={'C': [0.001, 0.01, 0.1],\n",
       "                                        'penalty': ['l1', 'l2'],\n",
       "                                        'solver': ['saga']},\n",
       "                   pre_dispatch='2*n_jobs', random_state=None, refit=True,\n",
       "                   return_train_score=False, scoring=None, verbose=0)"
      ]
     },
     "execution_count": 100,
     "metadata": {},
     "output_type": "execute_result"
    }
   ],
   "source": [
    "r_clf = RandomizedSearchCV(log,grid,cv = cv,n_jobs = -1,refit=True,n_iter=6)\n",
    "r_clf.fit(x_train,y_train)"
   ]
  },
  {
   "cell_type": "raw",
   "metadata": {},
   "source": [
    "r_pred = r_clf.predict(x_test)"
   ]
  },
  {
   "cell_type": "code",
   "execution_count": 101,
   "metadata": {},
   "outputs": [
    {
     "ename": "NameError",
     "evalue": "name 'r_pred' is not defined",
     "output_type": "error",
     "traceback": [
      "\u001b[1;31m---------------------------------------------------------------------------\u001b[0m",
      "\u001b[1;31mNameError\u001b[0m                                 Traceback (most recent call last)",
      "\u001b[1;32m<ipython-input-101-45a75af93245>\u001b[0m in \u001b[0;36m<module>\u001b[1;34m\u001b[0m\n\u001b[1;32m----> 1\u001b[1;33m \u001b[0mr_pred\u001b[0m\u001b[1;33m\u001b[0m\u001b[1;33m\u001b[0m\u001b[0m\n\u001b[0m",
      "\u001b[1;31mNameError\u001b[0m: name 'r_pred' is not defined"
     ]
    }
   ],
   "source": [
    "r_pred"
   ]
  },
  {
   "cell_type": "code",
   "execution_count": 102,
   "metadata": {},
   "outputs": [
    {
     "name": "stdout",
     "output_type": "stream",
     "text": [
      "              precision    recall  f1-score   support\n",
      "\n",
      "           0       1.00      0.45      0.62       515\n",
      "           1       0.40      1.00      0.57       189\n",
      "\n",
      "    accuracy                           0.60       704\n",
      "   macro avg       0.70      0.72      0.60       704\n",
      "weighted avg       0.84      0.60      0.61       704\n",
      "\n"
     ]
    }
   ],
   "source": [
    "print(classification_report(y_test,y_pred))"
   ]
  },
  {
   "cell_type": "code",
   "execution_count": 103,
   "metadata": {},
   "outputs": [
    {
     "data": {
      "text/plain": [
       "SVC(C=1.0, break_ties=False, cache_size=200, class_weight=None, coef0=0.0,\n",
       "    decision_function_shape='ovr', degree=3, gamma=1000, kernel='rbf',\n",
       "    max_iter=-1, probability=False, random_state=None, shrinking=True,\n",
       "    tol=0.001, verbose=False)"
      ]
     },
     "execution_count": 103,
     "metadata": {},
     "output_type": "execute_result"
    }
   ],
   "source": [
    "from sklearn.svm import SVC\n",
    "clf_svc = SVC(kernel = 'rbf',gamma = 1000)\n",
    "clf_svc.fit(x_train,y_train)"
   ]
  },
  {
   "cell_type": "code",
   "execution_count": 104,
   "metadata": {},
   "outputs": [
    {
     "name": "stdout",
     "output_type": "stream",
     "text": [
      "Fitting 5 folds for each of 150 candidates, totalling 750 fits\n",
      "[CV] C=0.1, degree=2, gamma=1, kernel=rbf ............................\n",
      "[CV]  C=0.1, degree=2, gamma=1, kernel=rbf, score=0.701, total=   0.1s\n",
      "[CV] C=0.1, degree=2, gamma=1, kernel=rbf ............................\n",
      "[CV]  C=0.1, degree=2, gamma=1, kernel=rbf, score=0.735, total=   0.1s\n",
      "[CV] C=0.1, degree=2, gamma=1, kernel=rbf ............................\n"
     ]
    },
    {
     "name": "stderr",
     "output_type": "stream",
     "text": [
      "[Parallel(n_jobs=1)]: Using backend SequentialBackend with 1 concurrent workers.\n",
      "C:\\Users\\Personal\\Anaconda3\\lib\\site-packages\\sklearn\\svm\\_base.py:231: ConvergenceWarning: Solver terminated early (max_iter=700).  Consider pre-processing your data with StandardScaler or MinMaxScaler.\n",
      "  % self.max_iter, ConvergenceWarning)\n",
      "[Parallel(n_jobs=1)]: Done   1 out of   1 | elapsed:    0.0s remaining:    0.0s\n",
      "C:\\Users\\Personal\\Anaconda3\\lib\\site-packages\\sklearn\\svm\\_base.py:231: ConvergenceWarning: Solver terminated early (max_iter=700).  Consider pre-processing your data with StandardScaler or MinMaxScaler.\n",
      "  % self.max_iter, ConvergenceWarning)\n",
      "[Parallel(n_jobs=1)]: Done   2 out of   2 | elapsed:    0.1s remaining:    0.0s\n",
      "C:\\Users\\Personal\\Anaconda3\\lib\\site-packages\\sklearn\\svm\\_base.py:231: ConvergenceWarning: Solver terminated early (max_iter=700).  Consider pre-processing your data with StandardScaler or MinMaxScaler.\n",
      "  % self.max_iter, ConvergenceWarning)\n",
      "C:\\Users\\Personal\\Anaconda3\\lib\\site-packages\\sklearn\\svm\\_base.py:231: ConvergenceWarning: Solver terminated early (max_iter=700).  Consider pre-processing your data with StandardScaler or MinMaxScaler.\n",
      "  % self.max_iter, ConvergenceWarning)\n"
     ]
    },
    {
     "name": "stdout",
     "output_type": "stream",
     "text": [
      "[CV]  C=0.1, degree=2, gamma=1, kernel=rbf, score=0.673, total=   0.1s\n",
      "[CV] C=0.1, degree=2, gamma=1, kernel=rbf ............................\n",
      "[CV]  C=0.1, degree=2, gamma=1, kernel=rbf, score=0.711, total=   0.1s\n",
      "[CV] C=0.1, degree=2, gamma=1, kernel=rbf ............................\n"
     ]
    },
    {
     "name": "stderr",
     "output_type": "stream",
     "text": [
      "C:\\Users\\Personal\\Anaconda3\\lib\\site-packages\\sklearn\\svm\\_base.py:231: ConvergenceWarning: Solver terminated early (max_iter=700).  Consider pre-processing your data with StandardScaler or MinMaxScaler.\n",
      "  % self.max_iter, ConvergenceWarning)\n",
      "C:\\Users\\Personal\\Anaconda3\\lib\\site-packages\\sklearn\\svm\\_base.py:231: ConvergenceWarning: Solver terminated early (max_iter=700).  Consider pre-processing your data with StandardScaler or MinMaxScaler.\n",
      "  % self.max_iter, ConvergenceWarning)\n",
      "C:\\Users\\Personal\\Anaconda3\\lib\\site-packages\\sklearn\\svm\\_base.py:231: ConvergenceWarning: Solver terminated early (max_iter=700).  Consider pre-processing your data with StandardScaler or MinMaxScaler.\n",
      "  % self.max_iter, ConvergenceWarning)\n",
      "C:\\Users\\Personal\\Anaconda3\\lib\\site-packages\\sklearn\\svm\\_base.py:231: ConvergenceWarning: Solver terminated early (max_iter=700).  Consider pre-processing your data with StandardScaler or MinMaxScaler.\n",
      "  % self.max_iter, ConvergenceWarning)\n",
      "C:\\Users\\Personal\\Anaconda3\\lib\\site-packages\\sklearn\\svm\\_base.py:231: ConvergenceWarning: Solver terminated early (max_iter=700).  Consider pre-processing your data with StandardScaler or MinMaxScaler.\n",
      "  % self.max_iter, ConvergenceWarning)\n"
     ]
    },
    {
     "name": "stdout",
     "output_type": "stream",
     "text": [
      "[CV]  C=0.1, degree=2, gamma=1, kernel=rbf, score=0.705, total=   0.1s\n",
      "[CV] C=0.1, degree=2, gamma=1, kernel=poly ...........................\n",
      "[CV]  C=0.1, degree=2, gamma=1, kernel=poly, score=1.000, total=   0.0s\n",
      "[CV] C=0.1, degree=2, gamma=1, kernel=poly ...........................\n",
      "[CV]  C=0.1, degree=2, gamma=1, kernel=poly, score=1.000, total=   0.0s\n",
      "[CV] C=0.1, degree=2, gamma=1, kernel=poly ...........................\n",
      "[CV]  C=0.1, degree=2, gamma=1, kernel=poly, score=1.000, total=   0.0s\n",
      "[CV] C=0.1, degree=2, gamma=1, kernel=poly ...........................\n",
      "[CV]  C=0.1, degree=2, gamma=1, kernel=poly, score=1.000, total=   0.0s\n",
      "[CV] C=0.1, degree=2, gamma=1, kernel=poly ...........................\n",
      "[CV]  C=0.1, degree=2, gamma=1, kernel=poly, score=1.000, total=   0.0s\n",
      "[CV] C=0.1, degree=2, gamma=0.1, kernel=rbf ..........................\n",
      "[CV]  C=0.1, degree=2, gamma=0.1, kernel=rbf, score=0.986, total=   0.0s\n",
      "[CV] C=0.1, degree=2, gamma=0.1, kernel=rbf ..........................\n",
      "[CV]  C=0.1, degree=2, gamma=0.1, kernel=rbf, score=0.981, total=   0.0s\n",
      "[CV] C=0.1, degree=2, gamma=0.1, kernel=rbf ..........................\n",
      "[CV]  C=0.1, degree=2, gamma=0.1, kernel=rbf, score=0.991, total=   0.0s\n",
      "[CV] C=0.1, degree=2, gamma=0.1, kernel=rbf ..........................\n",
      "[CV]  C=0.1, degree=2, gamma=0.1, kernel=rbf, score=0.986, total=   0.0s\n",
      "[CV] C=0.1, degree=2, gamma=0.1, kernel=rbf ..........................\n",
      "[CV]  C=0.1, degree=2, gamma=0.1, kernel=rbf, score=0.990, total=   0.0s\n",
      "[CV] C=0.1, degree=2, gamma=0.1, kernel=poly .........................\n",
      "[CV]  C=0.1, degree=2, gamma=0.1, kernel=poly, score=1.000, total=   0.0s\n",
      "[CV] C=0.1, degree=2, gamma=0.1, kernel=poly .........................\n",
      "[CV]  C=0.1, degree=2, gamma=0.1, kernel=poly, score=1.000, total=   0.0s\n",
      "[CV] C=0.1, degree=2, gamma=0.1, kernel=poly .........................\n",
      "[CV]  C=0.1, degree=2, gamma=0.1, kernel=poly, score=1.000, total=   0.0s\n",
      "[CV] C=0.1, degree=2, gamma=0.1, kernel=poly .........................\n",
      "[CV]  C=0.1, degree=2, gamma=0.1, kernel=poly, score=1.000, total=   0.0s"
     ]
    },
    {
     "name": "stderr",
     "output_type": "stream",
     "text": [
      "C:\\Users\\Personal\\Anaconda3\\lib\\site-packages\\sklearn\\svm\\_base.py:231: ConvergenceWarning: Solver terminated early (max_iter=700).  Consider pre-processing your data with StandardScaler or MinMaxScaler.\n",
      "  % self.max_iter, ConvergenceWarning)\n",
      "C:\\Users\\Personal\\Anaconda3\\lib\\site-packages\\sklearn\\svm\\_base.py:231: ConvergenceWarning: Solver terminated early (max_iter=700).  Consider pre-processing your data with StandardScaler or MinMaxScaler.\n",
      "  % self.max_iter, ConvergenceWarning)\n",
      "C:\\Users\\Personal\\Anaconda3\\lib\\site-packages\\sklearn\\svm\\_base.py:231: ConvergenceWarning: Solver terminated early (max_iter=700).  Consider pre-processing your data with StandardScaler or MinMaxScaler.\n",
      "  % self.max_iter, ConvergenceWarning)\n"
     ]
    },
    {
     "name": "stdout",
     "output_type": "stream",
     "text": [
      "\n",
      "[CV] C=0.1, degree=2, gamma=0.1, kernel=poly .........................\n",
      "[CV]  C=0.1, degree=2, gamma=0.1, kernel=poly, score=1.000, total=   0.0s\n",
      "[CV] C=0.1, degree=2, gamma=0.01, kernel=rbf .........................\n",
      "[CV]  C=0.1, degree=2, gamma=0.01, kernel=rbf, score=0.991, total=   0.1s\n",
      "[CV] C=0.1, degree=2, gamma=0.01, kernel=rbf .........................\n",
      "[CV]  C=0.1, degree=2, gamma=0.01, kernel=rbf, score=1.000, total=   0.1s\n",
      "[CV] C=0.1, degree=2, gamma=0.01, kernel=rbf .........................\n",
      "[CV]  C=0.1, degree=2, gamma=0.01, kernel=rbf, score=1.000, total=   0.0s\n",
      "[CV] C=0.1, degree=2, gamma=0.01, kernel=rbf .........................\n",
      "[CV]  C=0.1, degree=2, gamma=0.01, kernel=rbf, score=0.991, total=   0.0s\n",
      "[CV] C=0.1, degree=2, gamma=0.01, kernel=rbf .........................\n",
      "[CV]  C=0.1, degree=2, gamma=0.01, kernel=rbf, score=0.995, total=   0.0s\n",
      "[CV] C=0.1, degree=2, gamma=0.01, kernel=poly ........................\n",
      "[CV]  C=0.1, degree=2, gamma=0.01, kernel=poly, score=1.000, total=   0.0s\n",
      "[CV] C=0.1, degree=2, gamma=0.01, kernel=poly ........................\n",
      "[CV]  C=0.1, degree=2, gamma=0.01, kernel=poly, score=1.000, total=   0.0s\n",
      "[CV] C=0.1, degree=2, gamma=0.01, kernel=poly ........................\n",
      "[CV]  C=0.1, degree=2, gamma=0.01, kernel=poly, score=1.000, total=   0.0s\n",
      "[CV] C=0.1, degree=2, gamma=0.01, kernel=poly ........................\n",
      "[CV]  C=0.1, degree=2, gamma=0.01, kernel=poly, score=1.000, total=   0.0s\n",
      "[CV] C=0.1, degree=2, gamma=0.01, kernel=poly ........................\n",
      "[CV]  C=0.1, degree=2, gamma=0.01, kernel=poly, score=1.000, total=   0.0s\n",
      "[CV] C=0.1, degree=2, gamma=0.001, kernel=rbf ........................\n",
      "[CV]  C=0.1, degree=2, gamma=0.001, kernel=rbf, score=0.825, total=   0.1s\n",
      "[CV] C=0.1, degree=2, gamma=0.001, kernel=rbf ........................\n",
      "[CV]  C=0.1, degree=2, gamma=0.001, kernel=rbf, score=0.801, total=   0.0s\n",
      "[CV] C=0.1, degree=2, gamma=0.001, kernel=rbf ........................\n",
      "[CV]  C=0.1, degree=2, gamma=0.001, kernel=rbf, score=0.744, total=   0.0s\n",
      "[CV] C=0.1, degree=2, gamma=0.001, kernel=rbf ........................\n",
      "[CV]  C=0.1, degree=2, gamma=0.001, kernel=rbf, score=0.815, total=   0.0s\n",
      "[CV] C=0.1, degree=2, gamma=0.001, kernel=rbf ........................\n",
      "[CV]  C=0.1, degree=2, gamma=0.001, kernel=rbf, score=0.833, total=   0.0s\n",
      "[CV] C=0.1, degree=2, gamma=0.001, kernel=poly .......................\n",
      "[CV]  C=0.1, degree=2, gamma=0.001, kernel=poly, score=0.692, total=   0.0s\n",
      "[CV] C=0.1, degree=2, gamma=0.001, kernel=poly .......................\n",
      "[CV]  C=0.1, degree=2, gamma=0.001, kernel=poly, score=0.711, total=   0.0s\n",
      "[CV] C=0.1, degree=2, gamma=0.001, kernel=poly .......................\n",
      "[CV]  C=0.1, degree=2, gamma=0.001, kernel=poly, score=0.664, total=   0.0s\n",
      "[CV] C=0.1, degree=2, gamma=0.001, kernel=poly .......................\n",
      "[CV]  C=0.1, degree=2, gamma=0.001, kernel=poly, score=0.697, total=   0.0s\n",
      "[CV] C=0.1, degree=2, gamma=0.001, kernel=poly .......................\n",
      "[CV]  C=0.1, degree=2, gamma=0.001, kernel=poly, score=0.690, total=   0.0s\n",
      "[CV] C=0.1, degree=2, gamma=100, kernel=rbf ..........................\n"
     ]
    },
    {
     "name": "stderr",
     "output_type": "stream",
     "text": [
      "C:\\Users\\Personal\\Anaconda3\\lib\\site-packages\\sklearn\\svm\\_base.py:231: ConvergenceWarning: Solver terminated early (max_iter=700).  Consider pre-processing your data with StandardScaler or MinMaxScaler.\n",
      "  % self.max_iter, ConvergenceWarning)\n",
      "C:\\Users\\Personal\\Anaconda3\\lib\\site-packages\\sklearn\\svm\\_base.py:231: ConvergenceWarning: Solver terminated early (max_iter=700).  Consider pre-processing your data with StandardScaler or MinMaxScaler.\n",
      "  % self.max_iter, ConvergenceWarning)\n"
     ]
    },
    {
     "name": "stdout",
     "output_type": "stream",
     "text": [
      "[CV]  C=0.1, degree=2, gamma=100, kernel=rbf, score=0.701, total=   0.1s\n",
      "[CV] C=0.1, degree=2, gamma=100, kernel=rbf ..........................\n",
      "[CV]  C=0.1, degree=2, gamma=100, kernel=rbf, score=0.711, total=   0.1s\n",
      "[CV] C=0.1, degree=2, gamma=100, kernel=rbf ..........................\n"
     ]
    },
    {
     "name": "stderr",
     "output_type": "stream",
     "text": [
      "C:\\Users\\Personal\\Anaconda3\\lib\\site-packages\\sklearn\\svm\\_base.py:231: ConvergenceWarning: Solver terminated early (max_iter=700).  Consider pre-processing your data with StandardScaler or MinMaxScaler.\n",
      "  % self.max_iter, ConvergenceWarning)\n",
      "C:\\Users\\Personal\\Anaconda3\\lib\\site-packages\\sklearn\\svm\\_base.py:231: ConvergenceWarning: Solver terminated early (max_iter=700).  Consider pre-processing your data with StandardScaler or MinMaxScaler.\n",
      "  % self.max_iter, ConvergenceWarning)\n"
     ]
    },
    {
     "name": "stdout",
     "output_type": "stream",
     "text": [
      "[CV]  C=0.1, degree=2, gamma=100, kernel=rbf, score=0.673, total=   0.1s\n",
      "[CV] C=0.1, degree=2, gamma=100, kernel=rbf ..........................\n",
      "[CV]  C=0.1, degree=2, gamma=100, kernel=rbf, score=0.701, total=   0.1s\n",
      "[CV] C=0.1, degree=2, gamma=100, kernel=rbf ..........................\n"
     ]
    },
    {
     "name": "stderr",
     "output_type": "stream",
     "text": [
      "C:\\Users\\Personal\\Anaconda3\\lib\\site-packages\\sklearn\\svm\\_base.py:231: ConvergenceWarning: Solver terminated early (max_iter=700).  Consider pre-processing your data with StandardScaler or MinMaxScaler.\n",
      "  % self.max_iter, ConvergenceWarning)\n",
      "C:\\Users\\Personal\\Anaconda3\\lib\\site-packages\\sklearn\\svm\\_base.py:231: ConvergenceWarning: Solver terminated early (max_iter=700).  Consider pre-processing your data with StandardScaler or MinMaxScaler.\n",
      "  % self.max_iter, ConvergenceWarning)\n",
      "C:\\Users\\Personal\\Anaconda3\\lib\\site-packages\\sklearn\\svm\\_base.py:231: ConvergenceWarning: Solver terminated early (max_iter=700).  Consider pre-processing your data with StandardScaler or MinMaxScaler.\n",
      "  % self.max_iter, ConvergenceWarning)\n",
      "C:\\Users\\Personal\\Anaconda3\\lib\\site-packages\\sklearn\\svm\\_base.py:231: ConvergenceWarning: Solver terminated early (max_iter=700).  Consider pre-processing your data with StandardScaler or MinMaxScaler.\n",
      "  % self.max_iter, ConvergenceWarning)\n",
      "C:\\Users\\Personal\\Anaconda3\\lib\\site-packages\\sklearn\\svm\\_base.py:231: ConvergenceWarning: Solver terminated early (max_iter=700).  Consider pre-processing your data with StandardScaler or MinMaxScaler.\n",
      "  % self.max_iter, ConvergenceWarning)\n",
      "C:\\Users\\Personal\\Anaconda3\\lib\\site-packages\\sklearn\\svm\\_base.py:231: ConvergenceWarning: Solver terminated early (max_iter=700).  Consider pre-processing your data with StandardScaler or MinMaxScaler.\n",
      "  % self.max_iter, ConvergenceWarning)\n"
     ]
    },
    {
     "name": "stdout",
     "output_type": "stream",
     "text": [
      "[CV]  C=0.1, degree=2, gamma=100, kernel=rbf, score=0.705, total=   0.1s\n",
      "[CV] C=0.1, degree=2, gamma=100, kernel=poly .........................\n",
      "[CV]  C=0.1, degree=2, gamma=100, kernel=poly, score=1.000, total=   0.0s\n",
      "[CV] C=0.1, degree=2, gamma=100, kernel=poly .........................\n",
      "[CV]  C=0.1, degree=2, gamma=100, kernel=poly, score=1.000, total=   0.0s\n",
      "[CV] C=0.1, degree=2, gamma=100, kernel=poly .........................\n",
      "[CV]  C=0.1, degree=2, gamma=100, kernel=poly, score=1.000, total=   0.0s\n",
      "[CV] C=0.1, degree=2, gamma=100, kernel=poly .........................\n",
      "[CV]  C=0.1, degree=2, gamma=100, kernel=poly, score=1.000, total=   0.0s\n",
      "[CV] C=0.1, degree=2, gamma=100, kernel=poly .........................\n",
      "[CV]  C=0.1, degree=2, gamma=100, kernel=poly, score=1.000, total=   0.0s\n",
      "[CV] C=0.1, degree=3, gamma=1, kernel=rbf ............................\n",
      "[CV]  C=0.1, degree=3, gamma=1, kernel=rbf, score=0.701, total=   0.1s\n",
      "[CV] C=0.1, degree=3, gamma=1, kernel=rbf ............................\n"
     ]
    },
    {
     "name": "stderr",
     "output_type": "stream",
     "text": [
      "C:\\Users\\Personal\\Anaconda3\\lib\\site-packages\\sklearn\\svm\\_base.py:231: ConvergenceWarning: Solver terminated early (max_iter=700).  Consider pre-processing your data with StandardScaler or MinMaxScaler.\n",
      "  % self.max_iter, ConvergenceWarning)\n",
      "C:\\Users\\Personal\\Anaconda3\\lib\\site-packages\\sklearn\\svm\\_base.py:231: ConvergenceWarning: Solver terminated early (max_iter=700).  Consider pre-processing your data with StandardScaler or MinMaxScaler.\n",
      "  % self.max_iter, ConvergenceWarning)\n",
      "C:\\Users\\Personal\\Anaconda3\\lib\\site-packages\\sklearn\\svm\\_base.py:231: ConvergenceWarning: Solver terminated early (max_iter=700).  Consider pre-processing your data with StandardScaler or MinMaxScaler.\n",
      "  % self.max_iter, ConvergenceWarning)\n"
     ]
    },
    {
     "name": "stdout",
     "output_type": "stream",
     "text": [
      "[CV]  C=0.1, degree=3, gamma=1, kernel=rbf, score=0.735, total=   0.1s\n",
      "[CV] C=0.1, degree=3, gamma=1, kernel=rbf ............................\n",
      "[CV]  C=0.1, degree=3, gamma=1, kernel=rbf, score=0.673, total=   0.1s\n",
      "[CV] C=0.1, degree=3, gamma=1, kernel=rbf ............................\n",
      "[CV]  C=0.1, degree=3, gamma=1, kernel=rbf, score=0.711, total=   0.1s\n",
      "[CV] C=0.1, degree=3, gamma=1, kernel=rbf ............................\n"
     ]
    },
    {
     "name": "stderr",
     "output_type": "stream",
     "text": [
      "C:\\Users\\Personal\\Anaconda3\\lib\\site-packages\\sklearn\\svm\\_base.py:231: ConvergenceWarning: Solver terminated early (max_iter=700).  Consider pre-processing your data with StandardScaler or MinMaxScaler.\n",
      "  % self.max_iter, ConvergenceWarning)\n"
     ]
    },
    {
     "name": "stdout",
     "output_type": "stream",
     "text": [
      "[CV]  C=0.1, degree=3, gamma=1, kernel=rbf, score=0.705, total=   0.1s\n",
      "[CV] C=0.1, degree=3, gamma=1, kernel=poly ...........................\n",
      "[CV]  C=0.1, degree=3, gamma=1, kernel=poly, score=1.000, total=   0.0s\n",
      "[CV] C=0.1, degree=3, gamma=1, kernel=poly ...........................\n",
      "[CV]  C=0.1, degree=3, gamma=1, kernel=poly, score=1.000, total=   0.0s\n",
      "[CV] C=0.1, degree=3, gamma=1, kernel=poly ...........................\n",
      "[CV]  C=0.1, degree=3, gamma=1, kernel=poly, score=0.991, total=   0.0s\n",
      "[CV] C=0.1, degree=3, gamma=1, kernel=poly ...........................\n",
      "[CV]  C=0.1, degree=3, gamma=1, kernel=poly, score=1.000, total=   0.0s\n",
      "[CV] C=0.1, degree=3, gamma=1, kernel=poly ...........................\n",
      "[CV]  C=0.1, degree=3, gamma=1, kernel=poly, score=1.000, total=   0.0s\n",
      "[CV] C=0.1, degree=3, gamma=0.1, kernel=rbf ..........................\n",
      "[CV]  C=0.1, degree=3, gamma=0.1, kernel=rbf, score=0.986, total=   0.0s\n",
      "[CV] C=0.1, degree=3, gamma=0.1, kernel=rbf ..........................\n",
      "[CV]  C=0.1, degree=3, gamma=0.1, kernel=rbf, score=0.981, total=   0.0s\n",
      "[CV] C=0.1, degree=3, gamma=0.1, kernel=rbf ..........................\n",
      "[CV]  C=0.1, degree=3, gamma=0.1, kernel=rbf, score=0.991, total=   0.0s\n",
      "[CV] C=0.1, degree=3, gamma=0.1, kernel=rbf ..........................\n",
      "[CV]  C=0.1, degree=3, gamma=0.1, kernel=rbf, score=0.986, total=   0.0s\n",
      "[CV] C=0.1, degree=3, gamma=0.1, kernel=rbf ..........................\n",
      "[CV]  C=0.1, degree=3, gamma=0.1, kernel=rbf, score=0.990, total=   0.0s\n",
      "[CV] C=0.1, degree=3, gamma=0.1, kernel=poly .........................\n",
      "[CV]  C=0.1, degree=3, gamma=0.1, kernel=poly, score=1.000, total=   0.0s\n",
      "[CV] C=0.1, degree=3, gamma=0.1, kernel=poly .........................\n",
      "[CV]  C=0.1, degree=3, gamma=0.1, kernel=poly, score=1.000, total=   0.0s\n",
      "[CV] C=0.1, degree=3, gamma=0.1, kernel=poly .........................\n",
      "[CV]  C=0.1, degree=3, gamma=0.1, kernel=poly, score=0.991, total=   0.0s\n",
      "[CV] C=0.1, degree=3, gamma=0.1, kernel=poly .........................\n",
      "[CV]  C=0.1, degree=3, gamma=0.1, kernel=poly, score=1.000, total=   0.0s\n",
      "[CV] C=0.1, degree=3, gamma=0.1, kernel=poly .........................\n",
      "[CV]  C=0.1, degree=3, gamma=0.1, kernel=poly, score=1.000, total=   0.0s\n",
      "[CV] C=0.1, degree=3, gamma=0.01, kernel=rbf .........................\n",
      "[CV]  C=0.1, degree=3, gamma=0.01, kernel=rbf, score=0.991, total=   0.0s\n",
      "[CV] C=0.1, degree=3, gamma=0.01, kernel=rbf .........................\n",
      "[CV]  C=0.1, degree=3, gamma=0.01, kernel=rbf, score=1.000, total=   0.0s\n",
      "[CV] C=0.1, degree=3, gamma=0.01, kernel=rbf .........................\n",
      "[CV]  C=0.1, degree=3, gamma=0.01, kernel=rbf, score=1.000, total=   0.0s\n",
      "[CV] C=0.1, degree=3, gamma=0.01, kernel=rbf .........................\n"
     ]
    },
    {
     "name": "stderr",
     "output_type": "stream",
     "text": [
      "C:\\Users\\Personal\\Anaconda3\\lib\\site-packages\\sklearn\\svm\\_base.py:231: ConvergenceWarning: Solver terminated early (max_iter=700).  Consider pre-processing your data with StandardScaler or MinMaxScaler.\n",
      "  % self.max_iter, ConvergenceWarning)\n",
      "C:\\Users\\Personal\\Anaconda3\\lib\\site-packages\\sklearn\\svm\\_base.py:231: ConvergenceWarning: Solver terminated early (max_iter=700).  Consider pre-processing your data with StandardScaler or MinMaxScaler.\n",
      "  % self.max_iter, ConvergenceWarning)\n"
     ]
    },
    {
     "name": "stdout",
     "output_type": "stream",
     "text": [
      "[CV]  C=0.1, degree=3, gamma=0.01, kernel=rbf, score=0.991, total=   0.0s\n",
      "[CV] C=0.1, degree=3, gamma=0.01, kernel=rbf .........................\n",
      "[CV]  C=0.1, degree=3, gamma=0.01, kernel=rbf, score=0.995, total=   0.0s\n",
      "[CV] C=0.1, degree=3, gamma=0.01, kernel=poly ........................\n",
      "[CV]  C=0.1, degree=3, gamma=0.01, kernel=poly, score=0.972, total=   0.0s\n",
      "[CV] C=0.1, degree=3, gamma=0.01, kernel=poly ........................\n",
      "[CV]  C=0.1, degree=3, gamma=0.01, kernel=poly, score=1.000, total=   0.0s\n",
      "[CV] C=0.1, degree=3, gamma=0.01, kernel=poly ........................\n",
      "[CV]  C=0.1, degree=3, gamma=0.01, kernel=poly, score=0.991, total=   0.0s\n",
      "[CV] C=0.1, degree=3, gamma=0.01, kernel=poly ........................\n",
      "[CV]  C=0.1, degree=3, gamma=0.01, kernel=poly, score=0.991, total=   0.0s\n",
      "[CV] C=0.1, degree=3, gamma=0.01, kernel=poly ........................\n",
      "[CV]  C=0.1, degree=3, gamma=0.01, kernel=poly, score=0.971, total=   0.0s\n",
      "[CV] C=0.1, degree=3, gamma=0.001, kernel=rbf ........................\n",
      "[CV]  C=0.1, degree=3, gamma=0.001, kernel=rbf, score=0.825, total=   0.1s\n",
      "[CV] C=0.1, degree=3, gamma=0.001, kernel=rbf ........................\n",
      "[CV]  C=0.1, degree=3, gamma=0.001, kernel=rbf, score=0.801, total=   0.0s\n",
      "[CV] C=0.1, degree=3, gamma=0.001, kernel=rbf ........................\n",
      "[CV]  C=0.1, degree=3, gamma=0.001, kernel=rbf, score=0.744, total=   0.1s\n",
      "[CV] C=0.1, degree=3, gamma=0.001, kernel=rbf ........................\n",
      "[CV]  C=0.1, degree=3, gamma=0.001, kernel=rbf, score=0.815, total=   0.1s\n",
      "[CV] C=0.1, degree=3, gamma=0.001, kernel=rbf ........................\n",
      "[CV]  C=0.1, degree=3, gamma=0.001, kernel=rbf, score=0.833, total=   0.1s\n",
      "[CV] C=0.1, degree=3, gamma=0.001, kernel=poly .......................\n",
      "[CV]  C=0.1, degree=3, gamma=0.001, kernel=poly, score=0.692, total=   0.0s\n",
      "[CV] C=0.1, degree=3, gamma=0.001, kernel=poly .......................\n",
      "[CV]  C=0.1, degree=3, gamma=0.001, kernel=poly, score=0.711, total=   0.0s\n",
      "[CV] C=0.1, degree=3, gamma=0.001, kernel=poly .......................\n",
      "[CV]  C=0.1, degree=3, gamma=0.001, kernel=poly, score=0.664, total=   0.0s\n",
      "[CV] C=0.1, degree=3, gamma=0.001, kernel=poly .......................\n",
      "[CV]  C=0.1, degree=3, gamma=0.001, kernel=poly, score=0.697, total=   0.0s\n",
      "[CV] C=0.1, degree=3, gamma=0.001, kernel=poly .......................\n",
      "[CV]  C=0.1, degree=3, gamma=0.001, kernel=poly, score=0.690, total=   0.0s\n",
      "[CV] C=0.1, degree=3, gamma=100, kernel=rbf ..........................\n"
     ]
    },
    {
     "name": "stderr",
     "output_type": "stream",
     "text": [
      "C:\\Users\\Personal\\Anaconda3\\lib\\site-packages\\sklearn\\svm\\_base.py:231: ConvergenceWarning: Solver terminated early (max_iter=700).  Consider pre-processing your data with StandardScaler or MinMaxScaler.\n",
      "  % self.max_iter, ConvergenceWarning)\n",
      "C:\\Users\\Personal\\Anaconda3\\lib\\site-packages\\sklearn\\svm\\_base.py:231: ConvergenceWarning: Solver terminated early (max_iter=700).  Consider pre-processing your data with StandardScaler or MinMaxScaler.\n",
      "  % self.max_iter, ConvergenceWarning)\n"
     ]
    },
    {
     "name": "stdout",
     "output_type": "stream",
     "text": [
      "[CV]  C=0.1, degree=3, gamma=100, kernel=rbf, score=0.701, total=   0.1s\n",
      "[CV] C=0.1, degree=3, gamma=100, kernel=rbf ..........................\n",
      "[CV]  C=0.1, degree=3, gamma=100, kernel=rbf, score=0.711, total=   0.1s\n",
      "[CV] C=0.1, degree=3, gamma=100, kernel=rbf ..........................\n"
     ]
    },
    {
     "name": "stderr",
     "output_type": "stream",
     "text": [
      "C:\\Users\\Personal\\Anaconda3\\lib\\site-packages\\sklearn\\svm\\_base.py:231: ConvergenceWarning: Solver terminated early (max_iter=700).  Consider pre-processing your data with StandardScaler or MinMaxScaler.\n",
      "  % self.max_iter, ConvergenceWarning)\n",
      "C:\\Users\\Personal\\Anaconda3\\lib\\site-packages\\sklearn\\svm\\_base.py:231: ConvergenceWarning: Solver terminated early (max_iter=700).  Consider pre-processing your data with StandardScaler or MinMaxScaler.\n",
      "  % self.max_iter, ConvergenceWarning)\n"
     ]
    },
    {
     "name": "stdout",
     "output_type": "stream",
     "text": [
      "[CV]  C=0.1, degree=3, gamma=100, kernel=rbf, score=0.673, total=   0.2s\n",
      "[CV] C=0.1, degree=3, gamma=100, kernel=rbf ..........................\n",
      "[CV]  C=0.1, degree=3, gamma=100, kernel=rbf, score=0.701, total=   0.2s\n",
      "[CV] C=0.1, degree=3, gamma=100, kernel=rbf ..........................\n"
     ]
    },
    {
     "name": "stderr",
     "output_type": "stream",
     "text": [
      "C:\\Users\\Personal\\Anaconda3\\lib\\site-packages\\sklearn\\svm\\_base.py:231: ConvergenceWarning: Solver terminated early (max_iter=700).  Consider pre-processing your data with StandardScaler or MinMaxScaler.\n",
      "  % self.max_iter, ConvergenceWarning)\n",
      "C:\\Users\\Personal\\Anaconda3\\lib\\site-packages\\sklearn\\svm\\_base.py:231: ConvergenceWarning: Solver terminated early (max_iter=700).  Consider pre-processing your data with StandardScaler or MinMaxScaler.\n",
      "  % self.max_iter, ConvergenceWarning)\n"
     ]
    },
    {
     "name": "stdout",
     "output_type": "stream",
     "text": [
      "[CV]  C=0.1, degree=3, gamma=100, kernel=rbf, score=0.705, total=   0.1s\n",
      "[CV] C=0.1, degree=3, gamma=100, kernel=poly .........................\n",
      "[CV]  C=0.1, degree=3, gamma=100, kernel=poly, score=1.000, total=   0.0s\n",
      "[CV] C=0.1, degree=3, gamma=100, kernel=poly .........................\n",
      "[CV]  C=0.1, degree=3, gamma=100, kernel=poly, score=1.000, total=   0.0s\n",
      "[CV] C=0.1, degree=3, gamma=100, kernel=poly .........................\n",
      "[CV]  C=0.1, degree=3, gamma=100, kernel=poly, score=0.991, total=   0.0s\n",
      "[CV] C=0.1, degree=3, gamma=100, kernel=poly .........................\n",
      "[CV]  C=0.1, degree=3, gamma=100, kernel=poly, score=1.000, total=   0.0s\n",
      "[CV] C=0.1, degree=3, gamma=100, kernel=poly .........................\n",
      "[CV]  C=0.1, degree=3, gamma=100, kernel=poly, score=1.000, total=   0.0s\n",
      "[CV] C=0.1, degree=4, gamma=1, kernel=rbf ............................\n",
      "[CV]  C=0.1, degree=4, gamma=1, kernel=rbf, score=0.701, total=   0.1s\n",
      "[CV] C=0.1, degree=4, gamma=1, kernel=rbf ............................\n"
     ]
    },
    {
     "name": "stderr",
     "output_type": "stream",
     "text": [
      "C:\\Users\\Personal\\Anaconda3\\lib\\site-packages\\sklearn\\svm\\_base.py:231: ConvergenceWarning: Solver terminated early (max_iter=700).  Consider pre-processing your data with StandardScaler or MinMaxScaler.\n",
      "  % self.max_iter, ConvergenceWarning)\n",
      "C:\\Users\\Personal\\Anaconda3\\lib\\site-packages\\sklearn\\svm\\_base.py:231: ConvergenceWarning: Solver terminated early (max_iter=700).  Consider pre-processing your data with StandardScaler or MinMaxScaler.\n",
      "  % self.max_iter, ConvergenceWarning)\n",
      "C:\\Users\\Personal\\Anaconda3\\lib\\site-packages\\sklearn\\svm\\_base.py:231: ConvergenceWarning: Solver terminated early (max_iter=700).  Consider pre-processing your data with StandardScaler or MinMaxScaler.\n",
      "  % self.max_iter, ConvergenceWarning)\n"
     ]
    },
    {
     "name": "stdout",
     "output_type": "stream",
     "text": [
      "[CV]  C=0.1, degree=4, gamma=1, kernel=rbf, score=0.735, total=   0.1s\n",
      "[CV] C=0.1, degree=4, gamma=1, kernel=rbf ............................\n",
      "[CV]  C=0.1, degree=4, gamma=1, kernel=rbf, score=0.673, total=   0.1s\n",
      "[CV] C=0.1, degree=4, gamma=1, kernel=rbf ............................\n",
      "[CV]  C=0.1, degree=4, gamma=1, kernel=rbf, score=0.711, total=   0.1s\n",
      "[CV] C=0.1, degree=4, gamma=1, kernel=rbf ............................\n"
     ]
    },
    {
     "name": "stderr",
     "output_type": "stream",
     "text": [
      "C:\\Users\\Personal\\Anaconda3\\lib\\site-packages\\sklearn\\svm\\_base.py:231: ConvergenceWarning: Solver terminated early (max_iter=700).  Consider pre-processing your data with StandardScaler or MinMaxScaler.\n",
      "  % self.max_iter, ConvergenceWarning)\n"
     ]
    },
    {
     "name": "stdout",
     "output_type": "stream",
     "text": [
      "[CV]  C=0.1, degree=4, gamma=1, kernel=rbf, score=0.705, total=   0.1s\n",
      "[CV] C=0.1, degree=4, gamma=1, kernel=poly ...........................\n",
      "[CV]  C=0.1, degree=4, gamma=1, kernel=poly, score=1.000, total=   0.0s\n",
      "[CV] C=0.1, degree=4, gamma=1, kernel=poly ...........................\n",
      "[CV]  C=0.1, degree=4, gamma=1, kernel=poly, score=1.000, total=   0.0s\n",
      "[CV] C=0.1, degree=4, gamma=1, kernel=poly ...........................\n",
      "[CV]  C=0.1, degree=4, gamma=1, kernel=poly, score=0.991, total=   0.0s\n",
      "[CV] C=0.1, degree=4, gamma=1, kernel=poly ...........................\n",
      "[CV]  C=0.1, degree=4, gamma=1, kernel=poly, score=1.000, total=   0.0s\n",
      "[CV] C=0.1, degree=4, gamma=1, kernel=poly ...........................\n",
      "[CV]  C=0.1, degree=4, gamma=1, kernel=poly, score=1.000, total=   0.0s\n",
      "[CV] C=0.1, degree=4, gamma=0.1, kernel=rbf ..........................\n",
      "[CV]  C=0.1, degree=4, gamma=0.1, kernel=rbf, score=0.986, total=   0.0s\n",
      "[CV] C=0.1, degree=4, gamma=0.1, kernel=rbf ..........................\n",
      "[CV]  C=0.1, degree=4, gamma=0.1, kernel=rbf, score=0.981, total=   0.0s\n",
      "[CV] C=0.1, degree=4, gamma=0.1, kernel=rbf ..........................\n",
      "[CV]  C=0.1, degree=4, gamma=0.1, kernel=rbf, score=0.991, total=   0.0s\n",
      "[CV] C=0.1, degree=4, gamma=0.1, kernel=rbf ..........................\n",
      "[CV]  C=0.1, degree=4, gamma=0.1, kernel=rbf, score=0.986, total=   0.0s\n",
      "[CV] C=0.1, degree=4, gamma=0.1, kernel=rbf ..........................\n",
      "[CV]  C=0.1, degree=4, gamma=0.1, kernel=rbf, score=0.990, total=   0.0s\n",
      "[CV] C=0.1, degree=4, gamma=0.1, kernel=poly .........................\n",
      "[CV]  C=0.1, degree=4, gamma=0.1, kernel=poly, score=1.000, total=   0.0s\n",
      "[CV] C=0.1, degree=4, gamma=0.1, kernel=poly .........................\n",
      "[CV]  C=0.1, degree=4, gamma=0.1, kernel=poly, score=1.000, total=   0.0s\n",
      "[CV] C=0.1, degree=4, gamma=0.1, kernel=poly .........................\n",
      "[CV]  C=0.1, degree=4, gamma=0.1, kernel=poly, score=0.991, total=   0.0s\n",
      "[CV] C=0.1, degree=4, gamma=0.1, kernel=poly .........................\n",
      "[CV]  C=0.1, degree=4, gamma=0.1, kernel=poly, score=1.000, total=   0.0s\n",
      "[CV] C=0.1, degree=4, gamma=0.1, kernel=poly .........................\n",
      "[CV]  C=0.1, degree=4, gamma=0.1, kernel=poly, score=1.000, total=   0.0s\n",
      "[CV] C=0.1, degree=4, gamma=0.01, kernel=rbf .........................\n",
      "[CV]  C=0.1, degree=4, gamma=0.01, kernel=rbf, score=0.991, total=   0.0s\n",
      "[CV] C=0.1, degree=4, gamma=0.01, kernel=rbf .........................\n",
      "[CV]  C=0.1, degree=4, gamma=0.01, kernel=rbf, score=1.000, total=   0.0s\n",
      "[CV] C=0.1, degree=4, gamma=0.01, kernel=rbf .........................\n",
      "[CV]  C=0.1, degree=4, gamma=0.01, kernel=rbf, score=1.000, total=   0.0s\n",
      "[CV] C=0.1, degree=4, gamma=0.01, kernel=rbf .........................\n",
      "[CV]  C=0.1, degree=4, gamma=0.01, kernel=rbf, score=0.991, total=   0.0s\n",
      "[CV] C=0.1, degree=4, gamma=0.01, kernel=rbf .........................\n",
      "[CV]  C=0.1, degree=4, gamma=0.01, kernel=rbf, score=0.995, total=   0.0s\n",
      "[CV] C=0.1, degree=4, gamma=0.01, kernel=poly ........................\n",
      "[CV]  C=0.1, degree=4, gamma=0.01, kernel=poly, score=0.948, total=   0.0s\n",
      "[CV] C=0.1, degree=4, gamma=0.01, kernel=poly ........................\n",
      "[CV]  C=0.1, degree=4, gamma=0.01, kernel=poly, score=0.995, total=   0.0s\n",
      "[CV] C=0.1, degree=4, gamma=0.01, kernel=poly ........................\n",
      "[CV]  C=0.1, degree=4, gamma=0.01, kernel=poly, score=0.981, total=   0.0s\n",
      "[CV] C=0.1, degree=4, gamma=0.01, kernel=poly ........................\n",
      "[CV]  C=0.1, degree=4, gamma=0.01, kernel=poly, score=0.976, total=   0.0s\n",
      "[CV] C=0.1, degree=4, gamma=0.01, kernel=poly ........................\n",
      "[CV]  C=0.1, degree=4, gamma=0.01, kernel=poly, score=0.962, total=   0.0s\n",
      "[CV] C=0.1, degree=4, gamma=0.001, kernel=rbf ........................\n",
      "[CV]  C=0.1, degree=4, gamma=0.001, kernel=rbf, score=0.825, total=   0.1s\n",
      "[CV] C=0.1, degree=4, gamma=0.001, kernel=rbf ........................\n",
      "[CV]  C=0.1, degree=4, gamma=0.001, kernel=rbf, score=0.801, total=   0.1s\n",
      "[CV] C=0.1, degree=4, gamma=0.001, kernel=rbf ........................\n",
      "[CV]  C=0.1, degree=4, gamma=0.001, kernel=rbf, score=0.744, total=   0.0s\n",
      "[CV] C=0.1, degree=4, gamma=0.001, kernel=rbf ........................\n",
      "[CV]  C=0.1, degree=4, gamma=0.001, kernel=rbf, score=0.815, total=   0.1s\n",
      "[CV] C=0.1, degree=4, gamma=0.001, kernel=rbf ........................\n",
      "[CV]  C=0.1, degree=4, gamma=0.001, kernel=rbf, score=0.833, total=   0.0s\n",
      "[CV] C=0.1, degree=4, gamma=0.001, kernel=poly .......................\n",
      "[CV]  C=0.1, degree=4, gamma=0.001, kernel=poly, score=0.692, total=   0.0s\n",
      "[CV] C=0.1, degree=4, gamma=0.001, kernel=poly .......................\n",
      "[CV]  C=0.1, degree=4, gamma=0.001, kernel=poly, score=0.711, total=   0.0s\n",
      "[CV] C=0.1, degree=4, gamma=0.001, kernel=poly .......................\n",
      "[CV]  C=0.1, degree=4, gamma=0.001, kernel=poly, score=0.664, total=   0.0s\n",
      "[CV] C=0.1, degree=4, gamma=0.001, kernel=poly .......................\n",
      "[CV]  C=0.1, degree=4, gamma=0.001, kernel=poly, score=0.697, total=   0.0s\n",
      "[CV] C=0.1, degree=4, gamma=0.001, kernel=poly .......................\n",
      "[CV]  C=0.1, degree=4, gamma=0.001, kernel=poly, score=0.690, total=   0.0s\n",
      "[CV] C=0.1, degree=4, gamma=100, kernel=rbf ..........................\n"
     ]
    },
    {
     "name": "stderr",
     "output_type": "stream",
     "text": [
      "C:\\Users\\Personal\\Anaconda3\\lib\\site-packages\\sklearn\\svm\\_base.py:231: ConvergenceWarning: Solver terminated early (max_iter=700).  Consider pre-processing your data with StandardScaler or MinMaxScaler.\n",
      "  % self.max_iter, ConvergenceWarning)\n",
      "C:\\Users\\Personal\\Anaconda3\\lib\\site-packages\\sklearn\\svm\\_base.py:231: ConvergenceWarning: Solver terminated early (max_iter=700).  Consider pre-processing your data with StandardScaler or MinMaxScaler.\n",
      "  % self.max_iter, ConvergenceWarning)\n"
     ]
    },
    {
     "name": "stdout",
     "output_type": "stream",
     "text": [
      "[CV]  C=0.1, degree=4, gamma=100, kernel=rbf, score=0.701, total=   0.1s\n",
      "[CV] C=0.1, degree=4, gamma=100, kernel=rbf ..........................\n",
      "[CV]  C=0.1, degree=4, gamma=100, kernel=rbf, score=0.711, total=   0.1s\n",
      "[CV] C=0.1, degree=4, gamma=100, kernel=rbf ..........................\n"
     ]
    },
    {
     "name": "stderr",
     "output_type": "stream",
     "text": [
      "C:\\Users\\Personal\\Anaconda3\\lib\\site-packages\\sklearn\\svm\\_base.py:231: ConvergenceWarning: Solver terminated early (max_iter=700).  Consider pre-processing your data with StandardScaler or MinMaxScaler.\n",
      "  % self.max_iter, ConvergenceWarning)\n",
      "C:\\Users\\Personal\\Anaconda3\\lib\\site-packages\\sklearn\\svm\\_base.py:231: ConvergenceWarning: Solver terminated early (max_iter=700).  Consider pre-processing your data with StandardScaler or MinMaxScaler.\n",
      "  % self.max_iter, ConvergenceWarning)\n"
     ]
    },
    {
     "name": "stdout",
     "output_type": "stream",
     "text": [
      "[CV]  C=0.1, degree=4, gamma=100, kernel=rbf, score=0.673, total=   0.1s\n",
      "[CV] C=0.1, degree=4, gamma=100, kernel=rbf ..........................\n",
      "[CV]  C=0.1, degree=4, gamma=100, kernel=rbf, score=0.701, total=   0.2s\n",
      "[CV] C=0.1, degree=4, gamma=100, kernel=rbf ..........................\n"
     ]
    },
    {
     "name": "stderr",
     "output_type": "stream",
     "text": [
      "C:\\Users\\Personal\\Anaconda3\\lib\\site-packages\\sklearn\\svm\\_base.py:231: ConvergenceWarning: Solver terminated early (max_iter=700).  Consider pre-processing your data with StandardScaler or MinMaxScaler.\n",
      "  % self.max_iter, ConvergenceWarning)\n",
      "C:\\Users\\Personal\\Anaconda3\\lib\\site-packages\\sklearn\\svm\\_base.py:231: ConvergenceWarning: Solver terminated early (max_iter=700).  Consider pre-processing your data with StandardScaler or MinMaxScaler.\n",
      "  % self.max_iter, ConvergenceWarning)\n"
     ]
    },
    {
     "name": "stdout",
     "output_type": "stream",
     "text": [
      "[CV]  C=0.1, degree=4, gamma=100, kernel=rbf, score=0.705, total=   0.1s\n",
      "[CV] C=0.1, degree=4, gamma=100, kernel=poly .........................\n",
      "[CV]  C=0.1, degree=4, gamma=100, kernel=poly, score=1.000, total=   0.0s\n",
      "[CV] C=0.1, degree=4, gamma=100, kernel=poly .........................\n",
      "[CV]  C=0.1, degree=4, gamma=100, kernel=poly, score=1.000, total=   0.0s\n",
      "[CV] C=0.1, degree=4, gamma=100, kernel=poly .........................\n",
      "[CV]  C=0.1, degree=4, gamma=100, kernel=poly, score=0.991, total=   0.0s\n",
      "[CV] C=0.1, degree=4, gamma=100, kernel=poly .........................\n",
      "[CV]  C=0.1, degree=4, gamma=100, kernel=poly, score=1.000, total=   0.0s\n",
      "[CV] C=0.1, degree=4, gamma=100, kernel=poly .........................\n",
      "[CV]  C=0.1, degree=4, gamma=100, kernel=poly, score=1.000, total=   0.0s\n",
      "[CV] C=1, degree=2, gamma=1, kernel=rbf ..............................\n",
      "[CV] .. C=1, degree=2, gamma=1, kernel=rbf, score=0.867, total=   0.1s\n",
      "[CV] C=1, degree=2, gamma=1, kernel=rbf ..............................\n"
     ]
    },
    {
     "name": "stderr",
     "output_type": "stream",
     "text": [
      "C:\\Users\\Personal\\Anaconda3\\lib\\site-packages\\sklearn\\svm\\_base.py:231: ConvergenceWarning: Solver terminated early (max_iter=700).  Consider pre-processing your data with StandardScaler or MinMaxScaler.\n",
      "  % self.max_iter, ConvergenceWarning)\n",
      "C:\\Users\\Personal\\Anaconda3\\lib\\site-packages\\sklearn\\svm\\_base.py:231: ConvergenceWarning: Solver terminated early (max_iter=700).  Consider pre-processing your data with StandardScaler or MinMaxScaler.\n",
      "  % self.max_iter, ConvergenceWarning)\n",
      "C:\\Users\\Personal\\Anaconda3\\lib\\site-packages\\sklearn\\svm\\_base.py:231: ConvergenceWarning: Solver terminated early (max_iter=700).  Consider pre-processing your data with StandardScaler or MinMaxScaler.\n",
      "  % self.max_iter, ConvergenceWarning)\n",
      "C:\\Users\\Personal\\Anaconda3\\lib\\site-packages\\sklearn\\svm\\_base.py:231: ConvergenceWarning: Solver terminated early (max_iter=700).  Consider pre-processing your data with StandardScaler or MinMaxScaler.\n",
      "  % self.max_iter, ConvergenceWarning)\n"
     ]
    },
    {
     "name": "stdout",
     "output_type": "stream",
     "text": [
      "[CV] .. C=1, degree=2, gamma=1, kernel=rbf, score=0.896, total=   0.1s\n",
      "[CV] C=1, degree=2, gamma=1, kernel=rbf ..............................\n",
      "[CV] .. C=1, degree=2, gamma=1, kernel=rbf, score=0.858, total=   0.1s\n",
      "[CV] C=1, degree=2, gamma=1, kernel=rbf ..............................\n",
      "[CV] .. C=1, degree=2, gamma=1, kernel=rbf, score=0.867, total=   0.1s\n",
      "[CV] C=1, degree=2, gamma=1, kernel=rbf ..............................\n",
      "[CV] .. C=1, degree=2, gamma=1, kernel=rbf, score=0.895, total=   0.1s\n",
      "[CV] C=1, degree=2, gamma=1, kernel=poly .............................\n",
      "[CV] . C=1, degree=2, gamma=1, kernel=poly, score=1.000, total=   0.0s\n",
      "[CV] C=1, degree=2, gamma=1, kernel=poly .............................\n",
      "[CV] . C=1, degree=2, gamma=1, kernel=poly, score=1.000, total=   0.0s\n",
      "[CV] C=1, degree=2, gamma=1, kernel=poly .............................\n",
      "[CV] . C=1, degree=2, gamma=1, kernel=poly, score=1.000, total=   0.0s\n",
      "[CV] C=1, degree=2, gamma=1, kernel=poly .............................\n",
      "[CV] . C=1, degree=2, gamma=1, kernel=poly, score=1.000, total=   0.0s\n",
      "[CV] C=1, degree=2, gamma=1, kernel=poly .............................\n",
      "[CV] . C=1, degree=2, gamma=1, kernel=poly, score=1.000, total=   0.0s\n",
      "[CV] C=1, degree=2, gamma=0.1, kernel=rbf ............................\n",
      "[CV]  C=1, degree=2, gamma=0.1, kernel=rbf, score=1.000, total=   0.0s\n",
      "[CV] C=1, degree=2, gamma=0.1, kernel=rbf ............................\n",
      "[CV]  C=1, degree=2, gamma=0.1, kernel=rbf, score=1.000, total=   0.0s\n",
      "[CV] C=1, degree=2, gamma=0.1, kernel=rbf ............................\n",
      "[CV]  C=1, degree=2, gamma=0.1, kernel=rbf, score=1.000, total=   0.0s\n",
      "[CV] C=1, degree=2, gamma=0.1, kernel=rbf ............................\n",
      "[CV]  C=1, degree=2, gamma=0.1, kernel=rbf, score=0.995, total=   0.0s\n",
      "[CV] C=1, degree=2, gamma=0.1, kernel=rbf ............................\n",
      "[CV]  C=1, degree=2, gamma=0.1, kernel=rbf, score=1.000, total=   0.0s\n",
      "[CV] C=1, degree=2, gamma=0.1, kernel=poly ...........................\n"
     ]
    },
    {
     "name": "stderr",
     "output_type": "stream",
     "text": [
      "C:\\Users\\Personal\\Anaconda3\\lib\\site-packages\\sklearn\\svm\\_base.py:231: ConvergenceWarning: Solver terminated early (max_iter=700).  Consider pre-processing your data with StandardScaler or MinMaxScaler.\n",
      "  % self.max_iter, ConvergenceWarning)\n",
      "C:\\Users\\Personal\\Anaconda3\\lib\\site-packages\\sklearn\\svm\\_base.py:231: ConvergenceWarning: Solver terminated early (max_iter=700).  Consider pre-processing your data with StandardScaler or MinMaxScaler.\n",
      "  % self.max_iter, ConvergenceWarning)\n",
      "C:\\Users\\Personal\\Anaconda3\\lib\\site-packages\\sklearn\\svm\\_base.py:231: ConvergenceWarning: Solver terminated early (max_iter=700).  Consider pre-processing your data with StandardScaler or MinMaxScaler.\n",
      "  % self.max_iter, ConvergenceWarning)\n",
      "C:\\Users\\Personal\\Anaconda3\\lib\\site-packages\\sklearn\\svm\\_base.py:231: ConvergenceWarning: Solver terminated early (max_iter=700).  Consider pre-processing your data with StandardScaler or MinMaxScaler.\n",
      "  % self.max_iter, ConvergenceWarning)\n",
      "C:\\Users\\Personal\\Anaconda3\\lib\\site-packages\\sklearn\\svm\\_base.py:231: ConvergenceWarning: Solver terminated early (max_iter=700).  Consider pre-processing your data with StandardScaler or MinMaxScaler.\n",
      "  % self.max_iter, ConvergenceWarning)\n",
      "C:\\Users\\Personal\\Anaconda3\\lib\\site-packages\\sklearn\\svm\\_base.py:231: ConvergenceWarning: Solver terminated early (max_iter=700).  Consider pre-processing your data with StandardScaler or MinMaxScaler.\n",
      "  % self.max_iter, ConvergenceWarning)\n",
      "C:\\Users\\Personal\\Anaconda3\\lib\\site-packages\\sklearn\\svm\\_base.py:231: ConvergenceWarning: Solver terminated early (max_iter=700).  Consider pre-processing your data with StandardScaler or MinMaxScaler.\n",
      "  % self.max_iter, ConvergenceWarning)\n",
      "C:\\Users\\Personal\\Anaconda3\\lib\\site-packages\\sklearn\\svm\\_base.py:231: ConvergenceWarning: Solver terminated early (max_iter=700).  Consider pre-processing your data with StandardScaler or MinMaxScaler.\n",
      "  % self.max_iter, ConvergenceWarning)\n"
     ]
    },
    {
     "name": "stdout",
     "output_type": "stream",
     "text": [
      "[CV]  C=1, degree=2, gamma=0.1, kernel=poly, score=1.000, total=   0.0s\n",
      "[CV] C=1, degree=2, gamma=0.1, kernel=poly ...........................\n",
      "[CV]  C=1, degree=2, gamma=0.1, kernel=poly, score=1.000, total=   0.0s\n",
      "[CV] C=1, degree=2, gamma=0.1, kernel=poly ...........................\n",
      "[CV]  C=1, degree=2, gamma=0.1, kernel=poly, score=1.000, total=   0.0s\n",
      "[CV] C=1, degree=2, gamma=0.1, kernel=poly ...........................\n",
      "[CV]  C=1, degree=2, gamma=0.1, kernel=poly, score=1.000, total=   0.0s\n",
      "[CV] C=1, degree=2, gamma=0.1, kernel=poly ...........................\n",
      "[CV]  C=1, degree=2, gamma=0.1, kernel=poly, score=1.000, total=   0.0s\n",
      "[CV] C=1, degree=2, gamma=0.01, kernel=rbf ...........................\n",
      "[CV]  C=1, degree=2, gamma=0.01, kernel=rbf, score=1.000, total=   0.0s\n",
      "[CV] C=1, degree=2, gamma=0.01, kernel=rbf ...........................\n",
      "[CV]  C=1, degree=2, gamma=0.01, kernel=rbf, score=1.000, total=   0.0s\n",
      "[CV] C=1, degree=2, gamma=0.01, kernel=rbf ...........................\n",
      "[CV]  C=1, degree=2, gamma=0.01, kernel=rbf, score=1.000, total=   0.0s\n",
      "[CV] C=1, degree=2, gamma=0.01, kernel=rbf ...........................\n",
      "[CV]  C=1, degree=2, gamma=0.01, kernel=rbf, score=1.000, total=   0.0s\n",
      "[CV] C=1, degree=2, gamma=0.01, kernel=rbf ...........................\n",
      "[CV]  C=1, degree=2, gamma=0.01, kernel=rbf, score=1.000, total=   0.0s\n",
      "[CV] C=1, degree=2, gamma=0.01, kernel=poly ..........................\n",
      "[CV]  C=1, degree=2, gamma=0.01, kernel=poly, score=1.000, total=   0.0s\n",
      "[CV] C=1, degree=2, gamma=0.01, kernel=poly ..........................\n",
      "[CV]  C=1, degree=2, gamma=0.01, kernel=poly, score=1.000, total=   0.0s\n",
      "[CV] C=1, degree=2, gamma=0.01, kernel=poly ..........................\n",
      "[CV]  C=1, degree=2, gamma=0.01, kernel=poly, score=1.000, total=   0.0s\n",
      "[CV] C=1, degree=2, gamma=0.01, kernel=poly ..........................\n",
      "[CV]  C=1, degree=2, gamma=0.01, kernel=poly, score=1.000, total=   0.0s\n",
      "[CV] C=1, degree=2, gamma=0.01, kernel=poly ..........................\n",
      "[CV]  C=1, degree=2, gamma=0.01, kernel=poly, score=1.000, total=   0.0s\n",
      "[CV] C=1, degree=2, gamma=0.001, kernel=rbf ..........................\n",
      "[CV]  C=1, degree=2, gamma=0.001, kernel=rbf, score=1.000, total=   0.0s\n",
      "[CV] C=1, degree=2, gamma=0.001, kernel=rbf ..........................\n",
      "[CV]  C=1, degree=2, gamma=0.001, kernel=rbf, score=1.000, total=   0.0s\n",
      "[CV] C=1, degree=2, gamma=0.001, kernel=rbf ..........................\n",
      "[CV]  C=1, degree=2, gamma=0.001, kernel=rbf, score=1.000, total=   0.0s\n",
      "[CV] C=1, degree=2, gamma=0.001, kernel=rbf ..........................\n",
      "[CV]  C=1, degree=2, gamma=0.001, kernel=rbf, score=0.991, total=   0.0s\n",
      "[CV] C=1, degree=2, gamma=0.001, kernel=rbf ..........................\n",
      "[CV]  C=1, degree=2, gamma=0.001, kernel=rbf, score=1.000, total=   0.0s\n",
      "[CV] C=1, degree=2, gamma=0.001, kernel=poly .........................\n",
      "[CV]  C=1, degree=2, gamma=0.001, kernel=poly, score=0.697, total=   0.0s\n",
      "[CV] C=1, degree=2, gamma=0.001, kernel=poly .........................\n",
      "[CV]  C=1, degree=2, gamma=0.001, kernel=poly, score=0.716, total=   0.0s\n",
      "[CV] C=1, degree=2, gamma=0.001, kernel=poly .........................\n",
      "[CV]  C=1, degree=2, gamma=0.001, kernel=poly, score=0.664, total=   0.0s\n",
      "[CV] C=1, degree=2, gamma=0.001, kernel=poly .........................\n",
      "[CV]  C=1, degree=2, gamma=0.001, kernel=poly, score=0.716, total=   0.0s\n",
      "[CV] C=1, degree=2, gamma=0.001, kernel=poly .........................\n",
      "[CV]  C=1, degree=2, gamma=0.001, kernel=poly, score=0.695, total=   0.0s\n",
      "[CV] C=1, degree=2, gamma=100, kernel=rbf ............................\n",
      "[CV]  C=1, degree=2, gamma=100, kernel=rbf, score=0.763, total=   0.1s\n",
      "[CV] C=1, degree=2, gamma=100, kernel=rbf ............................\n"
     ]
    },
    {
     "name": "stderr",
     "output_type": "stream",
     "text": [
      "C:\\Users\\Personal\\Anaconda3\\lib\\site-packages\\sklearn\\svm\\_base.py:231: ConvergenceWarning: Solver terminated early (max_iter=700).  Consider pre-processing your data with StandardScaler or MinMaxScaler.\n",
      "  % self.max_iter, ConvergenceWarning)\n",
      "C:\\Users\\Personal\\Anaconda3\\lib\\site-packages\\sklearn\\svm\\_base.py:231: ConvergenceWarning: Solver terminated early (max_iter=700).  Consider pre-processing your data with StandardScaler or MinMaxScaler.\n",
      "  % self.max_iter, ConvergenceWarning)\n"
     ]
    },
    {
     "name": "stdout",
     "output_type": "stream",
     "text": [
      "[CV]  C=1, degree=2, gamma=100, kernel=rbf, score=0.796, total=   0.1s\n",
      "[CV] C=1, degree=2, gamma=100, kernel=rbf ............................\n",
      "[CV]  C=1, degree=2, gamma=100, kernel=rbf, score=0.730, total=   0.1s\n",
      "[CV] C=1, degree=2, gamma=100, kernel=rbf ............................\n"
     ]
    },
    {
     "name": "stderr",
     "output_type": "stream",
     "text": [
      "C:\\Users\\Personal\\Anaconda3\\lib\\site-packages\\sklearn\\svm\\_base.py:231: ConvergenceWarning: Solver terminated early (max_iter=700).  Consider pre-processing your data with StandardScaler or MinMaxScaler.\n",
      "  % self.max_iter, ConvergenceWarning)\n",
      "C:\\Users\\Personal\\Anaconda3\\lib\\site-packages\\sklearn\\svm\\_base.py:231: ConvergenceWarning: Solver terminated early (max_iter=700).  Consider pre-processing your data with StandardScaler or MinMaxScaler.\n",
      "  % self.max_iter, ConvergenceWarning)\n"
     ]
    },
    {
     "name": "stdout",
     "output_type": "stream",
     "text": [
      "[CV]  C=1, degree=2, gamma=100, kernel=rbf, score=0.763, total=   0.1s\n",
      "[CV] C=1, degree=2, gamma=100, kernel=rbf ............................\n",
      "[CV]  C=1, degree=2, gamma=100, kernel=rbf, score=0.771, total=   0.1s\n",
      "[CV] C=1, degree=2, gamma=100, kernel=poly ...........................\n",
      "[CV]  C=1, degree=2, gamma=100, kernel=poly, score=1.000, total=   0.0s\n",
      "[CV] C=1, degree=2, gamma=100, kernel=poly ...........................\n",
      "[CV]  C=1, degree=2, gamma=100, kernel=poly, score=1.000, total=   0.0s\n",
      "[CV] C=1, degree=2, gamma=100, kernel=poly ...........................\n",
      "[CV]  C=1, degree=2, gamma=100, kernel=poly, score=1.000, total=   0.0s\n",
      "[CV] C=1, degree=2, gamma=100, kernel=poly ...........................\n"
     ]
    },
    {
     "name": "stderr",
     "output_type": "stream",
     "text": [
      "C:\\Users\\Personal\\Anaconda3\\lib\\site-packages\\sklearn\\svm\\_base.py:231: ConvergenceWarning: Solver terminated early (max_iter=700).  Consider pre-processing your data with StandardScaler or MinMaxScaler.\n",
      "  % self.max_iter, ConvergenceWarning)\n",
      "C:\\Users\\Personal\\Anaconda3\\lib\\site-packages\\sklearn\\svm\\_base.py:231: ConvergenceWarning: Solver terminated early (max_iter=700).  Consider pre-processing your data with StandardScaler or MinMaxScaler.\n",
      "  % self.max_iter, ConvergenceWarning)\n",
      "C:\\Users\\Personal\\Anaconda3\\lib\\site-packages\\sklearn\\svm\\_base.py:231: ConvergenceWarning: Solver terminated early (max_iter=700).  Consider pre-processing your data with StandardScaler or MinMaxScaler.\n",
      "  % self.max_iter, ConvergenceWarning)\n",
      "C:\\Users\\Personal\\Anaconda3\\lib\\site-packages\\sklearn\\svm\\_base.py:231: ConvergenceWarning: Solver terminated early (max_iter=700).  Consider pre-processing your data with StandardScaler or MinMaxScaler.\n",
      "  % self.max_iter, ConvergenceWarning)\n",
      "C:\\Users\\Personal\\Anaconda3\\lib\\site-packages\\sklearn\\svm\\_base.py:231: ConvergenceWarning: Solver terminated early (max_iter=700).  Consider pre-processing your data with StandardScaler or MinMaxScaler.\n",
      "  % self.max_iter, ConvergenceWarning)\n",
      "C:\\Users\\Personal\\Anaconda3\\lib\\site-packages\\sklearn\\svm\\_base.py:231: ConvergenceWarning: Solver terminated early (max_iter=700).  Consider pre-processing your data with StandardScaler or MinMaxScaler.\n",
      "  % self.max_iter, ConvergenceWarning)\n"
     ]
    },
    {
     "name": "stdout",
     "output_type": "stream",
     "text": [
      "[CV]  C=1, degree=2, gamma=100, kernel=poly, score=1.000, total=   0.0s\n",
      "[CV] C=1, degree=2, gamma=100, kernel=poly ...........................\n",
      "[CV]  C=1, degree=2, gamma=100, kernel=poly, score=1.000, total=   0.0s\n",
      "[CV] C=1, degree=3, gamma=1, kernel=rbf ..............................\n",
      "[CV] .. C=1, degree=3, gamma=1, kernel=rbf, score=0.867, total=   0.1s\n",
      "[CV] C=1, degree=3, gamma=1, kernel=rbf ..............................\n",
      "[CV] .. C=1, degree=3, gamma=1, kernel=rbf, score=0.896, total=   0.1s\n",
      "[CV] C=1, degree=3, gamma=1, kernel=rbf ..............................\n"
     ]
    },
    {
     "name": "stderr",
     "output_type": "stream",
     "text": [
      "C:\\Users\\Personal\\Anaconda3\\lib\\site-packages\\sklearn\\svm\\_base.py:231: ConvergenceWarning: Solver terminated early (max_iter=700).  Consider pre-processing your data with StandardScaler or MinMaxScaler.\n",
      "  % self.max_iter, ConvergenceWarning)\n",
      "C:\\Users\\Personal\\Anaconda3\\lib\\site-packages\\sklearn\\svm\\_base.py:231: ConvergenceWarning: Solver terminated early (max_iter=700).  Consider pre-processing your data with StandardScaler or MinMaxScaler.\n",
      "  % self.max_iter, ConvergenceWarning)\n",
      "C:\\Users\\Personal\\Anaconda3\\lib\\site-packages\\sklearn\\svm\\_base.py:231: ConvergenceWarning: Solver terminated early (max_iter=700).  Consider pre-processing your data with StandardScaler or MinMaxScaler.\n",
      "  % self.max_iter, ConvergenceWarning)\n"
     ]
    },
    {
     "name": "stdout",
     "output_type": "stream",
     "text": [
      "[CV] .. C=1, degree=3, gamma=1, kernel=rbf, score=0.858, total=   0.1s\n",
      "[CV] C=1, degree=3, gamma=1, kernel=rbf ..............................\n",
      "[CV] .. C=1, degree=3, gamma=1, kernel=rbf, score=0.867, total=   0.1s\n",
      "[CV] C=1, degree=3, gamma=1, kernel=rbf ..............................\n",
      "[CV] .. C=1, degree=3, gamma=1, kernel=rbf, score=0.895, total=   0.1s\n",
      "[CV] C=1, degree=3, gamma=1, kernel=poly .............................\n",
      "[CV] . C=1, degree=3, gamma=1, kernel=poly, score=1.000, total=   0.0s\n",
      "[CV] C=1, degree=3, gamma=1, kernel=poly .............................\n",
      "[CV] . C=1, degree=3, gamma=1, kernel=poly, score=1.000, total=   0.0s\n",
      "[CV] C=1, degree=3, gamma=1, kernel=poly .............................\n",
      "[CV] . C=1, degree=3, gamma=1, kernel=poly, score=0.991, total=   0.0s\n",
      "[CV] C=1, degree=3, gamma=1, kernel=poly .............................\n",
      "[CV] . C=1, degree=3, gamma=1, kernel=poly, score=1.000, total=   0.0s\n",
      "[CV] C=1, degree=3, gamma=1, kernel=poly .............................\n"
     ]
    },
    {
     "name": "stderr",
     "output_type": "stream",
     "text": [
      "C:\\Users\\Personal\\Anaconda3\\lib\\site-packages\\sklearn\\svm\\_base.py:231: ConvergenceWarning: Solver terminated early (max_iter=700).  Consider pre-processing your data with StandardScaler or MinMaxScaler.\n",
      "  % self.max_iter, ConvergenceWarning)\n"
     ]
    },
    {
     "name": "stdout",
     "output_type": "stream",
     "text": [
      "[CV] . C=1, degree=3, gamma=1, kernel=poly, score=1.000, total=   0.0s\n",
      "[CV] C=1, degree=3, gamma=0.1, kernel=rbf ............................\n",
      "[CV]  C=1, degree=3, gamma=0.1, kernel=rbf, score=1.000, total=   0.0s\n",
      "[CV] C=1, degree=3, gamma=0.1, kernel=rbf ............................\n",
      "[CV]  C=1, degree=3, gamma=0.1, kernel=rbf, score=1.000, total=   0.0s\n",
      "[CV] C=1, degree=3, gamma=0.1, kernel=rbf ............................\n",
      "[CV]  C=1, degree=3, gamma=0.1, kernel=rbf, score=1.000, total=   0.0s\n",
      "[CV] C=1, degree=3, gamma=0.1, kernel=rbf ............................\n",
      "[CV]  C=1, degree=3, gamma=0.1, kernel=rbf, score=0.995, total=   0.0s\n",
      "[CV] C=1, degree=3, gamma=0.1, kernel=rbf ............................\n",
      "[CV]  C=1, degree=3, gamma=0.1, kernel=rbf, score=1.000, total=   0.0s\n",
      "[CV] C=1, degree=3, gamma=0.1, kernel=poly ...........................\n",
      "[CV]  C=1, degree=3, gamma=0.1, kernel=poly, score=1.000, total=   0.0s\n",
      "[CV] C=1, degree=3, gamma=0.1, kernel=poly ...........................\n",
      "[CV]  C=1, degree=3, gamma=0.1, kernel=poly, score=1.000, total=   0.0s\n",
      "[CV] C=1, degree=3, gamma=0.1, kernel=poly ...........................\n",
      "[CV]  C=1, degree=3, gamma=0.1, kernel=poly, score=0.991, total=   0.0s\n",
      "[CV] C=1, degree=3, gamma=0.1, kernel=poly ...........................\n",
      "[CV]  C=1, degree=3, gamma=0.1, kernel=poly, score=1.000, total=   0.0s\n",
      "[CV] C=1, degree=3, gamma=0.1, kernel=poly ...........................\n",
      "[CV]  C=1, degree=3, gamma=0.1, kernel=poly, score=1.000, total=   0.0s\n",
      "[CV] C=1, degree=3, gamma=0.01, kernel=rbf ...........................\n",
      "[CV]  C=1, degree=3, gamma=0.01, kernel=rbf, score=1.000, total=   0.0s\n",
      "[CV] C=1, degree=3, gamma=0.01, kernel=rbf ...........................\n",
      "[CV]  C=1, degree=3, gamma=0.01, kernel=rbf, score=1.000, total=   0.0s\n",
      "[CV] C=1, degree=3, gamma=0.01, kernel=rbf ...........................\n",
      "[CV]  C=1, degree=3, gamma=0.01, kernel=rbf, score=1.000, total=   0.0s\n",
      "[CV] C=1, degree=3, gamma=0.01, kernel=rbf ...........................\n",
      "[CV]  C=1, degree=3, gamma=0.01, kernel=rbf, score=1.000, total=   0.0s\n",
      "[CV] C=1, degree=3, gamma=0.01, kernel=rbf ...........................\n",
      "[CV]  C=1, degree=3, gamma=0.01, kernel=rbf, score=1.000, total=   0.0s\n",
      "[CV] C=1, degree=3, gamma=0.01, kernel=poly ..........................\n",
      "[CV]  C=1, degree=3, gamma=0.01, kernel=poly, score=0.991, total=   0.0s\n",
      "[CV] C=1, degree=3, gamma=0.01, kernel=poly ..........................\n",
      "[CV]  C=1, degree=3, gamma=0.01, kernel=poly, score=1.000, total=   0.0s\n",
      "[CV] C=1, degree=3, gamma=0.01, kernel=poly ..........................\n",
      "[CV]  C=1, degree=3, gamma=0.01, kernel=poly, score=1.000, total=   0.0s\n",
      "[CV] C=1, degree=3, gamma=0.01, kernel=poly ..........................\n",
      "[CV]  C=1, degree=3, gamma=0.01, kernel=poly, score=1.000, total=   0.0s\n",
      "[CV] C=1, degree=3, gamma=0.01, kernel=poly ..........................\n",
      "[CV]  C=1, degree=3, gamma=0.01, kernel=poly, score=0.986, total=   0.0s\n",
      "[CV] C=1, degree=3, gamma=0.001, kernel=rbf ..........................\n",
      "[CV]  C=1, degree=3, gamma=0.001, kernel=rbf, score=1.000, total=   0.0s\n",
      "[CV] C=1, degree=3, gamma=0.001, kernel=rbf ..........................\n",
      "[CV]  C=1, degree=3, gamma=0.001, kernel=rbf, score=1.000, total=   0.0s\n",
      "[CV] C=1, degree=3, gamma=0.001, kernel=rbf ..........................\n",
      "[CV]  C=1, degree=3, gamma=0.001, kernel=rbf, score=1.000, total=   0.0s\n",
      "[CV] C=1, degree=3, gamma=0.001, kernel=rbf ..........................\n",
      "[CV]  C=1, degree=3, gamma=0.001, kernel=rbf, score=0.991, total=   0.0s\n",
      "[CV] C=1, degree=3, gamma=0.001, kernel=rbf ..........................\n",
      "[CV]  C=1, degree=3, gamma=0.001, kernel=rbf, score=1.000, total=   0.0s\n",
      "[CV] C=1, degree=3, gamma=0.001, kernel=poly .........................\n",
      "[CV]  C=1, degree=3, gamma=0.001, kernel=poly, score=0.692, total=   0.0s\n",
      "[CV] C=1, degree=3, gamma=0.001, kernel=poly .........................\n",
      "[CV]  C=1, degree=3, gamma=0.001, kernel=poly, score=0.711, total=   0.0s\n",
      "[CV] C=1, degree=3, gamma=0.001, kernel=poly .........................\n",
      "[CV]  C=1, degree=3, gamma=0.001, kernel=poly, score=0.664, total=   0.0s\n",
      "[CV] C=1, degree=3, gamma=0.001, kernel=poly .........................\n",
      "[CV]  C=1, degree=3, gamma=0.001, kernel=poly, score=0.697, total=   0.0s\n",
      "[CV] C=1, degree=3, gamma=0.001, kernel=poly .........................\n",
      "[CV]  C=1, degree=3, gamma=0.001, kernel=poly, score=0.690, total=   0.1s\n",
      "[CV] C=1, degree=3, gamma=100, kernel=rbf ............................\n"
     ]
    },
    {
     "name": "stderr",
     "output_type": "stream",
     "text": [
      "C:\\Users\\Personal\\Anaconda3\\lib\\site-packages\\sklearn\\svm\\_base.py:231: ConvergenceWarning: Solver terminated early (max_iter=700).  Consider pre-processing your data with StandardScaler or MinMaxScaler.\n",
      "  % self.max_iter, ConvergenceWarning)\n",
      "C:\\Users\\Personal\\Anaconda3\\lib\\site-packages\\sklearn\\svm\\_base.py:231: ConvergenceWarning: Solver terminated early (max_iter=700).  Consider pre-processing your data with StandardScaler or MinMaxScaler.\n",
      "  % self.max_iter, ConvergenceWarning)\n"
     ]
    },
    {
     "name": "stdout",
     "output_type": "stream",
     "text": [
      "[CV]  C=1, degree=3, gamma=100, kernel=rbf, score=0.763, total=   0.2s\n",
      "[CV] C=1, degree=3, gamma=100, kernel=rbf ............................\n",
      "[CV]  C=1, degree=3, gamma=100, kernel=rbf, score=0.796, total=   0.2s\n",
      "[CV] C=1, degree=3, gamma=100, kernel=rbf ............................\n"
     ]
    },
    {
     "name": "stderr",
     "output_type": "stream",
     "text": [
      "C:\\Users\\Personal\\Anaconda3\\lib\\site-packages\\sklearn\\svm\\_base.py:231: ConvergenceWarning: Solver terminated early (max_iter=700).  Consider pre-processing your data with StandardScaler or MinMaxScaler.\n",
      "  % self.max_iter, ConvergenceWarning)\n",
      "C:\\Users\\Personal\\Anaconda3\\lib\\site-packages\\sklearn\\svm\\_base.py:231: ConvergenceWarning: Solver terminated early (max_iter=700).  Consider pre-processing your data with StandardScaler or MinMaxScaler.\n",
      "  % self.max_iter, ConvergenceWarning)\n"
     ]
    },
    {
     "name": "stdout",
     "output_type": "stream",
     "text": [
      "[CV]  C=1, degree=3, gamma=100, kernel=rbf, score=0.730, total=   0.1s\n",
      "[CV] C=1, degree=3, gamma=100, kernel=rbf ............................\n",
      "[CV]  C=1, degree=3, gamma=100, kernel=rbf, score=0.763, total=   0.1s\n",
      "[CV] C=1, degree=3, gamma=100, kernel=rbf ............................\n"
     ]
    },
    {
     "name": "stderr",
     "output_type": "stream",
     "text": [
      "C:\\Users\\Personal\\Anaconda3\\lib\\site-packages\\sklearn\\svm\\_base.py:231: ConvergenceWarning: Solver terminated early (max_iter=700).  Consider pre-processing your data with StandardScaler or MinMaxScaler.\n",
      "  % self.max_iter, ConvergenceWarning)\n"
     ]
    },
    {
     "name": "stdout",
     "output_type": "stream",
     "text": [
      "[CV]  C=1, degree=3, gamma=100, kernel=rbf, score=0.771, total=   0.1s\n",
      "[CV] C=1, degree=3, gamma=100, kernel=poly ...........................\n",
      "[CV]  C=1, degree=3, gamma=100, kernel=poly, score=1.000, total=   0.0s\n",
      "[CV] C=1, degree=3, gamma=100, kernel=poly ...........................\n",
      "[CV]  C=1, degree=3, gamma=100, kernel=poly, score=1.000, total=   0.0s\n",
      "[CV] C=1, degree=3, gamma=100, kernel=poly ...........................\n",
      "[CV]  C=1, degree=3, gamma=100, kernel=poly, score=0.991, total=   0.0s\n",
      "[CV] C=1, degree=3, gamma=100, kernel=poly ...........................\n",
      "[CV]  C=1, degree=3, gamma=100, kernel=poly, score=1.000, total=   0.0s\n",
      "[CV] C=1, degree=3, gamma=100, kernel=poly ...........................\n",
      "[CV]  C=1, degree=3, gamma=100, kernel=poly, score=1.000, total=   0.0s\n",
      "[CV] C=1, degree=4, gamma=1, kernel=rbf ..............................\n"
     ]
    },
    {
     "name": "stderr",
     "output_type": "stream",
     "text": [
      "C:\\Users\\Personal\\Anaconda3\\lib\\site-packages\\sklearn\\svm\\_base.py:231: ConvergenceWarning: Solver terminated early (max_iter=700).  Consider pre-processing your data with StandardScaler or MinMaxScaler.\n",
      "  % self.max_iter, ConvergenceWarning)\n",
      "C:\\Users\\Personal\\Anaconda3\\lib\\site-packages\\sklearn\\svm\\_base.py:231: ConvergenceWarning: Solver terminated early (max_iter=700).  Consider pre-processing your data with StandardScaler or MinMaxScaler.\n",
      "  % self.max_iter, ConvergenceWarning)\n"
     ]
    },
    {
     "name": "stdout",
     "output_type": "stream",
     "text": [
      "[CV] .. C=1, degree=4, gamma=1, kernel=rbf, score=0.867, total=   0.1s\n",
      "[CV] C=1, degree=4, gamma=1, kernel=rbf ..............................\n",
      "[CV] .. C=1, degree=4, gamma=1, kernel=rbf, score=0.896, total=   0.1s\n",
      "[CV] C=1, degree=4, gamma=1, kernel=rbf ..............................\n"
     ]
    },
    {
     "name": "stderr",
     "output_type": "stream",
     "text": [
      "C:\\Users\\Personal\\Anaconda3\\lib\\site-packages\\sklearn\\svm\\_base.py:231: ConvergenceWarning: Solver terminated early (max_iter=700).  Consider pre-processing your data with StandardScaler or MinMaxScaler.\n",
      "  % self.max_iter, ConvergenceWarning)\n",
      "C:\\Users\\Personal\\Anaconda3\\lib\\site-packages\\sklearn\\svm\\_base.py:231: ConvergenceWarning: Solver terminated early (max_iter=700).  Consider pre-processing your data with StandardScaler or MinMaxScaler.\n",
      "  % self.max_iter, ConvergenceWarning)\n"
     ]
    },
    {
     "name": "stdout",
     "output_type": "stream",
     "text": [
      "[CV] .. C=1, degree=4, gamma=1, kernel=rbf, score=0.858, total=   0.1s\n",
      "[CV] C=1, degree=4, gamma=1, kernel=rbf ..............................\n",
      "[CV] .. C=1, degree=4, gamma=1, kernel=rbf, score=0.867, total=   0.1s\n",
      "[CV] C=1, degree=4, gamma=1, kernel=rbf ..............................\n",
      "[CV] .. C=1, degree=4, gamma=1, kernel=rbf, score=0.895, total=   0.1s\n",
      "[CV] C=1, degree=4, gamma=1, kernel=poly .............................\n"
     ]
    },
    {
     "name": "stderr",
     "output_type": "stream",
     "text": [
      "C:\\Users\\Personal\\Anaconda3\\lib\\site-packages\\sklearn\\svm\\_base.py:231: ConvergenceWarning: Solver terminated early (max_iter=700).  Consider pre-processing your data with StandardScaler or MinMaxScaler.\n",
      "  % self.max_iter, ConvergenceWarning)\n"
     ]
    },
    {
     "name": "stdout",
     "output_type": "stream",
     "text": [
      "[CV] . C=1, degree=4, gamma=1, kernel=poly, score=1.000, total=   0.0s\n",
      "[CV] C=1, degree=4, gamma=1, kernel=poly .............................\n",
      "[CV] . C=1, degree=4, gamma=1, kernel=poly, score=1.000, total=   0.0s\n",
      "[CV] C=1, degree=4, gamma=1, kernel=poly .............................\n",
      "[CV] . C=1, degree=4, gamma=1, kernel=poly, score=0.991, total=   0.0s\n",
      "[CV] C=1, degree=4, gamma=1, kernel=poly .............................\n",
      "[CV] . C=1, degree=4, gamma=1, kernel=poly, score=1.000, total=   0.0s\n",
      "[CV] C=1, degree=4, gamma=1, kernel=poly .............................\n",
      "[CV] . C=1, degree=4, gamma=1, kernel=poly, score=1.000, total=   0.0s\n",
      "[CV] C=1, degree=4, gamma=0.1, kernel=rbf ............................\n",
      "[CV]  C=1, degree=4, gamma=0.1, kernel=rbf, score=1.000, total=   0.0s\n",
      "[CV] C=1, degree=4, gamma=0.1, kernel=rbf ............................\n",
      "[CV]  C=1, degree=4, gamma=0.1, kernel=rbf, score=1.000, total=   0.0s\n",
      "[CV] C=1, degree=4, gamma=0.1, kernel=rbf ............................\n",
      "[CV]  C=1, degree=4, gamma=0.1, kernel=rbf, score=1.000, total=   0.0s\n",
      "[CV] C=1, degree=4, gamma=0.1, kernel=rbf ............................\n",
      "[CV]  C=1, degree=4, gamma=0.1, kernel=rbf, score=0.995, total=   0.0s\n",
      "[CV] C=1, degree=4, gamma=0.1, kernel=rbf ............................\n",
      "[CV]  C=1, degree=4, gamma=0.1, kernel=rbf, score=1.000, total=   0.0s\n",
      "[CV] C=1, degree=4, gamma=0.1, kernel=poly ...........................\n",
      "[CV]  C=1, degree=4, gamma=0.1, kernel=poly, score=1.000, total=   0.0s\n",
      "[CV] C=1, degree=4, gamma=0.1, kernel=poly ...........................\n",
      "[CV]  C=1, degree=4, gamma=0.1, kernel=poly, score=1.000, total=   0.0s\n",
      "[CV] C=1, degree=4, gamma=0.1, kernel=poly ...........................\n",
      "[CV]  C=1, degree=4, gamma=0.1, kernel=poly, score=0.991, total=   0.0s\n",
      "[CV] C=1, degree=4, gamma=0.1, kernel=poly ...........................\n",
      "[CV]  C=1, degree=4, gamma=0.1, kernel=poly, score=1.000, total=   0.0s\n",
      "[CV] C=1, degree=4, gamma=0.1, kernel=poly ...........................\n",
      "[CV]  C=1, degree=4, gamma=0.1, kernel=poly, score=1.000, total=   0.0s\n",
      "[CV] C=1, degree=4, gamma=0.01, kernel=rbf ...........................\n",
      "[CV]  C=1, degree=4, gamma=0.01, kernel=rbf, score=1.000, total=   0.0s\n",
      "[CV] C=1, degree=4, gamma=0.01, kernel=rbf ...........................\n",
      "[CV]  C=1, degree=4, gamma=0.01, kernel=rbf, score=1.000, total=   0.0s\n",
      "[CV] C=1, degree=4, gamma=0.01, kernel=rbf ...........................\n",
      "[CV]  C=1, degree=4, gamma=0.01, kernel=rbf, score=1.000, total=   0.0s\n",
      "[CV] C=1, degree=4, gamma=0.01, kernel=rbf ...........................\n",
      "[CV]  C=1, degree=4, gamma=0.01, kernel=rbf, score=1.000, total=   0.0s\n",
      "[CV] C=1, degree=4, gamma=0.01, kernel=rbf ...........................\n",
      "[CV]  C=1, degree=4, gamma=0.01, kernel=rbf, score=1.000, total=   0.0s\n",
      "[CV] C=1, degree=4, gamma=0.01, kernel=poly ..........................\n",
      "[CV]  C=1, degree=4, gamma=0.01, kernel=poly, score=0.976, total=   0.0s\n",
      "[CV] C=1, degree=4, gamma=0.01, kernel=poly ..........................\n",
      "[CV]  C=1, degree=4, gamma=0.01, kernel=poly, score=1.000, total=   0.0s\n",
      "[CV] C=1, degree=4, gamma=0.01, kernel=poly ..........................\n",
      "[CV]  C=1, degree=4, gamma=0.01, kernel=poly, score=1.000, total=   0.0s\n",
      "[CV] C=1, degree=4, gamma=0.01, kernel=poly ..........................\n",
      "[CV]  C=1, degree=4, gamma=0.01, kernel=poly, score=0.991, total=   0.0s\n",
      "[CV] C=1, degree=4, gamma=0.01, kernel=poly ..........................\n",
      "[CV]  C=1, degree=4, gamma=0.01, kernel=poly, score=0.971, total=   0.0s\n",
      "[CV] C=1, degree=4, gamma=0.001, kernel=rbf ..........................\n",
      "[CV]  C=1, degree=4, gamma=0.001, kernel=rbf, score=1.000, total=   0.1s\n",
      "[CV] C=1, degree=4, gamma=0.001, kernel=rbf ..........................\n",
      "[CV]  C=1, degree=4, gamma=0.001, kernel=rbf, score=1.000, total=   0.0s\n",
      "[CV] C=1, degree=4, gamma=0.001, kernel=rbf ..........................\n",
      "[CV]  C=1, degree=4, gamma=0.001, kernel=rbf, score=1.000, total=   0.0s\n",
      "[CV] C=1, degree=4, gamma=0.001, kernel=rbf ..........................\n",
      "[CV]  C=1, degree=4, gamma=0.001, kernel=rbf, score=0.991, total=   0.0s\n",
      "[CV] C=1, degree=4, gamma=0.001, kernel=rbf ..........................\n",
      "[CV]  C=1, degree=4, gamma=0.001, kernel=rbf, score=1.000, total=   0.0s\n",
      "[CV] C=1, degree=4, gamma=0.001, kernel=poly .........................\n",
      "[CV]  C=1, degree=4, gamma=0.001, kernel=poly, score=0.692, total=   0.0s\n",
      "[CV] C=1, degree=4, gamma=0.001, kernel=poly .........................\n",
      "[CV]  C=1, degree=4, gamma=0.001, kernel=poly, score=0.711, total=   0.0s\n",
      "[CV] C=1, degree=4, gamma=0.001, kernel=poly .........................\n",
      "[CV]  C=1, degree=4, gamma=0.001, kernel=poly, score=0.664, total=   0.0s\n",
      "[CV] C=1, degree=4, gamma=0.001, kernel=poly .........................\n",
      "[CV]  C=1, degree=4, gamma=0.001, kernel=poly, score=0.697, total=   0.0s\n",
      "[CV] C=1, degree=4, gamma=0.001, kernel=poly .........................\n",
      "[CV]  C=1, degree=4, gamma=0.001, kernel=poly, score=0.690, total=   0.0s\n",
      "[CV] C=1, degree=4, gamma=100, kernel=rbf ............................\n"
     ]
    },
    {
     "name": "stderr",
     "output_type": "stream",
     "text": [
      "C:\\Users\\Personal\\Anaconda3\\lib\\site-packages\\sklearn\\svm\\_base.py:231: ConvergenceWarning: Solver terminated early (max_iter=700).  Consider pre-processing your data with StandardScaler or MinMaxScaler.\n",
      "  % self.max_iter, ConvergenceWarning)\n",
      "C:\\Users\\Personal\\Anaconda3\\lib\\site-packages\\sklearn\\svm\\_base.py:231: ConvergenceWarning: Solver terminated early (max_iter=700).  Consider pre-processing your data with StandardScaler or MinMaxScaler.\n",
      "  % self.max_iter, ConvergenceWarning)\n"
     ]
    },
    {
     "name": "stdout",
     "output_type": "stream",
     "text": [
      "[CV]  C=1, degree=4, gamma=100, kernel=rbf, score=0.763, total=   0.2s\n",
      "[CV] C=1, degree=4, gamma=100, kernel=rbf ............................\n",
      "[CV]  C=1, degree=4, gamma=100, kernel=rbf, score=0.796, total=   0.2s\n",
      "[CV] C=1, degree=4, gamma=100, kernel=rbf ............................\n"
     ]
    },
    {
     "name": "stderr",
     "output_type": "stream",
     "text": [
      "C:\\Users\\Personal\\Anaconda3\\lib\\site-packages\\sklearn\\svm\\_base.py:231: ConvergenceWarning: Solver terminated early (max_iter=700).  Consider pre-processing your data with StandardScaler or MinMaxScaler.\n",
      "  % self.max_iter, ConvergenceWarning)\n",
      "C:\\Users\\Personal\\Anaconda3\\lib\\site-packages\\sklearn\\svm\\_base.py:231: ConvergenceWarning: Solver terminated early (max_iter=700).  Consider pre-processing your data with StandardScaler or MinMaxScaler.\n",
      "  % self.max_iter, ConvergenceWarning)\n"
     ]
    },
    {
     "name": "stdout",
     "output_type": "stream",
     "text": [
      "[CV]  C=1, degree=4, gamma=100, kernel=rbf, score=0.730, total=   0.2s\n",
      "[CV] C=1, degree=4, gamma=100, kernel=rbf ............................\n",
      "[CV]  C=1, degree=4, gamma=100, kernel=rbf, score=0.763, total=   0.1s\n",
      "[CV] C=1, degree=4, gamma=100, kernel=rbf ............................\n"
     ]
    },
    {
     "name": "stderr",
     "output_type": "stream",
     "text": [
      "C:\\Users\\Personal\\Anaconda3\\lib\\site-packages\\sklearn\\svm\\_base.py:231: ConvergenceWarning: Solver terminated early (max_iter=700).  Consider pre-processing your data with StandardScaler or MinMaxScaler.\n",
      "  % self.max_iter, ConvergenceWarning)\n"
     ]
    },
    {
     "name": "stdout",
     "output_type": "stream",
     "text": [
      "[CV]  C=1, degree=4, gamma=100, kernel=rbf, score=0.771, total=   0.2s\n",
      "[CV] C=1, degree=4, gamma=100, kernel=poly ...........................\n",
      "[CV]  C=1, degree=4, gamma=100, kernel=poly, score=1.000, total=   0.0s\n",
      "[CV] C=1, degree=4, gamma=100, kernel=poly ...........................\n",
      "[CV]  C=1, degree=4, gamma=100, kernel=poly, score=1.000, total=   0.0s\n",
      "[CV] C=1, degree=4, gamma=100, kernel=poly ...........................\n",
      "[CV]  C=1, degree=4, gamma=100, kernel=poly, score=0.991, total=   0.0s\n",
      "[CV] C=1, degree=4, gamma=100, kernel=poly ...........................\n",
      "[CV]  C=1, degree=4, gamma=100, kernel=poly, score=1.000, total=   0.0s\n",
      "[CV] C=1, degree=4, gamma=100, kernel=poly ...........................\n",
      "[CV]  C=1, degree=4, gamma=100, kernel=poly, score=1.000, total=   0.0s\n",
      "[CV] C=10, degree=2, gamma=1, kernel=rbf .............................\n"
     ]
    },
    {
     "name": "stderr",
     "output_type": "stream",
     "text": [
      "C:\\Users\\Personal\\Anaconda3\\lib\\site-packages\\sklearn\\svm\\_base.py:231: ConvergenceWarning: Solver terminated early (max_iter=700).  Consider pre-processing your data with StandardScaler or MinMaxScaler.\n",
      "  % self.max_iter, ConvergenceWarning)\n",
      "C:\\Users\\Personal\\Anaconda3\\lib\\site-packages\\sklearn\\svm\\_base.py:231: ConvergenceWarning: Solver terminated early (max_iter=700).  Consider pre-processing your data with StandardScaler or MinMaxScaler.\n",
      "  % self.max_iter, ConvergenceWarning)\n",
      "C:\\Users\\Personal\\Anaconda3\\lib\\site-packages\\sklearn\\svm\\_base.py:231: ConvergenceWarning: Solver terminated early (max_iter=700).  Consider pre-processing your data with StandardScaler or MinMaxScaler.\n",
      "  % self.max_iter, ConvergenceWarning)\n"
     ]
    },
    {
     "name": "stdout",
     "output_type": "stream",
     "text": [
      "[CV] . C=10, degree=2, gamma=1, kernel=rbf, score=0.882, total=   0.1s\n",
      "[CV] C=10, degree=2, gamma=1, kernel=rbf .............................\n",
      "[CV] . C=10, degree=2, gamma=1, kernel=rbf, score=0.905, total=   0.1s\n",
      "[CV] C=10, degree=2, gamma=1, kernel=rbf .............................\n",
      "[CV] . C=10, degree=2, gamma=1, kernel=rbf, score=0.882, total=   0.1s\n",
      "[CV] C=10, degree=2, gamma=1, kernel=rbf .............................\n",
      "[CV] . C=10, degree=2, gamma=1, kernel=rbf, score=0.891, total=   0.1s\n",
      "[CV] C=10, degree=2, gamma=1, kernel=rbf .............................\n"
     ]
    },
    {
     "name": "stderr",
     "output_type": "stream",
     "text": [
      "C:\\Users\\Personal\\Anaconda3\\lib\\site-packages\\sklearn\\svm\\_base.py:231: ConvergenceWarning: Solver terminated early (max_iter=700).  Consider pre-processing your data with StandardScaler or MinMaxScaler.\n",
      "  % self.max_iter, ConvergenceWarning)\n",
      "C:\\Users\\Personal\\Anaconda3\\lib\\site-packages\\sklearn\\svm\\_base.py:231: ConvergenceWarning: Solver terminated early (max_iter=700).  Consider pre-processing your data with StandardScaler or MinMaxScaler.\n",
      "  % self.max_iter, ConvergenceWarning)\n",
      "C:\\Users\\Personal\\Anaconda3\\lib\\site-packages\\sklearn\\svm\\_base.py:231: ConvergenceWarning: Solver terminated early (max_iter=700).  Consider pre-processing your data with StandardScaler or MinMaxScaler.\n",
      "  % self.max_iter, ConvergenceWarning)\n",
      "C:\\Users\\Personal\\Anaconda3\\lib\\site-packages\\sklearn\\svm\\_base.py:231: ConvergenceWarning: Solver terminated early (max_iter=700).  Consider pre-processing your data with StandardScaler or MinMaxScaler.\n",
      "  % self.max_iter, ConvergenceWarning)\n"
     ]
    },
    {
     "name": "stdout",
     "output_type": "stream",
     "text": [
      "[CV] . C=10, degree=2, gamma=1, kernel=rbf, score=0.905, total=   0.1s\n",
      "[CV] C=10, degree=2, gamma=1, kernel=poly ............................\n",
      "[CV]  C=10, degree=2, gamma=1, kernel=poly, score=1.000, total=   0.0s\n",
      "[CV] C=10, degree=2, gamma=1, kernel=poly ............................\n",
      "[CV]  C=10, degree=2, gamma=1, kernel=poly, score=1.000, total=   0.0s\n",
      "[CV] C=10, degree=2, gamma=1, kernel=poly ............................\n",
      "[CV]  C=10, degree=2, gamma=1, kernel=poly, score=1.000, total=   0.0s\n",
      "[CV] C=10, degree=2, gamma=1, kernel=poly ............................\n",
      "[CV]  C=10, degree=2, gamma=1, kernel=poly, score=1.000, total=   0.0s\n",
      "[CV] C=10, degree=2, gamma=1, kernel=poly ............................\n",
      "[CV]  C=10, degree=2, gamma=1, kernel=poly, score=1.000, total=   0.0s\n",
      "[CV] C=10, degree=2, gamma=0.1, kernel=rbf ...........................\n",
      "[CV]  C=10, degree=2, gamma=0.1, kernel=rbf, score=1.000, total=   0.0s"
     ]
    },
    {
     "name": "stderr",
     "output_type": "stream",
     "text": [
      "C:\\Users\\Personal\\Anaconda3\\lib\\site-packages\\sklearn\\svm\\_base.py:231: ConvergenceWarning: Solver terminated early (max_iter=700).  Consider pre-processing your data with StandardScaler or MinMaxScaler.\n",
      "  % self.max_iter, ConvergenceWarning)\n",
      "C:\\Users\\Personal\\Anaconda3\\lib\\site-packages\\sklearn\\svm\\_base.py:231: ConvergenceWarning: Solver terminated early (max_iter=700).  Consider pre-processing your data with StandardScaler or MinMaxScaler.\n",
      "  % self.max_iter, ConvergenceWarning)\n"
     ]
    },
    {
     "name": "stdout",
     "output_type": "stream",
     "text": [
      "\n",
      "[CV] C=10, degree=2, gamma=0.1, kernel=rbf ...........................\n",
      "[CV]  C=10, degree=2, gamma=0.1, kernel=rbf, score=1.000, total=   0.0s\n",
      "[CV] C=10, degree=2, gamma=0.1, kernel=rbf ...........................\n",
      "[CV]  C=10, degree=2, gamma=0.1, kernel=rbf, score=1.000, total=   0.0s\n",
      "[CV] C=10, degree=2, gamma=0.1, kernel=rbf ...........................\n",
      "[CV]  C=10, degree=2, gamma=0.1, kernel=rbf, score=1.000, total=   0.0s\n",
      "[CV] C=10, degree=2, gamma=0.1, kernel=rbf ...........................\n",
      "[CV]  C=10, degree=2, gamma=0.1, kernel=rbf, score=1.000, total=   0.0s\n",
      "[CV] C=10, degree=2, gamma=0.1, kernel=poly ..........................\n",
      "[CV]  C=10, degree=2, gamma=0.1, kernel=poly, score=1.000, total=   0.0s\n",
      "[CV] C=10, degree=2, gamma=0.1, kernel=poly ..........................\n",
      "[CV]  C=10, degree=2, gamma=0.1, kernel=poly, score=1.000, total=   0.0s\n",
      "[CV] C=10, degree=2, gamma=0.1, kernel=poly ..........................\n",
      "[CV]  C=10, degree=2, gamma=0.1, kernel=poly, score=1.000, total=   0.0s\n",
      "[CV] C=10, degree=2, gamma=0.1, kernel=poly .........................."
     ]
    },
    {
     "name": "stderr",
     "output_type": "stream",
     "text": [
      "C:\\Users\\Personal\\Anaconda3\\lib\\site-packages\\sklearn\\svm\\_base.py:231: ConvergenceWarning: Solver terminated early (max_iter=700).  Consider pre-processing your data with StandardScaler or MinMaxScaler.\n",
      "  % self.max_iter, ConvergenceWarning)\n",
      "C:\\Users\\Personal\\Anaconda3\\lib\\site-packages\\sklearn\\svm\\_base.py:231: ConvergenceWarning: Solver terminated early (max_iter=700).  Consider pre-processing your data with StandardScaler or MinMaxScaler.\n",
      "  % self.max_iter, ConvergenceWarning)\n",
      "C:\\Users\\Personal\\Anaconda3\\lib\\site-packages\\sklearn\\svm\\_base.py:231: ConvergenceWarning: Solver terminated early (max_iter=700).  Consider pre-processing your data with StandardScaler or MinMaxScaler.\n",
      "  % self.max_iter, ConvergenceWarning)\n",
      "C:\\Users\\Personal\\Anaconda3\\lib\\site-packages\\sklearn\\svm\\_base.py:231: ConvergenceWarning: Solver terminated early (max_iter=700).  Consider pre-processing your data with StandardScaler or MinMaxScaler.\n",
      "  % self.max_iter, ConvergenceWarning)\n",
      "C:\\Users\\Personal\\Anaconda3\\lib\\site-packages\\sklearn\\svm\\_base.py:231: ConvergenceWarning: Solver terminated early (max_iter=700).  Consider pre-processing your data with StandardScaler or MinMaxScaler.\n",
      "  % self.max_iter, ConvergenceWarning)\n"
     ]
    },
    {
     "name": "stdout",
     "output_type": "stream",
     "text": [
      "\n",
      "[CV]  C=10, degree=2, gamma=0.1, kernel=poly, score=1.000, total=   0.0s\n",
      "[CV] C=10, degree=2, gamma=0.1, kernel=poly ..........................\n",
      "[CV]  C=10, degree=2, gamma=0.1, kernel=poly, score=1.000, total=   0.0s\n",
      "[CV] C=10, degree=2, gamma=0.01, kernel=rbf ..........................\n",
      "[CV]  C=10, degree=2, gamma=0.01, kernel=rbf, score=1.000, total=   0.0s\n",
      "[CV] C=10, degree=2, gamma=0.01, kernel=rbf ..........................\n",
      "[CV]  C=10, degree=2, gamma=0.01, kernel=rbf, score=1.000, total=   0.0s\n",
      "[CV] C=10, degree=2, gamma=0.01, kernel=rbf ..........................\n",
      "[CV]  C=10, degree=2, gamma=0.01, kernel=rbf, score=1.000, total=   0.0s\n",
      "[CV] C=10, degree=2, gamma=0.01, kernel=rbf ..........................\n",
      "[CV]  C=10, degree=2, gamma=0.01, kernel=rbf, score=1.000, total=   0.0s\n",
      "[CV] C=10, degree=2, gamma=0.01, kernel=rbf ..........................\n",
      "[CV]  C=10, degree=2, gamma=0.01, kernel=rbf, score=1.000, total=   0.0s\n",
      "[CV] C=10, degree=2, gamma=0.01, kernel=poly .........................\n",
      "[CV]  C=10, degree=2, gamma=0.01, kernel=poly, score=1.000, total=   0.0s\n",
      "[CV] C=10, degree=2, gamma=0.01, kernel=poly .........................\n",
      "[CV]  C=10, degree=2, gamma=0.01, kernel=poly, score=1.000, total=   0.0s\n",
      "[CV] C=10, degree=2, gamma=0.01, kernel=poly .........................\n",
      "[CV]  C=10, degree=2, gamma=0.01, kernel=poly, score=1.000, total=   0.0s\n",
      "[CV] C=10, degree=2, gamma=0.01, kernel=poly .........................\n",
      "[CV]  C=10, degree=2, gamma=0.01, kernel=poly, score=1.000, total=   0.0s\n",
      "[CV] C=10, degree=2, gamma=0.01, kernel=poly .........................\n",
      "[CV]  C=10, degree=2, gamma=0.01, kernel=poly, score=1.000, total=   0.0s\n",
      "[CV] C=10, degree=2, gamma=0.001, kernel=rbf .........................\n",
      "[CV]  C=10, degree=2, gamma=0.001, kernel=rbf, score=1.000, total=   0.0s\n",
      "[CV] C=10, degree=2, gamma=0.001, kernel=rbf .........................\n",
      "[CV]  C=10, degree=2, gamma=0.001, kernel=rbf, score=1.000, total=   0.0s\n",
      "[CV] C=10, degree=2, gamma=0.001, kernel=rbf .........................\n",
      "[CV]  C=10, degree=2, gamma=0.001, kernel=rbf, score=1.000, total=   0.0s\n",
      "[CV] C=10, degree=2, gamma=0.001, kernel=rbf .........................\n"
     ]
    },
    {
     "name": "stderr",
     "output_type": "stream",
     "text": [
      "C:\\Users\\Personal\\Anaconda3\\lib\\site-packages\\sklearn\\svm\\_base.py:231: ConvergenceWarning: Solver terminated early (max_iter=700).  Consider pre-processing your data with StandardScaler or MinMaxScaler.\n",
      "  % self.max_iter, ConvergenceWarning)\n",
      "C:\\Users\\Personal\\Anaconda3\\lib\\site-packages\\sklearn\\svm\\_base.py:231: ConvergenceWarning: Solver terminated early (max_iter=700).  Consider pre-processing your data with StandardScaler or MinMaxScaler.\n",
      "  % self.max_iter, ConvergenceWarning)\n"
     ]
    },
    {
     "name": "stdout",
     "output_type": "stream",
     "text": [
      "[CV]  C=10, degree=2, gamma=0.001, kernel=rbf, score=1.000, total=   0.0s\n",
      "[CV] C=10, degree=2, gamma=0.001, kernel=rbf .........................\n",
      "[CV]  C=10, degree=2, gamma=0.001, kernel=rbf, score=1.000, total=   0.0s\n",
      "[CV] C=10, degree=2, gamma=0.001, kernel=poly ........................\n",
      "[CV]  C=10, degree=2, gamma=0.001, kernel=poly, score=1.000, total=   0.1s\n",
      "[CV] C=10, degree=2, gamma=0.001, kernel=poly ........................\n",
      "[CV]  C=10, degree=2, gamma=0.001, kernel=poly, score=1.000, total=   0.0s\n",
      "[CV] C=10, degree=2, gamma=0.001, kernel=poly ........................\n",
      "[CV]  C=10, degree=2, gamma=0.001, kernel=poly, score=1.000, total=   0.0s\n",
      "[CV] C=10, degree=2, gamma=0.001, kernel=poly ........................\n",
      "[CV]  C=10, degree=2, gamma=0.001, kernel=poly, score=1.000, total=   0.0s\n",
      "[CV] C=10, degree=2, gamma=0.001, kernel=poly ........................\n",
      "[CV]  C=10, degree=2, gamma=0.001, kernel=poly, score=1.000, total=   0.0s\n",
      "[CV] C=10, degree=2, gamma=100, kernel=rbf ...........................\n"
     ]
    },
    {
     "name": "stderr",
     "output_type": "stream",
     "text": [
      "C:\\Users\\Personal\\Anaconda3\\lib\\site-packages\\sklearn\\svm\\_base.py:231: ConvergenceWarning: Solver terminated early (max_iter=700).  Consider pre-processing your data with StandardScaler or MinMaxScaler.\n",
      "  % self.max_iter, ConvergenceWarning)\n",
      "C:\\Users\\Personal\\Anaconda3\\lib\\site-packages\\sklearn\\svm\\_base.py:231: ConvergenceWarning: Solver terminated early (max_iter=700).  Consider pre-processing your data with StandardScaler or MinMaxScaler.\n",
      "  % self.max_iter, ConvergenceWarning)\n"
     ]
    },
    {
     "name": "stdout",
     "output_type": "stream",
     "text": [
      "[CV]  C=10, degree=2, gamma=100, kernel=rbf, score=0.763, total=   0.2s\n",
      "[CV] C=10, degree=2, gamma=100, kernel=rbf ...........................\n",
      "[CV]  C=10, degree=2, gamma=100, kernel=rbf, score=0.796, total=   0.2s\n",
      "[CV] C=10, degree=2, gamma=100, kernel=rbf ...........................\n",
      "[CV]  C=10, degree=2, gamma=100, kernel=rbf, score=0.730, total=   0.2s\n",
      "[CV] C=10, degree=2, gamma=100, kernel=rbf ..........................."
     ]
    },
    {
     "name": "stderr",
     "output_type": "stream",
     "text": [
      "C:\\Users\\Personal\\Anaconda3\\lib\\site-packages\\sklearn\\svm\\_base.py:231: ConvergenceWarning: Solver terminated early (max_iter=700).  Consider pre-processing your data with StandardScaler or MinMaxScaler.\n",
      "  % self.max_iter, ConvergenceWarning)\n",
      "C:\\Users\\Personal\\Anaconda3\\lib\\site-packages\\sklearn\\svm\\_base.py:231: ConvergenceWarning: Solver terminated early (max_iter=700).  Consider pre-processing your data with StandardScaler or MinMaxScaler.\n",
      "  % self.max_iter, ConvergenceWarning)\n"
     ]
    },
    {
     "name": "stdout",
     "output_type": "stream",
     "text": [
      "\n",
      "[CV]  C=10, degree=2, gamma=100, kernel=rbf, score=0.763, total=   0.2s\n",
      "[CV] C=10, degree=2, gamma=100, kernel=rbf ...........................\n"
     ]
    },
    {
     "name": "stderr",
     "output_type": "stream",
     "text": [
      "C:\\Users\\Personal\\Anaconda3\\lib\\site-packages\\sklearn\\svm\\_base.py:231: ConvergenceWarning: Solver terminated early (max_iter=700).  Consider pre-processing your data with StandardScaler or MinMaxScaler.\n",
      "  % self.max_iter, ConvergenceWarning)\n",
      "C:\\Users\\Personal\\Anaconda3\\lib\\site-packages\\sklearn\\svm\\_base.py:231: ConvergenceWarning: Solver terminated early (max_iter=700).  Consider pre-processing your data with StandardScaler or MinMaxScaler.\n",
      "  % self.max_iter, ConvergenceWarning)\n",
      "C:\\Users\\Personal\\Anaconda3\\lib\\site-packages\\sklearn\\svm\\_base.py:231: ConvergenceWarning: Solver terminated early (max_iter=700).  Consider pre-processing your data with StandardScaler or MinMaxScaler.\n",
      "  % self.max_iter, ConvergenceWarning)\n",
      "C:\\Users\\Personal\\Anaconda3\\lib\\site-packages\\sklearn\\svm\\_base.py:231: ConvergenceWarning: Solver terminated early (max_iter=700).  Consider pre-processing your data with StandardScaler or MinMaxScaler.\n",
      "  % self.max_iter, ConvergenceWarning)\n",
      "C:\\Users\\Personal\\Anaconda3\\lib\\site-packages\\sklearn\\svm\\_base.py:231: ConvergenceWarning: Solver terminated early (max_iter=700).  Consider pre-processing your data with StandardScaler or MinMaxScaler.\n",
      "  % self.max_iter, ConvergenceWarning)\n"
     ]
    },
    {
     "name": "stdout",
     "output_type": "stream",
     "text": [
      "[CV]  C=10, degree=2, gamma=100, kernel=rbf, score=0.771, total=   0.2s\n",
      "[CV] C=10, degree=2, gamma=100, kernel=poly ..........................\n",
      "[CV]  C=10, degree=2, gamma=100, kernel=poly, score=1.000, total=   0.0s\n",
      "[CV] C=10, degree=2, gamma=100, kernel=poly ..........................\n",
      "[CV]  C=10, degree=2, gamma=100, kernel=poly, score=1.000, total=   0.0s\n",
      "[CV] C=10, degree=2, gamma=100, kernel=poly ..........................\n",
      "[CV]  C=10, degree=2, gamma=100, kernel=poly, score=1.000, total=   0.0s\n",
      "[CV] C=10, degree=2, gamma=100, kernel=poly ..........................\n",
      "[CV]  C=10, degree=2, gamma=100, kernel=poly, score=1.000, total=   0.0s\n",
      "[CV] C=10, degree=2, gamma=100, kernel=poly ..........................\n",
      "[CV]  C=10, degree=2, gamma=100, kernel=poly, score=1.000, total=   0.0s\n",
      "[CV] C=10, degree=3, gamma=1, kernel=rbf .............................\n"
     ]
    },
    {
     "name": "stderr",
     "output_type": "stream",
     "text": [
      "C:\\Users\\Personal\\Anaconda3\\lib\\site-packages\\sklearn\\svm\\_base.py:231: ConvergenceWarning: Solver terminated early (max_iter=700).  Consider pre-processing your data with StandardScaler or MinMaxScaler.\n",
      "  % self.max_iter, ConvergenceWarning)\n",
      "C:\\Users\\Personal\\Anaconda3\\lib\\site-packages\\sklearn\\svm\\_base.py:231: ConvergenceWarning: Solver terminated early (max_iter=700).  Consider pre-processing your data with StandardScaler or MinMaxScaler.\n",
      "  % self.max_iter, ConvergenceWarning)\n"
     ]
    },
    {
     "name": "stdout",
     "output_type": "stream",
     "text": [
      "[CV] . C=10, degree=3, gamma=1, kernel=rbf, score=0.882, total=   0.1s\n",
      "[CV] C=10, degree=3, gamma=1, kernel=rbf .............................\n",
      "[CV] . C=10, degree=3, gamma=1, kernel=rbf, score=0.905, total=   0.1s\n",
      "[CV] C=10, degree=3, gamma=1, kernel=rbf .............................\n"
     ]
    },
    {
     "name": "stderr",
     "output_type": "stream",
     "text": [
      "C:\\Users\\Personal\\Anaconda3\\lib\\site-packages\\sklearn\\svm\\_base.py:231: ConvergenceWarning: Solver terminated early (max_iter=700).  Consider pre-processing your data with StandardScaler or MinMaxScaler.\n",
      "  % self.max_iter, ConvergenceWarning)\n",
      "C:\\Users\\Personal\\Anaconda3\\lib\\site-packages\\sklearn\\svm\\_base.py:231: ConvergenceWarning: Solver terminated early (max_iter=700).  Consider pre-processing your data with StandardScaler or MinMaxScaler.\n",
      "  % self.max_iter, ConvergenceWarning)\n",
      "C:\\Users\\Personal\\Anaconda3\\lib\\site-packages\\sklearn\\svm\\_base.py:231: ConvergenceWarning: Solver terminated early (max_iter=700).  Consider pre-processing your data with StandardScaler or MinMaxScaler.\n",
      "  % self.max_iter, ConvergenceWarning)\n"
     ]
    },
    {
     "name": "stdout",
     "output_type": "stream",
     "text": [
      "[CV] . C=10, degree=3, gamma=1, kernel=rbf, score=0.882, total=   0.1s\n",
      "[CV] C=10, degree=3, gamma=1, kernel=rbf .............................\n",
      "[CV] . C=10, degree=3, gamma=1, kernel=rbf, score=0.891, total=   0.1s\n",
      "[CV] C=10, degree=3, gamma=1, kernel=rbf .............................\n",
      "[CV] . C=10, degree=3, gamma=1, kernel=rbf, score=0.905, total=   0.1s\n",
      "[CV] C=10, degree=3, gamma=1, kernel=poly ............................\n",
      "[CV]  C=10, degree=3, gamma=1, kernel=poly, score=1.000, total=   0.0s\n",
      "[CV] C=10, degree=3, gamma=1, kernel=poly ............................\n",
      "[CV]  C=10, degree=3, gamma=1, kernel=poly, score=1.000, total=   0.0s\n",
      "[CV] C=10, degree=3, gamma=1, kernel=poly ............................\n",
      "[CV]  C=10, degree=3, gamma=1, kernel=poly, score=0.991, total=   0.0s\n",
      "[CV] C=10, degree=3, gamma=1, kernel=poly ............................\n",
      "[CV]  C=10, degree=3, gamma=1, kernel=poly, score=1.000, total=   0.0s\n",
      "[CV] C=10, degree=3, gamma=1, kernel=poly ............................\n",
      "[CV]  C=10, degree=3, gamma=1, kernel=poly, score=1.000, total=   0.0s\n",
      "[CV] C=10, degree=3, gamma=0.1, kernel=rbf ...........................\n",
      "[CV]  C=10, degree=3, gamma=0.1, kernel=rbf, score=1.000, total=   0.0s\n",
      "[CV] C=10, degree=3, gamma=0.1, kernel=rbf ...........................\n",
      "[CV]  C=10, degree=3, gamma=0.1, kernel=rbf, score=1.000, total=   0.0s\n",
      "[CV] C=10, degree=3, gamma=0.1, kernel=rbf ...........................\n",
      "[CV]  C=10, degree=3, gamma=0.1, kernel=rbf, score=1.000, total=   0.0s\n",
      "[CV] C=10, degree=3, gamma=0.1, kernel=rbf ...........................\n",
      "[CV]  C=10, degree=3, gamma=0.1, kernel=rbf, score=1.000, total=   0.0s\n",
      "[CV] C=10, degree=3, gamma=0.1, kernel=rbf ...........................\n",
      "[CV]  C=10, degree=3, gamma=0.1, kernel=rbf, score=1.000, total=   0.0s\n",
      "[CV] C=10, degree=3, gamma=0.1, kernel=poly ..........................\n",
      "[CV]  C=10, degree=3, gamma=0.1, kernel=poly, score=1.000, total=   0.0s\n",
      "[CV] C=10, degree=3, gamma=0.1, kernel=poly ..........................\n",
      "[CV]  C=10, degree=3, gamma=0.1, kernel=poly, score=1.000, total=   0.0s\n",
      "[CV] C=10, degree=3, gamma=0.1, kernel=poly ..........................\n",
      "[CV]  C=10, degree=3, gamma=0.1, kernel=poly, score=0.991, total=   0.0s\n",
      "[CV] C=10, degree=3, gamma=0.1, kernel=poly ..........................\n",
      "[CV]  C=10, degree=3, gamma=0.1, kernel=poly, score=1.000, total=   0.0s\n",
      "[CV] C=10, degree=3, gamma=0.1, kernel=poly ..........................\n",
      "[CV]  C=10, degree=3, gamma=0.1, kernel=poly, score=1.000, total=   0.0s\n",
      "[CV] C=10, degree=3, gamma=0.01, kernel=rbf ..........................\n",
      "[CV]  C=10, degree=3, gamma=0.01, kernel=rbf, score=1.000, total=   0.0s\n",
      "[CV] C=10, degree=3, gamma=0.01, kernel=rbf ..........................\n",
      "[CV]  C=10, degree=3, gamma=0.01, kernel=rbf, score=1.000, total=   0.0s\n",
      "[CV] C=10, degree=3, gamma=0.01, kernel=rbf ..........................\n",
      "[CV]  C=10, degree=3, gamma=0.01, kernel=rbf, score=1.000, total=   0.0s\n",
      "[CV] C=10, degree=3, gamma=0.01, kernel=rbf ..........................\n",
      "[CV]  C=10, degree=3, gamma=0.01, kernel=rbf, score=1.000, total=   0.0s\n",
      "[CV] C=10, degree=3, gamma=0.01, kernel=rbf ..........................\n",
      "[CV]  C=10, degree=3, gamma=0.01, kernel=rbf, score=1.000, total=   0.0s\n",
      "[CV] C=10, degree=3, gamma=0.01, kernel=poly .........................\n",
      "[CV]  C=10, degree=3, gamma=0.01, kernel=poly, score=1.000, total=   0.0s\n",
      "[CV] C=10, degree=3, gamma=0.01, kernel=poly .........................\n"
     ]
    },
    {
     "name": "stderr",
     "output_type": "stream",
     "text": [
      "C:\\Users\\Personal\\Anaconda3\\lib\\site-packages\\sklearn\\svm\\_base.py:231: ConvergenceWarning: Solver terminated early (max_iter=700).  Consider pre-processing your data with StandardScaler or MinMaxScaler.\n",
      "  % self.max_iter, ConvergenceWarning)\n"
     ]
    },
    {
     "name": "stdout",
     "output_type": "stream",
     "text": [
      "[CV]  C=10, degree=3, gamma=0.01, kernel=poly, score=1.000, total=   0.0s\n",
      "[CV] C=10, degree=3, gamma=0.01, kernel=poly .........................\n",
      "[CV]  C=10, degree=3, gamma=0.01, kernel=poly, score=0.991, total=   0.0s\n",
      "[CV] C=10, degree=3, gamma=0.01, kernel=poly .........................\n",
      "[CV]  C=10, degree=3, gamma=0.01, kernel=poly, score=1.000, total=   0.0s\n",
      "[CV] C=10, degree=3, gamma=0.01, kernel=poly .........................\n",
      "[CV]  C=10, degree=3, gamma=0.01, kernel=poly, score=1.000, total=   0.0s\n",
      "[CV] C=10, degree=3, gamma=0.001, kernel=rbf .........................\n",
      "[CV]  C=10, degree=3, gamma=0.001, kernel=rbf, score=1.000, total=   0.0s\n",
      "[CV] C=10, degree=3, gamma=0.001, kernel=rbf .........................\n",
      "[CV]  C=10, degree=3, gamma=0.001, kernel=rbf, score=1.000, total=   0.0s\n",
      "[CV] C=10, degree=3, gamma=0.001, kernel=rbf .........................\n",
      "[CV]  C=10, degree=3, gamma=0.001, kernel=rbf, score=1.000, total=   0.0s\n",
      "[CV] C=10, degree=3, gamma=0.001, kernel=rbf .........................\n",
      "[CV]  C=10, degree=3, gamma=0.001, kernel=rbf, score=1.000, total=   0.0s\n",
      "[CV] C=10, degree=3, gamma=0.001, kernel=rbf .........................\n",
      "[CV]  C=10, degree=3, gamma=0.001, kernel=rbf, score=1.000, total=   0.0s\n",
      "[CV] C=10, degree=3, gamma=0.001, kernel=poly ........................\n",
      "[CV]  C=10, degree=3, gamma=0.001, kernel=poly, score=0.739, total=   0.0s\n",
      "[CV] C=10, degree=3, gamma=0.001, kernel=poly ........................\n",
      "[CV]  C=10, degree=3, gamma=0.001, kernel=poly, score=0.739, total=   0.0s\n",
      "[CV] C=10, degree=3, gamma=0.001, kernel=poly ........................\n",
      "[CV]  C=10, degree=3, gamma=0.001, kernel=poly, score=0.668, total=   0.0s\n",
      "[CV] C=10, degree=3, gamma=0.001, kernel=poly ........................\n",
      "[CV]  C=10, degree=3, gamma=0.001, kernel=poly, score=0.758, total=   0.0s\n",
      "[CV] C=10, degree=3, gamma=0.001, kernel=poly ........................\n",
      "[CV]  C=10, degree=3, gamma=0.001, kernel=poly, score=0.771, total=   0.0s\n",
      "[CV] C=10, degree=3, gamma=100, kernel=rbf ...........................\n"
     ]
    },
    {
     "name": "stderr",
     "output_type": "stream",
     "text": [
      "C:\\Users\\Personal\\Anaconda3\\lib\\site-packages\\sklearn\\svm\\_base.py:231: ConvergenceWarning: Solver terminated early (max_iter=700).  Consider pre-processing your data with StandardScaler or MinMaxScaler.\n",
      "  % self.max_iter, ConvergenceWarning)\n",
      "C:\\Users\\Personal\\Anaconda3\\lib\\site-packages\\sklearn\\svm\\_base.py:231: ConvergenceWarning: Solver terminated early (max_iter=700).  Consider pre-processing your data with StandardScaler or MinMaxScaler.\n",
      "  % self.max_iter, ConvergenceWarning)\n"
     ]
    },
    {
     "name": "stdout",
     "output_type": "stream",
     "text": [
      "[CV]  C=10, degree=3, gamma=100, kernel=rbf, score=0.763, total=   0.2s\n",
      "[CV] C=10, degree=3, gamma=100, kernel=rbf ...........................\n",
      "[CV]  C=10, degree=3, gamma=100, kernel=rbf, score=0.796, total=   0.1s\n",
      "[CV] C=10, degree=3, gamma=100, kernel=rbf ...........................\n"
     ]
    },
    {
     "name": "stderr",
     "output_type": "stream",
     "text": [
      "C:\\Users\\Personal\\Anaconda3\\lib\\site-packages\\sklearn\\svm\\_base.py:231: ConvergenceWarning: Solver terminated early (max_iter=700).  Consider pre-processing your data with StandardScaler or MinMaxScaler.\n",
      "  % self.max_iter, ConvergenceWarning)\n",
      "C:\\Users\\Personal\\Anaconda3\\lib\\site-packages\\sklearn\\svm\\_base.py:231: ConvergenceWarning: Solver terminated early (max_iter=700).  Consider pre-processing your data with StandardScaler or MinMaxScaler.\n",
      "  % self.max_iter, ConvergenceWarning)\n"
     ]
    },
    {
     "name": "stdout",
     "output_type": "stream",
     "text": [
      "[CV]  C=10, degree=3, gamma=100, kernel=rbf, score=0.730, total=   0.1s\n",
      "[CV] C=10, degree=3, gamma=100, kernel=rbf ...........................\n",
      "[CV]  C=10, degree=3, gamma=100, kernel=rbf, score=0.763, total=   0.1s\n",
      "[CV] C=10, degree=3, gamma=100, kernel=rbf ...........................\n"
     ]
    },
    {
     "name": "stderr",
     "output_type": "stream",
     "text": [
      "C:\\Users\\Personal\\Anaconda3\\lib\\site-packages\\sklearn\\svm\\_base.py:231: ConvergenceWarning: Solver terminated early (max_iter=700).  Consider pre-processing your data with StandardScaler or MinMaxScaler.\n",
      "  % self.max_iter, ConvergenceWarning)\n",
      "C:\\Users\\Personal\\Anaconda3\\lib\\site-packages\\sklearn\\svm\\_base.py:231: ConvergenceWarning: Solver terminated early (max_iter=700).  Consider pre-processing your data with StandardScaler or MinMaxScaler.\n",
      "  % self.max_iter, ConvergenceWarning)\n"
     ]
    },
    {
     "name": "stdout",
     "output_type": "stream",
     "text": [
      "[CV]  C=10, degree=3, gamma=100, kernel=rbf, score=0.771, total=   0.1s\n",
      "[CV] C=10, degree=3, gamma=100, kernel=poly ..........................\n",
      "[CV]  C=10, degree=3, gamma=100, kernel=poly, score=1.000, total=   0.0s\n",
      "[CV] C=10, degree=3, gamma=100, kernel=poly ..........................\n",
      "[CV]  C=10, degree=3, gamma=100, kernel=poly, score=1.000, total=   0.0s\n",
      "[CV] C=10, degree=3, gamma=100, kernel=poly ..........................\n",
      "[CV]  C=10, degree=3, gamma=100, kernel=poly, score=0.991, total=   0.0s\n",
      "[CV] C=10, degree=3, gamma=100, kernel=poly ..........................\n",
      "[CV]  C=10, degree=3, gamma=100, kernel=poly, score=1.000, total=   0.0s\n",
      "[CV] C=10, degree=3, gamma=100, kernel=poly ..........................\n",
      "[CV]  C=10, degree=3, gamma=100, kernel=poly, score=1.000, total=   0.0s\n",
      "[CV] C=10, degree=4, gamma=1, kernel=rbf .............................\n",
      "[CV] . C=10, degree=4, gamma=1, kernel=rbf, score=0.882, total=   0.1s\n",
      "[CV] C=10, degree=4, gamma=1, kernel=rbf .............................\n"
     ]
    },
    {
     "name": "stderr",
     "output_type": "stream",
     "text": [
      "C:\\Users\\Personal\\Anaconda3\\lib\\site-packages\\sklearn\\svm\\_base.py:231: ConvergenceWarning: Solver terminated early (max_iter=700).  Consider pre-processing your data with StandardScaler or MinMaxScaler.\n",
      "  % self.max_iter, ConvergenceWarning)\n",
      "C:\\Users\\Personal\\Anaconda3\\lib\\site-packages\\sklearn\\svm\\_base.py:231: ConvergenceWarning: Solver terminated early (max_iter=700).  Consider pre-processing your data with StandardScaler or MinMaxScaler.\n",
      "  % self.max_iter, ConvergenceWarning)\n",
      "C:\\Users\\Personal\\Anaconda3\\lib\\site-packages\\sklearn\\svm\\_base.py:231: ConvergenceWarning: Solver terminated early (max_iter=700).  Consider pre-processing your data with StandardScaler or MinMaxScaler.\n",
      "  % self.max_iter, ConvergenceWarning)\n",
      "C:\\Users\\Personal\\Anaconda3\\lib\\site-packages\\sklearn\\svm\\_base.py:231: ConvergenceWarning: Solver terminated early (max_iter=700).  Consider pre-processing your data with StandardScaler or MinMaxScaler.\n",
      "  % self.max_iter, ConvergenceWarning)\n"
     ]
    },
    {
     "name": "stdout",
     "output_type": "stream",
     "text": [
      "[CV] . C=10, degree=4, gamma=1, kernel=rbf, score=0.905, total=   0.1s\n",
      "[CV] C=10, degree=4, gamma=1, kernel=rbf .............................\n",
      "[CV] . C=10, degree=4, gamma=1, kernel=rbf, score=0.882, total=   0.1s\n",
      "[CV] C=10, degree=4, gamma=1, kernel=rbf .............................\n",
      "[CV] . C=10, degree=4, gamma=1, kernel=rbf, score=0.891, total=   0.1s\n",
      "[CV] C=10, degree=4, gamma=1, kernel=rbf .............................\n",
      "[CV] . C=10, degree=4, gamma=1, kernel=rbf, score=0.905, total=   0.1s\n",
      "[CV] C=10, degree=4, gamma=1, kernel=poly ............................\n",
      "[CV]  C=10, degree=4, gamma=1, kernel=poly, score=1.000, total=   0.0s\n",
      "[CV] C=10, degree=4, gamma=1, kernel=poly ............................\n",
      "[CV]  C=10, degree=4, gamma=1, kernel=poly, score=1.000, total=   0.0s\n",
      "[CV] C=10, degree=4, gamma=1, kernel=poly ............................\n",
      "[CV]  C=10, degree=4, gamma=1, kernel=poly, score=0.991, total=   0.0s\n",
      "[CV] C=10, degree=4, gamma=1, kernel=poly ............................\n",
      "[CV]  C=10, degree=4, gamma=1, kernel=poly, score=1.000, total=   0.0s\n",
      "[CV] C=10, degree=4, gamma=1, kernel=poly ............................\n",
      "[CV]  C=10, degree=4, gamma=1, kernel=poly, score=1.000, total=   0.0s\n",
      "[CV] C=10, degree=4, gamma=0.1, kernel=rbf ...........................\n",
      "[CV]  C=10, degree=4, gamma=0.1, kernel=rbf, score=1.000, total=   0.0s\n",
      "[CV] C=10, degree=4, gamma=0.1, kernel=rbf ...........................\n",
      "[CV]  C=10, degree=4, gamma=0.1, kernel=rbf, score=1.000, total=   0.0s\n",
      "[CV] C=10, degree=4, gamma=0.1, kernel=rbf ...........................\n",
      "[CV]  C=10, degree=4, gamma=0.1, kernel=rbf, score=1.000, total=   0.0s\n",
      "[CV] C=10, degree=4, gamma=0.1, kernel=rbf ...........................\n",
      "[CV]  C=10, degree=4, gamma=0.1, kernel=rbf, score=1.000, total=   0.0s\n",
      "[CV] C=10, degree=4, gamma=0.1, kernel=rbf ...........................\n",
      "[CV]  C=10, degree=4, gamma=0.1, kernel=rbf, score=1.000, total=   0.0s\n",
      "[CV] C=10, degree=4, gamma=0.1, kernel=poly ..........................\n",
      "[CV]  C=10, degree=4, gamma=0.1, kernel=poly, score=1.000, total=   0.0s\n",
      "[CV] C=10, degree=4, gamma=0.1, kernel=poly ..........................\n",
      "[CV]  C=10, degree=4, gamma=0.1, kernel=poly, score=1.000, total=   0.0s\n",
      "[CV] C=10, degree=4, gamma=0.1, kernel=poly ..........................\n",
      "[CV]  C=10, degree=4, gamma=0.1, kernel=poly, score=0.991, total=   0.0s\n",
      "[CV] C=10, degree=4, gamma=0.1, kernel=poly ..........................\n",
      "[CV]  C=10, degree=4, gamma=0.1, kernel=poly, score=1.000, total=   0.0s\n",
      "[CV] C=10, degree=4, gamma=0.1, kernel=poly ..........................\n",
      "[CV]  C=10, degree=4, gamma=0.1, kernel=poly, score=1.000, total=   0.0s\n",
      "[CV] C=10, degree=4, gamma=0.01, kernel=rbf ..........................\n",
      "[CV]  C=10, degree=4, gamma=0.01, kernel=rbf, score=1.000, total=   0.0s\n",
      "[CV] C=10, degree=4, gamma=0.01, kernel=rbf ..........................\n",
      "[CV]  C=10, degree=4, gamma=0.01, kernel=rbf, score=1.000, total=   0.0s\n",
      "[CV] C=10, degree=4, gamma=0.01, kernel=rbf ..........................\n",
      "[CV]  C=10, degree=4, gamma=0.01, kernel=rbf, score=1.000, total=   0.0s\n",
      "[CV] C=10, degree=4, gamma=0.01, kernel=rbf ..........................\n",
      "[CV]  C=10, degree=4, gamma=0.01, kernel=rbf, score=1.000, total=   0.0s\n",
      "[CV] C=10, degree=4, gamma=0.01, kernel=rbf ..........................\n",
      "[CV]  C=10, degree=4, gamma=0.01, kernel=rbf, score=1.000, total=   0.0s\n",
      "[CV] C=10, degree=4, gamma=0.01, kernel=poly .........................\n",
      "[CV]  C=10, degree=4, gamma=0.01, kernel=poly, score=1.000, total=   0.0s\n",
      "[CV] C=10, degree=4, gamma=0.01, kernel=poly .........................\n",
      "[CV]  C=10, degree=4, gamma=0.01, kernel=poly, score=1.000, total=   0.0s\n"
     ]
    },
    {
     "name": "stderr",
     "output_type": "stream",
     "text": [
      "C:\\Users\\Personal\\Anaconda3\\lib\\site-packages\\sklearn\\svm\\_base.py:231: ConvergenceWarning: Solver terminated early (max_iter=700).  Consider pre-processing your data with StandardScaler or MinMaxScaler.\n",
      "  % self.max_iter, ConvergenceWarning)\n"
     ]
    },
    {
     "name": "stdout",
     "output_type": "stream",
     "text": [
      "[CV] C=10, degree=4, gamma=0.01, kernel=poly .........................\n",
      "[CV]  C=10, degree=4, gamma=0.01, kernel=poly, score=0.991, total=   0.0s\n",
      "[CV] C=10, degree=4, gamma=0.01, kernel=poly .........................\n",
      "[CV]  C=10, degree=4, gamma=0.01, kernel=poly, score=1.000, total=   0.0s\n",
      "[CV] C=10, degree=4, gamma=0.01, kernel=poly .........................\n",
      "[CV]  C=10, degree=4, gamma=0.01, kernel=poly, score=0.995, total=   0.0s\n",
      "[CV] C=10, degree=4, gamma=0.001, kernel=rbf .........................\n",
      "[CV]  C=10, degree=4, gamma=0.001, kernel=rbf, score=1.000, total=   0.0s\n",
      "[CV] C=10, degree=4, gamma=0.001, kernel=rbf .........................\n",
      "[CV]  C=10, degree=4, gamma=0.001, kernel=rbf, score=1.000, total=   0.0s\n",
      "[CV] C=10, degree=4, gamma=0.001, kernel=rbf .........................\n",
      "[CV]  C=10, degree=4, gamma=0.001, kernel=rbf, score=1.000, total=   0.0s\n",
      "[CV] C=10, degree=4, gamma=0.001, kernel=rbf .........................\n",
      "[CV]  C=10, degree=4, gamma=0.001, kernel=rbf, score=1.000, total=   0.0s\n",
      "[CV] C=10, degree=4, gamma=0.001, kernel=rbf .........................\n",
      "[CV]  C=10, degree=4, gamma=0.001, kernel=rbf, score=1.000, total=   0.0s\n",
      "[CV] C=10, degree=4, gamma=0.001, kernel=poly ........................\n",
      "[CV]  C=10, degree=4, gamma=0.001, kernel=poly, score=0.692, total=   0.0s\n",
      "[CV] C=10, degree=4, gamma=0.001, kernel=poly ........................\n",
      "[CV]  C=10, degree=4, gamma=0.001, kernel=poly, score=0.711, total=   0.0s\n",
      "[CV] C=10, degree=4, gamma=0.001, kernel=poly ........................\n",
      "[CV]  C=10, degree=4, gamma=0.001, kernel=poly, score=0.664, total=   0.0s\n",
      "[CV] C=10, degree=4, gamma=0.001, kernel=poly ........................\n",
      "[CV]  C=10, degree=4, gamma=0.001, kernel=poly, score=0.697, total=   0.0s\n",
      "[CV] C=10, degree=4, gamma=0.001, kernel=poly ........................\n",
      "[CV]  C=10, degree=4, gamma=0.001, kernel=poly, score=0.690, total=   0.0s\n",
      "[CV] C=10, degree=4, gamma=100, kernel=rbf ...........................\n"
     ]
    },
    {
     "name": "stderr",
     "output_type": "stream",
     "text": [
      "C:\\Users\\Personal\\Anaconda3\\lib\\site-packages\\sklearn\\svm\\_base.py:231: ConvergenceWarning: Solver terminated early (max_iter=700).  Consider pre-processing your data with StandardScaler or MinMaxScaler.\n",
      "  % self.max_iter, ConvergenceWarning)\n",
      "C:\\Users\\Personal\\Anaconda3\\lib\\site-packages\\sklearn\\svm\\_base.py:231: ConvergenceWarning: Solver terminated early (max_iter=700).  Consider pre-processing your data with StandardScaler or MinMaxScaler.\n",
      "  % self.max_iter, ConvergenceWarning)\n"
     ]
    },
    {
     "name": "stdout",
     "output_type": "stream",
     "text": [
      "[CV]  C=10, degree=4, gamma=100, kernel=rbf, score=0.763, total=   0.1s\n",
      "[CV] C=10, degree=4, gamma=100, kernel=rbf ...........................\n",
      "[CV]  C=10, degree=4, gamma=100, kernel=rbf, score=0.796, total=   0.1s\n",
      "[CV] C=10, degree=4, gamma=100, kernel=rbf ...........................\n"
     ]
    },
    {
     "name": "stderr",
     "output_type": "stream",
     "text": [
      "C:\\Users\\Personal\\Anaconda3\\lib\\site-packages\\sklearn\\svm\\_base.py:231: ConvergenceWarning: Solver terminated early (max_iter=700).  Consider pre-processing your data with StandardScaler or MinMaxScaler.\n",
      "  % self.max_iter, ConvergenceWarning)\n",
      "C:\\Users\\Personal\\Anaconda3\\lib\\site-packages\\sklearn\\svm\\_base.py:231: ConvergenceWarning: Solver terminated early (max_iter=700).  Consider pre-processing your data with StandardScaler or MinMaxScaler.\n",
      "  % self.max_iter, ConvergenceWarning)\n"
     ]
    },
    {
     "name": "stdout",
     "output_type": "stream",
     "text": [
      "[CV]  C=10, degree=4, gamma=100, kernel=rbf, score=0.730, total=   0.2s\n",
      "[CV] C=10, degree=4, gamma=100, kernel=rbf ...........................\n",
      "[CV]  C=10, degree=4, gamma=100, kernel=rbf, score=0.763, total=   0.1s\n",
      "[CV] C=10, degree=4, gamma=100, kernel=rbf ...........................\n"
     ]
    },
    {
     "name": "stderr",
     "output_type": "stream",
     "text": [
      "C:\\Users\\Personal\\Anaconda3\\lib\\site-packages\\sklearn\\svm\\_base.py:231: ConvergenceWarning: Solver terminated early (max_iter=700).  Consider pre-processing your data with StandardScaler or MinMaxScaler.\n",
      "  % self.max_iter, ConvergenceWarning)\n",
      "C:\\Users\\Personal\\Anaconda3\\lib\\site-packages\\sklearn\\svm\\_base.py:231: ConvergenceWarning: Solver terminated early (max_iter=700).  Consider pre-processing your data with StandardScaler or MinMaxScaler.\n",
      "  % self.max_iter, ConvergenceWarning)\n"
     ]
    },
    {
     "name": "stdout",
     "output_type": "stream",
     "text": [
      "[CV]  C=10, degree=4, gamma=100, kernel=rbf, score=0.771, total=   0.2s\n",
      "[CV] C=10, degree=4, gamma=100, kernel=poly ..........................\n",
      "[CV]  C=10, degree=4, gamma=100, kernel=poly, score=1.000, total=   0.0s\n",
      "[CV] C=10, degree=4, gamma=100, kernel=poly ..........................\n",
      "[CV]  C=10, degree=4, gamma=100, kernel=poly, score=1.000, total=   0.0s\n",
      "[CV] C=10, degree=4, gamma=100, kernel=poly ..........................\n",
      "[CV]  C=10, degree=4, gamma=100, kernel=poly, score=0.991, total=   0.0s\n",
      "[CV] C=10, degree=4, gamma=100, kernel=poly ..........................\n",
      "[CV]  C=10, degree=4, gamma=100, kernel=poly, score=1.000, total=   0.0s\n",
      "[CV] C=10, degree=4, gamma=100, kernel=poly ..........................\n",
      "[CV]  C=10, degree=4, gamma=100, kernel=poly, score=1.000, total=   0.0s\n",
      "[CV] C=100, degree=2, gamma=1, kernel=rbf ............................\n",
      "[CV]  C=100, degree=2, gamma=1, kernel=rbf, score=0.882, total=   0.1s\n",
      "[CV] C=100, degree=2, gamma=1, kernel=rbf ............................\n"
     ]
    },
    {
     "name": "stderr",
     "output_type": "stream",
     "text": [
      "C:\\Users\\Personal\\Anaconda3\\lib\\site-packages\\sklearn\\svm\\_base.py:231: ConvergenceWarning: Solver terminated early (max_iter=700).  Consider pre-processing your data with StandardScaler or MinMaxScaler.\n",
      "  % self.max_iter, ConvergenceWarning)\n",
      "C:\\Users\\Personal\\Anaconda3\\lib\\site-packages\\sklearn\\svm\\_base.py:231: ConvergenceWarning: Solver terminated early (max_iter=700).  Consider pre-processing your data with StandardScaler or MinMaxScaler.\n",
      "  % self.max_iter, ConvergenceWarning)\n",
      "C:\\Users\\Personal\\Anaconda3\\lib\\site-packages\\sklearn\\svm\\_base.py:231: ConvergenceWarning: Solver terminated early (max_iter=700).  Consider pre-processing your data with StandardScaler or MinMaxScaler.\n",
      "  % self.max_iter, ConvergenceWarning)\n"
     ]
    },
    {
     "name": "stdout",
     "output_type": "stream",
     "text": [
      "[CV]  C=100, degree=2, gamma=1, kernel=rbf, score=0.905, total=   0.1s\n",
      "[CV] C=100, degree=2, gamma=1, kernel=rbf ............................\n",
      "[CV]  C=100, degree=2, gamma=1, kernel=rbf, score=0.882, total=   0.1s\n",
      "[CV] C=100, degree=2, gamma=1, kernel=rbf ............................\n",
      "[CV]  C=100, degree=2, gamma=1, kernel=rbf, score=0.891, total=   0.1s\n",
      "[CV] C=100, degree=2, gamma=1, kernel=rbf ............................\n"
     ]
    },
    {
     "name": "stderr",
     "output_type": "stream",
     "text": [
      "C:\\Users\\Personal\\Anaconda3\\lib\\site-packages\\sklearn\\svm\\_base.py:231: ConvergenceWarning: Solver terminated early (max_iter=700).  Consider pre-processing your data with StandardScaler or MinMaxScaler.\n",
      "  % self.max_iter, ConvergenceWarning)\n",
      "C:\\Users\\Personal\\Anaconda3\\lib\\site-packages\\sklearn\\svm\\_base.py:231: ConvergenceWarning: Solver terminated early (max_iter=700).  Consider pre-processing your data with StandardScaler or MinMaxScaler.\n",
      "  % self.max_iter, ConvergenceWarning)\n",
      "C:\\Users\\Personal\\Anaconda3\\lib\\site-packages\\sklearn\\svm\\_base.py:231: ConvergenceWarning: Solver terminated early (max_iter=700).  Consider pre-processing your data with StandardScaler or MinMaxScaler.\n",
      "  % self.max_iter, ConvergenceWarning)\n",
      "C:\\Users\\Personal\\Anaconda3\\lib\\site-packages\\sklearn\\svm\\_base.py:231: ConvergenceWarning: Solver terminated early (max_iter=700).  Consider pre-processing your data with StandardScaler or MinMaxScaler.\n",
      "  % self.max_iter, ConvergenceWarning)\n",
      "C:\\Users\\Personal\\Anaconda3\\lib\\site-packages\\sklearn\\svm\\_base.py:231: ConvergenceWarning: Solver terminated early (max_iter=700).  Consider pre-processing your data with StandardScaler or MinMaxScaler.\n",
      "  % self.max_iter, ConvergenceWarning)\n"
     ]
    },
    {
     "name": "stdout",
     "output_type": "stream",
     "text": [
      "[CV]  C=100, degree=2, gamma=1, kernel=rbf, score=0.905, total=   0.1s\n",
      "[CV] C=100, degree=2, gamma=1, kernel=poly ...........................\n",
      "[CV]  C=100, degree=2, gamma=1, kernel=poly, score=1.000, total=   0.0s\n",
      "[CV] C=100, degree=2, gamma=1, kernel=poly ...........................\n",
      "[CV]  C=100, degree=2, gamma=1, kernel=poly, score=1.000, total=   0.0s\n",
      "[CV] C=100, degree=2, gamma=1, kernel=poly ...........................\n",
      "[CV]  C=100, degree=2, gamma=1, kernel=poly, score=1.000, total=   0.0s\n",
      "[CV] C=100, degree=2, gamma=1, kernel=poly ...........................\n",
      "[CV]  C=100, degree=2, gamma=1, kernel=poly, score=1.000, total=   0.0s\n",
      "[CV] C=100, degree=2, gamma=1, kernel=poly ...........................\n",
      "[CV]  C=100, degree=2, gamma=1, kernel=poly, score=1.000, total=   0.0s\n",
      "[CV] C=100, degree=2, gamma=0.1, kernel=rbf ..........................\n",
      "[CV]  C=100, degree=2, gamma=0.1, kernel=rbf, score=1.000, total=   0.0s\n",
      "[CV] C=100, degree=2, gamma=0.1, kernel=rbf ..........................\n",
      "[CV]  C=100, degree=2, gamma=0.1, kernel=rbf, score=1.000, total=   0.0s\n",
      "[CV] C=100, degree=2, gamma=0.1, kernel=rbf ..........................\n",
      "[CV]  C=100, degree=2, gamma=0.1, kernel=rbf, score=1.000, total=   0.0s\n",
      "[CV] C=100, degree=2, gamma=0.1, kernel=rbf ..........................\n",
      "[CV]  C=100, degree=2, gamma=0.1, kernel=rbf, score=1.000, total=   0.0s\n",
      "[CV] C=100, degree=2, gamma=0.1, kernel=rbf ..........................\n",
      "[CV]  C=100, degree=2, gamma=0.1, kernel=rbf, score=1.000, total=   0.0s\n",
      "[CV] C=100, degree=2, gamma=0.1, kernel=poly .........................\n",
      "[CV]  C=100, degree=2, gamma=0.1, kernel=poly, score=1.000, total=   0.0s\n",
      "[CV] C=100, degree=2, gamma=0.1, kernel=poly .........................\n",
      "[CV]  C=100, degree=2, gamma=0.1, kernel=poly, score=1.000, total=   0.0s\n",
      "[CV] C=100, degree=2, gamma=0.1, kernel=poly .........................\n",
      "[CV]  C=100, degree=2, gamma=0.1, kernel=poly, score=1.000, total=   0.0s\n",
      "[CV] C=100, degree=2, gamma=0.1, kernel=poly .........................\n",
      "[CV]  C=100, degree=2, gamma=0.1, kernel=poly, score=1.000, total=   0.0s\n",
      "[CV] C=100, degree=2, gamma=0.1, kernel=poly .........................\n",
      "[CV]  C=100, degree=2, gamma=0.1, kernel=poly, score=1.000, total=   0.0s\n",
      "[CV] C=100, degree=2, gamma=0.01, kernel=rbf .........................\n",
      "[CV]  C=100, degree=2, gamma=0.01, kernel=rbf, score=1.000, total=   0.0s\n",
      "[CV] C=100, degree=2, gamma=0.01, kernel=rbf .........................\n",
      "[CV]  C=100, degree=2, gamma=0.01, kernel=rbf, score=1.000, total=   0.0s\n",
      "[CV] C=100, degree=2, gamma=0.01, kernel=rbf .........................\n",
      "[CV]  C=100, degree=2, gamma=0.01, kernel=rbf, score=1.000, total=   0.0s\n",
      "[CV] C=100, degree=2, gamma=0.01, kernel=rbf .........................\n",
      "[CV]  C=100, degree=2, gamma=0.01, kernel=rbf, score=1.000, total=   0.0s\n",
      "[CV] C=100, degree=2, gamma=0.01, kernel=rbf .........................\n",
      "[CV]  C=100, degree=2, gamma=0.01, kernel=rbf, score=1.000, total=   0.0s"
     ]
    },
    {
     "name": "stderr",
     "output_type": "stream",
     "text": [
      "C:\\Users\\Personal\\Anaconda3\\lib\\site-packages\\sklearn\\svm\\_base.py:231: ConvergenceWarning: Solver terminated early (max_iter=700).  Consider pre-processing your data with StandardScaler or MinMaxScaler.\n",
      "  % self.max_iter, ConvergenceWarning)\n",
      "C:\\Users\\Personal\\Anaconda3\\lib\\site-packages\\sklearn\\svm\\_base.py:231: ConvergenceWarning: Solver terminated early (max_iter=700).  Consider pre-processing your data with StandardScaler or MinMaxScaler.\n",
      "  % self.max_iter, ConvergenceWarning)\n",
      "C:\\Users\\Personal\\Anaconda3\\lib\\site-packages\\sklearn\\svm\\_base.py:231: ConvergenceWarning: Solver terminated early (max_iter=700).  Consider pre-processing your data with StandardScaler or MinMaxScaler.\n",
      "  % self.max_iter, ConvergenceWarning)\n",
      "C:\\Users\\Personal\\Anaconda3\\lib\\site-packages\\sklearn\\svm\\_base.py:231: ConvergenceWarning: Solver terminated early (max_iter=700).  Consider pre-processing your data with StandardScaler or MinMaxScaler.\n",
      "  % self.max_iter, ConvergenceWarning)\n",
      "C:\\Users\\Personal\\Anaconda3\\lib\\site-packages\\sklearn\\svm\\_base.py:231: ConvergenceWarning: Solver terminated early (max_iter=700).  Consider pre-processing your data with StandardScaler or MinMaxScaler.\n",
      "  % self.max_iter, ConvergenceWarning)\n",
      "C:\\Users\\Personal\\Anaconda3\\lib\\site-packages\\sklearn\\svm\\_base.py:231: ConvergenceWarning: Solver terminated early (max_iter=700).  Consider pre-processing your data with StandardScaler or MinMaxScaler.\n",
      "  % self.max_iter, ConvergenceWarning)\n",
      "C:\\Users\\Personal\\Anaconda3\\lib\\site-packages\\sklearn\\svm\\_base.py:231: ConvergenceWarning: Solver terminated early (max_iter=700).  Consider pre-processing your data with StandardScaler or MinMaxScaler.\n",
      "  % self.max_iter, ConvergenceWarning)\n"
     ]
    },
    {
     "name": "stdout",
     "output_type": "stream",
     "text": [
      "\n",
      "[CV] C=100, degree=2, gamma=0.01, kernel=poly ........................\n",
      "[CV]  C=100, degree=2, gamma=0.01, kernel=poly, score=1.000, total=   0.0s\n",
      "[CV] C=100, degree=2, gamma=0.01, kernel=poly ........................\n",
      "[CV]  C=100, degree=2, gamma=0.01, kernel=poly, score=1.000, total=   0.0s\n",
      "[CV] C=100, degree=2, gamma=0.01, kernel=poly ........................\n",
      "[CV]  C=100, degree=2, gamma=0.01, kernel=poly, score=1.000, total=   0.0s\n",
      "[CV] C=100, degree=2, gamma=0.01, kernel=poly ........................\n",
      "[CV]  C=100, degree=2, gamma=0.01, kernel=poly, score=1.000, total=   0.0s\n",
      "[CV] C=100, degree=2, gamma=0.01, kernel=poly ........................\n",
      "[CV]  C=100, degree=2, gamma=0.01, kernel=poly, score=1.000, total=   0.0s\n",
      "[CV] C=100, degree=2, gamma=0.001, kernel=rbf ........................\n",
      "[CV]  C=100, degree=2, gamma=0.001, kernel=rbf, score=1.000, total=   0.0s\n",
      "[CV] C=100, degree=2, gamma=0.001, kernel=rbf ........................\n",
      "[CV]  C=100, degree=2, gamma=0.001, kernel=rbf, score=1.000, total=   0.0s\n",
      "[CV] C=100, degree=2, gamma=0.001, kernel=rbf ........................\n",
      "[CV]  C=100, degree=2, gamma=0.001, kernel=rbf, score=1.000, total=   0.0s\n",
      "[CV] C=100, degree=2, gamma=0.001, kernel=rbf ........................\n",
      "[CV]  C=100, degree=2, gamma=0.001, kernel=rbf, score=1.000, total=   0.0s\n",
      "[CV] C=100, degree=2, gamma=0.001, kernel=rbf ........................\n"
     ]
    },
    {
     "name": "stderr",
     "output_type": "stream",
     "text": [
      "C:\\Users\\Personal\\Anaconda3\\lib\\site-packages\\sklearn\\svm\\_base.py:231: ConvergenceWarning: Solver terminated early (max_iter=700).  Consider pre-processing your data with StandardScaler or MinMaxScaler.\n",
      "  % self.max_iter, ConvergenceWarning)\n",
      "C:\\Users\\Personal\\Anaconda3\\lib\\site-packages\\sklearn\\svm\\_base.py:231: ConvergenceWarning: Solver terminated early (max_iter=700).  Consider pre-processing your data with StandardScaler or MinMaxScaler.\n",
      "  % self.max_iter, ConvergenceWarning)\n",
      "C:\\Users\\Personal\\Anaconda3\\lib\\site-packages\\sklearn\\svm\\_base.py:231: ConvergenceWarning: Solver terminated early (max_iter=700).  Consider pre-processing your data with StandardScaler or MinMaxScaler.\n",
      "  % self.max_iter, ConvergenceWarning)\n",
      "C:\\Users\\Personal\\Anaconda3\\lib\\site-packages\\sklearn\\svm\\_base.py:231: ConvergenceWarning: Solver terminated early (max_iter=700).  Consider pre-processing your data with StandardScaler or MinMaxScaler.\n",
      "  % self.max_iter, ConvergenceWarning)\n",
      "C:\\Users\\Personal\\Anaconda3\\lib\\site-packages\\sklearn\\svm\\_base.py:231: ConvergenceWarning: Solver terminated early (max_iter=700).  Consider pre-processing your data with StandardScaler or MinMaxScaler.\n",
      "  % self.max_iter, ConvergenceWarning)\n",
      "C:\\Users\\Personal\\Anaconda3\\lib\\site-packages\\sklearn\\svm\\_base.py:231: ConvergenceWarning: Solver terminated early (max_iter=700).  Consider pre-processing your data with StandardScaler or MinMaxScaler.\n",
      "  % self.max_iter, ConvergenceWarning)\n",
      "C:\\Users\\Personal\\Anaconda3\\lib\\site-packages\\sklearn\\svm\\_base.py:231: ConvergenceWarning: Solver terminated early (max_iter=700).  Consider pre-processing your data with StandardScaler or MinMaxScaler.\n",
      "  % self.max_iter, ConvergenceWarning)\n",
      "C:\\Users\\Personal\\Anaconda3\\lib\\site-packages\\sklearn\\svm\\_base.py:231: ConvergenceWarning: Solver terminated early (max_iter=700).  Consider pre-processing your data with StandardScaler or MinMaxScaler.\n",
      "  % self.max_iter, ConvergenceWarning)\n"
     ]
    },
    {
     "name": "stdout",
     "output_type": "stream",
     "text": [
      "[CV]  C=100, degree=2, gamma=0.001, kernel=rbf, score=1.000, total=   0.0s\n",
      "[CV] C=100, degree=2, gamma=0.001, kernel=poly .......................\n",
      "[CV]  C=100, degree=2, gamma=0.001, kernel=poly, score=1.000, total=   0.0s\n",
      "[CV] C=100, degree=2, gamma=0.001, kernel=poly .......................\n",
      "[CV]  C=100, degree=2, gamma=0.001, kernel=poly, score=1.000, total=   0.0s\n",
      "[CV] C=100, degree=2, gamma=0.001, kernel=poly .......................\n",
      "[CV]  C=100, degree=2, gamma=0.001, kernel=poly, score=1.000, total=   0.0s\n",
      "[CV] C=100, degree=2, gamma=0.001, kernel=poly .......................\n",
      "[CV]  C=100, degree=2, gamma=0.001, kernel=poly, score=1.000, total=   0.0s\n",
      "[CV] C=100, degree=2, gamma=0.001, kernel=poly .......................\n",
      "[CV]  C=100, degree=2, gamma=0.001, kernel=poly, score=1.000, total=   0.0s\n",
      "[CV] C=100, degree=2, gamma=100, kernel=rbf ..........................\n"
     ]
    },
    {
     "name": "stderr",
     "output_type": "stream",
     "text": [
      "C:\\Users\\Personal\\Anaconda3\\lib\\site-packages\\sklearn\\svm\\_base.py:231: ConvergenceWarning: Solver terminated early (max_iter=700).  Consider pre-processing your data with StandardScaler or MinMaxScaler.\n",
      "  % self.max_iter, ConvergenceWarning)\n",
      "C:\\Users\\Personal\\Anaconda3\\lib\\site-packages\\sklearn\\svm\\_base.py:231: ConvergenceWarning: Solver terminated early (max_iter=700).  Consider pre-processing your data with StandardScaler or MinMaxScaler.\n",
      "  % self.max_iter, ConvergenceWarning)\n"
     ]
    },
    {
     "name": "stdout",
     "output_type": "stream",
     "text": [
      "[CV]  C=100, degree=2, gamma=100, kernel=rbf, score=0.763, total=   0.1s\n",
      "[CV] C=100, degree=2, gamma=100, kernel=rbf ..........................\n",
      "[CV]  C=100, degree=2, gamma=100, kernel=rbf, score=0.796, total=   0.1s\n",
      "[CV] C=100, degree=2, gamma=100, kernel=rbf ..........................\n"
     ]
    },
    {
     "name": "stderr",
     "output_type": "stream",
     "text": [
      "C:\\Users\\Personal\\Anaconda3\\lib\\site-packages\\sklearn\\svm\\_base.py:231: ConvergenceWarning: Solver terminated early (max_iter=700).  Consider pre-processing your data with StandardScaler or MinMaxScaler.\n",
      "  % self.max_iter, ConvergenceWarning)\n",
      "C:\\Users\\Personal\\Anaconda3\\lib\\site-packages\\sklearn\\svm\\_base.py:231: ConvergenceWarning: Solver terminated early (max_iter=700).  Consider pre-processing your data with StandardScaler or MinMaxScaler.\n",
      "  % self.max_iter, ConvergenceWarning)\n"
     ]
    },
    {
     "name": "stdout",
     "output_type": "stream",
     "text": [
      "[CV]  C=100, degree=2, gamma=100, kernel=rbf, score=0.730, total=   0.2s\n",
      "[CV] C=100, degree=2, gamma=100, kernel=rbf ..........................\n",
      "[CV]  C=100, degree=2, gamma=100, kernel=rbf, score=0.763, total=   0.1s\n",
      "[CV] C=100, degree=2, gamma=100, kernel=rbf ..........................\n"
     ]
    },
    {
     "name": "stderr",
     "output_type": "stream",
     "text": [
      "C:\\Users\\Personal\\Anaconda3\\lib\\site-packages\\sklearn\\svm\\_base.py:231: ConvergenceWarning: Solver terminated early (max_iter=700).  Consider pre-processing your data with StandardScaler or MinMaxScaler.\n",
      "  % self.max_iter, ConvergenceWarning)\n",
      "C:\\Users\\Personal\\Anaconda3\\lib\\site-packages\\sklearn\\svm\\_base.py:231: ConvergenceWarning: Solver terminated early (max_iter=700).  Consider pre-processing your data with StandardScaler or MinMaxScaler.\n",
      "  % self.max_iter, ConvergenceWarning)\n",
      "C:\\Users\\Personal\\Anaconda3\\lib\\site-packages\\sklearn\\svm\\_base.py:231: ConvergenceWarning: Solver terminated early (max_iter=700).  Consider pre-processing your data with StandardScaler or MinMaxScaler.\n",
      "  % self.max_iter, ConvergenceWarning)\n",
      "C:\\Users\\Personal\\Anaconda3\\lib\\site-packages\\sklearn\\svm\\_base.py:231: ConvergenceWarning: Solver terminated early (max_iter=700).  Consider pre-processing your data with StandardScaler or MinMaxScaler.\n",
      "  % self.max_iter, ConvergenceWarning)\n",
      "C:\\Users\\Personal\\Anaconda3\\lib\\site-packages\\sklearn\\svm\\_base.py:231: ConvergenceWarning: Solver terminated early (max_iter=700).  Consider pre-processing your data with StandardScaler or MinMaxScaler.\n",
      "  % self.max_iter, ConvergenceWarning)\n"
     ]
    },
    {
     "name": "stdout",
     "output_type": "stream",
     "text": [
      "[CV]  C=100, degree=2, gamma=100, kernel=rbf, score=0.771, total=   0.1s\n",
      "[CV] C=100, degree=2, gamma=100, kernel=poly .........................\n",
      "[CV]  C=100, degree=2, gamma=100, kernel=poly, score=1.000, total=   0.0s\n",
      "[CV] C=100, degree=2, gamma=100, kernel=poly .........................\n",
      "[CV]  C=100, degree=2, gamma=100, kernel=poly, score=1.000, total=   0.0s\n",
      "[CV] C=100, degree=2, gamma=100, kernel=poly .........................\n",
      "[CV]  C=100, degree=2, gamma=100, kernel=poly, score=1.000, total=   0.0s\n",
      "[CV] C=100, degree=2, gamma=100, kernel=poly .........................\n",
      "[CV]  C=100, degree=2, gamma=100, kernel=poly, score=1.000, total=   0.0s\n",
      "[CV] C=100, degree=2, gamma=100, kernel=poly .........................\n",
      "[CV]  C=100, degree=2, gamma=100, kernel=poly, score=1.000, total=   0.0s\n",
      "[CV] C=100, degree=3, gamma=1, kernel=rbf ............................\n",
      "[CV]  C=100, degree=3, gamma=1, kernel=rbf, score=0.882, total=   0.1s\n",
      "[CV] C=100, degree=3, gamma=1, kernel=rbf ............................\n"
     ]
    },
    {
     "name": "stderr",
     "output_type": "stream",
     "text": [
      "C:\\Users\\Personal\\Anaconda3\\lib\\site-packages\\sklearn\\svm\\_base.py:231: ConvergenceWarning: Solver terminated early (max_iter=700).  Consider pre-processing your data with StandardScaler or MinMaxScaler.\n",
      "  % self.max_iter, ConvergenceWarning)\n",
      "C:\\Users\\Personal\\Anaconda3\\lib\\site-packages\\sklearn\\svm\\_base.py:231: ConvergenceWarning: Solver terminated early (max_iter=700).  Consider pre-processing your data with StandardScaler or MinMaxScaler.\n",
      "  % self.max_iter, ConvergenceWarning)\n",
      "C:\\Users\\Personal\\Anaconda3\\lib\\site-packages\\sklearn\\svm\\_base.py:231: ConvergenceWarning: Solver terminated early (max_iter=700).  Consider pre-processing your data with StandardScaler or MinMaxScaler.\n",
      "  % self.max_iter, ConvergenceWarning)\n"
     ]
    },
    {
     "name": "stdout",
     "output_type": "stream",
     "text": [
      "[CV]  C=100, degree=3, gamma=1, kernel=rbf, score=0.905, total=   0.1s\n",
      "[CV] C=100, degree=3, gamma=1, kernel=rbf ............................\n",
      "[CV]  C=100, degree=3, gamma=1, kernel=rbf, score=0.882, total=   0.1s\n",
      "[CV] C=100, degree=3, gamma=1, kernel=rbf ............................\n",
      "[CV]  C=100, degree=3, gamma=1, kernel=rbf, score=0.891, total=   0.1s\n",
      "[CV] C=100, degree=3, gamma=1, kernel=rbf ............................\n"
     ]
    },
    {
     "name": "stderr",
     "output_type": "stream",
     "text": [
      "C:\\Users\\Personal\\Anaconda3\\lib\\site-packages\\sklearn\\svm\\_base.py:231: ConvergenceWarning: Solver terminated early (max_iter=700).  Consider pre-processing your data with StandardScaler or MinMaxScaler.\n",
      "  % self.max_iter, ConvergenceWarning)\n",
      "C:\\Users\\Personal\\Anaconda3\\lib\\site-packages\\sklearn\\svm\\_base.py:231: ConvergenceWarning: Solver terminated early (max_iter=700).  Consider pre-processing your data with StandardScaler or MinMaxScaler.\n",
      "  % self.max_iter, ConvergenceWarning)\n"
     ]
    },
    {
     "name": "stdout",
     "output_type": "stream",
     "text": [
      "[CV]  C=100, degree=3, gamma=1, kernel=rbf, score=0.905, total=   0.1s\n",
      "[CV] C=100, degree=3, gamma=1, kernel=poly ...........................\n",
      "[CV]  C=100, degree=3, gamma=1, kernel=poly, score=1.000, total=   0.0s\n",
      "[CV] C=100, degree=3, gamma=1, kernel=poly ...........................\n",
      "[CV]  C=100, degree=3, gamma=1, kernel=poly, score=1.000, total=   0.0s\n",
      "[CV] C=100, degree=3, gamma=1, kernel=poly ...........................\n",
      "[CV]  C=100, degree=3, gamma=1, kernel=poly, score=0.991, total=   0.0s\n",
      "[CV] C=100, degree=3, gamma=1, kernel=poly ...........................\n",
      "[CV]  C=100, degree=3, gamma=1, kernel=poly, score=1.000, total=   0.0s\n",
      "[CV] C=100, degree=3, gamma=1, kernel=poly ...........................\n",
      "[CV]  C=100, degree=3, gamma=1, kernel=poly, score=1.000, total=   0.0s\n",
      "[CV] C=100, degree=3, gamma=0.1, kernel=rbf ..........................\n",
      "[CV]  C=100, degree=3, gamma=0.1, kernel=rbf, score=1.000, total=   0.0s\n",
      "[CV] C=100, degree=3, gamma=0.1, kernel=rbf ..........................\n",
      "[CV]  C=100, degree=3, gamma=0.1, kernel=rbf, score=1.000, total=   0.0s\n",
      "[CV] C=100, degree=3, gamma=0.1, kernel=rbf ..........................\n",
      "[CV]  C=100, degree=3, gamma=0.1, kernel=rbf, score=1.000, total=   0.0s\n",
      "[CV] C=100, degree=3, gamma=0.1, kernel=rbf ..........................\n",
      "[CV]  C=100, degree=3, gamma=0.1, kernel=rbf, score=1.000, total=   0.0s\n",
      "[CV] C=100, degree=3, gamma=0.1, kernel=rbf ..........................\n",
      "[CV]  C=100, degree=3, gamma=0.1, kernel=rbf, score=1.000, total=   0.0s\n",
      "[CV] C=100, degree=3, gamma=0.1, kernel=poly .........................\n",
      "[CV]  C=100, degree=3, gamma=0.1, kernel=poly, score=1.000, total=   0.0s\n",
      "[CV] C=100, degree=3, gamma=0.1, kernel=poly .........................\n",
      "[CV]  C=100, degree=3, gamma=0.1, kernel=poly, score=1.000, total=   0.0s\n",
      "[CV] C=100, degree=3, gamma=0.1, kernel=poly .........................\n",
      "[CV]  C=100, degree=3, gamma=0.1, kernel=poly, score=0.991, total=   0.0s\n",
      "[CV] C=100, degree=3, gamma=0.1, kernel=poly .........................\n",
      "[CV]  C=100, degree=3, gamma=0.1, kernel=poly, score=1.000, total=   0.0s\n",
      "[CV] C=100, degree=3, gamma=0.1, kernel=poly .........................\n",
      "[CV]  C=100, degree=3, gamma=0.1, kernel=poly, score=1.000, total=   0.0s\n",
      "[CV] C=100, degree=3, gamma=0.01, kernel=rbf .........................\n",
      "[CV]  C=100, degree=3, gamma=0.01, kernel=rbf, score=1.000, total=   0.0s\n",
      "[CV] C=100, degree=3, gamma=0.01, kernel=rbf .........................\n",
      "[CV]  C=100, degree=3, gamma=0.01, kernel=rbf, score=1.000, total=   0.0s\n",
      "[CV] C=100, degree=3, gamma=0.01, kernel=rbf .........................\n",
      "[CV]  C=100, degree=3, gamma=0.01, kernel=rbf, score=1.000, total=   0.0s\n",
      "[CV] C=100, degree=3, gamma=0.01, kernel=rbf .........................\n",
      "[CV]  C=100, degree=3, gamma=0.01, kernel=rbf, score=1.000, total=   0.0s\n",
      "[CV] C=100, degree=3, gamma=0.01, kernel=rbf .........................\n",
      "[CV]  C=100, degree=3, gamma=0.01, kernel=rbf, score=1.000, total=   0.0s\n",
      "[CV] C=100, degree=3, gamma=0.01, kernel=poly ........................\n",
      "[CV]  C=100, degree=3, gamma=0.01, kernel=poly, score=1.000, total=   0.0s\n",
      "[CV] C=100, degree=3, gamma=0.01, kernel=poly ........................\n",
      "[CV]  C=100, degree=3, gamma=0.01, kernel=poly, score=1.000, total=   0.0s\n",
      "[CV] C=100, degree=3, gamma=0.01, kernel=poly ........................\n",
      "[CV]  C=100, degree=3, gamma=0.01, kernel=poly, score=0.991, total=   0.0s\n",
      "[CV] C=100, degree=3, gamma=0.01, kernel=poly ........................\n"
     ]
    },
    {
     "name": "stderr",
     "output_type": "stream",
     "text": [
      "C:\\Users\\Personal\\Anaconda3\\lib\\site-packages\\sklearn\\svm\\_base.py:231: ConvergenceWarning: Solver terminated early (max_iter=700).  Consider pre-processing your data with StandardScaler or MinMaxScaler.\n",
      "  % self.max_iter, ConvergenceWarning)\n",
      "C:\\Users\\Personal\\Anaconda3\\lib\\site-packages\\sklearn\\svm\\_base.py:231: ConvergenceWarning: Solver terminated early (max_iter=700).  Consider pre-processing your data with StandardScaler or MinMaxScaler.\n",
      "  % self.max_iter, ConvergenceWarning)\n",
      "C:\\Users\\Personal\\Anaconda3\\lib\\site-packages\\sklearn\\svm\\_base.py:231: ConvergenceWarning: Solver terminated early (max_iter=700).  Consider pre-processing your data with StandardScaler or MinMaxScaler.\n",
      "  % self.max_iter, ConvergenceWarning)\n",
      "C:\\Users\\Personal\\Anaconda3\\lib\\site-packages\\sklearn\\svm\\_base.py:231: ConvergenceWarning: Solver terminated early (max_iter=700).  Consider pre-processing your data with StandardScaler or MinMaxScaler.\n",
      "  % self.max_iter, ConvergenceWarning)\n",
      "C:\\Users\\Personal\\Anaconda3\\lib\\site-packages\\sklearn\\svm\\_base.py:231: ConvergenceWarning: Solver terminated early (max_iter=700).  Consider pre-processing your data with StandardScaler or MinMaxScaler.\n",
      "  % self.max_iter, ConvergenceWarning)\n"
     ]
    },
    {
     "name": "stdout",
     "output_type": "stream",
     "text": [
      "[CV]  C=100, degree=3, gamma=0.01, kernel=poly, score=1.000, total=   0.0s\n",
      "[CV] C=100, degree=3, gamma=0.01, kernel=poly ........................\n",
      "[CV]  C=100, degree=3, gamma=0.01, kernel=poly, score=1.000, total=   0.0s\n",
      "[CV] C=100, degree=3, gamma=0.001, kernel=rbf ........................\n",
      "[CV]  C=100, degree=3, gamma=0.001, kernel=rbf, score=1.000, total=   0.0s\n",
      "[CV] C=100, degree=3, gamma=0.001, kernel=rbf ........................\n",
      "[CV]  C=100, degree=3, gamma=0.001, kernel=rbf, score=1.000, total=   0.0s\n",
      "[CV] C=100, degree=3, gamma=0.001, kernel=rbf ........................\n",
      "[CV]  C=100, degree=3, gamma=0.001, kernel=rbf, score=1.000, total=   0.0s\n",
      "[CV] C=100, degree=3, gamma=0.001, kernel=rbf ........................\n",
      "[CV]  C=100, degree=3, gamma=0.001, kernel=rbf, score=1.000, total=   0.0s\n",
      "[CV] C=100, degree=3, gamma=0.001, kernel=rbf ........................\n",
      "[CV]  C=100, degree=3, gamma=0.001, kernel=rbf, score=1.000, total=   0.0s\n",
      "[CV] C=100, degree=3, gamma=0.001, kernel=poly .......................\n",
      "[CV]  C=100, degree=3, gamma=0.001, kernel=poly, score=0.972, total=   0.0s\n",
      "[CV] C=100, degree=3, gamma=0.001, kernel=poly .......................\n",
      "[CV]  C=100, degree=3, gamma=0.001, kernel=poly, score=1.000, total=   0.0s\n",
      "[CV] C=100, degree=3, gamma=0.001, kernel=poly .......................\n"
     ]
    },
    {
     "name": "stderr",
     "output_type": "stream",
     "text": [
      "C:\\Users\\Personal\\Anaconda3\\lib\\site-packages\\sklearn\\svm\\_base.py:231: ConvergenceWarning: Solver terminated early (max_iter=700).  Consider pre-processing your data with StandardScaler or MinMaxScaler.\n",
      "  % self.max_iter, ConvergenceWarning)\n",
      "C:\\Users\\Personal\\Anaconda3\\lib\\site-packages\\sklearn\\svm\\_base.py:231: ConvergenceWarning: Solver terminated early (max_iter=700).  Consider pre-processing your data with StandardScaler or MinMaxScaler.\n",
      "  % self.max_iter, ConvergenceWarning)\n"
     ]
    },
    {
     "name": "stdout",
     "output_type": "stream",
     "text": [
      "[CV]  C=100, degree=3, gamma=0.001, kernel=poly, score=0.991, total=   0.0s\n",
      "[CV] C=100, degree=3, gamma=0.001, kernel=poly .......................\n",
      "[CV]  C=100, degree=3, gamma=0.001, kernel=poly, score=0.991, total=   0.0s\n",
      "[CV] C=100, degree=3, gamma=0.001, kernel=poly .......................\n",
      "[CV]  C=100, degree=3, gamma=0.001, kernel=poly, score=0.971, total=   0.0s\n",
      "[CV] C=100, degree=3, gamma=100, kernel=rbf ..........................\n"
     ]
    },
    {
     "name": "stderr",
     "output_type": "stream",
     "text": [
      "C:\\Users\\Personal\\Anaconda3\\lib\\site-packages\\sklearn\\svm\\_base.py:231: ConvergenceWarning: Solver terminated early (max_iter=700).  Consider pre-processing your data with StandardScaler or MinMaxScaler.\n",
      "  % self.max_iter, ConvergenceWarning)\n",
      "C:\\Users\\Personal\\Anaconda3\\lib\\site-packages\\sklearn\\svm\\_base.py:231: ConvergenceWarning: Solver terminated early (max_iter=700).  Consider pre-processing your data with StandardScaler or MinMaxScaler.\n",
      "  % self.max_iter, ConvergenceWarning)\n"
     ]
    },
    {
     "name": "stdout",
     "output_type": "stream",
     "text": [
      "[CV]  C=100, degree=3, gamma=100, kernel=rbf, score=0.763, total=   0.2s\n",
      "[CV] C=100, degree=3, gamma=100, kernel=rbf ..........................\n",
      "[CV]  C=100, degree=3, gamma=100, kernel=rbf, score=0.796, total=   0.1s\n",
      "[CV] C=100, degree=3, gamma=100, kernel=rbf ..........................\n"
     ]
    },
    {
     "name": "stderr",
     "output_type": "stream",
     "text": [
      "C:\\Users\\Personal\\Anaconda3\\lib\\site-packages\\sklearn\\svm\\_base.py:231: ConvergenceWarning: Solver terminated early (max_iter=700).  Consider pre-processing your data with StandardScaler or MinMaxScaler.\n",
      "  % self.max_iter, ConvergenceWarning)\n",
      "C:\\Users\\Personal\\Anaconda3\\lib\\site-packages\\sklearn\\svm\\_base.py:231: ConvergenceWarning: Solver terminated early (max_iter=700).  Consider pre-processing your data with StandardScaler or MinMaxScaler.\n",
      "  % self.max_iter, ConvergenceWarning)\n"
     ]
    },
    {
     "name": "stdout",
     "output_type": "stream",
     "text": [
      "[CV]  C=100, degree=3, gamma=100, kernel=rbf, score=0.730, total=   0.2s\n",
      "[CV] C=100, degree=3, gamma=100, kernel=rbf ..........................\n",
      "[CV]  C=100, degree=3, gamma=100, kernel=rbf, score=0.763, total=   0.1s\n",
      "[CV] C=100, degree=3, gamma=100, kernel=rbf ..........................\n"
     ]
    },
    {
     "name": "stderr",
     "output_type": "stream",
     "text": [
      "C:\\Users\\Personal\\Anaconda3\\lib\\site-packages\\sklearn\\svm\\_base.py:231: ConvergenceWarning: Solver terminated early (max_iter=700).  Consider pre-processing your data with StandardScaler or MinMaxScaler.\n",
      "  % self.max_iter, ConvergenceWarning)\n",
      "C:\\Users\\Personal\\Anaconda3\\lib\\site-packages\\sklearn\\svm\\_base.py:231: ConvergenceWarning: Solver terminated early (max_iter=700).  Consider pre-processing your data with StandardScaler or MinMaxScaler.\n",
      "  % self.max_iter, ConvergenceWarning)\n"
     ]
    },
    {
     "name": "stdout",
     "output_type": "stream",
     "text": [
      "[CV]  C=100, degree=3, gamma=100, kernel=rbf, score=0.771, total=   0.2s\n",
      "[CV] C=100, degree=3, gamma=100, kernel=poly .........................\n",
      "[CV]  C=100, degree=3, gamma=100, kernel=poly, score=1.000, total=   0.0s\n",
      "[CV] C=100, degree=3, gamma=100, kernel=poly .........................\n",
      "[CV]  C=100, degree=3, gamma=100, kernel=poly, score=1.000, total=   0.0s\n",
      "[CV] C=100, degree=3, gamma=100, kernel=poly .........................\n",
      "[CV]  C=100, degree=3, gamma=100, kernel=poly, score=0.991, total=   0.0s\n",
      "[CV] C=100, degree=3, gamma=100, kernel=poly .........................\n",
      "[CV]  C=100, degree=3, gamma=100, kernel=poly, score=1.000, total=   0.0s\n",
      "[CV] C=100, degree=3, gamma=100, kernel=poly .........................\n",
      "[CV]  C=100, degree=3, gamma=100, kernel=poly, score=1.000, total=   0.0s\n",
      "[CV] C=100, degree=4, gamma=1, kernel=rbf ............................\n",
      "[CV]  C=100, degree=4, gamma=1, kernel=rbf, score=0.882, total=   0.1s\n",
      "[CV] C=100, degree=4, gamma=1, kernel=rbf ............................\n"
     ]
    },
    {
     "name": "stderr",
     "output_type": "stream",
     "text": [
      "C:\\Users\\Personal\\Anaconda3\\lib\\site-packages\\sklearn\\svm\\_base.py:231: ConvergenceWarning: Solver terminated early (max_iter=700).  Consider pre-processing your data with StandardScaler or MinMaxScaler.\n",
      "  % self.max_iter, ConvergenceWarning)\n",
      "C:\\Users\\Personal\\Anaconda3\\lib\\site-packages\\sklearn\\svm\\_base.py:231: ConvergenceWarning: Solver terminated early (max_iter=700).  Consider pre-processing your data with StandardScaler or MinMaxScaler.\n",
      "  % self.max_iter, ConvergenceWarning)\n",
      "C:\\Users\\Personal\\Anaconda3\\lib\\site-packages\\sklearn\\svm\\_base.py:231: ConvergenceWarning: Solver terminated early (max_iter=700).  Consider pre-processing your data with StandardScaler or MinMaxScaler.\n",
      "  % self.max_iter, ConvergenceWarning)\n"
     ]
    },
    {
     "name": "stdout",
     "output_type": "stream",
     "text": [
      "[CV]  C=100, degree=4, gamma=1, kernel=rbf, score=0.905, total=   0.1s\n",
      "[CV] C=100, degree=4, gamma=1, kernel=rbf ............................\n",
      "[CV]  C=100, degree=4, gamma=1, kernel=rbf, score=0.882, total=   0.1s\n",
      "[CV] C=100, degree=4, gamma=1, kernel=rbf ............................\n"
     ]
    },
    {
     "name": "stderr",
     "output_type": "stream",
     "text": [
      "C:\\Users\\Personal\\Anaconda3\\lib\\site-packages\\sklearn\\svm\\_base.py:231: ConvergenceWarning: Solver terminated early (max_iter=700).  Consider pre-processing your data with StandardScaler or MinMaxScaler.\n",
      "  % self.max_iter, ConvergenceWarning)\n"
     ]
    },
    {
     "name": "stdout",
     "output_type": "stream",
     "text": [
      "[CV]  C=100, degree=4, gamma=1, kernel=rbf, score=0.891, total=   0.1s\n",
      "[CV] C=100, degree=4, gamma=1, kernel=rbf ............................\n",
      "[CV]  C=100, degree=4, gamma=1, kernel=rbf, score=0.905, total=   0.1s\n",
      "[CV] C=100, degree=4, gamma=1, kernel=poly ...........................\n",
      "[CV]  C=100, degree=4, gamma=1, kernel=poly, score=1.000, total=   0.0s\n",
      "[CV] C=100, degree=4, gamma=1, kernel=poly ...........................\n",
      "[CV]  C=100, degree=4, gamma=1, kernel=poly, score=1.000, total=   0.0s\n",
      "[CV] C=100, degree=4, gamma=1, kernel=poly ...........................\n",
      "[CV]  C=100, degree=4, gamma=1, kernel=poly, score=0.991, total=   0.0s\n",
      "[CV] C=100, degree=4, gamma=1, kernel=poly ...........................\n",
      "[CV]  C=100, degree=4, gamma=1, kernel=poly, score=1.000, total=   0.0s\n",
      "[CV] C=100, degree=4, gamma=1, kernel=poly ...........................\n",
      "[CV]  C=100, degree=4, gamma=1, kernel=poly, score=1.000, total=   0.0s\n",
      "[CV] C=100, degree=4, gamma=0.1, kernel=rbf ..........................\n",
      "[CV]  C=100, degree=4, gamma=0.1, kernel=rbf, score=1.000, total=   0.0s\n",
      "[CV] C=100, degree=4, gamma=0.1, kernel=rbf ..........................\n",
      "[CV]  C=100, degree=4, gamma=0.1, kernel=rbf, score=1.000, total=   0.0s\n",
      "[CV] C=100, degree=4, gamma=0.1, kernel=rbf ..........................\n",
      "[CV]  C=100, degree=4, gamma=0.1, kernel=rbf, score=1.000, total=   0.0s\n",
      "[CV] C=100, degree=4, gamma=0.1, kernel=rbf ..........................\n",
      "[CV]  C=100, degree=4, gamma=0.1, kernel=rbf, score=1.000, total=   0.0s\n",
      "[CV] C=100, degree=4, gamma=0.1, kernel=rbf ..........................\n",
      "[CV]  C=100, degree=4, gamma=0.1, kernel=rbf, score=1.000, total=   0.0s\n",
      "[CV] C=100, degree=4, gamma=0.1, kernel=poly .........................\n",
      "[CV]  C=100, degree=4, gamma=0.1, kernel=poly, score=1.000, total=   0.0s\n",
      "[CV] C=100, degree=4, gamma=0.1, kernel=poly .........................\n",
      "[CV]  C=100, degree=4, gamma=0.1, kernel=poly, score=1.000, total=   0.0s\n",
      "[CV] C=100, degree=4, gamma=0.1, kernel=poly .........................\n",
      "[CV]  C=100, degree=4, gamma=0.1, kernel=poly, score=0.991, total=   0.0s\n",
      "[CV] C=100, degree=4, gamma=0.1, kernel=poly .........................\n",
      "[CV]  C=100, degree=4, gamma=0.1, kernel=poly, score=1.000, total=   0.0s\n",
      "[CV] C=100, degree=4, gamma=0.1, kernel=poly .........................\n",
      "[CV]  C=100, degree=4, gamma=0.1, kernel=poly, score=1.000, total=   0.0s\n",
      "[CV] C=100, degree=4, gamma=0.01, kernel=rbf .........................\n",
      "[CV]  C=100, degree=4, gamma=0.01, kernel=rbf, score=1.000, total=   0.0s\n",
      "[CV] C=100, degree=4, gamma=0.01, kernel=rbf .........................\n",
      "[CV]  C=100, degree=4, gamma=0.01, kernel=rbf, score=1.000, total=   0.0s\n",
      "[CV] C=100, degree=4, gamma=0.01, kernel=rbf .........................\n",
      "[CV]  C=100, degree=4, gamma=0.01, kernel=rbf, score=1.000, total=   0.0s\n",
      "[CV] C=100, degree=4, gamma=0.01, kernel=rbf .........................\n"
     ]
    },
    {
     "name": "stderr",
     "output_type": "stream",
     "text": [
      "C:\\Users\\Personal\\Anaconda3\\lib\\site-packages\\sklearn\\svm\\_base.py:231: ConvergenceWarning: Solver terminated early (max_iter=700).  Consider pre-processing your data with StandardScaler or MinMaxScaler.\n",
      "  % self.max_iter, ConvergenceWarning)\n",
      "C:\\Users\\Personal\\Anaconda3\\lib\\site-packages\\sklearn\\svm\\_base.py:231: ConvergenceWarning: Solver terminated early (max_iter=700).  Consider pre-processing your data with StandardScaler or MinMaxScaler.\n",
      "  % self.max_iter, ConvergenceWarning)\n",
      "C:\\Users\\Personal\\Anaconda3\\lib\\site-packages\\sklearn\\svm\\_base.py:231: ConvergenceWarning: Solver terminated early (max_iter=700).  Consider pre-processing your data with StandardScaler or MinMaxScaler.\n",
      "  % self.max_iter, ConvergenceWarning)\n",
      "C:\\Users\\Personal\\Anaconda3\\lib\\site-packages\\sklearn\\svm\\_base.py:231: ConvergenceWarning: Solver terminated early (max_iter=700).  Consider pre-processing your data with StandardScaler or MinMaxScaler.\n",
      "  % self.max_iter, ConvergenceWarning)\n"
     ]
    },
    {
     "name": "stdout",
     "output_type": "stream",
     "text": [
      "[CV]  C=100, degree=4, gamma=0.01, kernel=rbf, score=1.000, total=   0.0s\n",
      "[CV] C=100, degree=4, gamma=0.01, kernel=rbf .........................\n",
      "[CV]  C=100, degree=4, gamma=0.01, kernel=rbf, score=1.000, total=   0.0s\n",
      "[CV] C=100, degree=4, gamma=0.01, kernel=poly ........................\n",
      "[CV]  C=100, degree=4, gamma=0.01, kernel=poly, score=1.000, total=   0.0s\n",
      "[CV] C=100, degree=4, gamma=0.01, kernel=poly ........................\n",
      "[CV]  C=100, degree=4, gamma=0.01, kernel=poly, score=1.000, total=   0.0s\n",
      "[CV] C=100, degree=4, gamma=0.01, kernel=poly ........................\n",
      "[CV]  C=100, degree=4, gamma=0.01, kernel=poly, score=0.991, total=   0.0s\n",
      "[CV] C=100, degree=4, gamma=0.01, kernel=poly ........................\n",
      "[CV]  C=100, degree=4, gamma=0.01, kernel=poly, score=1.000, total=   0.0s\n",
      "[CV] C=100, degree=4, gamma=0.01, kernel=poly ........................\n",
      "[CV]  C=100, degree=4, gamma=0.01, kernel=poly, score=1.000, total=   0.0s\n",
      "[CV] C=100, degree=4, gamma=0.001, kernel=rbf ........................\n",
      "[CV]  C=100, degree=4, gamma=0.001, kernel=rbf, score=1.000, total=   0.0s\n",
      "[CV] C=100, degree=4, gamma=0.001, kernel=rbf ........................\n",
      "[CV]  C=100, degree=4, gamma=0.001, kernel=rbf, score=1.000, total=   0.0s\n",
      "[CV] C=100, degree=4, gamma=0.001, kernel=rbf ........................\n",
      "[CV]  C=100, degree=4, gamma=0.001, kernel=rbf, score=1.000, total=   0.0s\n",
      "[CV] C=100, degree=4, gamma=0.001, kernel=rbf ........................\n",
      "[CV]  C=100, degree=4, gamma=0.001, kernel=rbf, score=1.000, total=   0.0s\n",
      "[CV] C=100, degree=4, gamma=0.001, kernel=rbf ........................\n",
      "[CV]  C=100, degree=4, gamma=0.001, kernel=rbf, score=1.000, total=   0.0s\n",
      "[CV] C=100, degree=4, gamma=0.001, kernel=poly .......................\n",
      "[CV]  C=100, degree=4, gamma=0.001, kernel=poly, score=0.749, total=   0.0s\n",
      "[CV] C=100, degree=4, gamma=0.001, kernel=poly .......................\n",
      "[CV]  C=100, degree=4, gamma=0.001, kernel=poly, score=0.777, total=   0.0s\n",
      "[CV] C=100, degree=4, gamma=0.001, kernel=poly .......................\n",
      "[CV]  C=100, degree=4, gamma=0.001, kernel=poly, score=0.673, total=   0.0s\n",
      "[CV] C=100, degree=4, gamma=0.001, kernel=poly .......................\n"
     ]
    },
    {
     "name": "stderr",
     "output_type": "stream",
     "text": [
      "C:\\Users\\Personal\\Anaconda3\\lib\\site-packages\\sklearn\\svm\\_base.py:231: ConvergenceWarning: Solver terminated early (max_iter=700).  Consider pre-processing your data with StandardScaler or MinMaxScaler.\n",
      "  % self.max_iter, ConvergenceWarning)\n",
      "C:\\Users\\Personal\\Anaconda3\\lib\\site-packages\\sklearn\\svm\\_base.py:231: ConvergenceWarning: Solver terminated early (max_iter=700).  Consider pre-processing your data with StandardScaler or MinMaxScaler.\n",
      "  % self.max_iter, ConvergenceWarning)\n",
      "C:\\Users\\Personal\\Anaconda3\\lib\\site-packages\\sklearn\\svm\\_base.py:231: ConvergenceWarning: Solver terminated early (max_iter=700).  Consider pre-processing your data with StandardScaler or MinMaxScaler.\n",
      "  % self.max_iter, ConvergenceWarning)\n"
     ]
    },
    {
     "name": "stdout",
     "output_type": "stream",
     "text": [
      "[CV]  C=100, degree=4, gamma=0.001, kernel=poly, score=0.758, total=   0.0s\n",
      "[CV] C=100, degree=4, gamma=0.001, kernel=poly .......................\n",
      "[CV]  C=100, degree=4, gamma=0.001, kernel=poly, score=0.790, total=   0.0s\n",
      "[CV] C=100, degree=4, gamma=100, kernel=rbf ..........................\n",
      "[CV]  C=100, degree=4, gamma=100, kernel=rbf, score=0.763, total=   0.1s\n",
      "[CV] C=100, degree=4, gamma=100, kernel=rbf ..........................\n"
     ]
    },
    {
     "name": "stderr",
     "output_type": "stream",
     "text": [
      "C:\\Users\\Personal\\Anaconda3\\lib\\site-packages\\sklearn\\svm\\_base.py:231: ConvergenceWarning: Solver terminated early (max_iter=700).  Consider pre-processing your data with StandardScaler or MinMaxScaler.\n",
      "  % self.max_iter, ConvergenceWarning)\n",
      "C:\\Users\\Personal\\Anaconda3\\lib\\site-packages\\sklearn\\svm\\_base.py:231: ConvergenceWarning: Solver terminated early (max_iter=700).  Consider pre-processing your data with StandardScaler or MinMaxScaler.\n",
      "  % self.max_iter, ConvergenceWarning)\n"
     ]
    },
    {
     "name": "stdout",
     "output_type": "stream",
     "text": [
      "[CV]  C=100, degree=4, gamma=100, kernel=rbf, score=0.796, total=   0.1s\n",
      "[CV] C=100, degree=4, gamma=100, kernel=rbf ..........................\n",
      "[CV]  C=100, degree=4, gamma=100, kernel=rbf, score=0.730, total=   0.1s\n",
      "[CV] C=100, degree=4, gamma=100, kernel=rbf ..........................\n"
     ]
    },
    {
     "name": "stderr",
     "output_type": "stream",
     "text": [
      "C:\\Users\\Personal\\Anaconda3\\lib\\site-packages\\sklearn\\svm\\_base.py:231: ConvergenceWarning: Solver terminated early (max_iter=700).  Consider pre-processing your data with StandardScaler or MinMaxScaler.\n",
      "  % self.max_iter, ConvergenceWarning)\n",
      "C:\\Users\\Personal\\Anaconda3\\lib\\site-packages\\sklearn\\svm\\_base.py:231: ConvergenceWarning: Solver terminated early (max_iter=700).  Consider pre-processing your data with StandardScaler or MinMaxScaler.\n",
      "  % self.max_iter, ConvergenceWarning)\n"
     ]
    },
    {
     "name": "stdout",
     "output_type": "stream",
     "text": [
      "[CV]  C=100, degree=4, gamma=100, kernel=rbf, score=0.763, total=   0.1s\n",
      "[CV] C=100, degree=4, gamma=100, kernel=rbf ..........................\n",
      "[CV]  C=100, degree=4, gamma=100, kernel=rbf, score=0.771, total=   0.1s\n",
      "[CV] C=100, degree=4, gamma=100, kernel=poly .........................\n",
      "[CV]  C=100, degree=4, gamma=100, kernel=poly, score=1.000, total=   0.0s\n",
      "[CV] C=100, degree=4, gamma=100, kernel=poly .........................\n",
      "[CV]  C=100, degree=4, gamma=100, kernel=poly, score=1.000, total=   0.0s\n",
      "[CV] C=100, degree=4, gamma=100, kernel=poly .........................\n",
      "[CV]  C=100, degree=4, gamma=100, kernel=poly, score=0.991, total=   0.0s\n",
      "[CV] C=100, degree=4, gamma=100, kernel=poly .........................\n"
     ]
    },
    {
     "name": "stderr",
     "output_type": "stream",
     "text": [
      "C:\\Users\\Personal\\Anaconda3\\lib\\site-packages\\sklearn\\svm\\_base.py:231: ConvergenceWarning: Solver terminated early (max_iter=700).  Consider pre-processing your data with StandardScaler or MinMaxScaler.\n",
      "  % self.max_iter, ConvergenceWarning)\n",
      "C:\\Users\\Personal\\Anaconda3\\lib\\site-packages\\sklearn\\svm\\_base.py:231: ConvergenceWarning: Solver terminated early (max_iter=700).  Consider pre-processing your data with StandardScaler or MinMaxScaler.\n",
      "  % self.max_iter, ConvergenceWarning)\n"
     ]
    },
    {
     "name": "stdout",
     "output_type": "stream",
     "text": [
      "[CV]  C=100, degree=4, gamma=100, kernel=poly, score=1.000, total=   0.0s\n",
      "[CV] C=100, degree=4, gamma=100, kernel=poly .........................\n",
      "[CV]  C=100, degree=4, gamma=100, kernel=poly, score=1.000, total=   0.0s\n",
      "[CV] C=1000, degree=2, gamma=1, kernel=rbf ...........................\n",
      "[CV]  C=1000, degree=2, gamma=1, kernel=rbf, score=0.882, total=   0.1s\n",
      "[CV] C=1000, degree=2, gamma=1, kernel=rbf ...........................\n",
      "[CV]  C=1000, degree=2, gamma=1, kernel=rbf, score=0.905, total=   0.1s\n",
      "[CV] C=1000, degree=2, gamma=1, kernel=rbf ...........................\n"
     ]
    },
    {
     "name": "stderr",
     "output_type": "stream",
     "text": [
      "C:\\Users\\Personal\\Anaconda3\\lib\\site-packages\\sklearn\\svm\\_base.py:231: ConvergenceWarning: Solver terminated early (max_iter=700).  Consider pre-processing your data with StandardScaler or MinMaxScaler.\n",
      "  % self.max_iter, ConvergenceWarning)\n",
      "C:\\Users\\Personal\\Anaconda3\\lib\\site-packages\\sklearn\\svm\\_base.py:231: ConvergenceWarning: Solver terminated early (max_iter=700).  Consider pre-processing your data with StandardScaler or MinMaxScaler.\n",
      "  % self.max_iter, ConvergenceWarning)\n",
      "C:\\Users\\Personal\\Anaconda3\\lib\\site-packages\\sklearn\\svm\\_base.py:231: ConvergenceWarning: Solver terminated early (max_iter=700).  Consider pre-processing your data with StandardScaler or MinMaxScaler.\n",
      "  % self.max_iter, ConvergenceWarning)\n",
      "C:\\Users\\Personal\\Anaconda3\\lib\\site-packages\\sklearn\\svm\\_base.py:231: ConvergenceWarning: Solver terminated early (max_iter=700).  Consider pre-processing your data with StandardScaler or MinMaxScaler.\n",
      "  % self.max_iter, ConvergenceWarning)\n"
     ]
    },
    {
     "name": "stdout",
     "output_type": "stream",
     "text": [
      "[CV]  C=1000, degree=2, gamma=1, kernel=rbf, score=0.882, total=   0.1s\n",
      "[CV] C=1000, degree=2, gamma=1, kernel=rbf ...........................\n",
      "[CV]  C=1000, degree=2, gamma=1, kernel=rbf, score=0.891, total=   0.1s\n",
      "[CV] C=1000, degree=2, gamma=1, kernel=rbf ...........................\n",
      "[CV]  C=1000, degree=2, gamma=1, kernel=rbf, score=0.905, total=   0.1s\n",
      "[CV] C=1000, degree=2, gamma=1, kernel=poly ..........................\n",
      "[CV]  C=1000, degree=2, gamma=1, kernel=poly, score=1.000, total=   0.0s\n",
      "[CV] C=1000, degree=2, gamma=1, kernel=poly ..........................\n",
      "[CV]  C=1000, degree=2, gamma=1, kernel=poly, score=1.000, total=   0.0s\n",
      "[CV] C=1000, degree=2, gamma=1, kernel=poly ..........................\n",
      "[CV]  C=1000, degree=2, gamma=1, kernel=poly, score=1.000, total=   0.0s\n",
      "[CV] C=1000, degree=2, gamma=1, kernel=poly ..........................\n"
     ]
    },
    {
     "name": "stderr",
     "output_type": "stream",
     "text": [
      "C:\\Users\\Personal\\Anaconda3\\lib\\site-packages\\sklearn\\svm\\_base.py:231: ConvergenceWarning: Solver terminated early (max_iter=700).  Consider pre-processing your data with StandardScaler or MinMaxScaler.\n",
      "  % self.max_iter, ConvergenceWarning)\n",
      "C:\\Users\\Personal\\Anaconda3\\lib\\site-packages\\sklearn\\svm\\_base.py:231: ConvergenceWarning: Solver terminated early (max_iter=700).  Consider pre-processing your data with StandardScaler or MinMaxScaler.\n",
      "  % self.max_iter, ConvergenceWarning)\n",
      "C:\\Users\\Personal\\Anaconda3\\lib\\site-packages\\sklearn\\svm\\_base.py:231: ConvergenceWarning: Solver terminated early (max_iter=700).  Consider pre-processing your data with StandardScaler or MinMaxScaler.\n",
      "  % self.max_iter, ConvergenceWarning)\n",
      "C:\\Users\\Personal\\Anaconda3\\lib\\site-packages\\sklearn\\svm\\_base.py:231: ConvergenceWarning: Solver terminated early (max_iter=700).  Consider pre-processing your data with StandardScaler or MinMaxScaler.\n",
      "  % self.max_iter, ConvergenceWarning)\n"
     ]
    },
    {
     "name": "stdout",
     "output_type": "stream",
     "text": [
      "[CV]  C=1000, degree=2, gamma=1, kernel=poly, score=1.000, total=   0.0s\n",
      "[CV] C=1000, degree=2, gamma=1, kernel=poly ..........................\n",
      "[CV]  C=1000, degree=2, gamma=1, kernel=poly, score=1.000, total=   0.0s\n",
      "[CV] C=1000, degree=2, gamma=0.1, kernel=rbf .........................\n",
      "[CV]  C=1000, degree=2, gamma=0.1, kernel=rbf, score=1.000, total=   0.0s\n",
      "[CV] C=1000, degree=2, gamma=0.1, kernel=rbf .........................\n",
      "[CV]  C=1000, degree=2, gamma=0.1, kernel=rbf, score=1.000, total=   0.0s\n",
      "[CV] C=1000, degree=2, gamma=0.1, kernel=rbf .........................\n",
      "[CV]  C=1000, degree=2, gamma=0.1, kernel=rbf, score=1.000, total=   0.0s\n",
      "[CV] C=1000, degree=2, gamma=0.1, kernel=rbf .........................\n",
      "[CV]  C=1000, degree=2, gamma=0.1, kernel=rbf, score=1.000, total=   0.0s\n",
      "[CV] C=1000, degree=2, gamma=0.1, kernel=rbf .........................\n",
      "[CV]  C=1000, degree=2, gamma=0.1, kernel=rbf, score=1.000, total=   0.0s\n",
      "[CV] C=1000, degree=2, gamma=0.1, kernel=poly ........................\n",
      "[CV]  C=1000, degree=2, gamma=0.1, kernel=poly, score=1.000, total=   0.0s\n",
      "[CV] C=1000, degree=2, gamma=0.1, kernel=poly ........................\n",
      "[CV]  C=1000, degree=2, gamma=0.1, kernel=poly, score=1.000, total=   0.0s\n",
      "[CV] C=1000, degree=2, gamma=0.1, kernel=poly ........................\n",
      "[CV]  C=1000, degree=2, gamma=0.1, kernel=poly, score=1.000, total=   0.0s\n",
      "[CV] C=1000, degree=2, gamma=0.1, kernel=poly ........................\n",
      "[CV]  C=1000, degree=2, gamma=0.1, kernel=poly, score=1.000, total=   0.0s\n",
      "[CV] C=1000, degree=2, gamma=0.1, kernel=poly ........................\n",
      "[CV]  C=1000, degree=2, gamma=0.1, kernel=poly, score=1.000, total=   0.0s\n",
      "[CV] C=1000, degree=2, gamma=0.01, kernel=rbf ........................\n",
      "[CV]  C=1000, degree=2, gamma=0.01, kernel=rbf, score=1.000, total=   0.0s\n",
      "[CV] C=1000, degree=2, gamma=0.01, kernel=rbf ........................\n",
      "[CV]  C=1000, degree=2, gamma=0.01, kernel=rbf, score=1.000, total=   0.0s"
     ]
    },
    {
     "name": "stderr",
     "output_type": "stream",
     "text": [
      "C:\\Users\\Personal\\Anaconda3\\lib\\site-packages\\sklearn\\svm\\_base.py:231: ConvergenceWarning: Solver terminated early (max_iter=700).  Consider pre-processing your data with StandardScaler or MinMaxScaler.\n",
      "  % self.max_iter, ConvergenceWarning)\n",
      "C:\\Users\\Personal\\Anaconda3\\lib\\site-packages\\sklearn\\svm\\_base.py:231: ConvergenceWarning: Solver terminated early (max_iter=700).  Consider pre-processing your data with StandardScaler or MinMaxScaler.\n",
      "  % self.max_iter, ConvergenceWarning)\n",
      "C:\\Users\\Personal\\Anaconda3\\lib\\site-packages\\sklearn\\svm\\_base.py:231: ConvergenceWarning: Solver terminated early (max_iter=700).  Consider pre-processing your data with StandardScaler or MinMaxScaler.\n",
      "  % self.max_iter, ConvergenceWarning)\n",
      "C:\\Users\\Personal\\Anaconda3\\lib\\site-packages\\sklearn\\svm\\_base.py:231: ConvergenceWarning: Solver terminated early (max_iter=700).  Consider pre-processing your data with StandardScaler or MinMaxScaler.\n",
      "  % self.max_iter, ConvergenceWarning)\n",
      "C:\\Users\\Personal\\Anaconda3\\lib\\site-packages\\sklearn\\svm\\_base.py:231: ConvergenceWarning: Solver terminated early (max_iter=700).  Consider pre-processing your data with StandardScaler or MinMaxScaler.\n",
      "  % self.max_iter, ConvergenceWarning)\n"
     ]
    },
    {
     "name": "stdout",
     "output_type": "stream",
     "text": [
      "\n",
      "[CV] C=1000, degree=2, gamma=0.01, kernel=rbf ........................\n",
      "[CV]  C=1000, degree=2, gamma=0.01, kernel=rbf, score=1.000, total=   0.0s\n",
      "[CV] C=1000, degree=2, gamma=0.01, kernel=rbf ........................\n",
      "[CV]  C=1000, degree=2, gamma=0.01, kernel=rbf, score=1.000, total=   0.0s\n",
      "[CV] C=1000, degree=2, gamma=0.01, kernel=rbf ........................\n",
      "[CV]  C=1000, degree=2, gamma=0.01, kernel=rbf, score=1.000, total=   0.0s\n",
      "[CV] C=1000, degree=2, gamma=0.01, kernel=poly .......................\n",
      "[CV]  C=1000, degree=2, gamma=0.01, kernel=poly, score=1.000, total=   0.0s\n",
      "[CV] C=1000, degree=2, gamma=0.01, kernel=poly .......................\n",
      "[CV]  C=1000, degree=2, gamma=0.01, kernel=poly, score=1.000, total=   0.0s\n",
      "[CV] C=1000, degree=2, gamma=0.01, kernel=poly .......................\n",
      "[CV]  C=1000, degree=2, gamma=0.01, kernel=poly, score=1.000, total=   0.0s\n",
      "[CV] C=1000, degree=2, gamma=0.01, kernel=poly ......................."
     ]
    },
    {
     "name": "stderr",
     "output_type": "stream",
     "text": [
      "C:\\Users\\Personal\\Anaconda3\\lib\\site-packages\\sklearn\\svm\\_base.py:231: ConvergenceWarning: Solver terminated early (max_iter=700).  Consider pre-processing your data with StandardScaler or MinMaxScaler.\n",
      "  % self.max_iter, ConvergenceWarning)\n",
      "C:\\Users\\Personal\\Anaconda3\\lib\\site-packages\\sklearn\\svm\\_base.py:231: ConvergenceWarning: Solver terminated early (max_iter=700).  Consider pre-processing your data with StandardScaler or MinMaxScaler.\n",
      "  % self.max_iter, ConvergenceWarning)\n",
      "C:\\Users\\Personal\\Anaconda3\\lib\\site-packages\\sklearn\\svm\\_base.py:231: ConvergenceWarning: Solver terminated early (max_iter=700).  Consider pre-processing your data with StandardScaler or MinMaxScaler.\n",
      "  % self.max_iter, ConvergenceWarning)\n",
      "C:\\Users\\Personal\\Anaconda3\\lib\\site-packages\\sklearn\\svm\\_base.py:231: ConvergenceWarning: Solver terminated early (max_iter=700).  Consider pre-processing your data with StandardScaler or MinMaxScaler.\n",
      "  % self.max_iter, ConvergenceWarning)\n",
      "C:\\Users\\Personal\\Anaconda3\\lib\\site-packages\\sklearn\\svm\\_base.py:231: ConvergenceWarning: Solver terminated early (max_iter=700).  Consider pre-processing your data with StandardScaler or MinMaxScaler.\n",
      "  % self.max_iter, ConvergenceWarning)\n"
     ]
    },
    {
     "name": "stdout",
     "output_type": "stream",
     "text": [
      "\n",
      "[CV]  C=1000, degree=2, gamma=0.01, kernel=poly, score=1.000, total=   0.0s\n",
      "[CV] C=1000, degree=2, gamma=0.01, kernel=poly .......................\n",
      "[CV]  C=1000, degree=2, gamma=0.01, kernel=poly, score=1.000, total=   0.0s\n",
      "[CV] C=1000, degree=2, gamma=0.001, kernel=rbf .......................\n",
      "[CV]  C=1000, degree=2, gamma=0.001, kernel=rbf, score=1.000, total=   0.0s\n",
      "[CV] C=1000, degree=2, gamma=0.001, kernel=rbf .......................\n",
      "[CV]  C=1000, degree=2, gamma=0.001, kernel=rbf, score=1.000, total=   0.0s\n",
      "[CV] C=1000, degree=2, gamma=0.001, kernel=rbf .......................\n",
      "[CV]  C=1000, degree=2, gamma=0.001, kernel=rbf, score=1.000, total=   0.0s\n",
      "[CV] C=1000, degree=2, gamma=0.001, kernel=rbf .......................\n"
     ]
    },
    {
     "name": "stderr",
     "output_type": "stream",
     "text": [
      "C:\\Users\\Personal\\Anaconda3\\lib\\site-packages\\sklearn\\svm\\_base.py:231: ConvergenceWarning: Solver terminated early (max_iter=700).  Consider pre-processing your data with StandardScaler or MinMaxScaler.\n",
      "  % self.max_iter, ConvergenceWarning)\n",
      "C:\\Users\\Personal\\Anaconda3\\lib\\site-packages\\sklearn\\svm\\_base.py:231: ConvergenceWarning: Solver terminated early (max_iter=700).  Consider pre-processing your data with StandardScaler or MinMaxScaler.\n",
      "  % self.max_iter, ConvergenceWarning)\n",
      "C:\\Users\\Personal\\Anaconda3\\lib\\site-packages\\sklearn\\svm\\_base.py:231: ConvergenceWarning: Solver terminated early (max_iter=700).  Consider pre-processing your data with StandardScaler or MinMaxScaler.\n",
      "  % self.max_iter, ConvergenceWarning)\n",
      "C:\\Users\\Personal\\Anaconda3\\lib\\site-packages\\sklearn\\svm\\_base.py:231: ConvergenceWarning: Solver terminated early (max_iter=700).  Consider pre-processing your data with StandardScaler or MinMaxScaler.\n",
      "  % self.max_iter, ConvergenceWarning)\n",
      "C:\\Users\\Personal\\Anaconda3\\lib\\site-packages\\sklearn\\svm\\_base.py:231: ConvergenceWarning: Solver terminated early (max_iter=700).  Consider pre-processing your data with StandardScaler or MinMaxScaler.\n",
      "  % self.max_iter, ConvergenceWarning)\n",
      "C:\\Users\\Personal\\Anaconda3\\lib\\site-packages\\sklearn\\svm\\_base.py:231: ConvergenceWarning: Solver terminated early (max_iter=700).  Consider pre-processing your data with StandardScaler or MinMaxScaler.\n",
      "  % self.max_iter, ConvergenceWarning)\n",
      "C:\\Users\\Personal\\Anaconda3\\lib\\site-packages\\sklearn\\svm\\_base.py:231: ConvergenceWarning: Solver terminated early (max_iter=700).  Consider pre-processing your data with StandardScaler or MinMaxScaler.\n",
      "  % self.max_iter, ConvergenceWarning)\n"
     ]
    },
    {
     "name": "stdout",
     "output_type": "stream",
     "text": [
      "[CV]  C=1000, degree=2, gamma=0.001, kernel=rbf, score=1.000, total=   0.0s\n",
      "[CV] C=1000, degree=2, gamma=0.001, kernel=rbf .......................\n",
      "[CV]  C=1000, degree=2, gamma=0.001, kernel=rbf, score=1.000, total=   0.0s\n",
      "[CV] C=1000, degree=2, gamma=0.001, kernel=poly ......................\n",
      "[CV]  C=1000, degree=2, gamma=0.001, kernel=poly, score=1.000, total=   0.0s\n",
      "[CV] C=1000, degree=2, gamma=0.001, kernel=poly ......................\n",
      "[CV]  C=1000, degree=2, gamma=0.001, kernel=poly, score=1.000, total=   0.0s\n",
      "[CV] C=1000, degree=2, gamma=0.001, kernel=poly ......................\n",
      "[CV]  C=1000, degree=2, gamma=0.001, kernel=poly, score=1.000, total=   0.0s\n",
      "[CV] C=1000, degree=2, gamma=0.001, kernel=poly ......................\n",
      "[CV]  C=1000, degree=2, gamma=0.001, kernel=poly, score=1.000, total=   0.0s\n",
      "[CV] C=1000, degree=2, gamma=0.001, kernel=poly ......................\n",
      "[CV]  C=1000, degree=2, gamma=0.001, kernel=poly, score=1.000, total=   0.0s\n",
      "[CV] C=1000, degree=2, gamma=100, kernel=rbf .........................\n"
     ]
    },
    {
     "name": "stderr",
     "output_type": "stream",
     "text": [
      "C:\\Users\\Personal\\Anaconda3\\lib\\site-packages\\sklearn\\svm\\_base.py:231: ConvergenceWarning: Solver terminated early (max_iter=700).  Consider pre-processing your data with StandardScaler or MinMaxScaler.\n",
      "  % self.max_iter, ConvergenceWarning)\n",
      "C:\\Users\\Personal\\Anaconda3\\lib\\site-packages\\sklearn\\svm\\_base.py:231: ConvergenceWarning: Solver terminated early (max_iter=700).  Consider pre-processing your data with StandardScaler or MinMaxScaler.\n",
      "  % self.max_iter, ConvergenceWarning)\n",
      "C:\\Users\\Personal\\Anaconda3\\lib\\site-packages\\sklearn\\svm\\_base.py:231: ConvergenceWarning: Solver terminated early (max_iter=700).  Consider pre-processing your data with StandardScaler or MinMaxScaler.\n",
      "  % self.max_iter, ConvergenceWarning)\n"
     ]
    },
    {
     "name": "stdout",
     "output_type": "stream",
     "text": [
      "[CV]  C=1000, degree=2, gamma=100, kernel=rbf, score=0.763, total=   0.1s\n",
      "[CV] C=1000, degree=2, gamma=100, kernel=rbf .........................\n",
      "[CV]  C=1000, degree=2, gamma=100, kernel=rbf, score=0.796, total=   0.2s\n",
      "[CV] C=1000, degree=2, gamma=100, kernel=rbf .........................\n"
     ]
    },
    {
     "name": "stderr",
     "output_type": "stream",
     "text": [
      "C:\\Users\\Personal\\Anaconda3\\lib\\site-packages\\sklearn\\svm\\_base.py:231: ConvergenceWarning: Solver terminated early (max_iter=700).  Consider pre-processing your data with StandardScaler or MinMaxScaler.\n",
      "  % self.max_iter, ConvergenceWarning)\n",
      "C:\\Users\\Personal\\Anaconda3\\lib\\site-packages\\sklearn\\svm\\_base.py:231: ConvergenceWarning: Solver terminated early (max_iter=700).  Consider pre-processing your data with StandardScaler or MinMaxScaler.\n",
      "  % self.max_iter, ConvergenceWarning)\n"
     ]
    },
    {
     "name": "stdout",
     "output_type": "stream",
     "text": [
      "[CV]  C=1000, degree=2, gamma=100, kernel=rbf, score=0.730, total=   0.2s\n",
      "[CV] C=1000, degree=2, gamma=100, kernel=rbf .........................\n",
      "[CV]  C=1000, degree=2, gamma=100, kernel=rbf, score=0.763, total=   0.2s"
     ]
    },
    {
     "name": "stderr",
     "output_type": "stream",
     "text": [
      "C:\\Users\\Personal\\Anaconda3\\lib\\site-packages\\sklearn\\svm\\_base.py:231: ConvergenceWarning: Solver terminated early (max_iter=700).  Consider pre-processing your data with StandardScaler or MinMaxScaler.\n",
      "  % self.max_iter, ConvergenceWarning)\n",
      "C:\\Users\\Personal\\Anaconda3\\lib\\site-packages\\sklearn\\svm\\_base.py:231: ConvergenceWarning: Solver terminated early (max_iter=700).  Consider pre-processing your data with StandardScaler or MinMaxScaler.\n",
      "  % self.max_iter, ConvergenceWarning)\n"
     ]
    },
    {
     "name": "stdout",
     "output_type": "stream",
     "text": [
      "\n",
      "[CV] C=1000, degree=2, gamma=100, kernel=rbf .........................\n",
      "[CV]  C=1000, degree=2, gamma=100, kernel=rbf, score=0.771, total=   0.1s\n",
      "[CV] C=1000, degree=2, gamma=100, kernel=poly ........................\n",
      "[CV]  C=1000, degree=2, gamma=100, kernel=poly, score=1.000, total=   0.0s\n",
      "[CV] C=1000, degree=2, gamma=100, kernel=poly ........................\n"
     ]
    },
    {
     "name": "stderr",
     "output_type": "stream",
     "text": [
      "C:\\Users\\Personal\\Anaconda3\\lib\\site-packages\\sklearn\\svm\\_base.py:231: ConvergenceWarning: Solver terminated early (max_iter=700).  Consider pre-processing your data with StandardScaler or MinMaxScaler.\n",
      "  % self.max_iter, ConvergenceWarning)\n",
      "C:\\Users\\Personal\\Anaconda3\\lib\\site-packages\\sklearn\\svm\\_base.py:231: ConvergenceWarning: Solver terminated early (max_iter=700).  Consider pre-processing your data with StandardScaler or MinMaxScaler.\n",
      "  % self.max_iter, ConvergenceWarning)\n",
      "C:\\Users\\Personal\\Anaconda3\\lib\\site-packages\\sklearn\\svm\\_base.py:231: ConvergenceWarning: Solver terminated early (max_iter=700).  Consider pre-processing your data with StandardScaler or MinMaxScaler.\n",
      "  % self.max_iter, ConvergenceWarning)\n",
      "C:\\Users\\Personal\\Anaconda3\\lib\\site-packages\\sklearn\\svm\\_base.py:231: ConvergenceWarning: Solver terminated early (max_iter=700).  Consider pre-processing your data with StandardScaler or MinMaxScaler.\n",
      "  % self.max_iter, ConvergenceWarning)\n",
      "C:\\Users\\Personal\\Anaconda3\\lib\\site-packages\\sklearn\\svm\\_base.py:231: ConvergenceWarning: Solver terminated early (max_iter=700).  Consider pre-processing your data with StandardScaler or MinMaxScaler.\n",
      "  % self.max_iter, ConvergenceWarning)\n"
     ]
    },
    {
     "name": "stdout",
     "output_type": "stream",
     "text": [
      "[CV]  C=1000, degree=2, gamma=100, kernel=poly, score=1.000, total=   0.0s\n",
      "[CV] C=1000, degree=2, gamma=100, kernel=poly ........................\n",
      "[CV]  C=1000, degree=2, gamma=100, kernel=poly, score=1.000, total=   0.0s\n",
      "[CV] C=1000, degree=2, gamma=100, kernel=poly ........................\n",
      "[CV]  C=1000, degree=2, gamma=100, kernel=poly, score=1.000, total=   0.0s\n",
      "[CV] C=1000, degree=2, gamma=100, kernel=poly ........................\n",
      "[CV]  C=1000, degree=2, gamma=100, kernel=poly, score=1.000, total=   0.0s\n",
      "[CV] C=1000, degree=3, gamma=1, kernel=rbf ...........................\n",
      "[CV]  C=1000, degree=3, gamma=1, kernel=rbf, score=0.882, total=   0.1s\n",
      "[CV] C=1000, degree=3, gamma=1, kernel=rbf ...........................\n"
     ]
    },
    {
     "name": "stderr",
     "output_type": "stream",
     "text": [
      "C:\\Users\\Personal\\Anaconda3\\lib\\site-packages\\sklearn\\svm\\_base.py:231: ConvergenceWarning: Solver terminated early (max_iter=700).  Consider pre-processing your data with StandardScaler or MinMaxScaler.\n",
      "  % self.max_iter, ConvergenceWarning)\n",
      "C:\\Users\\Personal\\Anaconda3\\lib\\site-packages\\sklearn\\svm\\_base.py:231: ConvergenceWarning: Solver terminated early (max_iter=700).  Consider pre-processing your data with StandardScaler or MinMaxScaler.\n",
      "  % self.max_iter, ConvergenceWarning)\n",
      "C:\\Users\\Personal\\Anaconda3\\lib\\site-packages\\sklearn\\svm\\_base.py:231: ConvergenceWarning: Solver terminated early (max_iter=700).  Consider pre-processing your data with StandardScaler or MinMaxScaler.\n",
      "  % self.max_iter, ConvergenceWarning)\n"
     ]
    },
    {
     "name": "stdout",
     "output_type": "stream",
     "text": [
      "[CV]  C=1000, degree=3, gamma=1, kernel=rbf, score=0.905, total=   0.1s\n",
      "[CV] C=1000, degree=3, gamma=1, kernel=rbf ...........................\n",
      "[CV]  C=1000, degree=3, gamma=1, kernel=rbf, score=0.882, total=   0.1s\n",
      "[CV] C=1000, degree=3, gamma=1, kernel=rbf ...........................\n",
      "[CV]  C=1000, degree=3, gamma=1, kernel=rbf, score=0.891, total=   0.1s\n",
      "[CV] C=1000, degree=3, gamma=1, kernel=rbf ...........................\n"
     ]
    },
    {
     "name": "stderr",
     "output_type": "stream",
     "text": [
      "C:\\Users\\Personal\\Anaconda3\\lib\\site-packages\\sklearn\\svm\\_base.py:231: ConvergenceWarning: Solver terminated early (max_iter=700).  Consider pre-processing your data with StandardScaler or MinMaxScaler.\n",
      "  % self.max_iter, ConvergenceWarning)\n"
     ]
    },
    {
     "name": "stdout",
     "output_type": "stream",
     "text": [
      "[CV]  C=1000, degree=3, gamma=1, kernel=rbf, score=0.905, total=   0.1s\n",
      "[CV] C=1000, degree=3, gamma=1, kernel=poly ..........................\n",
      "[CV]  C=1000, degree=3, gamma=1, kernel=poly, score=1.000, total=   0.0s\n",
      "[CV] C=1000, degree=3, gamma=1, kernel=poly ..........................\n",
      "[CV]  C=1000, degree=3, gamma=1, kernel=poly, score=1.000, total=   0.0s\n",
      "[CV] C=1000, degree=3, gamma=1, kernel=poly ..........................\n",
      "[CV]  C=1000, degree=3, gamma=1, kernel=poly, score=0.991, total=   0.0s\n",
      "[CV] C=1000, degree=3, gamma=1, kernel=poly ..........................\n",
      "[CV]  C=1000, degree=3, gamma=1, kernel=poly, score=1.000, total=   0.0s\n",
      "[CV] C=1000, degree=3, gamma=1, kernel=poly ..........................\n",
      "[CV]  C=1000, degree=3, gamma=1, kernel=poly, score=1.000, total=   0.0s\n",
      "[CV] C=1000, degree=3, gamma=0.1, kernel=rbf .........................\n",
      "[CV]  C=1000, degree=3, gamma=0.1, kernel=rbf, score=1.000, total=   0.0s\n",
      "[CV] C=1000, degree=3, gamma=0.1, kernel=rbf .........................\n",
      "[CV]  C=1000, degree=3, gamma=0.1, kernel=rbf, score=1.000, total=   0.0s\n",
      "[CV] C=1000, degree=3, gamma=0.1, kernel=rbf .........................\n",
      "[CV]  C=1000, degree=3, gamma=0.1, kernel=rbf, score=1.000, total=   0.0s\n",
      "[CV] C=1000, degree=3, gamma=0.1, kernel=rbf .........................\n",
      "[CV]  C=1000, degree=3, gamma=0.1, kernel=rbf, score=1.000, total=   0.0s\n",
      "[CV] C=1000, degree=3, gamma=0.1, kernel=rbf .........................\n",
      "[CV]  C=1000, degree=3, gamma=0.1, kernel=rbf, score=1.000, total=   0.0s\n",
      "[CV] C=1000, degree=3, gamma=0.1, kernel=poly ........................\n",
      "[CV]  C=1000, degree=3, gamma=0.1, kernel=poly, score=1.000, total=   0.0s\n",
      "[CV] C=1000, degree=3, gamma=0.1, kernel=poly ........................\n",
      "[CV]  C=1000, degree=3, gamma=0.1, kernel=poly, score=1.000, total=   0.0s\n",
      "[CV] C=1000, degree=3, gamma=0.1, kernel=poly ........................\n",
      "[CV]  C=1000, degree=3, gamma=0.1, kernel=poly, score=0.991, total=   0.0s\n",
      "[CV] C=1000, degree=3, gamma=0.1, kernel=poly ........................\n",
      "[CV]  C=1000, degree=3, gamma=0.1, kernel=poly, score=1.000, total=   0.0s\n",
      "[CV] C=1000, degree=3, gamma=0.1, kernel=poly ........................\n",
      "[CV]  C=1000, degree=3, gamma=0.1, kernel=poly, score=1.000, total=   0.0s\n",
      "[CV] C=1000, degree=3, gamma=0.01, kernel=rbf ........................\n",
      "[CV]  C=1000, degree=3, gamma=0.01, kernel=rbf, score=1.000, total=   0.0s\n",
      "[CV] C=1000, degree=3, gamma=0.01, kernel=rbf ........................\n",
      "[CV]  C=1000, degree=3, gamma=0.01, kernel=rbf, score=1.000, total=   0.0s\n",
      "[CV] C=1000, degree=3, gamma=0.01, kernel=rbf ........................\n",
      "[CV]  C=1000, degree=3, gamma=0.01, kernel=rbf, score=1.000, total=   0.0s\n",
      "[CV] C=1000, degree=3, gamma=0.01, kernel=rbf ........................\n",
      "[CV]  C=1000, degree=3, gamma=0.01, kernel=rbf, score=1.000, total=   0.0s\n",
      "[CV] C=1000, degree=3, gamma=0.01, kernel=rbf ........................\n",
      "[CV]  C=1000, degree=3, gamma=0.01, kernel=rbf, score=1.000, total=   0.0s\n",
      "[CV] C=1000, degree=3, gamma=0.01, kernel=poly .......................\n",
      "[CV]  C=1000, degree=3, gamma=0.01, kernel=poly, score=1.000, total=   0.0s\n",
      "[CV] C=1000, degree=3, gamma=0.01, kernel=poly .......................\n"
     ]
    },
    {
     "name": "stderr",
     "output_type": "stream",
     "text": [
      "C:\\Users\\Personal\\Anaconda3\\lib\\site-packages\\sklearn\\svm\\_base.py:231: ConvergenceWarning: Solver terminated early (max_iter=700).  Consider pre-processing your data with StandardScaler or MinMaxScaler.\n",
      "  % self.max_iter, ConvergenceWarning)\n",
      "C:\\Users\\Personal\\Anaconda3\\lib\\site-packages\\sklearn\\svm\\_base.py:231: ConvergenceWarning: Solver terminated early (max_iter=700).  Consider pre-processing your data with StandardScaler or MinMaxScaler.\n",
      "  % self.max_iter, ConvergenceWarning)\n",
      "C:\\Users\\Personal\\Anaconda3\\lib\\site-packages\\sklearn\\svm\\_base.py:231: ConvergenceWarning: Solver terminated early (max_iter=700).  Consider pre-processing your data with StandardScaler or MinMaxScaler.\n",
      "  % self.max_iter, ConvergenceWarning)\n"
     ]
    },
    {
     "name": "stdout",
     "output_type": "stream",
     "text": [
      "[CV]  C=1000, degree=3, gamma=0.01, kernel=poly, score=1.000, total=   0.0s\n",
      "[CV] C=1000, degree=3, gamma=0.01, kernel=poly .......................\n",
      "[CV]  C=1000, degree=3, gamma=0.01, kernel=poly, score=0.991, total=   0.0s\n",
      "[CV] C=1000, degree=3, gamma=0.01, kernel=poly .......................\n",
      "[CV]  C=1000, degree=3, gamma=0.01, kernel=poly, score=1.000, total=   0.0s\n",
      "[CV] C=1000, degree=3, gamma=0.01, kernel=poly .......................\n",
      "[CV]  C=1000, degree=3, gamma=0.01, kernel=poly, score=1.000, total=   0.0s\n",
      "[CV] C=1000, degree=3, gamma=0.001, kernel=rbf .......................\n",
      "[CV]  C=1000, degree=3, gamma=0.001, kernel=rbf, score=1.000, total=   0.0s\n",
      "[CV] C=1000, degree=3, gamma=0.001, kernel=rbf .......................\n",
      "[CV]  C=1000, degree=3, gamma=0.001, kernel=rbf, score=1.000, total=   0.0s\n",
      "[CV] C=1000, degree=3, gamma=0.001, kernel=rbf .......................\n",
      "[CV]  C=1000, degree=3, gamma=0.001, kernel=rbf, score=1.000, total=   0.0s\n",
      "[CV] C=1000, degree=3, gamma=0.001, kernel=rbf .......................\n"
     ]
    },
    {
     "name": "stderr",
     "output_type": "stream",
     "text": [
      "C:\\Users\\Personal\\Anaconda3\\lib\\site-packages\\sklearn\\svm\\_base.py:231: ConvergenceWarning: Solver terminated early (max_iter=700).  Consider pre-processing your data with StandardScaler or MinMaxScaler.\n",
      "  % self.max_iter, ConvergenceWarning)\n",
      "C:\\Users\\Personal\\Anaconda3\\lib\\site-packages\\sklearn\\svm\\_base.py:231: ConvergenceWarning: Solver terminated early (max_iter=700).  Consider pre-processing your data with StandardScaler or MinMaxScaler.\n",
      "  % self.max_iter, ConvergenceWarning)\n",
      "C:\\Users\\Personal\\Anaconda3\\lib\\site-packages\\sklearn\\svm\\_base.py:231: ConvergenceWarning: Solver terminated early (max_iter=700).  Consider pre-processing your data with StandardScaler or MinMaxScaler.\n",
      "  % self.max_iter, ConvergenceWarning)\n",
      "C:\\Users\\Personal\\Anaconda3\\lib\\site-packages\\sklearn\\svm\\_base.py:231: ConvergenceWarning: Solver terminated early (max_iter=700).  Consider pre-processing your data with StandardScaler or MinMaxScaler.\n",
      "  % self.max_iter, ConvergenceWarning)\n"
     ]
    },
    {
     "name": "stdout",
     "output_type": "stream",
     "text": [
      "[CV]  C=1000, degree=3, gamma=0.001, kernel=rbf, score=1.000, total=   0.0s\n",
      "[CV] C=1000, degree=3, gamma=0.001, kernel=rbf .......................\n",
      "[CV]  C=1000, degree=3, gamma=0.001, kernel=rbf, score=1.000, total=   0.0s\n",
      "[CV] C=1000, degree=3, gamma=0.001, kernel=poly ......................\n",
      "[CV]  C=1000, degree=3, gamma=0.001, kernel=poly, score=0.991, total=   0.0s\n",
      "[CV] C=1000, degree=3, gamma=0.001, kernel=poly ......................\n",
      "[CV]  C=1000, degree=3, gamma=0.001, kernel=poly, score=1.000, total=   0.0s\n",
      "[CV] C=1000, degree=3, gamma=0.001, kernel=poly ......................\n",
      "[CV]  C=1000, degree=3, gamma=0.001, kernel=poly, score=1.000, total=   0.0s\n",
      "[CV] C=1000, degree=3, gamma=0.001, kernel=poly ......................\n",
      "[CV]  C=1000, degree=3, gamma=0.001, kernel=poly, score=1.000, total=   0.0s\n",
      "[CV] C=1000, degree=3, gamma=0.001, kernel=poly ......................\n",
      "[CV]  C=1000, degree=3, gamma=0.001, kernel=poly, score=0.986, total=   0.0s\n",
      "[CV] C=1000, degree=3, gamma=100, kernel=rbf .........................\n"
     ]
    },
    {
     "name": "stderr",
     "output_type": "stream",
     "text": [
      "C:\\Users\\Personal\\Anaconda3\\lib\\site-packages\\sklearn\\svm\\_base.py:231: ConvergenceWarning: Solver terminated early (max_iter=700).  Consider pre-processing your data with StandardScaler or MinMaxScaler.\n",
      "  % self.max_iter, ConvergenceWarning)\n",
      "C:\\Users\\Personal\\Anaconda3\\lib\\site-packages\\sklearn\\svm\\_base.py:231: ConvergenceWarning: Solver terminated early (max_iter=700).  Consider pre-processing your data with StandardScaler or MinMaxScaler.\n",
      "  % self.max_iter, ConvergenceWarning)\n"
     ]
    },
    {
     "name": "stdout",
     "output_type": "stream",
     "text": [
      "[CV]  C=1000, degree=3, gamma=100, kernel=rbf, score=0.763, total=   0.2s\n",
      "[CV] C=1000, degree=3, gamma=100, kernel=rbf .........................\n",
      "[CV]  C=1000, degree=3, gamma=100, kernel=rbf, score=0.796, total=   0.2s\n",
      "[CV] C=1000, degree=3, gamma=100, kernel=rbf .........................\n",
      "[CV]  C=1000, degree=3, gamma=100, kernel=rbf, score=0.730, total=   0.2s"
     ]
    },
    {
     "name": "stderr",
     "output_type": "stream",
     "text": [
      "C:\\Users\\Personal\\Anaconda3\\lib\\site-packages\\sklearn\\svm\\_base.py:231: ConvergenceWarning: Solver terminated early (max_iter=700).  Consider pre-processing your data with StandardScaler or MinMaxScaler.\n",
      "  % self.max_iter, ConvergenceWarning)\n",
      "C:\\Users\\Personal\\Anaconda3\\lib\\site-packages\\sklearn\\svm\\_base.py:231: ConvergenceWarning: Solver terminated early (max_iter=700).  Consider pre-processing your data with StandardScaler or MinMaxScaler.\n",
      "  % self.max_iter, ConvergenceWarning)\n"
     ]
    },
    {
     "name": "stdout",
     "output_type": "stream",
     "text": [
      "\n",
      "[CV] C=1000, degree=3, gamma=100, kernel=rbf .........................\n",
      "[CV]  C=1000, degree=3, gamma=100, kernel=rbf, score=0.763, total=   0.2s\n",
      "[CV] C=1000, degree=3, gamma=100, kernel=rbf .........................\n",
      "[CV]  C=1000, degree=3, gamma=100, kernel=rbf, score=0.771, total=   0.2s"
     ]
    },
    {
     "name": "stderr",
     "output_type": "stream",
     "text": [
      "C:\\Users\\Personal\\Anaconda3\\lib\\site-packages\\sklearn\\svm\\_base.py:231: ConvergenceWarning: Solver terminated early (max_iter=700).  Consider pre-processing your data with StandardScaler or MinMaxScaler.\n",
      "  % self.max_iter, ConvergenceWarning)\n"
     ]
    },
    {
     "name": "stdout",
     "output_type": "stream",
     "text": [
      "\n",
      "[CV] C=1000, degree=3, gamma=100, kernel=poly ........................\n",
      "[CV]  C=1000, degree=3, gamma=100, kernel=poly, score=1.000, total=   0.0s\n",
      "[CV] C=1000, degree=3, gamma=100, kernel=poly ........................\n",
      "[CV]  C=1000, degree=3, gamma=100, kernel=poly, score=1.000, total=   0.0s\n",
      "[CV] C=1000, degree=3, gamma=100, kernel=poly ........................\n",
      "[CV]  C=1000, degree=3, gamma=100, kernel=poly, score=0.991, total=   0.0s\n",
      "[CV] C=1000, degree=3, gamma=100, kernel=poly ........................\n",
      "[CV]  C=1000, degree=3, gamma=100, kernel=poly, score=1.000, total=   0.0s\n",
      "[CV] C=1000, degree=3, gamma=100, kernel=poly ........................\n",
      "[CV]  C=1000, degree=3, gamma=100, kernel=poly, score=1.000, total=   0.0s\n",
      "[CV] C=1000, degree=4, gamma=1, kernel=rbf ...........................\n"
     ]
    },
    {
     "name": "stderr",
     "output_type": "stream",
     "text": [
      "C:\\Users\\Personal\\Anaconda3\\lib\\site-packages\\sklearn\\svm\\_base.py:231: ConvergenceWarning: Solver terminated early (max_iter=700).  Consider pre-processing your data with StandardScaler or MinMaxScaler.\n",
      "  % self.max_iter, ConvergenceWarning)\n",
      "C:\\Users\\Personal\\Anaconda3\\lib\\site-packages\\sklearn\\svm\\_base.py:231: ConvergenceWarning: Solver terminated early (max_iter=700).  Consider pre-processing your data with StandardScaler or MinMaxScaler.\n",
      "  % self.max_iter, ConvergenceWarning)\n",
      "C:\\Users\\Personal\\Anaconda3\\lib\\site-packages\\sklearn\\svm\\_base.py:231: ConvergenceWarning: Solver terminated early (max_iter=700).  Consider pre-processing your data with StandardScaler or MinMaxScaler.\n",
      "  % self.max_iter, ConvergenceWarning)\n"
     ]
    },
    {
     "name": "stdout",
     "output_type": "stream",
     "text": [
      "[CV]  C=1000, degree=4, gamma=1, kernel=rbf, score=0.882, total=   0.1s\n",
      "[CV] C=1000, degree=4, gamma=1, kernel=rbf ...........................\n",
      "[CV]  C=1000, degree=4, gamma=1, kernel=rbf, score=0.905, total=   0.1s\n",
      "[CV] C=1000, degree=4, gamma=1, kernel=rbf ...........................\n",
      "[CV]  C=1000, degree=4, gamma=1, kernel=rbf, score=0.882, total=   0.1s\n",
      "[CV] C=1000, degree=4, gamma=1, kernel=rbf ...........................\n",
      "[CV]  C=1000, degree=4, gamma=1, kernel=rbf, score=0.891, total=   0.1s\n",
      "[CV] C=1000, degree=4, gamma=1, kernel=rbf ...........................\n",
      "[CV]  C=1000, degree=4, gamma=1, kernel=rbf, score=0.905, total=   0.1s\n",
      "[CV] C=1000, degree=4, gamma=1, kernel=poly .........................."
     ]
    },
    {
     "name": "stderr",
     "output_type": "stream",
     "text": [
      "C:\\Users\\Personal\\Anaconda3\\lib\\site-packages\\sklearn\\svm\\_base.py:231: ConvergenceWarning: Solver terminated early (max_iter=700).  Consider pre-processing your data with StandardScaler or MinMaxScaler.\n",
      "  % self.max_iter, ConvergenceWarning)\n",
      "C:\\Users\\Personal\\Anaconda3\\lib\\site-packages\\sklearn\\svm\\_base.py:231: ConvergenceWarning: Solver terminated early (max_iter=700).  Consider pre-processing your data with StandardScaler or MinMaxScaler.\n",
      "  % self.max_iter, ConvergenceWarning)\n"
     ]
    },
    {
     "name": "stdout",
     "output_type": "stream",
     "text": [
      "\n",
      "[CV]  C=1000, degree=4, gamma=1, kernel=poly, score=1.000, total=   0.0s\n",
      "[CV] C=1000, degree=4, gamma=1, kernel=poly ..........................\n",
      "[CV]  C=1000, degree=4, gamma=1, kernel=poly, score=1.000, total=   0.0s\n",
      "[CV] C=1000, degree=4, gamma=1, kernel=poly ..........................\n",
      "[CV]  C=1000, degree=4, gamma=1, kernel=poly, score=0.991, total=   0.0s\n",
      "[CV] C=1000, degree=4, gamma=1, kernel=poly ..........................\n",
      "[CV]  C=1000, degree=4, gamma=1, kernel=poly, score=1.000, total=   0.0s\n",
      "[CV] C=1000, degree=4, gamma=1, kernel=poly ..........................\n",
      "[CV]  C=1000, degree=4, gamma=1, kernel=poly, score=1.000, total=   0.0s\n",
      "[CV] C=1000, degree=4, gamma=0.1, kernel=rbf .........................\n",
      "[CV]  C=1000, degree=4, gamma=0.1, kernel=rbf, score=1.000, total=   0.0s\n",
      "[CV] C=1000, degree=4, gamma=0.1, kernel=rbf .........................\n",
      "[CV]  C=1000, degree=4, gamma=0.1, kernel=rbf, score=1.000, total=   0.0s\n",
      "[CV] C=1000, degree=4, gamma=0.1, kernel=rbf .........................\n",
      "[CV]  C=1000, degree=4, gamma=0.1, kernel=rbf, score=1.000, total=   0.0s\n",
      "[CV] C=1000, degree=4, gamma=0.1, kernel=rbf .........................\n",
      "[CV]  C=1000, degree=4, gamma=0.1, kernel=rbf, score=1.000, total=   0.0s\n",
      "[CV] C=1000, degree=4, gamma=0.1, kernel=rbf .........................\n",
      "[CV]  C=1000, degree=4, gamma=0.1, kernel=rbf, score=1.000, total=   0.0s\n",
      "[CV] C=1000, degree=4, gamma=0.1, kernel=poly ........................\n",
      "[CV]  C=1000, degree=4, gamma=0.1, kernel=poly, score=1.000, total=   0.0s\n",
      "[CV] C=1000, degree=4, gamma=0.1, kernel=poly ........................\n",
      "[CV]  C=1000, degree=4, gamma=0.1, kernel=poly, score=1.000, total=   0.0s\n",
      "[CV] C=1000, degree=4, gamma=0.1, kernel=poly ........................\n",
      "[CV]  C=1000, degree=4, gamma=0.1, kernel=poly, score=0.991, total=   0.0s\n",
      "[CV] C=1000, degree=4, gamma=0.1, kernel=poly ........................\n",
      "[CV]  C=1000, degree=4, gamma=0.1, kernel=poly, score=1.000, total=   0.0s\n",
      "[CV] C=1000, degree=4, gamma=0.1, kernel=poly ........................\n",
      "[CV]  C=1000, degree=4, gamma=0.1, kernel=poly, score=1.000, total=   0.0s\n",
      "[CV] C=1000, degree=4, gamma=0.01, kernel=rbf ........................\n",
      "[CV]  C=1000, degree=4, gamma=0.01, kernel=rbf, score=1.000, total=   0.0s\n",
      "[CV] C=1000, degree=4, gamma=0.01, kernel=rbf ........................\n",
      "[CV]  C=1000, degree=4, gamma=0.01, kernel=rbf, score=1.000, total=   0.0s\n",
      "[CV] C=1000, degree=4, gamma=0.01, kernel=rbf ........................\n",
      "[CV]  C=1000, degree=4, gamma=0.01, kernel=rbf, score=1.000, total=   0.0s\n",
      "[CV] C=1000, degree=4, gamma=0.01, kernel=rbf ........................\n",
      "[CV]  C=1000, degree=4, gamma=0.01, kernel=rbf, score=1.000, total=   0.0s\n",
      "[CV] C=1000, degree=4, gamma=0.01, kernel=rbf ........................\n",
      "[CV]  C=1000, degree=4, gamma=0.01, kernel=rbf, score=1.000, total=   0.0s\n",
      "[CV] C=1000, degree=4, gamma=0.01, kernel=poly .......................\n",
      "[CV]  C=1000, degree=4, gamma=0.01, kernel=poly, score=1.000, total=   0.0s\n",
      "[CV] C=1000, degree=4, gamma=0.01, kernel=poly .......................\n",
      "[CV]  C=1000, degree=4, gamma=0.01, kernel=poly, score=1.000, total=   0.0s\n",
      "[CV] C=1000, degree=4, gamma=0.01, kernel=poly .......................\n",
      "[CV]  C=1000, degree=4, gamma=0.01, kernel=poly, score=0.991, total=   0.0s\n",
      "[CV] C=1000, degree=4, gamma=0.01, kernel=poly .......................\n",
      "[CV]  C=1000, degree=4, gamma=0.01, kernel=poly, score=1.000, total=   0.0s\n",
      "[CV] C=1000, degree=4, gamma=0.01, kernel=poly .......................\n",
      "[CV]  C=1000, degree=4, gamma=0.01, kernel=poly, score=1.000, total=   0.0s\n",
      "[CV] C=1000, degree=4, gamma=0.001, kernel=rbf .......................\n",
      "[CV]  C=1000, degree=4, gamma=0.001, kernel=rbf, score=1.000, total=   0.0s\n",
      "[CV] C=1000, degree=4, gamma=0.001, kernel=rbf .......................\n",
      "[CV]  C=1000, degree=4, gamma=0.001, kernel=rbf, score=1.000, total=   0.0s\n",
      "[CV] C=1000, degree=4, gamma=0.001, kernel=rbf .......................\n"
     ]
    },
    {
     "name": "stderr",
     "output_type": "stream",
     "text": [
      "C:\\Users\\Personal\\Anaconda3\\lib\\site-packages\\sklearn\\svm\\_base.py:231: ConvergenceWarning: Solver terminated early (max_iter=700).  Consider pre-processing your data with StandardScaler or MinMaxScaler.\n",
      "  % self.max_iter, ConvergenceWarning)\n",
      "C:\\Users\\Personal\\Anaconda3\\lib\\site-packages\\sklearn\\svm\\_base.py:231: ConvergenceWarning: Solver terminated early (max_iter=700).  Consider pre-processing your data with StandardScaler or MinMaxScaler.\n",
      "  % self.max_iter, ConvergenceWarning)\n",
      "C:\\Users\\Personal\\Anaconda3\\lib\\site-packages\\sklearn\\svm\\_base.py:231: ConvergenceWarning: Solver terminated early (max_iter=700).  Consider pre-processing your data with StandardScaler or MinMaxScaler.\n",
      "  % self.max_iter, ConvergenceWarning)\n",
      "C:\\Users\\Personal\\Anaconda3\\lib\\site-packages\\sklearn\\svm\\_base.py:231: ConvergenceWarning: Solver terminated early (max_iter=700).  Consider pre-processing your data with StandardScaler or MinMaxScaler.\n",
      "  % self.max_iter, ConvergenceWarning)\n",
      "C:\\Users\\Personal\\Anaconda3\\lib\\site-packages\\sklearn\\svm\\_base.py:231: ConvergenceWarning: Solver terminated early (max_iter=700).  Consider pre-processing your data with StandardScaler or MinMaxScaler.\n",
      "  % self.max_iter, ConvergenceWarning)\n"
     ]
    },
    {
     "name": "stdout",
     "output_type": "stream",
     "text": [
      "[CV]  C=1000, degree=4, gamma=0.001, kernel=rbf, score=1.000, total=   0.0s\n",
      "[CV] C=1000, degree=4, gamma=0.001, kernel=rbf .......................\n",
      "[CV]  C=1000, degree=4, gamma=0.001, kernel=rbf, score=1.000, total=   0.0s\n",
      "[CV] C=1000, degree=4, gamma=0.001, kernel=rbf .......................\n",
      "[CV]  C=1000, degree=4, gamma=0.001, kernel=rbf, score=1.000, total=   0.0s\n",
      "[CV] C=1000, degree=4, gamma=0.001, kernel=poly ......................\n",
      "[CV]  C=1000, degree=4, gamma=0.001, kernel=poly, score=0.948, total=   0.0s\n",
      "[CV] C=1000, degree=4, gamma=0.001, kernel=poly ......................\n",
      "[CV]  C=1000, degree=4, gamma=0.001, kernel=poly, score=0.995, total=   0.0s\n",
      "[CV] C=1000, degree=4, gamma=0.001, kernel=poly ......................\n",
      "[CV]  C=1000, degree=4, gamma=0.001, kernel=poly, score=0.981, total=   0.0s\n",
      "[CV] C=1000, degree=4, gamma=0.001, kernel=poly ......................\n",
      "[CV]  C=1000, degree=4, gamma=0.001, kernel=poly, score=0.976, total=   0.0s\n",
      "[CV] C=1000, degree=4, gamma=0.001, kernel=poly ......................\n",
      "[CV]  C=1000, degree=4, gamma=0.001, kernel=poly, score=0.962, total=   0.0s\n",
      "[CV] C=1000, degree=4, gamma=100, kernel=rbf .........................\n"
     ]
    },
    {
     "name": "stderr",
     "output_type": "stream",
     "text": [
      "C:\\Users\\Personal\\Anaconda3\\lib\\site-packages\\sklearn\\svm\\_base.py:231: ConvergenceWarning: Solver terminated early (max_iter=700).  Consider pre-processing your data with StandardScaler or MinMaxScaler.\n",
      "  % self.max_iter, ConvergenceWarning)\n",
      "C:\\Users\\Personal\\Anaconda3\\lib\\site-packages\\sklearn\\svm\\_base.py:231: ConvergenceWarning: Solver terminated early (max_iter=700).  Consider pre-processing your data with StandardScaler or MinMaxScaler.\n",
      "  % self.max_iter, ConvergenceWarning)\n",
      "C:\\Users\\Personal\\Anaconda3\\lib\\site-packages\\sklearn\\svm\\_base.py:231: ConvergenceWarning: Solver terminated early (max_iter=700).  Consider pre-processing your data with StandardScaler or MinMaxScaler.\n",
      "  % self.max_iter, ConvergenceWarning)\n",
      "C:\\Users\\Personal\\Anaconda3\\lib\\site-packages\\sklearn\\svm\\_base.py:231: ConvergenceWarning: Solver terminated early (max_iter=700).  Consider pre-processing your data with StandardScaler or MinMaxScaler.\n",
      "  % self.max_iter, ConvergenceWarning)\n"
     ]
    },
    {
     "name": "stdout",
     "output_type": "stream",
     "text": [
      "[CV]  C=1000, degree=4, gamma=100, kernel=rbf, score=0.763, total=   0.1s\n",
      "[CV] C=1000, degree=4, gamma=100, kernel=rbf .........................\n",
      "[CV]  C=1000, degree=4, gamma=100, kernel=rbf, score=0.796, total=   0.1s\n",
      "[CV] C=1000, degree=4, gamma=100, kernel=rbf .........................\n"
     ]
    },
    {
     "name": "stderr",
     "output_type": "stream",
     "text": [
      "C:\\Users\\Personal\\Anaconda3\\lib\\site-packages\\sklearn\\svm\\_base.py:231: ConvergenceWarning: Solver terminated early (max_iter=700).  Consider pre-processing your data with StandardScaler or MinMaxScaler.\n",
      "  % self.max_iter, ConvergenceWarning)\n",
      "C:\\Users\\Personal\\Anaconda3\\lib\\site-packages\\sklearn\\svm\\_base.py:231: ConvergenceWarning: Solver terminated early (max_iter=700).  Consider pre-processing your data with StandardScaler or MinMaxScaler.\n",
      "  % self.max_iter, ConvergenceWarning)\n"
     ]
    },
    {
     "name": "stdout",
     "output_type": "stream",
     "text": [
      "[CV]  C=1000, degree=4, gamma=100, kernel=rbf, score=0.730, total=   0.1s\n",
      "[CV] C=1000, degree=4, gamma=100, kernel=rbf .........................\n",
      "[CV]  C=1000, degree=4, gamma=100, kernel=rbf, score=0.763, total=   0.1s\n",
      "[CV] C=1000, degree=4, gamma=100, kernel=rbf .........................\n",
      "[CV]  C=1000, degree=4, gamma=100, kernel=rbf, score=0.771, total=   0.1s\n",
      "[CV] C=1000, degree=4, gamma=100, kernel=poly ........................\n",
      "[CV]  C=1000, degree=4, gamma=100, kernel=poly, score=1.000, total=   0.0s\n",
      "[CV] C=1000, degree=4, gamma=100, kernel=poly ........................\n",
      "[CV]  C=1000, degree=4, gamma=100, kernel=poly, score=1.000, total=   0.0s\n",
      "[CV] C=1000, degree=4, gamma=100, kernel=poly ........................\n",
      "[CV]  C=1000, degree=4, gamma=100, kernel=poly, score=0.991, total=   0.0s\n",
      "[CV] C=1000, degree=4, gamma=100, kernel=poly ........................\n",
      "[CV]  C=1000, degree=4, gamma=100, kernel=poly, score=1.000, total=   0.0s\n",
      "[CV] C=1000, degree=4, gamma=100, kernel=poly ........................\n",
      "[CV]  C=1000, degree=4, gamma=100, kernel=poly, score=1.000, total=   0.0s\n"
     ]
    },
    {
     "name": "stderr",
     "output_type": "stream",
     "text": [
      "C:\\Users\\Personal\\Anaconda3\\lib\\site-packages\\sklearn\\svm\\_base.py:231: ConvergenceWarning: Solver terminated early (max_iter=700).  Consider pre-processing your data with StandardScaler or MinMaxScaler.\n",
      "  % self.max_iter, ConvergenceWarning)\n",
      "[Parallel(n_jobs=1)]: Done 750 out of 750 | elapsed:   33.4s finished\n",
      "C:\\Users\\Personal\\Anaconda3\\lib\\site-packages\\sklearn\\svm\\_base.py:231: ConvergenceWarning: Solver terminated early (max_iter=700).  Consider pre-processing your data with StandardScaler or MinMaxScaler.\n",
      "  % self.max_iter, ConvergenceWarning)\n"
     ]
    },
    {
     "data": {
      "text/plain": [
       "GridSearchCV(cv=KFold(n_splits=5, random_state=None, shuffle=True),\n",
       "             error_score=nan,\n",
       "             estimator=SVC(C=1.0, break_ties=False, cache_size=300,\n",
       "                           class_weight=None, coef0=0.0,\n",
       "                           decision_function_shape='ovr', degree=3,\n",
       "                           gamma='scale', kernel='rbf', max_iter=700,\n",
       "                           probability=False, random_state=None, shrinking=True,\n",
       "                           tol=0.001, verbose=False),\n",
       "             iid='deprecated', n_jobs=None,\n",
       "             param_grid={'C': [0.1, 1, 10, 100, 1000], 'degree': [2, 3, 4],\n",
       "                         'gamma': [1, 0.1, 0.01, 0.001, 100],\n",
       "                         'kernel': ['rbf', 'poly']},\n",
       "             pre_dispatch='2*n_jobs', refit=True, return_train_score=False,\n",
       "             scoring=None, verbose=3)"
      ]
     },
     "execution_count": 104,
     "metadata": {},
     "output_type": "execute_result"
    }
   ],
   "source": [
    "param_grid = {'C': [0.1, 1, 10, 100, 1000], \n",
    "'gamma': [1, 0.1, 0.01, 0.001, 100],\n",
    "'degree':[2,3,4],\n",
    "'kernel': ['rbf','poly']} \n",
    "cv = KFold(n_splits = 5,random_state = None,shuffle = True)\n",
    "grid = GridSearchCV(SVC(cache_size = 300,max_iter = 700,), param_grid, cv = cv,refit = True, verbose = 3) \n",
    "\n",
    "grid.fit(x_train, y_train) \n"
   ]
  },
  {
   "cell_type": "code",
   "execution_count": 105,
   "metadata": {},
   "outputs": [
    {
     "data": {
      "text/plain": [
       "array([1, 1, 1, 1, 0, 1, 0, 0, 1, 1, 1, 1, 1, 0, 0, 1, 1, 0, 0, 0, 0, 0,\n",
       "       1, 0, 0, 0, 0, 0, 0, 0, 0, 1, 0, 1, 1, 0, 0, 1, 1, 1, 1, 0, 0, 0,\n",
       "       1, 1, 1, 0, 0, 1, 0, 1, 0, 1, 1, 1, 1, 1, 0, 0, 1, 1, 0, 1, 1, 0,\n",
       "       0, 1, 0, 0, 1, 0, 1, 1, 1, 1, 0, 1, 0, 0, 0, 0, 1, 0, 0, 0, 1, 0,\n",
       "       0, 1, 0, 0, 1, 1, 1, 0, 0, 0, 0, 0, 0, 0, 0, 1, 0, 0, 1, 1, 1, 0,\n",
       "       1, 1, 0, 0, 1, 1, 1, 1, 1, 1, 1, 1, 0, 1, 1, 1, 0, 1, 0, 0, 0, 0,\n",
       "       0, 1, 1, 1, 1, 0, 0, 0, 0, 0, 0, 0, 0, 1, 1, 1, 1, 1, 0, 1, 0, 1,\n",
       "       0, 0, 0, 0, 0, 0, 0, 0, 0, 0, 1, 0, 0, 0, 1, 1, 0, 0, 0, 0, 0, 1,\n",
       "       1, 1, 1, 0, 0, 1, 1, 0, 1, 1, 0, 0, 1, 1, 1, 0, 0, 0, 0, 1, 1, 1,\n",
       "       1, 0, 1, 1, 1, 1, 0, 1, 1, 1, 0, 1, 1, 1, 1, 0, 0, 1, 0, 0, 1, 0,\n",
       "       0, 0, 1, 1, 1, 0, 1, 0, 1, 1, 0, 0, 0, 0, 0, 0, 1, 0, 0, 0, 1, 1,\n",
       "       0, 1, 1, 0, 1, 1, 0, 1, 0, 0, 0, 0, 0, 0, 1, 0, 1, 1, 0, 1, 0, 0,\n",
       "       0, 1, 0, 0, 0, 1, 1, 1, 1, 0, 0, 1, 0, 0, 1, 0, 0, 1, 1, 1, 0, 1,\n",
       "       0, 0, 0, 1, 1, 1, 1, 0, 0, 1, 1, 1, 1, 1, 0, 1, 0, 0, 1, 0, 1, 1,\n",
       "       1, 0, 0, 0, 1, 1, 1, 0, 0, 1, 1, 0, 0, 0, 1, 0, 0, 1, 1, 0, 1, 0,\n",
       "       1, 1, 1, 1, 0, 1, 0, 0, 0, 0, 1, 1, 0, 0, 1, 0, 1, 0, 1, 1, 1, 0,\n",
       "       0, 0, 0, 0, 1, 0, 0, 0, 0, 0, 0, 0, 0, 0, 1, 0, 1, 0, 0, 1, 0, 0,\n",
       "       1, 0, 0, 1, 0, 0, 0, 0, 1, 0, 0, 0, 0, 1, 0, 0, 0, 1, 0, 0, 1, 1,\n",
       "       0, 0, 0, 0, 1, 0, 0, 0, 0, 0, 1, 1, 1, 0, 0, 0, 0, 1, 1, 0, 0, 1,\n",
       "       0, 0, 1, 0, 0, 0, 1, 1, 1, 0, 0, 1, 1, 1, 0, 1, 0, 0, 1, 1, 0, 0,\n",
       "       1, 0, 1, 1, 1, 0, 1, 0, 1, 1, 0, 0, 1, 0, 0, 0, 0, 0, 1, 1, 0, 0,\n",
       "       1, 0, 1, 0, 1, 1, 1, 0, 0, 1, 0, 0, 0, 0, 0, 0, 0, 0, 0, 0, 0, 1,\n",
       "       1, 0, 1, 1, 1, 1, 1, 0, 1, 1, 1, 0, 0, 1, 1, 0, 0, 1, 0, 1, 1, 1,\n",
       "       0, 0, 1, 0, 1, 1, 0, 0, 1, 1, 0, 1, 0, 0, 1, 1, 1, 1, 1, 0, 0, 0,\n",
       "       1, 0, 0, 0, 0, 1, 0, 0, 0, 0, 0, 1, 1, 0, 1, 1, 1, 1, 0, 0, 0, 1,\n",
       "       0, 0, 0, 1, 1, 0, 0, 0, 1, 1, 1, 1, 1, 1, 0, 0, 0, 0, 1, 0, 0, 0,\n",
       "       0, 1, 0, 0, 1, 1, 1, 0, 0, 0, 1, 1, 1, 0, 1, 1, 1, 0, 1, 1, 1, 0,\n",
       "       0, 0, 0, 1, 0, 1, 0, 0, 0, 0, 0, 0, 0, 0, 0, 0, 1, 0, 1, 0, 1, 1,\n",
       "       0, 0, 0, 0, 0, 1, 0, 1, 0, 1, 0, 0, 1, 1, 1, 0, 0, 1, 1, 0, 0, 1,\n",
       "       1, 1, 0, 1, 0, 0, 1, 1, 0, 1, 0, 0, 0, 0, 0, 1, 1, 0, 1, 0, 0, 1,\n",
       "       1, 1, 1, 0, 0, 1, 0, 0, 0, 1, 1, 1, 1, 1, 1, 1, 0, 0, 1, 1, 1, 1,\n",
       "       0, 0, 0, 1, 1, 1, 1, 1, 0, 0, 1, 0, 1, 1, 1, 0, 1, 1, 0, 1, 1, 1],\n",
       "      dtype=int64)"
      ]
     },
     "execution_count": 105,
     "metadata": {},
     "output_type": "execute_result"
    }
   ],
   "source": [
    "grid_pred = grid.predict(x_test)\n",
    "grid_pred"
   ]
  },
  {
   "cell_type": "code",
   "execution_count": 106,
   "metadata": {},
   "outputs": [
    {
     "name": "stdout",
     "output_type": "stream",
     "text": [
      "              precision    recall  f1-score   support\n",
      "\n",
      "           0       1.00      0.73      0.84       515\n",
      "           1       0.57      0.99      0.73       189\n",
      "\n",
      "    accuracy                           0.80       704\n",
      "   macro avg       0.79      0.86      0.79       704\n",
      "weighted avg       0.88      0.80      0.81       704\n",
      "\n",
      "[[376 139]\n",
      " [  1 188]]\n",
      "0.8011363636363636\n"
     ]
    }
   ],
   "source": [
    "print(classification_report(y_test,grid_pred))\n",
    "print(confusion_matrix(y_test,grid_pred))\n",
    "print(accuracy_score(y_test,grid_pred))"
   ]
  },
  {
   "cell_type": "code",
   "execution_count": 107,
   "metadata": {},
   "outputs": [
    {
     "data": {
      "text/plain": [
       "DecisionTreeClassifier(ccp_alpha=0.0, class_weight=None, criterion='gini',\n",
       "                       max_depth=None, max_features=None, max_leaf_nodes=None,\n",
       "                       min_impurity_decrease=0.0, min_impurity_split=None,\n",
       "                       min_samples_leaf=1, min_samples_split=2,\n",
       "                       min_weight_fraction_leaf=0.0, presort='deprecated',\n",
       "                       random_state=None, splitter='best')"
      ]
     },
     "execution_count": 107,
     "metadata": {},
     "output_type": "execute_result"
    }
   ],
   "source": [
    "from sklearn.tree import DecisionTreeClassifier\n",
    "from sklearn.ensemble import RandomForestClassifier\n",
    "d_clf = DecisionTreeClassifier()\n",
    "d_clf.fit(x_train,y_train)"
   ]
  },
  {
   "cell_type": "code",
   "execution_count": 108,
   "metadata": {},
   "outputs": [],
   "source": [
    "d_pred = d_clf.predict(x_test)"
   ]
  },
  {
   "cell_type": "code",
   "execution_count": 109,
   "metadata": {},
   "outputs": [
    {
     "name": "stdout",
     "output_type": "stream",
     "text": [
      "              precision    recall  f1-score   support\n",
      "\n",
      "           0       0.45      1.00      0.62       231\n",
      "           1       1.00      0.40      0.57       473\n",
      "\n",
      "    accuracy                           0.60       704\n",
      "   macro avg       0.72      0.70      0.60       704\n",
      "weighted avg       0.82      0.60      0.59       704\n",
      "\n",
      "0.5965909090909091\n",
      "[[231   0]\n",
      " [284 189]]\n"
     ]
    }
   ],
   "source": [
    "print(classification_report(d_pred,y_test))\n",
    "print(accuracy_score(d_pred,y_test))\n",
    "print(confusion_matrix(d_pred,y_test))"
   ]
  },
  {
   "cell_type": "code",
   "execution_count": 110,
   "metadata": {},
   "outputs": [],
   "source": [
    "r_clf = RandomForestClassifier().fit(x_train,y_train)"
   ]
  },
  {
   "cell_type": "code",
   "execution_count": 111,
   "metadata": {},
   "outputs": [],
   "source": [
    "r_pred = r_clf.predict(x_test)"
   ]
  },
  {
   "cell_type": "code",
   "execution_count": 112,
   "metadata": {},
   "outputs": [
    {
     "name": "stdout",
     "output_type": "stream",
     "text": [
      "              precision    recall  f1-score   support\n",
      "\n",
      "           0       0.45      1.00      0.62       231\n",
      "           1       1.00      0.40      0.57       473\n",
      "\n",
      "    accuracy                           0.60       704\n",
      "   macro avg       0.72      0.70      0.60       704\n",
      "weighted avg       0.82      0.60      0.59       704\n",
      "\n",
      "0.5965909090909091\n",
      "[[231   0]\n",
      " [284 189]]\n"
     ]
    }
   ],
   "source": [
    "print(classification_report(r_pred,y_test))\n",
    "print(accuracy_score(r_pred,y_test))\n",
    "print(confusion_matrix(r_pred,y_test))"
   ]
  },
  {
   "cell_type": "code",
   "execution_count": 113,
   "metadata": {},
   "outputs": [
    {
     "data": {
      "text/plain": [
       "count    704.000000\n",
       "mean      29.673295\n",
       "std       16.490476\n",
       "min       17.000000\n",
       "25%       21.000000\n",
       "50%       27.000000\n",
       "75%       35.000000\n",
       "max      383.000000\n",
       "Name: age, dtype: float64"
      ]
     },
     "execution_count": 113,
     "metadata": {},
     "output_type": "execute_result"
    }
   ],
   "source": [
    "data['age'].describe()"
   ]
  },
  {
   "cell_type": "code",
   "execution_count": 114,
   "metadata": {},
   "outputs": [
    {
     "data": {
      "text/plain": [
       "0      26\n",
       "1      24\n",
       "2      27\n",
       "3      35\n",
       "4      40\n",
       "       ..\n",
       "699    25\n",
       "700    34\n",
       "701    24\n",
       "702    35\n",
       "703    26\n",
       "Name: age, Length: 704, dtype: int32"
      ]
     },
     "execution_count": 114,
     "metadata": {},
     "output_type": "execute_result"
    }
   ],
   "source": [
    "data['age']"
   ]
  },
  {
   "cell_type": "code",
   "execution_count": 115,
   "metadata": {},
   "outputs": [
    {
     "name": "stderr",
     "output_type": "stream",
     "text": [
      "C:\\Users\\Personal\\Anaconda3\\lib\\site-packages\\lightgbm\\engine.py:148: UserWarning: Found `num_iterations` in params. Will use it instead of argument\n",
      "  warnings.warn(\"Found `{}` in params. Will use it instead of argument\".format(alias))\n"
     ]
    },
    {
     "name": "stdout",
     "output_type": "stream",
     "text": [
      "[1]\ttraining's auc: 0.982276\ttraining's binary_error: 0.103416\ttraining's l1: 0.328068\ttraining's rmse: 0.356034\ttraining's l2: 0.12676\ttraining's mape: 0.328068\n",
      "Training until validation scores don't improve for 150 rounds\n",
      "[2]\ttraining's auc: 0.994754\ttraining's binary_error: 0.0616698\ttraining's l1: 0.257379\ttraining's rmse: 0.285172\ttraining's l2: 0.081323\ttraining's mape: 0.257379\n",
      "[3]\ttraining's auc: 0.999996\ttraining's binary_error: 0.0056926\ttraining's l1: 0.186447\ttraining's rmse: 0.206255\ttraining's l2: 0.0425412\ttraining's mape: 0.186447\n",
      "[4]\ttraining's auc: 1\ttraining's binary_error: 0\ttraining's l1: 0.136328\ttraining's rmse: 0.150894\ttraining's l2: 0.0227689\ttraining's mape: 0.136328\n",
      "[5]\ttraining's auc: 1\ttraining's binary_error: 0\ttraining's l1: 0.100131\ttraining's rmse: 0.110922\ttraining's l2: 0.0123038\ttraining's mape: 0.100131\n",
      "[6]\ttraining's auc: 1\ttraining's binary_error: 0\ttraining's l1: 0.079649\ttraining's rmse: 0.0910244\ttraining's l2: 0.00828544\ttraining's mape: 0.079649\n",
      "[7]\ttraining's auc: 1\ttraining's binary_error: 0\ttraining's l1: 0.0587187\ttraining's rmse: 0.0671725\ttraining's l2: 0.00451215\ttraining's mape: 0.0587187\n",
      "[8]\ttraining's auc: 1\ttraining's binary_error: 0\ttraining's l1: 0.0433498\ttraining's rmse: 0.0496367\ttraining's l2: 0.0024638\ttraining's mape: 0.0433498\n",
      "[9]\ttraining's auc: 1\ttraining's binary_error: 0\ttraining's l1: 0.0320345\ttraining's rmse: 0.0367108\ttraining's l2: 0.00134769\ttraining's mape: 0.0320345\n",
      "[10]\ttraining's auc: 1\ttraining's binary_error: 0\ttraining's l1: 0.0236889\ttraining's rmse: 0.0271607\ttraining's l2: 0.000737703\ttraining's mape: 0.0236889\n",
      "[11]\ttraining's auc: 1\ttraining's binary_error: 0\ttraining's l1: 0.017526\ttraining's rmse: 0.0201036\ttraining's l2: 0.000404154\ttraining's mape: 0.017526\n",
      "[12]\ttraining's auc: 1\ttraining's binary_error: 0\ttraining's l1: 0.012971\ttraining's rmse: 0.0148831\ttraining's l2: 0.000221508\ttraining's mape: 0.012971\n",
      "[13]\ttraining's auc: 1\ttraining's binary_error: 0\ttraining's l1: 0.00960234\ttraining's rmse: 0.0110204\ttraining's l2: 0.00012145\ttraining's mape: 0.00960234\n",
      "[14]\ttraining's auc: 1\ttraining's binary_error: 0\ttraining's l1: 0.00710986\ttraining's rmse: 0.00816128\ttraining's l2: 6.66064e-05\ttraining's mape: 0.00710986\n",
      "[15]\ttraining's auc: 1\ttraining's binary_error: 0\ttraining's l1: 0.00581248\ttraining's rmse: 0.00698986\ttraining's l2: 4.88581e-05\ttraining's mape: 0.00581248\n",
      "[16]\ttraining's auc: 1\ttraining's binary_error: 0\ttraining's l1: 0.0043045\ttraining's rmse: 0.00517732\ttraining's l2: 2.68046e-05\ttraining's mape: 0.0043045\n",
      "[17]\ttraining's auc: 1\ttraining's binary_error: 0\ttraining's l1: 0.00318803\ttraining's rmse: 0.00383491\ttraining's l2: 1.47065e-05\ttraining's mape: 0.00318803\n",
      "[18]\ttraining's auc: 1\ttraining's binary_error: 0\ttraining's l1: 0.00236131\ttraining's rmse: 0.00284071\ttraining's l2: 8.06963e-06\ttraining's mape: 0.00236131\n",
      "[19]\ttraining's auc: 1\ttraining's binary_error: 0\ttraining's l1: 0.00174905\ttraining's rmse: 0.00210428\ttraining's l2: 4.428e-06\ttraining's mape: 0.00174905\n",
      "[20]\ttraining's auc: 1\ttraining's binary_error: 0\ttraining's l1: 0.0012956\ttraining's rmse: 0.00155879\ttraining's l2: 2.42984e-06\ttraining's mape: 0.0012956\n",
      "[21]\ttraining's auc: 1\ttraining's binary_error: 0\ttraining's l1: 0.000959728\ttraining's rmse: 0.00115474\ttraining's l2: 1.33343e-06\ttraining's mape: 0.000959728\n",
      "[22]\ttraining's auc: 1\ttraining's binary_error: 0\ttraining's l1: 0.000710944\ttraining's rmse: 0.000855427\ttraining's l2: 7.31756e-07\ttraining's mape: 0.000710944\n",
      "[23]\ttraining's auc: 1\ttraining's binary_error: 0\ttraining's l1: 0.00058973\ttraining's rmse: 0.000751881\ttraining's l2: 5.65325e-07\ttraining's mape: 0.00058973\n",
      "[24]\ttraining's auc: 1\ttraining's binary_error: 0\ttraining's l1: 0.000436865\ttraining's rmse: 0.000556999\ttraining's l2: 3.10248e-07\ttraining's mape: 0.000436865\n",
      "[25]\ttraining's auc: 1\ttraining's binary_error: 0\ttraining's l1: 0.000323628\ttraining's rmse: 0.00041263\ttraining's l2: 1.70264e-07\ttraining's mape: 0.000323628\n",
      "[26]\ttraining's auc: 1\ttraining's binary_error: 0\ttraining's l1: 0.000239745\ttraining's rmse: 0.000305682\ttraining's l2: 9.34418e-08\ttraining's mape: 0.000239745\n",
      "[27]\ttraining's auc: 1\ttraining's binary_error: 0\ttraining's l1: 0.000197934\ttraining's rmse: 0.000262414\ttraining's l2: 6.88609e-08\ttraining's mape: 0.000197934\n",
      "[28]\ttraining's auc: 1\ttraining's binary_error: 0\ttraining's l1: 0.000146631\ttraining's rmse: 0.000194399\ttraining's l2: 3.77911e-08\ttraining's mape: 0.000146631\n",
      "[29]\ttraining's auc: 1\ttraining's binary_error: 0\ttraining's l1: 0.000108626\ttraining's rmse: 0.000144014\ttraining's l2: 2.074e-08\ttraining's mape: 0.000108626\n",
      "[30]\ttraining's auc: 1\ttraining's binary_error: 0\ttraining's l1: 8.04712e-05\ttraining's rmse: 0.000106688\ttraining's l2: 1.13823e-08\ttraining's mape: 8.04712e-05\n",
      "[31]\ttraining's auc: 1\ttraining's binary_error: 0\ttraining's l1: 5.96142e-05\ttraining's rmse: 7.90361e-05\ttraining's l2: 6.24671e-09\ttraining's mape: 5.96142e-05\n",
      "[32]\ttraining's auc: 1\ttraining's binary_error: 0\ttraining's l1: 4.41631e-05\ttraining's rmse: 5.85513e-05\ttraining's l2: 3.42825e-09\ttraining's mape: 4.41631e-05\n",
      "[33]\ttraining's auc: 1\ttraining's binary_error: 0\ttraining's l1: 3.75093e-05\ttraining's rmse: 5.24809e-05\ttraining's l2: 2.75424e-09\ttraining's mape: 3.75093e-05\n",
      "[34]\ttraining's auc: 1\ttraining's binary_error: 0\ttraining's l1: 2.77875e-05\ttraining's rmse: 3.88788e-05\ttraining's l2: 1.51156e-09\ttraining's mape: 2.77875e-05\n",
      "[35]\ttraining's auc: 1\ttraining's binary_error: 0\ttraining's l1: 2.05854e-05\ttraining's rmse: 2.88021e-05\ttraining's l2: 8.2956e-10\ttraining's mape: 2.05854e-05\n",
      "[36]\ttraining's auc: 1\ttraining's binary_error: 0\ttraining's l1: 1.525e-05\ttraining's rmse: 2.13371e-05\ttraining's l2: 4.55272e-10\ttraining's mape: 1.525e-05\n",
      "[37]\ttraining's auc: 1\ttraining's binary_error: 0\ttraining's l1: 1.12975e-05\ttraining's rmse: 1.58069e-05\ttraining's l2: 2.49859e-10\ttraining's mape: 1.12975e-05\n",
      "[38]\ttraining's auc: 1\ttraining's binary_error: 0\ttraining's l1: 8.36937e-06\ttraining's rmse: 1.17101e-05\ttraining's l2: 1.37125e-10\ttraining's mape: 8.36937e-06\n",
      "[39]\ttraining's auc: 1\ttraining's binary_error: 0\ttraining's l1: 6.20018e-06\ttraining's rmse: 8.67502e-06\ttraining's l2: 7.5256e-11\ttraining's mape: 6.20018e-06\n",
      "[40]\ttraining's auc: 1\ttraining's binary_error: 0\ttraining's l1: 4.5932e-06\ttraining's rmse: 6.42662e-06\ttraining's l2: 4.13014e-11\ttraining's mape: 4.5932e-06\n",
      "[41]\ttraining's auc: 1\ttraining's binary_error: 0\ttraining's l1: 3.40273e-06\ttraining's rmse: 4.76095e-06\ttraining's l2: 2.26667e-11\ttraining's mape: 3.40273e-06\n",
      "[42]\ttraining's auc: 1\ttraining's binary_error: 0\ttraining's l1: 2.5208e-06\ttraining's rmse: 3.527e-06\ttraining's l2: 1.24398e-11\ttraining's mape: 2.5208e-06\n",
      "[43]\ttraining's auc: 1\ttraining's binary_error: 0\ttraining's l1: 1.86746e-06\ttraining's rmse: 2.61287e-06\ttraining's l2: 6.82709e-12\ttraining's mape: 1.86746e-06\n",
      "[44]\ttraining's auc: 1\ttraining's binary_error: 0\ttraining's l1: 1.86746e-06\ttraining's rmse: 2.61287e-06\ttraining's l2: 6.82709e-12\ttraining's mape: 1.86746e-06\n",
      "[45]\ttraining's auc: 1\ttraining's binary_error: 0\ttraining's l1: 1.86746e-06\ttraining's rmse: 2.61287e-06\ttraining's l2: 6.82709e-12\ttraining's mape: 1.86746e-06\n",
      "[46]\ttraining's auc: 1\ttraining's binary_error: 0\ttraining's l1: 1.86746e-06\ttraining's rmse: 2.61287e-06\ttraining's l2: 6.82709e-12\ttraining's mape: 1.86746e-06\n",
      "[47]\ttraining's auc: 1\ttraining's binary_error: 0\ttraining's l1: 1.86746e-06\ttraining's rmse: 2.61287e-06\ttraining's l2: 6.82709e-12\ttraining's mape: 1.86746e-06\n",
      "[48]\ttraining's auc: 1\ttraining's binary_error: 0\ttraining's l1: 1.86746e-06\ttraining's rmse: 2.61287e-06\ttraining's l2: 6.82709e-12\ttraining's mape: 1.86746e-06\n",
      "[49]\ttraining's auc: 1\ttraining's binary_error: 0\ttraining's l1: 1.86746e-06\ttraining's rmse: 2.61287e-06\ttraining's l2: 6.82709e-12\ttraining's mape: 1.86746e-06\n",
      "[50]\ttraining's auc: 1\ttraining's binary_error: 0\ttraining's l1: 1.86746e-06\ttraining's rmse: 2.61287e-06\ttraining's l2: 6.82709e-12\ttraining's mape: 1.86746e-06\n",
      "[51]\ttraining's auc: 1\ttraining's binary_error: 0\ttraining's l1: 1.86746e-06\ttraining's rmse: 2.61287e-06\ttraining's l2: 6.82709e-12\ttraining's mape: 1.86746e-06\n",
      "[52]\ttraining's auc: 1\ttraining's binary_error: 0\ttraining's l1: 1.86746e-06\ttraining's rmse: 2.61287e-06\ttraining's l2: 6.82709e-12\ttraining's mape: 1.86746e-06\n",
      "[53]\ttraining's auc: 1\ttraining's binary_error: 0\ttraining's l1: 1.86746e-06\ttraining's rmse: 2.61287e-06\ttraining's l2: 6.82709e-12\ttraining's mape: 1.86746e-06\n",
      "[54]\ttraining's auc: 1\ttraining's binary_error: 0\ttraining's l1: 1.86746e-06\ttraining's rmse: 2.61287e-06\ttraining's l2: 6.82709e-12\ttraining's mape: 1.86746e-06\n",
      "[55]\ttraining's auc: 1\ttraining's binary_error: 0\ttraining's l1: 1.86746e-06\ttraining's rmse: 2.61287e-06\ttraining's l2: 6.82709e-12\ttraining's mape: 1.86746e-06\n",
      "[56]\ttraining's auc: 1\ttraining's binary_error: 0\ttraining's l1: 1.86746e-06\ttraining's rmse: 2.61287e-06\ttraining's l2: 6.82709e-12\ttraining's mape: 1.86746e-06\n",
      "[57]\ttraining's auc: 1\ttraining's binary_error: 0\ttraining's l1: 1.86746e-06\ttraining's rmse: 2.61287e-06\ttraining's l2: 6.82709e-12\ttraining's mape: 1.86746e-06\n",
      "[58]\ttraining's auc: 1\ttraining's binary_error: 0\ttraining's l1: 1.86746e-06\ttraining's rmse: 2.61287e-06\ttraining's l2: 6.82709e-12\ttraining's mape: 1.86746e-06\n",
      "[59]\ttraining's auc: 1\ttraining's binary_error: 0\ttraining's l1: 1.86746e-06\ttraining's rmse: 2.61287e-06\ttraining's l2: 6.82709e-12\ttraining's mape: 1.86746e-06\n",
      "[60]\ttraining's auc: 1\ttraining's binary_error: 0\ttraining's l1: 1.86746e-06\ttraining's rmse: 2.61287e-06\ttraining's l2: 6.82709e-12\ttraining's mape: 1.86746e-06\n",
      "[61]\ttraining's auc: 1\ttraining's binary_error: 0\ttraining's l1: 1.86746e-06\ttraining's rmse: 2.61287e-06\ttraining's l2: 6.82709e-12\ttraining's mape: 1.86746e-06\n",
      "[62]\ttraining's auc: 1\ttraining's binary_error: 0\ttraining's l1: 1.86746e-06\ttraining's rmse: 2.61287e-06\ttraining's l2: 6.82709e-12\ttraining's mape: 1.86746e-06\n",
      "[63]\ttraining's auc: 1\ttraining's binary_error: 0\ttraining's l1: 1.86746e-06\ttraining's rmse: 2.61287e-06\ttraining's l2: 6.82709e-12\ttraining's mape: 1.86746e-06\n",
      "[64]\ttraining's auc: 1\ttraining's binary_error: 0\ttraining's l1: 1.86746e-06\ttraining's rmse: 2.61287e-06\ttraining's l2: 6.82709e-12\ttraining's mape: 1.86746e-06\n",
      "[65]\ttraining's auc: 1\ttraining's binary_error: 0\ttraining's l1: 1.86746e-06\ttraining's rmse: 2.61287e-06\ttraining's l2: 6.82709e-12\ttraining's mape: 1.86746e-06\n",
      "[66]\ttraining's auc: 1\ttraining's binary_error: 0\ttraining's l1: 1.86746e-06\ttraining's rmse: 2.61287e-06\ttraining's l2: 6.82709e-12\ttraining's mape: 1.86746e-06\n",
      "[67]\ttraining's auc: 1\ttraining's binary_error: 0\ttraining's l1: 1.86746e-06\ttraining's rmse: 2.61287e-06\ttraining's l2: 6.82709e-12\ttraining's mape: 1.86746e-06\n",
      "[68]\ttraining's auc: 1\ttraining's binary_error: 0\ttraining's l1: 1.86746e-06\ttraining's rmse: 2.61287e-06\ttraining's l2: 6.82709e-12\ttraining's mape: 1.86746e-06\n",
      "[69]\ttraining's auc: 1\ttraining's binary_error: 0\ttraining's l1: 1.86746e-06\ttraining's rmse: 2.61287e-06\ttraining's l2: 6.82709e-12\ttraining's mape: 1.86746e-06\n",
      "[70]\ttraining's auc: 1\ttraining's binary_error: 0\ttraining's l1: 1.86746e-06\ttraining's rmse: 2.61287e-06\ttraining's l2: 6.82709e-12\ttraining's mape: 1.86746e-06\n",
      "[71]\ttraining's auc: 1\ttraining's binary_error: 0\ttraining's l1: 1.86746e-06\ttraining's rmse: 2.61287e-06\ttraining's l2: 6.82709e-12\ttraining's mape: 1.86746e-06\n",
      "[72]\ttraining's auc: 1\ttraining's binary_error: 0\ttraining's l1: 1.86746e-06\ttraining's rmse: 2.61287e-06\ttraining's l2: 6.82709e-12\ttraining's mape: 1.86746e-06\n",
      "[73]\ttraining's auc: 1\ttraining's binary_error: 0\ttraining's l1: 1.86746e-06\ttraining's rmse: 2.61287e-06\ttraining's l2: 6.82709e-12\ttraining's mape: 1.86746e-06\n",
      "[74]\ttraining's auc: 1\ttraining's binary_error: 0\ttraining's l1: 1.86746e-06\ttraining's rmse: 2.61287e-06\ttraining's l2: 6.82709e-12\ttraining's mape: 1.86746e-06\n",
      "[75]\ttraining's auc: 1\ttraining's binary_error: 0\ttraining's l1: 1.86746e-06\ttraining's rmse: 2.61287e-06\ttraining's l2: 6.82709e-12\ttraining's mape: 1.86746e-06\n",
      "[76]\ttraining's auc: 1\ttraining's binary_error: 0\ttraining's l1: 1.86746e-06\ttraining's rmse: 2.61287e-06\ttraining's l2: 6.82709e-12\ttraining's mape: 1.86746e-06\n",
      "[77]\ttraining's auc: 1\ttraining's binary_error: 0\ttraining's l1: 1.86746e-06\ttraining's rmse: 2.61287e-06\ttraining's l2: 6.82709e-12\ttraining's mape: 1.86746e-06\n",
      "[78]\ttraining's auc: 1\ttraining's binary_error: 0\ttraining's l1: 1.86746e-06\ttraining's rmse: 2.61287e-06\ttraining's l2: 6.82709e-12\ttraining's mape: 1.86746e-06\n",
      "[79]\ttraining's auc: 1\ttraining's binary_error: 0\ttraining's l1: 1.86746e-06\ttraining's rmse: 2.61287e-06\ttraining's l2: 6.82709e-12\ttraining's mape: 1.86746e-06\n",
      "[80]\ttraining's auc: 1\ttraining's binary_error: 0\ttraining's l1: 1.86746e-06\ttraining's rmse: 2.61287e-06\ttraining's l2: 6.82709e-12\ttraining's mape: 1.86746e-06\n",
      "[81]\ttraining's auc: 1\ttraining's binary_error: 0\ttraining's l1: 1.86746e-06\ttraining's rmse: 2.61287e-06\ttraining's l2: 6.82709e-12\ttraining's mape: 1.86746e-06\n",
      "[82]\ttraining's auc: 1\ttraining's binary_error: 0\ttraining's l1: 1.86746e-06\ttraining's rmse: 2.61287e-06\ttraining's l2: 6.82709e-12\ttraining's mape: 1.86746e-06\n",
      "[83]\ttraining's auc: 1\ttraining's binary_error: 0\ttraining's l1: 1.86746e-06\ttraining's rmse: 2.61287e-06\ttraining's l2: 6.82709e-12\ttraining's mape: 1.86746e-06\n",
      "[84]\ttraining's auc: 1\ttraining's binary_error: 0\ttraining's l1: 1.86746e-06\ttraining's rmse: 2.61287e-06\ttraining's l2: 6.82709e-12\ttraining's mape: 1.86746e-06\n",
      "[85]\ttraining's auc: 1\ttraining's binary_error: 0\ttraining's l1: 1.86746e-06\ttraining's rmse: 2.61287e-06\ttraining's l2: 6.82709e-12\ttraining's mape: 1.86746e-06\n"
     ]
    },
    {
     "name": "stdout",
     "output_type": "stream",
     "text": [
      "[86]\ttraining's auc: 1\ttraining's binary_error: 0\ttraining's l1: 1.86746e-06\ttraining's rmse: 2.61287e-06\ttraining's l2: 6.82709e-12\ttraining's mape: 1.86746e-06\n",
      "[87]\ttraining's auc: 1\ttraining's binary_error: 0\ttraining's l1: 1.86746e-06\ttraining's rmse: 2.61287e-06\ttraining's l2: 6.82709e-12\ttraining's mape: 1.86746e-06\n",
      "[88]\ttraining's auc: 1\ttraining's binary_error: 0\ttraining's l1: 1.86746e-06\ttraining's rmse: 2.61287e-06\ttraining's l2: 6.82709e-12\ttraining's mape: 1.86746e-06\n",
      "[89]\ttraining's auc: 1\ttraining's binary_error: 0\ttraining's l1: 1.86746e-06\ttraining's rmse: 2.61287e-06\ttraining's l2: 6.82709e-12\ttraining's mape: 1.86746e-06\n",
      "[90]\ttraining's auc: 1\ttraining's binary_error: 0\ttraining's l1: 1.86746e-06\ttraining's rmse: 2.61287e-06\ttraining's l2: 6.82709e-12\ttraining's mape: 1.86746e-06\n",
      "[91]\ttraining's auc: 1\ttraining's binary_error: 0\ttraining's l1: 1.86746e-06\ttraining's rmse: 2.61287e-06\ttraining's l2: 6.82709e-12\ttraining's mape: 1.86746e-06\n",
      "[92]\ttraining's auc: 1\ttraining's binary_error: 0\ttraining's l1: 1.86746e-06\ttraining's rmse: 2.61287e-06\ttraining's l2: 6.82709e-12\ttraining's mape: 1.86746e-06\n",
      "[93]\ttraining's auc: 1\ttraining's binary_error: 0\ttraining's l1: 1.86746e-06\ttraining's rmse: 2.61287e-06\ttraining's l2: 6.82709e-12\ttraining's mape: 1.86746e-06\n",
      "[94]\ttraining's auc: 1\ttraining's binary_error: 0\ttraining's l1: 1.86746e-06\ttraining's rmse: 2.61287e-06\ttraining's l2: 6.82709e-12\ttraining's mape: 1.86746e-06\n",
      "[95]\ttraining's auc: 1\ttraining's binary_error: 0\ttraining's l1: 1.86746e-06\ttraining's rmse: 2.61287e-06\ttraining's l2: 6.82709e-12\ttraining's mape: 1.86746e-06\n",
      "[96]\ttraining's auc: 1\ttraining's binary_error: 0\ttraining's l1: 1.86746e-06\ttraining's rmse: 2.61287e-06\ttraining's l2: 6.82709e-12\ttraining's mape: 1.86746e-06\n",
      "[97]\ttraining's auc: 1\ttraining's binary_error: 0\ttraining's l1: 1.86746e-06\ttraining's rmse: 2.61287e-06\ttraining's l2: 6.82709e-12\ttraining's mape: 1.86746e-06\n",
      "[98]\ttraining's auc: 1\ttraining's binary_error: 0\ttraining's l1: 1.86746e-06\ttraining's rmse: 2.61287e-06\ttraining's l2: 6.82709e-12\ttraining's mape: 1.86746e-06\n",
      "[99]\ttraining's auc: 1\ttraining's binary_error: 0\ttraining's l1: 1.86746e-06\ttraining's rmse: 2.61287e-06\ttraining's l2: 6.82709e-12\ttraining's mape: 1.86746e-06\n",
      "[100]\ttraining's auc: 1\ttraining's binary_error: 0\ttraining's l1: 1.86746e-06\ttraining's rmse: 2.61287e-06\ttraining's l2: 6.82709e-12\ttraining's mape: 1.86746e-06\n",
      "[101]\ttraining's auc: 1\ttraining's binary_error: 0\ttraining's l1: 1.86746e-06\ttraining's rmse: 2.61287e-06\ttraining's l2: 6.82709e-12\ttraining's mape: 1.86746e-06\n",
      "[102]\ttraining's auc: 1\ttraining's binary_error: 0\ttraining's l1: 1.86746e-06\ttraining's rmse: 2.61287e-06\ttraining's l2: 6.82709e-12\ttraining's mape: 1.86746e-06\n",
      "[103]\ttraining's auc: 1\ttraining's binary_error: 0\ttraining's l1: 1.86746e-06\ttraining's rmse: 2.61287e-06\ttraining's l2: 6.82709e-12\ttraining's mape: 1.86746e-06\n",
      "[104]\ttraining's auc: 1\ttraining's binary_error: 0\ttraining's l1: 1.86746e-06\ttraining's rmse: 2.61287e-06\ttraining's l2: 6.82709e-12\ttraining's mape: 1.86746e-06\n",
      "[105]\ttraining's auc: 1\ttraining's binary_error: 0\ttraining's l1: 1.86746e-06\ttraining's rmse: 2.61287e-06\ttraining's l2: 6.82709e-12\ttraining's mape: 1.86746e-06\n",
      "[106]\ttraining's auc: 1\ttraining's binary_error: 0\ttraining's l1: 1.86746e-06\ttraining's rmse: 2.61287e-06\ttraining's l2: 6.82709e-12\ttraining's mape: 1.86746e-06\n",
      "[107]\ttraining's auc: 1\ttraining's binary_error: 0\ttraining's l1: 1.86746e-06\ttraining's rmse: 2.61287e-06\ttraining's l2: 6.82709e-12\ttraining's mape: 1.86746e-06\n",
      "[108]\ttraining's auc: 1\ttraining's binary_error: 0\ttraining's l1: 1.86746e-06\ttraining's rmse: 2.61287e-06\ttraining's l2: 6.82709e-12\ttraining's mape: 1.86746e-06\n",
      "[109]\ttraining's auc: 1\ttraining's binary_error: 0\ttraining's l1: 1.86746e-06\ttraining's rmse: 2.61287e-06\ttraining's l2: 6.82709e-12\ttraining's mape: 1.86746e-06\n",
      "[110]\ttraining's auc: 1\ttraining's binary_error: 0\ttraining's l1: 1.86746e-06\ttraining's rmse: 2.61287e-06\ttraining's l2: 6.82709e-12\ttraining's mape: 1.86746e-06\n",
      "[111]\ttraining's auc: 1\ttraining's binary_error: 0\ttraining's l1: 1.86746e-06\ttraining's rmse: 2.61287e-06\ttraining's l2: 6.82709e-12\ttraining's mape: 1.86746e-06\n",
      "[112]\ttraining's auc: 1\ttraining's binary_error: 0\ttraining's l1: 1.86746e-06\ttraining's rmse: 2.61287e-06\ttraining's l2: 6.82709e-12\ttraining's mape: 1.86746e-06\n",
      "[113]\ttraining's auc: 1\ttraining's binary_error: 0\ttraining's l1: 1.86746e-06\ttraining's rmse: 2.61287e-06\ttraining's l2: 6.82709e-12\ttraining's mape: 1.86746e-06\n",
      "[114]\ttraining's auc: 1\ttraining's binary_error: 0\ttraining's l1: 1.86746e-06\ttraining's rmse: 2.61287e-06\ttraining's l2: 6.82709e-12\ttraining's mape: 1.86746e-06\n",
      "[115]\ttraining's auc: 1\ttraining's binary_error: 0\ttraining's l1: 1.86746e-06\ttraining's rmse: 2.61287e-06\ttraining's l2: 6.82709e-12\ttraining's mape: 1.86746e-06\n",
      "[116]\ttraining's auc: 1\ttraining's binary_error: 0\ttraining's l1: 1.86746e-06\ttraining's rmse: 2.61287e-06\ttraining's l2: 6.82709e-12\ttraining's mape: 1.86746e-06\n",
      "[117]\ttraining's auc: 1\ttraining's binary_error: 0\ttraining's l1: 1.86746e-06\ttraining's rmse: 2.61287e-06\ttraining's l2: 6.82709e-12\ttraining's mape: 1.86746e-06\n",
      "[118]\ttraining's auc: 1\ttraining's binary_error: 0\ttraining's l1: 1.86746e-06\ttraining's rmse: 2.61287e-06\ttraining's l2: 6.82709e-12\ttraining's mape: 1.86746e-06\n",
      "[119]\ttraining's auc: 1\ttraining's binary_error: 0\ttraining's l1: 1.86746e-06\ttraining's rmse: 2.61287e-06\ttraining's l2: 6.82709e-12\ttraining's mape: 1.86746e-06\n",
      "[120]\ttraining's auc: 1\ttraining's binary_error: 0\ttraining's l1: 1.86746e-06\ttraining's rmse: 2.61287e-06\ttraining's l2: 6.82709e-12\ttraining's mape: 1.86746e-06\n",
      "[121]\ttraining's auc: 1\ttraining's binary_error: 0\ttraining's l1: 1.86746e-06\ttraining's rmse: 2.61287e-06\ttraining's l2: 6.82709e-12\ttraining's mape: 1.86746e-06\n",
      "[122]\ttraining's auc: 1\ttraining's binary_error: 0\ttraining's l1: 1.86746e-06\ttraining's rmse: 2.61287e-06\ttraining's l2: 6.82709e-12\ttraining's mape: 1.86746e-06\n",
      "[123]\ttraining's auc: 1\ttraining's binary_error: 0\ttraining's l1: 1.86746e-06\ttraining's rmse: 2.61287e-06\ttraining's l2: 6.82709e-12\ttraining's mape: 1.86746e-06\n",
      "[124]\ttraining's auc: 1\ttraining's binary_error: 0\ttraining's l1: 1.86746e-06\ttraining's rmse: 2.61287e-06\ttraining's l2: 6.82709e-12\ttraining's mape: 1.86746e-06\n",
      "[125]\ttraining's auc: 1\ttraining's binary_error: 0\ttraining's l1: 1.86746e-06\ttraining's rmse: 2.61287e-06\ttraining's l2: 6.82709e-12\ttraining's mape: 1.86746e-06\n",
      "[126]\ttraining's auc: 1\ttraining's binary_error: 0\ttraining's l1: 1.86746e-06\ttraining's rmse: 2.61287e-06\ttraining's l2: 6.82709e-12\ttraining's mape: 1.86746e-06\n",
      "[127]\ttraining's auc: 1\ttraining's binary_error: 0\ttraining's l1: 1.86746e-06\ttraining's rmse: 2.61287e-06\ttraining's l2: 6.82709e-12\ttraining's mape: 1.86746e-06\n",
      "[128]\ttraining's auc: 1\ttraining's binary_error: 0\ttraining's l1: 1.86746e-06\ttraining's rmse: 2.61287e-06\ttraining's l2: 6.82709e-12\ttraining's mape: 1.86746e-06\n",
      "[129]\ttraining's auc: 1\ttraining's binary_error: 0\ttraining's l1: 1.86746e-06\ttraining's rmse: 2.61287e-06\ttraining's l2: 6.82709e-12\ttraining's mape: 1.86746e-06\n",
      "[130]\ttraining's auc: 1\ttraining's binary_error: 0\ttraining's l1: 1.86746e-06\ttraining's rmse: 2.61287e-06\ttraining's l2: 6.82709e-12\ttraining's mape: 1.86746e-06\n",
      "[131]\ttraining's auc: 1\ttraining's binary_error: 0\ttraining's l1: 1.86746e-06\ttraining's rmse: 2.61287e-06\ttraining's l2: 6.82709e-12\ttraining's mape: 1.86746e-06\n",
      "[132]\ttraining's auc: 1\ttraining's binary_error: 0\ttraining's l1: 1.86746e-06\ttraining's rmse: 2.61287e-06\ttraining's l2: 6.82709e-12\ttraining's mape: 1.86746e-06\n",
      "[133]\ttraining's auc: 1\ttraining's binary_error: 0\ttraining's l1: 1.86746e-06\ttraining's rmse: 2.61287e-06\ttraining's l2: 6.82709e-12\ttraining's mape: 1.86746e-06\n",
      "[134]\ttraining's auc: 1\ttraining's binary_error: 0\ttraining's l1: 1.86746e-06\ttraining's rmse: 2.61287e-06\ttraining's l2: 6.82709e-12\ttraining's mape: 1.86746e-06\n",
      "[135]\ttraining's auc: 1\ttraining's binary_error: 0\ttraining's l1: 1.86746e-06\ttraining's rmse: 2.61287e-06\ttraining's l2: 6.82709e-12\ttraining's mape: 1.86746e-06\n",
      "[136]\ttraining's auc: 1\ttraining's binary_error: 0\ttraining's l1: 1.86746e-06\ttraining's rmse: 2.61287e-06\ttraining's l2: 6.82709e-12\ttraining's mape: 1.86746e-06\n",
      "[137]\ttraining's auc: 1\ttraining's binary_error: 0\ttraining's l1: 1.86746e-06\ttraining's rmse: 2.61287e-06\ttraining's l2: 6.82709e-12\ttraining's mape: 1.86746e-06\n",
      "[138]\ttraining's auc: 1\ttraining's binary_error: 0\ttraining's l1: 1.86746e-06\ttraining's rmse: 2.61287e-06\ttraining's l2: 6.82709e-12\ttraining's mape: 1.86746e-06\n",
      "[139]\ttraining's auc: 1\ttraining's binary_error: 0\ttraining's l1: 1.86746e-06\ttraining's rmse: 2.61287e-06\ttraining's l2: 6.82709e-12\ttraining's mape: 1.86746e-06\n",
      "[140]\ttraining's auc: 1\ttraining's binary_error: 0\ttraining's l1: 1.86746e-06\ttraining's rmse: 2.61287e-06\ttraining's l2: 6.82709e-12\ttraining's mape: 1.86746e-06\n",
      "[141]\ttraining's auc: 1\ttraining's binary_error: 0\ttraining's l1: 1.86746e-06\ttraining's rmse: 2.61287e-06\ttraining's l2: 6.82709e-12\ttraining's mape: 1.86746e-06\n",
      "[142]\ttraining's auc: 1\ttraining's binary_error: 0\ttraining's l1: 1.86746e-06\ttraining's rmse: 2.61287e-06\ttraining's l2: 6.82709e-12\ttraining's mape: 1.86746e-06\n",
      "[143]\ttraining's auc: 1\ttraining's binary_error: 0\ttraining's l1: 1.86746e-06\ttraining's rmse: 2.61287e-06\ttraining's l2: 6.82709e-12\ttraining's mape: 1.86746e-06\n",
      "[144]\ttraining's auc: 1\ttraining's binary_error: 0\ttraining's l1: 1.86746e-06\ttraining's rmse: 2.61287e-06\ttraining's l2: 6.82709e-12\ttraining's mape: 1.86746e-06\n",
      "[145]\ttraining's auc: 1\ttraining's binary_error: 0\ttraining's l1: 1.86746e-06\ttraining's rmse: 2.61287e-06\ttraining's l2: 6.82709e-12\ttraining's mape: 1.86746e-06\n",
      "[146]\ttraining's auc: 1\ttraining's binary_error: 0\ttraining's l1: 1.86746e-06\ttraining's rmse: 2.61287e-06\ttraining's l2: 6.82709e-12\ttraining's mape: 1.86746e-06\n",
      "[147]\ttraining's auc: 1\ttraining's binary_error: 0\ttraining's l1: 1.86746e-06\ttraining's rmse: 2.61287e-06\ttraining's l2: 6.82709e-12\ttraining's mape: 1.86746e-06\n",
      "[148]\ttraining's auc: 1\ttraining's binary_error: 0\ttraining's l1: 1.86746e-06\ttraining's rmse: 2.61287e-06\ttraining's l2: 6.82709e-12\ttraining's mape: 1.86746e-06\n",
      "[149]\ttraining's auc: 1\ttraining's binary_error: 0\ttraining's l1: 1.86746e-06\ttraining's rmse: 2.61287e-06\ttraining's l2: 6.82709e-12\ttraining's mape: 1.86746e-06\n",
      "[150]\ttraining's auc: 1\ttraining's binary_error: 0\ttraining's l1: 1.86746e-06\ttraining's rmse: 2.61287e-06\ttraining's l2: 6.82709e-12\ttraining's mape: 1.86746e-06\n",
      "[151]\ttraining's auc: 1\ttraining's binary_error: 0\ttraining's l1: 1.86746e-06\ttraining's rmse: 2.61287e-06\ttraining's l2: 6.82709e-12\ttraining's mape: 1.86746e-06\n",
      "[152]\ttraining's auc: 1\ttraining's binary_error: 0\ttraining's l1: 1.86746e-06\ttraining's rmse: 2.61287e-06\ttraining's l2: 6.82709e-12\ttraining's mape: 1.86746e-06\n",
      "[153]\ttraining's auc: 1\ttraining's binary_error: 0\ttraining's l1: 1.86746e-06\ttraining's rmse: 2.61287e-06\ttraining's l2: 6.82709e-12\ttraining's mape: 1.86746e-06\n",
      "[154]\ttraining's auc: 1\ttraining's binary_error: 0\ttraining's l1: 1.86746e-06\ttraining's rmse: 2.61287e-06\ttraining's l2: 6.82709e-12\ttraining's mape: 1.86746e-06\n",
      "[155]\ttraining's auc: 1\ttraining's binary_error: 0\ttraining's l1: 1.86746e-06\ttraining's rmse: 2.61287e-06\ttraining's l2: 6.82709e-12\ttraining's mape: 1.86746e-06\n",
      "[156]\ttraining's auc: 1\ttraining's binary_error: 0\ttraining's l1: 1.86746e-06\ttraining's rmse: 2.61287e-06\ttraining's l2: 6.82709e-12\ttraining's mape: 1.86746e-06\n",
      "[157]\ttraining's auc: 1\ttraining's binary_error: 0\ttraining's l1: 1.86746e-06\ttraining's rmse: 2.61287e-06\ttraining's l2: 6.82709e-12\ttraining's mape: 1.86746e-06\n",
      "[158]\ttraining's auc: 1\ttraining's binary_error: 0\ttraining's l1: 1.86746e-06\ttraining's rmse: 2.61287e-06\ttraining's l2: 6.82709e-12\ttraining's mape: 1.86746e-06\n",
      "[159]\ttraining's auc: 1\ttraining's binary_error: 0\ttraining's l1: 1.86746e-06\ttraining's rmse: 2.61287e-06\ttraining's l2: 6.82709e-12\ttraining's mape: 1.86746e-06\n",
      "[160]\ttraining's auc: 1\ttraining's binary_error: 0\ttraining's l1: 1.86746e-06\ttraining's rmse: 2.61287e-06\ttraining's l2: 6.82709e-12\ttraining's mape: 1.86746e-06\n",
      "[161]\ttraining's auc: 1\ttraining's binary_error: 0\ttraining's l1: 1.86746e-06\ttraining's rmse: 2.61287e-06\ttraining's l2: 6.82709e-12\ttraining's mape: 1.86746e-06\n",
      "[162]\ttraining's auc: 1\ttraining's binary_error: 0\ttraining's l1: 1.86746e-06\ttraining's rmse: 2.61287e-06\ttraining's l2: 6.82709e-12\ttraining's mape: 1.86746e-06\n"
     ]
    },
    {
     "name": "stdout",
     "output_type": "stream",
     "text": [
      "[163]\ttraining's auc: 1\ttraining's binary_error: 0\ttraining's l1: 1.86746e-06\ttraining's rmse: 2.61287e-06\ttraining's l2: 6.82709e-12\ttraining's mape: 1.86746e-06\n",
      "[164]\ttraining's auc: 1\ttraining's binary_error: 0\ttraining's l1: 1.86746e-06\ttraining's rmse: 2.61287e-06\ttraining's l2: 6.82709e-12\ttraining's mape: 1.86746e-06\n",
      "[165]\ttraining's auc: 1\ttraining's binary_error: 0\ttraining's l1: 1.86746e-06\ttraining's rmse: 2.61287e-06\ttraining's l2: 6.82709e-12\ttraining's mape: 1.86746e-06\n",
      "[166]\ttraining's auc: 1\ttraining's binary_error: 0\ttraining's l1: 1.86746e-06\ttraining's rmse: 2.61287e-06\ttraining's l2: 6.82709e-12\ttraining's mape: 1.86746e-06\n",
      "[167]\ttraining's auc: 1\ttraining's binary_error: 0\ttraining's l1: 1.86746e-06\ttraining's rmse: 2.61287e-06\ttraining's l2: 6.82709e-12\ttraining's mape: 1.86746e-06\n",
      "[168]\ttraining's auc: 1\ttraining's binary_error: 0\ttraining's l1: 1.86746e-06\ttraining's rmse: 2.61287e-06\ttraining's l2: 6.82709e-12\ttraining's mape: 1.86746e-06\n",
      "[169]\ttraining's auc: 1\ttraining's binary_error: 0\ttraining's l1: 1.86746e-06\ttraining's rmse: 2.61287e-06\ttraining's l2: 6.82709e-12\ttraining's mape: 1.86746e-06\n",
      "[170]\ttraining's auc: 1\ttraining's binary_error: 0\ttraining's l1: 1.86746e-06\ttraining's rmse: 2.61287e-06\ttraining's l2: 6.82709e-12\ttraining's mape: 1.86746e-06\n",
      "[171]\ttraining's auc: 1\ttraining's binary_error: 0\ttraining's l1: 1.86746e-06\ttraining's rmse: 2.61287e-06\ttraining's l2: 6.82709e-12\ttraining's mape: 1.86746e-06\n",
      "[172]\ttraining's auc: 1\ttraining's binary_error: 0\ttraining's l1: 1.86746e-06\ttraining's rmse: 2.61287e-06\ttraining's l2: 6.82709e-12\ttraining's mape: 1.86746e-06\n",
      "[173]\ttraining's auc: 1\ttraining's binary_error: 0\ttraining's l1: 1.86746e-06\ttraining's rmse: 2.61287e-06\ttraining's l2: 6.82709e-12\ttraining's mape: 1.86746e-06\n",
      "[174]\ttraining's auc: 1\ttraining's binary_error: 0\ttraining's l1: 1.86746e-06\ttraining's rmse: 2.61287e-06\ttraining's l2: 6.82709e-12\ttraining's mape: 1.86746e-06\n",
      "[175]\ttraining's auc: 1\ttraining's binary_error: 0\ttraining's l1: 1.86746e-06\ttraining's rmse: 2.61287e-06\ttraining's l2: 6.82709e-12\ttraining's mape: 1.86746e-06\n",
      "[176]\ttraining's auc: 1\ttraining's binary_error: 0\ttraining's l1: 1.86746e-06\ttraining's rmse: 2.61287e-06\ttraining's l2: 6.82709e-12\ttraining's mape: 1.86746e-06\n",
      "[177]\ttraining's auc: 1\ttraining's binary_error: 0\ttraining's l1: 1.86746e-06\ttraining's rmse: 2.61287e-06\ttraining's l2: 6.82709e-12\ttraining's mape: 1.86746e-06\n",
      "[178]\ttraining's auc: 1\ttraining's binary_error: 0\ttraining's l1: 1.86746e-06\ttraining's rmse: 2.61287e-06\ttraining's l2: 6.82709e-12\ttraining's mape: 1.86746e-06\n",
      "[179]\ttraining's auc: 1\ttraining's binary_error: 0\ttraining's l1: 1.86746e-06\ttraining's rmse: 2.61287e-06\ttraining's l2: 6.82709e-12\ttraining's mape: 1.86746e-06\n",
      "[180]\ttraining's auc: 1\ttraining's binary_error: 0\ttraining's l1: 1.86746e-06\ttraining's rmse: 2.61287e-06\ttraining's l2: 6.82709e-12\ttraining's mape: 1.86746e-06\n",
      "[181]\ttraining's auc: 1\ttraining's binary_error: 0\ttraining's l1: 1.86746e-06\ttraining's rmse: 2.61287e-06\ttraining's l2: 6.82709e-12\ttraining's mape: 1.86746e-06\n",
      "[182]\ttraining's auc: 1\ttraining's binary_error: 0\ttraining's l1: 1.86746e-06\ttraining's rmse: 2.61287e-06\ttraining's l2: 6.82709e-12\ttraining's mape: 1.86746e-06\n",
      "[183]\ttraining's auc: 1\ttraining's binary_error: 0\ttraining's l1: 1.86746e-06\ttraining's rmse: 2.61287e-06\ttraining's l2: 6.82709e-12\ttraining's mape: 1.86746e-06\n",
      "[184]\ttraining's auc: 1\ttraining's binary_error: 0\ttraining's l1: 1.86746e-06\ttraining's rmse: 2.61287e-06\ttraining's l2: 6.82709e-12\ttraining's mape: 1.86746e-06\n",
      "[185]\ttraining's auc: 1\ttraining's binary_error: 0\ttraining's l1: 1.86746e-06\ttraining's rmse: 2.61287e-06\ttraining's l2: 6.82709e-12\ttraining's mape: 1.86746e-06\n",
      "[186]\ttraining's auc: 1\ttraining's binary_error: 0\ttraining's l1: 1.86746e-06\ttraining's rmse: 2.61287e-06\ttraining's l2: 6.82709e-12\ttraining's mape: 1.86746e-06\n",
      "[187]\ttraining's auc: 1\ttraining's binary_error: 0\ttraining's l1: 1.86746e-06\ttraining's rmse: 2.61287e-06\ttraining's l2: 6.82709e-12\ttraining's mape: 1.86746e-06\n",
      "[188]\ttraining's auc: 1\ttraining's binary_error: 0\ttraining's l1: 1.86746e-06\ttraining's rmse: 2.61287e-06\ttraining's l2: 6.82709e-12\ttraining's mape: 1.86746e-06\n",
      "[189]\ttraining's auc: 1\ttraining's binary_error: 0\ttraining's l1: 1.86746e-06\ttraining's rmse: 2.61287e-06\ttraining's l2: 6.82709e-12\ttraining's mape: 1.86746e-06\n",
      "[190]\ttraining's auc: 1\ttraining's binary_error: 0\ttraining's l1: 1.86746e-06\ttraining's rmse: 2.61287e-06\ttraining's l2: 6.82709e-12\ttraining's mape: 1.86746e-06\n",
      "[191]\ttraining's auc: 1\ttraining's binary_error: 0\ttraining's l1: 1.86746e-06\ttraining's rmse: 2.61287e-06\ttraining's l2: 6.82709e-12\ttraining's mape: 1.86746e-06\n",
      "[192]\ttraining's auc: 1\ttraining's binary_error: 0\ttraining's l1: 1.86746e-06\ttraining's rmse: 2.61287e-06\ttraining's l2: 6.82709e-12\ttraining's mape: 1.86746e-06\n",
      "[193]\ttraining's auc: 1\ttraining's binary_error: 0\ttraining's l1: 1.86746e-06\ttraining's rmse: 2.61287e-06\ttraining's l2: 6.82709e-12\ttraining's mape: 1.86746e-06\n",
      "[194]\ttraining's auc: 1\ttraining's binary_error: 0\ttraining's l1: 1.86746e-06\ttraining's rmse: 2.61287e-06\ttraining's l2: 6.82709e-12\ttraining's mape: 1.86746e-06\n",
      "[195]\ttraining's auc: 1\ttraining's binary_error: 0\ttraining's l1: 1.86746e-06\ttraining's rmse: 2.61287e-06\ttraining's l2: 6.82709e-12\ttraining's mape: 1.86746e-06\n",
      "[196]\ttraining's auc: 1\ttraining's binary_error: 0\ttraining's l1: 1.86746e-06\ttraining's rmse: 2.61287e-06\ttraining's l2: 6.82709e-12\ttraining's mape: 1.86746e-06\n",
      "[197]\ttraining's auc: 1\ttraining's binary_error: 0\ttraining's l1: 1.86746e-06\ttraining's rmse: 2.61287e-06\ttraining's l2: 6.82709e-12\ttraining's mape: 1.86746e-06\n",
      "[198]\ttraining's auc: 1\ttraining's binary_error: 0\ttraining's l1: 1.86746e-06\ttraining's rmse: 2.61287e-06\ttraining's l2: 6.82709e-12\ttraining's mape: 1.86746e-06\n",
      "[199]\ttraining's auc: 1\ttraining's binary_error: 0\ttraining's l1: 1.86746e-06\ttraining's rmse: 2.61287e-06\ttraining's l2: 6.82709e-12\ttraining's mape: 1.86746e-06\n",
      "[200]\ttraining's auc: 1\ttraining's binary_error: 0\ttraining's l1: 1.86746e-06\ttraining's rmse: 2.61287e-06\ttraining's l2: 6.82709e-12\ttraining's mape: 1.86746e-06\n",
      "Did not meet early stopping. Best iteration is:\n",
      "[4]\ttraining's auc: 1\ttraining's binary_error: 0\ttraining's l1: 0.136328\ttraining's rmse: 0.150894\ttraining's l2: 0.0227689\ttraining's mape: 0.136328\n"
     ]
    }
   ],
   "source": [
    "import lightgbm as lgb\n",
    "lgb_params = {\n",
    "    'task': 'train',\n",
    "    'boosting_type': 'gbdt',\n",
    "    'objective': 'binary',\n",
    "    'metric':'binary_logloss',\n",
    "    'metric': {'l2', 'auc','l1','binary_error','rmse','mape'},\n",
    "    'num_leaves': 256,\n",
    "    'learning_rate': 0.3,\n",
    "    'feature_fraction': 0.8,\n",
    "    'bagging_fraction': 0.8,\n",
    "    'verbose': None,\n",
    "    'max_bin':255,\n",
    "    'num_threads':7,\n",
    "    'num_iterations':200,\n",
    "    'max_depth':8,\n",
    "    'min_data_in_leaf':10,\n",
    "    'gpu_use_dp':'True',\n",
    "    'alpha':0.5}\n",
    "lgb_train = lgb.Dataset(x1, y1)\n",
    "lgb_eval = lgb.Dataset(x, y)\n",
    "model = lgb.train(lgb_params,lgb_train,num_boost_round=200,valid_sets=lgb_train,early_stopping_rounds=150)"
   ]
  },
  {
   "cell_type": "code",
   "execution_count": 116,
   "metadata": {},
   "outputs": [
    {
     "data": {
      "text/plain": [
       "array([0.88186515, 0.86182038, 0.91091645, 0.86643334, 0.27819942,\n",
       "       0.91091645, 0.31636858, 0.89633361, 0.7796802 , 0.91241244,\n",
       "       0.9109266 , 0.83560586, 0.91147961, 0.81039647, 0.81039647,\n",
       "       0.85747089, 0.89747311, 0.2262183 , 0.20547956, 0.2376016 ,\n",
       "       0.15162629, 0.17394548, 0.85035297, 0.19729016, 0.85916066,\n",
       "       0.33996346, 0.17512758, 0.17809196, 0.18107613, 0.89390632,\n",
       "       0.17230849, 0.91189587, 0.88043451, 0.9109266 , 0.9109266 ,\n",
       "       0.16970291, 0.84077894, 0.91147961, 0.9109266 , 0.84914647,\n",
       "       0.91388696, 0.22953383, 0.24379023, 0.65777142, 0.90324592,\n",
       "       0.9114146 , 0.72094998, 0.92457803, 0.15485584, 0.91467223,\n",
       "       0.25592943, 0.9109266 , 0.16970291, 0.9133517 , 0.9109266 ,\n",
       "       0.91464388, 0.91148362, 0.91148362, 0.38322603, 0.85916066,\n",
       "       0.91189587, 0.87321647, 0.17230849, 0.82931666, 0.91110835,\n",
       "       0.26166713, 0.31636858, 0.83748319, 0.84594953, 0.25327538,\n",
       "       0.87043768, 0.14840188, 0.88226579, 0.89837437, 0.8764103 ,\n",
       "       0.91287848, 0.30785419, 0.9109266 , 0.76461187, 0.16133588,\n",
       "       0.87932631, 0.37726314, 0.9109266 , 0.74935793, 0.16133588,\n",
       "       0.30213493, 0.9109266 , 0.16970291, 0.71021238, 0.91148362,\n",
       "       0.69546735, 0.75569155, 0.8737165 , 0.91137668, 0.86602169,\n",
       "       0.87678255, 0.84944189, 0.91340138, 0.46932909, 0.3202096 ,\n",
       "       0.31828473, 0.27819942, 0.23035625, 0.90999492, 0.89155275,\n",
       "       0.17394548, 0.91430623, 0.90336845, 0.90506963, 0.28827248,\n",
       "       0.9109266 , 0.83109698, 0.28137971, 0.85235638, 0.91110835,\n",
       "       0.9114146 , 0.90324592, 0.9171339 , 0.91148362, 0.9114146 ,\n",
       "       0.91148362, 0.9109266 , 0.17428804, 0.91404071, 0.9109266 ,\n",
       "       0.91272609, 0.17232239, 0.90665519, 0.87932631, 0.77520653,\n",
       "       0.46932909, 0.30213493, 0.46932909, 0.82469682, 0.90398607,\n",
       "       0.78959792, 0.91018952, 0.23726569, 0.38534243, 0.19722123,\n",
       "       0.76246418, 0.27819942, 0.26166713, 0.86267863, 0.17635056,\n",
       "       0.9109266 , 0.9109266 , 0.9109266 , 0.9116272 , 0.90038593,\n",
       "       0.24535325, 0.91388696, 0.73646943, 0.91809155, 0.84594953,\n",
       "       0.27057841, 0.87321193, 0.7656177 , 0.7169023 , 0.30785419,\n",
       "       0.17394548, 0.31636858, 0.17635056, 0.45649398, 0.85593837,\n",
       "       0.842451  , 0.78151055, 0.84944189, 0.87879023, 0.86506731,\n",
       "       0.88226579, 0.88043451, 0.74492915, 0.27819942, 0.23277279,\n",
       "       0.8854122 , 0.91148362, 0.87879023, 0.81418751, 0.86337478,\n",
       "       0.84594953, 0.73661925, 0.87263539, 0.74492915, 0.91825429,\n",
       "       0.91133237, 0.81131176, 0.81039647, 0.91148362, 0.91706664,\n",
       "       0.91148362, 0.86182038, 0.30213493, 0.27819942, 0.26479316,\n",
       "       0.9109266 , 0.9109266 , 0.9109266 , 0.89323529, 0.60080247,\n",
       "       0.90038593, 0.82931666, 0.81580146, 0.9109266 , 0.13567282,\n",
       "       0.9109266 , 0.9109266 , 0.82480447, 0.88312914, 0.9109266 ,\n",
       "       0.9109266 , 0.83109698, 0.91467223, 0.69546735, 0.62231981,\n",
       "       0.90357663, 0.73070534, 0.87678255, 0.90336845, 0.17594323,\n",
       "       0.46932909, 0.16970291, 0.85474156, 0.84914647, 0.9109266 ,\n",
       "       0.82299457, 0.91404071, 0.17538907, 0.85869997, 0.91404071,\n",
       "       0.31896269, 0.18700684, 0.20269904, 0.85235638, 0.16996503,\n",
       "       0.27819942, 0.91518529, 0.22025889, 0.40104866, 0.27819942,\n",
       "       0.91127404, 0.91809155, 0.82064595, 0.90331171, 0.85682792,\n",
       "       0.81131176, 0.90946622, 0.83109698, 0.22726463, 0.9109266 ,\n",
       "       0.30785419, 0.78831699, 0.1560599 , 0.27123252, 0.37492878,\n",
       "       0.83330981, 0.81754511, 0.70338204, 0.9076048 , 0.89747311,\n",
       "       0.27057841, 0.8108122 , 0.30785419, 0.17394548, 0.77520653,\n",
       "       0.9126419 , 0.22850776, 0.3052134 , 0.85474156, 0.90839899,\n",
       "       0.91148362, 0.88658254, 0.9109266 , 0.16982913, 0.87678255,\n",
       "       0.89697074, 0.28570148, 0.16133588, 0.9109266 , 0.20500842,\n",
       "       0.17428804, 0.86602169, 0.90351827, 0.9109266 , 0.23087334,\n",
       "       0.91242393, 0.17230849, 0.85474156, 0.17232239, 0.89354509,\n",
       "       0.89354509, 0.81456595, 0.79943982, 0.84594953, 0.17394548,\n",
       "       0.91148362, 0.91148362, 0.91532588, 0.8311057 , 0.9109266 ,\n",
       "       0.23277279, 0.9109266 , 0.90385014, 0.286844  , 0.87879023,\n",
       "       0.68130237, 0.90096112, 0.9109266 , 0.91148362, 0.9046515 ,\n",
       "       0.15601913, 0.74874026, 0.90358209, 0.9114146 , 0.85474156,\n",
       "       0.46932909, 0.8174022 , 0.83028768, 0.81418751, 0.17394548,\n",
       "       0.16133588, 0.82299457, 0.9116272 , 0.78017238, 0.20944328,\n",
       "       0.81418751, 0.81418751, 0.24535325, 0.87678255, 0.35881702,\n",
       "       0.87678255, 0.9109266 , 0.9109266 , 0.90325974, 0.83534306,\n",
       "       0.88312914, 0.86965822, 0.22857466, 0.79683752, 0.35368811,\n",
       "       0.83960866, 0.85474156, 0.13567282, 0.18700684, 0.86607707,\n",
       "       0.16970291, 0.90624169, 0.17635056, 0.84914647, 0.85916066,\n",
       "       0.90198763, 0.88325299, 0.31636858, 0.37492878, 0.1560599 ,\n",
       "       0.24535325, 0.83086586, 0.27819942, 0.87248333, 0.16962685,\n",
       "       0.82064595, 0.29649441, 0.31397578, 0.20557159, 0.82299457,\n",
       "       0.8257835 , 0.81418751, 0.88829514, 0.81418751, 0.286844  ,\n",
       "       0.20149525, 0.85747089, 0.20446594, 0.30213493, 0.91127404,\n",
       "       0.37411187, 0.27819942, 0.87179096, 0.27819942, 0.29341259,\n",
       "       0.25426658, 0.27819942, 0.90038593, 0.81039647, 0.46932909,\n",
       "       0.20149525, 0.17594323, 0.91777652, 0.83330981, 0.31636858,\n",
       "       0.38322603, 0.87879023, 0.88611641, 0.46932909, 0.90509854,\n",
       "       0.86607707, 0.67164538, 0.38010409, 0.2985061 , 0.16970291,\n",
       "       0.86695963, 0.29496303, 0.87248333, 0.87248333, 0.30036915,\n",
       "       0.30785419, 0.85678204, 0.91115378, 0.85474156, 0.16133588,\n",
       "       0.68130237, 0.28993148, 0.74874026, 0.74492915, 0.91388696,\n",
       "       0.15601913, 0.64954564, 0.87291594, 0.89530699, 0.84594953,\n",
       "       0.85593837, 0.15006345, 0.79501073, 0.1955606 , 0.88480253,\n",
       "       0.81039647, 0.91464388, 0.78831699, 0.2038011 , 0.90624169,\n",
       "       0.9109266 , 0.9109266 , 0.27467592, 0.9114146 , 0.19757898,\n",
       "       0.16104641, 0.62231981, 0.90472907, 0.87678255, 0.31636858,\n",
       "       0.92033143, 0.16608238, 0.9186917 , 0.84176888, 0.87133835,\n",
       "       0.29496303, 0.90096112, 0.27819942, 0.9109266 , 0.85916066,\n",
       "       0.45649398, 0.14840188, 0.86533956, 0.74492915, 0.48606728,\n",
       "       0.26671847, 0.78017238, 0.15006345, 0.91148362, 0.85747089,\n",
       "       0.19097906, 0.18107613, 0.91147961, 0.32785882, 0.91110835,\n",
       "       0.19757898, 0.84917728, 0.81072274, 0.91404071, 0.18195896,\n",
       "       0.35246183, 0.91388696, 0.74492915, 0.30213493, 0.91340138,\n",
       "       0.33340225, 0.17228086, 0.27819942, 0.82064595, 0.17635056,\n",
       "       0.84944189, 0.2262183 , 0.16241792, 0.88312914, 0.79784589,\n",
       "       0.40104866, 0.9109266 , 0.91148362, 0.89537861, 0.85916066,\n",
       "       0.8765054 , 0.17232239, 0.842451  , 0.9109266 , 0.88312914,\n",
       "       0.13567282, 0.30006666, 0.91404071, 0.91388696, 0.45649398,\n",
       "       0.87879023, 0.91148362, 0.86823333, 0.85474156, 0.90096112,\n",
       "       0.85408837, 0.82805902, 0.70338204, 0.9109266 , 0.19722123,\n",
       "       0.91112783, 0.9109266 , 0.69799723, 0.13567282, 0.90038593,\n",
       "       0.91148362, 0.88043451, 0.91091645, 0.4085151 , 0.24379023,\n",
       "       0.86602169, 0.84285811, 0.90038593, 0.86188053, 0.91532588,\n",
       "       0.81131176, 0.80618209, 0.31232259, 0.9109266 , 0.31636858,\n",
       "       0.22902343, 0.88325299, 0.65777142, 0.91094611, 0.85864719,\n",
       "       0.22142587, 0.22902343, 0.89228538, 0.79501073, 0.86188053,\n",
       "       0.91148362, 0.18097361, 0.91404071, 0.91404071, 0.9109266 ,\n",
       "       0.91189587, 0.69546735, 0.79943982, 0.88312914, 0.9109266 ,\n",
       "       0.16133588, 0.27982814, 0.17428804, 0.9126419 , 0.91148362,\n",
       "       0.86267863, 0.46932909, 0.78017238, 0.91110835, 0.86188053,\n",
       "       0.9109266 , 0.9109266 , 0.9110648 , 0.84410076, 0.89716651,\n",
       "       0.31636858, 0.80523636, 0.88325299, 0.91148362, 0.13567282,\n",
       "       0.68130237, 0.29496303, 0.23277279, 0.9109266 , 0.84944189,\n",
       "       0.84944189, 0.89368104, 0.90038593, 0.86602169, 0.45649398,\n",
       "       0.16966321, 0.73646943, 0.90398607, 0.91100917, 0.84176888,\n",
       "       0.87932631, 0.9109266 , 0.91148362, 0.9109266 , 0.14310108,\n",
       "       0.89837437, 0.91686601, 0.9109266 , 0.16970291, 0.77520653,\n",
       "       0.45649398, 0.87678255, 0.842451  , 0.3052134 , 0.78959792,\n",
       "       0.22850776, 0.26166713, 0.15601913, 0.27819942, 0.38534243,\n",
       "       0.87368705, 0.30785419, 0.18195896, 0.16970291, 0.78831699,\n",
       "       0.87693885, 0.84944189, 0.62231981, 0.16970291, 0.85916066,\n",
       "       0.87053462, 0.43670898, 0.80410942, 0.19722123, 0.83086586,\n",
       "       0.86823333, 0.91231997, 0.84944189, 0.91091645, 0.3052134 ,\n",
       "       0.85593837, 0.26166713, 0.30785419, 0.842451  , 0.91809155,\n",
       "       0.90940824, 0.16962685, 0.15456663, 0.78346259, 0.9122213 ,\n",
       "       0.89537861, 0.17232239, 0.9109266 , 0.85747089, 0.9032643 ,\n",
       "       0.87678255, 0.91091645, 0.24535325, 0.17428804, 0.85747089,\n",
       "       0.83215482, 0.60080247, 0.81147307, 0.74492915, 0.16279938,\n",
       "       0.16133588, 0.30562331, 0.17938256, 0.9109266 , 0.91091645,\n",
       "       0.90946622, 0.91809155, 0.90668801, 0.36006373, 0.91148362,\n",
       "       0.89378751, 0.91148362, 0.91147961, 0.81039647, 0.26387234,\n",
       "       0.9109266 , 0.17635056, 0.35345523, 0.81039647, 0.9109266 ,\n",
       "       0.91091645, 0.84176888, 0.9149518 , 0.9126419 , 0.90472907,\n",
       "       0.89633361, 0.84757355, 0.38534243, 0.86506731, 0.9109266 ,\n",
       "       0.9109266 , 0.9109266 , 0.45649398, 0.85235638, 0.75029476,\n",
       "       0.86602169, 0.83948789, 0.89368104, 0.9109266 , 0.89334044,\n",
       "       0.25440086, 0.78831699, 0.91272609, 0.83086586, 0.84285811,\n",
       "       0.79784589, 0.91148362, 0.73661925, 0.9109266 , 0.87100365,\n",
       "       0.30213493, 0.9149518 , 0.9170345 , 0.90096112])"
      ]
     },
     "execution_count": 116,
     "metadata": {},
     "output_type": "execute_result"
    }
   ],
   "source": [
    "y_pred_lgb=model.predict(x)\n",
    "y_pred_lgb"
   ]
  },
  {
   "cell_type": "code",
   "execution_count": 117,
   "metadata": {},
   "outputs": [
    {
     "data": {
      "text/plain": [
       "array([1., 1., 1., 1., 0., 1., 0., 1., 1., 1., 1., 1., 1., 1., 1., 1., 1.,\n",
       "       0., 0., 0., 0., 0., 1., 0., 1., 0., 0., 0., 0., 1., 0., 1., 1., 1.,\n",
       "       1., 0., 1., 1., 1., 1., 1., 0., 0., 1., 1., 1., 1., 1., 0., 1., 0.,\n",
       "       1., 0., 1., 1., 1., 1., 1., 0., 1., 1., 1., 0., 1., 1., 0., 0., 1.,\n",
       "       1., 0., 1., 0., 1., 1., 1., 1., 0., 1., 1., 0., 1., 0., 1., 1., 0.,\n",
       "       0., 1., 0., 1., 1., 1., 1., 1., 1., 1., 1., 1., 1., 0., 0., 0., 0.,\n",
       "       0., 1., 1., 0., 1., 1., 1., 0., 1., 1., 0., 1., 1., 1., 1., 1., 1.,\n",
       "       1., 1., 1., 0., 1., 1., 1., 0., 1., 1., 1., 0., 0., 0., 1., 1., 1.,\n",
       "       1., 0., 0., 0., 1., 0., 0., 1., 0., 1., 1., 1., 1., 1., 0., 1., 1.,\n",
       "       1., 1., 0., 1., 1., 1., 0., 0., 0., 0., 0., 1., 1., 1., 1., 1., 1.,\n",
       "       1., 1., 1., 0., 0., 1., 1., 1., 1., 1., 1., 1., 1., 1., 1., 1., 1.,\n",
       "       1., 1., 1., 1., 1., 0., 0., 0., 1., 1., 1., 1., 1., 1., 1., 1., 1.,\n",
       "       0., 1., 1., 1., 1., 1., 1., 1., 1., 1., 1., 1., 1., 1., 1., 0., 0.,\n",
       "       0., 1., 1., 1., 1., 1., 0., 1., 1., 0., 0., 0., 1., 0., 0., 1., 0.,\n",
       "       0., 0., 1., 1., 1., 1., 1., 1., 1., 1., 0., 1., 0., 1., 0., 0., 0.,\n",
       "       1., 1., 1., 1., 1., 0., 1., 0., 0., 1., 1., 0., 0., 1., 1., 1., 1.,\n",
       "       1., 0., 1., 1., 0., 0., 1., 0., 0., 1., 1., 1., 0., 1., 0., 1., 0.,\n",
       "       1., 1., 1., 1., 1., 0., 1., 1., 1., 1., 1., 0., 1., 1., 0., 1., 1.,\n",
       "       1., 1., 1., 1., 0., 1., 1., 1., 1., 0., 1., 1., 1., 0., 0., 1., 1.,\n",
       "       1., 0., 1., 1., 0., 1., 0., 1., 1., 1., 1., 1., 1., 1., 0., 1., 0.,\n",
       "       1., 1., 0., 0., 1., 0., 1., 0., 1., 1., 1., 1., 0., 0., 0., 0., 1.,\n",
       "       0., 1., 0., 1., 0., 0., 0., 1., 1., 1., 1., 1., 0., 0., 1., 0., 0.,\n",
       "       1., 0., 0., 1., 0., 0., 0., 0., 1., 1., 0., 0., 0., 1., 1., 0., 0.,\n",
       "       1., 1., 0., 1., 1., 1., 0., 0., 0., 1., 0., 1., 1., 0., 0., 1., 1.,\n",
       "       1., 0., 1., 0., 1., 1., 1., 0., 1., 1., 1., 1., 1., 0., 1., 0., 1.,\n",
       "       1., 1., 1., 0., 1., 1., 1., 0., 1., 0., 0., 1., 1., 1., 0., 1., 0.,\n",
       "       1., 1., 1., 0., 1., 0., 1., 1., 0., 0., 1., 1., 0., 0., 1., 0., 1.,\n",
       "       1., 0., 0., 1., 0., 1., 0., 1., 1., 1., 0., 0., 1., 1., 0., 1., 0.,\n",
       "       0., 0., 1., 0., 1., 0., 0., 1., 1., 0., 1., 1., 1., 1., 1., 0., 1.,\n",
       "       1., 1., 0., 0., 1., 1., 0., 1., 1., 1., 1., 1., 1., 1., 1., 1., 0.,\n",
       "       1., 1., 1., 0., 1., 1., 1., 1., 0., 0., 1., 1., 1., 1., 1., 1., 1.,\n",
       "       0., 1., 0., 0., 1., 1., 1., 1., 0., 0., 1., 1., 1., 1., 0., 1., 1.,\n",
       "       1., 1., 1., 1., 1., 1., 0., 0., 0., 1., 1., 1., 0., 1., 1., 1., 1.,\n",
       "       1., 1., 1., 1., 0., 1., 1., 1., 0., 1., 0., 0., 1., 1., 1., 1., 1.,\n",
       "       1., 0., 0., 1., 1., 1., 1., 1., 1., 1., 1., 0., 1., 1., 1., 0., 1.,\n",
       "       0., 1., 1., 0., 1., 0., 0., 0., 0., 0., 1., 0., 0., 0., 1., 1., 1.,\n",
       "       1., 0., 1., 1., 0., 1., 0., 1., 1., 1., 1., 1., 0., 1., 0., 0., 1.,\n",
       "       1., 1., 0., 0., 1., 1., 1., 0., 1., 1., 1., 1., 1., 0., 0., 1., 1.,\n",
       "       1., 1., 1., 0., 0., 0., 0., 1., 1., 1., 1., 1., 0., 1., 1., 1., 1.,\n",
       "       1., 0., 1., 0., 0., 1., 1., 1., 1., 1., 1., 1., 1., 1., 0., 1., 1.,\n",
       "       1., 1., 0., 1., 1., 1., 1., 1., 1., 1., 0., 1., 1., 1., 1., 1., 1.,\n",
       "       1., 1., 1., 0., 1., 1., 1.])"
      ]
     },
     "execution_count": 117,
     "metadata": {},
     "output_type": "execute_result"
    }
   ],
   "source": [
    "for i in range(0,len(y_pred_lgb)):\n",
    "    if y_pred_lgb[i]>=.5:\n",
    "        y_pred_lgb[i]=1\n",
    "    else:  \n",
    "        y_pred_lgb[i]=0\n",
    "y_pred_lgb"
   ]
  },
  {
   "cell_type": "code",
   "execution_count": 118,
   "metadata": {},
   "outputs": [
    {
     "name": "stdout",
     "output_type": "stream",
     "text": [
      "[[231 284]\n",
      " [  0 189]] 0.5965909090909091\n"
     ]
    }
   ],
   "source": [
    "cm = confusion_matrix(y, y_pred_lgb)\n",
    "accuracy=accuracy_score(y,y_pred_lgb)\n",
    "print(cm,accuracy)"
   ]
  },
  {
   "cell_type": "code",
   "execution_count": 119,
   "metadata": {},
   "outputs": [
    {
     "name": "stderr",
     "output_type": "stream",
     "text": [
      "C:\\Users\\Personal\\Anaconda3\\lib\\site-packages\\tensorboard\\compat\\tensorflow_stub\\dtypes.py:541: FutureWarning: Passing (type, 1) or '1type' as a synonym of type is deprecated; in a future version of numpy, it will be understood as (type, (1,)) / '(1,)type'.\n",
      "  _np_qint8 = np.dtype([(\"qint8\", np.int8, 1)])\n",
      "C:\\Users\\Personal\\Anaconda3\\lib\\site-packages\\tensorboard\\compat\\tensorflow_stub\\dtypes.py:542: FutureWarning: Passing (type, 1) or '1type' as a synonym of type is deprecated; in a future version of numpy, it will be understood as (type, (1,)) / '(1,)type'.\n",
      "  _np_quint8 = np.dtype([(\"quint8\", np.uint8, 1)])\n",
      "C:\\Users\\Personal\\Anaconda3\\lib\\site-packages\\tensorboard\\compat\\tensorflow_stub\\dtypes.py:543: FutureWarning: Passing (type, 1) or '1type' as a synonym of type is deprecated; in a future version of numpy, it will be understood as (type, (1,)) / '(1,)type'.\n",
      "  _np_qint16 = np.dtype([(\"qint16\", np.int16, 1)])\n",
      "C:\\Users\\Personal\\Anaconda3\\lib\\site-packages\\tensorboard\\compat\\tensorflow_stub\\dtypes.py:544: FutureWarning: Passing (type, 1) or '1type' as a synonym of type is deprecated; in a future version of numpy, it will be understood as (type, (1,)) / '(1,)type'.\n",
      "  _np_quint16 = np.dtype([(\"quint16\", np.uint16, 1)])\n",
      "C:\\Users\\Personal\\Anaconda3\\lib\\site-packages\\tensorboard\\compat\\tensorflow_stub\\dtypes.py:545: FutureWarning: Passing (type, 1) or '1type' as a synonym of type is deprecated; in a future version of numpy, it will be understood as (type, (1,)) / '(1,)type'.\n",
      "  _np_qint32 = np.dtype([(\"qint32\", np.int32, 1)])\n",
      "C:\\Users\\Personal\\Anaconda3\\lib\\site-packages\\tensorboard\\compat\\tensorflow_stub\\dtypes.py:550: FutureWarning: Passing (type, 1) or '1type' as a synonym of type is deprecated; in a future version of numpy, it will be understood as (type, (1,)) / '(1,)type'.\n",
      "  np_resource = np.dtype([(\"resource\", np.ubyte, 1)])\n"
     ]
    },
    {
     "name": "stdout",
     "output_type": "stream",
     "text": [
      "WARNING:tensorflow:From C:\\Users\\Personal\\AppData\\Roaming\\Python\\Python37\\site-packages\\tensorflow_core\\python\\compat\\v2_compat.py:65: disable_resource_variables (from tensorflow.python.ops.variable_scope) is deprecated and will be removed in a future version.\n",
      "Instructions for updating:\n",
      "non-resource variables are not supported in the long term\n"
     ]
    }
   ],
   "source": [
    "import tensorflow as tf\n",
    "import tensorflow.compat.v1 as tf\n",
    "tf.disable_v2_behavior()\n",
    "from tensorflow import keras\n",
    "from sklearn.metrics import make_scorer\n",
    "from sklearn.metrics import accuracy_score, precision_score, recall_score"
   ]
  },
  {
   "cell_type": "code",
   "execution_count": 120,
   "metadata": {},
   "outputs": [],
   "source": [
    "def create_model(optimizer = 'adam'):\n",
    "    model = keras.Sequential()\n",
    "    model.add(keras.layers.Dense(1054,activation='relu',input_dim = 17))\n",
    "    model.add(keras.layers.Dense(50,activation = 'sigmoid'))\n",
    "    model.add(keras.layers.Dense(1,activation = 'relu'))\n",
    "    model.compile(loss='binary_crossentropy', optimizer=optimizer, metrics=['accuracy'])\n",
    "    return model"
   ]
  },
  {
   "cell_type": "code",
   "execution_count": 129,
   "metadata": {},
   "outputs": [
    {
     "ename": "PicklingError",
     "evalue": "Could not pickle the task to send it to the workers.",
     "output_type": "error",
     "traceback": [
      "\u001b[1;31m---------------------------------------------------------------------------\u001b[0m",
      "\u001b[1;31m_RemoteTraceback\u001b[0m                          Traceback (most recent call last)",
      "\u001b[1;31m_RemoteTraceback\u001b[0m: \n\"\"\"\nTraceback (most recent call last):\n  File \"C:\\Users\\Personal\\Anaconda3\\lib\\site-packages\\joblib\\externals\\loky\\backend\\queues.py\", line 150, in _feed\n    obj_ = dumps(obj, reducers=reducers)\n  File \"C:\\Users\\Personal\\Anaconda3\\lib\\site-packages\\joblib\\externals\\loky\\backend\\reduction.py\", line 247, in dumps\n    dump(obj, buf, reducers=reducers, protocol=protocol)\n  File \"C:\\Users\\Personal\\Anaconda3\\lib\\site-packages\\joblib\\externals\\loky\\backend\\reduction.py\", line 240, in dump\n    _LokyPickler(file, reducers=reducers, protocol=protocol).dump(obj)\n  File \"C:\\Users\\Personal\\Anaconda3\\lib\\site-packages\\joblib\\externals\\cloudpickle\\cloudpickle.py\", line 482, in dump\n    return Pickler.dump(self, obj)\n  File \"C:\\Users\\Personal\\Anaconda3\\lib\\pickle.py\", line 437, in dump\n    self.save(obj)\n  File \"C:\\Users\\Personal\\Anaconda3\\lib\\pickle.py\", line 549, in save\n    self.save_reduce(obj=obj, *rv)\n  File \"C:\\Users\\Personal\\Anaconda3\\lib\\pickle.py\", line 662, in save_reduce\n    save(state)\n  File \"C:\\Users\\Personal\\Anaconda3\\lib\\pickle.py\", line 504, in save\n    f(self, obj) # Call unbound method with explicit self\n  File \"C:\\Users\\Personal\\Anaconda3\\lib\\pickle.py\", line 859, in save_dict\n    self._batch_setitems(obj.items())\n  File \"C:\\Users\\Personal\\Anaconda3\\lib\\pickle.py\", line 885, in _batch_setitems\n    save(v)\n  File \"C:\\Users\\Personal\\Anaconda3\\lib\\pickle.py\", line 549, in save\n    self.save_reduce(obj=obj, *rv)\n  File \"C:\\Users\\Personal\\Anaconda3\\lib\\pickle.py\", line 662, in save_reduce\n    save(state)\n  File \"C:\\Users\\Personal\\Anaconda3\\lib\\pickle.py\", line 504, in save\n    f(self, obj) # Call unbound method with explicit self\n  File \"C:\\Users\\Personal\\Anaconda3\\lib\\pickle.py\", line 859, in save_dict\n    self._batch_setitems(obj.items())\n  File \"C:\\Users\\Personal\\Anaconda3\\lib\\pickle.py\", line 890, in _batch_setitems\n    save(v)\n  File \"C:\\Users\\Personal\\Anaconda3\\lib\\pickle.py\", line 549, in save\n    self.save_reduce(obj=obj, *rv)\n  File \"C:\\Users\\Personal\\Anaconda3\\lib\\pickle.py\", line 662, in save_reduce\n    save(state)\n  File \"C:\\Users\\Personal\\Anaconda3\\lib\\pickle.py\", line 504, in save\n    f(self, obj) # Call unbound method with explicit self\n  File \"C:\\Users\\Personal\\Anaconda3\\lib\\pickle.py\", line 859, in save_dict\n    self._batch_setitems(obj.items())\n  File \"C:\\Users\\Personal\\Anaconda3\\lib\\pickle.py\", line 885, in _batch_setitems\n    save(v)\n  File \"C:\\Users\\Personal\\Anaconda3\\lib\\pickle.py\", line 504, in save\n    f(self, obj) # Call unbound method with explicit self\n  File \"C:\\Users\\Personal\\Anaconda3\\lib\\pickle.py\", line 819, in save_list\n    self._batch_appends(obj)\n  File \"C:\\Users\\Personal\\Anaconda3\\lib\\pickle.py\", line 846, in _batch_appends\n    save(tmp[0])\n  File \"C:\\Users\\Personal\\Anaconda3\\lib\\pickle.py\", line 504, in save\n    f(self, obj) # Call unbound method with explicit self\n  File \"C:\\Users\\Personal\\Anaconda3\\lib\\pickle.py\", line 774, in save_tuple\n    save(element)\n  File \"C:\\Users\\Personal\\Anaconda3\\lib\\pickle.py\", line 504, in save\n    f(self, obj) # Call unbound method with explicit self\n  File \"C:\\Users\\Personal\\Anaconda3\\lib\\pickle.py\", line 774, in save_tuple\n    save(element)\n  File \"C:\\Users\\Personal\\Anaconda3\\lib\\pickle.py\", line 549, in save\n    self.save_reduce(obj=obj, *rv)\n  File \"C:\\Users\\Personal\\Anaconda3\\lib\\pickle.py\", line 662, in save_reduce\n    save(state)\n  File \"C:\\Users\\Personal\\Anaconda3\\lib\\pickle.py\", line 504, in save\n    f(self, obj) # Call unbound method with explicit self\n  File \"C:\\Users\\Personal\\Anaconda3\\lib\\pickle.py\", line 859, in save_dict\n    self._batch_setitems(obj.items())\n  File \"C:\\Users\\Personal\\Anaconda3\\lib\\pickle.py\", line 885, in _batch_setitems\n    save(v)\n  File \"C:\\Users\\Personal\\Anaconda3\\lib\\pickle.py\", line 504, in save\n    f(self, obj) # Call unbound method with explicit self\n  File \"C:\\Users\\Personal\\Anaconda3\\lib\\site-packages\\joblib\\externals\\cloudpickle\\cloudpickle.py\", line 556, in save_function\n    return self.save_function_tuple(obj)\n  File \"C:\\Users\\Personal\\Anaconda3\\lib\\site-packages\\joblib\\externals\\cloudpickle\\cloudpickle.py\", line 758, in save_function_tuple\n    save(state)\n  File \"C:\\Users\\Personal\\Anaconda3\\lib\\pickle.py\", line 504, in save\n    f(self, obj) # Call unbound method with explicit self\n  File \"C:\\Users\\Personal\\Anaconda3\\lib\\pickle.py\", line 859, in save_dict\n    self._batch_setitems(obj.items())\n  File \"C:\\Users\\Personal\\Anaconda3\\lib\\pickle.py\", line 885, in _batch_setitems\n    save(v)\n  File \"C:\\Users\\Personal\\Anaconda3\\lib\\pickle.py\", line 504, in save\n    f(self, obj) # Call unbound method with explicit self\n  File \"C:\\Users\\Personal\\Anaconda3\\lib\\pickle.py\", line 859, in save_dict\n    self._batch_setitems(obj.items())\n  File \"C:\\Users\\Personal\\Anaconda3\\lib\\pickle.py\", line 890, in _batch_setitems\n    save(v)\n  File \"C:\\Users\\Personal\\Anaconda3\\lib\\pickle.py\", line 524, in save\n    rv = reduce(self.proto)\nTypeError: can't pickle _LazyLoader objects\n\"\"\"",
      "\nThe above exception was the direct cause of the following exception:\n",
      "\u001b[1;31mPicklingError\u001b[0m                             Traceback (most recent call last)",
      "\u001b[1;32m<ipython-input-129-76d45226c397>\u001b[0m in \u001b[0;36m<module>\u001b[1;34m\u001b[0m\n\u001b[0;32m      9\u001b[0m \u001b[0mparam_grid\u001b[0m \u001b[1;33m=\u001b[0m \u001b[0mdict\u001b[0m\u001b[1;33m(\u001b[0m\u001b[0moptimizer\u001b[0m\u001b[1;33m=\u001b[0m\u001b[0moptimizer\u001b[0m\u001b[1;33m)\u001b[0m\u001b[1;33m\u001b[0m\u001b[1;33m\u001b[0m\u001b[0m\n\u001b[0;32m     10\u001b[0m \u001b[0mgrid\u001b[0m \u001b[1;33m=\u001b[0m \u001b[0mGridSearchCV\u001b[0m\u001b[1;33m(\u001b[0m\u001b[0mestimator\u001b[0m\u001b[1;33m=\u001b[0m\u001b[0mmodel\u001b[0m\u001b[1;33m,\u001b[0m \u001b[0mparam_grid\u001b[0m\u001b[1;33m=\u001b[0m\u001b[0mparam_grid\u001b[0m\u001b[1;33m,\u001b[0m\u001b[0mscoring\u001b[0m \u001b[1;33m=\u001b[0m \u001b[0mscorers\u001b[0m\u001b[1;33m,\u001b[0m \u001b[0mn_jobs\u001b[0m\u001b[1;33m=\u001b[0m\u001b[1;33m-\u001b[0m\u001b[1;36m1\u001b[0m\u001b[1;33m,\u001b[0m \u001b[0mcv\u001b[0m\u001b[1;33m=\u001b[0m\u001b[1;36m3\u001b[0m\u001b[1;33m,\u001b[0m\u001b[0mrefit\u001b[0m \u001b[1;33m=\u001b[0m \u001b[1;32mFalse\u001b[0m\u001b[1;33m)\u001b[0m\u001b[1;33m\u001b[0m\u001b[1;33m\u001b[0m\u001b[0m\n\u001b[1;32m---> 11\u001b[1;33m \u001b[0mgrid_result\u001b[0m \u001b[1;33m=\u001b[0m \u001b[0mgrid\u001b[0m\u001b[1;33m.\u001b[0m\u001b[0mfit\u001b[0m\u001b[1;33m(\u001b[0m\u001b[0mx\u001b[0m\u001b[1;33m,\u001b[0m \u001b[0my\u001b[0m\u001b[1;33m)\u001b[0m\u001b[1;33m\u001b[0m\u001b[1;33m\u001b[0m\u001b[0m\n\u001b[0m\u001b[0;32m     12\u001b[0m \u001b[0mprint\u001b[0m\u001b[1;33m(\u001b[0m\u001b[1;34m\"Best: %f using %s\"\u001b[0m \u001b[1;33m%\u001b[0m \u001b[1;33m(\u001b[0m\u001b[0mgrid_result\u001b[0m\u001b[1;33m.\u001b[0m\u001b[0mbest_score_\u001b[0m\u001b[1;33m,\u001b[0m \u001b[0mgrid_result\u001b[0m\u001b[1;33m.\u001b[0m\u001b[0mbest_params_\u001b[0m\u001b[1;33m)\u001b[0m\u001b[1;33m)\u001b[0m\u001b[1;33m\u001b[0m\u001b[1;33m\u001b[0m\u001b[0m\n\u001b[0;32m     13\u001b[0m \u001b[0mmeans\u001b[0m \u001b[1;33m=\u001b[0m \u001b[0mgrid_result\u001b[0m\u001b[1;33m.\u001b[0m\u001b[0mcv_results_\u001b[0m\u001b[1;33m[\u001b[0m\u001b[1;34m'mean_test_score'\u001b[0m\u001b[1;33m]\u001b[0m\u001b[1;33m\u001b[0m\u001b[1;33m\u001b[0m\u001b[0m\n",
      "\u001b[1;32m~\\Anaconda3\\lib\\site-packages\\sklearn\\model_selection\\_search.py\u001b[0m in \u001b[0;36mfit\u001b[1;34m(self, X, y, groups, **fit_params)\u001b[0m\n\u001b[0;32m    708\u001b[0m                 \u001b[1;32mreturn\u001b[0m \u001b[0mresults\u001b[0m\u001b[1;33m\u001b[0m\u001b[1;33m\u001b[0m\u001b[0m\n\u001b[0;32m    709\u001b[0m \u001b[1;33m\u001b[0m\u001b[0m\n\u001b[1;32m--> 710\u001b[1;33m             \u001b[0mself\u001b[0m\u001b[1;33m.\u001b[0m\u001b[0m_run_search\u001b[0m\u001b[1;33m(\u001b[0m\u001b[0mevaluate_candidates\u001b[0m\u001b[1;33m)\u001b[0m\u001b[1;33m\u001b[0m\u001b[1;33m\u001b[0m\u001b[0m\n\u001b[0m\u001b[0;32m    711\u001b[0m \u001b[1;33m\u001b[0m\u001b[0m\n\u001b[0;32m    712\u001b[0m         \u001b[1;31m# For multi-metric evaluation, store the best_index_, best_params_ and\u001b[0m\u001b[1;33m\u001b[0m\u001b[1;33m\u001b[0m\u001b[1;33m\u001b[0m\u001b[0m\n",
      "\u001b[1;32m~\\Anaconda3\\lib\\site-packages\\sklearn\\model_selection\\_search.py\u001b[0m in \u001b[0;36m_run_search\u001b[1;34m(self, evaluate_candidates)\u001b[0m\n\u001b[0;32m   1149\u001b[0m     \u001b[1;32mdef\u001b[0m \u001b[0m_run_search\u001b[0m\u001b[1;33m(\u001b[0m\u001b[0mself\u001b[0m\u001b[1;33m,\u001b[0m \u001b[0mevaluate_candidates\u001b[0m\u001b[1;33m)\u001b[0m\u001b[1;33m:\u001b[0m\u001b[1;33m\u001b[0m\u001b[1;33m\u001b[0m\u001b[0m\n\u001b[0;32m   1150\u001b[0m         \u001b[1;34m\"\"\"Search all candidates in param_grid\"\"\"\u001b[0m\u001b[1;33m\u001b[0m\u001b[1;33m\u001b[0m\u001b[0m\n\u001b[1;32m-> 1151\u001b[1;33m         \u001b[0mevaluate_candidates\u001b[0m\u001b[1;33m(\u001b[0m\u001b[0mParameterGrid\u001b[0m\u001b[1;33m(\u001b[0m\u001b[0mself\u001b[0m\u001b[1;33m.\u001b[0m\u001b[0mparam_grid\u001b[0m\u001b[1;33m)\u001b[0m\u001b[1;33m)\u001b[0m\u001b[1;33m\u001b[0m\u001b[1;33m\u001b[0m\u001b[0m\n\u001b[0m\u001b[0;32m   1152\u001b[0m \u001b[1;33m\u001b[0m\u001b[0m\n\u001b[0;32m   1153\u001b[0m \u001b[1;33m\u001b[0m\u001b[0m\n",
      "\u001b[1;32m~\\Anaconda3\\lib\\site-packages\\sklearn\\model_selection\\_search.py\u001b[0m in \u001b[0;36mevaluate_candidates\u001b[1;34m(candidate_params)\u001b[0m\n\u001b[0;32m    687\u001b[0m                                \u001b[1;32mfor\u001b[0m \u001b[0mparameters\u001b[0m\u001b[1;33m,\u001b[0m \u001b[1;33m(\u001b[0m\u001b[0mtrain\u001b[0m\u001b[1;33m,\u001b[0m \u001b[0mtest\u001b[0m\u001b[1;33m)\u001b[0m\u001b[1;33m\u001b[0m\u001b[1;33m\u001b[0m\u001b[0m\n\u001b[0;32m    688\u001b[0m                                in product(candidate_params,\n\u001b[1;32m--> 689\u001b[1;33m                                           cv.split(X, y, groups)))\n\u001b[0m\u001b[0;32m    690\u001b[0m \u001b[1;33m\u001b[0m\u001b[0m\n\u001b[0;32m    691\u001b[0m                 \u001b[1;32mif\u001b[0m \u001b[0mlen\u001b[0m\u001b[1;33m(\u001b[0m\u001b[0mout\u001b[0m\u001b[1;33m)\u001b[0m \u001b[1;33m<\u001b[0m \u001b[1;36m1\u001b[0m\u001b[1;33m:\u001b[0m\u001b[1;33m\u001b[0m\u001b[1;33m\u001b[0m\u001b[0m\n",
      "\u001b[1;32m~\\Anaconda3\\lib\\site-packages\\joblib\\parallel.py\u001b[0m in \u001b[0;36m__call__\u001b[1;34m(self, iterable)\u001b[0m\n\u001b[0;32m   1015\u001b[0m \u001b[1;33m\u001b[0m\u001b[0m\n\u001b[0;32m   1016\u001b[0m             \u001b[1;32mwith\u001b[0m \u001b[0mself\u001b[0m\u001b[1;33m.\u001b[0m\u001b[0m_backend\u001b[0m\u001b[1;33m.\u001b[0m\u001b[0mretrieval_context\u001b[0m\u001b[1;33m(\u001b[0m\u001b[1;33m)\u001b[0m\u001b[1;33m:\u001b[0m\u001b[1;33m\u001b[0m\u001b[1;33m\u001b[0m\u001b[0m\n\u001b[1;32m-> 1017\u001b[1;33m                 \u001b[0mself\u001b[0m\u001b[1;33m.\u001b[0m\u001b[0mretrieve\u001b[0m\u001b[1;33m(\u001b[0m\u001b[1;33m)\u001b[0m\u001b[1;33m\u001b[0m\u001b[1;33m\u001b[0m\u001b[0m\n\u001b[0m\u001b[0;32m   1018\u001b[0m             \u001b[1;31m# Make sure that we get a last message telling us we are done\u001b[0m\u001b[1;33m\u001b[0m\u001b[1;33m\u001b[0m\u001b[1;33m\u001b[0m\u001b[0m\n\u001b[0;32m   1019\u001b[0m             \u001b[0melapsed_time\u001b[0m \u001b[1;33m=\u001b[0m \u001b[0mtime\u001b[0m\u001b[1;33m.\u001b[0m\u001b[0mtime\u001b[0m\u001b[1;33m(\u001b[0m\u001b[1;33m)\u001b[0m \u001b[1;33m-\u001b[0m \u001b[0mself\u001b[0m\u001b[1;33m.\u001b[0m\u001b[0m_start_time\u001b[0m\u001b[1;33m\u001b[0m\u001b[1;33m\u001b[0m\u001b[0m\n",
      "\u001b[1;32m~\\Anaconda3\\lib\\site-packages\\joblib\\parallel.py\u001b[0m in \u001b[0;36mretrieve\u001b[1;34m(self)\u001b[0m\n\u001b[0;32m    907\u001b[0m             \u001b[1;32mtry\u001b[0m\u001b[1;33m:\u001b[0m\u001b[1;33m\u001b[0m\u001b[1;33m\u001b[0m\u001b[0m\n\u001b[0;32m    908\u001b[0m                 \u001b[1;32mif\u001b[0m \u001b[0mgetattr\u001b[0m\u001b[1;33m(\u001b[0m\u001b[0mself\u001b[0m\u001b[1;33m.\u001b[0m\u001b[0m_backend\u001b[0m\u001b[1;33m,\u001b[0m \u001b[1;34m'supports_timeout'\u001b[0m\u001b[1;33m,\u001b[0m \u001b[1;32mFalse\u001b[0m\u001b[1;33m)\u001b[0m\u001b[1;33m:\u001b[0m\u001b[1;33m\u001b[0m\u001b[1;33m\u001b[0m\u001b[0m\n\u001b[1;32m--> 909\u001b[1;33m                     \u001b[0mself\u001b[0m\u001b[1;33m.\u001b[0m\u001b[0m_output\u001b[0m\u001b[1;33m.\u001b[0m\u001b[0mextend\u001b[0m\u001b[1;33m(\u001b[0m\u001b[0mjob\u001b[0m\u001b[1;33m.\u001b[0m\u001b[0mget\u001b[0m\u001b[1;33m(\u001b[0m\u001b[0mtimeout\u001b[0m\u001b[1;33m=\u001b[0m\u001b[0mself\u001b[0m\u001b[1;33m.\u001b[0m\u001b[0mtimeout\u001b[0m\u001b[1;33m)\u001b[0m\u001b[1;33m)\u001b[0m\u001b[1;33m\u001b[0m\u001b[1;33m\u001b[0m\u001b[0m\n\u001b[0m\u001b[0;32m    910\u001b[0m                 \u001b[1;32melse\u001b[0m\u001b[1;33m:\u001b[0m\u001b[1;33m\u001b[0m\u001b[1;33m\u001b[0m\u001b[0m\n\u001b[0;32m    911\u001b[0m                     \u001b[0mself\u001b[0m\u001b[1;33m.\u001b[0m\u001b[0m_output\u001b[0m\u001b[1;33m.\u001b[0m\u001b[0mextend\u001b[0m\u001b[1;33m(\u001b[0m\u001b[0mjob\u001b[0m\u001b[1;33m.\u001b[0m\u001b[0mget\u001b[0m\u001b[1;33m(\u001b[0m\u001b[1;33m)\u001b[0m\u001b[1;33m)\u001b[0m\u001b[1;33m\u001b[0m\u001b[1;33m\u001b[0m\u001b[0m\n",
      "\u001b[1;32m~\\Anaconda3\\lib\\site-packages\\joblib\\_parallel_backends.py\u001b[0m in \u001b[0;36mwrap_future_result\u001b[1;34m(future, timeout)\u001b[0m\n\u001b[0;32m    560\u001b[0m         AsyncResults.get from multiprocessing.\"\"\"\n\u001b[0;32m    561\u001b[0m         \u001b[1;32mtry\u001b[0m\u001b[1;33m:\u001b[0m\u001b[1;33m\u001b[0m\u001b[1;33m\u001b[0m\u001b[0m\n\u001b[1;32m--> 562\u001b[1;33m             \u001b[1;32mreturn\u001b[0m \u001b[0mfuture\u001b[0m\u001b[1;33m.\u001b[0m\u001b[0mresult\u001b[0m\u001b[1;33m(\u001b[0m\u001b[0mtimeout\u001b[0m\u001b[1;33m=\u001b[0m\u001b[0mtimeout\u001b[0m\u001b[1;33m)\u001b[0m\u001b[1;33m\u001b[0m\u001b[1;33m\u001b[0m\u001b[0m\n\u001b[0m\u001b[0;32m    563\u001b[0m         \u001b[1;32mexcept\u001b[0m \u001b[0mLokyTimeoutError\u001b[0m\u001b[1;33m:\u001b[0m\u001b[1;33m\u001b[0m\u001b[1;33m\u001b[0m\u001b[0m\n\u001b[0;32m    564\u001b[0m             \u001b[1;32mraise\u001b[0m \u001b[0mTimeoutError\u001b[0m\u001b[1;33m(\u001b[0m\u001b[1;33m)\u001b[0m\u001b[1;33m\u001b[0m\u001b[1;33m\u001b[0m\u001b[0m\n",
      "\u001b[1;32m~\\Anaconda3\\lib\\concurrent\\futures\\_base.py\u001b[0m in \u001b[0;36mresult\u001b[1;34m(self, timeout)\u001b[0m\n\u001b[0;32m    433\u001b[0m                 \u001b[1;32mraise\u001b[0m \u001b[0mCancelledError\u001b[0m\u001b[1;33m(\u001b[0m\u001b[1;33m)\u001b[0m\u001b[1;33m\u001b[0m\u001b[1;33m\u001b[0m\u001b[0m\n\u001b[0;32m    434\u001b[0m             \u001b[1;32melif\u001b[0m \u001b[0mself\u001b[0m\u001b[1;33m.\u001b[0m\u001b[0m_state\u001b[0m \u001b[1;33m==\u001b[0m \u001b[0mFINISHED\u001b[0m\u001b[1;33m:\u001b[0m\u001b[1;33m\u001b[0m\u001b[1;33m\u001b[0m\u001b[0m\n\u001b[1;32m--> 435\u001b[1;33m                 \u001b[1;32mreturn\u001b[0m \u001b[0mself\u001b[0m\u001b[1;33m.\u001b[0m\u001b[0m__get_result\u001b[0m\u001b[1;33m(\u001b[0m\u001b[1;33m)\u001b[0m\u001b[1;33m\u001b[0m\u001b[1;33m\u001b[0m\u001b[0m\n\u001b[0m\u001b[0;32m    436\u001b[0m             \u001b[1;32melse\u001b[0m\u001b[1;33m:\u001b[0m\u001b[1;33m\u001b[0m\u001b[1;33m\u001b[0m\u001b[0m\n\u001b[0;32m    437\u001b[0m                 \u001b[1;32mraise\u001b[0m \u001b[0mTimeoutError\u001b[0m\u001b[1;33m(\u001b[0m\u001b[1;33m)\u001b[0m\u001b[1;33m\u001b[0m\u001b[1;33m\u001b[0m\u001b[0m\n",
      "\u001b[1;32m~\\Anaconda3\\lib\\concurrent\\futures\\_base.py\u001b[0m in \u001b[0;36m__get_result\u001b[1;34m(self)\u001b[0m\n\u001b[0;32m    382\u001b[0m     \u001b[1;32mdef\u001b[0m \u001b[0m__get_result\u001b[0m\u001b[1;33m(\u001b[0m\u001b[0mself\u001b[0m\u001b[1;33m)\u001b[0m\u001b[1;33m:\u001b[0m\u001b[1;33m\u001b[0m\u001b[1;33m\u001b[0m\u001b[0m\n\u001b[0;32m    383\u001b[0m         \u001b[1;32mif\u001b[0m \u001b[0mself\u001b[0m\u001b[1;33m.\u001b[0m\u001b[0m_exception\u001b[0m\u001b[1;33m:\u001b[0m\u001b[1;33m\u001b[0m\u001b[1;33m\u001b[0m\u001b[0m\n\u001b[1;32m--> 384\u001b[1;33m             \u001b[1;32mraise\u001b[0m \u001b[0mself\u001b[0m\u001b[1;33m.\u001b[0m\u001b[0m_exception\u001b[0m\u001b[1;33m\u001b[0m\u001b[1;33m\u001b[0m\u001b[0m\n\u001b[0m\u001b[0;32m    385\u001b[0m         \u001b[1;32melse\u001b[0m\u001b[1;33m:\u001b[0m\u001b[1;33m\u001b[0m\u001b[1;33m\u001b[0m\u001b[0m\n\u001b[0;32m    386\u001b[0m             \u001b[1;32mreturn\u001b[0m \u001b[0mself\u001b[0m\u001b[1;33m.\u001b[0m\u001b[0m_result\u001b[0m\u001b[1;33m\u001b[0m\u001b[1;33m\u001b[0m\u001b[0m\n",
      "\u001b[1;31mPicklingError\u001b[0m: Could not pickle the task to send it to the workers."
     ]
    }
   ],
   "source": [
    "from tensorflow.keras.wrappers.scikit_learn import KerasClassifier\n",
    "model = KerasClassifier(build_fn=create_model, epochs=100, batch_size=10, verbose=0)\n",
    "optimizer = ['SGD', 'RMSprop', 'Adagrad', 'Adadelta', 'Adam', 'Adamax', 'Nadam']\n",
    "scorers = {\n",
    "        'precision_score': make_scorer(precision_score),\n",
    "        'recall_score': make_scorer(recall_score),\n",
    "        'accuracy_score': make_scorer(accuracy_score)\n",
    "        }\n",
    "param_grid = dict(optimizer=optimizer)\n",
    "grid = GridSearchCV(estimator=model, param_grid=param_grid,scoring = scorers, n_jobs=-1, cv=3,refit = False)\n",
    "grid_result = grid.fit(x, y)\n",
    "print(\"Best: %f using %s\" % (grid_result.best_score_, grid_result.best_params_))\n",
    "means = grid_result.cv_results_['mean_test_score']\n",
    "stds = grid_result.cv_results_['std_test_score']\n",
    "params = grid_result.cv_results_['params']\n",
    "for mean, stdev, param in zip(means, stds, params):\n",
    "    print(\"%f (%f) with: %r\" % (mean, stdev, param))"
   ]
  },
  {
   "cell_type": "code",
   "execution_count": null,
   "metadata": {},
   "outputs": [],
   "source": [
    "from keras.wrappers.scikit_learn import *"
   ]
  },
  {
   "cell_type": "code",
   "execution_count": null,
   "metadata": {},
   "outputs": [],
   "source": []
  }
 ],
 "metadata": {
  "kernelspec": {
   "display_name": "Python 3",
   "language": "python",
   "name": "python3"
  },
  "language_info": {
   "codemirror_mode": {
    "name": "ipython",
    "version": 3
   },
   "file_extension": ".py",
   "mimetype": "text/x-python",
   "name": "python",
   "nbconvert_exporter": "python",
   "pygments_lexer": "ipython3",
   "version": "3.7.4"
  }
 },
 "nbformat": 4,
 "nbformat_minor": 4
}
